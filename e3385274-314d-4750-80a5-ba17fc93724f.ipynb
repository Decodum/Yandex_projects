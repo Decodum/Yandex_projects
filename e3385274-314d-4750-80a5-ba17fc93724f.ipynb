{
 "cells": [
  {
   "cell_type": "markdown",
   "metadata": {
    "id": "juWeuH9xEPl5"
   },
   "source": []
  },
  {
   "cell_type": "markdown",
   "metadata": {
    "id": "trgNSOAEAiYb"
   },
   "source": [
    "<div style=\"border:solid Chocolate 2px; padding: 40px\">\n",
    "\n",
    "<b>Привет, Юлия!👋</b>\n",
    "\n",
    "Меня зовут Зуева Юлия, можно просто Юля 😏 Я буду ревьюером твоего проекта. Предлагаю обращаться на \"ты\", но если это неудобно, пожалуйста, скажи об этом!\n",
    "    \n",
    "Моя основная цель - помочь тебе стать компетентным Data Scientist'ом: вместе преодолеть трудности и еще больше развить твои сильные навыки 💪 В твоей работе я оставила комментарии, которые должны в этом помочь. Для твоего удобства комментарии раскрашены разными цветами: \n",
    "\n",
    "<br/>\n",
    "\n",
    "<div class=\"alert alert-success\">\n",
    "<h2> Комментарий ревьюера <a class=\"tocSkip\"> </h2>\n",
    "\n",
    "<b>Все отлично!👍:</b> В случае, если решение на отдельном шаге является полностью правильным, или если я посчитаю нужным тебя за что-то похвалить. На такие решения можно опираться в будущих проектах.\n",
    "</div>\n",
    "\n",
    "<br/>\n",
    "\n",
    "<div class=\"alert alert-warning\">\n",
    "    <h2> Комментарий ревьюера <a class=\"tocSkip\"> </h2>\n",
    "    \n",
    "<b>Некоторые замечания и рекомендации💡:</b> В случае, когда решение на отдельном шаге станет еще лучше, если внести небольшие коррективы. Ты можешь учесть эти комментарии при выполнении будущих заданий или доработать проект сейчас (однако это не обязательно).\n",
    "</div>\n",
    "\n",
    "\n",
    "<br/>\n",
    "<div class=\"alert alert-block alert-danger\">\n",
    "<h2> Комментарий ревьюера <a class=\"tocSkip\"></h2>\n",
    "\n",
    "    \n",
    "<b>На доработку🤔:</b>\n",
    " В случае, когда решение на отдельном шаге требует существенной переработки и внесения правок. Напоминаю, что проект не может быть принят с первого раза, если ревью содержит комментарии, рекомендующие доработать шаги.\n",
    "</div>\n",
    "    \n",
    "\n",
    "\n",
    "Чтобы наша с тобой работа была еще эффективнее, ты точно так же можешь оставлять комментарии и задавать мне вопросы. Для таких случаев, пожалуйста, выбери собственное оформление комментариев, которое будет отличаться от моего, чтобы не создавалась путаница. По этой же причине попрошу тебя не удалять и не изменять мои комментарии. Все это позволит лучше ориентироваться в нашем с тобой диалоге, а повторную проверку (в случае ее необходимости) выполнять оперативнее 🚀\n",
    "\n",
    "Не спеши расстраиваться, если что-то не удалось с первого раза. Вместе мы обязательно разберемся со всеми трудностями! 🤓"
   ]
  },
  {
   "cell_type": "markdown",
   "metadata": {
    "id": "Euq2c3sZBBLw"
   },
   "source": [
    "<div class=\"alert alert-info\">Привет! спасибо за проверку, я буду выделять свои комментарии таким голубым цветом</div> "
   ]
  },
  {
   "cell_type": "markdown",
   "metadata": {
    "id": "jx2qWmU4Ycu_"
   },
   "source": [
    "<div class=\"alert alert-success\">\n",
    "<b>Комментарий ревьюера:</b> Класс! Давай посмотрим, что получилось :)"
   ]
  },
  {
   "cell_type": "markdown",
   "metadata": {
    "id": "b5lt8Tkrnzvg",
    "toc": true
   },
   "source": [
    "<h1>Содержание<span class=\"tocSkip\"></span></h1>\n",
    "<div class=\"toc\"><ul class=\"toc-item\"><li><span><a href=\"#Загрузка-данных\" data-toc-modified-id=\"Загрузка-данных-1\"><span class=\"toc-item-num\">1&nbsp;&nbsp;</span>Загрузка данных</a></span></li><li><span><a href=\"#Предобработка-данных\" data-toc-modified-id=\"Предобработка-данных-2\"><span class=\"toc-item-num\">2&nbsp;&nbsp;</span>Предобработка данных</a></span></li><li><span><a href=\"#Ответ-на-вопрос\" data-toc-modified-id=\"Ответ-на-вопрос-3\"><span class=\"toc-item-num\">3&nbsp;&nbsp;</span>Ответ на вопрос</a></span></li><li><span><a href=\"#Эксперимент-с-простой-матрицей\" data-toc-modified-id=\"Эксперимент-с-простой-матрицей-4\"><span class=\"toc-item-num\">4&nbsp;&nbsp;</span>Эксперимент с простой матрицей</a></span><ul class=\"toc-item\"><li><span><a href=\"#Доказательство-с-помощью-формул\" data-toc-modified-id=\"Доказательство-с-помощью-формул-4.1\"><span class=\"toc-item-num\">4.1&nbsp;&nbsp;</span>Доказательство с помощью формул</a></span></li></ul></li><li><span><a href=\"#Доказательство\" data-toc-modified-id=\"Доказательство-5\"><span class=\"toc-item-num\">5&nbsp;&nbsp;</span>Доказательство</a></span></li><li><span><a href=\"#Алгоритм-преобразования\" data-toc-modified-id=\"Алгоритм-преобразования-6\"><span class=\"toc-item-num\">6&nbsp;&nbsp;</span>Алгоритм преобразования</a></span></li><li><span><a href=\"#Проверка-алгоритма\" data-toc-modified-id=\"Проверка-алгоритма-7\"><span class=\"toc-item-num\">7&nbsp;&nbsp;</span>Проверка алгоритма</a></span></li><li><span><a href=\"#Чек-лист-проверки\" data-toc-modified-id=\"Чек-лист-проверки-8\"><span class=\"toc-item-num\">8&nbsp;&nbsp;</span>Чек-лист проверки</a></span></li></ul></div>"
   ]
  },
  {
   "cell_type": "code",
   "execution_count": 1,
   "metadata": {
    "colab": {
     "base_uri": "https://localhost:8080/"
    },
    "id": "nHNDwSLln5ux",
    "outputId": "154d1be2-52ea-483e-b7ba-fae97da32fe9"
   },
   "outputs": [
    {
     "name": "stdout",
     "output_type": "stream",
     "text": [
      "Mounted at /content/drive\n"
     ]
    }
   ],
   "source": [
    "#from google.colab import drive\n",
    "#drive.mount('/content/drive')"
   ]
  },
  {
   "cell_type": "markdown",
   "metadata": {
    "id": "vxEDawSJnzvj"
   },
   "source": [
    "# Описание проекта  \"Защита персональных данных клиентов\""
   ]
  },
  {
   "cell_type": "markdown",
   "metadata": {
    "id": "J3A6J6lbnzvk"
   },
   "source": [
    "Вам нужно защитить данные клиентов страховой компании «Хоть потоп». Разработайте такой метод преобразования данных, чтобы по ним было сложно восстановить персональную информацию. Обоснуйте корректность его работы.\n",
    "\n",
    "Нужно защитить данные, чтобы при преобразовании качество моделей машинного обучения не ухудшилось. Подбирать наилучшую модель не требуется. В качестве модели мы будем использовать - Линейную регрессию"
   ]
  },
  {
   "cell_type": "markdown",
   "metadata": {
    "id": "mwNhGxgInzvl"
   },
   "source": [
    "## Загрузка данных"
   ]
  },
  {
   "cell_type": "code",
   "execution_count": 2,
   "metadata": {
    "id": "eLaf1cAqn-wT"
   },
   "outputs": [],
   "source": [
    "import pandas as pd\n",
    "import numpy as np\n",
    "import seaborn as sns\n",
    "import matplotlib.pyplot as plt\n",
    "\n",
    "from sklearn.linear_model import LinearRegression\n",
    "from sklearn.utils import shuffle\n",
    "from sklearn.metrics import mean_absolute_error, accuracy_score\n",
    "from sklearn.model_selection import train_test_split, cross_val_score\n",
    "from sklearn.preprocessing import StandardScaler\n",
    "from sklearn.metrics import r2_score"
   ]
  },
  {
   "cell_type": "markdown",
   "metadata": {
    "id": "ExS_AE6YAiYg"
   },
   "source": [
    "<div class=\"alert alert-warning\">\n",
    "    <h2> Комментарий ревьюера <a class=\"tocSkip\"> </h2>\n",
    "    \n",
    "<b>Некоторые замечания и рекомендации💡:</b> \n",
    "        \n",
    "Круто, что все необходимые импорты размещаешь в одной ячейке в начале проекта! Чтобы даже эта самая простая часть проекта выглядела еще более профессионально, можно попробовать начать соблюдать стандарты оформления PEP-8 (почитать можно тут https://pythonworld.ru/osnovy/pep-8-rukovodstvo-po-napisaniyu-koda-na-python.html, там не только про импорты). В данном случае, например, можно разбить импорты на функциональные группы, отделив их друг от друга пустой строкой, каждую группу можно также отсортировать в алфавитном порядке."
   ]
  },
  {
   "cell_type": "markdown",
   "metadata": {
    "id": "4-i23iuAA4cV"
   },
   "source": [
    "<div class=\"alert alert-info\">Отделила пустой строкой</div> "
   ]
  },
  {
   "cell_type": "markdown",
   "metadata": {
    "id": "ghgZ5D99YcvF"
   },
   "source": [
    "<div class=\"alert alert-success\">\n",
    "<h2> Комментарий ревьюера 2<a class=\"tocSkip\"> </h2>\n",
    "\n",
    "<b>Отличная работа!👍:</b> \n",
    "    \n",
    "Супер! Можно еще отсортировать по алфавиту в каждой группе."
   ]
  },
  {
   "cell_type": "code",
   "execution_count": 3,
   "metadata": {
    "id": "bgxPGmDxnzvm"
   },
   "outputs": [],
   "source": [
    "try:\n",
    "  data = pd.read_csv('/content/drive/MyDrive/Colab Notebooks/Ml/insurance.csv')\n",
    "except:\n",
    "  data = pd.read_csv('/datasets/insurance.csv')"
   ]
  },
  {
   "cell_type": "code",
   "execution_count": 4,
   "metadata": {
    "colab": {
     "base_uri": "https://localhost:8080/"
    },
    "id": "THkGfRm7AGQu",
    "outputId": "d4a32be1-353c-4f03-fc61-bd801d9fee90"
   },
   "outputs": [
    {
     "name": "stdout",
     "output_type": "stream",
     "text": [
      "Drive already mounted at /content/drive; to attempt to forcibly remount, call drive.mount(\"/content/drive\", force_remount=True).\n"
     ]
    }
   ],
   "source": [
    "from google.colab import drive\n",
    "drive.mount('/content/drive')"
   ]
  },
  {
   "cell_type": "markdown",
   "metadata": {
    "id": "wKT618ktgNgY"
   },
   "source": [
    "## Предобработка данных"
   ]
  },
  {
   "cell_type": "code",
   "execution_count": 5,
   "metadata": {
    "colab": {
     "base_uri": "https://localhost:8080/",
     "height": 420
    },
    "id": "eJRLVbJFoe28",
    "outputId": "29cf3818-d9dc-4327-8cc0-2c9c3f80b75e"
   },
   "outputs": [
    {
     "data": {
      "text/html": [
       "\n",
       "  <div id=\"df-29d5d25f-bb25-41c9-b58a-c76fff9bafe7\">\n",
       "    <div class=\"colab-df-container\">\n",
       "      <div>\n",
       "<style scoped>\n",
       "    .dataframe tbody tr th:only-of-type {\n",
       "        vertical-align: middle;\n",
       "    }\n",
       "\n",
       "    .dataframe tbody tr th {\n",
       "        vertical-align: top;\n",
       "    }\n",
       "\n",
       "    .dataframe thead th {\n",
       "        text-align: right;\n",
       "    }\n",
       "</style>\n",
       "<table border=\"1\" class=\"dataframe\">\n",
       "  <thead>\n",
       "    <tr style=\"text-align: right;\">\n",
       "      <th></th>\n",
       "      <th>Пол</th>\n",
       "      <th>Возраст</th>\n",
       "      <th>Зарплата</th>\n",
       "      <th>Члены семьи</th>\n",
       "      <th>Страховые выплаты</th>\n",
       "    </tr>\n",
       "  </thead>\n",
       "  <tbody>\n",
       "    <tr>\n",
       "      <th>0</th>\n",
       "      <td>1</td>\n",
       "      <td>41.0</td>\n",
       "      <td>49600.0</td>\n",
       "      <td>1</td>\n",
       "      <td>0</td>\n",
       "    </tr>\n",
       "    <tr>\n",
       "      <th>1</th>\n",
       "      <td>0</td>\n",
       "      <td>46.0</td>\n",
       "      <td>38000.0</td>\n",
       "      <td>1</td>\n",
       "      <td>1</td>\n",
       "    </tr>\n",
       "    <tr>\n",
       "      <th>2</th>\n",
       "      <td>0</td>\n",
       "      <td>29.0</td>\n",
       "      <td>21000.0</td>\n",
       "      <td>0</td>\n",
       "      <td>0</td>\n",
       "    </tr>\n",
       "    <tr>\n",
       "      <th>3</th>\n",
       "      <td>0</td>\n",
       "      <td>21.0</td>\n",
       "      <td>41700.0</td>\n",
       "      <td>2</td>\n",
       "      <td>0</td>\n",
       "    </tr>\n",
       "    <tr>\n",
       "      <th>4</th>\n",
       "      <td>1</td>\n",
       "      <td>28.0</td>\n",
       "      <td>26100.0</td>\n",
       "      <td>0</td>\n",
       "      <td>0</td>\n",
       "    </tr>\n",
       "  </tbody>\n",
       "</table>\n",
       "</div>\n",
       "      <button class=\"colab-df-convert\" onclick=\"convertToInteractive('df-29d5d25f-bb25-41c9-b58a-c76fff9bafe7')\"\n",
       "              title=\"Convert this dataframe to an interactive table.\"\n",
       "              style=\"display:none;\">\n",
       "        \n",
       "  <svg xmlns=\"http://www.w3.org/2000/svg\" height=\"24px\"viewBox=\"0 0 24 24\"\n",
       "       width=\"24px\">\n",
       "    <path d=\"M0 0h24v24H0V0z\" fill=\"none\"/>\n",
       "    <path d=\"M18.56 5.44l.94 2.06.94-2.06 2.06-.94-2.06-.94-.94-2.06-.94 2.06-2.06.94zm-11 1L8.5 8.5l.94-2.06 2.06-.94-2.06-.94L8.5 2.5l-.94 2.06-2.06.94zm10 10l.94 2.06.94-2.06 2.06-.94-2.06-.94-.94-2.06-.94 2.06-2.06.94z\"/><path d=\"M17.41 7.96l-1.37-1.37c-.4-.4-.92-.59-1.43-.59-.52 0-1.04.2-1.43.59L10.3 9.45l-7.72 7.72c-.78.78-.78 2.05 0 2.83L4 21.41c.39.39.9.59 1.41.59.51 0 1.02-.2 1.41-.59l7.78-7.78 2.81-2.81c.8-.78.8-2.07 0-2.86zM5.41 20L4 18.59l7.72-7.72 1.47 1.35L5.41 20z\"/>\n",
       "  </svg>\n",
       "      </button>\n",
       "      \n",
       "  <style>\n",
       "    .colab-df-container {\n",
       "      display:flex;\n",
       "      flex-wrap:wrap;\n",
       "      gap: 12px;\n",
       "    }\n",
       "\n",
       "    .colab-df-convert {\n",
       "      background-color: #E8F0FE;\n",
       "      border: none;\n",
       "      border-radius: 50%;\n",
       "      cursor: pointer;\n",
       "      display: none;\n",
       "      fill: #1967D2;\n",
       "      height: 32px;\n",
       "      padding: 0 0 0 0;\n",
       "      width: 32px;\n",
       "    }\n",
       "\n",
       "    .colab-df-convert:hover {\n",
       "      background-color: #E2EBFA;\n",
       "      box-shadow: 0px 1px 2px rgba(60, 64, 67, 0.3), 0px 1px 3px 1px rgba(60, 64, 67, 0.15);\n",
       "      fill: #174EA6;\n",
       "    }\n",
       "\n",
       "    [theme=dark] .colab-df-convert {\n",
       "      background-color: #3B4455;\n",
       "      fill: #D2E3FC;\n",
       "    }\n",
       "\n",
       "    [theme=dark] .colab-df-convert:hover {\n",
       "      background-color: #434B5C;\n",
       "      box-shadow: 0px 1px 3px 1px rgba(0, 0, 0, 0.15);\n",
       "      filter: drop-shadow(0px 1px 2px rgba(0, 0, 0, 0.3));\n",
       "      fill: #FFFFFF;\n",
       "    }\n",
       "  </style>\n",
       "\n",
       "      <script>\n",
       "        const buttonEl =\n",
       "          document.querySelector('#df-29d5d25f-bb25-41c9-b58a-c76fff9bafe7 button.colab-df-convert');\n",
       "        buttonEl.style.display =\n",
       "          google.colab.kernel.accessAllowed ? 'block' : 'none';\n",
       "\n",
       "        async function convertToInteractive(key) {\n",
       "          const element = document.querySelector('#df-29d5d25f-bb25-41c9-b58a-c76fff9bafe7');\n",
       "          const dataTable =\n",
       "            await google.colab.kernel.invokeFunction('convertToInteractive',\n",
       "                                                     [key], {});\n",
       "          if (!dataTable) return;\n",
       "\n",
       "          const docLinkHtml = 'Like what you see? Visit the ' +\n",
       "            '<a target=\"_blank\" href=https://colab.research.google.com/notebooks/data_table.ipynb>data table notebook</a>'\n",
       "            + ' to learn more about interactive tables.';\n",
       "          element.innerHTML = '';\n",
       "          dataTable['output_type'] = 'display_data';\n",
       "          await google.colab.output.renderOutput(dataTable, element);\n",
       "          const docLink = document.createElement('div');\n",
       "          docLink.innerHTML = docLinkHtml;\n",
       "          element.appendChild(docLink);\n",
       "        }\n",
       "      </script>\n",
       "    </div>\n",
       "  </div>\n",
       "  "
      ],
      "text/plain": [
       "   Пол  Возраст  Зарплата  Члены семьи  Страховые выплаты\n",
       "0    1     41.0   49600.0            1                  0\n",
       "1    0     46.0   38000.0            1                  1\n",
       "2    0     29.0   21000.0            0                  0\n",
       "3    0     21.0   41700.0            2                  0\n",
       "4    1     28.0   26100.0            0                  0"
      ]
     },
     "metadata": {},
     "output_type": "display_data"
    },
    {
     "name": "stdout",
     "output_type": "stream",
     "text": [
      "<class 'pandas.core.frame.DataFrame'>\n",
      "RangeIndex: 5000 entries, 0 to 4999\n",
      "Data columns (total 5 columns):\n",
      " #   Column             Non-Null Count  Dtype  \n",
      "---  ------             --------------  -----  \n",
      " 0   Пол                5000 non-null   int64  \n",
      " 1   Возраст            5000 non-null   float64\n",
      " 2   Зарплата           5000 non-null   float64\n",
      " 3   Члены семьи        5000 non-null   int64  \n",
      " 4   Страховые выплаты  5000 non-null   int64  \n",
      "dtypes: float64(2), int64(3)\n",
      "memory usage: 195.4 KB\n"
     ]
    }
   ],
   "source": [
    "display(data.head(5))\n",
    "data.info()"
   ]
  },
  {
   "cell_type": "code",
   "execution_count": 6,
   "metadata": {
    "colab": {
     "base_uri": "https://localhost:8080/",
     "height": 204
    },
    "id": "Gt7ffrfs5fb0",
    "outputId": "12329ff8-d3f7-46e6-8b56-782da199872e"
   },
   "outputs": [
    {
     "data": {
      "text/html": [
       "\n",
       "  <div id=\"df-cc887b1a-b1ca-4fb5-a749-28cf3d31c0ab\">\n",
       "    <div class=\"colab-df-container\">\n",
       "      <div>\n",
       "<style scoped>\n",
       "    .dataframe tbody tr th:only-of-type {\n",
       "        vertical-align: middle;\n",
       "    }\n",
       "\n",
       "    .dataframe tbody tr th {\n",
       "        vertical-align: top;\n",
       "    }\n",
       "\n",
       "    .dataframe thead th {\n",
       "        text-align: right;\n",
       "    }\n",
       "</style>\n",
       "<table border=\"1\" class=\"dataframe\">\n",
       "  <thead>\n",
       "    <tr style=\"text-align: right;\">\n",
       "      <th></th>\n",
       "      <th>Пол</th>\n",
       "      <th>Возраст</th>\n",
       "      <th>Зарплата</th>\n",
       "      <th>Члены семьи</th>\n",
       "      <th>Страховые выплаты</th>\n",
       "    </tr>\n",
       "  </thead>\n",
       "  <tbody>\n",
       "    <tr>\n",
       "      <th>Пол</th>\n",
       "      <td>1.000000</td>\n",
       "      <td>0.002074</td>\n",
       "      <td>0.014910</td>\n",
       "      <td>-0.008991</td>\n",
       "      <td>0.010140</td>\n",
       "    </tr>\n",
       "    <tr>\n",
       "      <th>Возраст</th>\n",
       "      <td>0.002074</td>\n",
       "      <td>1.000000</td>\n",
       "      <td>-0.019093</td>\n",
       "      <td>-0.006692</td>\n",
       "      <td>0.651030</td>\n",
       "    </tr>\n",
       "    <tr>\n",
       "      <th>Зарплата</th>\n",
       "      <td>0.014910</td>\n",
       "      <td>-0.019093</td>\n",
       "      <td>1.000000</td>\n",
       "      <td>-0.030296</td>\n",
       "      <td>-0.014963</td>\n",
       "    </tr>\n",
       "    <tr>\n",
       "      <th>Члены семьи</th>\n",
       "      <td>-0.008991</td>\n",
       "      <td>-0.006692</td>\n",
       "      <td>-0.030296</td>\n",
       "      <td>1.000000</td>\n",
       "      <td>-0.036290</td>\n",
       "    </tr>\n",
       "    <tr>\n",
       "      <th>Страховые выплаты</th>\n",
       "      <td>0.010140</td>\n",
       "      <td>0.651030</td>\n",
       "      <td>-0.014963</td>\n",
       "      <td>-0.036290</td>\n",
       "      <td>1.000000</td>\n",
       "    </tr>\n",
       "  </tbody>\n",
       "</table>\n",
       "</div>\n",
       "      <button class=\"colab-df-convert\" onclick=\"convertToInteractive('df-cc887b1a-b1ca-4fb5-a749-28cf3d31c0ab')\"\n",
       "              title=\"Convert this dataframe to an interactive table.\"\n",
       "              style=\"display:none;\">\n",
       "        \n",
       "  <svg xmlns=\"http://www.w3.org/2000/svg\" height=\"24px\"viewBox=\"0 0 24 24\"\n",
       "       width=\"24px\">\n",
       "    <path d=\"M0 0h24v24H0V0z\" fill=\"none\"/>\n",
       "    <path d=\"M18.56 5.44l.94 2.06.94-2.06 2.06-.94-2.06-.94-.94-2.06-.94 2.06-2.06.94zm-11 1L8.5 8.5l.94-2.06 2.06-.94-2.06-.94L8.5 2.5l-.94 2.06-2.06.94zm10 10l.94 2.06.94-2.06 2.06-.94-2.06-.94-.94-2.06-.94 2.06-2.06.94z\"/><path d=\"M17.41 7.96l-1.37-1.37c-.4-.4-.92-.59-1.43-.59-.52 0-1.04.2-1.43.59L10.3 9.45l-7.72 7.72c-.78.78-.78 2.05 0 2.83L4 21.41c.39.39.9.59 1.41.59.51 0 1.02-.2 1.41-.59l7.78-7.78 2.81-2.81c.8-.78.8-2.07 0-2.86zM5.41 20L4 18.59l7.72-7.72 1.47 1.35L5.41 20z\"/>\n",
       "  </svg>\n",
       "      </button>\n",
       "      \n",
       "  <style>\n",
       "    .colab-df-container {\n",
       "      display:flex;\n",
       "      flex-wrap:wrap;\n",
       "      gap: 12px;\n",
       "    }\n",
       "\n",
       "    .colab-df-convert {\n",
       "      background-color: #E8F0FE;\n",
       "      border: none;\n",
       "      border-radius: 50%;\n",
       "      cursor: pointer;\n",
       "      display: none;\n",
       "      fill: #1967D2;\n",
       "      height: 32px;\n",
       "      padding: 0 0 0 0;\n",
       "      width: 32px;\n",
       "    }\n",
       "\n",
       "    .colab-df-convert:hover {\n",
       "      background-color: #E2EBFA;\n",
       "      box-shadow: 0px 1px 2px rgba(60, 64, 67, 0.3), 0px 1px 3px 1px rgba(60, 64, 67, 0.15);\n",
       "      fill: #174EA6;\n",
       "    }\n",
       "\n",
       "    [theme=dark] .colab-df-convert {\n",
       "      background-color: #3B4455;\n",
       "      fill: #D2E3FC;\n",
       "    }\n",
       "\n",
       "    [theme=dark] .colab-df-convert:hover {\n",
       "      background-color: #434B5C;\n",
       "      box-shadow: 0px 1px 3px 1px rgba(0, 0, 0, 0.15);\n",
       "      filter: drop-shadow(0px 1px 2px rgba(0, 0, 0, 0.3));\n",
       "      fill: #FFFFFF;\n",
       "    }\n",
       "  </style>\n",
       "\n",
       "      <script>\n",
       "        const buttonEl =\n",
       "          document.querySelector('#df-cc887b1a-b1ca-4fb5-a749-28cf3d31c0ab button.colab-df-convert');\n",
       "        buttonEl.style.display =\n",
       "          google.colab.kernel.accessAllowed ? 'block' : 'none';\n",
       "\n",
       "        async function convertToInteractive(key) {\n",
       "          const element = document.querySelector('#df-cc887b1a-b1ca-4fb5-a749-28cf3d31c0ab');\n",
       "          const dataTable =\n",
       "            await google.colab.kernel.invokeFunction('convertToInteractive',\n",
       "                                                     [key], {});\n",
       "          if (!dataTable) return;\n",
       "\n",
       "          const docLinkHtml = 'Like what you see? Visit the ' +\n",
       "            '<a target=\"_blank\" href=https://colab.research.google.com/notebooks/data_table.ipynb>data table notebook</a>'\n",
       "            + ' to learn more about interactive tables.';\n",
       "          element.innerHTML = '';\n",
       "          dataTable['output_type'] = 'display_data';\n",
       "          await google.colab.output.renderOutput(dataTable, element);\n",
       "          const docLink = document.createElement('div');\n",
       "          docLink.innerHTML = docLinkHtml;\n",
       "          element.appendChild(docLink);\n",
       "        }\n",
       "      </script>\n",
       "    </div>\n",
       "  </div>\n",
       "  "
      ],
      "text/plain": [
       "                        Пол   Возраст  Зарплата  Члены семьи  \\\n",
       "Пол                1.000000  0.002074  0.014910    -0.008991   \n",
       "Возраст            0.002074  1.000000 -0.019093    -0.006692   \n",
       "Зарплата           0.014910 -0.019093  1.000000    -0.030296   \n",
       "Члены семьи       -0.008991 -0.006692 -0.030296     1.000000   \n",
       "Страховые выплаты  0.010140  0.651030 -0.014963    -0.036290   \n",
       "\n",
       "                   Страховые выплаты  \n",
       "Пол                         0.010140  \n",
       "Возраст                     0.651030  \n",
       "Зарплата                   -0.014963  \n",
       "Члены семьи                -0.036290  \n",
       "Страховые выплаты           1.000000  "
      ]
     },
     "execution_count": 6,
     "metadata": {},
     "output_type": "execute_result"
    }
   ],
   "source": [
    "data.corr()"
   ]
  },
  {
   "cell_type": "code",
   "execution_count": 7,
   "metadata": {
    "colab": {
     "base_uri": "https://localhost:8080/"
    },
    "id": "pKbepy7Hou2n",
    "outputId": "221a5172-2ef4-4532-c4d3-a89d11ab1db3"
   },
   "outputs": [
    {
     "data": {
      "text/plain": [
       "153"
      ]
     },
     "execution_count": 7,
     "metadata": {},
     "output_type": "execute_result"
    }
   ],
   "source": [
    "data.duplicated().sum()"
   ]
  },
  {
   "cell_type": "code",
   "execution_count": 8,
   "metadata": {
    "colab": {
     "base_uri": "https://localhost:8080/"
    },
    "id": "b1fcW0vYiRDG",
    "outputId": "aa7c59c6-2cbb-47c8-99b0-0eefa69175d9"
   },
   "outputs": [
    {
     "name": "stdout",
     "output_type": "stream",
     "text": [
      "65.0\n"
     ]
    },
    {
     "data": {
      "text/plain": [
       "18.0"
      ]
     },
     "execution_count": 8,
     "metadata": {},
     "output_type": "execute_result"
    }
   ],
   "source": [
    "print(data['Возраст'].max())\n",
    "data['Возраст'].min()"
   ]
  },
  {
   "cell_type": "markdown",
   "metadata": {
    "id": "EGU_lgAvQbwi"
   },
   "source": [
    "Вывод по предобработке данных: данные выглядят \"чистыми\". Отсутсвуют пропуски. Дубликаты мы оставляем, так как признаки довольно абстрактные и могут быть повторяющимися для нескольких людей. Можем прступать к следующей части проекта."
   ]
  },
  {
   "cell_type": "markdown",
   "metadata": {
    "id": "zoxP-jVEAiYi"
   },
   "source": [
    "<div class=\"alert alert-success\">\n",
    "<h2> Комментарий ревьюера <a class=\"tocSkip\"> </h2>\n",
    "\n",
    "<b>Отличная работа!👍:</b> \n",
    "\n",
    "Класс! С данными познакомились, можем двигаться дальше :)"
   ]
  },
  {
   "cell_type": "markdown",
   "metadata": {
    "id": "lfH2i4osgISJ"
   },
   "source": [
    "## Ответ на вопрос"
   ]
  },
  {
   "cell_type": "markdown",
   "metadata": {
    "id": "w3-eSv8MVQzi"
   },
   "source": [
    "Признаки умножают на обратимую матрицу. Изменится ли качество линейной регрессии? (Её можно обучить заново.)\n",
    "\n",
    "Укажите, как связаны параметры линейной регрессии в исходной задаче и в преобразованной."
   ]
  },
  {
   "cell_type": "code",
   "execution_count": 9,
   "metadata": {
    "id": "AE4MPz_x4wGG"
   },
   "outputs": [],
   "source": [
    "#опередлим переменные для признаков и целевых признаков\n",
    "features = data.drop('Страховые выплаты', axis=1)\n",
    "target = data['Страховые выплаты']"
   ]
  },
  {
   "cell_type": "code",
   "execution_count": 10,
   "metadata": {
    "colab": {
     "base_uri": "https://localhost:8080/"
    },
    "id": "VU_iXWKI4wD7",
    "outputId": "eb039422-09ef-4241-c573-d7dddb9c728e"
   },
   "outputs": [
    {
     "data": {
      "text/plain": [
       "(5000, 4)"
      ]
     },
     "execution_count": 10,
     "metadata": {},
     "output_type": "execute_result"
    }
   ],
   "source": [
    "#проверим\n",
    "features.shape"
   ]
  },
  {
   "cell_type": "markdown",
   "metadata": {
    "id": "GAjOgcmDAiYi"
   },
   "source": [
    "<div class=\"alert alert-warning\">\n",
    "    <h2> Комментарий ревьюера <a class=\"tocSkip\"> </h2>\n",
    "    \n",
    "<b>Некоторые замечания и рекомендации💡:</b> \n",
    "        \n",
    "Круто, что скалируешь данные, это действительно важный шаг, поскольку некоторые модели бывают чувствительны к данным, в которых очень сильно различаются единицы измерения. Но при стандартизации данных легко допустить некоторые ошибки, которые могут сказаться на итоговых результатах.\n",
    "\n",
    "Сейчас в своей работе ты производишь скалирование на полной выборке, после чего делишь на тестовую и тренировочную. Но такой способ тоже нельзя назвать корректным, потому что часть информации с тестовой выборки переносится на тренировочную, и мы как бы заранее подготавливаем модель к тестовой выборке. Из-за этого в конечном итоге оценка качества на тестовой выборке оказывается смещенной в сторону более хорошей.\n",
    "        \n",
    "Чтобы избежать такой ошибки, некоторые пытаются стандартизировать тестовую и тренировочную выборки отдельно друг от друга. То есть для каждой выборки определяется свое собственное среднее и стандартное отклонение, которые будут различаться между выборками. Но такой способо тоже неверный. Производя стандартизацию таким образом, мы как будто бы создаем две отдельные \"вселенные\" с собственными \"правилами\" у каждой. Но модель, обученная на \"вселенной\" с одними \"правилами\", не сможет корректно работать на \"вселенной\", у которой другие \"правила\". Чтобы лучше понять, давай представим, что в наших двух выборках есть идентичное наблюдение, и значение одного из его признаков и в тестовой, и в тренировочной равно 2. Но при этом остальные наблюдения выборок отличаются, поэтому мы получили, что на тестовой выборке среднее и отклонение этого признака равны 1.5 и 0.5, а на тренировочной выборке 1.2 и 0.4. При стандартизации мы получили, что в тестовой выборке скалированое значение нашего признака стало равно 1, а в тренировочной 2. То же самое произошло и со всеми остальными признаками этих двух идентичных наблюдений, то есть по сути для модели это превратилось в два разных наблюдения, для которых она будет выдавать разные предсказания. Но нас такая ситуация не устраивает, мы ведь хотим получать максимально точные предсказания.\n",
    "\n",
    "Самым верным способом проведения скалирование является следующий порядок действий: сначала мы стандартизируем тренировочную выборку, после этого берем параметры скалирования и применяем их на тестовой выборке. Технически это можно выполнить так:\n",
    "\n",
    "`sc = StandardScaler()\n",
    "train = sc.fit_transform(train)\n",
    "test = sc.transform(test)`\n",
    "\n",
    "В жтой работе валидация не потребуется, на давай разберем и этот случай. Часто для кросс-валидации передается стандартизированная тренировочная выборка, но таким образом по аналогии с первым кейсом часть информации известна уже при тренировке, соответственно оценки качества на валидационной выборке получаются лучше, чем должны быть. Чтобы этого избежать, нам нужно на каждом шаге кросс-валидации производить стандартизацию текущей тренировочной выборки, и распространять ее на текущую валидационную. Технически это можно реализовать с помощью пайплайнов, например так:\n",
    "\n",
    "`from sklearn.pipeline import make_pipeline\n",
    "pipeline = make_pipeline(StandardScaler(), ml_model)\n",
    "cross_val_score(pipeline, X, y)`\n",
    "\n",
    "Надеюсь, тебе было интересно узнать об этом :) "
   ]
  },
  {
   "cell_type": "markdown",
   "metadata": {
    "id": "iNuwdeuCDOzO"
   },
   "source": [
    "<div class=\"alert alert-info\"> спасибо! интересно, про pipepline почитала отдельно. Скалирование данных вынесла чуть ниже, после деления на выборки </div> "
   ]
  },
  {
   "cell_type": "markdown",
   "metadata": {
    "id": "x78sLWBgYcvK"
   },
   "source": [
    "<div class=\"alert alert-success\">\n",
    "<h2> Комментарий ревьюера 2<a class=\"tocSkip\"> </h2>\n",
    "\n",
    "<b>Отличная работа!👍:</b> \n",
    "    \n",
    "Класс! Рада, что тебе понраыилось :)"
   ]
  },
  {
   "cell_type": "code",
   "execution_count": 11,
   "metadata": {
    "id": "ZXf0YcAHTW_e"
   },
   "outputs": [],
   "source": [
    "STATE = 12345"
   ]
  },
  {
   "cell_type": "code",
   "execution_count": 12,
   "metadata": {
    "id": "F6fVroP8TWay"
   },
   "outputs": [],
   "source": [
    "#разделим на выборки\n",
    "features_train, features_test, target_train, target_test = train_test_split(features, target, \n",
    "                                                                                  test_size=0.3, random_state=STATE)"
   ]
  },
  {
   "cell_type": "code",
   "execution_count": 13,
   "metadata": {
    "id": "YfULhEB9Qbmv"
   },
   "outputs": [],
   "source": [
    "#масштабируем признаки\n",
    "sc = StandardScaler() \n",
    "features_train = sc.fit_transform(features_train) \n",
    "features_test = sc.transform(features_test)\n"
   ]
  },
  {
   "cell_type": "markdown",
   "metadata": {
    "id": "z6eSDeuRAiYj"
   },
   "source": [
    "<div class=\"alert alert-success\">\n",
    "<h2> Комментарий ревьюера <a class=\"tocSkip\"> </h2>\n",
    "\n",
    "<b>Отличная работа!👍:</b> \n",
    "    \n",
    "Круто, что продолжаешь следовать всем канонам машинного обучения и делишь выборку на тестовую и тренировочную! Уважаю :)"
   ]
  },
  {
   "cell_type": "code",
   "execution_count": 14,
   "metadata": {
    "colab": {
     "base_uri": "https://localhost:8080/"
    },
    "id": "whcWwv_BXVj0",
    "outputId": "3a9eeb4c-802f-45ce-f514-f27ec1319aed"
   },
   "outputs": [
    {
     "data": {
      "text/plain": [
       "(3500, 4)"
      ]
     },
     "execution_count": 14,
     "metadata": {},
     "output_type": "execute_result"
    }
   ],
   "source": [
    "features_train.shape"
   ]
  },
  {
   "cell_type": "code",
   "execution_count": 15,
   "metadata": {
    "colab": {
     "base_uri": "https://localhost:8080/"
    },
    "id": "RFLip4yYXYyI",
    "outputId": "80e3ac71-caee-4ada-a8ab-4ae7e89dd4e1"
   },
   "outputs": [
    {
     "data": {
      "text/plain": [
       "(1500, 4)"
      ]
     },
     "execution_count": 15,
     "metadata": {},
     "output_type": "execute_result"
    }
   ],
   "source": [
    "features_test.shape"
   ]
  },
  {
   "cell_type": "code",
   "execution_count": 16,
   "metadata": {
    "colab": {
     "base_uri": "https://localhost:8080/"
    },
    "id": "0yNgZ2OGXcCw",
    "outputId": "2552b43b-969b-4c6a-f1d4-043411d44a09"
   },
   "outputs": [
    {
     "data": {
      "text/plain": [
       "(5000, 4)"
      ]
     },
     "execution_count": 16,
     "metadata": {},
     "output_type": "execute_result"
    }
   ],
   "source": [
    "features.shape"
   ]
  },
  {
   "cell_type": "code",
   "execution_count": 17,
   "metadata": {
    "id": "--XvhBhK4wCO"
   },
   "outputs": [],
   "source": [
    "#создадим собственную модель с помощью класса\n",
    "class LinearRegressionMY:\n",
    "    def fit(self, train_features, train_target):\n",
    "        X = np.concatenate((np.ones((train_features.shape[0], 1)), train_features), axis=1)\n",
    "        y = train_target\n",
    "        w = np.linalg.inv(X.T.dot(X)).dot(X.T).dot(y)\n",
    "        self.w = w[1:]\n",
    "        self.w0 = w[0]\n",
    "\n",
    "    def predict(self, test_features):\n",
    "        return test_features.dot(self.w) + self.w0"
   ]
  },
  {
   "cell_type": "markdown",
   "metadata": {
    "id": "ciZ32762AiYk"
   },
   "source": [
    "<div class=\"alert alert-success\">\n",
    "<h2> Комментарий ревьюера <a class=\"tocSkip\"> </h2>\n",
    "\n",
    "<b>Отличная работа!👍:</b> \n",
    "    \n",
    "Плюс за то, что попробовала реализовать собственный класс для обучения линейной регрессии через формулы :)"
   ]
  },
  {
   "cell_type": "code",
   "execution_count": 18,
   "metadata": {
    "colab": {
     "base_uri": "https://localhost:8080/"
    },
    "id": "KMLTrgmo4v_f",
    "outputId": "b2772152-a8b5-4569-f5f4-7cdc70f1fa91"
   },
   "outputs": [
    {
     "name": "stdout",
     "output_type": "stream",
     "text": [
      "0.4305278542485148\n"
     ]
    }
   ],
   "source": [
    "#предскажем r2_score\n",
    "model = LinearRegressionMY()\n",
    "model.fit(features_train, target_train)\n",
    "predictions = model.predict(features_test)\n",
    "print(r2_score(target_test, predictions))"
   ]
  },
  {
   "cell_type": "code",
   "execution_count": 19,
   "metadata": {
    "colab": {
     "base_uri": "https://localhost:8080/"
    },
    "id": "OJVJYm4y4v87",
    "outputId": "ae303e82-7f02-453c-fe79-1d64e7e21dde"
   },
   "outputs": [
    {
     "data": {
      "text/plain": [
       "array([[ 0.49671415, -0.1382643 ,  0.64768854,  1.52302986],\n",
       "       [-0.23415337, -0.23413696,  1.57921282,  0.76743473],\n",
       "       [-0.46947439,  0.54256004, -0.46341769, -0.46572975],\n",
       "       [ 0.24196227, -1.91328024, -1.72491783, -0.56228753]])"
      ]
     },
     "execution_count": 19,
     "metadata": {},
     "output_type": "execute_result"
    }
   ],
   "source": [
    "#создадим рандомную матрицу, с шириной количетва столбцов features\n",
    "np.random.seed(42) \n",
    "matrix = np.random.normal(size=(features.shape[1],features.shape[1]))\n",
    "matrix"
   ]
  },
  {
   "cell_type": "markdown",
   "metadata": {
    "id": "O7MLl4HcAiYk"
   },
   "source": [
    "<div class=\"alert alert-warning\">\n",
    "    <h2> Комментарий ревьюера <a class=\"tocSkip\"> </h2>\n",
    "    \n",
    "<b>Некоторые замечания и рекомендации💡:</b> \n",
    "\n",
    "Когда в работе используются случайности (как здесь при генерации матрицы, или, например, когда мы случайно делим выборку на тестовую и тренировочную), нам важно использовать фиксированный random state, чтобы спустя время мы могли воспроизвести тот же самый результат. Так у нас будет возможность восстановить ключ шифрования, если мы его потеряем (без ключа мы бы не смогли расшифровать данные) и не нужно будет менять каждый раз значения и интерпретацию в выводах. \n",
    "        \n",
    "У функции np.random.normal() нет своего собственного параметра random_state, поэтому мы должны использовать вспомогательные функции: np.random.seed(42) или np.random.RandomState(42). Они являются эквивалентами друг друга, но немного различается способ применения. np.random.seed() является самостоятельным элементом, а вот чтобы использовать np.random.RandomState(), мы должны сохранить его в переменную (r = np.random.RandomState(42)), а потом использовать r как основу генератора (r.normal(size = (4, 4))). При использовании сторонних функций для фиксирования random state важно понимать, что если мы вновь и вновь будем запускать генератор случайностей, геренация будет продолжаться с того момента, на котором остановилась в прошлый раз, поэтому и результат генерации будет меняться. Чтобы получить тот же результат, нам нужно \"обнулить\" основание генератора (перезадать random_state, чтобы все началось сначала).\n",
    "  \n",
    "Вместо 42, если что, можно использовать абсолютно любое число, главное, что мы его знаем. Просто у айтишников есть какая-то особая любовь именно к числу 42, вроде даже есть легенда, ооткуда взялось это число, если будет интересно, можешь загуглить :) Теперь немного о том, как вообще работают алгоритмы случайностей. Правда в том, что машины не умеют выдавать абсолютно случайные значения, как наш мозг (хотя, если вдаваться в психологию, то и процессы нашего мозга не такие уж случайные, но это уже я отвлекаюсь :) ). Они делают это по определенному алгоритму, который имитирует случайность. Чаще всего алгоритм берет за основу какое-то системное число, или текущее время, подает на вход псевдослучайному алгоритму, и тот, выполняя какие-то предопределенные вычисления, начинает выдавать как бы случайные числа. Но такие значения можно вполне считать случайными, и их достаточно сложно воспроизвести, так как неизвестно, во-первых, что за число подалось на вход алгоритму, во-вторых, что из себя представляет сам алгоритм. Но когда эти случайности начинают применяться в практике, нам все-таки важно оставлять за собой возможность воспроизводить результаты. Так вот чтобы сохранить за собой такую возможность, мы хотим немного предопределить случайность, и подаем на вход алгоритму известное нам число, задавать мы можем абсолютно любое, главное, что оно нам известно, и при желании мы можем перезапустить генератор случайностей и получить тот же самый результат. "
   ]
  },
  {
   "cell_type": "markdown",
   "metadata": {
    "id": "ufST0gukFMig"
   },
   "source": [
    "<div class=\"alert alert-info\"> почитала про число 42, интересно :) \n",
    "Добавила функцию случайности в ячейку и дополнительно обсудили с преподавателем в Слаке как работает генератор чисел </div> "
   ]
  },
  {
   "cell_type": "markdown",
   "metadata": {
    "id": "IIjwcCw9YcvN"
   },
   "source": [
    "<div class=\"alert alert-warning\">\n",
    "    <h2> Комментарий ревьюера 2<a class=\"tocSkip\"> </h2>\n",
    "    \n",
    "<b>Некоторые замечания и рекомендации💡:</b> \n",
    "        \n",
    "Отлично! Но random state нужно задать до генерации, а не после. Сейчас генерация прошла без его участия."
   ]
  },
  {
   "cell_type": "markdown",
   "metadata": {
    "id": "VXFPisWjxAz1"
   },
   "source": [
    "<div class=\"alert alert-info\">как я поняла, важно ставить его простто в одно ячейке с функцией, к которой мы применям random.seed, и вот я проверяю как он работат в колабе, всегда генерируется одно и тоже число, даже если стоит после функции - разместила в начало (перезапустила тетрадь и те же знаечния) </div> "
   ]
  },
  {
   "cell_type": "markdown",
   "metadata": {
    "id": "gfBqTpVA_9P7"
   },
   "source": [
    "<div class=\"alert alert-warning\">\n",
    "    <h2> Комментарий ревьюера 3<a class=\"tocSkip\"> </h2>\n",
    "    \n",
    "<b>Некоторые замечания и рекомендации💡:</b> \n",
    "        \n",
    "np.random.seed() распространяется на все ячейки, но его лучше задавать в одной ячейке с генерацией (перед ней), чтобы мы были уверены, что отсчет генератора начинается с известной нам позиции. В питоне любой код всегда выполняется последоватьельно. При перезапуске ячейки, где np.random.seed() стоит после генерации, у тебя получалось одна и та же матрица, потому что последним действием ты как раз задала свежий np.random.seed(), вот он при перезапуске с одной и той же позиции и начиналн генерировать. Чтобы убедиться, что положение np.random.seed() играет роль, попробуй сравнить результаты в двух разных файлах, чтобы один эксперимент не оказывал влияние на другой. Тогда ты увидишь, что матрицы будут отличаться."
   ]
  },
  {
   "cell_type": "code",
   "execution_count": 20,
   "metadata": {
    "id": "dX0DHajMZFaL"
   },
   "outputs": [],
   "source": [
    "#проверим, обратима ли полученная матрица\n",
    "checking = np.linalg.inv(matrix) \n"
   ]
  },
  {
   "cell_type": "code",
   "execution_count": 21,
   "metadata": {
    "colab": {
     "base_uri": "https://localhost:8080/",
     "height": 419
    },
    "id": "BnmijZf_ZJs0",
    "outputId": "59c3ad87-93b2-4561-ad77-ef91444041ad"
   },
   "outputs": [
    {
     "data": {
      "text/html": [
       "\n",
       "  <div id=\"df-234d79ee-fb2d-4da2-8065-7aacb270e426\">\n",
       "    <div class=\"colab-df-container\">\n",
       "      <div>\n",
       "<style scoped>\n",
       "    .dataframe tbody tr th:only-of-type {\n",
       "        vertical-align: middle;\n",
       "    }\n",
       "\n",
       "    .dataframe tbody tr th {\n",
       "        vertical-align: top;\n",
       "    }\n",
       "\n",
       "    .dataframe thead th {\n",
       "        text-align: right;\n",
       "    }\n",
       "</style>\n",
       "<table border=\"1\" class=\"dataframe\">\n",
       "  <thead>\n",
       "    <tr style=\"text-align: right;\">\n",
       "      <th></th>\n",
       "      <th>0</th>\n",
       "      <th>1</th>\n",
       "      <th>2</th>\n",
       "      <th>3</th>\n",
       "    </tr>\n",
       "  </thead>\n",
       "  <tbody>\n",
       "    <tr>\n",
       "      <th>0</th>\n",
       "      <td>-23294.791154</td>\n",
       "      <td>26899.327002</td>\n",
       "      <td>-22921.847067</td>\n",
       "      <td>-23067.770211</td>\n",
       "    </tr>\n",
       "    <tr>\n",
       "      <th>1</th>\n",
       "      <td>-17850.555758</td>\n",
       "      <td>20604.598076</td>\n",
       "      <td>-17538.953455</td>\n",
       "      <td>-17662.990926</td>\n",
       "    </tr>\n",
       "    <tr>\n",
       "      <th>2</th>\n",
       "      <td>-9865.752553</td>\n",
       "      <td>11386.970944</td>\n",
       "      <td>-9685.974377</td>\n",
       "      <td>-9758.069218</td>\n",
       "    </tr>\n",
       "    <tr>\n",
       "      <th>3</th>\n",
       "      <td>-19581.515190</td>\n",
       "      <td>22616.010381</td>\n",
       "      <td>-19294.804157</td>\n",
       "      <td>-19405.939170</td>\n",
       "    </tr>\n",
       "    <tr>\n",
       "      <th>4</th>\n",
       "      <td>-12259.341053</td>\n",
       "      <td>14154.123038</td>\n",
       "      <td>-12050.336135</td>\n",
       "      <td>-12132.535366</td>\n",
       "    </tr>\n",
       "    <tr>\n",
       "      <th>...</th>\n",
       "      <td>...</td>\n",
       "      <td>...</td>\n",
       "      <td>...</td>\n",
       "      <td>...</td>\n",
       "    </tr>\n",
       "    <tr>\n",
       "      <th>4995</th>\n",
       "      <td>-16766.307948</td>\n",
       "      <td>19359.011161</td>\n",
       "      <td>-16503.243510</td>\n",
       "      <td>-16606.188605</td>\n",
       "    </tr>\n",
       "    <tr>\n",
       "      <th>4996</th>\n",
       "      <td>-24608.177075</td>\n",
       "      <td>28420.272347</td>\n",
       "      <td>-24231.118785</td>\n",
       "      <td>-24378.708594</td>\n",
       "    </tr>\n",
       "    <tr>\n",
       "      <th>4997</th>\n",
       "      <td>-15919.380826</td>\n",
       "      <td>18384.276178</td>\n",
       "      <td>-15681.725366</td>\n",
       "      <td>-15774.014527</td>\n",
       "    </tr>\n",
       "    <tr>\n",
       "      <th>4998</th>\n",
       "      <td>-15355.741193</td>\n",
       "      <td>17730.684307</td>\n",
       "      <td>-15123.542938</td>\n",
       "      <td>-15212.643210</td>\n",
       "    </tr>\n",
       "    <tr>\n",
       "      <th>4999</th>\n",
       "      <td>-19066.477687</td>\n",
       "      <td>22019.330390</td>\n",
       "      <td>-18771.617599</td>\n",
       "      <td>-18886.179080</td>\n",
       "    </tr>\n",
       "  </tbody>\n",
       "</table>\n",
       "<p>5000 rows × 4 columns</p>\n",
       "</div>\n",
       "      <button class=\"colab-df-convert\" onclick=\"convertToInteractive('df-234d79ee-fb2d-4da2-8065-7aacb270e426')\"\n",
       "              title=\"Convert this dataframe to an interactive table.\"\n",
       "              style=\"display:none;\">\n",
       "        \n",
       "  <svg xmlns=\"http://www.w3.org/2000/svg\" height=\"24px\"viewBox=\"0 0 24 24\"\n",
       "       width=\"24px\">\n",
       "    <path d=\"M0 0h24v24H0V0z\" fill=\"none\"/>\n",
       "    <path d=\"M18.56 5.44l.94 2.06.94-2.06 2.06-.94-2.06-.94-.94-2.06-.94 2.06-2.06.94zm-11 1L8.5 8.5l.94-2.06 2.06-.94-2.06-.94L8.5 2.5l-.94 2.06-2.06.94zm10 10l.94 2.06.94-2.06 2.06-.94-2.06-.94-.94-2.06-.94 2.06-2.06.94z\"/><path d=\"M17.41 7.96l-1.37-1.37c-.4-.4-.92-.59-1.43-.59-.52 0-1.04.2-1.43.59L10.3 9.45l-7.72 7.72c-.78.78-.78 2.05 0 2.83L4 21.41c.39.39.9.59 1.41.59.51 0 1.02-.2 1.41-.59l7.78-7.78 2.81-2.81c.8-.78.8-2.07 0-2.86zM5.41 20L4 18.59l7.72-7.72 1.47 1.35L5.41 20z\"/>\n",
       "  </svg>\n",
       "      </button>\n",
       "      \n",
       "  <style>\n",
       "    .colab-df-container {\n",
       "      display:flex;\n",
       "      flex-wrap:wrap;\n",
       "      gap: 12px;\n",
       "    }\n",
       "\n",
       "    .colab-df-convert {\n",
       "      background-color: #E8F0FE;\n",
       "      border: none;\n",
       "      border-radius: 50%;\n",
       "      cursor: pointer;\n",
       "      display: none;\n",
       "      fill: #1967D2;\n",
       "      height: 32px;\n",
       "      padding: 0 0 0 0;\n",
       "      width: 32px;\n",
       "    }\n",
       "\n",
       "    .colab-df-convert:hover {\n",
       "      background-color: #E2EBFA;\n",
       "      box-shadow: 0px 1px 2px rgba(60, 64, 67, 0.3), 0px 1px 3px 1px rgba(60, 64, 67, 0.15);\n",
       "      fill: #174EA6;\n",
       "    }\n",
       "\n",
       "    [theme=dark] .colab-df-convert {\n",
       "      background-color: #3B4455;\n",
       "      fill: #D2E3FC;\n",
       "    }\n",
       "\n",
       "    [theme=dark] .colab-df-convert:hover {\n",
       "      background-color: #434B5C;\n",
       "      box-shadow: 0px 1px 3px 1px rgba(0, 0, 0, 0.15);\n",
       "      filter: drop-shadow(0px 1px 2px rgba(0, 0, 0, 0.3));\n",
       "      fill: #FFFFFF;\n",
       "    }\n",
       "  </style>\n",
       "\n",
       "      <script>\n",
       "        const buttonEl =\n",
       "          document.querySelector('#df-234d79ee-fb2d-4da2-8065-7aacb270e426 button.colab-df-convert');\n",
       "        buttonEl.style.display =\n",
       "          google.colab.kernel.accessAllowed ? 'block' : 'none';\n",
       "\n",
       "        async function convertToInteractive(key) {\n",
       "          const element = document.querySelector('#df-234d79ee-fb2d-4da2-8065-7aacb270e426');\n",
       "          const dataTable =\n",
       "            await google.colab.kernel.invokeFunction('convertToInteractive',\n",
       "                                                     [key], {});\n",
       "          if (!dataTable) return;\n",
       "\n",
       "          const docLinkHtml = 'Like what you see? Visit the ' +\n",
       "            '<a target=\"_blank\" href=https://colab.research.google.com/notebooks/data_table.ipynb>data table notebook</a>'\n",
       "            + ' to learn more about interactive tables.';\n",
       "          element.innerHTML = '';\n",
       "          dataTable['output_type'] = 'display_data';\n",
       "          await google.colab.output.renderOutput(dataTable, element);\n",
       "          const docLink = document.createElement('div');\n",
       "          docLink.innerHTML = docLinkHtml;\n",
       "          element.appendChild(docLink);\n",
       "        }\n",
       "      </script>\n",
       "    </div>\n",
       "  </div>\n",
       "  "
      ],
      "text/plain": [
       "                 0             1             2             3\n",
       "0    -23294.791154  26899.327002 -22921.847067 -23067.770211\n",
       "1    -17850.555758  20604.598076 -17538.953455 -17662.990926\n",
       "2     -9865.752553  11386.970944  -9685.974377  -9758.069218\n",
       "3    -19581.515190  22616.010381 -19294.804157 -19405.939170\n",
       "4    -12259.341053  14154.123038 -12050.336135 -12132.535366\n",
       "...            ...           ...           ...           ...\n",
       "4995 -16766.307948  19359.011161 -16503.243510 -16606.188605\n",
       "4996 -24608.177075  28420.272347 -24231.118785 -24378.708594\n",
       "4997 -15919.380826  18384.276178 -15681.725366 -15774.014527\n",
       "4998 -15355.741193  17730.684307 -15123.542938 -15212.643210\n",
       "4999 -19066.477687  22019.330390 -18771.617599 -18886.179080\n",
       "\n",
       "[5000 rows x 4 columns]"
      ]
     },
     "execution_count": 21,
     "metadata": {},
     "output_type": "execute_result"
    }
   ],
   "source": [
    "#получим новые признаки, умножив на обратимую матрицу\n",
    "features_new = features@matrix\n",
    "#features_new = np.dot(features,matrix)\n",
    "features_new"
   ]
  },
  {
   "cell_type": "markdown",
   "metadata": {
    "id": "XHTgW9qoAiYm"
   },
   "source": [
    "<div class=\"alert alert-warning\">\n",
    "    <h2> Комментарий ревьюера <a class=\"tocSkip\"> </h2>\n",
    "    \n",
    "<b>Некоторые замечания и рекомендации💡:</b> \n",
    "\n",
    "На будущее хочу предостеречь: в питоне есть несколько способов получить произведение матриц (numpy.dot(), numpy.multiply(), numpy.matmul(), через оператор @), но нужно учитывать, что результаты некоторых из них могут отличаться.\n",
    "\n",
    "* numpy.multiply() - это поэлементное перемножение матриц (новая матрица заполняется произведениями элементов с одинаковыми индексами)\n",
    "\n",
    "* numpy.matmul() - аналог оператора @\n",
    "\n",
    "* numpy.dot() - на двумерных матрицах выдает тот же результат, что и numpy.matmul() и @, но на трехмерных и более многомерных матрицах результаты уже будут отличаться\n",
    "\n",
    "Какую когда выбирать, зависит от задачи, которую ты решаешь. То есть важно понимать, какой результат ты получишь, и соответствует ли это тому, что тебе необходимо получить. Если хорошо владеешь английским, то вот тут достаточно хорошо разбирается различие между этими функциями https://mkang32.github.io/python/2020/08/30/numpy-matmul.html"
   ]
  },
  {
   "cell_type": "markdown",
   "metadata": {
    "id": "7mWEnXt0HlLY"
   },
   "source": [
    "<div class=\"alert alert-info\">хорошо, спасиб, закомментила другой вариант умножения</div> "
   ]
  },
  {
   "cell_type": "markdown",
   "metadata": {
    "id": "IGceNvBEYcvO"
   },
   "source": [
    "<div class=\"alert alert-success\">\n",
    "<h2> Комментарий ревьюера 2<a class=\"tocSkip\"> </h2>\n",
    "\n",
    "<b>Отличная работа!👍:</b> \n",
    "    \n",
    "Хорошо! Но твой варинт умножения тоже был вырным, так как в нашем проекте все матрицы двумерные (два измерения: столбцы и строки)."
   ]
  },
  {
   "cell_type": "code",
   "execution_count": 22,
   "metadata": {
    "id": "Sk6_SXOMblSm"
   },
   "outputs": [],
   "source": [
    "features_train_new, features_test_new, target_train, target_test = train_test_split(features_new, target, \n",
    "                                                                                  test_size=0.3, random_state=STATE)"
   ]
  },
  {
   "cell_type": "code",
   "execution_count": 23,
   "metadata": {
    "colab": {
     "base_uri": "https://localhost:8080/"
    },
    "id": "YwHxbRtQblK4",
    "outputId": "ea57866a-0ba7-4061-8ec8-865694093291"
   },
   "outputs": [
    {
     "name": "stdout",
     "output_type": "stream",
     "text": [
      "0.43052785305238117\n"
     ]
    }
   ],
   "source": [
    "#проверим r2_score для признаков, умноженных на обратимую матрицу\n",
    "model_inv = LinearRegressionMY()\n",
    "model_inv.fit(features_train_new, target_train)\n",
    "predictions = model_inv.predict(features_test_new)\n",
    "print(r2_score(target_test, predictions))"
   ]
  },
  {
   "cell_type": "markdown",
   "metadata": {
    "id": "hxx6ugJ1KBJA"
   },
   "source": [
    "## Эксперимент с простой матрицей"
   ]
  },
  {
   "cell_type": "markdown",
   "metadata": {
    "id": "zG_gve9Ns7ks"
   },
   "source": [
    "Рассмотрим на примере простой квадратной матрицы, что происходит со значениями в формуле np.linalg.inv(X.T.dot(X)).dot(X.T).dot(y)"
   ]
  },
  {
   "cell_type": "code",
   "execution_count": 24,
   "metadata": {
    "colab": {
     "base_uri": "https://localhost:8080/"
    },
    "id": "evm779L6qSCm",
    "outputId": "2e0649bd-ce66-4ff7-9516-30349cce9bd9"
   },
   "outputs": [
    {
     "data": {
      "text/plain": [
       "array([[  1,   2, 100],\n",
       "       [  3,   2,   1],\n",
       "       [  2,   4,  30]])"
      ]
     },
     "execution_count": 24,
     "metadata": {},
     "output_type": "execute_result"
    }
   ],
   "source": [
    "#создадим простую матрицу\n",
    "test = np.array([[1,2,100],[3,2,1],[2,4,30]])\n",
    "test\n"
   ]
  },
  {
   "cell_type": "code",
   "execution_count": 25,
   "metadata": {
    "colab": {
     "base_uri": "https://localhost:8080/"
    },
    "id": "PuHs_aiA6k30",
    "outputId": "6df56a5b-c9a8-4c15-b66b-57c3e22b8d9d"
   },
   "outputs": [
    {
     "data": {
      "text/plain": [
       "16.11111111111111"
      ]
     },
     "execution_count": 25,
     "metadata": {},
     "output_type": "execute_result"
    }
   ],
   "source": [
    "test.mean()"
   ]
  },
  {
   "cell_type": "code",
   "execution_count": 26,
   "metadata": {
    "colab": {
     "base_uri": "https://localhost:8080/"
    },
    "id": "XRKtwTCQqi8R",
    "outputId": "821cb3ea-1cfb-4582-8e8b-a0d444772456"
   },
   "outputs": [
    {
     "data": {
      "text/plain": [
       "array([[ 0.08,  0.5 , -0.29],\n",
       "       [-0.13, -0.25,  0.44],\n",
       "       [ 0.01,  0.  , -0.01]])"
      ]
     },
     "execution_count": 26,
     "metadata": {},
     "output_type": "execute_result"
    }
   ],
   "source": [
    "#рассмотрим как выглядит обратная от нашей простой тестовой матрицы\n",
    "check = np.linalg.inv(test)\n",
    "check.round(2)\n"
   ]
  },
  {
   "cell_type": "markdown",
   "metadata": {
    "id": "ApChXa1wAiYn"
   },
   "source": [
    "<div class=\"alert alert-warning\">\n",
    "    <h2> Комментарий ревьюера <a class=\"tocSkip\"> </h2>\n",
    "    \n",
    "<b>Некоторые замечания и рекомендации💡:</b> \n",
    "        \n",
    "Согласно формуле обратная матрица берется от произведения транспонированной матрицы признаков на саму матрицу признаков, так как матрица признаков не обязана быть квадратной. А для неквадратной матрицы обратной матрицы не существует."
   ]
  },
  {
   "cell_type": "markdown",
   "metadata": {
    "id": "lKjeOPGEIFfK"
   },
   "source": [
    "<div class=\"alert alert-info\">вот тут не совсем поняла. если транспонированную  матрицу признаков умножить на саму матрицу признаков не получиться же обратная матрица? Обратную мы получаем с помощью функции  np.linalg.inv И в моем случае пример с квадратной хорошенькой матрицей, для которой есть обратная, это я и проверяю </div> "
   ]
  },
  {
   "cell_type": "markdown",
   "metadata": {
    "id": "59WlCViMYcvQ"
   },
   "source": [
    "<div class=\"alert alert-warning\">\n",
    "    <h2> Комментарий ревьюера 2<a class=\"tocSkip\"> </h2>\n",
    "    \n",
    "<b>Некоторые замечания и рекомендации💡:</b> \n",
    "        \n",
    "Да, это я поняла :) Но я не совсем понимаю необходимость этого шага. \n",
    "        \n",
    "На матрицу признаков в линейной регрессии не накладывается никаких условий (есть рекомендации по количеству наблюдений, необходимых для состоятельности обучения, но это немного другое уже), то есть она не обязатально должна быть квадратной, а в 99% случаев и не будет такой. Раз ты сгенерировала квадратную матрицу, ты, конечно, можешь взглянуть на обратную, но какие выводы ты хочешь сделать на основе этого шага? \n",
    "        \n",
    "У меня возникло предположение, что ты хочешь пройтись по шагам формулы и посмотреть, что получается после каждого действия, но ведь в формуле нигде не используется обратная матрица признаков. В формуле есть только обратная матрица **произведения** $X^{T}$ и $X$. И это совсем разные вещи."
   ]
  },
  {
   "cell_type": "markdown",
   "metadata": {
    "id": "GaVimQ8KycEx"
   },
   "source": [
    "<div class=\"alert alert-info\">я рассматривала квадратную матрицу, так как в задании нам сказанно, рассмотреть как изменятся предсказания, при умножении на \"обратимую\" матрицу, а значит надо сгенерировать квадратную матрицу, иначе у нее не будет обратной и соответсвенно она не обратима. Поэтому, прям как по заданию, я нахожу матрицу и убеждаюсь, что она именно обратимая. А так да, идея моего доказательства изначально была рассмотреть как выглядят разные матрицы </div> "
   ]
  },
  {
   "cell_type": "markdown",
   "metadata": {
    "id": "Q0zzBbzX_9P-"
   },
   "source": [
    "<div class=\"alert alert-warning\">\n",
    "<h2> Комментарий ревьюера 3<a class=\"tocSkip\"> </h2>\n",
    "    \n",
    "<b>Некоторые замечания и рекомендации💡:</b> \n",
    "        \n",
    "Под тем, что необходимо сгенерировать обратимую матрицу, имелось в виду, что генерироваться будет матрица-ключ, а не матрица признаков. Матрица признаков у нас уже имеется и хранится в датасете, нам не нужно генерировать что-то свое дополнительно. Ты можешь послежовательно пройтись по формуле, используя наш невадратный датасет и случайную квадратную матрицу, которая способона зашифровать наши неквадратные данные."
   ]
  },
  {
   "cell_type": "code",
   "execution_count": 27,
   "metadata": {
    "colab": {
     "base_uri": "https://localhost:8080/"
    },
    "id": "4RM6cSx6rrd9",
    "outputId": "456feba5-e3b0-495e-ec1e-3a62ab0258d0"
   },
   "outputs": [
    {
     "data": {
      "text/plain": [
       "array([[ 8.23529412e-02,  5.00000000e-01, -2.91176471e-01],\n",
       "       [-1.29411765e-01, -2.50000000e-01,  4.39705882e-01],\n",
       "       [ 1.17647059e-02,  2.65629532e-18, -5.88235294e-03]])"
      ]
     },
     "execution_count": 27,
     "metadata": {},
     "output_type": "execute_result"
    }
   ],
   "source": [
    "#рассмотрим как выгляит матрица до умножения на целевые признаки\n",
    "w_test = np.linalg.inv(test.T.dot(test)).dot(test.T)\n",
    "w_test.round(2)\n",
    "w_test"
   ]
  },
  {
   "cell_type": "code",
   "execution_count": 28,
   "metadata": {
    "colab": {
     "base_uri": "https://localhost:8080/"
    },
    "id": "sTOIu8Kp4Fwx",
    "outputId": "6cd3c816-5954-4c65-c9e0-6f0eac987014"
   },
   "outputs": [
    {
     "data": {
      "text/plain": [
       "0.039705882352941146"
      ]
     },
     "execution_count": 28,
     "metadata": {},
     "output_type": "execute_result"
    }
   ],
   "source": [
    "w_test.mean()"
   ]
  },
  {
   "cell_type": "code",
   "execution_count": 29,
   "metadata": {
    "colab": {
     "base_uri": "https://localhost:8080/"
    },
    "id": "_5UC-pmP2PqI",
    "outputId": "bf9216df-2875-4913-d5b4-0ed7d9c4cae7"
   },
   "outputs": [
    {
     "data": {
      "text/plain": [
       "array([[ 1.61464055e+02,  7.61369019e+01, -4.67680240e+01],\n",
       "       [ 6.11541499e+00, -1.15664924e-01,  1.00531731e+00],\n",
       "       [ 5.44619322e+01,  2.18098998e+01, -1.37254023e+01]])"
      ]
     },
     "execution_count": 29,
     "metadata": {},
     "output_type": "execute_result"
    }
   ],
   "source": [
    "#рассмотрим как выглядит матрица, умноженная на рандомную обратимую матрицу\n",
    "np.random.seed(42)\n",
    "matrix = np.random.normal(size=(test.shape[1],test.shape[1])) \n",
    "\n",
    "#проверяем обратима ли она\n",
    "check_test = np.linalg.inv(matrix) \n",
    "#умножаем исходную матрицу на рандомную обратимую\n",
    "test2 = test@matrix\n",
    "test2"
   ]
  },
  {
   "cell_type": "markdown",
   "metadata": {
    "id": "_pQLUnJBAiYo"
   },
   "source": [
    "<div class=\"alert alert-block alert-danger\">\n",
    "<h2> Комментарий ревьюера <a class=\"tocSkip\"></h2>\n",
    "\n",
    "<b>На доработку🤔:</b> \n",
    "        \n",
    "* Согласно формуле мы должны умножать матрицу признаков на случайную матрицу, а не наоборот, так как, опять же, матрица признаков не обязательно будет квадратной. К тому же размер случайной матрицы задается по количеству столбцов в матрице признаков. Согласно правилу умножения у нас перемножение возможно только тогда, когда количество столбцов левой матрицы (матрица признаков) равно количеству строк правой матрицы (случайная матрица).\n",
    "  \n",
    "        \n",
    "* Здесь тоже было бы лучше зафиксировать random state, чтобы обеспечить воспроизводимость :)"
   ]
  },
  {
   "cell_type": "markdown",
   "metadata": {
    "id": "GzPTuPFyI9ng"
   },
   "source": [
    "<div class=\"alert alert-info\"> Исправила, понимаю, что при умножении матриц критически важно учитывать последовательность. Умножение матриц не  коммутативно. (Мне не понятно почему, ведь внутри элементы просто перемножаются друг на друга) Так же внесла в ячейку np.random.seed()</div> "
   ]
  },
  {
   "cell_type": "markdown",
   "metadata": {
    "id": "iz0YjKiVYcvR"
   },
   "source": [
    "<div class=\"alert alert-warning\">\n",
    "    <h2> Комментарий ревьюера 2<a class=\"tocSkip\"> </h2>\n",
    "    \n",
    "<b>Некоторые замечания и рекомендации💡:</b> \n",
    "        \n",
    "Класс! Но random state, опять же, нужно поместить до генерации.\n",
    "        \n",
    "Если я правильно поняла твой вопрос, то все дело в том, что когда две матрицы перемножаются, из левей всегда берутся строки, а из правой матрицы столбцы. И в результате мы получаем матрицу, элементами которой являются результаты взаимодействия каждой строки с каждым столбцом. Если матрицы несимметричные, то получаемый результат будет зависеть от того, какая матрица на какой позиции стояла: левой или правой (а если количество элементов в строке левой таблицы не равно количеству элементов в столбце правой таблицы, то мы и вовсе не сможем призвести умножение). Я думаю, чтобы осознать это до конца, нужно на листочке вручную поперемножать несколько матриц, попробовать поменять их местами (следя за соответствием размерностей), а потом сравнить результаты."
   ]
  },
  {
   "cell_type": "markdown",
   "metadata": {
    "id": "4-hAyRBBpUQz"
   },
   "source": [
    "<div class=\"alert alert-info\">поставила в произведении сначала тестовую матрицу признаков, затем рандомную матрицу - done,а random_seed вынесла в начало ячейки</div> "
   ]
  },
  {
   "cell_type": "markdown",
   "metadata": {
    "id": "_65GUf6T_9P_"
   },
   "source": [
    "<div class=\"alert alert-success\">\n",
    "<h2> Комментарий ревьюера 3<a class=\"tocSkip\"> </h2>\n",
    "\n",
    "<b>Отличная работа!👍:</b> \n",
    "    \n",
    "Супер!"
   ]
  },
  {
   "cell_type": "code",
   "execution_count": 30,
   "metadata": {
    "colab": {
     "base_uri": "https://localhost:8080/"
    },
    "id": "VoBhbR5U6hRH",
    "outputId": "85ca915c-9b73-43b2-f6b2-7facc2e7c595"
   },
   "outputs": [
    {
     "data": {
      "text/plain": [
       "28.931603370061016"
      ]
     },
     "execution_count": 30,
     "metadata": {},
     "output_type": "execute_result"
    }
   ],
   "source": [
    "test2.mean()"
   ]
  },
  {
   "cell_type": "code",
   "execution_count": 31,
   "metadata": {
    "colab": {
     "base_uri": "https://localhost:8080/"
    },
    "id": "xX1dB7i929Uh",
    "outputId": "443564b5-1b54-418b-9133-3b6b300d2152"
   },
   "outputs": [
    {
     "data": {
      "text/plain": [
       "array([[-0.03,  0.03,  0.1 ],\n",
       "       [ 0.19,  0.45, -0.6 ],\n",
       "       [ 0.19,  0.84, -0.65]])"
      ]
     },
     "execution_count": 31,
     "metadata": {},
     "output_type": "execute_result"
    }
   ],
   "source": [
    "#рассмотрим как выгляит матрица до умножения на целевые признаки\n",
    "w_test2 = np.linalg.inv(test2.T.dot(test2)).dot(test2.T)\n",
    "w_test2.round(2)"
   ]
  },
  {
   "cell_type": "code",
   "execution_count": 32,
   "metadata": {
    "colab": {
     "base_uri": "https://localhost:8080/"
    },
    "id": "eMh7plVO4Gts",
    "outputId": "31dd4567-93aa-42e1-adf1-1462910e1c48"
   },
   "outputs": [
    {
     "data": {
      "text/plain": [
       "0.05645468656754111"
      ]
     },
     "execution_count": 32,
     "metadata": {},
     "output_type": "execute_result"
    }
   ],
   "source": [
    "w_test2.mean()"
   ]
  },
  {
   "cell_type": "code",
   "execution_count": 33,
   "metadata": {
    "colab": {
     "base_uri": "https://localhost:8080/"
    },
    "id": "dKOzDuRx6ZJQ",
    "outputId": "2d344359-b68b-4e94-e930-9f3942e2565b"
   },
   "outputs": [
    {
     "data": {
      "text/plain": [
       "0.5568689334301881"
      ]
     },
     "execution_count": 33,
     "metadata": {},
     "output_type": "execute_result"
    }
   ],
   "source": [
    "#соотнесем среднее по матрицам (рандомной и исходной)\n",
    "test.mean()/test2.mean()"
   ]
  },
  {
   "cell_type": "code",
   "execution_count": 34,
   "metadata": {
    "colab": {
     "base_uri": "https://localhost:8080/"
    },
    "id": "h3ejwS8O62wF",
    "outputId": "413249e5-448d-4a0e-f3fc-1b90fef025bb"
   },
   "outputs": [
    {
     "data": {
      "text/plain": [
       "0.7033230501676407"
      ]
     },
     "execution_count": 34,
     "metadata": {},
     "output_type": "execute_result"
    }
   ],
   "source": [
    "#соотнесем среднее по вычесленным w (наоснове рандомной и исходной матрицы)\n",
    "w_test.mean()/w_test2.mean()"
   ]
  },
  {
   "cell_type": "markdown",
   "metadata": {
    "id": "i_haV-aLKOir"
   },
   "source": [
    "### Доказательство с помощью формул"
   ]
  },
  {
   "cell_type": "markdown",
   "metadata": {
    "id": "IusB6CJbLrpo"
   },
   "source": [
    "<div class=\"alert alert-info\">Мы знаем, что a = Xw, соответсвенно, используя новую матрицу признаков мы говорим, что a' = X'w'.\n",
    "Затем, мы берем формулу для расчета w и подставляем новые значения, с новой матрицей для этой формулы  </div>  "
   ]
  },
  {
   "cell_type": "markdown",
   "metadata": {
    "id": "2AkDCaQsM724"
   },
   "source": [
    "$w = np.linalg.inv(X^{T}.dot(X)).dot(X^{T}).dot(y)$"
   ]
  },
  {
   "cell_type": "markdown",
   "metadata": {
    "id": "QV2Y7kfBM4Xp"
   },
   "source": [
    "$w' = np.linalg.inv(X'^{T}.dot(X')).dot(X'^{T}).dot(y)$"
   ]
  },
  {
   "cell_type": "markdown",
   "metadata": {
    "id": "ISSxcHcTYcvS"
   },
   "source": [
    "<div class=\"alert alert-warning\">\n",
    "    <h2> Комментарий ревьюера 2<a class=\"tocSkip\"> </h2>\n",
    "    \n",
    "<b>Некоторые замечания и рекомендации💡:</b> \n",
    "        \n",
    "Лучше все записывать в формате формул, как у тебя ниже записаны свойства. В формате кода, как у тебя сейчас, не так удобно воспринимается читателем.\n",
    "        \n",
    "Чтобы поместить что-то в степень, мы используем такую конструкцию: `$X^{T}$` ($X^{T}$). Чтобы поместить что-то в нижний индекс, такую: `$X_{encoded}$` ($X_{encoded}$)."
   ]
  },
  {
   "cell_type": "markdown",
   "metadata": {
    "id": "L5Loa-_CqZEm"
   },
   "source": [
    "<div class=\"alert alert-info\">исправила</div> "
   ]
  },
  {
   "cell_type": "markdown",
   "metadata": {
    "id": "AJ6-4WeGNK4Y"
   },
   "source": [
    "<div class=\"alert alert-info\"> Дальше, для раскрытия скобок, мыиспользуем правила перемножения матриц, а именно: </div>"
   ]
  },
  {
   "cell_type": "markdown",
   "metadata": {
    "id": "SI-SwmYmNeZi"
   },
   "source": [
    "$(AB)^{-1} = B^{-1} A^{-1}$\n",
    " \n",
    "$A A^{-1} = A^{-1} A = E$"
   ]
  },
  {
   "cell_type": "markdown",
   "metadata": {
    "id": "WycuOwbrNoXQ"
   },
   "source": [
    "<div class=\"alert alert-info\">Мы раскрываем скобки и получаем,  </div>"
   ]
  },
  {
   "cell_type": "markdown",
   "metadata": {
    "id": "7pSjIcbQqjEp"
   },
   "source": [
    "$w' =  X'^{-1} * X'^{-1,T} * X'^{T} * y$"
   ]
  },
  {
   "cell_type": "markdown",
   "metadata": {
    "id": "C_tjsBvwq_Aj"
   },
   "source": [
    "<div class=\"alert alert-info\">\n",
    "Мы знаем, что если умножить матрицу, на обратную этой матрицы, получаем единичную матрицу, таким образом мы получаем еще более простую формулу \n",
    "$ w'  = X'^{-1} * единичн.матрица * y$ </div> "
   ]
  },
  {
   "cell_type": "markdown",
   "metadata": {
    "id": "8_tnC6YRYcvT"
   },
   "source": [
    "<div class=\"alert alert-block alert-danger\">\n",
    "<h2> Комментарий ревьюера 2<a class=\"tocSkip\"></h2>\n",
    "\n",
    "<b>На доработку🤔:</b>\n",
    "    \n",
    "Есть пара важных моментов, которые следует поправить.\n",
    "    \n",
    "1. Начем с того, что уже немного затрагивали выше в проекте, а именно, квадратность матриц. Наша матрица признаков $X$ имеет размерность 5000 на 4, то есть не квадратная. Если мы умножаем матрицу $X$ на $P$ (получаем $X'$), то в результате получаем тоже матрицу 5000 на 4 - неквадратную. Для неквадратных матриц невозможно найти определитель, который нужен для расчета обратной матрицы, соответственно, обратную матрицу мы посчитать не сможем. В связи с этим некорректно записывать $(X^{T})^{-1}$ и $X^{-1}$, так как обратные матрицы для них не существуют, получается, при такой записи мы не сможем воспользоваться формулой. \n",
    "    \n",
    "Предлагаю тебе сначала вместо $X'$ подставить $XP$, а затем раскрытие скобок начать с транспонирования (обязательно в верном порядке согласно свойсву! чтобы вручную не передвигать матрицы по формуле), тогда внутри скобок мы получим три квадратных множителя ($P^{T}_{4\\times 4}$, $(X^{T}_{4\\times 5000}X_{5000\\times 4})_{4\\times 4}$, $P_{4\\times 4}$), для которых уже можно будет найти обратные матрицы, так как они существуют.\n",
    "    \n",
    "2. Второй важный момент, ты не совсем корректно используешь свойство обращения произведения матриц. Обрати внимание, что при обращении и транспонировании порядок матриц меняется на обратный:     \n",
    "$$\n",
    "(AB)^T=B^T A^T\n",
    "$$\n",
    "$$\n",
    "(AB)^{-1} = B^{-1} A^{-1}\n",
    "$$\n",
    "    \n",
    "Почему мы так заостряем внимание на порядке? Если при умножении обычных чисел нам не важно, умножаем ли мы 2 на 3 или 3 на 2, в результате все равно получим 6, то это становится важно при перемножении матриц. Чтобы произведение между двумя матрицами в принципе возможно было найти, должно выполняться условие: количество столбцов левой матрицы должно быть равно количеству строк правой. Если это условие выполнится, то в результате перемножения мы получим матрицу с количеством строк как у левой матрицы и количеством столбцов как у правой: $A_{2\\times 3}B_{3\\times 4} = C_{2\\times 4}$. (заметь, что в примере умножить $B$ на $A$ уже не получится) \n",
    "    \n",
    "Посмотрим на другой пример: $A_{2\\times 3}B_{3\\times 2} = C_{2\\times 2}$ и $B_{3\\times 2}A_{2\\times 3} = D_{3\\times 3}$. Как видишь, теперь у нас размерности соблюдаются и после перестановки, но обрати внимание, что из-за этого на выходе мы получаем совершенно разные матрицы. Поэтому произвольно менять местами матрицы в формуле недопустимо, так как это повлияет на результат вычислений.\n",
    "    \n",
    "С произведением двух матриц разобрались. Что если матриц больше? Как и в случае чисел, нам совершенно не важно, в каком порядке мы будем выполнять само умножение для получения результата. Допустим, нам нужно умножить 2 на 3 и на 4. Мы можем умножить сначала 2 на 3 и получить 6, а потом 6 умножить на 4 и получить 24. А можем сначала умножить 3 на 4, получить 12, а потом 2 умножить на 12 и получить те же самые 24. С матрицами точно так же (эта называется сочетательным свойством матриц или ассоциативностью): \n",
    "    $$A_{2\\times 3}B_{3\\times 4}C_{4\\times 5} = (AB)_{2\\times 4}C_{4\\times 5} = A_{2\\times 3}(BC)_{3\\times 5} = D_{2\\times 5}$$\n",
    "    \n",
    "Заметь, что даже при различном сочетании матриц для произведения мы сохраняеим их порядок, чтобы не нарушалось сочетание размерностей соседних матриц. То есть мы можем перемножить между собой любые две **соседние** матрицы, но самостоятельно их передвигать, чтобы они оказались рядом, нельзя. Это достаточно важный момент в понимании линейной алгебры, поэтому хочу тебя попросить все-таки записать формулы с верной последовательностью перемножения матриц.\n",
    "    \n",
    "    \n",
    "После того, как внесешь верные исправления, у тебя изменится полуенное выражение, поэтому все последующие шаги ниже тоже нужно будет поправить."
   ]
  },
  {
   "cell_type": "markdown",
   "metadata": {
    "id": "IkL__OmZKOTD"
   },
   "source": [
    "<div class=\"alert alert-info\">###ver 2. спасибо за подробное объяснение по умножение матриц и последовательность. Я поменяла последовательность во всех формулах, согласно тому, что при раскрытии скобок А и В меняются местами, в итоге все равно получила тот же результат - $w' = X'^{-1} * y$ А по поводу квадратичности матриц. У меня в задании было сказанно проверить как поменятся умножение на обратимую матрицу, поэтому я взяла квадратную матрицу - как для своего теста, как для доказательств с помощью формул, так и применимо к исходным данным ВОТ ТАК что matrix = np.random.normal(size=(features.shape[1],features.shape[1])) она же квадратная? В первом пункте комментария, ты пишешь\"В связи с этим некорректно записывать $(X^{T})^{-1}$ и $X^{-1}$, так как обратные матрицы для них не существуют, получается, при такой записи мы не сможем воспользоваться формулой.\" но у меня матрица не 5000 на 4, а 4 на 4, она квадратная и обратимая. </div> "
   ]
  },
  {
   "cell_type": "markdown",
   "metadata": {
    "id": "tUBCBpHP_9QB"
   },
   "source": [
    "<div class=\"alert alert-block alert-danger\">\n",
    "<h2> Комментарий ревьюера 3<a class=\"tocSkip\"></h2>\n",
    "\n",
    "<b>На доработку🤔:</b>\n",
    "    \n",
    "Смотри, суть задания в том, что изначально у нас есть матрица признаков $X$ размером 5000 на 4 (неквадратная!). Потом мы захотели, зашифровать данные, чтобы никто не мог понять, что содержится внутри этой матрицы $X$. Для этого мы генерируем случайную обратимую матрицу $P$ размером 4 на 4. Чтобы зашифровать данные, нам нужно умножить $X$ на $P$. Теперь $X' = XP$ - наша новая матрица признаков с тем же размером 5000 на 4 (неквадратная!). И сейчас мы хотим убедиться, не изменятся ли от такого преобразования наши предсказания. То есть конкретно сейчас нас интересует именно наш случай с неквадратной матрицей признаков. А ты провела доказательство только для частного случая с квадратной матрицей признаков, который мало нам что дает. Если мы проведем доказательтво для неквадратной матрицы, то логично, что то же самое будет работать и для квадратной матрицы, но обратное суждение неверно (то что работае для квадратных матриц, не факт, что сработает для неквадраных, так как они не обладают преимуществом квадратности).\n",
    "    \n",
    "    \n",
    "Поэтому давай будем учитывать, что квадратная у нас только матрица $P$, а $X$ - нет. Попробуем подстваить $XP$ вместо $X$ в формулы, и верно используя свойства и помня про порядок и квадратность/неквадратность, попробуем раскрыть скобки."
   ]
  },
  {
   "cell_type": "markdown",
   "metadata": {
    "id": "iLBKFBGgOfN3"
   },
   "source": [
    "<div class=\"alert alert-info\"> НЕ КОММЕНАТРИЙ, ПРОДОЛЖЕНИЕ ДОКАЗАТЕЛЬСТВА Также нам известно, что при умножении матрицы на единичную матрицу получается та же матрица, значит $w' = X'^{-1} * единич. матрица * y$ Это тоже самое, что $w' = X'^{-1} * y$ Подствляем полученное значение w' в формулу подсчета предсказания (a' = X'w') и получаем, что $a' = X' * X'^{-1} * y$ Помним, что матрица умноженная на обратную дает еденичную матрицу и получаем,что $a= единичн.матрица * y $ А \"y\" это целевые показатели, которые в нашем случае остаются не изменные. </div>"
   ]
  },
  {
   "cell_type": "markdown",
   "metadata": {
    "id": "_MUUqPHYQwEO"
   },
   "source": [
    "<div class=\"alert alert-info\"> Делаем вывод, что предсказания остаются не изменны, даже если матрицу признаков умножить на обратимую рандомную матрицу </div> "
   ]
  },
  {
   "cell_type": "markdown",
   "metadata": {
    "id": "PL301v4Vnzvp"
   },
   "source": [
    "**Ответ:** Нет, умножение матрицы признаков на обратимую (не обратную) матрицу не меняет результатов предсказания Линейной Регрессии. \n",
    "\n",
    "**Обоснование:** мы умножили нашу исходную матрицу на обратимую рандомную матрицу, которая была созданна случайно. Для создания мрдели мы использовали класс LinearRegression,в котором прописанно, чем равен w по отношению к X,то есть чему равен \"вес\" по отношению к матрице признаков."
   ]
  },
  {
   "cell_type": "markdown",
   "metadata": {
    "id": "etfz9NAbmQIB"
   },
   "source": [
    "$w = np.linalg.inv(X^{T}.dot(X)).dot(X^{T}).dot(y)$"
   ]
  },
  {
   "cell_type": "markdown",
   "metadata": {
    "id": "8JgY7dcaAiYp"
   },
   "source": [
    "<div class=\"alert alert-block alert-danger\">\n",
    "<h2> Комментарий ревьюера <a class=\"tocSkip\"></h2>\n",
    "\n",
    "<b>На доработку🤔:</b>\n",
    "    \n",
    "Твой вывод не следует из твоего доказательства: для получения предсказаний мы матрицу $X$ умножаем на $w$, но если верить тебе, что $w$ меняется незначительно, то при умножении на другую матрицу $X$ (зашифрованную) мы получим совершенно другие предсказания, что противоречит твоему выводу и логике шифрования. \n",
    "    \n",
    "На этом этапе работы предполагалось теоретическое доказательство с использованием формул. Мы знаем, что предсказания линейной регрессии находятся по формуле:\n",
    "\n",
    "$$\n",
    "a = Xw,\n",
    "$$\n",
    "где $X$ - это матрица с нашими признаками, а $w$ - это вектор коэффициентов, полученный при обучении. Откуда этот вектор взялся? В процессе обучения мы решали задачу минимизации:\n",
    "$$\n",
    "\\min_w d_2(Xw, y)\n",
    "$$\n",
    "То есть коэффициенты $w$ подобрались таким образом, чтобы разница между предсказаниями и фактическими значениями таргета была минимальна. Самые оптимальные коэффициенты линейной регресси находятся вот по такой формуле (это доказанный факт):\n",
    "$$\n",
    "w = (X^T X)^{-1} X^T y\n",
    "$$ \n",
    "    \n",
    "Все, что выше, это стандартная задача линейно регрессии. А теперь мы хотим проверить, сможем ли мы получить те же самые предсказания после шифрования, то есть теперь матрица признаков не $X$, а $X' = XP$. Чтобы провести доказательство, тебе нужно, используя формулы, посчитать предсказания для новой матрицы признаков $X'$. В процессе тебе пригодятся свойсва умножения матриц, а также особенности транспонирования и обращения для произведения матриц:\n",
    "    $$\n",
    "(AB)^T=B^T A^T\n",
    "$$\n",
    "$$\n",
    "(AB)^{-1} = B^{-1} A^{-1}\n",
    "$$\n",
    "$$\n",
    "A A^{-1} = A^{-1} A = E\n",
    "$$\n",
    "$$\n",
    "AE = EA = A\n",
    "$$\n",
    "Используя эти свойства, мы сможем значительно упростить новую формулу вектора коэффициеетов $w'$."
   ]
  },
  {
   "cell_type": "markdown",
   "metadata": {
    "id": "HGMb6UMCRMvh"
   },
   "source": [
    "<div class=\"alert alert-info\"> Исправила, упростила формулу, привела доказательство через формулы </div> "
   ]
  },
  {
   "cell_type": "markdown",
   "metadata": {
    "id": "OfWAXF7yDHK-"
   },
   "source": [
    "<div class=\"alert alert-info\">согласна, что лучше доказать что не поменяются значения при умножении на не квадратную матрицу, чем наоборот. Но такое было задание :) Сейчас привела подобное доказательство формалами,исправила Х' на ХP (подразумевая, что ХР это неквадратная матрица размером 5000 на 4)</div> "
   ]
  },
  {
   "cell_type": "markdown",
   "metadata": {
    "id": "8be305_4DjY2"
   },
   "source": [
    "## Доказательство"
   ]
  },
  {
   "cell_type": "markdown",
   "metadata": {
    "id": "moCQsXH_Dnl6"
   },
   "source": [
    "Пусть X' = XP, тогда выражение $w = np.linalg.inv(X^{T}.dot(X)).dot(X^{T}).dot(y)$ приобретает вид $w' = ((XP)^{T}*XP)^{-1}*(XP)^{T}*y$ согласно правилам раскрытия скобок, мы получаем, $w' = (P^{T}X^{T}*XP)^{-1}*\n",
    "P^{T}_{4\\times 4}X^{T}_{4\\times 5000}*y$. Затем будем раскрывать скобки с обращением, в скобках у нас четыре множителя $(P^{T}_{4\\times 4}X^{T}_{4\\times 5000} * X_{5000\\times 4}P_{4\\times 4})$ Мы видим, что матрицы Х стоит рядом, что они обе не квадратрные и то, что одна из них транспонированная, а вторая нет, это значит, что при их перемножении получается квадратная матрица $M_{4*4}$ и в скобках остается три квадратные матрицы \n",
    "$(P^{T}_{4\\times 4}M_{4\\times 4}P_{4\\times 4})^{-1}$ Теперь мы можем раскрыть скобку и получить $P_{4\\times 4}^{-1} * M_{4\\times 4}^{-1}  * P_{4\\times 4}^{T-1}$ \n",
    "В полном виде формула выглядит так: $w' = P_{4\\times 4}^{-1} * M_{4\\times 4}^{-1}  * P_{4\\times 4}^{T-1} *\n",
    "P^{T}_{4\\times 4}* X^{T}_{4\\times 5000}*y$\n",
    "Таким образом, транспонированная матрица, при умножении на обратную транспонированную мтарицу образует единичную матрицу Е. Готовое выражение имеет вид $w' = P_{4\\times 4}^{-1} * M_{4\\times 4}^{-1}  * E * X^{T}_{4\\times 5000}*y$. Подставляем полученные коэфицент в выражение расчета предсказаний $ a = Xw $,получается $a_{p} = X_{5000\\times 4} * P_{4\\times 4} * P_{4\\times 4}^{-1} * M_{4\\times 4}^{-1}  * E * X^{T}_{4\\times 5000}*y$.В этом случае обратную мтарицу умножаем на обычную и получаем еще одну единичную матрицу. $a_{p} = X_{5000\\times 4} * E * M_{4\\times 4}^{-1}  * E * X^{T}_{4\\times 5000}*y$ Мы убираем единичные матрицы, так при умножении на единичную матрицу, получается та же матрица $a_{p} = X_{5000\\times 4} * M_{4\\times 4}^{-1}  * X^{T}_{4\\times 5000}*y$ <font color = 'red'> Затем мы подставяем вместо матрицы М обратно $X^TX$ получается $a_{p} = X_{5000\\times 4} * (X^{T}_{4\\times 5000} * X_{5000\\times 4})^{-1}  * X^{T}_{4\\times 5000}*y$  а для расчета \"w\" формула выглядит так $w' = P_{4\\times 4}^{-1} * (X^{T}_{4\\times 5000} * X_{5000\\times 4})^{-1} * X^{T}_{4\\times 5000}*y$, при замене мы получаем $w' = P_{4\\times 4}^{-1}w$ При подстановке в формулу предсказаний мы  должны получить $a_{p} =XPP^{-1}w =Xw$ или $a_{p} = a$ что доказывает, что предсказания не меняются, даже при умножении матрицы признаков на квадратную обратимую матрицу.</font>"
   ]
  },
  {
   "cell_type": "markdown",
   "metadata": {
    "id": "WI5XvrH3Z-fs"
   },
   "source": [
    "<div class=\"alert alert-block alert-danger\">\n",
    "<h2> Комментарий ревьюера 4<a class=\"tocSkip\"></h2>\n",
    "\n",
    "<b>На доработку🤔:</b>\n",
    "    \n",
    "Супер, мы уже гораздо ближе к верному доказательству! Будь, пожалуйста, повнимательнее: раз мы теперь подразумеваем, что $X$ и $XP$ невадратные, то мы не можем записывать $X^{-1}$ и $(XP)^{-1}$. Поэтому раскрытие скобок нужно начать с транспонирования (помним, что согласно свойству $(AB)^T=B^T A^T$ порядо матриц меняется, было $A$,$B$, стало $B$, $A$). Не забывай пожалуйста ставить скобки для транспонирования произведения (вот так $(XP)^{T}$), чтобы было видно, что транспонируется все произведение, а не только матрица $P$.\n",
    "    \n",
    "После того, как мы раскроем скобки с транспонированием, у нас внутри скобки с обращением будет 4 множителя. Смотрим по порядку: \n",
    "    \n",
    "$P^{T}$ - квадратная (размерность 4 на 4), значит для нее можно найти обратную и записать $(P^{T})^{-1}$.\n",
    "    \n",
    "$X^{T}$ - неквадратная (размерность 4 на 5000), значит для нее некорректно записывать $\\require{cancel} \\cancel{(X^{T})^{-1}}$.\n",
    "    \n",
    "$X$ - неквадратная (размерность 5000 на 4), значит для нее некорректно записывать $\\require{cancel} \\cancel{(X)^{-1}}$.\n",
    "    \n",
    "$P$ - квадратная по условию (размерность 4 на 4), значит для нее можно найти обратную и записать $(P)^{-1}$.\n",
    "    \n",
    "Что мы видим, два квадтратных и два неквадратных множителя, значит мы не можем применить свойство. Но есть выход из ситуации: благодаря сочетательному свойству (если нужно, могу в следующий раз рассказать о нем подробнее), мы можем любое произведение двух соседних матриц заменить на результат их произведения и это ни на что не повлияет. Обратим внимание, что при перемножении матриц $X^{T}$  и $X$ в результаьте получится квадратная матрица, то есть $X^{T}_{4\\times 5000}X_{5000\\times 4} = M_{4\\times 4}$. Таким образом наше произведение будет равно $(P^{T}_{4\\times 4}X^{T}_{4\\times 5000}X_{5000\\times 4}P_{4\\times 4}) = (P^{T}_{4\\times 4}M_{4\\times 4}P_{4\\times 4})$. Отлично, теперь у нас три квадратных множителя, и мы можем применить свойство.\n",
    "    \n",
    "Для трех множителей свойство аналогичное (выводится из свойства для двух множителей + сочетательное свойство):\n",
    "    \n",
    "$$(ABC)^{-1} = C^{-1}(AB)^{-1} = (BC)^{-1}A^{-1} = C^{-1}B^{-1}A^{-1}$$ "
   ]
  },
  {
   "cell_type": "markdown",
   "metadata": {
    "id": "P6mbhsd7ctJA"
   },
   "source": [
    "<div class=\"alert alert-info\">Коментарий 4: Я внесал изменнеия в доказательство через формулы, согласно правилам раскрытия скобок. Но вот эту фразу не понимаю совсем :) \"мы можем любое произведение двух соседних матриц заменить на результат их произведения и это ни на что не повлияет.\" что значит заменить произведение на произведение?</div> "
   ]
  },
  {
   "cell_type": "markdown",
   "metadata": {
    "id": "edHejw57_6JL"
   },
   "source": [
    "<div class=\"alert alert-block alert-danger\">\n",
    "<h2> Комментарий ревьюера 5<a class=\"tocSkip\"></h2>\n",
    "\n",
    "<b>На доработку🤔:</b>\n",
    "    \n",
    "Выделила в твоем доказательстве красным строки с некорректными суждениями. Ты сама пишешь про то, что чтобы пойти дальше, нужно нарушить последовательность, но дело в том, что ее как раз нарушать нельзя, об этом мы уже говорили выше. То, что ты получила после сокращения матриц $P$ - конечный результат, и больше мы ничего сокращать не можем. Чтобы все-таки показать, что предсказания равны, подставь вмесо матрицы $M$ то, чему она равна ($(X^TX)$), и ты увидишь, что мы получили формулу для предсказаний $a_{P} = Xw$. Точно по такой же формуле считаются и предсказания для изначальной (незашифрованной) матрицы: $a = Xw$.\n",
    "    \n",
    "    \n",
    "По поводу замены произведения на произведение: ты это как раз проделала с матрицей $M$. То есть можем считать, что когда мы делали расчеты, мы не шли по порядку формулы, а перемножили сначала $X^T$ и $X$ и то, чему равно их произведение, подставили в формулу на их место."
   ]
  },
  {
   "cell_type": "markdown",
   "metadata": {
    "id": "z428261XGuHq"
   },
   "source": [
    "<div class=\"alert alert-info\"> Вывод: какмы видим, на примере модели построенной через класс, а также на примере модели из библиотеки Sklearn,также чемерз доказательство формулами, что предстказания не зависят от того, что мы умнжаем признаки на матрицу (квадратную или не квадратную, обратимую или не обратимую) </div> "
   ]
  },
  {
   "cell_type": "markdown",
   "metadata": {
    "id": "AA4MPVbqRQez"
   },
   "source": [
    "<div class=\"alert alert-info\">Внесла изменения в доказательство для прямой не прямой, обратимой не обратимой матрицы, надеюсь получилось</div> "
   ]
  },
  {
   "cell_type": "markdown",
   "metadata": {},
   "source": [
    "<div class=\"alert alert-success\">\n",
    "<h2> Комментарий ревьюера 6<a class=\"tocSkip\"> </h2>\n",
    "\n",
    "<b>Отличная работа!👍:</b> \n",
    "    \n",
    "Немного подкорректировала формулировку, а так принято :)"
   ]
  },
  {
   "cell_type": "markdown",
   "metadata": {
    "id": "ftUIi4sYnzvq"
   },
   "source": [
    "## Алгоритм преобразования"
   ]
  },
  {
   "cell_type": "markdown",
   "metadata": {
    "id": "JaEcA9VLnzvq"
   },
   "source": [
    "**Алгоритм**\n",
    "\n",
    "Для защиты данных, мы умножим целевые признаки на обратимую случайную матрицу."
   ]
  },
  {
   "cell_type": "markdown",
   "metadata": {
    "id": "2Bdyde14nzvr"
   },
   "source": [
    "**Обоснование**\n",
    "\n",
    "Таким образом мы сохраним качество данних и качество предсказаний модели"
   ]
  },
  {
   "cell_type": "markdown",
   "metadata": {
    "id": "KQXaJJvKnzvr"
   },
   "source": [
    "## Проверка алгоритма"
   ]
  },
  {
   "cell_type": "markdown",
   "metadata": {
    "id": "CczR0uPLK8K6"
   },
   "source": [
    "Для проверки работы алгоритма рассчитаем с помощью Линейной Регрессии из библиотеки sklearn значение r2_score для преобразованных данных."
   ]
  },
  {
   "cell_type": "code",
   "execution_count": 35,
   "metadata": {
    "colab": {
     "base_uri": "https://localhost:8080/"
    },
    "id": "agpnkOW-nzvr",
    "outputId": "dd7f2966-7ec6-4c61-a72e-146ca962e47a"
   },
   "outputs": [
    {
     "name": "stdout",
     "output_type": "stream",
     "text": [
      "0.4305278542486013\n"
     ]
    }
   ],
   "source": [
    "model_sk = LinearRegression()\n",
    "model_sk.fit(features_train_new, target_train)\n",
    "predictions = model_sk.predict(features_test_new)\n",
    "print(r2_score(target_test, predictions))"
   ]
  },
  {
   "cell_type": "markdown",
   "metadata": {
    "id": "4-28LrlkPqXH"
   },
   "source": [
    "Вывод: Предсказания линейной регрессии не изменились, ни в случае использования линейной регрессии из класса, ни в случае использования линейно регрессии из sklearn. Также предсказания не изменились, в случае если данные преобразовать, умножив их на обратимую рандомную модель."
   ]
  },
  {
   "cell_type": "markdown",
   "metadata": {
    "id": "rJLU5g5TAiYq"
   },
   "source": [
    "<div class=\"alert alert-success\">\n",
    "<h2> Комментарий ревьюера <a class=\"tocSkip\"> </h2>\n",
    "\n",
    "<b>Отличная работа!👍:</b> \n",
    "    \n",
    "Супер! Мы справились с задачей :)"
   ]
  },
  {
   "cell_type": "markdown",
   "metadata": {
    "id": "j6CMMu9Pnzvr"
   },
   "source": [
    "## Чек-лист проверки"
   ]
  },
  {
   "cell_type": "markdown",
   "metadata": {
    "id": "PGT7I_pHnzvr"
   },
   "source": [
    "Поставьте 'x' в выполненных пунктах. Далее нажмите Shift+Enter."
   ]
  },
  {
   "cell_type": "markdown",
   "metadata": {
    "id": "-kk1BJROnzvs"
   },
   "source": [
    "- [x]  Jupyter Notebook открыт\n",
    "- [ ]  Весь код выполняется без ошибок\n",
    "- [ ]  Ячейки с кодом расположены в порядке исполнения\n",
    "- [ ]  Выполнен шаг 1: данные загружены\n",
    "- [ ]  Выполнен шаг 2: получен ответ на вопрос об умножении матриц\n",
    "    - [ ]  Указан правильный вариант ответа\n",
    "    - [ ]  Вариант обоснован\n",
    "- [ ]  Выполнен шаг 3: предложен алгоритм преобразования\n",
    "    - [ ]  Алгоритм описан\n",
    "    - [ ]  Алгоритм обоснован\n",
    "- [ ]  Выполнен шаг 4: алгоритм проверен\n",
    "    - [ ]  Алгоритм реализован\n",
    "    - [ ]  Проведено сравнение качества моделей до и после преобразования"
   ]
  },
  {
   "cell_type": "markdown",
   "metadata": {
    "id": "qg4GB_LJnzvs"
   },
   "source": [
    "<div style=\"border:solid Chocolate 2px; padding: 40px\">\n",
    "\n",
    "**Общий вывод по проекту**\n",
    "\n",
    "Юлия, спасибо за твой проект! У тебя хорошая работа, но ты пока немного запуталась в сути задачи. Давай попробуем разобраться по порядку с теоретическим доказательством, тогда, думаю, все станет более ясным :) Если у тебя есть вопросы, или появится желание разобраться в чем-то подробнее, смело обращайся!\n",
    "\n",
    "**Желаю удачи и жду твой проект на повторное ревью!** 😉\n",
    "    \n",
    "<img src=\"https://c.tenor.com/D4geDkAW9jgAAAAj/cat-paw.gif\" width=\"100\" height=\"50\"/>"
   ]
  },
  {
   "cell_type": "code",
   "execution_count": 35,
   "metadata": {
    "id": "tqLwhWHOAiYq"
   },
   "outputs": [],
   "source": []
  }
 ],
 "metadata": {
  "colab": {
   "collapsed_sections": [
    "ftUIi4sYnzvq",
    "KQXaJJvKnzvr",
    "j6CMMu9Pnzvr"
   ],
   "name": "e3385274-314d-4750-80a5-ba17fc93724f.ipynb 6.json",
   "provenance": []
  },
  "kernelspec": {
   "display_name": "Python 3 (ipykernel)",
   "language": "python",
   "name": "python3"
  },
  "language_info": {
   "codemirror_mode": {
    "name": "ipython",
    "version": 3
   },
   "file_extension": ".py",
   "mimetype": "text/x-python",
   "name": "python",
   "nbconvert_exporter": "python",
   "pygments_lexer": "ipython3",
   "version": "3.9.10+"
  },
  "toc": {
   "base_numbering": 1,
   "nav_menu": {},
   "number_sections": true,
   "sideBar": true,
   "skip_h1_title": true,
   "title_cell": "Содержание",
   "title_sidebar": "Contents",
   "toc_cell": true,
   "toc_position": {
    "height": "calc(100% - 180px)",
    "left": "10px",
    "top": "150px",
    "width": "165px"
   },
   "toc_section_display": true,
   "toc_window_display": true
  }
 },
 "nbformat": 4,
 "nbformat_minor": 1
}
