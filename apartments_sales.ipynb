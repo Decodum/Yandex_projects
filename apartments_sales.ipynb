{
  "cells": [
    {
      "cell_type": "markdown",
      "metadata": {
        "id": "Wl4d7L1q1N5l"
      },
      "source": [
        "# Research of ads for the sale of apartments\n",
        "We have the data of the Yandex.Realty service - an archive of ads for the sale of apartments in St. Petersburg and neighboring settlements for several years. My job is to set the parameters. This will allow to build an automated system: it will track anomalies and fraudulent activity.\n",
        "\n",
        "Two types of data are available for each apartment for sale. The first one is entered by the user, the second one is obtained automatically on the basis of cartographic data. For example, the distance to the center, airports, nearest parks.\n",
        "\n",
        "Objectives of the study: to determine which parameters affect the pricing of an apartment. Determine what types of dependencies exist, which ones are strong and which are weak.\n",
        "\n",
        "Research project steps:\n",
        "1. pre-process the data, identify anomalous values ​​and remove them. Clear data from obvious duplicates, check the data type and change it if necessary.\n",
        "2. The next step is to define new variables: cost per square meter, month, year and day of the week.\n",
        "3. Then, conduct a self-study and determine what parameters affect the cost of the apartment. Compare the dependence among themselves, which of the parameters of the apartment is decisive in pricing."
      ]
    },
    {
      "cell_type": "markdown",
      "metadata": {
        "id": "sdzp5BLe1N5n"
      },
      "source": [
        "## Primary data view"
      ]
    },
    {
      "cell_type": "code",
      "execution_count": null,
      "metadata": {
        "id": "P-cqPuHS1N5n"
      },
      "outputs": [],
      "source": [
        "import pandas as pd\n",
        "import matplotlib.pyplot as plt\n",
        "import numpy as np\n",
        "import seaborn as sns"
      ]
    },
    {
      "cell_type": "code",
      "execution_count": null,
      "metadata": {
        "id": "6R8OvjOU1N5o",
        "outputId": "34793798-814b-408b-b3b1-84bb46f28305"
      },
      "outputs": [
        {
          "data": {
            "text/html": [
              "<div>\n",
              "<style scoped>\n",
              "    .dataframe tbody tr th:only-of-type {\n",
              "        vertical-align: middle;\n",
              "    }\n",
              "\n",
              "    .dataframe tbody tr th {\n",
              "        vertical-align: top;\n",
              "    }\n",
              "\n",
              "    .dataframe thead th {\n",
              "        text-align: right;\n",
              "    }\n",
              "</style>\n",
              "<table border=\"1\" class=\"dataframe\">\n",
              "  <thead>\n",
              "    <tr style=\"text-align: right;\">\n",
              "      <th></th>\n",
              "      <th>total_images</th>\n",
              "      <th>last_price</th>\n",
              "      <th>total_area</th>\n",
              "      <th>first_day_exposition</th>\n",
              "      <th>rooms</th>\n",
              "      <th>ceiling_height</th>\n",
              "      <th>floors_total</th>\n",
              "      <th>living_area</th>\n",
              "      <th>floor</th>\n",
              "      <th>is_apartment</th>\n",
              "      <th>...</th>\n",
              "      <th>kitchen_area</th>\n",
              "      <th>balcony</th>\n",
              "      <th>locality_name</th>\n",
              "      <th>airports_nearest</th>\n",
              "      <th>cityCenters_nearest</th>\n",
              "      <th>parks_around3000</th>\n",
              "      <th>parks_nearest</th>\n",
              "      <th>ponds_around3000</th>\n",
              "      <th>ponds_nearest</th>\n",
              "      <th>days_exposition</th>\n",
              "    </tr>\n",
              "  </thead>\n",
              "  <tbody>\n",
              "    <tr>\n",
              "      <th>23689</th>\n",
              "      <td>13</td>\n",
              "      <td>3550000.0</td>\n",
              "      <td>35.30</td>\n",
              "      <td>2018-02-28T00:00:00</td>\n",
              "      <td>1</td>\n",
              "      <td>2.86</td>\n",
              "      <td>15.0</td>\n",
              "      <td>16.3</td>\n",
              "      <td>4</td>\n",
              "      <td>NaN</td>\n",
              "      <td>...</td>\n",
              "      <td>9.10</td>\n",
              "      <td>2.0</td>\n",
              "      <td>Санкт-Петербург</td>\n",
              "      <td>17284.0</td>\n",
              "      <td>16081.0</td>\n",
              "      <td>1.0</td>\n",
              "      <td>353.0</td>\n",
              "      <td>2.0</td>\n",
              "      <td>652.0</td>\n",
              "      <td>29.0</td>\n",
              "    </tr>\n",
              "    <tr>\n",
              "      <th>23690</th>\n",
              "      <td>3</td>\n",
              "      <td>5500000.0</td>\n",
              "      <td>52.00</td>\n",
              "      <td>2018-07-19T00:00:00</td>\n",
              "      <td>2</td>\n",
              "      <td>NaN</td>\n",
              "      <td>5.0</td>\n",
              "      <td>31.0</td>\n",
              "      <td>2</td>\n",
              "      <td>NaN</td>\n",
              "      <td>...</td>\n",
              "      <td>6.00</td>\n",
              "      <td>NaN</td>\n",
              "      <td>Санкт-Петербург</td>\n",
              "      <td>20151.0</td>\n",
              "      <td>6263.0</td>\n",
              "      <td>1.0</td>\n",
              "      <td>300.0</td>\n",
              "      <td>0.0</td>\n",
              "      <td>NaN</td>\n",
              "      <td>15.0</td>\n",
              "    </tr>\n",
              "    <tr>\n",
              "      <th>23691</th>\n",
              "      <td>11</td>\n",
              "      <td>9470000.0</td>\n",
              "      <td>72.90</td>\n",
              "      <td>2016-10-13T00:00:00</td>\n",
              "      <td>2</td>\n",
              "      <td>2.75</td>\n",
              "      <td>25.0</td>\n",
              "      <td>40.3</td>\n",
              "      <td>7</td>\n",
              "      <td>NaN</td>\n",
              "      <td>...</td>\n",
              "      <td>10.60</td>\n",
              "      <td>1.0</td>\n",
              "      <td>Санкт-Петербург</td>\n",
              "      <td>19424.0</td>\n",
              "      <td>4489.0</td>\n",
              "      <td>0.0</td>\n",
              "      <td>NaN</td>\n",
              "      <td>1.0</td>\n",
              "      <td>806.0</td>\n",
              "      <td>519.0</td>\n",
              "    </tr>\n",
              "    <tr>\n",
              "      <th>23692</th>\n",
              "      <td>2</td>\n",
              "      <td>1350000.0</td>\n",
              "      <td>30.00</td>\n",
              "      <td>2017-07-07T00:00:00</td>\n",
              "      <td>1</td>\n",
              "      <td>NaN</td>\n",
              "      <td>5.0</td>\n",
              "      <td>17.5</td>\n",
              "      <td>4</td>\n",
              "      <td>NaN</td>\n",
              "      <td>...</td>\n",
              "      <td>6.00</td>\n",
              "      <td>NaN</td>\n",
              "      <td>Тихвин</td>\n",
              "      <td>NaN</td>\n",
              "      <td>NaN</td>\n",
              "      <td>NaN</td>\n",
              "      <td>NaN</td>\n",
              "      <td>NaN</td>\n",
              "      <td>NaN</td>\n",
              "      <td>413.0</td>\n",
              "    </tr>\n",
              "    <tr>\n",
              "      <th>23693</th>\n",
              "      <td>9</td>\n",
              "      <td>4600000.0</td>\n",
              "      <td>62.40</td>\n",
              "      <td>2016-08-05T00:00:00</td>\n",
              "      <td>3</td>\n",
              "      <td>2.60</td>\n",
              "      <td>9.0</td>\n",
              "      <td>40.0</td>\n",
              "      <td>8</td>\n",
              "      <td>NaN</td>\n",
              "      <td>...</td>\n",
              "      <td>8.00</td>\n",
              "      <td>0.0</td>\n",
              "      <td>Петергоф</td>\n",
              "      <td>45602.0</td>\n",
              "      <td>34104.0</td>\n",
              "      <td>1.0</td>\n",
              "      <td>352.0</td>\n",
              "      <td>1.0</td>\n",
              "      <td>675.0</td>\n",
              "      <td>239.0</td>\n",
              "    </tr>\n",
              "    <tr>\n",
              "      <th>23694</th>\n",
              "      <td>9</td>\n",
              "      <td>9700000.0</td>\n",
              "      <td>133.81</td>\n",
              "      <td>2017-03-21T00:00:00</td>\n",
              "      <td>3</td>\n",
              "      <td>3.70</td>\n",
              "      <td>5.0</td>\n",
              "      <td>73.3</td>\n",
              "      <td>3</td>\n",
              "      <td>NaN</td>\n",
              "      <td>...</td>\n",
              "      <td>13.83</td>\n",
              "      <td>NaN</td>\n",
              "      <td>Санкт-Петербург</td>\n",
              "      <td>24665.0</td>\n",
              "      <td>4232.0</td>\n",
              "      <td>1.0</td>\n",
              "      <td>796.0</td>\n",
              "      <td>3.0</td>\n",
              "      <td>381.0</td>\n",
              "      <td>NaN</td>\n",
              "    </tr>\n",
              "    <tr>\n",
              "      <th>23695</th>\n",
              "      <td>14</td>\n",
              "      <td>3100000.0</td>\n",
              "      <td>59.00</td>\n",
              "      <td>2018-01-15T00:00:00</td>\n",
              "      <td>3</td>\n",
              "      <td>NaN</td>\n",
              "      <td>5.0</td>\n",
              "      <td>38.0</td>\n",
              "      <td>4</td>\n",
              "      <td>NaN</td>\n",
              "      <td>...</td>\n",
              "      <td>8.50</td>\n",
              "      <td>NaN</td>\n",
              "      <td>Тосно</td>\n",
              "      <td>NaN</td>\n",
              "      <td>NaN</td>\n",
              "      <td>NaN</td>\n",
              "      <td>NaN</td>\n",
              "      <td>NaN</td>\n",
              "      <td>NaN</td>\n",
              "      <td>45.0</td>\n",
              "    </tr>\n",
              "    <tr>\n",
              "      <th>23696</th>\n",
              "      <td>18</td>\n",
              "      <td>2500000.0</td>\n",
              "      <td>56.70</td>\n",
              "      <td>2018-02-11T00:00:00</td>\n",
              "      <td>2</td>\n",
              "      <td>NaN</td>\n",
              "      <td>3.0</td>\n",
              "      <td>29.7</td>\n",
              "      <td>1</td>\n",
              "      <td>NaN</td>\n",
              "      <td>...</td>\n",
              "      <td>NaN</td>\n",
              "      <td>NaN</td>\n",
              "      <td>село Рождествено</td>\n",
              "      <td>NaN</td>\n",
              "      <td>NaN</td>\n",
              "      <td>NaN</td>\n",
              "      <td>NaN</td>\n",
              "      <td>NaN</td>\n",
              "      <td>NaN</td>\n",
              "      <td>NaN</td>\n",
              "    </tr>\n",
              "    <tr>\n",
              "      <th>23697</th>\n",
              "      <td>13</td>\n",
              "      <td>11475000.0</td>\n",
              "      <td>76.75</td>\n",
              "      <td>2017-03-28T00:00:00</td>\n",
              "      <td>2</td>\n",
              "      <td>3.00</td>\n",
              "      <td>17.0</td>\n",
              "      <td>NaN</td>\n",
              "      <td>12</td>\n",
              "      <td>NaN</td>\n",
              "      <td>...</td>\n",
              "      <td>23.30</td>\n",
              "      <td>2.0</td>\n",
              "      <td>Санкт-Петербург</td>\n",
              "      <td>39140.0</td>\n",
              "      <td>10364.0</td>\n",
              "      <td>2.0</td>\n",
              "      <td>173.0</td>\n",
              "      <td>3.0</td>\n",
              "      <td>196.0</td>\n",
              "      <td>602.0</td>\n",
              "    </tr>\n",
              "    <tr>\n",
              "      <th>23698</th>\n",
              "      <td>4</td>\n",
              "      <td>1350000.0</td>\n",
              "      <td>32.30</td>\n",
              "      <td>2017-07-21T00:00:00</td>\n",
              "      <td>1</td>\n",
              "      <td>2.50</td>\n",
              "      <td>5.0</td>\n",
              "      <td>12.3</td>\n",
              "      <td>1</td>\n",
              "      <td>NaN</td>\n",
              "      <td>...</td>\n",
              "      <td>9.00</td>\n",
              "      <td>NaN</td>\n",
              "      <td>поселок Новый Учхоз</td>\n",
              "      <td>NaN</td>\n",
              "      <td>NaN</td>\n",
              "      <td>NaN</td>\n",
              "      <td>NaN</td>\n",
              "      <td>NaN</td>\n",
              "      <td>NaN</td>\n",
              "      <td>NaN</td>\n",
              "    </tr>\n",
              "  </tbody>\n",
              "</table>\n",
              "<p>10 rows × 22 columns</p>\n",
              "</div>"
            ],
            "text/plain": [
              "       total_images  last_price  total_area first_day_exposition  rooms  \\\n",
              "23689            13   3550000.0       35.30  2018-02-28T00:00:00      1   \n",
              "23690             3   5500000.0       52.00  2018-07-19T00:00:00      2   \n",
              "23691            11   9470000.0       72.90  2016-10-13T00:00:00      2   \n",
              "23692             2   1350000.0       30.00  2017-07-07T00:00:00      1   \n",
              "23693             9   4600000.0       62.40  2016-08-05T00:00:00      3   \n",
              "23694             9   9700000.0      133.81  2017-03-21T00:00:00      3   \n",
              "23695            14   3100000.0       59.00  2018-01-15T00:00:00      3   \n",
              "23696            18   2500000.0       56.70  2018-02-11T00:00:00      2   \n",
              "23697            13  11475000.0       76.75  2017-03-28T00:00:00      2   \n",
              "23698             4   1350000.0       32.30  2017-07-21T00:00:00      1   \n",
              "\n",
              "       ceiling_height  floors_total  living_area  floor is_apartment  ...  \\\n",
              "23689            2.86          15.0         16.3      4          NaN  ...   \n",
              "23690             NaN           5.0         31.0      2          NaN  ...   \n",
              "23691            2.75          25.0         40.3      7          NaN  ...   \n",
              "23692             NaN           5.0         17.5      4          NaN  ...   \n",
              "23693            2.60           9.0         40.0      8          NaN  ...   \n",
              "23694            3.70           5.0         73.3      3          NaN  ...   \n",
              "23695             NaN           5.0         38.0      4          NaN  ...   \n",
              "23696             NaN           3.0         29.7      1          NaN  ...   \n",
              "23697            3.00          17.0          NaN     12          NaN  ...   \n",
              "23698            2.50           5.0         12.3      1          NaN  ...   \n",
              "\n",
              "       kitchen_area  balcony        locality_name  airports_nearest  \\\n",
              "23689          9.10      2.0      Санкт-Петербург           17284.0   \n",
              "23690          6.00      NaN      Санкт-Петербург           20151.0   \n",
              "23691         10.60      1.0      Санкт-Петербург           19424.0   \n",
              "23692          6.00      NaN               Тихвин               NaN   \n",
              "23693          8.00      0.0             Петергоф           45602.0   \n",
              "23694         13.83      NaN      Санкт-Петербург           24665.0   \n",
              "23695          8.50      NaN                Тосно               NaN   \n",
              "23696           NaN      NaN     село Рождествено               NaN   \n",
              "23697         23.30      2.0      Санкт-Петербург           39140.0   \n",
              "23698          9.00      NaN  поселок Новый Учхоз               NaN   \n",
              "\n",
              "      cityCenters_nearest  parks_around3000  parks_nearest  ponds_around3000  \\\n",
              "23689             16081.0               1.0          353.0               2.0   \n",
              "23690              6263.0               1.0          300.0               0.0   \n",
              "23691              4489.0               0.0            NaN               1.0   \n",
              "23692                 NaN               NaN            NaN               NaN   \n",
              "23693             34104.0               1.0          352.0               1.0   \n",
              "23694              4232.0               1.0          796.0               3.0   \n",
              "23695                 NaN               NaN            NaN               NaN   \n",
              "23696                 NaN               NaN            NaN               NaN   \n",
              "23697             10364.0               2.0          173.0               3.0   \n",
              "23698                 NaN               NaN            NaN               NaN   \n",
              "\n",
              "       ponds_nearest  days_exposition  \n",
              "23689          652.0             29.0  \n",
              "23690            NaN             15.0  \n",
              "23691          806.0            519.0  \n",
              "23692            NaN            413.0  \n",
              "23693          675.0            239.0  \n",
              "23694          381.0              NaN  \n",
              "23695            NaN             45.0  \n",
              "23696            NaN              NaN  \n",
              "23697          196.0            602.0  \n",
              "23698            NaN              NaN  \n",
              "\n",
              "[10 rows x 22 columns]"
            ]
          },
          "execution_count": 2,
          "metadata": {},
          "output_type": "execute_result"
        }
      ],
      "source": [
        "data = pd.read_csv('real_estate_data.csv', sep='\\t')\n",
        "data.tail(10)"
      ]
    },
    {
      "cell_type": "code",
      "execution_count": null,
      "metadata": {
        "id": "EE-ZLSuJ1N5p",
        "outputId": "840a5e12-baf2-4853-ea13-66ad06792690"
      },
      "outputs": [
        {
          "name": "stdout",
          "output_type": "stream",
          "text": [
            "<class 'pandas.core.frame.DataFrame'>\n",
            "RangeIndex: 23699 entries, 0 to 23698\n",
            "Data columns (total 22 columns):\n",
            " #   Column                Non-Null Count  Dtype  \n",
            "---  ------                --------------  -----  \n",
            " 0   total_images          23699 non-null  int64  \n",
            " 1   last_price            23699 non-null  float64\n",
            " 2   total_area            23699 non-null  float64\n",
            " 3   first_day_exposition  23699 non-null  object \n",
            " 4   rooms                 23699 non-null  int64  \n",
            " 5   ceiling_height        14504 non-null  float64\n",
            " 6   floors_total          23613 non-null  float64\n",
            " 7   living_area           21796 non-null  float64\n",
            " 8   floor                 23699 non-null  int64  \n",
            " 9   is_apartment          2775 non-null   object \n",
            " 10  studio                23699 non-null  bool   \n",
            " 11  open_plan             23699 non-null  bool   \n",
            " 12  kitchen_area          21421 non-null  float64\n",
            " 13  balcony               12180 non-null  float64\n",
            " 14  locality_name         23650 non-null  object \n",
            " 15  airports_nearest      18157 non-null  float64\n",
            " 16  cityCenters_nearest   18180 non-null  float64\n",
            " 17  parks_around3000      18181 non-null  float64\n",
            " 18  parks_nearest         8079 non-null   float64\n",
            " 19  ponds_around3000      18181 non-null  float64\n",
            " 20  ponds_nearest         9110 non-null   float64\n",
            " 21  days_exposition       20518 non-null  float64\n",
            "dtypes: bool(2), float64(14), int64(3), object(3)\n",
            "memory usage: 3.7+ MB\n"
          ]
        }
      ],
      "source": [
        "data.info()"
      ]
    },
    {
      "cell_type": "markdown",
      "metadata": {
        "id": "nHxRnQm21N5p"
      },
      "source": [
        "## Description of columns\n",
        "* airports_nearest - distance to the nearest airport in meters (m)\n",
        "* balcony — number of balconies\n",
        "* ceiling_height - ceiling height (m)\n",
        "* cityCenters_nearest - distance to the city center (m)\n",
        "* days_exposition - how many days the ad was placed (from publication to withdrawal)\n",
        "* first_day_exposition - publication date\n",
        "* floor - floor\n",
        "* floors_total - total floors in the house\n",
        "* is_apartment - apartments (boolean)\n",
        "* kitchen_area - kitchen area in square meters (m²)\n",
        "* last_price - price at the time of unpublishing\n",
        "* living_area - living area in square meters (m²)\n",
        "* locality_name — name of the locality\n",
        "* open_plan - open plan (boolean)\n",
        "* parks_around3000 - number of parks within a 3 km radius\n",
        "* parks_nearest - distance to the nearest park (m)\n",
        "* ponds_around3000 - the number of ponds within a radius of 3 km\n",
        "* ponds_nearest — distance to the nearest body of water (m)\n",
        "* rooms - number of rooms\n",
        "* studio - studio apartment (boolean)\n",
        "* total_area - area of ​​the apartment in square meters (m²)\n",
        "* total_images - the number of photos of the apartment in the ad"
      ]
    },
    {
      "cell_type": "markdown",
      "metadata": {
        "id": "sTeAznh91N5q"
      },
      "source": [
        "### Conclusion\n",
        "1. There are no values in some columns, we will consider each case separately\n",
        "2. we see that we have 21 columns and different data types (to change them or not, we will decide in the preprocessing process)"
      ]
    },
    {
      "cell_type": "markdown",
      "metadata": {
        "id": "5889r8zB1N5r"
      },
      "source": [
        "## Preprocessing"
      ]
    },
    {
      "cell_type": "markdown",
      "metadata": {
        "id": "zIjOjTXJ1N5s"
      },
      "source": [
        "searching of nulls"
      ]
    },
    {
      "cell_type": "code",
      "execution_count": null,
      "metadata": {
        "scrolled": true,
        "id": "Lxd-o6T61N5s",
        "outputId": "9938f581-11b7-4141-833c-c8286176dc89"
      },
      "outputs": [
        {
          "data": {
            "text/plain": [
              "total_images                0\n",
              "open_plan                   0\n",
              "floor                       0\n",
              "rooms                       0\n",
              "studio                      0\n",
              "total_area                  0\n",
              "last_price                  0\n",
              "first_day_exposition        0\n",
              "locality_name              49\n",
              "floors_total               86\n",
              "living_area              1903\n",
              "kitchen_area             2278\n",
              "days_exposition          3181\n",
              "ponds_around3000         5518\n",
              "parks_around3000         5518\n",
              "cityCenters_nearest      5519\n",
              "airports_nearest         5542\n",
              "ceiling_height           9195\n",
              "balcony                 11519\n",
              "ponds_nearest           14589\n",
              "parks_nearest           15620\n",
              "is_apartment            20924\n",
              "dtype: int64"
            ]
          },
          "execution_count": 4,
          "metadata": {},
          "output_type": "execute_result"
        }
      ],
      "source": [
        "a = data.isna().sum()\n",
        "a.sort_values()"
      ]
    },
    {
      "cell_type": "code",
      "execution_count": null,
      "metadata": {
        "id": "Y6ZkwsDr1N5t",
        "outputId": "a6da7095-c4c1-482c-edda-6e57d2c8a46b"
      },
      "outputs": [
        {
          "data": {
            "text/plain": [
              "total_images            0.000000\n",
              "open_plan               0.000000\n",
              "floor                   0.000000\n",
              "rooms                   0.000000\n",
              "studio                  0.000000\n",
              "total_area              0.000000\n",
              "last_price              0.000000\n",
              "first_day_exposition    0.000000\n",
              "locality_name           0.002068\n",
              "floors_total            0.003629\n",
              "living_area             0.080299\n",
              "kitchen_area            0.096122\n",
              "days_exposition         0.134225\n",
              "ponds_around3000        0.232837\n",
              "parks_around3000        0.232837\n",
              "cityCenters_nearest     0.232879\n",
              "airports_nearest        0.233850\n",
              "ceiling_height          0.387991\n",
              "balcony                 0.486054\n",
              "ponds_nearest           0.615596\n",
              "parks_nearest           0.659100\n",
              "is_apartment            0.882906\n",
              "dtype: float64"
            ]
          },
          "execution_count": 5,
          "metadata": {},
          "output_type": "execute_result"
        }
      ],
      "source": [
        "data.isna().mean().sort_values()"
      ]
    },
    {
      "cell_type": "markdown",
      "metadata": {
        "id": "G8GGzTF41N5u"
      },
      "source": [
        "First, balconies: I think the absence of balconies can be replaced with 0, without losing information. And for further manipulation with values from this column, we translate the obtained values into the int data type"
      ]
    },
    {
      "cell_type": "code",
      "execution_count": null,
      "metadata": {
        "id": "sLtJA_8d1N5v"
      },
      "outputs": [],
      "source": [
        "data['balcony'] = data['balcony'].fillna(0)\n",
        "data['balcony'] = data['balcony'].astype('int')"
      ]
    },
    {
      "cell_type": "markdown",
      "metadata": {
        "id": "Vo-Ev-I11N5v"
      },
      "source": [
        "Then floors. We can't replace the missing values with 0, but we can assume that the total number of floors is at least the same as the floor the apartment is on, so we can substitute the value from the 'floor' column"
      ]
    },
    {
      "cell_type": "code",
      "execution_count": null,
      "metadata": {
        "scrolled": true,
        "id": "5OBZrOGy1N5v",
        "outputId": "fec47f0b-d86a-4c62-ada8-14f3a07fae40"
      },
      "outputs": [
        {
          "data": {
            "text/plain": [
              "0"
            ]
          },
          "metadata": {},
          "output_type": "display_data"
        }
      ],
      "source": [
        "data['floors_total'] = data['floors_total'].fillna(data['floor'])\n",
        "display(data['floors_total'].isna().sum())       "
      ]
    },
    {
      "cell_type": "code",
      "execution_count": null,
      "metadata": {
        "id": "JjCZqSaq1N5w"
      },
      "outputs": [],
      "source": [
        "data['floors_total'] = data['floors_total'].astype(int)"
      ]
    },
    {
      "cell_type": "markdown",
      "metadata": {
        "id": "igkF9a6O1N5w"
      },
      "source": [
        "We are looking at the possibility of preprocessing the values in the columns with reservoirs and parks. Theoretically, if there are \"distance to the nearest body of water\" values, then the column with the number of bodies of water should not be empty, since at least one body of water is nearby. Testing this theory"
      ]
    },
    {
      "cell_type": "markdown",
      "metadata": {
        "id": "KsEIu1Ln1N5x"
      },
      "source": [
        "We are determining the number of apartments in which:\n",
        "1. the distance to the reservoirs is not known\n",
        "2. the number of apartments in which the number of nearby water bodies is not known"
      ]
    },
    {
      "cell_type": "code",
      "execution_count": null,
      "metadata": {
        "id": "Jx9JycUM1N5x",
        "outputId": "43b7089f-5ba0-4bb9-f2c2-2accf18f4000"
      },
      "outputs": [
        {
          "data": {
            "text/plain": [
              "14589"
            ]
          },
          "metadata": {},
          "output_type": "display_data"
        },
        {
          "data": {
            "text/plain": [
              "5518"
            ]
          },
          "execution_count": 9,
          "metadata": {},
          "output_type": "execute_result"
        }
      ],
      "source": [
        "#ponds_around3000 — число водоёмов в радиусе 3 км\n",
        "#ponds_nearest — расстояние до ближайшего водоёма (м)\n",
        "display(data['ponds_nearest'].isna().sum())\n",
        "data['ponds_around3000'].isna().sum()"
      ]
    },
    {
      "cell_type": "markdown",
      "metadata": {
        "id": "i0s2gsFq1N5x"
      },
      "source": [
        "we check if the columns in which the distance to the nearest reservoir is filled, but the number of reservoirs is not filled. If the distance to the nearest lake is specified, then we can fill the column with the number of reservoirs with the value 1."
      ]
    },
    {
      "cell_type": "code",
      "execution_count": null,
      "metadata": {
        "id": "wxowRfxM1N5x",
        "outputId": "1b723c07-df64-4923-8a38-8bd3dcd4d01c"
      },
      "outputs": [
        {
          "name": "stdout",
          "output_type": "stream",
          "text": [
            "0\n"
          ]
        }
      ],
      "source": [
        "print(((data['ponds_nearest']>1) & (data['ponds_nearest']<3000) &\n",
        "(data['ponds_around3000']=='None')).sum())"
      ]
    },
    {
      "cell_type": "markdown",
      "metadata": {
        "id": "HjLCDeCR1N5y"
      },
      "source": [
        "there are no values where the distance is indicated, but the number of reservoirs is not indicated. So we can't put one instead of missing values. So we fill in the missing values ​​in the column with zeros - the number of nearest reservoirs and the distance to the nearest reservoir (as with balconies, we accept that the absence of a value is equal to the absence of a sign: a balcony or a reservoir"
      ]
    },
    {
      "cell_type": "markdown",
      "metadata": {
        "id": "EpkI5nzY1N5y"
      },
      "source": [
        "ponds_around3000 — число водоёмов в радиусе 3 км\n",
        "ponds_nearest — расстояние до ближайшего водоёма (м) "
      ]
    },
    {
      "cell_type": "code",
      "execution_count": null,
      "metadata": {
        "scrolled": true,
        "id": "k2OZb2un1N5y",
        "outputId": "77c1f1c0-4bef-4cdc-d5d1-7e700c1b3a21"
      },
      "outputs": [
        {
          "name": "stdout",
          "output_type": "stream",
          "text": [
            "<class 'pandas.core.frame.DataFrame'>\n",
            "RangeIndex: 23699 entries, 0 to 23698\n",
            "Data columns (total 22 columns):\n",
            " #   Column                Non-Null Count  Dtype  \n",
            "---  ------                --------------  -----  \n",
            " 0   total_images          23699 non-null  int64  \n",
            " 1   last_price            23699 non-null  float64\n",
            " 2   total_area            23699 non-null  float64\n",
            " 3   first_day_exposition  23699 non-null  object \n",
            " 4   rooms                 23699 non-null  int64  \n",
            " 5   ceiling_height        14504 non-null  float64\n",
            " 6   floors_total          23699 non-null  int64  \n",
            " 7   living_area           21796 non-null  float64\n",
            " 8   floor                 23699 non-null  int64  \n",
            " 9   is_apartment          2775 non-null   object \n",
            " 10  studio                23699 non-null  bool   \n",
            " 11  open_plan             23699 non-null  bool   \n",
            " 12  kitchen_area          21421 non-null  float64\n",
            " 13  balcony               23699 non-null  int64  \n",
            " 14  locality_name         23650 non-null  object \n",
            " 15  airports_nearest      18157 non-null  float64\n",
            " 16  cityCenters_nearest   18180 non-null  float64\n",
            " 17  parks_around3000      18181 non-null  float64\n",
            " 18  parks_nearest         8079 non-null   float64\n",
            " 19  ponds_around3000      23699 non-null  int64  \n",
            " 20  ponds_nearest         23699 non-null  float64\n",
            " 21  days_exposition       20518 non-null  float64\n",
            "dtypes: bool(2), float64(11), int64(6), object(3)\n",
            "memory usage: 3.7+ MB\n"
          ]
        }
      ],
      "source": [
        "data['ponds_around3000'] = data['ponds_around3000'].fillna(0)\n",
        "data['ponds_nearest'] = data['ponds_nearest'].fillna(0)\n",
        "data['ponds_around3000'] = data['ponds_around3000'].astype(dtype = int, errors = 'ignore')\n",
        "\n",
        "data.info()\n"
      ]
    },
    {
      "cell_type": "markdown",
      "metadata": {
        "id": "GPA4FdCS1N5y"
      },
      "source": [
        "the days_exposition column says how many days the ad was published, I think we can't fill in the missing values with an average value or 0"
      ]
    },
    {
      "cell_type": "code",
      "execution_count": null,
      "metadata": {
        "id": "fmey9JOs1N5z"
      },
      "outputs": [],
      "source": [
        "#data['days_exposition'] = data['days_exposition'].fillna(0).astype(int)"
      ]
    },
    {
      "cell_type": "markdown",
      "metadata": {
        "id": "sqMwKv2p1N5z"
      },
      "source": [
        "for the is_apartment column, fill in the missing values with the value 'False' - as we assume that the rows were left blank, because the apartment type is not 'apartments'"
      ]
    },
    {
      "cell_type": "code",
      "execution_count": null,
      "metadata": {
        "id": "jtSzNADQ1N5z"
      },
      "outputs": [],
      "source": [
        "data['is_apartment'] = data['is_apartment'].fillna(False)"
      ]
    },
    {
      "cell_type": "code",
      "execution_count": null,
      "metadata": {
        "id": "euQRQR6E1N5z",
        "outputId": "6be7d052-6e67-4350-d9df-57aea9e07e23"
      },
      "outputs": [
        {
          "data": {
            "text/plain": [
              "0"
            ]
          },
          "execution_count": 14,
          "metadata": {},
          "output_type": "execute_result"
        }
      ],
      "source": [
        "data.duplicated().sum()"
      ]
    },
    {
      "cell_type": "markdown",
      "metadata": {
        "id": "Wa2oS_tz1N5z"
      },
      "source": [
        "with parks_around3000 and parks_nearest we will do the same as nearby ponds, if they are not specified, then they do not exist - feel free to fill in '0'"
      ]
    },
    {
      "cell_type": "code",
      "execution_count": null,
      "metadata": {
        "id": "YoD1z53D1N5z",
        "outputId": "a88f997b-4a27-4978-e9e2-1d495e4a337f"
      },
      "outputs": [
        {
          "data": {
            "text/plain": [
              "5518"
            ]
          },
          "execution_count": 15,
          "metadata": {},
          "output_type": "execute_result"
        }
      ],
      "source": [
        "#parks_around3000 — число парков в радиусе 3 км \n",
        "#parks_nearest — расстояние до ближайшего парка (м)\n",
        "data.parks_around3000.isna().sum()"
      ]
    },
    {
      "cell_type": "code",
      "execution_count": null,
      "metadata": {
        "id": "Gx87BTKZ1N50"
      },
      "outputs": [],
      "source": [
        "data.parks_around3000 = data.groupby('parks_nearest')['parks_around3000'].apply(lambda x: x.fillna(x.mean()))"
      ]
    },
    {
      "cell_type": "code",
      "execution_count": null,
      "metadata": {
        "id": "EDHHdbDF1N50",
        "outputId": "fd6c573a-16f5-4d5e-b419-6353711ba38a"
      },
      "outputs": [
        {
          "data": {
            "text/plain": [
              "15620"
            ]
          },
          "execution_count": 17,
          "metadata": {},
          "output_type": "execute_result"
        }
      ],
      "source": [
        "data.parks_around3000.isna().sum()"
      ]
    },
    {
      "cell_type": "markdown",
      "metadata": {
        "id": "ljsaQbXv1N50"
      },
      "source": [
        "look at the distribution of values in different columns - are there any negative or incredibly large values"
      ]
    },
    {
      "cell_type": "code",
      "execution_count": null,
      "metadata": {
        "id": "buIrynSJ1N50",
        "outputId": "dc2dd13b-7c20-468d-a9ef-02942970ddeb"
      },
      "outputs": [
        {
          "data": {
            "text/plain": [
              "Index(['total_images', 'last_price', 'total_area', 'first_day_exposition',\n",
              "       'rooms', 'ceiling_height', 'floors_total', 'living_area', 'floor',\n",
              "       'is_apartment', 'studio', 'open_plan', 'kitchen_area', 'balcony',\n",
              "       'locality_name', 'airports_nearest', 'cityCenters_nearest',\n",
              "       'parks_around3000', 'parks_nearest', 'ponds_around3000',\n",
              "       'ponds_nearest', 'days_exposition'],\n",
              "      dtype='object')"
            ]
          },
          "execution_count": 18,
          "metadata": {},
          "output_type": "execute_result"
        }
      ],
      "source": [
        "data.columns"
      ]
    },
    {
      "cell_type": "code",
      "execution_count": null,
      "metadata": {
        "scrolled": true,
        "id": "XfbueKgM1N50",
        "outputId": "4a2f23bd-bf10-4042-9fcb-8a40f3be45df"
      },
      "outputs": [
        {
          "data": {
            "text/plain": [
              "2     3368\n",
              "3     3073\n",
              "1     2917\n",
              "4     2804\n",
              "5     2621\n",
              "6     1305\n",
              "7     1218\n",
              "8     1083\n",
              "9     1051\n",
              "10     687\n",
              "12     526\n",
              "11     523\n",
              "13     379\n",
              "15     343\n",
              "14     337\n",
              "16     315\n",
              "17     227\n",
              "18     178\n",
              "19     147\n",
              "21     125\n",
              "22     113\n",
              "20     110\n",
              "23     100\n",
              "24      63\n",
              "25      46\n",
              "26      24\n",
              "27      10\n",
              "28       1\n",
              "30       1\n",
              "29       1\n",
              "32       1\n",
              "33       1\n",
              "31       1\n",
              "Name: floor, dtype: int64"
            ]
          },
          "execution_count": 19,
          "metadata": {},
          "output_type": "execute_result"
        }
      ],
      "source": [
        "data.floor.value_counts()"
      ]
    },
    {
      "cell_type": "markdown",
      "metadata": {
        "id": "HkgtB_r91N50"
      },
      "source": [
        "we see a different number of floors for each apartment, and it really can be different. there are no unrealistic values like 1000, we can move on"
      ]
    },
    {
      "cell_type": "code",
      "execution_count": null,
      "metadata": {
        "id": "ZTqpoZRp1N50",
        "outputId": "9a95b490-1196-4dc8-9cc8-dd781254520c"
      },
      "outputs": [
        {
          "name": "stdout",
          "output_type": "stream",
          "text": [
            "409.7\n"
          ]
        },
        {
          "data": {
            "text/plain": [
              "2.0"
            ]
          },
          "execution_count": 20,
          "metadata": {},
          "output_type": "execute_result"
        }
      ],
      "source": [
        "data.living_area.value_counts()\n",
        "print(data.living_area.max())   \n",
        "data.living_area.min()"
      ]
    },
    {
      "cell_type": "code",
      "execution_count": null,
      "metadata": {
        "scrolled": false,
        "id": "MBUTNgS51N51",
        "outputId": "9f12de49-1aac-4342-d35b-c1ed3d71c942"
      },
      "outputs": [
        {
          "data": {
            "text/plain": [
              "<AxesSubplot:>"
            ]
          },
          "execution_count": 21,
          "metadata": {},
          "output_type": "execute_result"
        },
        {
          "data": {
            "image/png": "[encoded data removed]",
            "text/plain": [
              "<Figure size 432x288 with 1 Axes>"
            ]
          },
          "metadata": {
            "needs_background": "light"
          },
          "output_type": "display_data"
        }
      ],
      "source": [
        "\n",
        "data.living_area.hist(bins=200)"
      ]
    },
    {
      "cell_type": "markdown",
      "metadata": {
        "id": "t5gLKBDO1N51"
      },
      "source": [
        "we see a high value of 409, but the area can be very large, so we will not consider this an outlier. But the minimum value of 2m can be considered an outlier, let's see how many there are."
      ]
    },
    {
      "cell_type": "code",
      "execution_count": null,
      "metadata": {
        "id": "aQpeNPgC1N51",
        "outputId": "ca77cc41-bff3-4dea-be49-f8ebf32d55c4"
      },
      "outputs": [
        {
          "data": {
            "text/plain": [
              "total_images            0\n",
              "last_price              0\n",
              "total_area              0\n",
              "first_day_exposition    0\n",
              "rooms                   0\n",
              "ceiling_height          0\n",
              "floors_total            0\n",
              "living_area             0\n",
              "floor                   0\n",
              "is_apartment            0\n",
              "studio                  0\n",
              "open_plan               0\n",
              "kitchen_area            0\n",
              "balcony                 0\n",
              "locality_name           0\n",
              "airports_nearest        0\n",
              "cityCenters_nearest     0\n",
              "parks_around3000        0\n",
              "parks_nearest           0\n",
              "ponds_around3000        0\n",
              "ponds_nearest           0\n",
              "days_exposition         0\n",
              "dtype: int64"
            ]
          },
          "execution_count": 22,
          "metadata": {},
          "output_type": "execute_result"
        }
      ],
      "source": [
        "less_than2 = data[data['living_area'] < 2].count()\n",
        "less_than2\n",
        "#таких площадей нет"
      ]
    },
    {
      "cell_type": "markdown",
      "metadata": {
        "id": "vr1Pjabg1N51"
      },
      "source": [
        "I looked at other parameters in this category of apartments with living_area < 9 and in these apartments there is a kitchen_area larger than living_area, so before getting rid of these values, we will determine the number of apartments with a kitchen area below the minimum"
      ]
    },
    {
      "cell_type": "code",
      "execution_count": null,
      "metadata": {
        "id": "niZx1NYc1N51",
        "outputId": "38a3e974-7c40-492c-9ac9-67d2996a3c13"
      },
      "outputs": [
        {
          "data": {
            "text/plain": [
              "1.3"
            ]
          },
          "execution_count": 23,
          "metadata": {},
          "output_type": "execute_result"
        }
      ],
      "source": [
        "data.kitchen_area.value_counts()\n",
        "data.kitchen_area.min()"
      ]
    },
    {
      "cell_type": "markdown",
      "metadata": {
        "id": "zFeBmVXW1N52"
      },
      "source": [
        "according to information on the Internet, the minimum kitchen area should be from 5 m2. Let's find how many apartments do not meet this minimum"
      ]
    },
    {
      "cell_type": "code",
      "execution_count": null,
      "metadata": {
        "scrolled": true,
        "id": "B82ZVW7X1N52",
        "outputId": "10cc1593-cd83-452e-936b-f85d0a0760f8"
      },
      "outputs": [
        {
          "data": {
            "text/plain": [
              "total_images            105\n",
              "last_price              105\n",
              "total_area              105\n",
              "first_day_exposition    105\n",
              "rooms                   105\n",
              "ceiling_height           68\n",
              "floors_total            105\n",
              "living_area             104\n",
              "floor                   105\n",
              "is_apartment            105\n",
              "studio                  105\n",
              "open_plan               105\n",
              "kitchen_area            105\n",
              "balcony                 105\n",
              "locality_name           105\n",
              "airports_nearest         69\n",
              "cityCenters_nearest      69\n",
              "parks_around3000         20\n",
              "parks_nearest            20\n",
              "ponds_around3000        105\n",
              "ponds_nearest           105\n",
              "days_exposition          91\n",
              "dtype: int64"
            ]
          },
          "execution_count": 24,
          "metadata": {},
          "output_type": "execute_result"
        }
      ],
      "source": [
        "a = data[data['kitchen_area'] < 5]\n",
        "a.count()\n"
      ]
    },
    {
      "cell_type": "markdown",
      "metadata": {
        "id": "qGUN51YF1N52"
      },
      "source": [
        "remove the values in which the area is less than the minimum for living_area and kitchen_area together"
      ]
    },
    {
      "cell_type": "code",
      "execution_count": null,
      "metadata": {
        "scrolled": true,
        "id": "fea7m4871N52",
        "outputId": "48102ec5-f6d3-4486-db6e-ffe6564f0a89"
      },
      "outputs": [
        {
          "data": {
            "text/plain": [
              "total_images            0\n",
              "last_price              0\n",
              "total_area              0\n",
              "first_day_exposition    0\n",
              "rooms                   0\n",
              "ceiling_height          0\n",
              "floors_total            0\n",
              "living_area             0\n",
              "floor                   0\n",
              "is_apartment            0\n",
              "studio                  0\n",
              "open_plan               0\n",
              "kitchen_area            0\n",
              "balcony                 0\n",
              "locality_name           0\n",
              "airports_nearest        0\n",
              "cityCenters_nearest     0\n",
              "parks_around3000        0\n",
              "parks_nearest           0\n",
              "ponds_around3000        0\n",
              "ponds_nearest           0\n",
              "days_exposition         0\n",
              "dtype: int64"
            ]
          },
          "execution_count": 25,
          "metadata": {},
          "output_type": "execute_result"
        }
      ],
      "source": [
        "data[(data['living_area']<9)&(data['kitchen_area']<5)].count()"
      ]
    },
    {
      "cell_type": "markdown",
      "metadata": {
        "id": "q9NK_ju41N52"
      },
      "source": [
        "there are no such values, so we will not remove the minimum values, especially since total_area, that is, the total area corresponds to the minimum value - 10, according to the requirements for the apartment (search on the Internet)"
      ]
    },
    {
      "cell_type": "code",
      "execution_count": null,
      "metadata": {
        "id": "I7lI-zLQ1N52",
        "outputId": "f3a3d2d4-78ab-432b-ff08-64c0c86d0ca9"
      },
      "outputs": [
        {
          "data": {
            "text/html": [
              "<div>\n",
              "<style scoped>\n",
              "    .dataframe tbody tr th:only-of-type {\n",
              "        vertical-align: middle;\n",
              "    }\n",
              "\n",
              "    .dataframe tbody tr th {\n",
              "        vertical-align: top;\n",
              "    }\n",
              "\n",
              "    .dataframe thead th {\n",
              "        text-align: right;\n",
              "    }\n",
              "</style>\n",
              "<table border=\"1\" class=\"dataframe\">\n",
              "  <thead>\n",
              "    <tr style=\"text-align: right;\">\n",
              "      <th></th>\n",
              "      <th>kitchen_area</th>\n",
              "      <th>living_area</th>\n",
              "      <th>total_area</th>\n",
              "      <th>locality_name</th>\n",
              "      <th>studio</th>\n",
              "    </tr>\n",
              "  </thead>\n",
              "  <tbody>\n",
              "    <tr>\n",
              "      <th>184</th>\n",
              "      <td>6.20</td>\n",
              "      <td>26.10</td>\n",
              "      <td>30.20</td>\n",
              "      <td>Санкт-Петербург</td>\n",
              "      <td>False</td>\n",
              "    </tr>\n",
              "    <tr>\n",
              "      <th>545</th>\n",
              "      <td>5.00</td>\n",
              "      <td>20.00</td>\n",
              "      <td>23.80</td>\n",
              "      <td>Санкт-Петербург</td>\n",
              "      <td>False</td>\n",
              "    </tr>\n",
              "    <tr>\n",
              "      <th>551</th>\n",
              "      <td>9.28</td>\n",
              "      <td>30.55</td>\n",
              "      <td>31.59</td>\n",
              "      <td>посёлок Мурино</td>\n",
              "      <td>False</td>\n",
              "    </tr>\n",
              "    <tr>\n",
              "      <th>601</th>\n",
              "      <td>7.00</td>\n",
              "      <td>48.30</td>\n",
              "      <td>53.70</td>\n",
              "      <td>Санкт-Петербург</td>\n",
              "      <td>False</td>\n",
              "    </tr>\n",
              "    <tr>\n",
              "      <th>696</th>\n",
              "      <td>23.43</td>\n",
              "      <td>23.43</td>\n",
              "      <td>34.69</td>\n",
              "      <td>Санкт-Петербург</td>\n",
              "      <td>False</td>\n",
              "    </tr>\n",
              "    <tr>\n",
              "      <th>1060</th>\n",
              "      <td>20.50</td>\n",
              "      <td>39.00</td>\n",
              "      <td>50.00</td>\n",
              "      <td>Санкт-Петербург</td>\n",
              "      <td>False</td>\n",
              "    </tr>\n",
              "    <tr>\n",
              "      <th>1155</th>\n",
              "      <td>12.00</td>\n",
              "      <td>33.00</td>\n",
              "      <td>38.00</td>\n",
              "      <td>Санкт-Петербург</td>\n",
              "      <td>False</td>\n",
              "    </tr>\n",
              "    <tr>\n",
              "      <th>1354</th>\n",
              "      <td>19.00</td>\n",
              "      <td>38.00</td>\n",
              "      <td>54.50</td>\n",
              "      <td>Санкт-Петербург</td>\n",
              "      <td>False</td>\n",
              "    </tr>\n",
              "    <tr>\n",
              "      <th>1407</th>\n",
              "      <td>18.20</td>\n",
              "      <td>18.00</td>\n",
              "      <td>24.60</td>\n",
              "      <td>Санкт-Петербург</td>\n",
              "      <td>False</td>\n",
              "    </tr>\n",
              "    <tr>\n",
              "      <th>1854</th>\n",
              "      <td>14.84</td>\n",
              "      <td>55.00</td>\n",
              "      <td>60.20</td>\n",
              "      <td>Санкт-Петербург</td>\n",
              "      <td>False</td>\n",
              "    </tr>\n",
              "    <tr>\n",
              "      <th>1992</th>\n",
              "      <td>8.60</td>\n",
              "      <td>36.40</td>\n",
              "      <td>37.40</td>\n",
              "      <td>Санкт-Петербург</td>\n",
              "      <td>False</td>\n",
              "    </tr>\n",
              "    <tr>\n",
              "      <th>2950</th>\n",
              "      <td>8.50</td>\n",
              "      <td>33.00</td>\n",
              "      <td>35.00</td>\n",
              "      <td>Гатчина</td>\n",
              "      <td>False</td>\n",
              "    </tr>\n",
              "    <tr>\n",
              "      <th>3426</th>\n",
              "      <td>7.89</td>\n",
              "      <td>28.85</td>\n",
              "      <td>32.51</td>\n",
              "      <td>Санкт-Петербург</td>\n",
              "      <td>False</td>\n",
              "    </tr>\n",
              "    <tr>\n",
              "      <th>3891</th>\n",
              "      <td>9.00</td>\n",
              "      <td>68.10</td>\n",
              "      <td>70.40</td>\n",
              "      <td>Любань</td>\n",
              "      <td>False</td>\n",
              "    </tr>\n",
              "    <tr>\n",
              "      <th>4366</th>\n",
              "      <td>28.20</td>\n",
              "      <td>39.80</td>\n",
              "      <td>47.70</td>\n",
              "      <td>Санкт-Петербург</td>\n",
              "      <td>False</td>\n",
              "    </tr>\n",
              "  </tbody>\n",
              "</table>\n",
              "</div>"
            ],
            "text/plain": [
              "      kitchen_area  living_area  total_area    locality_name  studio\n",
              "184           6.20        26.10       30.20  Санкт-Петербург   False\n",
              "545           5.00        20.00       23.80  Санкт-Петербург   False\n",
              "551           9.28        30.55       31.59   посёлок Мурино   False\n",
              "601           7.00        48.30       53.70  Санкт-Петербург   False\n",
              "696          23.43        23.43       34.69  Санкт-Петербург   False\n",
              "1060         20.50        39.00       50.00  Санкт-Петербург   False\n",
              "1155         12.00        33.00       38.00  Санкт-Петербург   False\n",
              "1354         19.00        38.00       54.50  Санкт-Петербург   False\n",
              "1407         18.20        18.00       24.60  Санкт-Петербург   False\n",
              "1854         14.84        55.00       60.20  Санкт-Петербург   False\n",
              "1992          8.60        36.40       37.40  Санкт-Петербург   False\n",
              "2950          8.50        33.00       35.00          Гатчина   False\n",
              "3426          7.89        28.85       32.51  Санкт-Петербург   False\n",
              "3891          9.00        68.10       70.40           Любань   False\n",
              "4366         28.20        39.80       47.70  Санкт-Петербург   False"
            ]
          },
          "execution_count": 26,
          "metadata": {},
          "output_type": "execute_result"
        }
      ],
      "source": [
        "data_check = data.loc[(data.kitchen_area + data.living_area)>data.total_area]\n",
        "data_check = data_check[['kitchen_area', 'living_area', 'total_area', 'locality_name', 'studio']]\n",
        "data_check.head(15)\n"
      ]
    },
    {
      "cell_type": "markdown",
      "metadata": {
        "id": "pOVD3rHK1N53"
      },
      "source": [
        "we checked in which cases the sum of living_area and kitchen_area exceeds the total area, it turned out to be 64 rows, this should not be so. I checked what other common features these apartments have in order to identify dependence. For example - whether they all belong to the category of studios or apartments, but apart from the common name of the city, there is no connection between them. From which I conclude that the person who measured the room in St. Petersburg is mistaken in the measurements.\n",
        "    \n",
        "We need data to identify the dependency, so we will replace all the total_area values ​​​​in these apartments with the actual sum of the values ​​\\u200b\\u200bof the two columns kitchen_area and living_area"
      ]
    },
    {
      "cell_type": "code",
      "execution_count": null,
      "metadata": {
        "scrolled": false,
        "id": "W6oxKWh91N53",
        "outputId": "c6c7d771-59c7-4804-93ea-636ea04b42e0"
      },
      "outputs": [
        {
          "data": {
            "text/plain": [
              "total_images            0\n",
              "last_price              0\n",
              "total_area              0\n",
              "first_day_exposition    0\n",
              "rooms                   0\n",
              "ceiling_height          0\n",
              "floors_total            0\n",
              "living_area             0\n",
              "floor                   0\n",
              "is_apartment            0\n",
              "studio                  0\n",
              "open_plan               0\n",
              "kitchen_area            0\n",
              "balcony                 0\n",
              "locality_name           0\n",
              "airports_nearest        0\n",
              "cityCenters_nearest     0\n",
              "parks_around3000        0\n",
              "parks_nearest           0\n",
              "ponds_around3000        0\n",
              "ponds_nearest           0\n",
              "days_exposition         0\n",
              "dtype: int64"
            ]
          },
          "execution_count": 27,
          "metadata": {},
          "output_type": "execute_result"
        }
      ],
      "source": [
        "sum_of = data.kitchen_area + data.living_area\n",
        "data.loc[sum_of>data.total_area, 'total_area'] = sum_of\n",
        "data.loc[(data.kitchen_area + data.living_area)>data.total_area].count()\n"
      ]
    },
    {
      "cell_type": "code",
      "execution_count": null,
      "metadata": {
        "id": "Taqr2c1F1N53",
        "outputId": "80b8209c-89d4-42e1-c733-9335810c5546"
      },
      "outputs": [
        {
          "data": {
            "text/plain": [
              "19904     12.0\n",
              "17961     13.0\n",
              "19546     13.0\n",
              "19807     13.0\n",
              "19558     13.2\n",
              "         ...  \n",
              "5358     590.0\n",
              "15651    618.0\n",
              "3117     631.0\n",
              "12859    631.2\n",
              "19540    900.0\n",
              "Name: total_area, Length: 23699, dtype: float64"
            ]
          },
          "execution_count": 28,
          "metadata": {},
          "output_type": "execute_result"
        }
      ],
      "source": [
        "data.total_area.sort_values()"
      ]
    },
    {
      "cell_type": "code",
      "execution_count": null,
      "metadata": {
        "id": "dlYSiIG01N53",
        "outputId": "4a0e3b08-a830-49fa-e16b-0da8be54c014"
      },
      "outputs": [
        {
          "data": {
            "text/plain": [
              "12.0"
            ]
          },
          "execution_count": 29,
          "metadata": {},
          "output_type": "execute_result"
        }
      ],
      "source": [
        "#двигаемся дальше\n",
        "data.total_area.min()"
      ]
    },
    {
      "cell_type": "code",
      "execution_count": null,
      "metadata": {
        "id": "yOFN8Tdy1N53",
        "outputId": "43ac341b-ada3-402b-9382-b03046da01b6"
      },
      "outputs": [
        {
          "data": {
            "text/plain": [
              "60"
            ]
          },
          "execution_count": 30,
          "metadata": {},
          "output_type": "execute_result"
        }
      ],
      "source": [
        "data.floors_total.value_counts()\n",
        "data.floors_total.max()"
      ]
    },
    {
      "cell_type": "markdown",
      "metadata": {
        "id": "JlO0zMPH1N53"
      },
      "source": [
        "yes, there are incredibly high values - 60, but at the same time there is an intermediate value of 52, which means that 60 will not be considered an outlier. An additional search on the Internet confirmed that such a number of storeys of buildings in Moscow and St. Petersburg are possible."
      ]
    },
    {
      "cell_type": "code",
      "execution_count": null,
      "metadata": {
        "scrolled": false,
        "id": "Z64QkPh61N54",
        "outputId": "a3e3c075-eea9-4d89-ef4a-a94106373680"
      },
      "outputs": [
        {
          "data": {
            "text/plain": [
              "4.328767123287672"
            ]
          },
          "execution_count": 31,
          "metadata": {},
          "output_type": "execute_result"
        }
      ],
      "source": [
        "data.days_exposition.value_counts()\n",
        "data.days_exposition.max()/365"
      ]
    },
    {
      "cell_type": "markdown",
      "metadata": {
        "id": "nKFgeCrN1N54"
      },
      "source": [
        "проверим написание населенных пунктов"
      ]
    },
    {
      "cell_type": "code",
      "execution_count": null,
      "metadata": {
        "scrolled": false,
        "id": "6J6T75To1N54",
        "outputId": "eef3e4aa-5491-4aa6-8c75-66df504723cc"
      },
      "outputs": [
        {
          "data": {
            "text/plain": [
              "Санкт-Петербург                    15721\n",
              "посёлок Мурино                       522\n",
              "посёлок Шушары                       440\n",
              "Всеволожск                           398\n",
              "Пушкин                               369\n",
              "                                   ...  \n",
              "поселок Каложицы                       1\n",
              "посёлок Платформа 69-й километр        1\n",
              "поселок Почап                          1\n",
              "поселок Гончарово                      1\n",
              "посёлок Дзержинского                   1\n",
              "Name: locality_name, Length: 364, dtype: int64"
            ]
          },
          "execution_count": 32,
          "metadata": {},
          "output_type": "execute_result"
        }
      ],
      "source": [
        "data.locality_name.value_counts()\n",
        "names = data.locality_name.unique()\n",
        "data.locality_name.value_counts()\n"
      ]
    },
    {
      "cell_type": "code",
      "execution_count": null,
      "metadata": {
        "id": "e5h33DO11N54",
        "outputId": "4e151b50-9b28-4474-e77c-510450a4ad24"
      },
      "outputs": [
        {
          "data": {
            "text/plain": [
              "Санкт-Петербург                     15721\n",
              "поселок Мурино                        556\n",
              "поселок Шушары                        440\n",
              "Всеволожск                            398\n",
              "Пушкин                                369\n",
              "                                    ...  \n",
              "поселок Левашово                        1\n",
              "садовое товарищество Новая Ропша        1\n",
              "деревня Шпаньково                       1\n",
              "деревня Курковицы                       1\n",
              "поселок Дзержинского                    1\n",
              "Name: locality_name, Length: 330, dtype: int64"
            ]
          },
          "execution_count": 33,
          "metadata": {},
          "output_type": "execute_result"
        }
      ],
      "source": [
        "data['locality_name'] = data['locality_name'].str.replace('ё','е')\n",
        "data.locality_name.value_counts()"
      ]
    },
    {
      "cell_type": "markdown",
      "metadata": {
        "id": "oDNVBiGf1N55"
      },
      "source": [
        "## Calculations and adding results to the table"
      ]
    },
    {
      "cell_type": "markdown",
      "metadata": {
        "id": "jpLNFAjE1N55"
      },
      "source": [
        "There are several tasks in this step - to determine:\n",
        "1. price per square meter - price_per_meter;\n",
        "2. day of the week, month and year of publication of the announcement - day, month, year;\n",
        "3. floor of the apartment: options - first, last, other - categorization of the floor column;\n",
        "4. the ratio of residential and total area, as well as\n",
        "5. ratio of kitchen area to total - total_area/living_area, total_area/kitchen_area."
      ]
    },
    {
      "cell_type": "markdown",
      "metadata": {
        "id": "KKLjqp-a1N55"
      },
      "source": [
        "1. price_per_meter;"
      ]
    },
    {
      "cell_type": "code",
      "execution_count": null,
      "metadata": {
        "id": "59qoNwjs1N55",
        "outputId": "02ff0d81-f1f8-491a-cada-79f53a17921c"
      },
      "outputs": [
        {
          "data": {
            "text/html": [
              "<div>\n",
              "<style scoped>\n",
              "    .dataframe tbody tr th:only-of-type {\n",
              "        vertical-align: middle;\n",
              "    }\n",
              "\n",
              "    .dataframe tbody tr th {\n",
              "        vertical-align: top;\n",
              "    }\n",
              "\n",
              "    .dataframe thead th {\n",
              "        text-align: right;\n",
              "    }\n",
              "</style>\n",
              "<table border=\"1\" class=\"dataframe\">\n",
              "  <thead>\n",
              "    <tr style=\"text-align: right;\">\n",
              "      <th></th>\n",
              "      <th>price_per_meter</th>\n",
              "      <th>last_price</th>\n",
              "      <th>total_area</th>\n",
              "    </tr>\n",
              "  </thead>\n",
              "  <tbody>\n",
              "    <tr>\n",
              "      <th>0</th>\n",
              "      <td>120370</td>\n",
              "      <td>13000000.0</td>\n",
              "      <td>108.00</td>\n",
              "    </tr>\n",
              "    <tr>\n",
              "      <th>1</th>\n",
              "      <td>82920</td>\n",
              "      <td>3350000.0</td>\n",
              "      <td>40.40</td>\n",
              "    </tr>\n",
              "    <tr>\n",
              "      <th>2</th>\n",
              "      <td>92785</td>\n",
              "      <td>5196000.0</td>\n",
              "      <td>56.00</td>\n",
              "    </tr>\n",
              "    <tr>\n",
              "      <th>3</th>\n",
              "      <td>408176</td>\n",
              "      <td>64900000.0</td>\n",
              "      <td>159.00</td>\n",
              "    </tr>\n",
              "    <tr>\n",
              "      <th>4</th>\n",
              "      <td>100000</td>\n",
              "      <td>10000000.0</td>\n",
              "      <td>100.00</td>\n",
              "    </tr>\n",
              "    <tr>\n",
              "      <th>5</th>\n",
              "      <td>95065</td>\n",
              "      <td>2890000.0</td>\n",
              "      <td>30.40</td>\n",
              "    </tr>\n",
              "    <tr>\n",
              "      <th>6</th>\n",
              "      <td>99195</td>\n",
              "      <td>3700000.0</td>\n",
              "      <td>37.30</td>\n",
              "    </tr>\n",
              "    <tr>\n",
              "      <th>7</th>\n",
              "      <td>110544</td>\n",
              "      <td>7915000.0</td>\n",
              "      <td>71.60</td>\n",
              "    </tr>\n",
              "    <tr>\n",
              "      <th>8</th>\n",
              "      <td>87454</td>\n",
              "      <td>2900000.0</td>\n",
              "      <td>33.16</td>\n",
              "    </tr>\n",
              "    <tr>\n",
              "      <th>9</th>\n",
              "      <td>88524</td>\n",
              "      <td>5400000.0</td>\n",
              "      <td>61.00</td>\n",
              "    </tr>\n",
              "  </tbody>\n",
              "</table>\n",
              "</div>"
            ],
            "text/plain": [
              "   price_per_meter  last_price  total_area\n",
              "0           120370  13000000.0      108.00\n",
              "1            82920   3350000.0       40.40\n",
              "2            92785   5196000.0       56.00\n",
              "3           408176  64900000.0      159.00\n",
              "4           100000  10000000.0      100.00\n",
              "5            95065   2890000.0       30.40\n",
              "6            99195   3700000.0       37.30\n",
              "7           110544   7915000.0       71.60\n",
              "8            87454   2900000.0       33.16\n",
              "9            88524   5400000.0       61.00"
            ]
          },
          "execution_count": 34,
          "metadata": {},
          "output_type": "execute_result"
        }
      ],
      "source": [
        "data['price_per_meter'] = (data['last_price']/data['total_area']).astype(int)\n",
        "data['price_per_meter'].head(10)\n",
        "price_table = pd.DataFrame(data=data, columns=['price_per_meter', 'last_price', 'total_area'])\n",
        "price_table.head(10)"
      ]
    },
    {
      "cell_type": "markdown",
      "metadata": {
        "id": "fx6YdhKC1N55"
      },
      "source": [
        "2. day, month, year;"
      ]
    },
    {
      "cell_type": "code",
      "execution_count": null,
      "metadata": {
        "id": "XPIZbjg71N55",
        "outputId": "812013a4-4a3c-45c2-ad9f-29af6fb31a1b"
      },
      "outputs": [
        {
          "data": {
            "text/html": [
              "<div>\n",
              "<style scoped>\n",
              "    .dataframe tbody tr th:only-of-type {\n",
              "        vertical-align: middle;\n",
              "    }\n",
              "\n",
              "    .dataframe tbody tr th {\n",
              "        vertical-align: top;\n",
              "    }\n",
              "\n",
              "    .dataframe thead th {\n",
              "        text-align: right;\n",
              "    }\n",
              "</style>\n",
              "<table border=\"1\" class=\"dataframe\">\n",
              "  <thead>\n",
              "    <tr style=\"text-align: right;\">\n",
              "      <th></th>\n",
              "      <th>total_images</th>\n",
              "      <th>last_price</th>\n",
              "      <th>total_area</th>\n",
              "      <th>first_day_exposition</th>\n",
              "      <th>rooms</th>\n",
              "      <th>ceiling_height</th>\n",
              "      <th>floors_total</th>\n",
              "      <th>living_area</th>\n",
              "      <th>floor</th>\n",
              "      <th>is_apartment</th>\n",
              "      <th>...</th>\n",
              "      <th>balcony</th>\n",
              "      <th>locality_name</th>\n",
              "      <th>airports_nearest</th>\n",
              "      <th>cityCenters_nearest</th>\n",
              "      <th>parks_around3000</th>\n",
              "      <th>parks_nearest</th>\n",
              "      <th>ponds_around3000</th>\n",
              "      <th>ponds_nearest</th>\n",
              "      <th>days_exposition</th>\n",
              "      <th>price_per_meter</th>\n",
              "    </tr>\n",
              "  </thead>\n",
              "  <tbody>\n",
              "    <tr>\n",
              "      <th>0</th>\n",
              "      <td>20</td>\n",
              "      <td>13000000.0</td>\n",
              "      <td>108.0</td>\n",
              "      <td>2019-03-07T00:00:00</td>\n",
              "      <td>3</td>\n",
              "      <td>2.70</td>\n",
              "      <td>16</td>\n",
              "      <td>51.0</td>\n",
              "      <td>8</td>\n",
              "      <td>False</td>\n",
              "      <td>...</td>\n",
              "      <td>0</td>\n",
              "      <td>Санкт-Петербург</td>\n",
              "      <td>18863.0</td>\n",
              "      <td>16028.0</td>\n",
              "      <td>1.0</td>\n",
              "      <td>482.0</td>\n",
              "      <td>2</td>\n",
              "      <td>755.0</td>\n",
              "      <td>NaN</td>\n",
              "      <td>120370</td>\n",
              "    </tr>\n",
              "    <tr>\n",
              "      <th>1</th>\n",
              "      <td>7</td>\n",
              "      <td>3350000.0</td>\n",
              "      <td>40.4</td>\n",
              "      <td>2018-12-04T00:00:00</td>\n",
              "      <td>1</td>\n",
              "      <td>NaN</td>\n",
              "      <td>11</td>\n",
              "      <td>18.6</td>\n",
              "      <td>1</td>\n",
              "      <td>False</td>\n",
              "      <td>...</td>\n",
              "      <td>2</td>\n",
              "      <td>поселок Шушары</td>\n",
              "      <td>12817.0</td>\n",
              "      <td>18603.0</td>\n",
              "      <td>NaN</td>\n",
              "      <td>NaN</td>\n",
              "      <td>0</td>\n",
              "      <td>0.0</td>\n",
              "      <td>81.0</td>\n",
              "      <td>82920</td>\n",
              "    </tr>\n",
              "    <tr>\n",
              "      <th>2</th>\n",
              "      <td>10</td>\n",
              "      <td>5196000.0</td>\n",
              "      <td>56.0</td>\n",
              "      <td>2015-08-20T00:00:00</td>\n",
              "      <td>2</td>\n",
              "      <td>NaN</td>\n",
              "      <td>5</td>\n",
              "      <td>34.3</td>\n",
              "      <td>4</td>\n",
              "      <td>False</td>\n",
              "      <td>...</td>\n",
              "      <td>0</td>\n",
              "      <td>Санкт-Петербург</td>\n",
              "      <td>21741.0</td>\n",
              "      <td>13933.0</td>\n",
              "      <td>1.0</td>\n",
              "      <td>90.0</td>\n",
              "      <td>2</td>\n",
              "      <td>574.0</td>\n",
              "      <td>558.0</td>\n",
              "      <td>92785</td>\n",
              "    </tr>\n",
              "    <tr>\n",
              "      <th>3</th>\n",
              "      <td>0</td>\n",
              "      <td>64900000.0</td>\n",
              "      <td>159.0</td>\n",
              "      <td>2015-07-24T00:00:00</td>\n",
              "      <td>3</td>\n",
              "      <td>NaN</td>\n",
              "      <td>14</td>\n",
              "      <td>NaN</td>\n",
              "      <td>9</td>\n",
              "      <td>False</td>\n",
              "      <td>...</td>\n",
              "      <td>0</td>\n",
              "      <td>Санкт-Петербург</td>\n",
              "      <td>28098.0</td>\n",
              "      <td>6800.0</td>\n",
              "      <td>2.0</td>\n",
              "      <td>84.0</td>\n",
              "      <td>3</td>\n",
              "      <td>234.0</td>\n",
              "      <td>424.0</td>\n",
              "      <td>408176</td>\n",
              "    </tr>\n",
              "    <tr>\n",
              "      <th>4</th>\n",
              "      <td>2</td>\n",
              "      <td>10000000.0</td>\n",
              "      <td>100.0</td>\n",
              "      <td>2018-06-19T00:00:00</td>\n",
              "      <td>2</td>\n",
              "      <td>3.03</td>\n",
              "      <td>14</td>\n",
              "      <td>32.0</td>\n",
              "      <td>13</td>\n",
              "      <td>False</td>\n",
              "      <td>...</td>\n",
              "      <td>0</td>\n",
              "      <td>Санкт-Петербург</td>\n",
              "      <td>31856.0</td>\n",
              "      <td>8098.0</td>\n",
              "      <td>2.0</td>\n",
              "      <td>112.0</td>\n",
              "      <td>1</td>\n",
              "      <td>48.0</td>\n",
              "      <td>121.0</td>\n",
              "      <td>100000</td>\n",
              "    </tr>\n",
              "  </tbody>\n",
              "</table>\n",
              "<p>5 rows × 23 columns</p>\n",
              "</div>"
            ],
            "text/plain": [
              "   total_images  last_price  total_area first_day_exposition  rooms  \\\n",
              "0            20  13000000.0       108.0  2019-03-07T00:00:00      3   \n",
              "1             7   3350000.0        40.4  2018-12-04T00:00:00      1   \n",
              "2            10   5196000.0        56.0  2015-08-20T00:00:00      2   \n",
              "3             0  64900000.0       159.0  2015-07-24T00:00:00      3   \n",
              "4             2  10000000.0       100.0  2018-06-19T00:00:00      2   \n",
              "\n",
              "   ceiling_height  floors_total  living_area  floor  is_apartment  ...  \\\n",
              "0            2.70            16         51.0      8         False  ...   \n",
              "1             NaN            11         18.6      1         False  ...   \n",
              "2             NaN             5         34.3      4         False  ...   \n",
              "3             NaN            14          NaN      9         False  ...   \n",
              "4            3.03            14         32.0     13         False  ...   \n",
              "\n",
              "   balcony    locality_name  airports_nearest  cityCenters_nearest  \\\n",
              "0        0  Санкт-Петербург           18863.0              16028.0   \n",
              "1        2   поселок Шушары           12817.0              18603.0   \n",
              "2        0  Санкт-Петербург           21741.0              13933.0   \n",
              "3        0  Санкт-Петербург           28098.0               6800.0   \n",
              "4        0  Санкт-Петербург           31856.0               8098.0   \n",
              "\n",
              "  parks_around3000  parks_nearest  ponds_around3000  ponds_nearest  \\\n",
              "0              1.0          482.0                 2          755.0   \n",
              "1              NaN            NaN                 0            0.0   \n",
              "2              1.0           90.0                 2          574.0   \n",
              "3              2.0           84.0                 3          234.0   \n",
              "4              2.0          112.0                 1           48.0   \n",
              "\n",
              "   days_exposition  price_per_meter  \n",
              "0              NaN           120370  \n",
              "1             81.0            82920  \n",
              "2            558.0            92785  \n",
              "3            424.0           408176  \n",
              "4            121.0           100000  \n",
              "\n",
              "[5 rows x 23 columns]"
            ]
          },
          "execution_count": 35,
          "metadata": {},
          "output_type": "execute_result"
        }
      ],
      "source": [
        "#data['test'] = data['first_day_exposition'].astype('datetime64[M]')\n",
        "data.head()"
      ]
    },
    {
      "cell_type": "code",
      "execution_count": null,
      "metadata": {
        "scrolled": true,
        "id": "c4uEmxMu1N56",
        "outputId": "a93430db-3fbe-45e1-c0af-ea7f77b46f65"
      },
      "outputs": [
        {
          "name": "stdout",
          "output_type": "stream",
          "text": [
            "<class 'pandas.core.frame.DataFrame'>\n",
            "RangeIndex: 23699 entries, 0 to 23698\n",
            "Data columns (total 23 columns):\n",
            " #   Column                Non-Null Count  Dtype         \n",
            "---  ------                --------------  -----         \n",
            " 0   total_images          23699 non-null  int64         \n",
            " 1   last_price            23699 non-null  float64       \n",
            " 2   total_area            23699 non-null  float64       \n",
            " 3   first_day_exposition  23699 non-null  datetime64[ns]\n",
            " 4   rooms                 23699 non-null  int64         \n",
            " 5   ceiling_height        14504 non-null  float64       \n",
            " 6   floors_total          23699 non-null  int64         \n",
            " 7   living_area           21796 non-null  float64       \n",
            " 8   floor                 23699 non-null  int64         \n",
            " 9   is_apartment          23699 non-null  bool          \n",
            " 10  studio                23699 non-null  bool          \n",
            " 11  open_plan             23699 non-null  bool          \n",
            " 12  kitchen_area          21421 non-null  float64       \n",
            " 13  balcony               23699 non-null  int64         \n",
            " 14  locality_name         23650 non-null  object        \n",
            " 15  airports_nearest      18157 non-null  float64       \n",
            " 16  cityCenters_nearest   18180 non-null  float64       \n",
            " 17  parks_around3000      8079 non-null   float64       \n",
            " 18  parks_nearest         8079 non-null   float64       \n",
            " 19  ponds_around3000      23699 non-null  int64         \n",
            " 20  ponds_nearest         23699 non-null  float64       \n",
            " 21  days_exposition       20518 non-null  float64       \n",
            " 22  price_per_meter       23699 non-null  int64         \n",
            "dtypes: bool(3), datetime64[ns](1), float64(11), int64(7), object(1)\n",
            "memory usage: 3.7+ MB\n"
          ]
        }
      ],
      "source": [
        "data['first_day_exposition'] = pd.to_datetime(data['first_day_exposition'], format='%Y-%m-%dT%H:%M:%S')\n",
        "data.info()"
      ]
    },
    {
      "cell_type": "code",
      "execution_count": null,
      "metadata": {
        "id": "a09JNCjV1N56"
      },
      "outputs": [],
      "source": [
        "#найдем день, месяц и год публикации объявления и поместим значения в отдельные колонки\n",
        "data['month'] = pd.DatetimeIndex(data['first_day_exposition']).month\n",
        "data['year'] = pd.DatetimeIndex(data['first_day_exposition']).year\n"
      ]
    },
    {
      "cell_type": "code",
      "execution_count": null,
      "metadata": {
        "id": "o-5_sIwT1N56"
      },
      "outputs": [],
      "source": [
        "#data['test'] = data['first_day_exposition'].astype('datetime64[M]')"
      ]
    },
    {
      "cell_type": "code",
      "execution_count": null,
      "metadata": {
        "id": "tEAfA4Hs1N56",
        "outputId": "190248dc-295a-4177-a96f-f2e7cd91aff2"
      },
      "outputs": [
        {
          "data": {
            "text/html": [
              "<div>\n",
              "<style scoped>\n",
              "    .dataframe tbody tr th:only-of-type {\n",
              "        vertical-align: middle;\n",
              "    }\n",
              "\n",
              "    .dataframe tbody tr th {\n",
              "        vertical-align: top;\n",
              "    }\n",
              "\n",
              "    .dataframe thead th {\n",
              "        text-align: right;\n",
              "    }\n",
              "</style>\n",
              "<table border=\"1\" class=\"dataframe\">\n",
              "  <thead>\n",
              "    <tr style=\"text-align: right;\">\n",
              "      <th></th>\n",
              "      <th>total_images</th>\n",
              "      <th>last_price</th>\n",
              "      <th>total_area</th>\n",
              "      <th>first_day_exposition</th>\n",
              "      <th>rooms</th>\n",
              "      <th>ceiling_height</th>\n",
              "      <th>floors_total</th>\n",
              "      <th>living_area</th>\n",
              "      <th>floor</th>\n",
              "      <th>is_apartment</th>\n",
              "      <th>...</th>\n",
              "      <th>cityCenters_nearest</th>\n",
              "      <th>parks_around3000</th>\n",
              "      <th>parks_nearest</th>\n",
              "      <th>ponds_around3000</th>\n",
              "      <th>ponds_nearest</th>\n",
              "      <th>days_exposition</th>\n",
              "      <th>price_per_meter</th>\n",
              "      <th>month</th>\n",
              "      <th>year</th>\n",
              "      <th>day</th>\n",
              "    </tr>\n",
              "  </thead>\n",
              "  <tbody>\n",
              "    <tr>\n",
              "      <th>0</th>\n",
              "      <td>20</td>\n",
              "      <td>13000000.0</td>\n",
              "      <td>108.0</td>\n",
              "      <td>2019-03-07</td>\n",
              "      <td>3</td>\n",
              "      <td>2.70</td>\n",
              "      <td>16</td>\n",
              "      <td>51.0</td>\n",
              "      <td>8</td>\n",
              "      <td>False</td>\n",
              "      <td>...</td>\n",
              "      <td>16028.0</td>\n",
              "      <td>1.0</td>\n",
              "      <td>482.0</td>\n",
              "      <td>2</td>\n",
              "      <td>755.0</td>\n",
              "      <td>NaN</td>\n",
              "      <td>120370</td>\n",
              "      <td>3</td>\n",
              "      <td>2019</td>\n",
              "      <td>3</td>\n",
              "    </tr>\n",
              "    <tr>\n",
              "      <th>1</th>\n",
              "      <td>7</td>\n",
              "      <td>3350000.0</td>\n",
              "      <td>40.4</td>\n",
              "      <td>2018-12-04</td>\n",
              "      <td>1</td>\n",
              "      <td>NaN</td>\n",
              "      <td>11</td>\n",
              "      <td>18.6</td>\n",
              "      <td>1</td>\n",
              "      <td>False</td>\n",
              "      <td>...</td>\n",
              "      <td>18603.0</td>\n",
              "      <td>NaN</td>\n",
              "      <td>NaN</td>\n",
              "      <td>0</td>\n",
              "      <td>0.0</td>\n",
              "      <td>81.0</td>\n",
              "      <td>82920</td>\n",
              "      <td>12</td>\n",
              "      <td>2018</td>\n",
              "      <td>1</td>\n",
              "    </tr>\n",
              "    <tr>\n",
              "      <th>2</th>\n",
              "      <td>10</td>\n",
              "      <td>5196000.0</td>\n",
              "      <td>56.0</td>\n",
              "      <td>2015-08-20</td>\n",
              "      <td>2</td>\n",
              "      <td>NaN</td>\n",
              "      <td>5</td>\n",
              "      <td>34.3</td>\n",
              "      <td>4</td>\n",
              "      <td>False</td>\n",
              "      <td>...</td>\n",
              "      <td>13933.0</td>\n",
              "      <td>1.0</td>\n",
              "      <td>90.0</td>\n",
              "      <td>2</td>\n",
              "      <td>574.0</td>\n",
              "      <td>558.0</td>\n",
              "      <td>92785</td>\n",
              "      <td>8</td>\n",
              "      <td>2015</td>\n",
              "      <td>3</td>\n",
              "    </tr>\n",
              "    <tr>\n",
              "      <th>3</th>\n",
              "      <td>0</td>\n",
              "      <td>64900000.0</td>\n",
              "      <td>159.0</td>\n",
              "      <td>2015-07-24</td>\n",
              "      <td>3</td>\n",
              "      <td>NaN</td>\n",
              "      <td>14</td>\n",
              "      <td>NaN</td>\n",
              "      <td>9</td>\n",
              "      <td>False</td>\n",
              "      <td>...</td>\n",
              "      <td>6800.0</td>\n",
              "      <td>2.0</td>\n",
              "      <td>84.0</td>\n",
              "      <td>3</td>\n",
              "      <td>234.0</td>\n",
              "      <td>424.0</td>\n",
              "      <td>408176</td>\n",
              "      <td>7</td>\n",
              "      <td>2015</td>\n",
              "      <td>4</td>\n",
              "    </tr>\n",
              "    <tr>\n",
              "      <th>4</th>\n",
              "      <td>2</td>\n",
              "      <td>10000000.0</td>\n",
              "      <td>100.0</td>\n",
              "      <td>2018-06-19</td>\n",
              "      <td>2</td>\n",
              "      <td>3.03</td>\n",
              "      <td>14</td>\n",
              "      <td>32.0</td>\n",
              "      <td>13</td>\n",
              "      <td>False</td>\n",
              "      <td>...</td>\n",
              "      <td>8098.0</td>\n",
              "      <td>2.0</td>\n",
              "      <td>112.0</td>\n",
              "      <td>1</td>\n",
              "      <td>48.0</td>\n",
              "      <td>121.0</td>\n",
              "      <td>100000</td>\n",
              "      <td>6</td>\n",
              "      <td>2018</td>\n",
              "      <td>1</td>\n",
              "    </tr>\n",
              "  </tbody>\n",
              "</table>\n",
              "<p>5 rows × 26 columns</p>\n",
              "</div>"
            ],
            "text/plain": [
              "   total_images  last_price  total_area first_day_exposition  rooms  \\\n",
              "0            20  13000000.0       108.0           2019-03-07      3   \n",
              "1             7   3350000.0        40.4           2018-12-04      1   \n",
              "2            10   5196000.0        56.0           2015-08-20      2   \n",
              "3             0  64900000.0       159.0           2015-07-24      3   \n",
              "4             2  10000000.0       100.0           2018-06-19      2   \n",
              "\n",
              "   ceiling_height  floors_total  living_area  floor  is_apartment  ...  \\\n",
              "0            2.70            16         51.0      8         False  ...   \n",
              "1             NaN            11         18.6      1         False  ...   \n",
              "2             NaN             5         34.3      4         False  ...   \n",
              "3             NaN            14          NaN      9         False  ...   \n",
              "4            3.03            14         32.0     13         False  ...   \n",
              "\n",
              "   cityCenters_nearest  parks_around3000  parks_nearest  ponds_around3000  \\\n",
              "0              16028.0               1.0          482.0                 2   \n",
              "1              18603.0               NaN            NaN                 0   \n",
              "2              13933.0               1.0           90.0                 2   \n",
              "3               6800.0               2.0           84.0                 3   \n",
              "4               8098.0               2.0          112.0                 1   \n",
              "\n",
              "  ponds_nearest  days_exposition  price_per_meter  month  year  day  \n",
              "0         755.0              NaN           120370      3  2019    3  \n",
              "1           0.0             81.0            82920     12  2018    1  \n",
              "2         574.0            558.0            92785      8  2015    3  \n",
              "3         234.0            424.0           408176      7  2015    4  \n",
              "4          48.0            121.0           100000      6  2018    1  \n",
              "\n",
              "[5 rows x 26 columns]"
            ]
          },
          "execution_count": 39,
          "metadata": {},
          "output_type": "execute_result"
        }
      ],
      "source": [
        "# для получения дня недели из даты\n",
        "data['day'] = data['first_day_exposition'].dt.weekday\n",
        "data.head()"
      ]
    },
    {
      "cell_type": "code",
      "execution_count": null,
      "metadata": {
        "id": "cFLYwE_k1N56",
        "outputId": "1f3be430-858a-47b1-a054-41494102903d"
      },
      "outputs": [
        {
          "data": {
            "text/html": [
              "<div>\n",
              "<style scoped>\n",
              "    .dataframe tbody tr th:only-of-type {\n",
              "        vertical-align: middle;\n",
              "    }\n",
              "\n",
              "    .dataframe tbody tr th {\n",
              "        vertical-align: top;\n",
              "    }\n",
              "\n",
              "    .dataframe thead th {\n",
              "        text-align: right;\n",
              "    }\n",
              "</style>\n",
              "<table border=\"1\" class=\"dataframe\">\n",
              "  <thead>\n",
              "    <tr style=\"text-align: right;\">\n",
              "      <th></th>\n",
              "      <th>total_images</th>\n",
              "      <th>last_price</th>\n",
              "      <th>total_area</th>\n",
              "      <th>first_day_exposition</th>\n",
              "      <th>rooms</th>\n",
              "      <th>ceiling_height</th>\n",
              "      <th>floors_total</th>\n",
              "      <th>living_area</th>\n",
              "      <th>floor</th>\n",
              "      <th>is_apartment</th>\n",
              "      <th>...</th>\n",
              "      <th>cityCenters_nearest</th>\n",
              "      <th>parks_around3000</th>\n",
              "      <th>parks_nearest</th>\n",
              "      <th>ponds_around3000</th>\n",
              "      <th>ponds_nearest</th>\n",
              "      <th>days_exposition</th>\n",
              "      <th>price_per_meter</th>\n",
              "      <th>month</th>\n",
              "      <th>year</th>\n",
              "      <th>day</th>\n",
              "    </tr>\n",
              "  </thead>\n",
              "  <tbody>\n",
              "    <tr>\n",
              "      <th>0</th>\n",
              "      <td>20</td>\n",
              "      <td>13000000.0</td>\n",
              "      <td>108.0</td>\n",
              "      <td>2019-03-07</td>\n",
              "      <td>3</td>\n",
              "      <td>2.70</td>\n",
              "      <td>16</td>\n",
              "      <td>51.0</td>\n",
              "      <td>8</td>\n",
              "      <td>False</td>\n",
              "      <td>...</td>\n",
              "      <td>16028.0</td>\n",
              "      <td>1.0</td>\n",
              "      <td>482.0</td>\n",
              "      <td>2</td>\n",
              "      <td>755.0</td>\n",
              "      <td>NaN</td>\n",
              "      <td>120370</td>\n",
              "      <td>3</td>\n",
              "      <td>2019</td>\n",
              "      <td>четверг</td>\n",
              "    </tr>\n",
              "    <tr>\n",
              "      <th>1</th>\n",
              "      <td>7</td>\n",
              "      <td>3350000.0</td>\n",
              "      <td>40.4</td>\n",
              "      <td>2018-12-04</td>\n",
              "      <td>1</td>\n",
              "      <td>NaN</td>\n",
              "      <td>11</td>\n",
              "      <td>18.6</td>\n",
              "      <td>1</td>\n",
              "      <td>False</td>\n",
              "      <td>...</td>\n",
              "      <td>18603.0</td>\n",
              "      <td>NaN</td>\n",
              "      <td>NaN</td>\n",
              "      <td>0</td>\n",
              "      <td>0.0</td>\n",
              "      <td>81.0</td>\n",
              "      <td>82920</td>\n",
              "      <td>12</td>\n",
              "      <td>2018</td>\n",
              "      <td>вторник</td>\n",
              "    </tr>\n",
              "    <tr>\n",
              "      <th>2</th>\n",
              "      <td>10</td>\n",
              "      <td>5196000.0</td>\n",
              "      <td>56.0</td>\n",
              "      <td>2015-08-20</td>\n",
              "      <td>2</td>\n",
              "      <td>NaN</td>\n",
              "      <td>5</td>\n",
              "      <td>34.3</td>\n",
              "      <td>4</td>\n",
              "      <td>False</td>\n",
              "      <td>...</td>\n",
              "      <td>13933.0</td>\n",
              "      <td>1.0</td>\n",
              "      <td>90.0</td>\n",
              "      <td>2</td>\n",
              "      <td>574.0</td>\n",
              "      <td>558.0</td>\n",
              "      <td>92785</td>\n",
              "      <td>8</td>\n",
              "      <td>2015</td>\n",
              "      <td>четверг</td>\n",
              "    </tr>\n",
              "    <tr>\n",
              "      <th>3</th>\n",
              "      <td>0</td>\n",
              "      <td>64900000.0</td>\n",
              "      <td>159.0</td>\n",
              "      <td>2015-07-24</td>\n",
              "      <td>3</td>\n",
              "      <td>NaN</td>\n",
              "      <td>14</td>\n",
              "      <td>NaN</td>\n",
              "      <td>9</td>\n",
              "      <td>False</td>\n",
              "      <td>...</td>\n",
              "      <td>6800.0</td>\n",
              "      <td>2.0</td>\n",
              "      <td>84.0</td>\n",
              "      <td>3</td>\n",
              "      <td>234.0</td>\n",
              "      <td>424.0</td>\n",
              "      <td>408176</td>\n",
              "      <td>7</td>\n",
              "      <td>2015</td>\n",
              "      <td>пятница</td>\n",
              "    </tr>\n",
              "    <tr>\n",
              "      <th>4</th>\n",
              "      <td>2</td>\n",
              "      <td>10000000.0</td>\n",
              "      <td>100.0</td>\n",
              "      <td>2018-06-19</td>\n",
              "      <td>2</td>\n",
              "      <td>3.03</td>\n",
              "      <td>14</td>\n",
              "      <td>32.0</td>\n",
              "      <td>13</td>\n",
              "      <td>False</td>\n",
              "      <td>...</td>\n",
              "      <td>8098.0</td>\n",
              "      <td>2.0</td>\n",
              "      <td>112.0</td>\n",
              "      <td>1</td>\n",
              "      <td>48.0</td>\n",
              "      <td>121.0</td>\n",
              "      <td>100000</td>\n",
              "      <td>6</td>\n",
              "      <td>2018</td>\n",
              "      <td>вторник</td>\n",
              "    </tr>\n",
              "  </tbody>\n",
              "</table>\n",
              "<p>5 rows × 26 columns</p>\n",
              "</div>"
            ],
            "text/plain": [
              "   total_images  last_price  total_area first_day_exposition  rooms  \\\n",
              "0            20  13000000.0       108.0           2019-03-07      3   \n",
              "1             7   3350000.0        40.4           2018-12-04      1   \n",
              "2            10   5196000.0        56.0           2015-08-20      2   \n",
              "3             0  64900000.0       159.0           2015-07-24      3   \n",
              "4             2  10000000.0       100.0           2018-06-19      2   \n",
              "\n",
              "   ceiling_height  floors_total  living_area  floor  is_apartment  ...  \\\n",
              "0            2.70            16         51.0      8         False  ...   \n",
              "1             NaN            11         18.6      1         False  ...   \n",
              "2             NaN             5         34.3      4         False  ...   \n",
              "3             NaN            14          NaN      9         False  ...   \n",
              "4            3.03            14         32.0     13         False  ...   \n",
              "\n",
              "   cityCenters_nearest  parks_around3000  parks_nearest  ponds_around3000  \\\n",
              "0              16028.0               1.0          482.0                 2   \n",
              "1              18603.0               NaN            NaN                 0   \n",
              "2              13933.0               1.0           90.0                 2   \n",
              "3               6800.0               2.0           84.0                 3   \n",
              "4               8098.0               2.0          112.0                 1   \n",
              "\n",
              "  ponds_nearest  days_exposition  price_per_meter  month  year      day  \n",
              "0         755.0              NaN           120370      3  2019  четверг  \n",
              "1           0.0             81.0            82920     12  2018  вторник  \n",
              "2         574.0            558.0            92785      8  2015  четверг  \n",
              "3         234.0            424.0           408176      7  2015  пятница  \n",
              "4          48.0            121.0           100000      6  2018  вторник  \n",
              "\n",
              "[5 rows x 26 columns]"
            ]
          },
          "execution_count": 40,
          "metadata": {},
          "output_type": "execute_result"
        }
      ],
      "source": [
        "def week_map (day):\n",
        "    if day == 0:\n",
        "        return 'понедельник'\n",
        "    if day == 1:\n",
        "        return 'вторник'\n",
        "    if day == 2:\n",
        "        return 'среда'\n",
        "    if day == 3:\n",
        "        return 'четверг'\n",
        "    if day == 4:\n",
        "        return 'пятница'\n",
        "    if day == 5:\n",
        "        return 'суббота'\n",
        "    return 'воскресенье'\n",
        "week_map(3)\n",
        "data['day'] = data['day'].apply(week_map)\n",
        "data.head()"
      ]
    },
    {
      "cell_type": "markdown",
      "metadata": {
        "id": "7Rl0cQ3B1N56"
      },
      "source": [
        "3. floor of the apartment: options - first, last, other - categorization of the floor column;"
      ]
    },
    {
      "cell_type": "code",
      "execution_count": null,
      "metadata": {
        "id": "EqESyRs-1N57",
        "outputId": "7a8a1b56-178d-40fb-8493-6b65d1e39c66"
      },
      "outputs": [
        {
          "data": {
            "text/plain": [
              "9640     65968.0\n",
              "5340     65952.0\n",
              "577      65764.0\n",
              "20746    65105.0\n",
              "5218     64857.0\n",
              "          ...   \n",
              "23683        NaN\n",
              "23692        NaN\n",
              "23695        NaN\n",
              "23696        NaN\n",
              "23698        NaN\n",
              "Name: cityCenters_nearest, Length: 23699, dtype: float64"
            ]
          },
          "execution_count": 41,
          "metadata": {},
          "output_type": "execute_result"
        }
      ],
      "source": [
        "data['cityCenters_nearest'].sort_values(ascending=False)"
      ]
    },
    {
      "cell_type": "code",
      "execution_count": null,
      "metadata": {
        "id": "oRqBUqJ21N57",
        "outputId": "9c987e72-b6cb-40bd-8460-d1ffdbe1ffae"
      },
      "outputs": [
        {
          "data": {
            "text/html": [
              "<div>\n",
              "<style scoped>\n",
              "    .dataframe tbody tr th:only-of-type {\n",
              "        vertical-align: middle;\n",
              "    }\n",
              "\n",
              "    .dataframe tbody tr th {\n",
              "        vertical-align: top;\n",
              "    }\n",
              "\n",
              "    .dataframe thead th {\n",
              "        text-align: right;\n",
              "    }\n",
              "</style>\n",
              "<table border=\"1\" class=\"dataframe\">\n",
              "  <thead>\n",
              "    <tr style=\"text-align: right;\">\n",
              "      <th></th>\n",
              "      <th>total_images</th>\n",
              "      <th>last_price</th>\n",
              "      <th>total_area</th>\n",
              "      <th>first_day_exposition</th>\n",
              "      <th>rooms</th>\n",
              "      <th>ceiling_height</th>\n",
              "      <th>floors_total</th>\n",
              "      <th>living_area</th>\n",
              "      <th>floor</th>\n",
              "      <th>is_apartment</th>\n",
              "      <th>...</th>\n",
              "      <th>parks_around3000</th>\n",
              "      <th>parks_nearest</th>\n",
              "      <th>ponds_around3000</th>\n",
              "      <th>ponds_nearest</th>\n",
              "      <th>days_exposition</th>\n",
              "      <th>price_per_meter</th>\n",
              "      <th>month</th>\n",
              "      <th>year</th>\n",
              "      <th>day</th>\n",
              "      <th>floor_category</th>\n",
              "    </tr>\n",
              "  </thead>\n",
              "  <tbody>\n",
              "    <tr>\n",
              "      <th>0</th>\n",
              "      <td>20</td>\n",
              "      <td>13000000.0</td>\n",
              "      <td>108.0</td>\n",
              "      <td>2019-03-07</td>\n",
              "      <td>3</td>\n",
              "      <td>2.70</td>\n",
              "      <td>16</td>\n",
              "      <td>51.0</td>\n",
              "      <td>8</td>\n",
              "      <td>False</td>\n",
              "      <td>...</td>\n",
              "      <td>1.0</td>\n",
              "      <td>482.0</td>\n",
              "      <td>2</td>\n",
              "      <td>755.0</td>\n",
              "      <td>NaN</td>\n",
              "      <td>120370</td>\n",
              "      <td>3</td>\n",
              "      <td>2019</td>\n",
              "      <td>четверг</td>\n",
              "      <td>другой</td>\n",
              "    </tr>\n",
              "    <tr>\n",
              "      <th>1</th>\n",
              "      <td>7</td>\n",
              "      <td>3350000.0</td>\n",
              "      <td>40.4</td>\n",
              "      <td>2018-12-04</td>\n",
              "      <td>1</td>\n",
              "      <td>NaN</td>\n",
              "      <td>11</td>\n",
              "      <td>18.6</td>\n",
              "      <td>1</td>\n",
              "      <td>False</td>\n",
              "      <td>...</td>\n",
              "      <td>NaN</td>\n",
              "      <td>NaN</td>\n",
              "      <td>0</td>\n",
              "      <td>0.0</td>\n",
              "      <td>81.0</td>\n",
              "      <td>82920</td>\n",
              "      <td>12</td>\n",
              "      <td>2018</td>\n",
              "      <td>вторник</td>\n",
              "      <td>первый</td>\n",
              "    </tr>\n",
              "    <tr>\n",
              "      <th>2</th>\n",
              "      <td>10</td>\n",
              "      <td>5196000.0</td>\n",
              "      <td>56.0</td>\n",
              "      <td>2015-08-20</td>\n",
              "      <td>2</td>\n",
              "      <td>NaN</td>\n",
              "      <td>5</td>\n",
              "      <td>34.3</td>\n",
              "      <td>4</td>\n",
              "      <td>False</td>\n",
              "      <td>...</td>\n",
              "      <td>1.0</td>\n",
              "      <td>90.0</td>\n",
              "      <td>2</td>\n",
              "      <td>574.0</td>\n",
              "      <td>558.0</td>\n",
              "      <td>92785</td>\n",
              "      <td>8</td>\n",
              "      <td>2015</td>\n",
              "      <td>четверг</td>\n",
              "      <td>другой</td>\n",
              "    </tr>\n",
              "    <tr>\n",
              "      <th>3</th>\n",
              "      <td>0</td>\n",
              "      <td>64900000.0</td>\n",
              "      <td>159.0</td>\n",
              "      <td>2015-07-24</td>\n",
              "      <td>3</td>\n",
              "      <td>NaN</td>\n",
              "      <td>14</td>\n",
              "      <td>NaN</td>\n",
              "      <td>9</td>\n",
              "      <td>False</td>\n",
              "      <td>...</td>\n",
              "      <td>2.0</td>\n",
              "      <td>84.0</td>\n",
              "      <td>3</td>\n",
              "      <td>234.0</td>\n",
              "      <td>424.0</td>\n",
              "      <td>408176</td>\n",
              "      <td>7</td>\n",
              "      <td>2015</td>\n",
              "      <td>пятница</td>\n",
              "      <td>другой</td>\n",
              "    </tr>\n",
              "    <tr>\n",
              "      <th>4</th>\n",
              "      <td>2</td>\n",
              "      <td>10000000.0</td>\n",
              "      <td>100.0</td>\n",
              "      <td>2018-06-19</td>\n",
              "      <td>2</td>\n",
              "      <td>3.03</td>\n",
              "      <td>14</td>\n",
              "      <td>32.0</td>\n",
              "      <td>13</td>\n",
              "      <td>False</td>\n",
              "      <td>...</td>\n",
              "      <td>2.0</td>\n",
              "      <td>112.0</td>\n",
              "      <td>1</td>\n",
              "      <td>48.0</td>\n",
              "      <td>121.0</td>\n",
              "      <td>100000</td>\n",
              "      <td>6</td>\n",
              "      <td>2018</td>\n",
              "      <td>вторник</td>\n",
              "      <td>другой</td>\n",
              "    </tr>\n",
              "  </tbody>\n",
              "</table>\n",
              "<p>5 rows × 27 columns</p>\n",
              "</div>"
            ],
            "text/plain": [
              "   total_images  last_price  total_area first_day_exposition  rooms  \\\n",
              "0            20  13000000.0       108.0           2019-03-07      3   \n",
              "1             7   3350000.0        40.4           2018-12-04      1   \n",
              "2            10   5196000.0        56.0           2015-08-20      2   \n",
              "3             0  64900000.0       159.0           2015-07-24      3   \n",
              "4             2  10000000.0       100.0           2018-06-19      2   \n",
              "\n",
              "   ceiling_height  floors_total  living_area  floor  is_apartment  ...  \\\n",
              "0            2.70            16         51.0      8         False  ...   \n",
              "1             NaN            11         18.6      1         False  ...   \n",
              "2             NaN             5         34.3      4         False  ...   \n",
              "3             NaN            14          NaN      9         False  ...   \n",
              "4            3.03            14         32.0     13         False  ...   \n",
              "\n",
              "   parks_around3000  parks_nearest  ponds_around3000  ponds_nearest  \\\n",
              "0               1.0          482.0                 2          755.0   \n",
              "1               NaN            NaN                 0            0.0   \n",
              "2               1.0           90.0                 2          574.0   \n",
              "3               2.0           84.0                 3          234.0   \n",
              "4               2.0          112.0                 1           48.0   \n",
              "\n",
              "  days_exposition  price_per_meter  month  year      day  floor_category  \n",
              "0             NaN           120370      3  2019  четверг          другой  \n",
              "1            81.0            82920     12  2018  вторник          первый  \n",
              "2           558.0            92785      8  2015  четверг          другой  \n",
              "3           424.0           408176      7  2015  пятница          другой  \n",
              "4           121.0           100000      6  2018  вторник          другой  \n",
              "\n",
              "[5 rows x 27 columns]"
            ]
          },
          "execution_count": 42,
          "metadata": {},
          "output_type": "execute_result"
        }
      ],
      "source": [
        "#этаж квартиры: варианты — первый, последний, другой - категоризация колонки floor; \n",
        "def floor_category_func (floor):\n",
        "    total = floor['floors_total']\n",
        "    fl = floor['floor']\n",
        "    if fl == 1:\n",
        "        return 'первый'\n",
        "    if fl == total:\n",
        "        return 'последний'\n",
        "    return 'другой'\n",
        "floor_values = [24,1]\n",
        "floor_columns = ['total_floors','floor']\n",
        "floor = pd.Series(data=floor_values, index=floor_columns)\n",
        "data['floor_category'] = data.apply(floor_category_func, axis=1)\n",
        "data.head()\n",
        "\n"
      ]
    },
    {
      "cell_type": "markdown",
      "metadata": {
        "id": "84rjWU4Y1N57"
      },
      "source": [
        "round the initial data and the obtained values\n",
        "ratio_area column displays the ratio of residential and total area\n",
        "ratio_area_kitchen column displays the ratio of the kitchen area to the total"
      ]
    },
    {
      "cell_type": "code",
      "execution_count": null,
      "metadata": {
        "scrolled": false,
        "id": "bVOsCr511N57",
        "outputId": "83dc8fc6-061f-4593-fec6-766ff04a0ba7"
      },
      "outputs": [
        {
          "data": {
            "text/html": [
              "<div>\n",
              "<style scoped>\n",
              "    .dataframe tbody tr th:only-of-type {\n",
              "        vertical-align: middle;\n",
              "    }\n",
              "\n",
              "    .dataframe tbody tr th {\n",
              "        vertical-align: top;\n",
              "    }\n",
              "\n",
              "    .dataframe thead th {\n",
              "        text-align: right;\n",
              "    }\n",
              "</style>\n",
              "<table border=\"1\" class=\"dataframe\">\n",
              "  <thead>\n",
              "    <tr style=\"text-align: right;\">\n",
              "      <th></th>\n",
              "      <th>total_images</th>\n",
              "      <th>last_price</th>\n",
              "      <th>total_area</th>\n",
              "      <th>first_day_exposition</th>\n",
              "      <th>rooms</th>\n",
              "      <th>ceiling_height</th>\n",
              "      <th>floors_total</th>\n",
              "      <th>living_area</th>\n",
              "      <th>floor</th>\n",
              "      <th>is_apartment</th>\n",
              "      <th>...</th>\n",
              "      <th>ponds_around3000</th>\n",
              "      <th>ponds_nearest</th>\n",
              "      <th>days_exposition</th>\n",
              "      <th>price_per_meter</th>\n",
              "      <th>month</th>\n",
              "      <th>year</th>\n",
              "      <th>day</th>\n",
              "      <th>floor_category</th>\n",
              "      <th>ratio_area</th>\n",
              "      <th>ratio_area_kitchen</th>\n",
              "    </tr>\n",
              "  </thead>\n",
              "  <tbody>\n",
              "    <tr>\n",
              "      <th>0</th>\n",
              "      <td>20</td>\n",
              "      <td>13000000.0</td>\n",
              "      <td>108.00</td>\n",
              "      <td>2019-03-07</td>\n",
              "      <td>3</td>\n",
              "      <td>2.70</td>\n",
              "      <td>16</td>\n",
              "      <td>51.00</td>\n",
              "      <td>8</td>\n",
              "      <td>False</td>\n",
              "      <td>...</td>\n",
              "      <td>2</td>\n",
              "      <td>755.0</td>\n",
              "      <td>NaN</td>\n",
              "      <td>120370</td>\n",
              "      <td>3</td>\n",
              "      <td>2019</td>\n",
              "      <td>четверг</td>\n",
              "      <td>другой</td>\n",
              "      <td>0.47</td>\n",
              "      <td>0.23</td>\n",
              "    </tr>\n",
              "    <tr>\n",
              "      <th>1</th>\n",
              "      <td>7</td>\n",
              "      <td>3350000.0</td>\n",
              "      <td>40.40</td>\n",
              "      <td>2018-12-04</td>\n",
              "      <td>1</td>\n",
              "      <td>NaN</td>\n",
              "      <td>11</td>\n",
              "      <td>18.60</td>\n",
              "      <td>1</td>\n",
              "      <td>False</td>\n",
              "      <td>...</td>\n",
              "      <td>0</td>\n",
              "      <td>0.0</td>\n",
              "      <td>81.0</td>\n",
              "      <td>82920</td>\n",
              "      <td>12</td>\n",
              "      <td>2018</td>\n",
              "      <td>вторник</td>\n",
              "      <td>первый</td>\n",
              "      <td>0.46</td>\n",
              "      <td>0.27</td>\n",
              "    </tr>\n",
              "    <tr>\n",
              "      <th>2</th>\n",
              "      <td>10</td>\n",
              "      <td>5196000.0</td>\n",
              "      <td>56.00</td>\n",
              "      <td>2015-08-20</td>\n",
              "      <td>2</td>\n",
              "      <td>NaN</td>\n",
              "      <td>5</td>\n",
              "      <td>34.30</td>\n",
              "      <td>4</td>\n",
              "      <td>False</td>\n",
              "      <td>...</td>\n",
              "      <td>2</td>\n",
              "      <td>574.0</td>\n",
              "      <td>558.0</td>\n",
              "      <td>92785</td>\n",
              "      <td>8</td>\n",
              "      <td>2015</td>\n",
              "      <td>четверг</td>\n",
              "      <td>другой</td>\n",
              "      <td>0.61</td>\n",
              "      <td>0.15</td>\n",
              "    </tr>\n",
              "    <tr>\n",
              "      <th>3</th>\n",
              "      <td>0</td>\n",
              "      <td>64900000.0</td>\n",
              "      <td>159.00</td>\n",
              "      <td>2015-07-24</td>\n",
              "      <td>3</td>\n",
              "      <td>NaN</td>\n",
              "      <td>14</td>\n",
              "      <td>NaN</td>\n",
              "      <td>9</td>\n",
              "      <td>False</td>\n",
              "      <td>...</td>\n",
              "      <td>3</td>\n",
              "      <td>234.0</td>\n",
              "      <td>424.0</td>\n",
              "      <td>408176</td>\n",
              "      <td>7</td>\n",
              "      <td>2015</td>\n",
              "      <td>пятница</td>\n",
              "      <td>другой</td>\n",
              "      <td>NaN</td>\n",
              "      <td>NaN</td>\n",
              "    </tr>\n",
              "    <tr>\n",
              "      <th>4</th>\n",
              "      <td>2</td>\n",
              "      <td>10000000.0</td>\n",
              "      <td>100.00</td>\n",
              "      <td>2018-06-19</td>\n",
              "      <td>2</td>\n",
              "      <td>3.03</td>\n",
              "      <td>14</td>\n",
              "      <td>32.00</td>\n",
              "      <td>13</td>\n",
              "      <td>False</td>\n",
              "      <td>...</td>\n",
              "      <td>1</td>\n",
              "      <td>48.0</td>\n",
              "      <td>121.0</td>\n",
              "      <td>100000</td>\n",
              "      <td>6</td>\n",
              "      <td>2018</td>\n",
              "      <td>вторник</td>\n",
              "      <td>другой</td>\n",
              "      <td>0.32</td>\n",
              "      <td>0.41</td>\n",
              "    </tr>\n",
              "    <tr>\n",
              "      <th>5</th>\n",
              "      <td>10</td>\n",
              "      <td>2890000.0</td>\n",
              "      <td>30.40</td>\n",
              "      <td>2018-09-10</td>\n",
              "      <td>1</td>\n",
              "      <td>NaN</td>\n",
              "      <td>12</td>\n",
              "      <td>14.40</td>\n",
              "      <td>5</td>\n",
              "      <td>False</td>\n",
              "      <td>...</td>\n",
              "      <td>0</td>\n",
              "      <td>0.0</td>\n",
              "      <td>55.0</td>\n",
              "      <td>95065</td>\n",
              "      <td>9</td>\n",
              "      <td>2018</td>\n",
              "      <td>понедельник</td>\n",
              "      <td>другой</td>\n",
              "      <td>0.47</td>\n",
              "      <td>0.30</td>\n",
              "    </tr>\n",
              "    <tr>\n",
              "      <th>6</th>\n",
              "      <td>6</td>\n",
              "      <td>3700000.0</td>\n",
              "      <td>37.30</td>\n",
              "      <td>2017-11-02</td>\n",
              "      <td>1</td>\n",
              "      <td>NaN</td>\n",
              "      <td>26</td>\n",
              "      <td>10.60</td>\n",
              "      <td>6</td>\n",
              "      <td>False</td>\n",
              "      <td>...</td>\n",
              "      <td>0</td>\n",
              "      <td>0.0</td>\n",
              "      <td>155.0</td>\n",
              "      <td>99195</td>\n",
              "      <td>11</td>\n",
              "      <td>2017</td>\n",
              "      <td>четверг</td>\n",
              "      <td>другой</td>\n",
              "      <td>0.28</td>\n",
              "      <td>0.39</td>\n",
              "    </tr>\n",
              "    <tr>\n",
              "      <th>7</th>\n",
              "      <td>5</td>\n",
              "      <td>7915000.0</td>\n",
              "      <td>71.60</td>\n",
              "      <td>2019-04-18</td>\n",
              "      <td>2</td>\n",
              "      <td>NaN</td>\n",
              "      <td>24</td>\n",
              "      <td>NaN</td>\n",
              "      <td>22</td>\n",
              "      <td>False</td>\n",
              "      <td>...</td>\n",
              "      <td>0</td>\n",
              "      <td>0.0</td>\n",
              "      <td>NaN</td>\n",
              "      <td>110544</td>\n",
              "      <td>4</td>\n",
              "      <td>2019</td>\n",
              "      <td>четверг</td>\n",
              "      <td>другой</td>\n",
              "      <td>NaN</td>\n",
              "      <td>0.26</td>\n",
              "    </tr>\n",
              "    <tr>\n",
              "      <th>8</th>\n",
              "      <td>20</td>\n",
              "      <td>2900000.0</td>\n",
              "      <td>33.16</td>\n",
              "      <td>2018-05-23</td>\n",
              "      <td>1</td>\n",
              "      <td>NaN</td>\n",
              "      <td>27</td>\n",
              "      <td>15.43</td>\n",
              "      <td>26</td>\n",
              "      <td>False</td>\n",
              "      <td>...</td>\n",
              "      <td>0</td>\n",
              "      <td>0.0</td>\n",
              "      <td>189.0</td>\n",
              "      <td>87454</td>\n",
              "      <td>5</td>\n",
              "      <td>2018</td>\n",
              "      <td>среда</td>\n",
              "      <td>другой</td>\n",
              "      <td>0.47</td>\n",
              "      <td>0.27</td>\n",
              "    </tr>\n",
              "    <tr>\n",
              "      <th>9</th>\n",
              "      <td>18</td>\n",
              "      <td>5400000.0</td>\n",
              "      <td>61.00</td>\n",
              "      <td>2017-02-26</td>\n",
              "      <td>3</td>\n",
              "      <td>2.50</td>\n",
              "      <td>9</td>\n",
              "      <td>43.60</td>\n",
              "      <td>7</td>\n",
              "      <td>False</td>\n",
              "      <td>...</td>\n",
              "      <td>0</td>\n",
              "      <td>0.0</td>\n",
              "      <td>289.0</td>\n",
              "      <td>88524</td>\n",
              "      <td>2</td>\n",
              "      <td>2017</td>\n",
              "      <td>воскресенье</td>\n",
              "      <td>другой</td>\n",
              "      <td>0.71</td>\n",
              "      <td>0.11</td>\n",
              "    </tr>\n",
              "    <tr>\n",
              "      <th>10</th>\n",
              "      <td>5</td>\n",
              "      <td>5050000.0</td>\n",
              "      <td>39.60</td>\n",
              "      <td>2017-11-16</td>\n",
              "      <td>1</td>\n",
              "      <td>2.67</td>\n",
              "      <td>12</td>\n",
              "      <td>20.30</td>\n",
              "      <td>3</td>\n",
              "      <td>False</td>\n",
              "      <td>...</td>\n",
              "      <td>2</td>\n",
              "      <td>553.0</td>\n",
              "      <td>137.0</td>\n",
              "      <td>127525</td>\n",
              "      <td>11</td>\n",
              "      <td>2017</td>\n",
              "      <td>четверг</td>\n",
              "      <td>другой</td>\n",
              "      <td>0.51</td>\n",
              "      <td>0.21</td>\n",
              "    </tr>\n",
              "    <tr>\n",
              "      <th>11</th>\n",
              "      <td>9</td>\n",
              "      <td>3300000.0</td>\n",
              "      <td>44.00</td>\n",
              "      <td>2018-08-27</td>\n",
              "      <td>2</td>\n",
              "      <td>NaN</td>\n",
              "      <td>5</td>\n",
              "      <td>31.00</td>\n",
              "      <td>4</td>\n",
              "      <td>False</td>\n",
              "      <td>...</td>\n",
              "      <td>0</td>\n",
              "      <td>0.0</td>\n",
              "      <td>7.0</td>\n",
              "      <td>75000</td>\n",
              "      <td>8</td>\n",
              "      <td>2018</td>\n",
              "      <td>понедельник</td>\n",
              "      <td>другой</td>\n",
              "      <td>0.70</td>\n",
              "      <td>0.14</td>\n",
              "    </tr>\n",
              "    <tr>\n",
              "      <th>12</th>\n",
              "      <td>10</td>\n",
              "      <td>3890000.0</td>\n",
              "      <td>54.00</td>\n",
              "      <td>2016-06-30</td>\n",
              "      <td>2</td>\n",
              "      <td>NaN</td>\n",
              "      <td>5</td>\n",
              "      <td>30.00</td>\n",
              "      <td>5</td>\n",
              "      <td>False</td>\n",
              "      <td>...</td>\n",
              "      <td>0</td>\n",
              "      <td>0.0</td>\n",
              "      <td>90.0</td>\n",
              "      <td>72037</td>\n",
              "      <td>6</td>\n",
              "      <td>2016</td>\n",
              "      <td>четверг</td>\n",
              "      <td>последний</td>\n",
              "      <td>0.56</td>\n",
              "      <td>0.17</td>\n",
              "    </tr>\n",
              "    <tr>\n",
              "      <th>13</th>\n",
              "      <td>20</td>\n",
              "      <td>3550000.0</td>\n",
              "      <td>42.80</td>\n",
              "      <td>2017-07-01</td>\n",
              "      <td>2</td>\n",
              "      <td>2.56</td>\n",
              "      <td>5</td>\n",
              "      <td>27.00</td>\n",
              "      <td>5</td>\n",
              "      <td>False</td>\n",
              "      <td>...</td>\n",
              "      <td>3</td>\n",
              "      <td>298.0</td>\n",
              "      <td>366.0</td>\n",
              "      <td>82943</td>\n",
              "      <td>7</td>\n",
              "      <td>2017</td>\n",
              "      <td>суббота</td>\n",
              "      <td>последний</td>\n",
              "      <td>0.63</td>\n",
              "      <td>0.12</td>\n",
              "    </tr>\n",
              "    <tr>\n",
              "      <th>14</th>\n",
              "      <td>1</td>\n",
              "      <td>4400000.0</td>\n",
              "      <td>36.00</td>\n",
              "      <td>2016-06-23</td>\n",
              "      <td>1</td>\n",
              "      <td>NaN</td>\n",
              "      <td>6</td>\n",
              "      <td>17.00</td>\n",
              "      <td>1</td>\n",
              "      <td>False</td>\n",
              "      <td>...</td>\n",
              "      <td>1</td>\n",
              "      <td>96.0</td>\n",
              "      <td>203.0</td>\n",
              "      <td>122222</td>\n",
              "      <td>6</td>\n",
              "      <td>2016</td>\n",
              "      <td>четверг</td>\n",
              "      <td>первый</td>\n",
              "      <td>0.47</td>\n",
              "      <td>0.22</td>\n",
              "    </tr>\n",
              "  </tbody>\n",
              "</table>\n",
              "<p>15 rows × 29 columns</p>\n",
              "</div>"
            ],
            "text/plain": [
              "    total_images  last_price  total_area first_day_exposition  rooms  \\\n",
              "0             20  13000000.0      108.00           2019-03-07      3   \n",
              "1              7   3350000.0       40.40           2018-12-04      1   \n",
              "2             10   5196000.0       56.00           2015-08-20      2   \n",
              "3              0  64900000.0      159.00           2015-07-24      3   \n",
              "4              2  10000000.0      100.00           2018-06-19      2   \n",
              "5             10   2890000.0       30.40           2018-09-10      1   \n",
              "6              6   3700000.0       37.30           2017-11-02      1   \n",
              "7              5   7915000.0       71.60           2019-04-18      2   \n",
              "8             20   2900000.0       33.16           2018-05-23      1   \n",
              "9             18   5400000.0       61.00           2017-02-26      3   \n",
              "10             5   5050000.0       39.60           2017-11-16      1   \n",
              "11             9   3300000.0       44.00           2018-08-27      2   \n",
              "12            10   3890000.0       54.00           2016-06-30      2   \n",
              "13            20   3550000.0       42.80           2017-07-01      2   \n",
              "14             1   4400000.0       36.00           2016-06-23      1   \n",
              "\n",
              "    ceiling_height  floors_total  living_area  floor  is_apartment  ...  \\\n",
              "0             2.70            16        51.00      8         False  ...   \n",
              "1              NaN            11        18.60      1         False  ...   \n",
              "2              NaN             5        34.30      4         False  ...   \n",
              "3              NaN            14          NaN      9         False  ...   \n",
              "4             3.03            14        32.00     13         False  ...   \n",
              "5              NaN            12        14.40      5         False  ...   \n",
              "6              NaN            26        10.60      6         False  ...   \n",
              "7              NaN            24          NaN     22         False  ...   \n",
              "8              NaN            27        15.43     26         False  ...   \n",
              "9             2.50             9        43.60      7         False  ...   \n",
              "10            2.67            12        20.30      3         False  ...   \n",
              "11             NaN             5        31.00      4         False  ...   \n",
              "12             NaN             5        30.00      5         False  ...   \n",
              "13            2.56             5        27.00      5         False  ...   \n",
              "14             NaN             6        17.00      1         False  ...   \n",
              "\n",
              "    ponds_around3000  ponds_nearest  days_exposition  price_per_meter month  \\\n",
              "0                  2          755.0              NaN           120370     3   \n",
              "1                  0            0.0             81.0            82920    12   \n",
              "2                  2          574.0            558.0            92785     8   \n",
              "3                  3          234.0            424.0           408176     7   \n",
              "4                  1           48.0            121.0           100000     6   \n",
              "5                  0            0.0             55.0            95065     9   \n",
              "6                  0            0.0            155.0            99195    11   \n",
              "7                  0            0.0              NaN           110544     4   \n",
              "8                  0            0.0            189.0            87454     5   \n",
              "9                  0            0.0            289.0            88524     2   \n",
              "10                 2          553.0            137.0           127525    11   \n",
              "11                 0            0.0              7.0            75000     8   \n",
              "12                 0            0.0             90.0            72037     6   \n",
              "13                 3          298.0            366.0            82943     7   \n",
              "14                 1           96.0            203.0           122222     6   \n",
              "\n",
              "    year          day  floor_category  ratio_area  ratio_area_kitchen  \n",
              "0   2019      четверг          другой        0.47                0.23  \n",
              "1   2018      вторник          первый        0.46                0.27  \n",
              "2   2015      четверг          другой        0.61                0.15  \n",
              "3   2015      пятница          другой         NaN                 NaN  \n",
              "4   2018      вторник          другой        0.32                0.41  \n",
              "5   2018  понедельник          другой        0.47                0.30  \n",
              "6   2017      четверг          другой        0.28                0.39  \n",
              "7   2019      четверг          другой         NaN                0.26  \n",
              "8   2018        среда          другой        0.47                0.27  \n",
              "9   2017  воскресенье          другой        0.71                0.11  \n",
              "10  2017      четверг          другой        0.51                0.21  \n",
              "11  2018  понедельник          другой        0.70                0.14  \n",
              "12  2016      четверг       последний        0.56                0.17  \n",
              "13  2017      суббота       последний        0.63                0.12  \n",
              "14  2016      четверг          первый        0.47                0.22  \n",
              "\n",
              "[15 rows x 29 columns]"
            ]
          },
          "execution_count": 43,
          "metadata": {},
          "output_type": "execute_result"
        }
      ],
      "source": [
        "data['total_area'] = round(data['total_area'],2)\n",
        "data['living_area'] = round(data['living_area'],2)\n",
        "data['ratio_area'] = data['living_area']/data['total_area']\n",
        "data['ratio_area_kitchen'] = data['kitchen_area']/data['total_area']\n",
        "data['ratio_area'] = round(data['ratio_area'],2)\n",
        "data['ratio_area_kitchen'] = round(data['ratio_area_kitchen'],2)\n",
        "#проверяем\n",
        "data.head(15)"
      ]
    },
    {
      "cell_type": "markdown",
      "metadata": {
        "id": "sFjecxM51N58"
      },
      "source": [
        "## Exploratory data analysis"
      ]
    },
    {
      "cell_type": "markdown",
      "metadata": {
        "id": "EnNx8-vc1N58"
      },
      "source": [
        "Explore the following parameters: area, price, number of rooms, ceiling height. Plot histograms for each parameter."
      ]
    },
    {
      "cell_type": "markdown",
      "metadata": {
        "id": "pxSGhRdq1N58"
      },
      "source": [
        "COST HISTOGRAM"
      ]
    },
    {
      "cell_type": "code",
      "execution_count": null,
      "metadata": {
        "scrolled": true,
        "id": "HjyDaJIC1N58",
        "outputId": "16b9c843-bc78-4d64-e068-f34107f35ee9"
      },
      "outputs": [
        {
          "data": {
            "text/plain": [
              "4650000.0"
            ]
          },
          "metadata": {},
          "output_type": "display_data"
        },
        {
          "data": {
            "text/plain": [
              "763000000.0"
            ]
          },
          "metadata": {},
          "output_type": "display_data"
        },
        {
          "data": {
            "text/plain": [
              "12190.0"
            ]
          },
          "execution_count": 44,
          "metadata": {},
          "output_type": "execute_result"
        },
        {
          "data": {
            "image/png": "[encoded data removed]",
            "text/plain": [
              "<Figure size 360x216 with 1 Axes>"
            ]
          },
          "metadata": {
            "needs_background": "light"
          },
          "output_type": "display_data"
        }
      ],
      "source": [
        "price_hist = data.plot(y='last_price',kind='hist', bins=100, grid=True, range=(0,20000000), figsize=(5,3))\n",
        "price_hist.set_xlabel('стоимость')\n",
        "price_hist.set_ylabel('количество квартир')\n",
        "display(data['last_price'].median())\n",
        "\n",
        "\n",
        "display(data['last_price'].max())\n",
        "data['last_price'].min()\n"
      ]
    },
    {
      "cell_type": "markdown",
      "metadata": {
        "id": "3z6FeeZV1N58"
      },
      "source": [
        "having received a histogram, we can say that the data distribution is normal, there are outliers, but insignificant"
      ]
    },
    {
      "cell_type": "markdown",
      "metadata": {
        "id": "kg7KPLcE1N58"
      },
      "source": [
        "HISTOGRAM OF THE TOTAL AREA OF THE APARTMENT"
      ]
    },
    {
      "cell_type": "code",
      "execution_count": null,
      "metadata": {
        "scrolled": true,
        "id": "UQgAkd8D1N59",
        "outputId": "0503686f-16ec-4022-ddb8-f045be69fe08"
      },
      "outputs": [
        {
          "data": {
            "text/plain": [
              "52.0"
            ]
          },
          "metadata": {},
          "output_type": "display_data"
        },
        {
          "data": {
            "text/plain": [
              "900.0"
            ]
          },
          "metadata": {},
          "output_type": "display_data"
        },
        {
          "data": {
            "text/plain": [
              "12.0"
            ]
          },
          "execution_count": 45,
          "metadata": {},
          "output_type": "execute_result"
        },
        {
          "data": {
            "image/png": "[encoded data removed]",
            "text/plain": [
              "<Figure size 360x216 with 1 Axes>"
            ]
          },
          "metadata": {
            "needs_background": "light"
          },
          "output_type": "display_data"
        }
      ],
      "source": [
        "data.plot(y='total_area', bins=100, grid=True, kind='hist', range=(0,500), figsize=(5,3))\n",
        "display(data['total_area'].median())\n",
        "display(data['total_area'].max())\n",
        "data['total_area'].min()\n"
      ]
    },
    {
      "cell_type": "markdown",
      "metadata": {
        "id": "aDSAP1L51N59"
      },
      "source": [
        "he distribution of values in the histogram looks normal. There are outliers - the maximum value is 900, but we had to reduce the histogram box to 500 to see the distribution. We can say that the average area of ​​an apartment is 52 meters on the median"
      ]
    },
    {
      "cell_type": "markdown",
      "metadata": {
        "id": "9B8_Ku031N59"
      },
      "source": [
        "HISTOGRAM OF NUMBER OF ROOMS"
      ]
    },
    {
      "cell_type": "code",
      "execution_count": null,
      "metadata": {
        "scrolled": false,
        "id": "3SXbRUtf1N59",
        "outputId": "4fa9f383-6391-45b9-aa67-9898dad9211f"
      },
      "outputs": [
        {
          "data": {
            "text/plain": [
              "19"
            ]
          },
          "metadata": {},
          "output_type": "display_data"
        },
        {
          "data": {
            "text/plain": [
              "1     8047\n",
              "2     7940\n",
              "3     5814\n",
              "4     1180\n",
              "5      326\n",
              "0      197\n",
              "6      105\n",
              "7       59\n",
              "8       12\n",
              "9        8\n",
              "10       3\n",
              "11       2\n",
              "14       2\n",
              "15       1\n",
              "19       1\n",
              "16       1\n",
              "12       1\n",
              "Name: rooms, dtype: int64"
            ]
          },
          "execution_count": 46,
          "metadata": {},
          "output_type": "execute_result"
        },
        {
          "data": {
            "image/png": "[encoded data removed]",
            "text/plain": [
              "<Figure size 360x216 with 1 Axes>"
            ]
          },
          "metadata": {
            "needs_background": "light"
          },
          "output_type": "display_data"
        }
      ],
      "source": [
        "data.plot(y='rooms', kind='hist', range=(0,19), bins=30, grid=True, figsize =(5,3))\n",
        "display(data['rooms'].max())\n",
        "data['rooms'].min()\n",
        "data['rooms'].value_counts()\n"
      ]
    },
    {
      "cell_type": "markdown",
      "metadata": {
        "id": "e993ajSX1N59"
      },
      "source": [
        "the values look normal, there are apartments with a different number of rooms. You might think that 19 apartments is an outlier, but this also happens (plus there are intermediate values ​​- 15). There are two peaks, 1- and 2-room apartments"
      ]
    },
    {
      "cell_type": "markdown",
      "metadata": {
        "id": "u21OuF-91N59"
      },
      "source": [
        "CEILING HEIGHT HISTOGRAM"
      ]
    },
    {
      "cell_type": "code",
      "execution_count": null,
      "metadata": {
        "scrolled": true,
        "id": "TNWHiLgZ1N59",
        "outputId": "01185328-7199-4b24-e382-bcc4044db3d0"
      },
      "outputs": [
        {
          "data": {
            "text/plain": [
              "100.0"
            ]
          },
          "metadata": {},
          "output_type": "display_data"
        },
        {
          "data": {
            "text/plain": [
              "1.0"
            ]
          },
          "execution_count": 47,
          "metadata": {},
          "output_type": "execute_result"
        },
        {
          "data": {
            "image/png": "[encoded data removed]",
            "text/plain": [
              "<Figure size 360x216 with 1 Axes>"
            ]
          },
          "metadata": {
            "needs_background": "light"
          },
          "output_type": "display_data"
        }
      ],
      "source": [
        "data.plot(y='ceiling_height', kind='hist', range=(0,10), grid=True, figsize=(5,3), bins=80)\n",
        "display(data['ceiling_height'].max())\n",
        "data['ceiling_height'].min()\n",
        "\n",
        "\n"
      ]
    },
    {
      "cell_type": "markdown",
      "metadata": {
        "id": "YjHr2ZVz1N59"
      },
      "source": [
        "the ceiling height column has unrealistic values of 100 meters, these are outliers, let's look at them in more detail"
      ]
    },
    {
      "cell_type": "code",
      "execution_count": null,
      "metadata": {
        "id": "I3GsFRMH1N59",
        "outputId": "59cf5bfb-e446-4791-90e0-0ebfe32e3cf9"
      },
      "outputs": [
        {
          "data": {
            "text/plain": [
              "2.50    3515\n",
              "2.60    1646\n",
              "2.70    1574\n",
              "3.00    1112\n",
              "2.80     993\n",
              "        ... \n",
              "5.00       1\n",
              "2.20       1\n",
              "2.34       1\n",
              "3.93       1\n",
              "3.59       1\n",
              "Name: ceiling_height, Length: 183, dtype: int64"
            ]
          },
          "execution_count": 48,
          "metadata": {},
          "output_type": "execute_result"
        },
        {
          "data": {
            "image/png": "[encoded data removed]",
            "text/plain": [
              "<Figure size 360x216 with 1 Axes>"
            ]
          },
          "metadata": {
            "needs_background": "light"
          },
          "output_type": "display_data"
        }
      ],
      "source": [
        "data.plot(y='ceiling_height', kind='hist', range=(2,10), grid=True, figsize=(5,3), bins=30)\n",
        "data['ceiling_height'].value_counts()"
      ]
    },
    {
      "cell_type": "markdown",
      "metadata": {
        "id": "nksJEFw51N5-"
      },
      "source": [
        "discard values up to 2.5 and above 4.5 meters (according to the recommendations of Sanpin, the ceiling should be above 2.7 meters, but the values ​​from 2.5 to 2.7 are too many, so we cannot get rid of them)"
      ]
    },
    {
      "cell_type": "code",
      "execution_count": null,
      "metadata": {
        "id": "JxSx_ajB1N5-"
      },
      "outputs": [],
      "source": [
        "med = data['ceiling_height'].median()\n",
        "rows = (data['ceiling_height'] <= 2.5) & (data['ceiling_height'] >= 4.5)\n",
        "data.loc[rows,'ceiling_height'] = 2.65\n",
        "data['ceiling_height'] = data['ceiling_height'].fillna(med)\n",
        "\n"
      ]
    },
    {
      "cell_type": "code",
      "execution_count": null,
      "metadata": {
        "id": "2vDwy15H1N5-",
        "outputId": "0d2d667e-fc5f-4e7a-b64c-ce13a2934bc8"
      },
      "outputs": [
        {
          "data": {
            "text/plain": [
              "2.65    9871\n",
              "2.50    3515\n",
              "2.60    1646\n",
              "2.70    1574\n",
              "3.00    1112\n",
              "        ... \n",
              "5.00       1\n",
              "2.20       1\n",
              "4.15       1\n",
              "3.93       1\n",
              "3.59       1\n",
              "Name: ceiling_height, Length: 183, dtype: int64"
            ]
          },
          "metadata": {},
          "output_type": "display_data"
        },
        {
          "data": {
            "text/plain": [
              "100.0"
            ]
          },
          "execution_count": 50,
          "metadata": {},
          "output_type": "execute_result"
        },
        {
          "data": {
            "image/png": "[encoded data removed]",
            "text/plain": [
              "<Figure size 360x216 with 1 Axes>"
            ]
          },
          "metadata": {
            "needs_background": "light"
          },
          "output_type": "display_data"
        }
      ],
      "source": [
        "data.plot(y='ceiling_height', kind='hist', range=(2,10), grid=True, figsize=(5,3), bins=30)\n",
        "display(data['ceiling_height'].value_counts())\n",
        "data['ceiling_height'].min()\n",
        "data['ceiling_height'].max()"
      ]
    },
    {
      "cell_type": "markdown",
      "metadata": {
        "id": "BVCD_jjD1N5-"
      },
      "source": [
        "HISTOGRAM APARTMENT SALE TIME"
      ]
    },
    {
      "cell_type": "code",
      "execution_count": null,
      "metadata": {
        "scrolled": false,
        "id": "zGTfMeli1N5-",
        "outputId": "1ad8ae6e-3e39-427c-a496-c8e8fef90d7a"
      },
      "outputs": [
        {
          "data": {
            "text/plain": [
              "1580.0"
            ]
          },
          "execution_count": 51,
          "metadata": {},
          "output_type": "execute_result"
        },
        {
          "data": {
            "image/png": "[encoded data removed]",
            "text/plain": [
              "<Figure size 360x216 with 1 Axes>"
            ]
          },
          "metadata": {
            "needs_background": "light"
          },
          "output_type": "display_data"
        }
      ],
      "source": [
        "data.plot(y='days_exposition', kind='hist', range=(0,1085), grid=True, figsize=(5,3), bins=100)\n",
        "data['days_exposition'].max()"
      ]
    },
    {
      "cell_type": "code",
      "execution_count": null,
      "metadata": {
        "id": "z5CdD0NC1N5-",
        "outputId": "12e3d7ee-6b6a-4ae6-a78a-521167b1920f"
      },
      "outputs": [
        {
          "data": {
            "text/plain": [
              "<AxesSubplot:ylabel='Frequency'>"
            ]
          },
          "execution_count": 52,
          "metadata": {},
          "output_type": "execute_result"
        },
        {
          "data": {
            "image/png": "[encoded data removed]",
            "text/plain": [
              "<Figure size 360x216 with 1 Axes>"
            ]
          },
          "metadata": {
            "needs_background": "light"
          },
          "output_type": "display_data"
        }
      ],
      "source": [
        "data.plot(y='days_exposition', kind='hist', range=(0,100), grid=True, figsize=(5,3), bins=40)\n"
      ]
    },
    {
      "cell_type": "code",
      "execution_count": null,
      "metadata": {
        "id": "1GEMQeij1N5_",
        "outputId": "03f4d9b2-ab80-4cfe-bbc6-3bf23a93a033"
      },
      "outputs": [
        {
          "data": {
            "text/plain": [
              "45.0      880\n",
              "60.0      538\n",
              "7.0       234\n",
              "30.0      208\n",
              "90.0      204\n",
              "         ... \n",
              "1021.0      1\n",
              "1362.0      1\n",
              "1105.0      1\n",
              "795.0       1\n",
              "971.0       1\n",
              "Name: days_exposition, Length: 1141, dtype: int64"
            ]
          },
          "execution_count": 53,
          "metadata": {},
          "output_type": "execute_result"
        }
      ],
      "source": [
        "data[data['days_exposition']!=0]['days_exposition'].value_counts()"
      ]
    },
    {
      "cell_type": "code",
      "execution_count": null,
      "metadata": {
        "id": "nJUfenwh1N5_",
        "outputId": "86074224-4d5b-4720-f57f-f06170cb57e8"
      },
      "outputs": [
        {
          "data": {
            "text/plain": [
              "95.0"
            ]
          },
          "metadata": {},
          "output_type": "display_data"
        },
        {
          "data": {
            "text/plain": [
              "180.88863436982163"
            ]
          },
          "execution_count": 54,
          "metadata": {},
          "output_type": "execute_result"
        }
      ],
      "source": [
        "display(data['days_exposition'].median())\n",
        "data['days_exposition'].mean()\n"
      ]
    },
    {
      "cell_type": "code",
      "execution_count": null,
      "metadata": {
        "id": "PflwBBMm1N5_",
        "outputId": "2cad0b31-efd6-4247-f901-e422096dc07e"
      },
      "outputs": [
        {
          "data": {
            "text/plain": [
              "(1.0, 1000.0)"
            ]
          },
          "execution_count": 55,
          "metadata": {},
          "output_type": "execute_result"
        },
        {
          "data": {
            "image/png": "[encoded data removed]",
            "text/plain": [
              "<Figure size 432x288 with 1 Axes>"
            ]
          },
          "metadata": {
            "needs_background": "light"
          },
          "output_type": "display_data"
        }
      ],
      "source": [
        "plt.boxplot(data['days_exposition'])\n",
        "plt.ylim(1,1000)\n"
      ]
    },
    {
      "cell_type": "markdown",
      "metadata": {
        "id": "U9kr2hH11N5_"
      },
      "source": [
        "Remove rare and outlier values"
      ]
    },
    {
      "cell_type": "code",
      "execution_count": null,
      "metadata": {
        "id": "bNuoHkJz1N5_"
      },
      "outputs": [],
      "source": [
        "#избавимся от выбивающихся значений: 0, 7, 30, 45, 60, 90\n",
        "clean_data  = data.query('days_exposition<1000 and days_exposition!=0 and days_exposition!=7 and days_exposition!=30 and days_exposition!=45 and days_exposition!=60 and days_exposition!=90')\n"
      ]
    },
    {
      "cell_type": "code",
      "execution_count": null,
      "metadata": {
        "scrolled": true,
        "id": "MfNQtIzG1N5_",
        "outputId": "62d0fe0d-d729-4b29-f210-dbf85187b4c3"
      },
      "outputs": [
        {
          "data": {
            "text/plain": [
              "102.0"
            ]
          },
          "metadata": {},
          "output_type": "display_data"
        },
        {
          "data": {
            "text/plain": [
              "173.75872274143302"
            ]
          },
          "execution_count": 57,
          "metadata": {},
          "output_type": "execute_result"
        },
        {
          "data": {
            "image/png": "[encoded data removed]",
            "text/plain": [
              "<Figure size 360x216 with 1 Axes>"
            ]
          },
          "metadata": {
            "needs_background": "light"
          },
          "output_type": "display_data"
        }
      ],
      "source": [
        "clean_data.plot(y='days_exposition', kind='hist', range=(0,1085), grid=True, figsize=(5,3), bins=100)\n",
        "display(clean_data['days_exposition'].median())\n",
        "clean_data['days_exposition'].mean()\n"
      ]
    },
    {
      "cell_type": "code",
      "execution_count": null,
      "metadata": {
        "id": "7u-uSoPi1N5_",
        "outputId": "7653fa8f-e8b6-4c75-c64a-a11df76c2d2d"
      },
      "outputs": [
        {
          "data": {
            "text/plain": [
              "(1.0, 1000.0)"
            ]
          },
          "execution_count": 58,
          "metadata": {},
          "output_type": "execute_result"
        },
        {
          "data": {
            "image/png": "[encoded data removed]",
            "text/plain": [
              "<Figure size 432x288 with 1 Axes>"
            ]
          },
          "metadata": {
            "needs_background": "light"
          },
          "output_type": "display_data"
        }
      ],
      "source": [
        "plt.boxplot(clean_data['days_exposition'])\n",
        "plt.ylim(1,1000)"
      ]
    },
    {
      "cell_type": "markdown",
      "metadata": {
        "id": "13ayHn1A1N6A"
      },
      "source": [
        "After we removed the outliers, the histogram looks more smooth, and the average value is close to the medina. We can say that:\n",
        "1. the average number of days the sale of an apartment is about 180\n",
        "2. Most of the apartments are sold earlier and values ​​longer than a year are rare.\n",
        "3. It is also possible to sell the apartment for longer than 2 years.\n",
        "4. According to the swing diagram, the \"too long\" sale category includes terms above 550 days, but not too fast, as most apartments are sold quickly.\n",
        "(it would be interesting to mark the days that we removed: 7, 30, 45, 60 and check the dependence of the number of sales on these days, perhaps it is weekends, holidays, or on the page for finding apartments there is a pattern for updating ads every 15 days)"
      ]
    },
    {
      "cell_type": "markdown",
      "metadata": {
        "id": "CX_5_3yk1N6A"
      },
      "source": [
        "DEPENDENCE OF THE COST OF THE APARTMENT ON THE TOTAL AREA"
      ]
    },
    {
      "cell_type": "code",
      "execution_count": null,
      "metadata": {
        "id": "-ClYNpTx1N6A",
        "outputId": "cd9f0297-6b3f-47b3-ebf9-4812a3871745"
      },
      "outputs": [
        {
          "data": {
            "text/plain": [
              "Index(['total_images', 'last_price', 'total_area', 'first_day_exposition',\n",
              "       'rooms', 'ceiling_height', 'floors_total', 'living_area', 'floor',\n",
              "       'is_apartment', 'studio', 'open_plan', 'kitchen_area', 'balcony',\n",
              "       'locality_name', 'airports_nearest', 'cityCenters_nearest',\n",
              "       'parks_around3000', 'parks_nearest', 'ponds_around3000',\n",
              "       'ponds_nearest', 'days_exposition', 'price_per_meter', 'month', 'year',\n",
              "       'day', 'floor_category', 'ratio_area', 'ratio_area_kitchen'],\n",
              "      dtype='object')"
            ]
          },
          "execution_count": 59,
          "metadata": {},
          "output_type": "execute_result"
        }
      ],
      "source": [
        "data.columns"
      ]
    },
    {
      "cell_type": "code",
      "execution_count": null,
      "metadata": {
        "id": "NZzyJtsN1N6A",
        "outputId": "7ea21e50-e40b-481d-88ca-ed73303cced1"
      },
      "outputs": [
        {
          "data": {
            "image/png": "[encoded data removed]",
            "text/plain": [
              "<Figure size 432x288 with 1 Axes>"
            ]
          },
          "metadata": {
            "needs_background": "light"
          },
          "output_type": "display_data"
        }
      ],
      "source": [
        "pivot_total_area = data.pivot_table(index='total_area', values='last_price', aggfunc=['mean','median','count'])\n",
        "pivot_total_area.columns = ['mean','median','count']\n",
        "pivot_total_area = pivot_total_area.plot(y='median', style='o', alpha=0.5)\n",
        "\n",
        "#data.plot(x='total_area', y='last_price', kind='scatter', alpha=0.4)"
      ]
    },
    {
      "cell_type": "code",
      "execution_count": null,
      "metadata": {
        "scrolled": false,
        "id": "8fvkqpcf1N6A",
        "outputId": "9455e35b-72ed-470d-a53f-c2bbc8a5f214"
      },
      "outputs": [
        {
          "data": {
            "text/plain": [
              "0.6536660613444514"
            ]
          },
          "execution_count": 61,
          "metadata": {},
          "output_type": "execute_result"
        }
      ],
      "source": [
        "data['total_area'].corr(data['last_price'])"
      ]
    },
    {
      "cell_type": "markdown",
      "metadata": {
        "id": "OlCasWuo1N6A"
      },
      "source": [
        "We calculated the Pearson correlation coefficient - 0.6. This suggests that there is a relationship between the two values, and it is high. It can be said that:\n",
        "1. the larger the area of ​​the apartment, the higher its cost\n",
        "2. obviously, the cost is influenced by many other parameters besides the area"
      ]
    },
    {
      "cell_type": "markdown",
      "metadata": {
        "id": "64FQfU441N6A"
      },
      "source": [
        "DEPENDENCE OF THE PRICE OF AN APARTMENT ON THE NUMBER OF ROOMS"
      ]
    },
    {
      "cell_type": "code",
      "execution_count": null,
      "metadata": {
        "scrolled": false,
        "id": "8lPlzR_w1N6A",
        "outputId": "582243f7-7b37-4735-efb7-7a0d29eb28fd"
      },
      "outputs": [
        {
          "data": {
            "text/plain": [
              "0.36334284996489574"
            ]
          },
          "execution_count": 62,
          "metadata": {},
          "output_type": "execute_result"
        },
        {
          "data": {
            "image/png": "[encoded data removed]",
            "text/plain": [
              "<Figure size 432x288 with 1 Axes>"
            ]
          },
          "metadata": {
            "needs_background": "light"
          },
          "output_type": "display_data"
        }
      ],
      "source": [
        "pivot_rooms = data.pivot_table(index='rooms', values='last_price', aggfunc=['mean','median','count'])\n",
        "pivot_rooms.columns = ['mean','median','count']\n",
        "#pivot_rooms.query('count>10').plot(grid=True,y='median')\n",
        "pivot_rooms.plot(grid=True,y='median')\n",
        "data['rooms'].corr(data['last_price'])\n"
      ]
    },
    {
      "cell_type": "code",
      "execution_count": null,
      "metadata": {
        "scrolled": true,
        "id": "cPqtwBRD1N6B",
        "outputId": "99ac6081-6d44-440a-c48c-122b443e20ce"
      },
      "outputs": [
        {
          "data": {
            "text/html": [
              "<div>\n",
              "<style scoped>\n",
              "    .dataframe tbody tr th:only-of-type {\n",
              "        vertical-align: middle;\n",
              "    }\n",
              "\n",
              "    .dataframe tbody tr th {\n",
              "        vertical-align: top;\n",
              "    }\n",
              "\n",
              "    .dataframe thead th {\n",
              "        text-align: right;\n",
              "    }\n",
              "</style>\n",
              "<table border=\"1\" class=\"dataframe\">\n",
              "  <thead>\n",
              "    <tr style=\"text-align: right;\">\n",
              "      <th></th>\n",
              "      <th>total_images</th>\n",
              "      <th>last_price</th>\n",
              "      <th>total_area</th>\n",
              "      <th>first_day_exposition</th>\n",
              "      <th>rooms</th>\n",
              "      <th>ceiling_height</th>\n",
              "      <th>floors_total</th>\n",
              "      <th>living_area</th>\n",
              "      <th>floor</th>\n",
              "      <th>is_apartment</th>\n",
              "      <th>...</th>\n",
              "      <th>ponds_around3000</th>\n",
              "      <th>ponds_nearest</th>\n",
              "      <th>days_exposition</th>\n",
              "      <th>price_per_meter</th>\n",
              "      <th>month</th>\n",
              "      <th>year</th>\n",
              "      <th>day</th>\n",
              "      <th>floor_category</th>\n",
              "      <th>ratio_area</th>\n",
              "      <th>ratio_area_kitchen</th>\n",
              "    </tr>\n",
              "  </thead>\n",
              "  <tbody>\n",
              "    <tr>\n",
              "      <th>19540</th>\n",
              "      <td>8</td>\n",
              "      <td>420000000.0</td>\n",
              "      <td>900.0</td>\n",
              "      <td>2017-12-06</td>\n",
              "      <td>12</td>\n",
              "      <td>2.8</td>\n",
              "      <td>25</td>\n",
              "      <td>409.7</td>\n",
              "      <td>25</td>\n",
              "      <td>False</td>\n",
              "      <td>...</td>\n",
              "      <td>2</td>\n",
              "      <td>318.0</td>\n",
              "      <td>106.0</td>\n",
              "      <td>466666</td>\n",
              "      <td>12</td>\n",
              "      <td>2017</td>\n",
              "      <td>среда</td>\n",
              "      <td>последний</td>\n",
              "      <td>0.46</td>\n",
              "      <td>0.12</td>\n",
              "    </tr>\n",
              "  </tbody>\n",
              "</table>\n",
              "<p>1 rows × 29 columns</p>\n",
              "</div>"
            ],
            "text/plain": [
              "       total_images   last_price  total_area first_day_exposition  rooms  \\\n",
              "19540             8  420000000.0       900.0           2017-12-06     12   \n",
              "\n",
              "       ceiling_height  floors_total  living_area  floor  is_apartment  ...  \\\n",
              "19540             2.8            25        409.7     25         False  ...   \n",
              "\n",
              "       ponds_around3000  ponds_nearest  days_exposition  price_per_meter  \\\n",
              "19540                 2          318.0            106.0           466666   \n",
              "\n",
              "      month  year    day  floor_category  ratio_area  ratio_area_kitchen  \n",
              "19540    12  2017  среда       последний        0.46                0.12  \n",
              "\n",
              "[1 rows x 29 columns]"
            ]
          },
          "execution_count": 63,
          "metadata": {},
          "output_type": "execute_result"
        }
      ],
      "source": [
        "data.loc[(data.rooms>11)&(data.rooms<14)]\n",
        "#мы нашли одну из самых дорогих квартир, предлагаю удалить ее для чистоты данных и рассмотреть зависимость стоимости без нее"
      ]
    },
    {
      "cell_type": "code",
      "execution_count": null,
      "metadata": {
        "id": "IRuo7NUo1N6B"
      },
      "outputs": [],
      "source": [
        "pivot_rooms = data.loc[data.last_price < 420000000.0]\n"
      ]
    },
    {
      "cell_type": "code",
      "execution_count": null,
      "metadata": {
        "scrolled": false,
        "id": "vQIB0A9k1N6B",
        "outputId": "6a658f71-960e-4bc7-ccdc-594260329c85"
      },
      "outputs": [
        {
          "data": {
            "text/plain": [
              "<AxesSubplot:xlabel='rooms'>"
            ]
          },
          "execution_count": 65,
          "metadata": {},
          "output_type": "execute_result"
        },
        {
          "data": {
            "image/png": "[encoded data removed]",
            "text/plain": [
              "<Figure size 432x288 with 1 Axes>"
            ]
          },
          "metadata": {
            "needs_background": "light"
          },
          "output_type": "display_data"
        }
      ],
      "source": [
        "\n",
        "pivot_rooms = pivot_rooms.pivot_table(index='rooms', values='last_price', aggfunc=['mean','median','count'])\n",
        "pivot_rooms.columns = ['mean','median','count']\n",
        "\n",
        "#pivot_rooms.query('count>10').plot(grid=True,y='median')\n",
        "pivot_rooms.plot(grid=True,y='median')"
      ]
    },
    {
      "cell_type": "code",
      "execution_count": null,
      "metadata": {
        "id": "9h39_Rsj1N6B",
        "outputId": "4b80f45d-01ea-43dc-a8c6-4da9a2f75259"
      },
      "outputs": [
        {
          "data": {
            "text/html": [
              "<div>\n",
              "<style scoped>\n",
              "    .dataframe tbody tr th:only-of-type {\n",
              "        vertical-align: middle;\n",
              "    }\n",
              "\n",
              "    .dataframe tbody tr th {\n",
              "        vertical-align: top;\n",
              "    }\n",
              "\n",
              "    .dataframe thead th {\n",
              "        text-align: right;\n",
              "    }\n",
              "</style>\n",
              "<table border=\"1\" class=\"dataframe\">\n",
              "  <thead>\n",
              "    <tr style=\"text-align: right;\">\n",
              "      <th></th>\n",
              "      <th>total_images</th>\n",
              "      <th>last_price</th>\n",
              "      <th>total_area</th>\n",
              "      <th>first_day_exposition</th>\n",
              "      <th>rooms</th>\n",
              "      <th>ceiling_height</th>\n",
              "      <th>floors_total</th>\n",
              "      <th>living_area</th>\n",
              "      <th>floor</th>\n",
              "      <th>is_apartment</th>\n",
              "      <th>...</th>\n",
              "      <th>ponds_around3000</th>\n",
              "      <th>ponds_nearest</th>\n",
              "      <th>days_exposition</th>\n",
              "      <th>price_per_meter</th>\n",
              "      <th>month</th>\n",
              "      <th>year</th>\n",
              "      <th>day</th>\n",
              "      <th>floor_category</th>\n",
              "      <th>ratio_area</th>\n",
              "      <th>ratio_area_kitchen</th>\n",
              "    </tr>\n",
              "  </thead>\n",
              "  <tbody>\n",
              "    <tr>\n",
              "      <th>866</th>\n",
              "      <td>5</td>\n",
              "      <td>25000000.0</td>\n",
              "      <td>363.0</td>\n",
              "      <td>2017-12-23</td>\n",
              "      <td>14</td>\n",
              "      <td>3.16</td>\n",
              "      <td>5</td>\n",
              "      <td>222.0</td>\n",
              "      <td>4</td>\n",
              "      <td>False</td>\n",
              "      <td>...</td>\n",
              "      <td>2</td>\n",
              "      <td>435.0</td>\n",
              "      <td>418.0</td>\n",
              "      <td>68870</td>\n",
              "      <td>12</td>\n",
              "      <td>2017</td>\n",
              "      <td>суббота</td>\n",
              "      <td>другой</td>\n",
              "      <td>0.61</td>\n",
              "      <td>0.05</td>\n",
              "    </tr>\n",
              "    <tr>\n",
              "      <th>5358</th>\n",
              "      <td>20</td>\n",
              "      <td>65000000.0</td>\n",
              "      <td>590.0</td>\n",
              "      <td>2019-02-14</td>\n",
              "      <td>15</td>\n",
              "      <td>3.50</td>\n",
              "      <td>6</td>\n",
              "      <td>409.0</td>\n",
              "      <td>3</td>\n",
              "      <td>False</td>\n",
              "      <td>...</td>\n",
              "      <td>0</td>\n",
              "      <td>0.0</td>\n",
              "      <td>14.0</td>\n",
              "      <td>110169</td>\n",
              "      <td>2</td>\n",
              "      <td>2019</td>\n",
              "      <td>четверг</td>\n",
              "      <td>другой</td>\n",
              "      <td>0.69</td>\n",
              "      <td>0.17</td>\n",
              "    </tr>\n",
              "    <tr>\n",
              "      <th>14498</th>\n",
              "      <td>6</td>\n",
              "      <td>32250000.0</td>\n",
              "      <td>374.6</td>\n",
              "      <td>2018-06-09</td>\n",
              "      <td>19</td>\n",
              "      <td>2.65</td>\n",
              "      <td>5</td>\n",
              "      <td>264.5</td>\n",
              "      <td>2</td>\n",
              "      <td>False</td>\n",
              "      <td>...</td>\n",
              "      <td>2</td>\n",
              "      <td>548.0</td>\n",
              "      <td>114.0</td>\n",
              "      <td>86091</td>\n",
              "      <td>6</td>\n",
              "      <td>2018</td>\n",
              "      <td>суббота</td>\n",
              "      <td>другой</td>\n",
              "      <td>0.71</td>\n",
              "      <td>0.07</td>\n",
              "    </tr>\n",
              "    <tr>\n",
              "      <th>18848</th>\n",
              "      <td>6</td>\n",
              "      <td>28500000.0</td>\n",
              "      <td>270.0</td>\n",
              "      <td>2015-03-02</td>\n",
              "      <td>16</td>\n",
              "      <td>3.00</td>\n",
              "      <td>4</td>\n",
              "      <td>180.0</td>\n",
              "      <td>4</td>\n",
              "      <td>False</td>\n",
              "      <td>...</td>\n",
              "      <td>0</td>\n",
              "      <td>0.0</td>\n",
              "      <td>1365.0</td>\n",
              "      <td>105555</td>\n",
              "      <td>3</td>\n",
              "      <td>2015</td>\n",
              "      <td>понедельник</td>\n",
              "      <td>последний</td>\n",
              "      <td>0.67</td>\n",
              "      <td>0.05</td>\n",
              "    </tr>\n",
              "    <tr>\n",
              "      <th>20829</th>\n",
              "      <td>6</td>\n",
              "      <td>28659000.0</td>\n",
              "      <td>245.4</td>\n",
              "      <td>2016-03-31</td>\n",
              "      <td>14</td>\n",
              "      <td>2.65</td>\n",
              "      <td>4</td>\n",
              "      <td>168.3</td>\n",
              "      <td>2</td>\n",
              "      <td>False</td>\n",
              "      <td>...</td>\n",
              "      <td>2</td>\n",
              "      <td>118.0</td>\n",
              "      <td>95.0</td>\n",
              "      <td>116784</td>\n",
              "      <td>3</td>\n",
              "      <td>2016</td>\n",
              "      <td>четверг</td>\n",
              "      <td>другой</td>\n",
              "      <td>0.69</td>\n",
              "      <td>0.11</td>\n",
              "    </tr>\n",
              "  </tbody>\n",
              "</table>\n",
              "<p>5 rows × 29 columns</p>\n",
              "</div>"
            ],
            "text/plain": [
              "       total_images  last_price  total_area first_day_exposition  rooms  \\\n",
              "866               5  25000000.0       363.0           2017-12-23     14   \n",
              "5358             20  65000000.0       590.0           2019-02-14     15   \n",
              "14498             6  32250000.0       374.6           2018-06-09     19   \n",
              "18848             6  28500000.0       270.0           2015-03-02     16   \n",
              "20829             6  28659000.0       245.4           2016-03-31     14   \n",
              "\n",
              "       ceiling_height  floors_total  living_area  floor  is_apartment  ...  \\\n",
              "866              3.16             5        222.0      4         False  ...   \n",
              "5358             3.50             6        409.0      3         False  ...   \n",
              "14498            2.65             5        264.5      2         False  ...   \n",
              "18848            3.00             4        180.0      4         False  ...   \n",
              "20829            2.65             4        168.3      2         False  ...   \n",
              "\n",
              "       ponds_around3000  ponds_nearest  days_exposition  price_per_meter  \\\n",
              "866                   2          435.0            418.0            68870   \n",
              "5358                  0            0.0             14.0           110169   \n",
              "14498                 2          548.0            114.0            86091   \n",
              "18848                 0            0.0           1365.0           105555   \n",
              "20829                 2          118.0             95.0           116784   \n",
              "\n",
              "      month  year          day  floor_category  ratio_area  ratio_area_kitchen  \n",
              "866      12  2017      суббота          другой        0.61                0.05  \n",
              "5358      2  2019      четверг          другой        0.69                0.17  \n",
              "14498     6  2018      суббота          другой        0.71                0.07  \n",
              "18848     3  2015  понедельник       последний        0.67                0.05  \n",
              "20829     3  2016      четверг          другой        0.69                0.11  \n",
              "\n",
              "[5 rows x 29 columns]"
            ]
          },
          "execution_count": 66,
          "metadata": {},
          "output_type": "execute_result"
        }
      ],
      "source": [
        "#посмотрим много ли квартир с комнатами больше 12\n",
        "data[data.rooms>12]"
      ]
    },
    {
      "cell_type": "markdown",
      "metadata": {
        "id": "aswEv91j1N6B"
      },
      "source": [
        "there is a relationship between the cost of an apartment and the number of rooms, and it is insignificant 0.36. The following conclusions can be drawn:\n",
        "1. The more rooms in the apartment, the higher the cost of the apartment.\n",
        "2. The most expensive segment in apartments from 12-15 rooms (but there are not many of them at all, more data on apartments with more than 12 rooms is needed to claim that they are much more expensive than others). They are indeed more expensive, but within a correlation of 0.3"
      ]
    },
    {
      "cell_type": "markdown",
      "metadata": {
        "id": "SehW7FhM1N6B"
      },
      "source": [
        "DEPENDENCE OF THE PRICE OF AN APARTMENT ON THE DISTANCE FROM THE CENTER"
      ]
    },
    {
      "cell_type": "code",
      "execution_count": null,
      "metadata": {
        "id": "whNIElqX1N6B",
        "outputId": "45a52a35-abc4-445f-b32e-58cfb556f7db"
      },
      "outputs": [
        {
          "data": {
            "text/plain": [
              "13694    181.0\n",
              "1182     208.0\n",
              "8614     215.0\n",
              "1934     287.0\n",
              "20873    291.0\n",
              "         ...  \n",
              "23683      NaN\n",
              "23692      NaN\n",
              "23695      NaN\n",
              "23696      NaN\n",
              "23698      NaN\n",
              "Name: cityCenters_nearest, Length: 23699, dtype: float64"
            ]
          },
          "execution_count": 67,
          "metadata": {},
          "output_type": "execute_result"
        }
      ],
      "source": [
        "data['cityCenters_nearest'].sort_values()"
      ]
    },
    {
      "cell_type": "code",
      "execution_count": null,
      "metadata": {
        "scrolled": true,
        "id": "HvVTehV31N6B",
        "outputId": "69bf812f-583c-42a2-d82d-216dc8b2ea8d"
      },
      "outputs": [
        {
          "data": {
            "text/plain": [
              "-0.20674734874298376"
            ]
          },
          "execution_count": 68,
          "metadata": {},
          "output_type": "execute_result"
        },
        {
          "data": {
            "image/png": "[encoded data removed]",
            "text/plain": [
              "<Figure size 432x288 with 1 Axes>"
            ]
          },
          "metadata": {
            "needs_background": "light"
          },
          "output_type": "display_data"
        }
      ],
      "source": [
        "data.plot(x='cityCenters_nearest', y='last_price', kind='scatter', alpha=0.5)\n",
        "data['last_price'].corr(data['cityCenters_nearest'])"
      ]
    },
    {
      "cell_type": "markdown",
      "metadata": {
        "id": "4BZk55Qu1N6B"
      },
      "source": [
        "ANSWER: We see an inverse correlation - 0.2. Indeed, the less km from the center, the higher the cost of the apartment. But this dependence is not strong."
      ]
    },
    {
      "cell_type": "markdown",
      "metadata": {
        "id": "EjTEfLLA1N6B"
      },
      "source": [
        "DEPENDENCE OF THE PRICE OF THE APARTMENT ON THE FLOOR NUMBER"
      ]
    },
    {
      "cell_type": "code",
      "execution_count": null,
      "metadata": {
        "id": "ijxwkqbV1N6C",
        "outputId": "76239b2d-5cb8-4dc2-927f-ce607050bc5c"
      },
      "outputs": [
        {
          "data": {
            "text/html": [
              "<div>\n",
              "<style scoped>\n",
              "    .dataframe tbody tr th:only-of-type {\n",
              "        vertical-align: middle;\n",
              "    }\n",
              "\n",
              "    .dataframe tbody tr th {\n",
              "        vertical-align: top;\n",
              "    }\n",
              "\n",
              "    .dataframe thead tr th {\n",
              "        text-align: left;\n",
              "    }\n",
              "</style>\n",
              "<table border=\"1\" class=\"dataframe\">\n",
              "  <thead>\n",
              "    <tr>\n",
              "      <th></th>\n",
              "      <th colspan=\"3\" halign=\"left\">median</th>\n",
              "      <th colspan=\"3\" halign=\"left\">mean</th>\n",
              "    </tr>\n",
              "    <tr>\n",
              "      <th>floor_category</th>\n",
              "      <th>другой</th>\n",
              "      <th>первый</th>\n",
              "      <th>последний</th>\n",
              "      <th>другой</th>\n",
              "      <th>первый</th>\n",
              "      <th>последний</th>\n",
              "    </tr>\n",
              "  </thead>\n",
              "  <tbody>\n",
              "    <tr>\n",
              "      <th>last_price</th>\n",
              "      <td>4850000.0</td>\n",
              "      <td>3900000.0</td>\n",
              "      <td>4350000.0</td>\n",
              "      <td>6.674074e+06</td>\n",
              "      <td>4.803560e+06</td>\n",
              "      <td>7.351339e+06</td>\n",
              "    </tr>\n",
              "  </tbody>\n",
              "</table>\n",
              "</div>"
            ],
            "text/plain": [
              "                   median                                mean                \\\n",
              "floor_category     другой     первый  последний        другой        первый   \n",
              "last_price      4850000.0  3900000.0  4350000.0  6.674074e+06  4.803560e+06   \n",
              "\n",
              "                              \n",
              "floor_category     последний  \n",
              "last_price      7.351339e+06  "
            ]
          },
          "execution_count": 69,
          "metadata": {},
          "output_type": "execute_result"
        },
        {
          "data": {
            "image/png": "[encoded data removed]",
            "text/plain": [
              "<Figure size 576x216 with 1 Axes>"
            ]
          },
          "metadata": {
            "needs_background": "light"
          },
          "output_type": "display_data"
        }
      ],
      "source": [
        "data.plot(x='floor', y='last_price', grid=True, kind='scatter', figsize=(8,3))\n",
        "table = data.pivot_table(columns='floor_category', values='last_price', aggfunc=['median','mean'])\n",
        "table.head(10)"
      ]
    },
    {
      "cell_type": "code",
      "execution_count": null,
      "metadata": {
        "id": "RijSteR_1N6C",
        "outputId": "e978f27b-d02d-4287-9024-fdca2337cfad"
      },
      "outputs": [
        {
          "data": {
            "text/plain": [
              "0.026575643284470808"
            ]
          },
          "execution_count": 70,
          "metadata": {},
          "output_type": "execute_result"
        }
      ],
      "source": [
        "data['last_price'].corr(data['floor'])"
      ]
    },
    {
      "cell_type": "markdown",
      "metadata": {
        "id": "73UrSlt71N6C"
      },
      "source": [
        "According to the histogram, we see that the lower the floor, the higher the cost of the apartment and the higher the floor, the lower the cost of the apartment. It can also be said that the higher the floor of the apartment, the more predictable the cost per square meter and the \"emissions\" are greater in the category of apartments on the lower floors.\n",
        "According to the pivot table and Pearson's coefficient, we see that the dependence is insignificant."
      ]
    },
    {
      "cell_type": "markdown",
      "metadata": {
        "id": "sLhLcLkI1N6C"
      },
      "source": [
        "DEPENDENCE OF THE PRICE OF THE APARTMENT ON THE DATE OF PLACEMENT"
      ]
    },
    {
      "cell_type": "code",
      "execution_count": null,
      "metadata": {
        "scrolled": true,
        "id": "JBeeUcET1N6C",
        "outputId": "0f18cbbc-3756-40cf-9280-6bc8c790d15d"
      },
      "outputs": [
        {
          "data": {
            "text/plain": [
              "day\n",
              "воскресенье    1699\n",
              "суббота        1936\n",
              "понедельник    3612\n",
              "среда          3974\n",
              "пятница        4000\n",
              "вторник        4183\n",
              "четверг        4295\n",
              "Name: last_price, dtype: int64"
            ]
          },
          "execution_count": 108,
          "metadata": {},
          "output_type": "execute_result"
        },
        {
          "data": {
            "image/png": "[encoded data removed]",
            "text/plain": [
              "<Figure size 432x288 with 1 Axes>"
            ]
          },
          "metadata": {
            "needs_background": "light"
          },
          "output_type": "display_data"
        }
      ],
      "source": [
        "table = data.groupby('day')['last_price'].count()\n",
        "table.plot(y='median')\n",
        "table.sort_values()"
      ]
    },
    {
      "cell_type": "markdown",
      "metadata": {
        "id": "3xIJFg3x1N6C"
      },
      "source": [
        "according to the chart and the table, the lowest apartment price is on weekends, and the highest price is on Thursday. In general, we can say that on weekdays the cost is higher, perhaps this is due to the fact that sales are made on weekdays, and less often on weekends (realtor, lawyer do not work)"
      ]
    },
    {
      "cell_type": "code",
      "execution_count": null,
      "metadata": {
        "scrolled": true,
        "id": "QHL6Um3Q1N6C",
        "outputId": "1d5f94a6-12eb-40c1-df63-ffa90fb82168"
      },
      "outputs": [
        {
          "data": {
            "text/html": [
              "<div>\n",
              "<style scoped>\n",
              "    .dataframe tbody tr th:only-of-type {\n",
              "        vertical-align: middle;\n",
              "    }\n",
              "\n",
              "    .dataframe tbody tr th {\n",
              "        vertical-align: top;\n",
              "    }\n",
              "\n",
              "    .dataframe thead th {\n",
              "        text-align: right;\n",
              "    }\n",
              "</style>\n",
              "<table border=\"1\" class=\"dataframe\">\n",
              "  <thead>\n",
              "    <tr style=\"text-align: right;\">\n",
              "      <th></th>\n",
              "      <th>last_price</th>\n",
              "    </tr>\n",
              "    <tr>\n",
              "      <th>month</th>\n",
              "      <th></th>\n",
              "    </tr>\n",
              "  </thead>\n",
              "  <tbody>\n",
              "    <tr>\n",
              "      <th>5</th>\n",
              "      <td>1274</td>\n",
              "    </tr>\n",
              "    <tr>\n",
              "      <th>1</th>\n",
              "      <td>1500</td>\n",
              "    </tr>\n",
              "    <tr>\n",
              "      <th>12</th>\n",
              "      <td>1641</td>\n",
              "    </tr>\n",
              "    <tr>\n",
              "      <th>7</th>\n",
              "      <td>1695</td>\n",
              "    </tr>\n",
              "    <tr>\n",
              "      <th>8</th>\n",
              "      <td>1744</td>\n",
              "    </tr>\n",
              "    <tr>\n",
              "      <th>6</th>\n",
              "      <td>1760</td>\n",
              "    </tr>\n",
              "    <tr>\n",
              "      <th>9</th>\n",
              "      <td>1981</td>\n",
              "    </tr>\n",
              "    <tr>\n",
              "      <th>10</th>\n",
              "      <td>2127</td>\n",
              "    </tr>\n",
              "    <tr>\n",
              "      <th>11</th>\n",
              "      <td>2371</td>\n",
              "    </tr>\n",
              "    <tr>\n",
              "      <th>4</th>\n",
              "      <td>2379</td>\n",
              "    </tr>\n",
              "    <tr>\n",
              "      <th>3</th>\n",
              "      <td>2587</td>\n",
              "    </tr>\n",
              "    <tr>\n",
              "      <th>2</th>\n",
              "      <td>2640</td>\n",
              "    </tr>\n",
              "  </tbody>\n",
              "</table>\n",
              "</div>"
            ],
            "text/plain": [
              "       last_price\n",
              "month            \n",
              "5            1274\n",
              "1            1500\n",
              "12           1641\n",
              "7            1695\n",
              "8            1744\n",
              "6            1760\n",
              "9            1981\n",
              "10           2127\n",
              "11           2371\n",
              "4            2379\n",
              "3            2587\n",
              "2            2640"
            ]
          },
          "execution_count": 72,
          "metadata": {},
          "output_type": "execute_result"
        },
        {
          "data": {
            "image/png": "[encoded data removed]",
            "text/plain": [
              "<Figure size 432x288 with 1 Axes>"
            ]
          },
          "metadata": {
            "needs_background": "light"
          },
          "output_type": "display_data"
        }
      ],
      "source": [
        "table = data.groupby('month')['last_price'].count()\n",
        "table.plot(y='median')\n",
        "table.sort_values().to_frame()"
      ]
    },
    {
      "cell_type": "markdown",
      "metadata": {
        "id": "6OjQtMc01N6C"
      },
      "source": [
        "The highest cost in the period February-March-April, and the lowest cost in December-January and May. I attribute this to the fact that in December it is better to complete open transactions with real estate and you can receive promotional and discounted New Year's offers, in January the cost is lower, for the same reason as on weekends. Few people work. and in May, respectively - a lot of holidays"
      ]
    },
    {
      "cell_type": "code",
      "execution_count": null,
      "metadata": {
        "id": "kBoL7kMn1N6C",
        "outputId": "c5f448b5-5ad2-48dd-cf55-4f31229c2e7f"
      },
      "outputs": [
        {
          "data": {
            "text/html": [
              "<div>\n",
              "<style scoped>\n",
              "    .dataframe tbody tr th:only-of-type {\n",
              "        vertical-align: middle;\n",
              "    }\n",
              "\n",
              "    .dataframe tbody tr th {\n",
              "        vertical-align: top;\n",
              "    }\n",
              "\n",
              "    .dataframe thead th {\n",
              "        text-align: right;\n",
              "    }\n",
              "</style>\n",
              "<table border=\"1\" class=\"dataframe\">\n",
              "  <thead>\n",
              "    <tr style=\"text-align: right;\">\n",
              "      <th></th>\n",
              "      <th>last_price</th>\n",
              "      <th>total_area</th>\n",
              "      <th>rooms</th>\n",
              "      <th>cityCenters_nearest</th>\n",
              "    </tr>\n",
              "  </thead>\n",
              "  <tbody>\n",
              "    <tr>\n",
              "      <th>last_price</th>\n",
              "      <td>1.000000</td>\n",
              "      <td>0.653666</td>\n",
              "      <td>0.363343</td>\n",
              "      <td>-0.206747</td>\n",
              "    </tr>\n",
              "    <tr>\n",
              "      <th>total_area</th>\n",
              "      <td>0.653666</td>\n",
              "      <td>1.000000</td>\n",
              "      <td>0.758226</td>\n",
              "      <td>-0.231463</td>\n",
              "    </tr>\n",
              "    <tr>\n",
              "      <th>rooms</th>\n",
              "      <td>0.363343</td>\n",
              "      <td>0.758226</td>\n",
              "      <td>1.000000</td>\n",
              "      <td>-0.184864</td>\n",
              "    </tr>\n",
              "    <tr>\n",
              "      <th>cityCenters_nearest</th>\n",
              "      <td>-0.206747</td>\n",
              "      <td>-0.231463</td>\n",
              "      <td>-0.184864</td>\n",
              "      <td>1.000000</td>\n",
              "    </tr>\n",
              "  </tbody>\n",
              "</table>\n",
              "</div>"
            ],
            "text/plain": [
              "                     last_price  total_area     rooms  cityCenters_nearest\n",
              "last_price             1.000000    0.653666  0.363343            -0.206747\n",
              "total_area             0.653666    1.000000  0.758226            -0.231463\n",
              "rooms                  0.363343    0.758226  1.000000            -0.184864\n",
              "cityCenters_nearest   -0.206747   -0.231463 -0.184864             1.000000"
            ]
          },
          "execution_count": 73,
          "metadata": {},
          "output_type": "execute_result"
        }
      ],
      "source": [
        "#построить корреляцию матрицей для нужных параметров\n",
        "data[['last_price', 'total_area', 'rooms', 'cityCenters_nearest']].corr()"
      ]
    },
    {
      "cell_type": "markdown",
      "metadata": {
        "id": "G3XZY9dn1N6D"
      },
      "source": [
        "Select the 10 locations with the most ads. Calculate the average price per square meter in these settlements. Select among them the settlements with the highest and lowest cost of housing. This data can be found by name in the column locality_name"
      ]
    },
    {
      "cell_type": "code",
      "execution_count": null,
      "metadata": {
        "id": "A4mA0_7Z1N6D"
      },
      "outputs": [],
      "source": [
        "local_pivot = data.pivot_table(index='locality_name', values='price_per_meter', aggfunc=['count','median','mean'])\n"
      ]
    },
    {
      "cell_type": "code",
      "execution_count": null,
      "metadata": {
        "scrolled": true,
        "id": "0NDfhPQw1N6D",
        "outputId": "c66228b3-d3a4-4996-b558-4ff8a21e8c16"
      },
      "outputs": [
        {
          "data": {
            "text/html": [
              "<div>\n",
              "<style scoped>\n",
              "    .dataframe tbody tr th:only-of-type {\n",
              "        vertical-align: middle;\n",
              "    }\n",
              "\n",
              "    .dataframe tbody tr th {\n",
              "        vertical-align: top;\n",
              "    }\n",
              "\n",
              "    .dataframe thead th {\n",
              "        text-align: right;\n",
              "    }\n",
              "</style>\n",
              "<table border=\"1\" class=\"dataframe\">\n",
              "  <thead>\n",
              "    <tr style=\"text-align: right;\">\n",
              "      <th></th>\n",
              "      <th>count</th>\n",
              "      <th>median</th>\n",
              "      <th>mean</th>\n",
              "    </tr>\n",
              "    <tr>\n",
              "      <th>locality_name</th>\n",
              "      <th></th>\n",
              "      <th></th>\n",
              "      <th></th>\n",
              "    </tr>\n",
              "  </thead>\n",
              "  <tbody>\n",
              "    <tr>\n",
              "      <th>Санкт-Петербург</th>\n",
              "      <td>15721</td>\n",
              "      <td>104729.0</td>\n",
              "      <td>114811.859933</td>\n",
              "    </tr>\n",
              "    <tr>\n",
              "      <th>поселок Мурино</th>\n",
              "      <td>556</td>\n",
              "      <td>85697.0</td>\n",
              "      <td>85575.762590</td>\n",
              "    </tr>\n",
              "    <tr>\n",
              "      <th>поселок Шушары</th>\n",
              "      <td>440</td>\n",
              "      <td>76747.5</td>\n",
              "      <td>78659.181818</td>\n",
              "    </tr>\n",
              "    <tr>\n",
              "      <th>Всеволожск</th>\n",
              "      <td>398</td>\n",
              "      <td>65789.0</td>\n",
              "      <td>68580.520101</td>\n",
              "    </tr>\n",
              "    <tr>\n",
              "      <th>Пушкин</th>\n",
              "      <td>369</td>\n",
              "      <td>100000.0</td>\n",
              "      <td>103125.373984</td>\n",
              "    </tr>\n",
              "    <tr>\n",
              "      <th>Колпино</th>\n",
              "      <td>338</td>\n",
              "      <td>74723.5</td>\n",
              "      <td>75404.733728</td>\n",
              "    </tr>\n",
              "    <tr>\n",
              "      <th>поселок Парголово</th>\n",
              "      <td>327</td>\n",
              "      <td>91516.0</td>\n",
              "      <td>90111.923547</td>\n",
              "    </tr>\n",
              "    <tr>\n",
              "      <th>Гатчина</th>\n",
              "      <td>307</td>\n",
              "      <td>67695.0</td>\n",
              "      <td>68666.609121</td>\n",
              "    </tr>\n",
              "    <tr>\n",
              "      <th>деревня Кудрово</th>\n",
              "      <td>299</td>\n",
              "      <td>91860.0</td>\n",
              "      <td>92473.086957</td>\n",
              "    </tr>\n",
              "    <tr>\n",
              "      <th>Выборг</th>\n",
              "      <td>237</td>\n",
              "      <td>58158.0</td>\n",
              "      <td>58141.489451</td>\n",
              "    </tr>\n",
              "  </tbody>\n",
              "</table>\n",
              "</div>"
            ],
            "text/plain": [
              "                   count    median           mean\n",
              "locality_name                                    \n",
              "Санкт-Петербург    15721  104729.0  114811.859933\n",
              "поселок Мурино       556   85697.0   85575.762590\n",
              "поселок Шушары       440   76747.5   78659.181818\n",
              "Всеволожск           398   65789.0   68580.520101\n",
              "Пушкин               369  100000.0  103125.373984\n",
              "Колпино              338   74723.5   75404.733728\n",
              "поселок Парголово    327   91516.0   90111.923547\n",
              "Гатчина              307   67695.0   68666.609121\n",
              "деревня Кудрово      299   91860.0   92473.086957\n",
              "Выборг               237   58158.0   58141.489451"
            ]
          },
          "execution_count": 76,
          "metadata": {},
          "output_type": "execute_result"
        }
      ],
      "source": [
        "local_pivot = data.pivot_table(index='locality_name', values='price_per_meter', aggfunc=['count','median','mean'])\n",
        "local_pivot.columns = ['count', 'median', 'mean']\n",
        "table = local_pivot.sort_values('count', ascending=False).head(10)\n",
        "table"
      ]
    },
    {
      "cell_type": "code",
      "execution_count": null,
      "metadata": {
        "scrolled": false,
        "id": "F_CgPwFs1N6D",
        "outputId": "4720a8df-c1b1-4c00-d4f2-0132b217ce08"
      },
      "outputs": [
        {
          "data": {
            "text/plain": [
              "array([[<AxesSubplot:title={'center':'count'}>,\n",
              "        <AxesSubplot:title={'center':'median'}>],\n",
              "       [<AxesSubplot:title={'center':'mean'}>, <AxesSubplot:>]],\n",
              "      dtype=object)"
            ]
          },
          "execution_count": 77,
          "metadata": {},
          "output_type": "execute_result"
        },
        {
          "data": {
            "image/png": "[encoded data removed]",
            "text/plain": [
              "<Figure size 432x288 with 4 Axes>"
            ]
          },
          "metadata": {
            "needs_background": "light"
          },
          "output_type": "display_data"
        }
      ],
      "source": [
        "local_pivot.hist(bins=30)\n"
      ]
    },
    {
      "cell_type": "markdown",
      "metadata": {
        "id": "gwBB9BkO1N6D"
      },
      "source": [
        "CONCLUSION - The highest cost of housing in such cities: St. Petersburg, the village of Murino, the village of Shushary, Vsevolozhsk, Pushkin, Kolpino, the village of Pargolovo, Gatchina, the village of Kudrovo, Vyborg"
      ]
    },
    {
      "cell_type": "code",
      "execution_count": null,
      "metadata": {
        "id": "iK3Cjq7p1N6D",
        "outputId": "3aced5af-b3bf-4e75-e531-09f147726329"
      },
      "outputs": [
        {
          "data": {
            "text/html": [
              "<div>\n",
              "<style scoped>\n",
              "    .dataframe tbody tr th:only-of-type {\n",
              "        vertical-align: middle;\n",
              "    }\n",
              "\n",
              "    .dataframe tbody tr th {\n",
              "        vertical-align: top;\n",
              "    }\n",
              "\n",
              "    .dataframe thead th {\n",
              "        text-align: right;\n",
              "    }\n",
              "</style>\n",
              "<table border=\"1\" class=\"dataframe\">\n",
              "  <thead>\n",
              "    <tr style=\"text-align: right;\">\n",
              "      <th></th>\n",
              "      <th>count</th>\n",
              "      <th>median</th>\n",
              "      <th>mean</th>\n",
              "    </tr>\n",
              "    <tr>\n",
              "      <th>locality_name</th>\n",
              "      <th></th>\n",
              "      <th></th>\n",
              "      <th></th>\n",
              "    </tr>\n",
              "  </thead>\n",
              "  <tbody>\n",
              "    <tr>\n",
              "      <th>Санкт-Петербург</th>\n",
              "      <td>15721</td>\n",
              "      <td>104729.0</td>\n",
              "      <td>114811.859933</td>\n",
              "    </tr>\n",
              "  </tbody>\n",
              "</table>\n",
              "</div>"
            ],
            "text/plain": [
              "                 count    median           mean\n",
              "locality_name                                  \n",
              "Санкт-Петербург  15721  104729.0  114811.859933"
            ]
          },
          "metadata": {},
          "output_type": "display_data"
        },
        {
          "data": {
            "text/html": [
              "<div>\n",
              "<style scoped>\n",
              "    .dataframe tbody tr th:only-of-type {\n",
              "        vertical-align: middle;\n",
              "    }\n",
              "\n",
              "    .dataframe tbody tr th {\n",
              "        vertical-align: top;\n",
              "    }\n",
              "\n",
              "    .dataframe thead th {\n",
              "        text-align: right;\n",
              "    }\n",
              "</style>\n",
              "<table border=\"1\" class=\"dataframe\">\n",
              "  <thead>\n",
              "    <tr style=\"text-align: right;\">\n",
              "      <th></th>\n",
              "      <th>count</th>\n",
              "      <th>median</th>\n",
              "      <th>mean</th>\n",
              "    </tr>\n",
              "    <tr>\n",
              "      <th>locality_name</th>\n",
              "      <th></th>\n",
              "      <th></th>\n",
              "      <th></th>\n",
              "    </tr>\n",
              "  </thead>\n",
              "  <tbody>\n",
              "    <tr>\n",
              "      <th>Выборг</th>\n",
              "      <td>237</td>\n",
              "      <td>58158.0</td>\n",
              "      <td>58141.489451</td>\n",
              "    </tr>\n",
              "  </tbody>\n",
              "</table>\n",
              "</div>"
            ],
            "text/plain": [
              "               count   median          mean\n",
              "locality_name                              \n",
              "Выборг           237  58158.0  58141.489451"
            ]
          },
          "execution_count": 78,
          "metadata": {},
          "output_type": "execute_result"
        }
      ],
      "source": [
        "display(table[table['mean']==table['mean'].max()])\n",
        "table[table['mean']==table['mean'].min()]"
      ]
    },
    {
      "cell_type": "code",
      "execution_count": null,
      "metadata": {
        "id": "MD5IHx051N6E",
        "outputId": "e8233eed-2807-4317-97a6-9a63e1b15b7b"
      },
      "outputs": [
        {
          "data": {
            "text/plain": [
              "locality_name\n",
              "Санкт-Петербург            15660\n",
              "поселок Шушары               436\n",
              "Пушкин                       368\n",
              "Колпино                      337\n",
              "поселок Парголово            327\n",
              "                           ...  \n",
              "деревня Новое Девяткино        0\n",
              "деревня Низино                 0\n",
              "деревня Нижняя                 0\n",
              "деревня Нижние Осельки         0\n",
              "село Шум                       0\n",
              "Name: cityCenters_nearest, Length: 330, dtype: int64"
            ]
          },
          "execution_count": 80,
          "metadata": {},
          "output_type": "execute_result"
        }
      ],
      "source": [
        "table = data.groupby('locality_name')['cityCenters_nearest'].count()\n",
        "table.sort_values(ascending=False)"
      ]
    },
    {
      "cell_type": "code",
      "execution_count": null,
      "metadata": {
        "id": "s7MWhdZv1N6E",
        "outputId": "d6039c3d-e3ad-43b1-febb-0740791ca094"
      },
      "outputs": [
        {
          "data": {
            "text/plain": [
              "0        16028.0\n",
              "2        13933.0\n",
              "3         6800.0\n",
              "4         8098.0\n",
              "7        11634.0\n",
              "          ...   \n",
              "23689    16081.0\n",
              "23690     6263.0\n",
              "23691     4489.0\n",
              "23694     4232.0\n",
              "23697    10364.0\n",
              "Name: cityCenters_nearest, Length: 15721, dtype: float64"
            ]
          },
          "execution_count": 81,
          "metadata": {},
          "output_type": "execute_result"
        }
      ],
      "source": [
        "table = data.query('locality_name==\"Санкт-Петербург\"')\n",
        "table['cityCenters_nearest']"
      ]
    },
    {
      "cell_type": "code",
      "execution_count": null,
      "metadata": {
        "id": "8ylDmZoi1N6E",
        "outputId": "c00edf89-2d1b-4a16-a9cd-6ce56708334d"
      },
      "outputs": [
        {
          "data": {
            "text/html": [
              "<div>\n",
              "<style scoped>\n",
              "    .dataframe tbody tr th:only-of-type {\n",
              "        vertical-align: middle;\n",
              "    }\n",
              "\n",
              "    .dataframe tbody tr th {\n",
              "        vertical-align: top;\n",
              "    }\n",
              "\n",
              "    .dataframe thead th {\n",
              "        text-align: right;\n",
              "    }\n",
              "</style>\n",
              "<table border=\"1\" class=\"dataframe\">\n",
              "  <thead>\n",
              "    <tr style=\"text-align: right;\">\n",
              "      <th></th>\n",
              "      <th>price_per_meter</th>\n",
              "    </tr>\n",
              "    <tr>\n",
              "      <th>cityCenters_nearest_km</th>\n",
              "      <th></th>\n",
              "    </tr>\n",
              "  </thead>\n",
              "  <tbody>\n",
              "    <tr>\n",
              "      <th>0</th>\n",
              "      <td>187323.674419</td>\n",
              "    </tr>\n",
              "    <tr>\n",
              "      <th>1</th>\n",
              "      <td>166539.208333</td>\n",
              "    </tr>\n",
              "    <tr>\n",
              "      <th>2</th>\n",
              "      <td>146662.420195</td>\n",
              "    </tr>\n",
              "    <tr>\n",
              "      <th>3</th>\n",
              "      <td>129361.414449</td>\n",
              "    </tr>\n",
              "    <tr>\n",
              "      <th>4</th>\n",
              "      <td>137475.039691</td>\n",
              "    </tr>\n",
              "    <tr>\n",
              "      <th>5</th>\n",
              "      <td>146947.977893</td>\n",
              "    </tr>\n",
              "    <tr>\n",
              "      <th>6</th>\n",
              "      <td>152277.455319</td>\n",
              "    </tr>\n",
              "    <tr>\n",
              "      <th>7</th>\n",
              "      <td>141376.373464</td>\n",
              "    </tr>\n",
              "    <tr>\n",
              "      <th>8</th>\n",
              "      <td>120533.256716</td>\n",
              "    </tr>\n",
              "    <tr>\n",
              "      <th>9</th>\n",
              "      <td>109963.300000</td>\n",
              "    </tr>\n",
              "    <tr>\n",
              "      <th>10</th>\n",
              "      <td>111616.109649</td>\n",
              "    </tr>\n",
              "    <tr>\n",
              "      <th>11</th>\n",
              "      <td>106783.739929</td>\n",
              "    </tr>\n",
              "    <tr>\n",
              "      <th>12</th>\n",
              "      <td>108223.850825</td>\n",
              "    </tr>\n",
              "    <tr>\n",
              "      <th>13</th>\n",
              "      <td>107183.285307</td>\n",
              "    </tr>\n",
              "    <tr>\n",
              "      <th>14</th>\n",
              "      <td>104942.996032</td>\n",
              "    </tr>\n",
              "  </tbody>\n",
              "</table>\n",
              "</div>"
            ],
            "text/plain": [
              "                        price_per_meter\n",
              "cityCenters_nearest_km                 \n",
              "0                         187323.674419\n",
              "1                         166539.208333\n",
              "2                         146662.420195\n",
              "3                         129361.414449\n",
              "4                         137475.039691\n",
              "5                         146947.977893\n",
              "6                         152277.455319\n",
              "7                         141376.373464\n",
              "8                         120533.256716\n",
              "9                         109963.300000\n",
              "10                        111616.109649\n",
              "11                        106783.739929\n",
              "12                        108223.850825\n",
              "13                        107183.285307\n",
              "14                        104942.996032"
            ]
          },
          "execution_count": 82,
          "metadata": {},
          "output_type": "execute_result"
        },
        {
          "data": {
            "image/png": "[encoded data removed]",
            "text/plain": [
              "<Figure size 432x288 with 1 Axes>"
            ]
          },
          "metadata": {
            "needs_background": "light"
          },
          "output_type": "display_data"
        }
      ],
      "source": [
        "data['cityCenters_nearest_km'] = data['cityCenters_nearest']/1000\n",
        "data['cityCenters_nearest_km'] = data['cityCenters_nearest_km'].fillna(999999)\n",
        "data['cityCenters_nearest_km'] = data['cityCenters_nearest_km'].astype(int)\n",
        "table = data.query('cityCenters_nearest_km != 999999 and locality_name == \"Санкт-Петербург\"')\n",
        "table = table.pivot_table(index='cityCenters_nearest_km', values='price_per_meter')\n",
        "table.plot()\n",
        "table.head(15)"
      ]
    },
    {
      "cell_type": "code",
      "execution_count": null,
      "metadata": {
        "id": "PFbBbtzK1N6E",
        "outputId": "12707649-4efa-47d2-ef40-524648e07658"
      },
      "outputs": [
        {
          "data": {
            "text/plain": [
              "Index(['total_images', 'last_price', 'total_area', 'first_day_exposition',\n",
              "       'rooms', 'ceiling_height', 'floors_total', 'living_area', 'floor',\n",
              "       'is_apartment', 'studio', 'open_plan', 'kitchen_area', 'balcony',\n",
              "       'locality_name', 'airports_nearest', 'cityCenters_nearest',\n",
              "       'parks_around3000', 'parks_nearest', 'ponds_around3000',\n",
              "       'ponds_nearest', 'days_exposition', 'price_per_meter', 'month', 'year',\n",
              "       'day', 'floor_category', 'ratio_area', 'ratio_area_kitchen',\n",
              "       'cityCenters_nearest_km'],\n",
              "      dtype='object')"
            ]
          },
          "execution_count": 83,
          "metadata": {},
          "output_type": "execute_result"
        }
      ],
      "source": [
        "data.columns"
      ]
    },
    {
      "cell_type": "code",
      "execution_count": null,
      "metadata": {
        "id": "WjuPj7k01N6E",
        "outputId": "fd97343d-776e-4ec2-a821-1f1de9e48ace"
      },
      "outputs": [
        {
          "data": {
            "text/html": [
              "<div>\n",
              "<style scoped>\n",
              "    .dataframe tbody tr th:only-of-type {\n",
              "        vertical-align: middle;\n",
              "    }\n",
              "\n",
              "    .dataframe tbody tr th {\n",
              "        vertical-align: top;\n",
              "    }\n",
              "\n",
              "    .dataframe thead th {\n",
              "        text-align: right;\n",
              "    }\n",
              "</style>\n",
              "<table border=\"1\" class=\"dataframe\">\n",
              "  <thead>\n",
              "    <tr style=\"text-align: right;\">\n",
              "      <th></th>\n",
              "      <th></th>\n",
              "      <th>cityCenters_nearest</th>\n",
              "      <th>floor</th>\n",
              "      <th>month</th>\n",
              "      <th>rooms</th>\n",
              "    </tr>\n",
              "    <tr>\n",
              "      <th>price_per_meter</th>\n",
              "      <th></th>\n",
              "      <th></th>\n",
              "      <th></th>\n",
              "      <th></th>\n",
              "      <th></th>\n",
              "    </tr>\n",
              "  </thead>\n",
              "  <tbody>\n",
              "    <tr>\n",
              "      <th>87990</th>\n",
              "      <th>cityCenters_nearest</th>\n",
              "      <td>1.000000</td>\n",
              "      <td>NaN</td>\n",
              "      <td>NaN</td>\n",
              "      <td>NaN</td>\n",
              "    </tr>\n",
              "    <tr>\n",
              "      <th rowspan=\"4\" valign=\"top\">93750</th>\n",
              "      <th>rooms</th>\n",
              "      <td>1.000000</td>\n",
              "      <td>1.000000</td>\n",
              "      <td>-1.000000</td>\n",
              "      <td>1.000000</td>\n",
              "    </tr>\n",
              "    <tr>\n",
              "      <th>cityCenters_nearest</th>\n",
              "      <td>1.000000</td>\n",
              "      <td>1.000000</td>\n",
              "      <td>-1.000000</td>\n",
              "      <td>1.000000</td>\n",
              "    </tr>\n",
              "    <tr>\n",
              "      <th>floor</th>\n",
              "      <td>1.000000</td>\n",
              "      <td>1.000000</td>\n",
              "      <td>-1.000000</td>\n",
              "      <td>1.000000</td>\n",
              "    </tr>\n",
              "    <tr>\n",
              "      <th>month</th>\n",
              "      <td>-1.000000</td>\n",
              "      <td>-1.000000</td>\n",
              "      <td>1.000000</td>\n",
              "      <td>-1.000000</td>\n",
              "    </tr>\n",
              "    <tr>\n",
              "      <th rowspan=\"4\" valign=\"top\">95000</th>\n",
              "      <th>rooms</th>\n",
              "      <td>0.732990</td>\n",
              "      <td>1.000000</td>\n",
              "      <td>-0.827379</td>\n",
              "      <td>1.000000</td>\n",
              "    </tr>\n",
              "    <tr>\n",
              "      <th>cityCenters_nearest</th>\n",
              "      <td>1.000000</td>\n",
              "      <td>0.732990</td>\n",
              "      <td>-0.420394</td>\n",
              "      <td>0.732990</td>\n",
              "    </tr>\n",
              "    <tr>\n",
              "      <th>floor</th>\n",
              "      <td>0.732990</td>\n",
              "      <td>1.000000</td>\n",
              "      <td>-0.827379</td>\n",
              "      <td>1.000000</td>\n",
              "    </tr>\n",
              "    <tr>\n",
              "      <th>month</th>\n",
              "      <td>-0.420394</td>\n",
              "      <td>-0.827379</td>\n",
              "      <td>1.000000</td>\n",
              "      <td>-0.827379</td>\n",
              "    </tr>\n",
              "    <tr>\n",
              "      <th rowspan=\"4\" valign=\"top\">100000</th>\n",
              "      <th>rooms</th>\n",
              "      <td>0.897556</td>\n",
              "      <td>0.816497</td>\n",
              "      <td>-0.592610</td>\n",
              "      <td>1.000000</td>\n",
              "    </tr>\n",
              "    <tr>\n",
              "      <th>cityCenters_nearest</th>\n",
              "      <td>1.000000</td>\n",
              "      <td>0.751317</td>\n",
              "      <td>-0.848511</td>\n",
              "      <td>0.897556</td>\n",
              "    </tr>\n",
              "    <tr>\n",
              "      <th>floor</th>\n",
              "      <td>0.751317</td>\n",
              "      <td>1.000000</td>\n",
              "      <td>-0.303822</td>\n",
              "      <td>0.816497</td>\n",
              "    </tr>\n",
              "    <tr>\n",
              "      <th>month</th>\n",
              "      <td>-0.848511</td>\n",
              "      <td>-0.303822</td>\n",
              "      <td>1.000000</td>\n",
              "      <td>-0.592610</td>\n",
              "    </tr>\n",
              "    <tr>\n",
              "      <th rowspan=\"2\" valign=\"top\">102500</th>\n",
              "      <th>rooms</th>\n",
              "      <td>-1.000000</td>\n",
              "      <td>1.000000</td>\n",
              "      <td>1.000000</td>\n",
              "      <td>1.000000</td>\n",
              "    </tr>\n",
              "    <tr>\n",
              "      <th>cityCenters_nearest</th>\n",
              "      <td>1.000000</td>\n",
              "      <td>-1.000000</td>\n",
              "      <td>-1.000000</td>\n",
              "      <td>-1.000000</td>\n",
              "    </tr>\n",
              "  </tbody>\n",
              "</table>\n",
              "</div>"
            ],
            "text/plain": [
              "                                     cityCenters_nearest     floor     month  \\\n",
              "price_per_meter                                                                \n",
              "87990           cityCenters_nearest             1.000000       NaN       NaN   \n",
              "93750           rooms                           1.000000  1.000000 -1.000000   \n",
              "                cityCenters_nearest             1.000000  1.000000 -1.000000   \n",
              "                floor                           1.000000  1.000000 -1.000000   \n",
              "                month                          -1.000000 -1.000000  1.000000   \n",
              "95000           rooms                           0.732990  1.000000 -0.827379   \n",
              "                cityCenters_nearest             1.000000  0.732990 -0.420394   \n",
              "                floor                           0.732990  1.000000 -0.827379   \n",
              "                month                          -0.420394 -0.827379  1.000000   \n",
              "100000          rooms                           0.897556  0.816497 -0.592610   \n",
              "                cityCenters_nearest             1.000000  0.751317 -0.848511   \n",
              "                floor                           0.751317  1.000000 -0.303822   \n",
              "                month                          -0.848511 -0.303822  1.000000   \n",
              "102500          rooms                          -1.000000  1.000000  1.000000   \n",
              "                cityCenters_nearest             1.000000 -1.000000 -1.000000   \n",
              "\n",
              "                                        rooms  \n",
              "price_per_meter                                \n",
              "87990           cityCenters_nearest       NaN  \n",
              "93750           rooms                1.000000  \n",
              "                cityCenters_nearest  1.000000  \n",
              "                floor                1.000000  \n",
              "                month               -1.000000  \n",
              "95000           rooms                1.000000  \n",
              "                cityCenters_nearest  0.732990  \n",
              "                floor                1.000000  \n",
              "                month               -0.827379  \n",
              "100000          rooms                1.000000  \n",
              "                cityCenters_nearest  0.897556  \n",
              "                floor                0.816497  \n",
              "                month               -0.592610  \n",
              "102500          rooms                1.000000  \n",
              "                cityCenters_nearest -1.000000  "
            ]
          },
          "execution_count": 85,
          "metadata": {},
          "output_type": "execute_result"
        }
      ],
      "source": [
        "second_spb_data = spb_data.pivot_table(index='price_per_meter', values=['rooms','cityCenters_nearest','floor','month'], aggfunc=('corr'))\n",
        "#pd.plotting.scatter_matrix(second_spb_data, figsize=(9,9))\n",
        "second_spb_data.head(15)\n"
      ]
    },
    {
      "cell_type": "code",
      "execution_count": null,
      "metadata": {
        "id": "dHAJa91t1N6F",
        "outputId": "516218ed-f507-469a-d6f1-41d6b002ae3c"
      },
      "outputs": [
        {
          "data": {
            "text/html": [
              "<div>\n",
              "<style scoped>\n",
              "    .dataframe tbody tr th:only-of-type {\n",
              "        vertical-align: middle;\n",
              "    }\n",
              "\n",
              "    .dataframe tbody tr th {\n",
              "        vertical-align: top;\n",
              "    }\n",
              "\n",
              "    .dataframe thead th {\n",
              "        text-align: right;\n",
              "    }\n",
              "</style>\n",
              "<table border=\"1\" class=\"dataframe\">\n",
              "  <thead>\n",
              "    <tr style=\"text-align: right;\">\n",
              "      <th></th>\n",
              "      <th>total_area</th>\n",
              "      <th>last_price</th>\n",
              "      <th>rooms</th>\n",
              "      <th>ceiling_height</th>\n",
              "      <th>cityCenters_nearest</th>\n",
              "    </tr>\n",
              "  </thead>\n",
              "  <tbody>\n",
              "    <tr>\n",
              "      <th>0</th>\n",
              "      <td>108.00</td>\n",
              "      <td>13000000.0</td>\n",
              "      <td>3</td>\n",
              "      <td>2.70</td>\n",
              "      <td>16028.0</td>\n",
              "    </tr>\n",
              "    <tr>\n",
              "      <th>1</th>\n",
              "      <td>40.40</td>\n",
              "      <td>3350000.0</td>\n",
              "      <td>1</td>\n",
              "      <td>2.65</td>\n",
              "      <td>18603.0</td>\n",
              "    </tr>\n",
              "    <tr>\n",
              "      <th>2</th>\n",
              "      <td>56.00</td>\n",
              "      <td>5196000.0</td>\n",
              "      <td>2</td>\n",
              "      <td>2.65</td>\n",
              "      <td>13933.0</td>\n",
              "    </tr>\n",
              "    <tr>\n",
              "      <th>3</th>\n",
              "      <td>159.00</td>\n",
              "      <td>64900000.0</td>\n",
              "      <td>3</td>\n",
              "      <td>2.65</td>\n",
              "      <td>6800.0</td>\n",
              "    </tr>\n",
              "    <tr>\n",
              "      <th>4</th>\n",
              "      <td>100.00</td>\n",
              "      <td>10000000.0</td>\n",
              "      <td>2</td>\n",
              "      <td>3.03</td>\n",
              "      <td>8098.0</td>\n",
              "    </tr>\n",
              "    <tr>\n",
              "      <th>...</th>\n",
              "      <td>...</td>\n",
              "      <td>...</td>\n",
              "      <td>...</td>\n",
              "      <td>...</td>\n",
              "      <td>...</td>\n",
              "    </tr>\n",
              "    <tr>\n",
              "      <th>23694</th>\n",
              "      <td>133.81</td>\n",
              "      <td>9700000.0</td>\n",
              "      <td>3</td>\n",
              "      <td>3.70</td>\n",
              "      <td>4232.0</td>\n",
              "    </tr>\n",
              "    <tr>\n",
              "      <th>23695</th>\n",
              "      <td>59.00</td>\n",
              "      <td>3100000.0</td>\n",
              "      <td>3</td>\n",
              "      <td>2.65</td>\n",
              "      <td>NaN</td>\n",
              "    </tr>\n",
              "    <tr>\n",
              "      <th>23696</th>\n",
              "      <td>56.70</td>\n",
              "      <td>2500000.0</td>\n",
              "      <td>2</td>\n",
              "      <td>2.65</td>\n",
              "      <td>NaN</td>\n",
              "    </tr>\n",
              "    <tr>\n",
              "      <th>23697</th>\n",
              "      <td>76.75</td>\n",
              "      <td>11475000.0</td>\n",
              "      <td>2</td>\n",
              "      <td>3.00</td>\n",
              "      <td>10364.0</td>\n",
              "    </tr>\n",
              "    <tr>\n",
              "      <th>23698</th>\n",
              "      <td>32.30</td>\n",
              "      <td>1350000.0</td>\n",
              "      <td>1</td>\n",
              "      <td>2.50</td>\n",
              "      <td>NaN</td>\n",
              "    </tr>\n",
              "  </tbody>\n",
              "</table>\n",
              "<p>23699 rows × 5 columns</p>\n",
              "</div>"
            ],
            "text/plain": [
              "       total_area  last_price  rooms  ceiling_height  cityCenters_nearest\n",
              "0          108.00  13000000.0      3            2.70              16028.0\n",
              "1           40.40   3350000.0      1            2.65              18603.0\n",
              "2           56.00   5196000.0      2            2.65              13933.0\n",
              "3          159.00  64900000.0      3            2.65               6800.0\n",
              "4          100.00  10000000.0      2            3.03               8098.0\n",
              "...           ...         ...    ...             ...                  ...\n",
              "23694      133.81   9700000.0      3            3.70               4232.0\n",
              "23695       59.00   3100000.0      3            2.65                  NaN\n",
              "23696       56.70   2500000.0      2            2.65                  NaN\n",
              "23697       76.75  11475000.0      2            3.00              10364.0\n",
              "23698       32.30   1350000.0      1            2.50                  NaN\n",
              "\n",
              "[23699 rows x 5 columns]"
            ]
          },
          "execution_count": 86,
          "metadata": {},
          "output_type": "execute_result"
        }
      ],
      "source": [
        "#для того, чтобы сравнить корреляции между собой, создадим новую таблицу\n",
        "my_new_data = data[['total_area', 'last_price', 'rooms', 'ceiling_height', 'cityCenters_nearest']]\n",
        "my_new_data"
      ]
    },
    {
      "cell_type": "code",
      "execution_count": null,
      "metadata": {
        "id": "We434qco1N6F",
        "outputId": "5f1be22f-cc43-4fdb-eae9-e47f3d7ab9ef"
      },
      "outputs": [
        {
          "name": "stderr",
          "output_type": "stream",
          "text": [
            "/private/var/mobile/Containers/Data/Application/8FF940A7-580F-427E-970E-677920F0E7CB/tmp/ipykernel_4972/333355209.py:2: SettingWithCopyWarning: \n",
            "A value is trying to be set on a copy of a slice from a DataFrame.\n",
            "Try using .loc[row_indexer,col_indexer] = value instead\n",
            "\n",
            "See the caveats in the documentation: https://pandas.pydata.org/pandas-docs/stable/user_guide/indexing.html#returning-a-view-versus-a-copy\n",
            "  my_new_data.ceiling_height = my_new_data.ceiling_height.fillna(my_new_data.ceiling_height.median())\n",
            "/private/var/mobile/Containers/Data/Application/8FF940A7-580F-427E-970E-677920F0E7CB/tmp/ipykernel_4972/333355209.py:3: SettingWithCopyWarning: \n",
            "A value is trying to be set on a copy of a slice from a DataFrame.\n",
            "Try using .loc[row_indexer,col_indexer] = value instead\n",
            "\n",
            "See the caveats in the documentation: https://pandas.pydata.org/pandas-docs/stable/user_guide/indexing.html#returning-a-view-versus-a-copy\n",
            "  my_new_data.cityCenters_nearest = my_new_data.cityCenters_nearest.fillna(my_new_data.cityCenters_nearest.median())\n"
          ]
        }
      ],
      "source": [
        "#заполним недостающие значения медианным значением\n",
        "my_new_data.ceiling_height = my_new_data.ceiling_height.fillna(my_new_data.ceiling_height.median())\n",
        "my_new_data.cityCenters_nearest = my_new_data.cityCenters_nearest.fillna(my_new_data.cityCenters_nearest.median())"
      ]
    },
    {
      "cell_type": "code",
      "execution_count": null,
      "metadata": {
        "id": "14rQzqdp1N6F",
        "outputId": "038fb22e-a03b-4d3d-c4e3-ac4d70b10e69"
      },
      "outputs": [
        {
          "data": {
            "text/plain": [
              "13098.5"
            ]
          },
          "execution_count": 88,
          "metadata": {},
          "output_type": "execute_result"
        }
      ],
      "source": [
        "my_new_data.cityCenters_nearest.median()"
      ]
    },
    {
      "cell_type": "code",
      "execution_count": null,
      "metadata": {
        "id": "dwYsF5qA1N6F",
        "outputId": "20043ca8-4125-4428-c85e-11c4ea3b1ae4"
      },
      "outputs": [
        {
          "data": {
            "text/plain": [
              "<AxesSubplot:>"
            ]
          },
          "execution_count": 89,
          "metadata": {},
          "output_type": "execute_result"
        },
        {
          "data": {
            "image/png": "[encoded data removed]",
            "text/plain": [
              "<Figure size 432x288 with 1 Axes>"
            ]
          },
          "metadata": {
            "needs_background": "light"
          },
          "output_type": "display_data"
        }
      ],
      "source": [
        "my_new_data.cityCenters_nearest.hist(bins = 100)"
      ]
    },
    {
      "cell_type": "code",
      "execution_count": null,
      "metadata": {
        "id": "AXvD1AhQ1N6F",
        "outputId": "b92639a3-4422-4ef7-a448-e855c816994c"
      },
      "outputs": [
        {
          "data": {
            "text/plain": [
              "<seaborn.axisgrid.FacetGrid at 0x177d81f70>"
            ]
          },
          "execution_count": 90,
          "metadata": {},
          "output_type": "execute_result"
        },
        {
          "data": {
            "image/png": "[encoded data removed]",
            "text/plain": [
              "<Figure size 360x360 with 1 Axes>"
            ]
          },
          "metadata": {
            "needs_background": "light"
          },
          "output_type": "display_data"
        }
      ],
      "source": [
        "sns.lmplot(data=my_new_data, x=\"cityCenters_nearest\", y=\"last_price\")"
      ]
    },
    {
      "cell_type": "code",
      "execution_count": null,
      "metadata": {
        "id": "BxLXaDtE1N6F",
        "outputId": "fd4e0c7f-7544-499b-bb64-111ca7909bd7"
      },
      "outputs": [
        {
          "data": {
            "text/plain": [
              "<seaborn.axisgrid.PairGrid at 0x2a18eab50>"
            ]
          },
          "execution_count": 91,
          "metadata": {},
          "output_type": "execute_result"
        },
        {
          "data": {
            "image/png": "[encoded data removed]",
            "text/plain": [
              "<Figure size 900x900 with 30 Axes>"
            ]
          },
          "metadata": {
            "needs_background": "light"
          },
          "output_type": "display_data"
        }
      ],
      "source": [
        "sns.pairplot(my_new_data)"
      ]
    },
    {
      "cell_type": "code",
      "execution_count": null,
      "metadata": {
        "id": "aF-H-i7w1N6F",
        "outputId": "2669b281-f6c8-43e4-fed8-3708c8204449"
      },
      "outputs": [
        {
          "data": {
            "text/html": [
              "<div>\n",
              "<style scoped>\n",
              "    .dataframe tbody tr th:only-of-type {\n",
              "        vertical-align: middle;\n",
              "    }\n",
              "\n",
              "    .dataframe tbody tr th {\n",
              "        vertical-align: top;\n",
              "    }\n",
              "\n",
              "    .dataframe thead th {\n",
              "        text-align: right;\n",
              "    }\n",
              "</style>\n",
              "<table border=\"1\" class=\"dataframe\">\n",
              "  <thead>\n",
              "    <tr style=\"text-align: right;\">\n",
              "      <th></th>\n",
              "      <th>total_area</th>\n",
              "      <th>last_price</th>\n",
              "      <th>rooms</th>\n",
              "      <th>ceiling_height</th>\n",
              "      <th>cityCenters_nearest</th>\n",
              "    </tr>\n",
              "  </thead>\n",
              "  <tbody>\n",
              "    <tr>\n",
              "      <th>24</th>\n",
              "      <td>97.2</td>\n",
              "      <td>6500000.0</td>\n",
              "      <td>2</td>\n",
              "      <td>2.65</td>\n",
              "      <td>2336.0</td>\n",
              "    </tr>\n",
              "    <tr>\n",
              "      <th>35</th>\n",
              "      <td>149.0</td>\n",
              "      <td>15500000.0</td>\n",
              "      <td>5</td>\n",
              "      <td>2.65</td>\n",
              "      <td>3502.0</td>\n",
              "    </tr>\n",
              "    <tr>\n",
              "      <th>61</th>\n",
              "      <td>74.0</td>\n",
              "      <td>7990000.0</td>\n",
              "      <td>2</td>\n",
              "      <td>2.65</td>\n",
              "      <td>4288.0</td>\n",
              "    </tr>\n",
              "    <tr>\n",
              "      <th>63</th>\n",
              "      <td>118.0</td>\n",
              "      <td>20000000.0</td>\n",
              "      <td>3</td>\n",
              "      <td>3.00</td>\n",
              "      <td>4800.0</td>\n",
              "    </tr>\n",
              "    <tr>\n",
              "      <th>99</th>\n",
              "      <td>90.0</td>\n",
              "      <td>9600000.0</td>\n",
              "      <td>4</td>\n",
              "      <td>2.65</td>\n",
              "      <td>2818.0</td>\n",
              "    </tr>\n",
              "    <tr>\n",
              "      <th>121</th>\n",
              "      <td>180.0</td>\n",
              "      <td>33000000.0</td>\n",
              "      <td>3</td>\n",
              "      <td>2.90</td>\n",
              "      <td>4264.0</td>\n",
              "    </tr>\n",
              "    <tr>\n",
              "      <th>136</th>\n",
              "      <td>51.8</td>\n",
              "      <td>6500000.0</td>\n",
              "      <td>2</td>\n",
              "      <td>3.45</td>\n",
              "      <td>3618.0</td>\n",
              "    </tr>\n",
              "    <tr>\n",
              "      <th>137</th>\n",
              "      <td>85.1</td>\n",
              "      <td>13310800.0</td>\n",
              "      <td>2</td>\n",
              "      <td>2.70</td>\n",
              "      <td>4263.0</td>\n",
              "    </tr>\n",
              "    <tr>\n",
              "      <th>138</th>\n",
              "      <td>40.0</td>\n",
              "      <td>4800000.0</td>\n",
              "      <td>2</td>\n",
              "      <td>2.65</td>\n",
              "      <td>2913.0</td>\n",
              "    </tr>\n",
              "    <tr>\n",
              "      <th>147</th>\n",
              "      <td>179.6</td>\n",
              "      <td>27700000.0</td>\n",
              "      <td>5</td>\n",
              "      <td>2.85</td>\n",
              "      <td>4489.0</td>\n",
              "    </tr>\n",
              "  </tbody>\n",
              "</table>\n",
              "</div>"
            ],
            "text/plain": [
              "     total_area  last_price  rooms  ceiling_height  cityCenters_nearest\n",
              "24         97.2   6500000.0      2            2.65               2336.0\n",
              "35        149.0  15500000.0      5            2.65               3502.0\n",
              "61         74.0   7990000.0      2            2.65               4288.0\n",
              "63        118.0  20000000.0      3            3.00               4800.0\n",
              "99         90.0   9600000.0      4            2.65               2818.0\n",
              "121       180.0  33000000.0      3            2.90               4264.0\n",
              "136        51.8   6500000.0      2            3.45               3618.0\n",
              "137        85.1  13310800.0      2            2.70               4263.0\n",
              "138        40.0   4800000.0      2            2.65               2913.0\n",
              "147       179.6  27700000.0      5            2.85               4489.0"
            ]
          },
          "execution_count": 92,
          "metadata": {},
          "output_type": "execute_result"
        }
      ],
      "source": [
        "#рассмотрим влияние параметров на ценообразование, в районе 5000м от центра\n",
        "c_new_data_5000 = my_new_data.loc[data.cityCenters_nearest < 5000]\n",
        "c_new_data_5000.corr()\n",
        "c_new_data_5000.head(10)"
      ]
    },
    {
      "cell_type": "code",
      "execution_count": null,
      "metadata": {
        "id": "XRtEwvDk1N6F",
        "outputId": "8564d57e-8f93-448e-c3f5-f96bad333402"
      },
      "outputs": [
        {
          "data": {
            "text/html": [
              "<div>\n",
              "<style scoped>\n",
              "    .dataframe tbody tr th:only-of-type {\n",
              "        vertical-align: middle;\n",
              "    }\n",
              "\n",
              "    .dataframe tbody tr th {\n",
              "        vertical-align: top;\n",
              "    }\n",
              "\n",
              "    .dataframe thead th {\n",
              "        text-align: right;\n",
              "    }\n",
              "</style>\n",
              "<table border=\"1\" class=\"dataframe\">\n",
              "  <thead>\n",
              "    <tr style=\"text-align: right;\">\n",
              "      <th></th>\n",
              "      <th>total_area</th>\n",
              "      <th>last_price</th>\n",
              "      <th>rooms</th>\n",
              "      <th>ceiling_height</th>\n",
              "      <th>cityCenters_nearest</th>\n",
              "    </tr>\n",
              "  </thead>\n",
              "  <tbody>\n",
              "    <tr>\n",
              "      <th>155</th>\n",
              "      <td>317.0</td>\n",
              "      <td>96000000.0</td>\n",
              "      <td>4</td>\n",
              "      <td>3.50</td>\n",
              "      <td>1771.0</td>\n",
              "    </tr>\n",
              "    <tr>\n",
              "      <th>207</th>\n",
              "      <td>72.6</td>\n",
              "      <td>9000000.0</td>\n",
              "      <td>2</td>\n",
              "      <td>2.90</td>\n",
              "      <td>1645.0</td>\n",
              "    </tr>\n",
              "    <tr>\n",
              "      <th>213</th>\n",
              "      <td>111.4</td>\n",
              "      <td>8700000.0</td>\n",
              "      <td>4</td>\n",
              "      <td>3.10</td>\n",
              "      <td>1218.0</td>\n",
              "    </tr>\n",
              "    <tr>\n",
              "      <th>282</th>\n",
              "      <td>115.0</td>\n",
              "      <td>37000000.0</td>\n",
              "      <td>2</td>\n",
              "      <td>2.65</td>\n",
              "      <td>1995.0</td>\n",
              "    </tr>\n",
              "    <tr>\n",
              "      <th>433</th>\n",
              "      <td>57.8</td>\n",
              "      <td>6800000.0</td>\n",
              "      <td>3</td>\n",
              "      <td>2.80</td>\n",
              "      <td>1166.0</td>\n",
              "    </tr>\n",
              "    <tr>\n",
              "      <th>450</th>\n",
              "      <td>53.0</td>\n",
              "      <td>6550000.0</td>\n",
              "      <td>2</td>\n",
              "      <td>3.50</td>\n",
              "      <td>1429.0</td>\n",
              "    </tr>\n",
              "    <tr>\n",
              "      <th>492</th>\n",
              "      <td>216.0</td>\n",
              "      <td>95000000.0</td>\n",
              "      <td>4</td>\n",
              "      <td>3.00</td>\n",
              "      <td>436.0</td>\n",
              "    </tr>\n",
              "    <tr>\n",
              "      <th>502</th>\n",
              "      <td>71.0</td>\n",
              "      <td>11250000.0</td>\n",
              "      <td>2</td>\n",
              "      <td>2.65</td>\n",
              "      <td>1217.0</td>\n",
              "    </tr>\n",
              "    <tr>\n",
              "      <th>555</th>\n",
              "      <td>83.1</td>\n",
              "      <td>7680000.0</td>\n",
              "      <td>3</td>\n",
              "      <td>2.65</td>\n",
              "      <td>1803.0</td>\n",
              "    </tr>\n",
              "    <tr>\n",
              "      <th>581</th>\n",
              "      <td>365.0</td>\n",
              "      <td>65000000.0</td>\n",
              "      <td>7</td>\n",
              "      <td>2.90</td>\n",
              "      <td>1690.0</td>\n",
              "    </tr>\n",
              "  </tbody>\n",
              "</table>\n",
              "</div>"
            ],
            "text/plain": [
              "     total_area  last_price  rooms  ceiling_height  cityCenters_nearest\n",
              "155       317.0  96000000.0      4            3.50               1771.0\n",
              "207        72.6   9000000.0      2            2.90               1645.0\n",
              "213       111.4   8700000.0      4            3.10               1218.0\n",
              "282       115.0  37000000.0      2            2.65               1995.0\n",
              "433        57.8   6800000.0      3            2.80               1166.0\n",
              "450        53.0   6550000.0      2            3.50               1429.0\n",
              "492       216.0  95000000.0      4            3.00                436.0\n",
              "502        71.0  11250000.0      2            2.65               1217.0\n",
              "555        83.1   7680000.0      3            2.65               1803.0\n",
              "581       365.0  65000000.0      7            2.90               1690.0"
            ]
          },
          "execution_count": 93,
          "metadata": {},
          "output_type": "execute_result"
        }
      ],
      "source": [
        "#рассмотрим влияние параметров на ценообразование, в районе 2000м от центра\n",
        "c_new_data_2000 = my_new_data.loc[data.cityCenters_nearest < 2000]\n",
        "c_new_data_2000.corr()\n",
        "c_new_data_2000.head(10)"
      ]
    },
    {
      "cell_type": "code",
      "execution_count": null,
      "metadata": {
        "id": "zr-wNMbI1N6F"
      },
      "outputs": [],
      "source": [
        "c_data = my_new_data.corr()"
      ]
    },
    {
      "cell_type": "code",
      "execution_count": null,
      "metadata": {
        "id": "MidRSJX51N6F",
        "outputId": "376d1203-16a2-4dac-d678-7239128825c4"
      },
      "outputs": [
        {
          "data": {
            "text/html": [
              "<div>\n",
              "<style scoped>\n",
              "    .dataframe tbody tr th:only-of-type {\n",
              "        vertical-align: middle;\n",
              "    }\n",
              "\n",
              "    .dataframe tbody tr th {\n",
              "        vertical-align: top;\n",
              "    }\n",
              "\n",
              "    .dataframe thead th {\n",
              "        text-align: right;\n",
              "    }\n",
              "</style>\n",
              "<table border=\"1\" class=\"dataframe\">\n",
              "  <thead>\n",
              "    <tr style=\"text-align: right;\">\n",
              "      <th></th>\n",
              "      <th>all_data</th>\n",
              "    </tr>\n",
              "  </thead>\n",
              "  <tbody>\n",
              "    <tr>\n",
              "      <th>total_area</th>\n",
              "      <td>0.653666</td>\n",
              "    </tr>\n",
              "    <tr>\n",
              "      <th>rooms</th>\n",
              "      <td>0.363343</td>\n",
              "    </tr>\n",
              "    <tr>\n",
              "      <th>cityCenters_nearest</th>\n",
              "      <td>0.191029</td>\n",
              "    </tr>\n",
              "    <tr>\n",
              "      <th>ceiling_height</th>\n",
              "      <td>0.064425</td>\n",
              "    </tr>\n",
              "  </tbody>\n",
              "</table>\n",
              "</div>"
            ],
            "text/plain": [
              "                     all_data\n",
              "total_area           0.653666\n",
              "rooms                0.363343\n",
              "cityCenters_nearest  0.191029\n",
              "ceiling_height       0.064425"
            ]
          },
          "execution_count": 95,
          "metadata": {},
          "output_type": "execute_result"
        }
      ],
      "source": [
        "#общая корреляция\n",
        "arr_data = c_data['last_price'].abs().sort_values(ascending=False)[1:15]\n",
        "arr_data = pd.DataFrame(arr_data)\n",
        "arr_data = arr_data.rename(columns={'last_price':'all_data'})\n",
        "arr_data"
      ]
    },
    {
      "cell_type": "code",
      "execution_count": null,
      "metadata": {
        "id": "oxv5DpjQ1N6F",
        "outputId": "2d74a407-9996-4e33-9d5d-170a35bc84ef"
      },
      "outputs": [
        {
          "data": {
            "text/html": [
              "<div>\n",
              "<style scoped>\n",
              "    .dataframe tbody tr th:only-of-type {\n",
              "        vertical-align: middle;\n",
              "    }\n",
              "\n",
              "    .dataframe tbody tr th {\n",
              "        vertical-align: top;\n",
              "    }\n",
              "\n",
              "    .dataframe thead th {\n",
              "        text-align: right;\n",
              "    }\n",
              "</style>\n",
              "<table border=\"1\" class=\"dataframe\">\n",
              "  <thead>\n",
              "    <tr style=\"text-align: right;\">\n",
              "      <th></th>\n",
              "      <th>5000_price</th>\n",
              "    </tr>\n",
              "  </thead>\n",
              "  <tbody>\n",
              "    <tr>\n",
              "      <th>total_area</th>\n",
              "      <td>0.552189</td>\n",
              "    </tr>\n",
              "    <tr>\n",
              "      <th>rooms</th>\n",
              "      <td>0.268629</td>\n",
              "    </tr>\n",
              "    <tr>\n",
              "      <th>cityCenters_nearest</th>\n",
              "      <td>0.084136</td>\n",
              "    </tr>\n",
              "    <tr>\n",
              "      <th>ceiling_height</th>\n",
              "      <td>0.033835</td>\n",
              "    </tr>\n",
              "  </tbody>\n",
              "</table>\n",
              "</div>"
            ],
            "text/plain": [
              "                     5000_price\n",
              "total_area             0.552189\n",
              "rooms                  0.268629\n",
              "cityCenters_nearest    0.084136\n",
              "ceiling_height         0.033835"
            ]
          },
          "execution_count": 96,
          "metadata": {},
          "output_type": "execute_result"
        }
      ],
      "source": [
        "#корреляция влияния на ценообразование в пределах 5000м\n",
        "arr_data_5000 = pd.DataFrame(c_new_data_5000.corr()['last_price'].abs().sort_values(ascending=False)[1:15])\n",
        "arr_data_5000 = arr_data_5000.rename(columns={'last_price':'5000_price'})\n",
        "arr_data_5000"
      ]
    },
    {
      "cell_type": "code",
      "execution_count": null,
      "metadata": {
        "id": "oFRDoIr41N6F"
      },
      "outputs": [],
      "source": [
        "#корреляция влияния на ценообразование в пределах 2000м\n",
        "arr_data_2000 = pd.DataFrame(c_new_data_2000.corr()['last_price'].abs().sort_values(ascending=False)[1:15])\n",
        "arr_data_2000 = arr_data_2000.rename(columns={'last_price':'2000_price'})"
      ]
    },
    {
      "cell_type": "code",
      "execution_count": null,
      "metadata": {
        "id": "CRzw-HMm1N6G",
        "outputId": "63d6c8cd-bb0d-4548-b972-280327f8f180"
      },
      "outputs": [
        {
          "data": {
            "text/html": [
              "<div>\n",
              "<style scoped>\n",
              "    .dataframe tbody tr th:only-of-type {\n",
              "        vertical-align: middle;\n",
              "    }\n",
              "\n",
              "    .dataframe tbody tr th {\n",
              "        vertical-align: top;\n",
              "    }\n",
              "\n",
              "    .dataframe thead th {\n",
              "        text-align: right;\n",
              "    }\n",
              "</style>\n",
              "<table border=\"1\" class=\"dataframe\">\n",
              "  <thead>\n",
              "    <tr style=\"text-align: right;\">\n",
              "      <th></th>\n",
              "      <th>2000_price</th>\n",
              "    </tr>\n",
              "  </thead>\n",
              "  <tbody>\n",
              "    <tr>\n",
              "      <th>total_area</th>\n",
              "      <td>0.528579</td>\n",
              "    </tr>\n",
              "    <tr>\n",
              "      <th>rooms</th>\n",
              "      <td>0.219491</td>\n",
              "    </tr>\n",
              "    <tr>\n",
              "      <th>cityCenters_nearest</th>\n",
              "      <td>0.140782</td>\n",
              "    </tr>\n",
              "    <tr>\n",
              "      <th>ceiling_height</th>\n",
              "      <td>0.109174</td>\n",
              "    </tr>\n",
              "  </tbody>\n",
              "</table>\n",
              "</div>"
            ],
            "text/plain": [
              "                     2000_price\n",
              "total_area             0.528579\n",
              "rooms                  0.219491\n",
              "cityCenters_nearest    0.140782\n",
              "ceiling_height         0.109174"
            ]
          },
          "execution_count": 100,
          "metadata": {},
          "output_type": "execute_result"
        }
      ],
      "source": [
        "arr_data_2000"
      ]
    },
    {
      "cell_type": "code",
      "execution_count": null,
      "metadata": {
        "id": "vS0rV9Oh1N6G"
      },
      "outputs": [],
      "source": [
        "#сравненипе как меняются параметры в зависимости от удаленности\n",
        "arr_data = arr_data.merge(arr_data_5000, left_index=True, right_index=True)\n",
        "arr_data = arr_data.merge(arr_data_2000, left_index=True, right_index=True)"
      ]
    },
    {
      "cell_type": "code",
      "execution_count": null,
      "metadata": {
        "id": "A-tP7Wmr1N6G",
        "outputId": "3c82b669-ad83-4bc0-9f09-a99cf5e0282c"
      },
      "outputs": [
        {
          "data": {
            "text/html": [
              "<div>\n",
              "<style scoped>\n",
              "    .dataframe tbody tr th:only-of-type {\n",
              "        vertical-align: middle;\n",
              "    }\n",
              "\n",
              "    .dataframe tbody tr th {\n",
              "        vertical-align: top;\n",
              "    }\n",
              "\n",
              "    .dataframe thead th {\n",
              "        text-align: right;\n",
              "    }\n",
              "</style>\n",
              "<table border=\"1\" class=\"dataframe\">\n",
              "  <thead>\n",
              "    <tr style=\"text-align: right;\">\n",
              "      <th></th>\n",
              "      <th>all_data</th>\n",
              "      <th>5000_price</th>\n",
              "      <th>2000_price</th>\n",
              "    </tr>\n",
              "  </thead>\n",
              "  <tbody>\n",
              "    <tr>\n",
              "      <th>total_area</th>\n",
              "      <td>0.653666</td>\n",
              "      <td>0.552189</td>\n",
              "      <td>0.528579</td>\n",
              "    </tr>\n",
              "    <tr>\n",
              "      <th>rooms</th>\n",
              "      <td>0.363343</td>\n",
              "      <td>0.268629</td>\n",
              "      <td>0.219491</td>\n",
              "    </tr>\n",
              "    <tr>\n",
              "      <th>cityCenters_nearest</th>\n",
              "      <td>0.191029</td>\n",
              "      <td>0.084136</td>\n",
              "      <td>0.140782</td>\n",
              "    </tr>\n",
              "    <tr>\n",
              "      <th>ceiling_height</th>\n",
              "      <td>0.064425</td>\n",
              "      <td>0.033835</td>\n",
              "      <td>0.109174</td>\n",
              "    </tr>\n",
              "  </tbody>\n",
              "</table>\n",
              "</div>"
            ],
            "text/plain": [
              "                     all_data  5000_price  2000_price\n",
              "total_area           0.653666    0.552189    0.528579\n",
              "rooms                0.363343    0.268629    0.219491\n",
              "cityCenters_nearest  0.191029    0.084136    0.140782\n",
              "ceiling_height       0.064425    0.033835    0.109174"
            ]
          },
          "execution_count": 102,
          "metadata": {},
          "output_type": "execute_result"
        }
      ],
      "source": [
        "arr_data"
      ]
    },
    {
      "cell_type": "code",
      "execution_count": null,
      "metadata": {
        "id": "FMYtzYND1N6G"
      },
      "outputs": [],
      "source": [
        "#arr_data['index'] = arr_data.index"
      ]
    },
    {
      "cell_type": "code",
      "execution_count": null,
      "metadata": {
        "id": "vbcXuADk1N6G",
        "outputId": "995b59ed-fc93-403e-f357-92271b48fdfd"
      },
      "outputs": [
        {
          "data": {
            "text/html": [
              "<div>\n",
              "<style scoped>\n",
              "    .dataframe tbody tr th:only-of-type {\n",
              "        vertical-align: middle;\n",
              "    }\n",
              "\n",
              "    .dataframe tbody tr th {\n",
              "        vertical-align: top;\n",
              "    }\n",
              "\n",
              "    .dataframe thead th {\n",
              "        text-align: right;\n",
              "    }\n",
              "</style>\n",
              "<table border=\"1\" class=\"dataframe\">\n",
              "  <thead>\n",
              "    <tr style=\"text-align: right;\">\n",
              "      <th></th>\n",
              "      <th>index</th>\n",
              "      <th>all_data</th>\n",
              "      <th>5000_price</th>\n",
              "      <th>2000_price</th>\n",
              "    </tr>\n",
              "  </thead>\n",
              "  <tbody>\n",
              "    <tr>\n",
              "      <th>0</th>\n",
              "      <td>total_area</td>\n",
              "      <td>0.653666</td>\n",
              "      <td>0.552189</td>\n",
              "      <td>0.528579</td>\n",
              "    </tr>\n",
              "    <tr>\n",
              "      <th>1</th>\n",
              "      <td>rooms</td>\n",
              "      <td>0.363343</td>\n",
              "      <td>0.268629</td>\n",
              "      <td>0.219491</td>\n",
              "    </tr>\n",
              "    <tr>\n",
              "      <th>2</th>\n",
              "      <td>cityCenters_nearest</td>\n",
              "      <td>0.191029</td>\n",
              "      <td>0.084136</td>\n",
              "      <td>0.140782</td>\n",
              "    </tr>\n",
              "    <tr>\n",
              "      <th>3</th>\n",
              "      <td>ceiling_height</td>\n",
              "      <td>0.064425</td>\n",
              "      <td>0.033835</td>\n",
              "      <td>0.109174</td>\n",
              "    </tr>\n",
              "  </tbody>\n",
              "</table>\n",
              "</div>"
            ],
            "text/plain": [
              "                 index  all_data  5000_price  2000_price\n",
              "0           total_area  0.653666    0.552189    0.528579\n",
              "1                rooms  0.363343    0.268629    0.219491\n",
              "2  cityCenters_nearest  0.191029    0.084136    0.140782\n",
              "3       ceiling_height  0.064425    0.033835    0.109174"
            ]
          },
          "execution_count": 104,
          "metadata": {},
          "output_type": "execute_result"
        }
      ],
      "source": [
        "arr_data = arr_data.reset_index()\n",
        "arr_data"
      ]
    },
    {
      "cell_type": "markdown",
      "metadata": {
        "id": "edIQiOvQ1N6G"
      },
      "source": [
        "ANSWER: We see a table that shows the dependence of the main parameters and the cost of an apartment in two ranges - 2000 m and 5000 m. This allows us to look at the dynamics of changes in the influence of these parameters. We can draw the following conclusions:\n",
        "1. Most of all, the price of an apartment depends on the area of ​​the apartment, and this parameter almost does not change, depending on the distance from the center\n",
        "2. the price depends least of all on the height of the ceilings, and this parameter changes a lot closer to the center. That is, the closer the apartment is to the center, the more attention is paid to the height of the ceilings and the higher the cost with high ceilings.\n",
        "3. there is a certain relationship between the number of rooms in an apartment and the cost of an apartment, and this parameter is quite stable at different distances from the center"
      ]
    },
    {
      "cell_type": "markdown",
      "metadata": {
        "id": "Zii2IBty1N6G"
      },
      "source": [
        "CONCLUSION:\n",
        "1. The highest cost of housing in St. Petersburg and the lowest cost of real estate in Vyborg\n",
        "2. The most important parameter that affects the cost of an apartment is the area of ​​the apartment. (nevertheless, this dependence is not 100% and it is important to take into account other parameters\n",
        "3. According to the study - the more rooms in the apartment, the more expensive it is\n",
        "4. According to the study - the closer the apartment is to the center, the more expensive it is\n",
        "5. According to a study, the more rooms an apartment has, the more expensive it is.\n",
        "6. The cheapest apartments are sold in January-February and May on weekends - Saturday and Sunday\n",
        "\n",
        "Advice to the technical team:\n",
        "1. More accurately measure the area of ​​​​an apartment in St. Petersburg\n",
        "2. if there is no balcony - indicate that it is not\n",
        "3. Write day, month and year in different columns\n",
        "4. Pay attention to unrealistic apartment data and check it upon receipt</div>"
      ]
    }
  ],
  "metadata": {
    "kernelspec": {
      "display_name": "Python 3 (ipykernel)",
      "language": "python",
      "name": "python3"
    },
    "language_info": {
      "codemirror_mode": {
        "name": "ipython",
        "version": 3
      },
      "file_extension": ".py",
      "mimetype": "text/x-python",
      "name": "python",
      "nbconvert_exporter": "python",
      "pygments_lexer": "ipython3",
      "version": "3.9.10+"
    },
    "toc": {
      "base_numbering": 1,
      "nav_menu": {},
      "number_sections": true,
      "sideBar": true,
      "skip_h1_title": true,
      "title_cell": "Содержание",
      "title_sidebar": "Contents",
      "toc_cell": true,
      "toc_position": {},
      "toc_section_display": true,
      "toc_window_display": true
    },
    "colab": {
      "provenance": []
    }
  },
  "nbformat": 4,
  "nbformat_minor": 0
}