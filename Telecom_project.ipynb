{
  "cells": [
    {
      "cell_type": "markdown",
      "metadata": {
        "id": "W1DPdnvP6gdx"
      },
      "source": [
        "## проект Телеком"
      ]
    },
    {
      "cell_type": "markdown",
      "metadata": {
        "id": "42MjTtGf6gd1"
      },
      "source": [
        "### Описание проекта\n",
        "Оператор свяхи \"Ниединогоразрыва.ком\" хочет научиться прогнозировать отток клиентов. Если выясниться, что пользователь планирует уйти, ему будут предложены промокоды и специальные условия. Команда оператора собрала персональные данные о некоторых клиентах, информацию об их тарифах и договорах."
      ]
    },
    {
      "cell_type": "markdown",
      "metadata": {
        "id": "2QAqBZjj6gd1"
      },
      "source": [
        "##Описание данных\n",
        "* contract.csv - информация о договоре,\n",
        "* personal.csv - персональные данные клиента,\n",
        "* internet.csv - информация об интернет-услугах,\n",
        "* phone.csv - информация об услугах телефонии.\n",
        "_______________________________________________\n",
        "* во всех файлах есть столбец customerID содержащий код клиента"
      ]
    },
    {
      "cell_type": "markdown",
      "metadata": {
        "id": "gL-X-a_i6gd2"
      },
      "source": [
        "##Исследование данных"
      ]
    },
    {
      "cell_type": "code",
      "execution_count": null,
      "metadata": {
        "id": "uHbT5z3e75Xx"
      },
      "outputs": [],
      "source": [
        "#from google.colab import drive\n",
        "#drive.mount('/content/drive')"
      ]
    },
    {
      "cell_type": "code",
      "execution_count": null,
      "metadata": {
        "id": "SHE9QlVv6gd2"
      },
      "outputs": [],
      "source": [
        "import pandas as pd\n",
        "import numpy as np\n",
        "import matplotlib.pyplot as plt\n",
        "from sklearn.model_selection import train_test_split\n",
        "from sklearn.preprocessing import OrdinalEncoder\n",
        "from sklearn.preprocessing import StandardScaler\n",
        "from sklearn.ensemble import RandomForestClassifier\n",
        "from sklearn.linear_model import LogisticRegression, SGDClassifier\n",
        "from sklearn.model_selection import train_test_split, cross_val_score, GridSearchCV\n",
        "from sklearn.preprocessing import StandardScaler\n",
        "from sklearn.metrics import f1_score, precision_score, recall_score, accuracy_score, roc_auc_score, roc_curve\n",
        "\n"
      ]
    },
    {
      "cell_type": "code",
      "execution_count": null,
      "metadata": {
        "colab": {
          "base_uri": "https://localhost:8080/"
        },
        "id": "ZsEQ9AekiQkY",
        "outputId": "bfc31649-0c1b-4c97-bd09-afe9a1eaa138"
      },
      "outputs": [
        {
          "name": "stdout",
          "output_type": "stream",
          "text": [
            "Requirement already satisfied: phik in /opt/conda/lib/python3.9/site-packages (0.12.2)\n",
            "Requirement already satisfied: numpy>=1.18.0 in /opt/conda/lib/python3.9/site-packages (from phik) (1.21.1)\n",
            "Requirement already satisfied: scipy>=1.5.2 in /opt/conda/lib/python3.9/site-packages (from phik) (1.9.1)\n",
            "Requirement already satisfied: matplotlib>=2.2.3 in /opt/conda/lib/python3.9/site-packages (from phik) (3.3.4)\n",
            "Requirement already satisfied: pandas>=0.25.1 in /opt/conda/lib/python3.9/site-packages (from phik) (1.2.4)\n",
            "Requirement already satisfied: joblib>=0.14.1 in /opt/conda/lib/python3.9/site-packages (from phik) (1.1.0)\n",
            "Requirement already satisfied: cycler>=0.10 in /opt/conda/lib/python3.9/site-packages (from matplotlib>=2.2.3->phik) (0.11.0)\n",
            "Requirement already satisfied: kiwisolver>=1.0.1 in /opt/conda/lib/python3.9/site-packages (from matplotlib>=2.2.3->phik) (1.4.4)\n",
            "Requirement already satisfied: python-dateutil>=2.1 in /opt/conda/lib/python3.9/site-packages (from matplotlib>=2.2.3->phik) (2.8.1)\n",
            "Requirement already satisfied: pillow>=6.2.0 in /opt/conda/lib/python3.9/site-packages (from matplotlib>=2.2.3->phik) (8.4.0)\n",
            "Requirement already satisfied: pyparsing!=2.0.4,!=2.1.2,!=2.1.6,>=2.0.3 in /opt/conda/lib/python3.9/site-packages (from matplotlib>=2.2.3->phik) (2.4.7)\n",
            "Requirement already satisfied: pytz>=2017.3 in /opt/conda/lib/python3.9/site-packages (from pandas>=0.25.1->phik) (2021.1)\n",
            "Requirement already satisfied: six>=1.5 in /opt/conda/lib/python3.9/site-packages (from python-dateutil>=2.1->matplotlib>=2.2.3->phik) (1.16.0)\n",
            "Note: you may need to restart the kernel to use updated packages.\n"
          ]
        }
      ],
      "source": [
        "pip install phik"
      ]
    },
    {
      "cell_type": "code",
      "execution_count": null,
      "metadata": {
        "id": "EgIvjSQriU1w"
      },
      "outputs": [],
      "source": [
        "#import phik\n",
        "from phik.report import plot_correlation_matrix\n",
        "from phik import report"
      ]
    },
    {
      "cell_type": "code",
      "execution_count": null,
      "metadata": {
        "id": "YT3bagiR6gd4"
      },
      "outputs": [],
      "source": [
        "try:\n",
        "    contract = pd.read_csv('/content/drive/MyDrive/contract.csv')\n",
        "except:\n",
        "    contract = pd.read_csv('/datasets/final_provider/contract.csv')"
      ]
    },
    {
      "cell_type": "code",
      "execution_count": null,
      "metadata": {
        "colab": {
          "base_uri": "https://localhost:8080/",
          "height": 204
        },
        "id": "BqMBC5566gd4",
        "outputId": "d8420345-93ae-425f-e688-aa8bc05d1da2",
        "scrolled": true
      },
      "outputs": [
        {
          "data": {
            "text/html": [
              "<div>\n",
              "<style scoped>\n",
              "    .dataframe tbody tr th:only-of-type {\n",
              "        vertical-align: middle;\n",
              "    }\n",
              "\n",
              "    .dataframe tbody tr th {\n",
              "        vertical-align: top;\n",
              "    }\n",
              "\n",
              "    .dataframe thead th {\n",
              "        text-align: right;\n",
              "    }\n",
              "</style>\n",
              "<table border=\"1\" class=\"dataframe\">\n",
              "  <thead>\n",
              "    <tr style=\"text-align: right;\">\n",
              "      <th></th>\n",
              "      <th>customerID</th>\n",
              "      <th>BeginDate</th>\n",
              "      <th>EndDate</th>\n",
              "      <th>Type</th>\n",
              "      <th>PaperlessBilling</th>\n",
              "      <th>PaymentMethod</th>\n",
              "      <th>MonthlyCharges</th>\n",
              "      <th>TotalCharges</th>\n",
              "    </tr>\n",
              "  </thead>\n",
              "  <tbody>\n",
              "    <tr>\n",
              "      <th>381</th>\n",
              "      <td>6905-NIQIN</td>\n",
              "      <td>2019-09-01</td>\n",
              "      <td>2019-10-01 00:00:00</td>\n",
              "      <td>Month-to-month</td>\n",
              "      <td>No</td>\n",
              "      <td>Mailed check</td>\n",
              "      <td>50.65</td>\n",
              "      <td>50.65</td>\n",
              "    </tr>\n",
              "    <tr>\n",
              "      <th>3494</th>\n",
              "      <td>5569-KGJHX</td>\n",
              "      <td>2019-01-01</td>\n",
              "      <td>2019-10-01 00:00:00</td>\n",
              "      <td>Month-to-month</td>\n",
              "      <td>Yes</td>\n",
              "      <td>Bank transfer (automatic)</td>\n",
              "      <td>85.35</td>\n",
              "      <td>754.65</td>\n",
              "    </tr>\n",
              "    <tr>\n",
              "      <th>2415</th>\n",
              "      <td>9898-KZQDZ</td>\n",
              "      <td>2016-06-01</td>\n",
              "      <td>2019-10-01 00:00:00</td>\n",
              "      <td>Month-to-month</td>\n",
              "      <td>Yes</td>\n",
              "      <td>Credit card (automatic)</td>\n",
              "      <td>94.55</td>\n",
              "      <td>3640.45</td>\n",
              "    </tr>\n",
              "    <tr>\n",
              "      <th>6232</th>\n",
              "      <td>9681-OXGVC</td>\n",
              "      <td>2019-07-01</td>\n",
              "      <td>2019-12-01 00:00:00</td>\n",
              "      <td>Month-to-month</td>\n",
              "      <td>Yes</td>\n",
              "      <td>Electronic check</td>\n",
              "      <td>100.50</td>\n",
              "      <td>514</td>\n",
              "    </tr>\n",
              "    <tr>\n",
              "      <th>5540</th>\n",
              "      <td>3803-KMQFW</td>\n",
              "      <td>2019-12-01</td>\n",
              "      <td>2020-01-01 00:00:00</td>\n",
              "      <td>Month-to-month</td>\n",
              "      <td>No</td>\n",
              "      <td>Mailed check</td>\n",
              "      <td>20.55</td>\n",
              "      <td>20.55</td>\n",
              "    </tr>\n",
              "  </tbody>\n",
              "</table>\n",
              "</div>"
            ],
            "text/plain": [
              "      customerID   BeginDate              EndDate            Type  \\\n",
              "381   6905-NIQIN  2019-09-01  2019-10-01 00:00:00  Month-to-month   \n",
              "3494  5569-KGJHX  2019-01-01  2019-10-01 00:00:00  Month-to-month   \n",
              "2415  9898-KZQDZ  2016-06-01  2019-10-01 00:00:00  Month-to-month   \n",
              "6232  9681-OXGVC  2019-07-01  2019-12-01 00:00:00  Month-to-month   \n",
              "5540  3803-KMQFW  2019-12-01  2020-01-01 00:00:00  Month-to-month   \n",
              "\n",
              "     PaperlessBilling              PaymentMethod  MonthlyCharges TotalCharges  \n",
              "381                No               Mailed check           50.65        50.65  \n",
              "3494              Yes  Bank transfer (automatic)           85.35       754.65  \n",
              "2415              Yes    Credit card (automatic)           94.55      3640.45  \n",
              "6232              Yes           Electronic check          100.50          514  \n",
              "5540               No               Mailed check           20.55        20.55  "
            ]
          },
          "execution_count": 6,
          "metadata": {},
          "output_type": "execute_result"
        }
      ],
      "source": [
        "contract.sample(5)"
      ]
    },
    {
      "cell_type": "code",
      "execution_count": null,
      "metadata": {
        "colab": {
          "base_uri": "https://localhost:8080/"
        },
        "id": "xHFRjMAz6gd5",
        "outputId": "76d30699-c838-4fa3-f2b1-dd6bf31a6473",
        "scrolled": true
      },
      "outputs": [
        {
          "name": "stdout",
          "output_type": "stream",
          "text": [
            "<class 'pandas.core.frame.DataFrame'>\n",
            "RangeIndex: 7043 entries, 0 to 7042\n",
            "Data columns (total 8 columns):\n",
            " #   Column            Non-Null Count  Dtype  \n",
            "---  ------            --------------  -----  \n",
            " 0   customerID        7043 non-null   object \n",
            " 1   BeginDate         7043 non-null   object \n",
            " 2   EndDate           7043 non-null   object \n",
            " 3   Type              7043 non-null   object \n",
            " 4   PaperlessBilling  7043 non-null   object \n",
            " 5   PaymentMethod     7043 non-null   object \n",
            " 6   MonthlyCharges    7043 non-null   float64\n",
            " 7   TotalCharges      7043 non-null   object \n",
            "dtypes: float64(1), object(7)\n",
            "memory usage: 440.3+ KB\n"
          ]
        }
      ],
      "source": [
        "contract.info()"
      ]
    },
    {
      "cell_type": "code",
      "execution_count": null,
      "metadata": {
        "colab": {
          "base_uri": "https://localhost:8080/"
        },
        "id": "9cjVc1Ec6gd6",
        "outputId": "741f3612-468c-4b79-a6d3-4378f5be5b5b"
      },
      "outputs": [
        {
          "data": {
            "text/plain": [
              "2014-02-01    366\n",
              "2019-11-01    237\n",
              "2019-10-01    237\n",
              "2019-09-01    237\n",
              "2020-01-01    233\n",
              "             ... \n",
              "2020-02-01     11\n",
              "2014-01-01      7\n",
              "2013-10-01      3\n",
              "2013-12-01      3\n",
              "2013-11-01      2\n",
              "Name: BeginDate, Length: 77, dtype: int64"
            ]
          },
          "execution_count": 8,
          "metadata": {},
          "output_type": "execute_result"
        }
      ],
      "source": [
        "contract.BeginDate.value_counts()"
      ]
    },
    {
      "cell_type": "code",
      "execution_count": null,
      "metadata": {
        "colab": {
          "base_uri": "https://localhost:8080/"
        },
        "id": "uUwtIEgE6gd6",
        "outputId": "032e0383-328c-4569-81a9-a99208581cf0"
      },
      "outputs": [
        {
          "data": {
            "text/plain": [
              "No                     5174\n",
              "2019-11-01 00:00:00     485\n",
              "2019-12-01 00:00:00     466\n",
              "2020-01-01 00:00:00     460\n",
              "2019-10-01 00:00:00     458\n",
              "Name: EndDate, dtype: int64"
            ]
          },
          "execution_count": 9,
          "metadata": {},
          "output_type": "execute_result"
        }
      ],
      "source": [
        "contract.EndDate.value_counts()"
      ]
    },
    {
      "cell_type": "code",
      "execution_count": null,
      "metadata": {
        "id": "hmhQvEx36gd7"
      },
      "outputs": [],
      "source": [
        "try:\n",
        "    personal = pd.read_csv('/content/drive/MyDrive/personal.csv')\n",
        "except:\n",
        "    personal = pd.read_csv('/datasets/final_provider/personal.csv')"
      ]
    },
    {
      "cell_type": "code",
      "execution_count": null,
      "metadata": {
        "colab": {
          "base_uri": "https://localhost:8080/",
          "height": 204
        },
        "id": "oaZDHy5K6gd7",
        "outputId": "3c53e1d9-f4b7-4107-9067-8566a9920f5d",
        "scrolled": true
      },
      "outputs": [
        {
          "data": {
            "text/html": [
              "<div>\n",
              "<style scoped>\n",
              "    .dataframe tbody tr th:only-of-type {\n",
              "        vertical-align: middle;\n",
              "    }\n",
              "\n",
              "    .dataframe tbody tr th {\n",
              "        vertical-align: top;\n",
              "    }\n",
              "\n",
              "    .dataframe thead th {\n",
              "        text-align: right;\n",
              "    }\n",
              "</style>\n",
              "<table border=\"1\" class=\"dataframe\">\n",
              "  <thead>\n",
              "    <tr style=\"text-align: right;\">\n",
              "      <th></th>\n",
              "      <th>customerID</th>\n",
              "      <th>gender</th>\n",
              "      <th>SeniorCitizen</th>\n",
              "      <th>Partner</th>\n",
              "      <th>Dependents</th>\n",
              "    </tr>\n",
              "  </thead>\n",
              "  <tbody>\n",
              "    <tr>\n",
              "      <th>3630</th>\n",
              "      <td>9986-BONCE</td>\n",
              "      <td>Female</td>\n",
              "      <td>0</td>\n",
              "      <td>No</td>\n",
              "      <td>No</td>\n",
              "    </tr>\n",
              "    <tr>\n",
              "      <th>2225</th>\n",
              "      <td>1153-GNOLC</td>\n",
              "      <td>Male</td>\n",
              "      <td>0</td>\n",
              "      <td>No</td>\n",
              "      <td>No</td>\n",
              "    </tr>\n",
              "    <tr>\n",
              "      <th>4915</th>\n",
              "      <td>2436-QBZFP</td>\n",
              "      <td>Female</td>\n",
              "      <td>0</td>\n",
              "      <td>Yes</td>\n",
              "      <td>Yes</td>\n",
              "    </tr>\n",
              "    <tr>\n",
              "      <th>6763</th>\n",
              "      <td>7471-MQPOS</td>\n",
              "      <td>Male</td>\n",
              "      <td>1</td>\n",
              "      <td>Yes</td>\n",
              "      <td>Yes</td>\n",
              "    </tr>\n",
              "    <tr>\n",
              "      <th>1444</th>\n",
              "      <td>5514-YQENT</td>\n",
              "      <td>Male</td>\n",
              "      <td>0</td>\n",
              "      <td>No</td>\n",
              "      <td>Yes</td>\n",
              "    </tr>\n",
              "  </tbody>\n",
              "</table>\n",
              "</div>"
            ],
            "text/plain": [
              "      customerID  gender  SeniorCitizen Partner Dependents\n",
              "3630  9986-BONCE  Female              0      No         No\n",
              "2225  1153-GNOLC    Male              0      No         No\n",
              "4915  2436-QBZFP  Female              0     Yes        Yes\n",
              "6763  7471-MQPOS    Male              1     Yes        Yes\n",
              "1444  5514-YQENT    Male              0      No        Yes"
            ]
          },
          "execution_count": 11,
          "metadata": {},
          "output_type": "execute_result"
        }
      ],
      "source": [
        "personal.sample(5)"
      ]
    },
    {
      "cell_type": "code",
      "execution_count": null,
      "metadata": {
        "colab": {
          "base_uri": "https://localhost:8080/"
        },
        "id": "FWQUX1996gd7",
        "outputId": "e1de0a65-c730-4731-fbe7-edc2cecd08b5"
      },
      "outputs": [
        {
          "name": "stdout",
          "output_type": "stream",
          "text": [
            "<class 'pandas.core.frame.DataFrame'>\n",
            "RangeIndex: 7043 entries, 0 to 7042\n",
            "Data columns (total 5 columns):\n",
            " #   Column         Non-Null Count  Dtype \n",
            "---  ------         --------------  ----- \n",
            " 0   customerID     7043 non-null   object\n",
            " 1   gender         7043 non-null   object\n",
            " 2   SeniorCitizen  7043 non-null   int64 \n",
            " 3   Partner        7043 non-null   object\n",
            " 4   Dependents     7043 non-null   object\n",
            "dtypes: int64(1), object(4)\n",
            "memory usage: 275.2+ KB\n"
          ]
        }
      ],
      "source": [
        "personal.info()"
      ]
    },
    {
      "cell_type": "code",
      "execution_count": null,
      "metadata": {
        "id": "awmT80O56gd8",
        "scrolled": true
      },
      "outputs": [],
      "source": [
        "try:\n",
        "    internet = pd.read_csv('/content/drive/MyDrive/internet.csv')\n",
        "except:\n",
        "    internet = pd.read_csv('/datasets/final_provider/internet.csv')"
      ]
    },
    {
      "cell_type": "code",
      "execution_count": null,
      "metadata": {
        "colab": {
          "base_uri": "https://localhost:8080/",
          "height": 204
        },
        "id": "Lss_12gr6gd8",
        "outputId": "43a129eb-c286-4fb5-c9e5-bca4b24c32e4",
        "scrolled": true
      },
      "outputs": [
        {
          "data": {
            "text/html": [
              "<div>\n",
              "<style scoped>\n",
              "    .dataframe tbody tr th:only-of-type {\n",
              "        vertical-align: middle;\n",
              "    }\n",
              "\n",
              "    .dataframe tbody tr th {\n",
              "        vertical-align: top;\n",
              "    }\n",
              "\n",
              "    .dataframe thead th {\n",
              "        text-align: right;\n",
              "    }\n",
              "</style>\n",
              "<table border=\"1\" class=\"dataframe\">\n",
              "  <thead>\n",
              "    <tr style=\"text-align: right;\">\n",
              "      <th></th>\n",
              "      <th>customerID</th>\n",
              "      <th>InternetService</th>\n",
              "      <th>OnlineSecurity</th>\n",
              "      <th>OnlineBackup</th>\n",
              "      <th>DeviceProtection</th>\n",
              "      <th>TechSupport</th>\n",
              "      <th>StreamingTV</th>\n",
              "      <th>StreamingMovies</th>\n",
              "    </tr>\n",
              "  </thead>\n",
              "  <tbody>\n",
              "    <tr>\n",
              "      <th>2765</th>\n",
              "      <td>9028-LIHRP</td>\n",
              "      <td>Fiber optic</td>\n",
              "      <td>Yes</td>\n",
              "      <td>Yes</td>\n",
              "      <td>Yes</td>\n",
              "      <td>Yes</td>\n",
              "      <td>Yes</td>\n",
              "      <td>No</td>\n",
              "    </tr>\n",
              "    <tr>\n",
              "      <th>901</th>\n",
              "      <td>3452-ABWRL</td>\n",
              "      <td>Fiber optic</td>\n",
              "      <td>No</td>\n",
              "      <td>No</td>\n",
              "      <td>No</td>\n",
              "      <td>No</td>\n",
              "      <td>Yes</td>\n",
              "      <td>No</td>\n",
              "    </tr>\n",
              "    <tr>\n",
              "      <th>1126</th>\n",
              "      <td>5223-UZAVK</td>\n",
              "      <td>Fiber optic</td>\n",
              "      <td>Yes</td>\n",
              "      <td>Yes</td>\n",
              "      <td>No</td>\n",
              "      <td>No</td>\n",
              "      <td>Yes</td>\n",
              "      <td>Yes</td>\n",
              "    </tr>\n",
              "    <tr>\n",
              "      <th>4965</th>\n",
              "      <td>7148-XZPHA</td>\n",
              "      <td>Fiber optic</td>\n",
              "      <td>No</td>\n",
              "      <td>Yes</td>\n",
              "      <td>No</td>\n",
              "      <td>Yes</td>\n",
              "      <td>No</td>\n",
              "      <td>No</td>\n",
              "    </tr>\n",
              "    <tr>\n",
              "      <th>1653</th>\n",
              "      <td>2190-BCXEC</td>\n",
              "      <td>Fiber optic</td>\n",
              "      <td>No</td>\n",
              "      <td>No</td>\n",
              "      <td>No</td>\n",
              "      <td>Yes</td>\n",
              "      <td>No</td>\n",
              "      <td>No</td>\n",
              "    </tr>\n",
              "  </tbody>\n",
              "</table>\n",
              "</div>"
            ],
            "text/plain": [
              "      customerID InternetService OnlineSecurity OnlineBackup DeviceProtection  \\\n",
              "2765  9028-LIHRP     Fiber optic            Yes          Yes              Yes   \n",
              "901   3452-ABWRL     Fiber optic             No           No               No   \n",
              "1126  5223-UZAVK     Fiber optic            Yes          Yes               No   \n",
              "4965  7148-XZPHA     Fiber optic             No          Yes               No   \n",
              "1653  2190-BCXEC     Fiber optic             No           No               No   \n",
              "\n",
              "     TechSupport StreamingTV StreamingMovies  \n",
              "2765         Yes         Yes              No  \n",
              "901           No         Yes              No  \n",
              "1126          No         Yes             Yes  \n",
              "4965         Yes          No              No  \n",
              "1653         Yes          No              No  "
            ]
          },
          "execution_count": 14,
          "metadata": {},
          "output_type": "execute_result"
        }
      ],
      "source": [
        "internet.sample(5)"
      ]
    },
    {
      "cell_type": "code",
      "execution_count": null,
      "metadata": {
        "colab": {
          "base_uri": "https://localhost:8080/"
        },
        "id": "vbYkWB2v6gd8",
        "outputId": "44b54000-f450-4e21-ace7-4e46e56e1852"
      },
      "outputs": [
        {
          "name": "stdout",
          "output_type": "stream",
          "text": [
            "<class 'pandas.core.frame.DataFrame'>\n",
            "RangeIndex: 5517 entries, 0 to 5516\n",
            "Data columns (total 8 columns):\n",
            " #   Column            Non-Null Count  Dtype \n",
            "---  ------            --------------  ----- \n",
            " 0   customerID        5517 non-null   object\n",
            " 1   InternetService   5517 non-null   object\n",
            " 2   OnlineSecurity    5517 non-null   object\n",
            " 3   OnlineBackup      5517 non-null   object\n",
            " 4   DeviceProtection  5517 non-null   object\n",
            " 5   TechSupport       5517 non-null   object\n",
            " 6   StreamingTV       5517 non-null   object\n",
            " 7   StreamingMovies   5517 non-null   object\n",
            "dtypes: object(8)\n",
            "memory usage: 344.9+ KB\n"
          ]
        }
      ],
      "source": [
        "internet.info()"
      ]
    },
    {
      "cell_type": "code",
      "execution_count": null,
      "metadata": {
        "id": "9NOR6C4e6gd9"
      },
      "outputs": [],
      "source": [
        "try:\n",
        "    phone = pd.read_csv('/content/drive/MyDrive/phone.csv')\n",
        "except:\n",
        "    phone = pd.read_csv('/datasets/final_provider/phone.csv')"
      ]
    },
    {
      "cell_type": "code",
      "execution_count": null,
      "metadata": {
        "colab": {
          "base_uri": "https://localhost:8080/",
          "height": 204
        },
        "id": "RbroyUNq6gd9",
        "outputId": "671324ed-e3ae-419b-e572-c296b4d0553c"
      },
      "outputs": [
        {
          "data": {
            "text/html": [
              "<div>\n",
              "<style scoped>\n",
              "    .dataframe tbody tr th:only-of-type {\n",
              "        vertical-align: middle;\n",
              "    }\n",
              "\n",
              "    .dataframe tbody tr th {\n",
              "        vertical-align: top;\n",
              "    }\n",
              "\n",
              "    .dataframe thead th {\n",
              "        text-align: right;\n",
              "    }\n",
              "</style>\n",
              "<table border=\"1\" class=\"dataframe\">\n",
              "  <thead>\n",
              "    <tr style=\"text-align: right;\">\n",
              "      <th></th>\n",
              "      <th>customerID</th>\n",
              "      <th>MultipleLines</th>\n",
              "    </tr>\n",
              "  </thead>\n",
              "  <tbody>\n",
              "    <tr>\n",
              "      <th>6311</th>\n",
              "      <td>5981-ZVXOT</td>\n",
              "      <td>Yes</td>\n",
              "    </tr>\n",
              "    <tr>\n",
              "      <th>4987</th>\n",
              "      <td>1976-CFOCS</td>\n",
              "      <td>No</td>\n",
              "    </tr>\n",
              "    <tr>\n",
              "      <th>707</th>\n",
              "      <td>5676-CFLYY</td>\n",
              "      <td>No</td>\n",
              "    </tr>\n",
              "    <tr>\n",
              "      <th>236</th>\n",
              "      <td>6323-AYBRX</td>\n",
              "      <td>No</td>\n",
              "    </tr>\n",
              "    <tr>\n",
              "      <th>4278</th>\n",
              "      <td>1928-BXYIV</td>\n",
              "      <td>Yes</td>\n",
              "    </tr>\n",
              "  </tbody>\n",
              "</table>\n",
              "</div>"
            ],
            "text/plain": [
              "      customerID MultipleLines\n",
              "6311  5981-ZVXOT           Yes\n",
              "4987  1976-CFOCS            No\n",
              "707   5676-CFLYY            No\n",
              "236   6323-AYBRX            No\n",
              "4278  1928-BXYIV           Yes"
            ]
          },
          "execution_count": 17,
          "metadata": {},
          "output_type": "execute_result"
        }
      ],
      "source": [
        "phone.sample(5)"
      ]
    },
    {
      "cell_type": "code",
      "execution_count": null,
      "metadata": {
        "colab": {
          "base_uri": "https://localhost:8080/"
        },
        "id": "LmoEMFh06gd9",
        "outputId": "11833c93-5d4b-4e26-eae8-1eae116635d2"
      },
      "outputs": [
        {
          "name": "stdout",
          "output_type": "stream",
          "text": [
            "<class 'pandas.core.frame.DataFrame'>\n",
            "RangeIndex: 6361 entries, 0 to 6360\n",
            "Data columns (total 2 columns):\n",
            " #   Column         Non-Null Count  Dtype \n",
            "---  ------         --------------  ----- \n",
            " 0   customerID     6361 non-null   object\n",
            " 1   MultipleLines  6361 non-null   object\n",
            "dtypes: object(2)\n",
            "memory usage: 99.5+ KB\n"
          ]
        }
      ],
      "source": [
        "phone.info()"
      ]
    },
    {
      "cell_type": "markdown",
      "metadata": {
        "id": "AiVw9QDN6gd-"
      },
      "source": [
        "После вывода информации по 4 таблицам, можно сказать, что пропуски отсутствуют. Пропуски появятся чуть позже, как только мы соединим таблицы, так как некоторые столбца уникальны и присутвуют только в некоторых таблицах."
      ]
    },
    {
      "cell_type": "code",
      "execution_count": null,
      "metadata": {
        "colab": {
          "base_uri": "https://localhost:8080/",
          "height": 333
        },
        "id": "6FM9mJM_6gd-",
        "outputId": "b8268933-1445-49d9-905f-b6ab563ee41c"
      },
      "outputs": [
        {
          "data": {
            "text/html": [
              "<div>\n",
              "<style scoped>\n",
              "    .dataframe tbody tr th:only-of-type {\n",
              "        vertical-align: middle;\n",
              "    }\n",
              "\n",
              "    .dataframe tbody tr th {\n",
              "        vertical-align: top;\n",
              "    }\n",
              "\n",
              "    .dataframe thead th {\n",
              "        text-align: right;\n",
              "    }\n",
              "</style>\n",
              "<table border=\"1\" class=\"dataframe\">\n",
              "  <thead>\n",
              "    <tr style=\"text-align: right;\">\n",
              "      <th></th>\n",
              "      <th>customerID</th>\n",
              "      <th>BeginDate</th>\n",
              "      <th>EndDate</th>\n",
              "      <th>Type</th>\n",
              "      <th>PaperlessBilling</th>\n",
              "      <th>PaymentMethod</th>\n",
              "      <th>MonthlyCharges</th>\n",
              "      <th>TotalCharges</th>\n",
              "      <th>gender</th>\n",
              "      <th>SeniorCitizen</th>\n",
              "      <th>Partner</th>\n",
              "      <th>Dependents</th>\n",
              "    </tr>\n",
              "  </thead>\n",
              "  <tbody>\n",
              "    <tr>\n",
              "      <th>0</th>\n",
              "      <td>7590-VHVEG</td>\n",
              "      <td>2020-01-01</td>\n",
              "      <td>No</td>\n",
              "      <td>Month-to-month</td>\n",
              "      <td>Yes</td>\n",
              "      <td>Electronic check</td>\n",
              "      <td>29.85</td>\n",
              "      <td>29.85</td>\n",
              "      <td>Female</td>\n",
              "      <td>0</td>\n",
              "      <td>Yes</td>\n",
              "      <td>No</td>\n",
              "    </tr>\n",
              "    <tr>\n",
              "      <th>1</th>\n",
              "      <td>5575-GNVDE</td>\n",
              "      <td>2017-04-01</td>\n",
              "      <td>No</td>\n",
              "      <td>One year</td>\n",
              "      <td>No</td>\n",
              "      <td>Mailed check</td>\n",
              "      <td>56.95</td>\n",
              "      <td>1889.5</td>\n",
              "      <td>Male</td>\n",
              "      <td>0</td>\n",
              "      <td>No</td>\n",
              "      <td>No</td>\n",
              "    </tr>\n",
              "    <tr>\n",
              "      <th>2</th>\n",
              "      <td>3668-QPYBK</td>\n",
              "      <td>2019-10-01</td>\n",
              "      <td>2019-12-01 00:00:00</td>\n",
              "      <td>Month-to-month</td>\n",
              "      <td>Yes</td>\n",
              "      <td>Mailed check</td>\n",
              "      <td>53.85</td>\n",
              "      <td>108.15</td>\n",
              "      <td>Male</td>\n",
              "      <td>0</td>\n",
              "      <td>No</td>\n",
              "      <td>No</td>\n",
              "    </tr>\n",
              "    <tr>\n",
              "      <th>3</th>\n",
              "      <td>7795-CFOCW</td>\n",
              "      <td>2016-05-01</td>\n",
              "      <td>No</td>\n",
              "      <td>One year</td>\n",
              "      <td>No</td>\n",
              "      <td>Bank transfer (automatic)</td>\n",
              "      <td>42.30</td>\n",
              "      <td>1840.75</td>\n",
              "      <td>Male</td>\n",
              "      <td>0</td>\n",
              "      <td>No</td>\n",
              "      <td>No</td>\n",
              "    </tr>\n",
              "    <tr>\n",
              "      <th>4</th>\n",
              "      <td>9237-HQITU</td>\n",
              "      <td>2019-09-01</td>\n",
              "      <td>2019-11-01 00:00:00</td>\n",
              "      <td>Month-to-month</td>\n",
              "      <td>Yes</td>\n",
              "      <td>Electronic check</td>\n",
              "      <td>70.70</td>\n",
              "      <td>151.65</td>\n",
              "      <td>Female</td>\n",
              "      <td>0</td>\n",
              "      <td>No</td>\n",
              "      <td>No</td>\n",
              "    </tr>\n",
              "  </tbody>\n",
              "</table>\n",
              "</div>"
            ],
            "text/plain": [
              "   customerID   BeginDate              EndDate            Type  \\\n",
              "0  7590-VHVEG  2020-01-01                   No  Month-to-month   \n",
              "1  5575-GNVDE  2017-04-01                   No        One year   \n",
              "2  3668-QPYBK  2019-10-01  2019-12-01 00:00:00  Month-to-month   \n",
              "3  7795-CFOCW  2016-05-01                   No        One year   \n",
              "4  9237-HQITU  2019-09-01  2019-11-01 00:00:00  Month-to-month   \n",
              "\n",
              "  PaperlessBilling              PaymentMethod  MonthlyCharges TotalCharges  \\\n",
              "0              Yes           Electronic check           29.85        29.85   \n",
              "1               No               Mailed check           56.95       1889.5   \n",
              "2              Yes               Mailed check           53.85       108.15   \n",
              "3               No  Bank transfer (automatic)           42.30      1840.75   \n",
              "4              Yes           Electronic check           70.70       151.65   \n",
              "\n",
              "   gender  SeniorCitizen Partner Dependents  \n",
              "0  Female              0     Yes         No  \n",
              "1    Male              0      No         No  \n",
              "2    Male              0      No         No  \n",
              "3    Male              0      No         No  \n",
              "4  Female              0      No         No  "
            ]
          },
          "execution_count": 19,
          "metadata": {},
          "output_type": "execute_result"
        }
      ],
      "source": [
        "telecom = contract.merge(right=personal, on='customerID', how='outer')\n",
        "telecom.head()"
      ]
    },
    {
      "cell_type": "code",
      "execution_count": null,
      "metadata": {
        "colab": {
          "base_uri": "https://localhost:8080/",
          "height": 404
        },
        "id": "tz3Y5Zrw6gd-",
        "outputId": "49657fa3-750a-46a6-cbad-138f9d09f067",
        "scrolled": true
      },
      "outputs": [
        {
          "data": {
            "text/html": [
              "<div>\n",
              "<style scoped>\n",
              "    .dataframe tbody tr th:only-of-type {\n",
              "        vertical-align: middle;\n",
              "    }\n",
              "\n",
              "    .dataframe tbody tr th {\n",
              "        vertical-align: top;\n",
              "    }\n",
              "\n",
              "    .dataframe thead th {\n",
              "        text-align: right;\n",
              "    }\n",
              "</style>\n",
              "<table border=\"1\" class=\"dataframe\">\n",
              "  <thead>\n",
              "    <tr style=\"text-align: right;\">\n",
              "      <th></th>\n",
              "      <th>customerID</th>\n",
              "      <th>BeginDate</th>\n",
              "      <th>EndDate</th>\n",
              "      <th>Type</th>\n",
              "      <th>PaperlessBilling</th>\n",
              "      <th>PaymentMethod</th>\n",
              "      <th>MonthlyCharges</th>\n",
              "      <th>TotalCharges</th>\n",
              "      <th>gender</th>\n",
              "      <th>SeniorCitizen</th>\n",
              "      <th>Partner</th>\n",
              "      <th>Dependents</th>\n",
              "      <th>MultipleLines</th>\n",
              "    </tr>\n",
              "  </thead>\n",
              "  <tbody>\n",
              "    <tr>\n",
              "      <th>0</th>\n",
              "      <td>7590-VHVEG</td>\n",
              "      <td>2020-01-01</td>\n",
              "      <td>No</td>\n",
              "      <td>Month-to-month</td>\n",
              "      <td>Yes</td>\n",
              "      <td>Electronic check</td>\n",
              "      <td>29.85</td>\n",
              "      <td>29.85</td>\n",
              "      <td>Female</td>\n",
              "      <td>0</td>\n",
              "      <td>Yes</td>\n",
              "      <td>No</td>\n",
              "      <td>NaN</td>\n",
              "    </tr>\n",
              "    <tr>\n",
              "      <th>1</th>\n",
              "      <td>5575-GNVDE</td>\n",
              "      <td>2017-04-01</td>\n",
              "      <td>No</td>\n",
              "      <td>One year</td>\n",
              "      <td>No</td>\n",
              "      <td>Mailed check</td>\n",
              "      <td>56.95</td>\n",
              "      <td>1889.5</td>\n",
              "      <td>Male</td>\n",
              "      <td>0</td>\n",
              "      <td>No</td>\n",
              "      <td>No</td>\n",
              "      <td>No</td>\n",
              "    </tr>\n",
              "    <tr>\n",
              "      <th>2</th>\n",
              "      <td>3668-QPYBK</td>\n",
              "      <td>2019-10-01</td>\n",
              "      <td>2019-12-01 00:00:00</td>\n",
              "      <td>Month-to-month</td>\n",
              "      <td>Yes</td>\n",
              "      <td>Mailed check</td>\n",
              "      <td>53.85</td>\n",
              "      <td>108.15</td>\n",
              "      <td>Male</td>\n",
              "      <td>0</td>\n",
              "      <td>No</td>\n",
              "      <td>No</td>\n",
              "      <td>No</td>\n",
              "    </tr>\n",
              "    <tr>\n",
              "      <th>3</th>\n",
              "      <td>7795-CFOCW</td>\n",
              "      <td>2016-05-01</td>\n",
              "      <td>No</td>\n",
              "      <td>One year</td>\n",
              "      <td>No</td>\n",
              "      <td>Bank transfer (automatic)</td>\n",
              "      <td>42.30</td>\n",
              "      <td>1840.75</td>\n",
              "      <td>Male</td>\n",
              "      <td>0</td>\n",
              "      <td>No</td>\n",
              "      <td>No</td>\n",
              "      <td>NaN</td>\n",
              "    </tr>\n",
              "    <tr>\n",
              "      <th>4</th>\n",
              "      <td>9237-HQITU</td>\n",
              "      <td>2019-09-01</td>\n",
              "      <td>2019-11-01 00:00:00</td>\n",
              "      <td>Month-to-month</td>\n",
              "      <td>Yes</td>\n",
              "      <td>Electronic check</td>\n",
              "      <td>70.70</td>\n",
              "      <td>151.65</td>\n",
              "      <td>Female</td>\n",
              "      <td>0</td>\n",
              "      <td>No</td>\n",
              "      <td>No</td>\n",
              "      <td>No</td>\n",
              "    </tr>\n",
              "  </tbody>\n",
              "</table>\n",
              "</div>"
            ],
            "text/plain": [
              "   customerID   BeginDate              EndDate            Type  \\\n",
              "0  7590-VHVEG  2020-01-01                   No  Month-to-month   \n",
              "1  5575-GNVDE  2017-04-01                   No        One year   \n",
              "2  3668-QPYBK  2019-10-01  2019-12-01 00:00:00  Month-to-month   \n",
              "3  7795-CFOCW  2016-05-01                   No        One year   \n",
              "4  9237-HQITU  2019-09-01  2019-11-01 00:00:00  Month-to-month   \n",
              "\n",
              "  PaperlessBilling              PaymentMethod  MonthlyCharges TotalCharges  \\\n",
              "0              Yes           Electronic check           29.85        29.85   \n",
              "1               No               Mailed check           56.95       1889.5   \n",
              "2              Yes               Mailed check           53.85       108.15   \n",
              "3               No  Bank transfer (automatic)           42.30      1840.75   \n",
              "4              Yes           Electronic check           70.70       151.65   \n",
              "\n",
              "   gender  SeniorCitizen Partner Dependents MultipleLines  \n",
              "0  Female              0     Yes         No           NaN  \n",
              "1    Male              0      No         No            No  \n",
              "2    Male              0      No         No            No  \n",
              "3    Male              0      No         No           NaN  \n",
              "4  Female              0      No         No            No  "
            ]
          },
          "execution_count": 20,
          "metadata": {},
          "output_type": "execute_result"
        }
      ],
      "source": [
        "telecom = telecom.merge(right=phone, on='customerID', how='outer')\n",
        "telecom.head()"
      ]
    },
    {
      "cell_type": "code",
      "execution_count": null,
      "metadata": {
        "colab": {
          "base_uri": "https://localhost:8080/",
          "height": 404
        },
        "id": "1hjZUpwEvKeJ",
        "outputId": "7f12e220-82bd-4d77-90a6-8ddf5b427234"
      },
      "outputs": [
        {
          "data": {
            "text/html": [
              "<div>\n",
              "<style scoped>\n",
              "    .dataframe tbody tr th:only-of-type {\n",
              "        vertical-align: middle;\n",
              "    }\n",
              "\n",
              "    .dataframe tbody tr th {\n",
              "        vertical-align: top;\n",
              "    }\n",
              "\n",
              "    .dataframe thead th {\n",
              "        text-align: right;\n",
              "    }\n",
              "</style>\n",
              "<table border=\"1\" class=\"dataframe\">\n",
              "  <thead>\n",
              "    <tr style=\"text-align: right;\">\n",
              "      <th></th>\n",
              "      <th>customerID</th>\n",
              "      <th>BeginDate</th>\n",
              "      <th>EndDate</th>\n",
              "      <th>Type</th>\n",
              "      <th>PaperlessBilling</th>\n",
              "      <th>PaymentMethod</th>\n",
              "      <th>MonthlyCharges</th>\n",
              "      <th>TotalCharges</th>\n",
              "      <th>gender</th>\n",
              "      <th>SeniorCitizen</th>\n",
              "      <th>Partner</th>\n",
              "      <th>Dependents</th>\n",
              "      <th>MultipleLines</th>\n",
              "      <th>InternetService</th>\n",
              "      <th>OnlineSecurity</th>\n",
              "      <th>OnlineBackup</th>\n",
              "      <th>DeviceProtection</th>\n",
              "      <th>TechSupport</th>\n",
              "      <th>StreamingTV</th>\n",
              "      <th>StreamingMovies</th>\n",
              "    </tr>\n",
              "  </thead>\n",
              "  <tbody>\n",
              "    <tr>\n",
              "      <th>0</th>\n",
              "      <td>7590-VHVEG</td>\n",
              "      <td>2020-01-01</td>\n",
              "      <td>No</td>\n",
              "      <td>Month-to-month</td>\n",
              "      <td>Yes</td>\n",
              "      <td>Electronic check</td>\n",
              "      <td>29.85</td>\n",
              "      <td>29.85</td>\n",
              "      <td>Female</td>\n",
              "      <td>0</td>\n",
              "      <td>Yes</td>\n",
              "      <td>No</td>\n",
              "      <td>NaN</td>\n",
              "      <td>DSL</td>\n",
              "      <td>No</td>\n",
              "      <td>Yes</td>\n",
              "      <td>No</td>\n",
              "      <td>No</td>\n",
              "      <td>No</td>\n",
              "      <td>No</td>\n",
              "    </tr>\n",
              "    <tr>\n",
              "      <th>1</th>\n",
              "      <td>5575-GNVDE</td>\n",
              "      <td>2017-04-01</td>\n",
              "      <td>No</td>\n",
              "      <td>One year</td>\n",
              "      <td>No</td>\n",
              "      <td>Mailed check</td>\n",
              "      <td>56.95</td>\n",
              "      <td>1889.5</td>\n",
              "      <td>Male</td>\n",
              "      <td>0</td>\n",
              "      <td>No</td>\n",
              "      <td>No</td>\n",
              "      <td>No</td>\n",
              "      <td>DSL</td>\n",
              "      <td>Yes</td>\n",
              "      <td>No</td>\n",
              "      <td>Yes</td>\n",
              "      <td>No</td>\n",
              "      <td>No</td>\n",
              "      <td>No</td>\n",
              "    </tr>\n",
              "    <tr>\n",
              "      <th>2</th>\n",
              "      <td>3668-QPYBK</td>\n",
              "      <td>2019-10-01</td>\n",
              "      <td>2019-12-01 00:00:00</td>\n",
              "      <td>Month-to-month</td>\n",
              "      <td>Yes</td>\n",
              "      <td>Mailed check</td>\n",
              "      <td>53.85</td>\n",
              "      <td>108.15</td>\n",
              "      <td>Male</td>\n",
              "      <td>0</td>\n",
              "      <td>No</td>\n",
              "      <td>No</td>\n",
              "      <td>No</td>\n",
              "      <td>DSL</td>\n",
              "      <td>Yes</td>\n",
              "      <td>Yes</td>\n",
              "      <td>No</td>\n",
              "      <td>No</td>\n",
              "      <td>No</td>\n",
              "      <td>No</td>\n",
              "    </tr>\n",
              "    <tr>\n",
              "      <th>3</th>\n",
              "      <td>7795-CFOCW</td>\n",
              "      <td>2016-05-01</td>\n",
              "      <td>No</td>\n",
              "      <td>One year</td>\n",
              "      <td>No</td>\n",
              "      <td>Bank transfer (automatic)</td>\n",
              "      <td>42.30</td>\n",
              "      <td>1840.75</td>\n",
              "      <td>Male</td>\n",
              "      <td>0</td>\n",
              "      <td>No</td>\n",
              "      <td>No</td>\n",
              "      <td>NaN</td>\n",
              "      <td>DSL</td>\n",
              "      <td>Yes</td>\n",
              "      <td>No</td>\n",
              "      <td>Yes</td>\n",
              "      <td>Yes</td>\n",
              "      <td>No</td>\n",
              "      <td>No</td>\n",
              "    </tr>\n",
              "    <tr>\n",
              "      <th>4</th>\n",
              "      <td>9237-HQITU</td>\n",
              "      <td>2019-09-01</td>\n",
              "      <td>2019-11-01 00:00:00</td>\n",
              "      <td>Month-to-month</td>\n",
              "      <td>Yes</td>\n",
              "      <td>Electronic check</td>\n",
              "      <td>70.70</td>\n",
              "      <td>151.65</td>\n",
              "      <td>Female</td>\n",
              "      <td>0</td>\n",
              "      <td>No</td>\n",
              "      <td>No</td>\n",
              "      <td>No</td>\n",
              "      <td>Fiber optic</td>\n",
              "      <td>No</td>\n",
              "      <td>No</td>\n",
              "      <td>No</td>\n",
              "      <td>No</td>\n",
              "      <td>No</td>\n",
              "      <td>No</td>\n",
              "    </tr>\n",
              "  </tbody>\n",
              "</table>\n",
              "</div>"
            ],
            "text/plain": [
              "   customerID   BeginDate              EndDate            Type  \\\n",
              "0  7590-VHVEG  2020-01-01                   No  Month-to-month   \n",
              "1  5575-GNVDE  2017-04-01                   No        One year   \n",
              "2  3668-QPYBK  2019-10-01  2019-12-01 00:00:00  Month-to-month   \n",
              "3  7795-CFOCW  2016-05-01                   No        One year   \n",
              "4  9237-HQITU  2019-09-01  2019-11-01 00:00:00  Month-to-month   \n",
              "\n",
              "  PaperlessBilling              PaymentMethod  MonthlyCharges TotalCharges  \\\n",
              "0              Yes           Electronic check           29.85        29.85   \n",
              "1               No               Mailed check           56.95       1889.5   \n",
              "2              Yes               Mailed check           53.85       108.15   \n",
              "3               No  Bank transfer (automatic)           42.30      1840.75   \n",
              "4              Yes           Electronic check           70.70       151.65   \n",
              "\n",
              "   gender  SeniorCitizen Partner Dependents MultipleLines InternetService  \\\n",
              "0  Female              0     Yes         No           NaN             DSL   \n",
              "1    Male              0      No         No            No             DSL   \n",
              "2    Male              0      No         No            No             DSL   \n",
              "3    Male              0      No         No           NaN             DSL   \n",
              "4  Female              0      No         No            No     Fiber optic   \n",
              "\n",
              "  OnlineSecurity OnlineBackup DeviceProtection TechSupport StreamingTV  \\\n",
              "0             No          Yes               No          No          No   \n",
              "1            Yes           No              Yes          No          No   \n",
              "2            Yes          Yes               No          No          No   \n",
              "3            Yes           No              Yes         Yes          No   \n",
              "4             No           No               No          No          No   \n",
              "\n",
              "  StreamingMovies  \n",
              "0              No  \n",
              "1              No  \n",
              "2              No  \n",
              "3              No  \n",
              "4              No  "
            ]
          },
          "execution_count": 21,
          "metadata": {},
          "output_type": "execute_result"
        }
      ],
      "source": [
        "telecom = telecom.merge(right=internet, on='customerID', how='outer')\n",
        "telecom.head()"
      ]
    },
    {
      "cell_type": "code",
      "execution_count": null,
      "metadata": {
        "colab": {
          "base_uri": "https://localhost:8080/"
        },
        "id": "r7qHTrTV6gd_",
        "outputId": "61a4787f-3d65-4bc9-ba13-37e4cdadc3f6"
      },
      "outputs": [
        {
          "name": "stdout",
          "output_type": "stream",
          "text": [
            "<class 'pandas.core.frame.DataFrame'>\n",
            "Int64Index: 7043 entries, 0 to 7042\n",
            "Data columns (total 20 columns):\n",
            " #   Column            Non-Null Count  Dtype  \n",
            "---  ------            --------------  -----  \n",
            " 0   customerID        7043 non-null   object \n",
            " 1   BeginDate         7043 non-null   object \n",
            " 2   EndDate           7043 non-null   object \n",
            " 3   Type              7043 non-null   object \n",
            " 4   PaperlessBilling  7043 non-null   object \n",
            " 5   PaymentMethod     7043 non-null   object \n",
            " 6   MonthlyCharges    7043 non-null   float64\n",
            " 7   TotalCharges      7043 non-null   object \n",
            " 8   gender            7043 non-null   object \n",
            " 9   SeniorCitizen     7043 non-null   int64  \n",
            " 10  Partner           7043 non-null   object \n",
            " 11  Dependents        7043 non-null   object \n",
            " 12  MultipleLines     6361 non-null   object \n",
            " 13  InternetService   5517 non-null   object \n",
            " 14  OnlineSecurity    5517 non-null   object \n",
            " 15  OnlineBackup      5517 non-null   object \n",
            " 16  DeviceProtection  5517 non-null   object \n",
            " 17  TechSupport       5517 non-null   object \n",
            " 18  StreamingTV       5517 non-null   object \n",
            " 19  StreamingMovies   5517 non-null   object \n",
            "dtypes: float64(1), int64(1), object(18)\n",
            "memory usage: 1.1+ MB\n"
          ]
        }
      ],
      "source": [
        "telecom.info()"
      ]
    },
    {
      "cell_type": "markdown",
      "metadata": {
        "id": "NG84Tj7-6gd_"
      },
      "source": [
        "##План работы"
      ]
    },
    {
      "cell_type": "markdown",
      "metadata": {
        "id": "4tzgHXky6gd_"
      },
      "source": [
        "* Предобработка данных - удалить не нужные колонки, заполнить пропуски, провести исследовательский анализ и избавиться от выбросов если есть\n",
        "* Выбрать критерии, которые влияют на то, уйдет клиент или нет. Выделить целевой признак из даты EndDate, отдельным столбцом ушел ли человек или нет 1 или 0. Поделить данные на features и target\n",
        "* Поделить features на обучающую и тестовую выборки в стандартом соотношении 0,75 - 0,25\n",
        "* Произвести кодирование признаков, так как у нас задача классификации, то кодирование будет OHE\n",
        "* Определить гиперпараметры с помощью кроссвалидации или Grid Search\n",
        "* Обучить три модели, рассчитать ROC AUC и Accuracy \n",
        "* Модель, показавшуюю лучшие значения ROC AUC проверить на тестовой выборке\n",
        "* Анализ финальной модели"
      ]
    },
    {
      "cell_type": "code",
      "execution_count": null,
      "metadata": {
        "colab": {
          "base_uri": "https://localhost:8080/",
          "height": 729
        },
        "id": "I3eguv7g6geA",
        "outputId": "c90fb34c-2ceb-45b2-aa42-435cf8d33ff8",
        "scrolled": true
      },
      "outputs": [
        {
          "data": {
            "text/html": [
              "<div>\n",
              "<style scoped>\n",
              "    .dataframe tbody tr th:only-of-type {\n",
              "        vertical-align: middle;\n",
              "    }\n",
              "\n",
              "    .dataframe tbody tr th {\n",
              "        vertical-align: top;\n",
              "    }\n",
              "\n",
              "    .dataframe thead th {\n",
              "        text-align: right;\n",
              "    }\n",
              "</style>\n",
              "<table border=\"1\" class=\"dataframe\">\n",
              "  <thead>\n",
              "    <tr style=\"text-align: right;\">\n",
              "      <th></th>\n",
              "      <th>customerID</th>\n",
              "      <th>BeginDate</th>\n",
              "      <th>EndDate</th>\n",
              "      <th>Type</th>\n",
              "      <th>PaperlessBilling</th>\n",
              "      <th>PaymentMethod</th>\n",
              "      <th>MonthlyCharges</th>\n",
              "      <th>TotalCharges</th>\n",
              "      <th>gender</th>\n",
              "      <th>SeniorCitizen</th>\n",
              "      <th>Partner</th>\n",
              "      <th>Dependents</th>\n",
              "      <th>MultipleLines</th>\n",
              "      <th>InternetService</th>\n",
              "      <th>OnlineSecurity</th>\n",
              "      <th>OnlineBackup</th>\n",
              "      <th>DeviceProtection</th>\n",
              "      <th>TechSupport</th>\n",
              "      <th>StreamingTV</th>\n",
              "      <th>StreamingMovies</th>\n",
              "    </tr>\n",
              "  </thead>\n",
              "  <tbody>\n",
              "    <tr>\n",
              "      <th>934</th>\n",
              "      <td>4198-VFOEA</td>\n",
              "      <td>2019-02-01</td>\n",
              "      <td>No</td>\n",
              "      <td>One year</td>\n",
              "      <td>Yes</td>\n",
              "      <td>Mailed check</td>\n",
              "      <td>33.60</td>\n",
              "      <td>435.45</td>\n",
              "      <td>Female</td>\n",
              "      <td>0</td>\n",
              "      <td>No</td>\n",
              "      <td>No</td>\n",
              "      <td>NaN</td>\n",
              "      <td>DSL</td>\n",
              "      <td>Yes</td>\n",
              "      <td>No</td>\n",
              "      <td>No</td>\n",
              "      <td>Yes</td>\n",
              "      <td>No</td>\n",
              "      <td>No</td>\n",
              "    </tr>\n",
              "    <tr>\n",
              "      <th>1445</th>\n",
              "      <td>3211-AAPKX</td>\n",
              "      <td>2018-06-01</td>\n",
              "      <td>No</td>\n",
              "      <td>Month-to-month</td>\n",
              "      <td>Yes</td>\n",
              "      <td>Mailed check</td>\n",
              "      <td>98.55</td>\n",
              "      <td>2031.95</td>\n",
              "      <td>Male</td>\n",
              "      <td>0</td>\n",
              "      <td>No</td>\n",
              "      <td>No</td>\n",
              "      <td>Yes</td>\n",
              "      <td>Fiber optic</td>\n",
              "      <td>No</td>\n",
              "      <td>No</td>\n",
              "      <td>No</td>\n",
              "      <td>Yes</td>\n",
              "      <td>Yes</td>\n",
              "      <td>Yes</td>\n",
              "    </tr>\n",
              "    <tr>\n",
              "      <th>169</th>\n",
              "      <td>1159-WFSGR</td>\n",
              "      <td>2018-10-01</td>\n",
              "      <td>No</td>\n",
              "      <td>Month-to-month</td>\n",
              "      <td>No</td>\n",
              "      <td>Electronic check</td>\n",
              "      <td>20.40</td>\n",
              "      <td>321.4</td>\n",
              "      <td>Female</td>\n",
              "      <td>0</td>\n",
              "      <td>Yes</td>\n",
              "      <td>Yes</td>\n",
              "      <td>No</td>\n",
              "      <td>NaN</td>\n",
              "      <td>NaN</td>\n",
              "      <td>NaN</td>\n",
              "      <td>NaN</td>\n",
              "      <td>NaN</td>\n",
              "      <td>NaN</td>\n",
              "      <td>NaN</td>\n",
              "    </tr>\n",
              "    <tr>\n",
              "      <th>4641</th>\n",
              "      <td>9895-VFOXH</td>\n",
              "      <td>2020-01-01</td>\n",
              "      <td>No</td>\n",
              "      <td>Month-to-month</td>\n",
              "      <td>No</td>\n",
              "      <td>Mailed check</td>\n",
              "      <td>24.40</td>\n",
              "      <td>24.4</td>\n",
              "      <td>Female</td>\n",
              "      <td>0</td>\n",
              "      <td>No</td>\n",
              "      <td>No</td>\n",
              "      <td>NaN</td>\n",
              "      <td>DSL</td>\n",
              "      <td>No</td>\n",
              "      <td>No</td>\n",
              "      <td>No</td>\n",
              "      <td>No</td>\n",
              "      <td>No</td>\n",
              "      <td>No</td>\n",
              "    </tr>\n",
              "    <tr>\n",
              "      <th>5996</th>\n",
              "      <td>5656-JAMLX</td>\n",
              "      <td>2014-12-01</td>\n",
              "      <td>No</td>\n",
              "      <td>Two year</td>\n",
              "      <td>No</td>\n",
              "      <td>Bank transfer (automatic)</td>\n",
              "      <td>19.85</td>\n",
              "      <td>1253.65</td>\n",
              "      <td>Male</td>\n",
              "      <td>0</td>\n",
              "      <td>No</td>\n",
              "      <td>No</td>\n",
              "      <td>No</td>\n",
              "      <td>NaN</td>\n",
              "      <td>NaN</td>\n",
              "      <td>NaN</td>\n",
              "      <td>NaN</td>\n",
              "      <td>NaN</td>\n",
              "      <td>NaN</td>\n",
              "      <td>NaN</td>\n",
              "    </tr>\n",
              "    <tr>\n",
              "      <th>39</th>\n",
              "      <td>8168-UQWWF</td>\n",
              "      <td>2018-12-01</td>\n",
              "      <td>2019-11-01 00:00:00</td>\n",
              "      <td>Month-to-month</td>\n",
              "      <td>Yes</td>\n",
              "      <td>Bank transfer (automatic)</td>\n",
              "      <td>97.85</td>\n",
              "      <td>1105.4</td>\n",
              "      <td>Female</td>\n",
              "      <td>0</td>\n",
              "      <td>No</td>\n",
              "      <td>No</td>\n",
              "      <td>Yes</td>\n",
              "      <td>Fiber optic</td>\n",
              "      <td>No</td>\n",
              "      <td>No</td>\n",
              "      <td>Yes</td>\n",
              "      <td>No</td>\n",
              "      <td>Yes</td>\n",
              "      <td>Yes</td>\n",
              "    </tr>\n",
              "    <tr>\n",
              "      <th>1708</th>\n",
              "      <td>8640-SDGKB</td>\n",
              "      <td>2019-08-01</td>\n",
              "      <td>2019-12-01 00:00:00</td>\n",
              "      <td>Month-to-month</td>\n",
              "      <td>Yes</td>\n",
              "      <td>Electronic check</td>\n",
              "      <td>74.40</td>\n",
              "      <td>299.7</td>\n",
              "      <td>Male</td>\n",
              "      <td>0</td>\n",
              "      <td>No</td>\n",
              "      <td>No</td>\n",
              "      <td>No</td>\n",
              "      <td>DSL</td>\n",
              "      <td>No</td>\n",
              "      <td>No</td>\n",
              "      <td>Yes</td>\n",
              "      <td>Yes</td>\n",
              "      <td>Yes</td>\n",
              "      <td>Yes</td>\n",
              "    </tr>\n",
              "    <tr>\n",
              "      <th>3903</th>\n",
              "      <td>5206-XZZQI</td>\n",
              "      <td>2015-09-01</td>\n",
              "      <td>No</td>\n",
              "      <td>Month-to-month</td>\n",
              "      <td>Yes</td>\n",
              "      <td>Mailed check</td>\n",
              "      <td>80.60</td>\n",
              "      <td>4348.1</td>\n",
              "      <td>Male</td>\n",
              "      <td>0</td>\n",
              "      <td>No</td>\n",
              "      <td>No</td>\n",
              "      <td>No</td>\n",
              "      <td>Fiber optic</td>\n",
              "      <td>No</td>\n",
              "      <td>Yes</td>\n",
              "      <td>No</td>\n",
              "      <td>Yes</td>\n",
              "      <td>No</td>\n",
              "      <td>No</td>\n",
              "    </tr>\n",
              "    <tr>\n",
              "      <th>1868</th>\n",
              "      <td>3961-SXAXY</td>\n",
              "      <td>2020-01-01</td>\n",
              "      <td>No</td>\n",
              "      <td>Month-to-month</td>\n",
              "      <td>Yes</td>\n",
              "      <td>Bank transfer (automatic)</td>\n",
              "      <td>44.05</td>\n",
              "      <td>44.05</td>\n",
              "      <td>Male</td>\n",
              "      <td>0</td>\n",
              "      <td>No</td>\n",
              "      <td>No</td>\n",
              "      <td>No</td>\n",
              "      <td>DSL</td>\n",
              "      <td>No</td>\n",
              "      <td>No</td>\n",
              "      <td>No</td>\n",
              "      <td>No</td>\n",
              "      <td>No</td>\n",
              "      <td>No</td>\n",
              "    </tr>\n",
              "    <tr>\n",
              "      <th>5733</th>\n",
              "      <td>4817-KEQSP</td>\n",
              "      <td>2014-03-01</td>\n",
              "      <td>No</td>\n",
              "      <td>Two year</td>\n",
              "      <td>No</td>\n",
              "      <td>Bank transfer (automatic)</td>\n",
              "      <td>19.85</td>\n",
              "      <td>1326.35</td>\n",
              "      <td>Female</td>\n",
              "      <td>0</td>\n",
              "      <td>Yes</td>\n",
              "      <td>Yes</td>\n",
              "      <td>No</td>\n",
              "      <td>NaN</td>\n",
              "      <td>NaN</td>\n",
              "      <td>NaN</td>\n",
              "      <td>NaN</td>\n",
              "      <td>NaN</td>\n",
              "      <td>NaN</td>\n",
              "      <td>NaN</td>\n",
              "    </tr>\n",
              "  </tbody>\n",
              "</table>\n",
              "</div>"
            ],
            "text/plain": [
              "      customerID   BeginDate              EndDate            Type  \\\n",
              "934   4198-VFOEA  2019-02-01                   No        One year   \n",
              "1445  3211-AAPKX  2018-06-01                   No  Month-to-month   \n",
              "169   1159-WFSGR  2018-10-01                   No  Month-to-month   \n",
              "4641  9895-VFOXH  2020-01-01                   No  Month-to-month   \n",
              "5996  5656-JAMLX  2014-12-01                   No        Two year   \n",
              "39    8168-UQWWF  2018-12-01  2019-11-01 00:00:00  Month-to-month   \n",
              "1708  8640-SDGKB  2019-08-01  2019-12-01 00:00:00  Month-to-month   \n",
              "3903  5206-XZZQI  2015-09-01                   No  Month-to-month   \n",
              "1868  3961-SXAXY  2020-01-01                   No  Month-to-month   \n",
              "5733  4817-KEQSP  2014-03-01                   No        Two year   \n",
              "\n",
              "     PaperlessBilling              PaymentMethod  MonthlyCharges TotalCharges  \\\n",
              "934               Yes               Mailed check           33.60       435.45   \n",
              "1445              Yes               Mailed check           98.55      2031.95   \n",
              "169                No           Electronic check           20.40        321.4   \n",
              "4641               No               Mailed check           24.40         24.4   \n",
              "5996               No  Bank transfer (automatic)           19.85      1253.65   \n",
              "39                Yes  Bank transfer (automatic)           97.85       1105.4   \n",
              "1708              Yes           Electronic check           74.40        299.7   \n",
              "3903              Yes               Mailed check           80.60       4348.1   \n",
              "1868              Yes  Bank transfer (automatic)           44.05        44.05   \n",
              "5733               No  Bank transfer (automatic)           19.85      1326.35   \n",
              "\n",
              "      gender  SeniorCitizen Partner Dependents MultipleLines InternetService  \\\n",
              "934   Female              0      No         No           NaN             DSL   \n",
              "1445    Male              0      No         No           Yes     Fiber optic   \n",
              "169   Female              0     Yes        Yes            No             NaN   \n",
              "4641  Female              0      No         No           NaN             DSL   \n",
              "5996    Male              0      No         No            No             NaN   \n",
              "39    Female              0      No         No           Yes     Fiber optic   \n",
              "1708    Male              0      No         No            No             DSL   \n",
              "3903    Male              0      No         No            No     Fiber optic   \n",
              "1868    Male              0      No         No            No             DSL   \n",
              "5733  Female              0     Yes        Yes            No             NaN   \n",
              "\n",
              "     OnlineSecurity OnlineBackup DeviceProtection TechSupport StreamingTV  \\\n",
              "934             Yes           No               No         Yes          No   \n",
              "1445             No           No               No         Yes         Yes   \n",
              "169             NaN          NaN              NaN         NaN         NaN   \n",
              "4641             No           No               No          No          No   \n",
              "5996            NaN          NaN              NaN         NaN         NaN   \n",
              "39               No           No              Yes          No         Yes   \n",
              "1708             No           No              Yes         Yes         Yes   \n",
              "3903             No          Yes               No         Yes          No   \n",
              "1868             No           No               No          No          No   \n",
              "5733            NaN          NaN              NaN         NaN         NaN   \n",
              "\n",
              "     StreamingMovies  \n",
              "934               No  \n",
              "1445             Yes  \n",
              "169              NaN  \n",
              "4641              No  \n",
              "5996             NaN  \n",
              "39               Yes  \n",
              "1708             Yes  \n",
              "3903              No  \n",
              "1868              No  \n",
              "5733             NaN  "
            ]
          },
          "execution_count": 23,
          "metadata": {},
          "output_type": "execute_result"
        }
      ],
      "source": [
        "telecom.sample(10)"
      ]
    },
    {
      "cell_type": "markdown",
      "metadata": {
        "id": "ayJR-MvJr-pr"
      },
      "source": [
        "### Переименуем столбцы, чтобы было проще с ними работать"
      ]
    },
    {
      "cell_type": "code",
      "execution_count": null,
      "metadata": {
        "colab": {
          "base_uri": "https://localhost:8080/"
        },
        "id": "zBmVgkDg6geA",
        "outputId": "45c35df6-0927-4e45-8d28-d0ec472c8b21"
      },
      "outputs": [
        {
          "data": {
            "text/plain": [
              "Index(['customerID', 'BeginDate', 'EndDate', 'Type', 'PaperlessBilling',\n",
              "       'PaymentMethod', 'MonthlyCharges', 'TotalCharges', 'gender',\n",
              "       'SeniorCitizen', 'Partner', 'Dependents', 'MultipleLines',\n",
              "       'InternetService', 'OnlineSecurity', 'OnlineBackup', 'DeviceProtection',\n",
              "       'TechSupport', 'StreamingTV', 'StreamingMovies'],\n",
              "      dtype='object')"
            ]
          },
          "execution_count": 24,
          "metadata": {},
          "output_type": "execute_result"
        }
      ],
      "source": [
        "telecom.columns"
      ]
    },
    {
      "cell_type": "code",
      "execution_count": null,
      "metadata": {
        "id": "OoeOSQOQ6geB"
      },
      "outputs": [],
      "source": [
        "telecom = telecom.rename(columns = {'customerID':'customer_id', 'BeginDate':'begin_date', 'EndDate':'end_date',\n",
        "                          'Type':'type', 'PaperlessBilling':'paperless', 'PaymentMethod':'pay_method',\n",
        "                          'MonthlyCharges':'month_charge', 'TotalCharges':'total_charge',\n",
        "                          'SeniorCitizen':'citizen', 'Partner':'partner', 'Dependents':'dependents',\n",
        "                          'MultipleLines':'multiple','InternetService':'internet', 'OnlineSecurity':'security',\n",
        "                          'OnlineBackup':'backup', 'DeviceProtection':'protection','TechSupport':'tech_support',\n",
        "                          'StreamingTV':'TV', 'StreamingMovies':'movies'})"
      ]
    },
    {
      "cell_type": "code",
      "execution_count": null,
      "metadata": {
        "colab": {
          "base_uri": "https://localhost:8080/"
        },
        "id": "AYKALWwF6geB",
        "outputId": "17fd1118-4a43-49a4-b484-b62158c96829"
      },
      "outputs": [
        {
          "name": "stdout",
          "output_type": "stream",
          "text": [
            "<class 'pandas.core.frame.DataFrame'>\n",
            "Int64Index: 7043 entries, 0 to 7042\n",
            "Data columns (total 20 columns):\n",
            " #   Column        Non-Null Count  Dtype  \n",
            "---  ------        --------------  -----  \n",
            " 0   customer_id   7043 non-null   object \n",
            " 1   begin_date    7043 non-null   object \n",
            " 2   end_date      7043 non-null   object \n",
            " 3   type          7043 non-null   object \n",
            " 4   paperless     7043 non-null   object \n",
            " 5   pay_method    7043 non-null   object \n",
            " 6   month_charge  7043 non-null   float64\n",
            " 7   total_charge  7043 non-null   object \n",
            " 8   gender        7043 non-null   object \n",
            " 9   citizen       7043 non-null   int64  \n",
            " 10  partner       7043 non-null   object \n",
            " 11  dependents    7043 non-null   object \n",
            " 12  multiple      6361 non-null   object \n",
            " 13  internet      5517 non-null   object \n",
            " 14  security      5517 non-null   object \n",
            " 15  backup        5517 non-null   object \n",
            " 16  protection    5517 non-null   object \n",
            " 17  tech_support  5517 non-null   object \n",
            " 18  TV            5517 non-null   object \n",
            " 19  movies        5517 non-null   object \n",
            "dtypes: float64(1), int64(1), object(18)\n",
            "memory usage: 1.1+ MB\n"
          ]
        }
      ],
      "source": [
        "telecom.info() "
      ]
    },
    {
      "cell_type": "markdown",
      "metadata": {
        "id": "VnBMn7Zrsfxp"
      },
      "source": [
        "### Заполним образовавшиеся при присоединении пропуски 'No'"
      ]
    },
    {
      "cell_type": "code",
      "execution_count": null,
      "metadata": {
        "colab": {
          "base_uri": "https://localhost:8080/"
        },
        "id": "3Mw80ZJml6eO",
        "outputId": "53058c53-1482-43f2-de27-79493d297785"
      },
      "outputs": [
        {
          "data": {
            "text/plain": [
              "Fiber optic    3096\n",
              "DSL            2421\n",
              "Name: internet, dtype: int64"
            ]
          },
          "execution_count": 27,
          "metadata": {},
          "output_type": "execute_result"
        }
      ],
      "source": [
        "telecom.internet.value_counts()"
      ]
    },
    {
      "cell_type": "code",
      "execution_count": null,
      "metadata": {
        "colab": {
          "base_uri": "https://localhost:8080/"
        },
        "id": "RY9yz2Xwl6be",
        "outputId": "59de977d-b106-45ed-a1f7-9f46e426a311"
      },
      "outputs": [
        {
          "data": {
            "text/plain": [
              "array(['DSL', 'Fiber optic', nan], dtype=object)"
            ]
          },
          "execution_count": 28,
          "metadata": {},
          "output_type": "execute_result"
        }
      ],
      "source": [
        "telecom.internet.unique()"
      ]
    },
    {
      "cell_type": "code",
      "execution_count": null,
      "metadata": {
        "id": "ATYzFdDjl6Ht"
      },
      "outputs": [],
      "source": [
        "#telecom.internet = telecom.internet.fillna('DSL')"
      ]
    },
    {
      "cell_type": "code",
      "execution_count": null,
      "metadata": {
        "colab": {
          "base_uri": "https://localhost:8080/"
        },
        "id": "jXswBqG0l6El",
        "outputId": "b62ea1eb-6622-4903-8d5a-1cc889393a05"
      },
      "outputs": [
        {
          "data": {
            "text/plain": [
              "Fiber optic    3096\n",
              "DSL            2421\n",
              "Name: internet, dtype: int64"
            ]
          },
          "execution_count": 30,
          "metadata": {},
          "output_type": "execute_result"
        }
      ],
      "source": [
        "telecom.internet.value_counts()"
      ]
    },
    {
      "cell_type": "code",
      "execution_count": null,
      "metadata": {
        "colab": {
          "base_uri": "https://localhost:8080/"
        },
        "id": "cljKeCk9l6CS",
        "outputId": "6c320f12-3f31-4570-df24-01c80dca81ce"
      },
      "outputs": [
        {
          "data": {
            "text/plain": [
              "No     3498\n",
              "Yes    2019\n",
              "Name: security, dtype: int64"
            ]
          },
          "execution_count": 31,
          "metadata": {},
          "output_type": "execute_result"
        }
      ],
      "source": [
        "telecom.security.value_counts()"
      ]
    },
    {
      "cell_type": "code",
      "execution_count": null,
      "metadata": {
        "colab": {
          "base_uri": "https://localhost:8080/"
        },
        "id": "6GP38BeXl6AU",
        "outputId": "7b041a11-ac7f-4b3b-ce40-0367fe3fb62b"
      },
      "outputs": [
        {
          "data": {
            "text/plain": [
              "array(['No', 'Yes', nan], dtype=object)"
            ]
          },
          "execution_count": 32,
          "metadata": {},
          "output_type": "execute_result"
        }
      ],
      "source": [
        "telecom.security.unique()"
      ]
    },
    {
      "cell_type": "code",
      "execution_count": null,
      "metadata": {
        "id": "VKH2cK1Tl55a"
      },
      "outputs": [],
      "source": [
        "telecom.internet = telecom.internet.fillna('other')"
      ]
    },
    {
      "cell_type": "code",
      "execution_count": null,
      "metadata": {
        "id": "Wu7vHCsHp39t"
      },
      "outputs": [],
      "source": [
        "telecom.multiple = telecom.multiple.fillna('No')"
      ]
    },
    {
      "cell_type": "code",
      "execution_count": null,
      "metadata": {
        "colab": {
          "base_uri": "https://localhost:8080/"
        },
        "id": "Gg6OL_ZdqrJH",
        "outputId": "09f5c236-1b62-4062-c08a-20aef74650f7"
      },
      "outputs": [
        {
          "data": {
            "text/plain": [
              "No     3498\n",
              "Yes    2019\n",
              "Name: security, dtype: int64"
            ]
          },
          "execution_count": 35,
          "metadata": {},
          "output_type": "execute_result"
        }
      ],
      "source": [
        "telecom.security.value_counts()"
      ]
    },
    {
      "cell_type": "code",
      "execution_count": null,
      "metadata": {
        "colab": {
          "base_uri": "https://localhost:8080/"
        },
        "id": "mGrTbr8wqykW",
        "outputId": "d5dcf2a5-ea87-434e-e490-22c5f88b5d07"
      },
      "outputs": [
        {
          "data": {
            "text/plain": [
              "No     3088\n",
              "Yes    2429\n",
              "Name: backup, dtype: int64"
            ]
          },
          "execution_count": 36,
          "metadata": {},
          "output_type": "execute_result"
        }
      ],
      "source": [
        "telecom.backup.value_counts()"
      ]
    },
    {
      "cell_type": "code",
      "execution_count": null,
      "metadata": {
        "id": "VtjiVwJ4qhKa"
      },
      "outputs": [],
      "source": [
        "telecom.security = telecom.security.fillna('No')"
      ]
    },
    {
      "cell_type": "code",
      "execution_count": null,
      "metadata": {
        "id": "oRquZtAfsJSF"
      },
      "outputs": [],
      "source": [
        "telecom.backup = telecom.backup.fillna('No')"
      ]
    },
    {
      "cell_type": "code",
      "execution_count": null,
      "metadata": {
        "colab": {
          "base_uri": "https://localhost:8080/"
        },
        "id": "9yNCBp-LsQSj",
        "outputId": "f25276f2-8573-49f4-d0c2-38c6b8dae8ad"
      },
      "outputs": [
        {
          "data": {
            "text/plain": [
              "No     3095\n",
              "Yes    2422\n",
              "Name: protection, dtype: int64"
            ]
          },
          "execution_count": 39,
          "metadata": {},
          "output_type": "execute_result"
        }
      ],
      "source": [
        "telecom.protection.value_counts()"
      ]
    },
    {
      "cell_type": "code",
      "execution_count": null,
      "metadata": {
        "id": "LjeRzVe67cW6"
      },
      "outputs": [],
      "source": [
        "telecom.protection = telecom.protection.fillna('No')"
      ]
    },
    {
      "cell_type": "code",
      "execution_count": null,
      "metadata": {
        "id": "gpxgtg_c7c6a"
      },
      "outputs": [],
      "source": [
        "telecom.tech_support = telecom.tech_support.fillna('No')"
      ]
    },
    {
      "cell_type": "code",
      "execution_count": null,
      "metadata": {
        "id": "zz90H3kH7dam"
      },
      "outputs": [],
      "source": [
        "telecom.TV = telecom.TV.fillna('No')"
      ]
    },
    {
      "cell_type": "code",
      "execution_count": null,
      "metadata": {
        "id": "rPC8Xyzg7qvE"
      },
      "outputs": [],
      "source": [
        "telecom.movies = telecom.movies.fillna('No')"
      ]
    },
    {
      "cell_type": "code",
      "execution_count": null,
      "metadata": {
        "colab": {
          "base_uri": "https://localhost:8080/"
        },
        "id": "YB7cyjqUnBnx",
        "outputId": "e9f75478-84df-43e6-bea1-83899092e81b"
      },
      "outputs": [
        {
          "name": "stdout",
          "output_type": "stream",
          "text": [
            "<class 'pandas.core.frame.DataFrame'>\n",
            "Int64Index: 7043 entries, 0 to 7042\n",
            "Data columns (total 20 columns):\n",
            " #   Column        Non-Null Count  Dtype  \n",
            "---  ------        --------------  -----  \n",
            " 0   customer_id   7043 non-null   object \n",
            " 1   begin_date    7043 non-null   object \n",
            " 2   end_date      7043 non-null   object \n",
            " 3   type          7043 non-null   object \n",
            " 4   paperless     7043 non-null   object \n",
            " 5   pay_method    7043 non-null   object \n",
            " 6   month_charge  7043 non-null   float64\n",
            " 7   total_charge  7043 non-null   object \n",
            " 8   gender        7043 non-null   object \n",
            " 9   citizen       7043 non-null   int64  \n",
            " 10  partner       7043 non-null   object \n",
            " 11  dependents    7043 non-null   object \n",
            " 12  multiple      7043 non-null   object \n",
            " 13  internet      7043 non-null   object \n",
            " 14  security      7043 non-null   object \n",
            " 15  backup        7043 non-null   object \n",
            " 16  protection    7043 non-null   object \n",
            " 17  tech_support  7043 non-null   object \n",
            " 18  TV            7043 non-null   object \n",
            " 19  movies        7043 non-null   object \n",
            "dtypes: float64(1), int64(1), object(18)\n",
            "memory usage: 1.1+ MB\n"
          ]
        }
      ],
      "source": [
        "telecom.info()"
      ]
    },
    {
      "cell_type": "code",
      "execution_count": null,
      "metadata": {
        "colab": {
          "base_uri": "https://localhost:8080/"
        },
        "id": "UIIDcy0U6geD",
        "outputId": "0f8710c4-15cf-4948-f942-74b4fe624aa8"
      },
      "outputs": [
        {
          "data": {
            "text/plain": [
              "Yes    4171\n",
              "No     2872\n",
              "Name: paperless, dtype: int64"
            ]
          },
          "execution_count": 45,
          "metadata": {},
          "output_type": "execute_result"
        }
      ],
      "source": [
        "telecom.paperless.value_counts()"
      ]
    },
    {
      "cell_type": "code",
      "execution_count": null,
      "metadata": {
        "id": "ldE3eZI96geE"
      },
      "outputs": [],
      "source": [
        "telecom = telecom.replace('Yes', 1)"
      ]
    },
    {
      "cell_type": "code",
      "execution_count": null,
      "metadata": {
        "colab": {
          "base_uri": "https://localhost:8080/"
        },
        "id": "Cc3jg0bg6geE",
        "outputId": "049eb5d9-a434-4a0a-97a0-07e0406ce4b9",
        "scrolled": false
      },
      "outputs": [
        {
          "data": {
            "text/plain": [
              "array(['Electronic check', 'Mailed check', 'Bank transfer (automatic)',\n",
              "       'Credit card (automatic)'], dtype=object)"
            ]
          },
          "execution_count": 47,
          "metadata": {},
          "output_type": "execute_result"
        }
      ],
      "source": [
        "telecom.pay_method.unique()"
      ]
    },
    {
      "cell_type": "code",
      "execution_count": null,
      "metadata": {
        "colab": {
          "base_uri": "https://localhost:8080/"
        },
        "id": "fYAWqI1w6geF",
        "outputId": "ab1cb8ba-5545-4577-f066-69aee789bc60"
      },
      "outputs": [
        {
          "data": {
            "text/plain": [
              "Electronic check             2365\n",
              "Mailed check                 1612\n",
              "Bank transfer (automatic)    1544\n",
              "Credit card (automatic)      1522\n",
              "Name: pay_method, dtype: int64"
            ]
          },
          "execution_count": 48,
          "metadata": {},
          "output_type": "execute_result"
        }
      ],
      "source": [
        "telecom.pay_method.value_counts()"
      ]
    },
    {
      "cell_type": "code",
      "execution_count": null,
      "metadata": {
        "colab": {
          "base_uri": "https://localhost:8080/"
        },
        "id": "Kg6npsau6geF",
        "outputId": "1b040766-5611-4dbe-bb87-81fdaf306b95"
      },
      "outputs": [
        {
          "data": {
            "text/plain": [
              "array([1, 'No'], dtype=object)"
            ]
          },
          "execution_count": 49,
          "metadata": {},
          "output_type": "execute_result"
        }
      ],
      "source": [
        "telecom.paperless.unique()"
      ]
    },
    {
      "cell_type": "code",
      "execution_count": null,
      "metadata": {
        "colab": {
          "base_uri": "https://localhost:8080/"
        },
        "id": "oBNULfQS6geG",
        "outputId": "fbe49235-df42-47d7-d320-28e2ad6a81d2"
      },
      "outputs": [
        {
          "data": {
            "text/plain": [
              "No                     5174\n",
              "2019-11-01 00:00:00     485\n",
              "2019-12-01 00:00:00     466\n",
              "2020-01-01 00:00:00     460\n",
              "2019-10-01 00:00:00     458\n",
              "Name: end_date, dtype: int64"
            ]
          },
          "execution_count": 50,
          "metadata": {},
          "output_type": "execute_result"
        }
      ],
      "source": [
        "telecom['end_date'].value_counts()"
      ]
    },
    {
      "cell_type": "markdown",
      "metadata": {
        "id": "yfeZMil6tC-6"
      },
      "source": [
        "### Создадим новый столбец 'targ', который будет являться таргетом. "
      ]
    },
    {
      "cell_type": "markdown",
      "metadata": {
        "id": "vzIBTAfltZqT"
      },
      "source": [
        "В случае, если нет даты окончания пользования тарифом, предположим, что он еще пользуется им, и поставим 0. Если есть дата окончания, то ставим 1"
      ]
    },
    {
      "cell_type": "code",
      "execution_count": null,
      "metadata": {
        "id": "v_9r88--4ny7"
      },
      "outputs": [],
      "source": [
        "telecom['targ'] = telecom['end_date'].apply(lambda x: 0 if x == 'No' else 1)"
      ]
    },
    {
      "cell_type": "code",
      "execution_count": null,
      "metadata": {
        "colab": {
          "base_uri": "https://localhost:8080/"
        },
        "id": "8Kklrb605jq4",
        "outputId": "c7fb0b72-9440-42d9-bf07-3d4a911e86cf"
      },
      "outputs": [
        {
          "data": {
            "text/plain": [
              "0    5174\n",
              "1    1869\n",
              "Name: targ, dtype: int64"
            ]
          },
          "execution_count": 52,
          "metadata": {},
          "output_type": "execute_result"
        }
      ],
      "source": [
        "telecom['targ'].value_counts()"
      ]
    },
    {
      "cell_type": "code",
      "execution_count": null,
      "metadata": {
        "colab": {
          "base_uri": "https://localhost:8080/"
        },
        "id": "kMxipw7o6geG",
        "outputId": "a338ef65-5109-4020-8e32-226154f0a969"
      },
      "outputs": [
        {
          "data": {
            "text/plain": [
              "array(['Month-to-month', 'One year', 'Two year'], dtype=object)"
            ]
          },
          "execution_count": 53,
          "metadata": {},
          "output_type": "execute_result"
        }
      ],
      "source": [
        "telecom.type.unique()"
      ]
    },
    {
      "cell_type": "code",
      "execution_count": null,
      "metadata": {
        "id": "_VbsLfyUigGW"
      },
      "outputs": [],
      "source": [
        "telecom_c = telecom.copy()"
      ]
    },
    {
      "cell_type": "code",
      "execution_count": null,
      "metadata": {
        "colab": {
          "base_uri": "https://localhost:8080/"
        },
        "id": "O_ShwPSEjjxB",
        "outputId": "fcb09cf9-f093-4096-f84f-a85394cddcc2"
      },
      "outputs": [
        {
          "data": {
            "text/plain": [
              "0    5174\n",
              "1    1869\n",
              "Name: end_date, dtype: int64"
            ]
          },
          "execution_count": 55,
          "metadata": {},
          "output_type": "execute_result"
        }
      ],
      "source": [
        "telecom_c.end_date = telecom['end_date'].apply(lambda x: 0 if x == 'No' else 1)\n",
        "telecom_c.end_date.value_counts()"
      ]
    },
    {
      "cell_type": "markdown",
      "metadata": {
        "id": "aQlCW_wBtofm"
      },
      "source": [
        "Создадим новый стобец - количество дней пользования, пропуски заполним датой выгрузки данных - 1 февраля 2020 года"
      ]
    },
    {
      "cell_type": "code",
      "execution_count": null,
      "metadata": {
        "id": "B9j7HAbT59hX"
      },
      "outputs": [],
      "source": [
        "telecom.loc[telecom.end_date=='No', 'end_date'] = '2020-02-01'"
      ]
    },
    {
      "cell_type": "code",
      "execution_count": null,
      "metadata": {
        "id": "dNQ2Wd5r6geG"
      },
      "outputs": [],
      "source": [
        "telecom['begin_date'] = pd.to_datetime(telecom['begin_date'])"
      ]
    },
    {
      "cell_type": "code",
      "execution_count": null,
      "metadata": {
        "id": "zjAJd8pu6geH"
      },
      "outputs": [],
      "source": [
        "telecom['end_date'] = pd.to_datetime(telecom['end_date'])"
      ]
    },
    {
      "cell_type": "code",
      "execution_count": null,
      "metadata": {
        "colab": {
          "base_uri": "https://localhost:8080/"
        },
        "id": "Y8AHxRKO6geH",
        "outputId": "33e3a26f-7315-4317-889d-9c6df41caabc"
      },
      "outputs": [
        {
          "name": "stdout",
          "output_type": "stream",
          "text": [
            "<class 'pandas.core.frame.DataFrame'>\n",
            "Int64Index: 7043 entries, 0 to 7042\n",
            "Data columns (total 21 columns):\n",
            " #   Column        Non-Null Count  Dtype         \n",
            "---  ------        --------------  -----         \n",
            " 0   customer_id   7043 non-null   object        \n",
            " 1   begin_date    7043 non-null   datetime64[ns]\n",
            " 2   end_date      7043 non-null   datetime64[ns]\n",
            " 3   type          7043 non-null   object        \n",
            " 4   paperless     7043 non-null   object        \n",
            " 5   pay_method    7043 non-null   object        \n",
            " 6   month_charge  7043 non-null   float64       \n",
            " 7   total_charge  7043 non-null   object        \n",
            " 8   gender        7043 non-null   object        \n",
            " 9   citizen       7043 non-null   int64         \n",
            " 10  partner       7043 non-null   object        \n",
            " 11  dependents    7043 non-null   object        \n",
            " 12  multiple      7043 non-null   object        \n",
            " 13  internet      7043 non-null   object        \n",
            " 14  security      7043 non-null   object        \n",
            " 15  backup        7043 non-null   object        \n",
            " 16  protection    7043 non-null   object        \n",
            " 17  tech_support  7043 non-null   object        \n",
            " 18  TV            7043 non-null   object        \n",
            " 19  movies        7043 non-null   object        \n",
            " 20  targ          7043 non-null   int64         \n",
            "dtypes: datetime64[ns](2), float64(1), int64(2), object(16)\n",
            "memory usage: 1.2+ MB\n"
          ]
        }
      ],
      "source": [
        "telecom.info()"
      ]
    },
    {
      "cell_type": "code",
      "execution_count": null,
      "metadata": {
        "id": "qsS9lDUV6geH"
      },
      "outputs": [],
      "source": [
        "telecom['days'] = (telecom['end_date']-telecom['begin_date']).dt.days"
      ]
    },
    {
      "cell_type": "code",
      "execution_count": null,
      "metadata": {
        "colab": {
          "base_uri": "https://localhost:8080/",
          "height": 433
        },
        "id": "uTMi0jRH6geH",
        "outputId": "33771b00-c18f-41ce-d9a0-e7b4cf855b60",
        "scrolled": true
      },
      "outputs": [
        {
          "data": {
            "text/html": [
              "<div>\n",
              "<style scoped>\n",
              "    .dataframe tbody tr th:only-of-type {\n",
              "        vertical-align: middle;\n",
              "    }\n",
              "\n",
              "    .dataframe tbody tr th {\n",
              "        vertical-align: top;\n",
              "    }\n",
              "\n",
              "    .dataframe thead th {\n",
              "        text-align: right;\n",
              "    }\n",
              "</style>\n",
              "<table border=\"1\" class=\"dataframe\">\n",
              "  <thead>\n",
              "    <tr style=\"text-align: right;\">\n",
              "      <th></th>\n",
              "      <th>customer_id</th>\n",
              "      <th>begin_date</th>\n",
              "      <th>end_date</th>\n",
              "      <th>type</th>\n",
              "      <th>paperless</th>\n",
              "      <th>pay_method</th>\n",
              "      <th>month_charge</th>\n",
              "      <th>total_charge</th>\n",
              "      <th>gender</th>\n",
              "      <th>citizen</th>\n",
              "      <th>...</th>\n",
              "      <th>multiple</th>\n",
              "      <th>internet</th>\n",
              "      <th>security</th>\n",
              "      <th>backup</th>\n",
              "      <th>protection</th>\n",
              "      <th>tech_support</th>\n",
              "      <th>TV</th>\n",
              "      <th>movies</th>\n",
              "      <th>targ</th>\n",
              "      <th>days</th>\n",
              "    </tr>\n",
              "  </thead>\n",
              "  <tbody>\n",
              "    <tr>\n",
              "      <th>0</th>\n",
              "      <td>7590-VHVEG</td>\n",
              "      <td>2020-01-01</td>\n",
              "      <td>2020-02-01</td>\n",
              "      <td>Month-to-month</td>\n",
              "      <td>1</td>\n",
              "      <td>Electronic check</td>\n",
              "      <td>29.85</td>\n",
              "      <td>29.85</td>\n",
              "      <td>Female</td>\n",
              "      <td>0</td>\n",
              "      <td>...</td>\n",
              "      <td>No</td>\n",
              "      <td>DSL</td>\n",
              "      <td>No</td>\n",
              "      <td>1</td>\n",
              "      <td>No</td>\n",
              "      <td>No</td>\n",
              "      <td>No</td>\n",
              "      <td>No</td>\n",
              "      <td>0</td>\n",
              "      <td>31</td>\n",
              "    </tr>\n",
              "    <tr>\n",
              "      <th>1</th>\n",
              "      <td>5575-GNVDE</td>\n",
              "      <td>2017-04-01</td>\n",
              "      <td>2020-02-01</td>\n",
              "      <td>One year</td>\n",
              "      <td>No</td>\n",
              "      <td>Mailed check</td>\n",
              "      <td>56.95</td>\n",
              "      <td>1889.5</td>\n",
              "      <td>Male</td>\n",
              "      <td>0</td>\n",
              "      <td>...</td>\n",
              "      <td>No</td>\n",
              "      <td>DSL</td>\n",
              "      <td>1</td>\n",
              "      <td>No</td>\n",
              "      <td>1</td>\n",
              "      <td>No</td>\n",
              "      <td>No</td>\n",
              "      <td>No</td>\n",
              "      <td>0</td>\n",
              "      <td>1036</td>\n",
              "    </tr>\n",
              "    <tr>\n",
              "      <th>2</th>\n",
              "      <td>3668-QPYBK</td>\n",
              "      <td>2019-10-01</td>\n",
              "      <td>2019-12-01</td>\n",
              "      <td>Month-to-month</td>\n",
              "      <td>1</td>\n",
              "      <td>Mailed check</td>\n",
              "      <td>53.85</td>\n",
              "      <td>108.15</td>\n",
              "      <td>Male</td>\n",
              "      <td>0</td>\n",
              "      <td>...</td>\n",
              "      <td>No</td>\n",
              "      <td>DSL</td>\n",
              "      <td>1</td>\n",
              "      <td>1</td>\n",
              "      <td>No</td>\n",
              "      <td>No</td>\n",
              "      <td>No</td>\n",
              "      <td>No</td>\n",
              "      <td>1</td>\n",
              "      <td>61</td>\n",
              "    </tr>\n",
              "    <tr>\n",
              "      <th>3</th>\n",
              "      <td>7795-CFOCW</td>\n",
              "      <td>2016-05-01</td>\n",
              "      <td>2020-02-01</td>\n",
              "      <td>One year</td>\n",
              "      <td>No</td>\n",
              "      <td>Bank transfer (automatic)</td>\n",
              "      <td>42.30</td>\n",
              "      <td>1840.75</td>\n",
              "      <td>Male</td>\n",
              "      <td>0</td>\n",
              "      <td>...</td>\n",
              "      <td>No</td>\n",
              "      <td>DSL</td>\n",
              "      <td>1</td>\n",
              "      <td>No</td>\n",
              "      <td>1</td>\n",
              "      <td>1</td>\n",
              "      <td>No</td>\n",
              "      <td>No</td>\n",
              "      <td>0</td>\n",
              "      <td>1371</td>\n",
              "    </tr>\n",
              "    <tr>\n",
              "      <th>4</th>\n",
              "      <td>9237-HQITU</td>\n",
              "      <td>2019-09-01</td>\n",
              "      <td>2019-11-01</td>\n",
              "      <td>Month-to-month</td>\n",
              "      <td>1</td>\n",
              "      <td>Electronic check</td>\n",
              "      <td>70.70</td>\n",
              "      <td>151.65</td>\n",
              "      <td>Female</td>\n",
              "      <td>0</td>\n",
              "      <td>...</td>\n",
              "      <td>No</td>\n",
              "      <td>Fiber optic</td>\n",
              "      <td>No</td>\n",
              "      <td>No</td>\n",
              "      <td>No</td>\n",
              "      <td>No</td>\n",
              "      <td>No</td>\n",
              "      <td>No</td>\n",
              "      <td>1</td>\n",
              "      <td>61</td>\n",
              "    </tr>\n",
              "  </tbody>\n",
              "</table>\n",
              "<p>5 rows × 22 columns</p>\n",
              "</div>"
            ],
            "text/plain": [
              "  customer_id begin_date   end_date            type paperless  \\\n",
              "0  7590-VHVEG 2020-01-01 2020-02-01  Month-to-month         1   \n",
              "1  5575-GNVDE 2017-04-01 2020-02-01        One year        No   \n",
              "2  3668-QPYBK 2019-10-01 2019-12-01  Month-to-month         1   \n",
              "3  7795-CFOCW 2016-05-01 2020-02-01        One year        No   \n",
              "4  9237-HQITU 2019-09-01 2019-11-01  Month-to-month         1   \n",
              "\n",
              "                  pay_method  month_charge total_charge  gender  citizen  ...  \\\n",
              "0           Electronic check         29.85        29.85  Female        0  ...   \n",
              "1               Mailed check         56.95       1889.5    Male        0  ...   \n",
              "2               Mailed check         53.85       108.15    Male        0  ...   \n",
              "3  Bank transfer (automatic)         42.30      1840.75    Male        0  ...   \n",
              "4           Electronic check         70.70       151.65  Female        0  ...   \n",
              "\n",
              "  multiple     internet security backup protection tech_support  TV movies  \\\n",
              "0       No          DSL       No      1         No           No  No     No   \n",
              "1       No          DSL        1     No          1           No  No     No   \n",
              "2       No          DSL        1      1         No           No  No     No   \n",
              "3       No          DSL        1     No          1            1  No     No   \n",
              "4       No  Fiber optic       No     No         No           No  No     No   \n",
              "\n",
              "  targ  days  \n",
              "0    0    31  \n",
              "1    0  1036  \n",
              "2    1    61  \n",
              "3    0  1371  \n",
              "4    1    61  \n",
              "\n",
              "[5 rows x 22 columns]"
            ]
          },
          "execution_count": 61,
          "metadata": {},
          "output_type": "execute_result"
        }
      ],
      "source": [
        "telecom.head()"
      ]
    },
    {
      "cell_type": "markdown",
      "metadata": {
        "id": "i0hIogPduMNz"
      },
      "source": [
        "Рассмотрим в гистограммах, как распределены значения, в разных параметрах"
      ]
    },
    {
      "cell_type": "code",
      "execution_count": null,
      "metadata": {
        "id": "vJpNYtx0OpAz"
      },
      "outputs": [],
      "source": [
        "telec_go = telecom_c.query(\"end_date == 1\")\n",
        "telec_stay = telecom_c.query(\"end_date == 0\")"
      ]
    },
    {
      "cell_type": "markdown",
      "metadata": {
        "id": "Z57TnmRZmr95"
      },
      "source": [
        "Гистограмма распределения клиентов разного типа 1. тех кто ушел 2. тех кто остался. Красным отображены те, кто ушел, голубым - оставшиеся"
      ]
    },
    {
      "cell_type": "code",
      "execution_count": null,
      "metadata": {
        "colab": {
          "base_uri": "https://localhost:8080/",
          "height": 283
        },
        "id": "QLk0dmuDhrmV",
        "outputId": "91667b3a-75c1-4c73-a8da-d3f1e8b76fdb",
        "scrolled": true
      },
      "outputs": [
        {
          "data": {
            "text/plain": [
              "<AxesSubplot:>"
            ]
          },
          "execution_count": 63,
          "metadata": {},
          "output_type": "execute_result"
        },
        {
          "data": {
            "image/png": "[encoded data removed]",
            "text/plain": [
              "<Figure size 432x288 with 1 Axes>"
            ]
          },
          "metadata": {
            "needs_background": "light"
          },
          "output_type": "display_data"
        }
      ],
      "source": [
        "telec_go.month_charge.hist(alpha = 0.6, color= 'r')\n",
        "telec_stay.month_charge.hist(alpha = 0.4)"
      ]
    },
    {
      "cell_type": "markdown",
      "metadata": {
        "id": "guBsBSFqm6K2"
      },
      "source": [
        "Вывод: Мы видим, что те клиенты, которые ушли, платили в среднем меньше в месяц чем те, кто остался. Однако мы не наблюдаем такого пика значений по небольшим оплатам от 20-30, как для оставшихся клиентов."
      ]
    },
    {
      "cell_type": "markdown",
      "metadata": {
        "id": "ZnD45BQ3melg"
      },
      "source": [
        "Гистограмма распределения месячной оплаты для всех клиентов "
      ]
    },
    {
      "cell_type": "code",
      "execution_count": null,
      "metadata": {
        "colab": {
          "base_uri": "https://localhost:8080/",
          "height": 283
        },
        "id": "Bkp8JEHHGw9L",
        "outputId": "3ad42f46-825f-4226-de51-ef5b17811b4f"
      },
      "outputs": [
        {
          "data": {
            "text/plain": [
              "<AxesSubplot:>"
            ]
          },
          "execution_count": 64,
          "metadata": {},
          "output_type": "execute_result"
        },
        {
          "data": {
            "image/png": "[encoded data removed]",
            "text/plain": [
              "<Figure size 432x288 with 1 Axes>"
            ]
          },
          "metadata": {
            "needs_background": "light"
          },
          "output_type": "display_data"
        }
      ],
      "source": [
        "telecom.month_charge.hist()\n",
        "# ostalis = telecom['end_date'==0, 'month_charge']\n",
        "# ostalis.hist() "
      ]
    },
    {
      "cell_type": "markdown",
      "metadata": {
        "id": "Em8qC6LKuU4-"
      },
      "source": [
        "В основном месячная оплата не превышает 80, в большинстве случаев, месячная оплата ниже 30"
      ]
    },
    {
      "cell_type": "code",
      "execution_count": null,
      "metadata": {
        "colab": {
          "base_uri": "https://localhost:8080/",
          "height": 283
        },
        "id": "yZqGwUkx6geH",
        "outputId": "24dad574-201f-44dc-d461-ecea98f8ecb9"
      },
      "outputs": [
        {
          "data": {
            "text/plain": [
              "<AxesSubplot:>"
            ]
          },
          "execution_count": 65,
          "metadata": {},
          "output_type": "execute_result"
        },
        {
          "data": {
            "image/png": "[encoded data removed]",
            "text/plain": [
              "<Figure size 432x288 with 1 Axes>"
            ]
          },
          "metadata": {
            "needs_background": "light"
          },
          "output_type": "display_data"
        }
      ],
      "source": [
        "telecom.days.hist()"
      ]
    },
    {
      "cell_type": "code",
      "execution_count": null,
      "metadata": {
        "colab": {
          "base_uri": "https://localhost:8080/"
        },
        "id": "0suCtf9SSFnb",
        "outputId": "5953a3a3-69f9-4094-d504-3a536a5a67d9"
      },
      "outputs": [
        {
          "data": {
            "text/plain": [
              "0         31\n",
              "1       1036\n",
              "2         61\n",
              "3       1371\n",
              "4         61\n",
              "        ... \n",
              "7038     730\n",
              "7039    2191\n",
              "7040     337\n",
              "7041     123\n",
              "7042    2010\n",
              "Name: days, Length: 7043, dtype: int64"
            ]
          },
          "execution_count": 66,
          "metadata": {},
          "output_type": "execute_result"
        }
      ],
      "source": [
        "telecom.days"
      ]
    },
    {
      "cell_type": "markdown",
      "metadata": {
        "id": "-bhIpL2v1xQt"
      },
      "source": [
        "Создадим новый признак. Мы посчитали, что клиенты, кто платит в месяц больше 70 и пользуются мобильной связью больше 1500 дней, это наиболее стабильные и выгодные клиенты"
      ]
    },
    {
      "cell_type": "code",
      "execution_count": null,
      "metadata": {
        "colab": {
          "base_uri": "https://localhost:8080/"
        },
        "id": "fL649bofRzJs",
        "outputId": "d3457823-7c56-4ac0-8ec2-da11fe5c8773"
      },
      "outputs": [
        {
          "data": {
            "text/plain": [
              "2173"
            ]
          },
          "execution_count": 67,
          "metadata": {},
          "output_type": "execute_result"
        }
      ],
      "source": [
        "(telecom['days']>1500).sum()"
      ]
    },
    {
      "cell_type": "code",
      "execution_count": null,
      "metadata": {
        "colab": {
          "base_uri": "https://localhost:8080/"
        },
        "id": "xUxx5AI2GTwV",
        "outputId": "c8e3af12-91b7-4c6b-a067-d569af5323ef"
      },
      "outputs": [
        {
          "data": {
            "text/plain": [
              "1350"
            ]
          },
          "execution_count": 68,
          "metadata": {},
          "output_type": "execute_result"
        }
      ],
      "source": [
        "((telecom['days'] > 1500)&(telecom['month_charge'] > 70)).sum()"
      ]
    },
    {
      "cell_type": "markdown",
      "metadata": {
        "id": "C8jb5UB8n0_K"
      },
      "source": [
        "Создадим два новых признака 'cool', 'down'\n",
        "* cool, те, кто платит больше 70 и пользуется услугами, больще 1500 дней - \"сторожилы\"\n",
        "* down напротив, платят меньше, и пользуются услагми относительно недевно, меньше 250 дней."
      ]
    },
    {
      "cell_type": "code",
      "execution_count": null,
      "metadata": {
        "id": "EbGqKbYQS-km"
      },
      "outputs": [],
      "source": [
        "telecom['cool'] =  (telecom['days'] > 1200)&(telecom['month_charge'] > 80) "
      ]
    },
    {
      "cell_type": "code",
      "execution_count": null,
      "metadata": {
        "colab": {
          "base_uri": "https://localhost:8080/"
        },
        "id": "SOs086vS_Au5",
        "outputId": "f6177a22-6623-47cf-e725-9fd392c4ba04"
      },
      "outputs": [
        {
          "data": {
            "text/plain": [
              "1248"
            ]
          },
          "execution_count": 70,
          "metadata": {},
          "output_type": "execute_result"
        }
      ],
      "source": [
        "((telecom['days'] < 250)&(telecom['month_charge'] > 30)).sum()"
      ]
    },
    {
      "cell_type": "code",
      "execution_count": null,
      "metadata": {
        "id": "JJ4Dx73t-zZK"
      },
      "outputs": [],
      "source": [
        "telecom['down'] =  (telecom['days'] < 250)&(telecom['month_charge'] > 30) "
      ]
    },
    {
      "cell_type": "code",
      "execution_count": null,
      "metadata": {
        "colab": {
          "base_uri": "https://localhost:8080/",
          "height": 416
        },
        "id": "r-ePjtajGTpJ",
        "outputId": "aa2ed022-9e9a-46fa-bb47-5faa8e392d56"
      },
      "outputs": [
        {
          "data": {
            "text/html": [
              "<div>\n",
              "<style scoped>\n",
              "    .dataframe tbody tr th:only-of-type {\n",
              "        vertical-align: middle;\n",
              "    }\n",
              "\n",
              "    .dataframe tbody tr th {\n",
              "        vertical-align: top;\n",
              "    }\n",
              "\n",
              "    .dataframe thead th {\n",
              "        text-align: right;\n",
              "    }\n",
              "</style>\n",
              "<table border=\"1\" class=\"dataframe\">\n",
              "  <thead>\n",
              "    <tr style=\"text-align: right;\">\n",
              "      <th></th>\n",
              "      <th>customer_id</th>\n",
              "      <th>begin_date</th>\n",
              "      <th>end_date</th>\n",
              "      <th>type</th>\n",
              "      <th>paperless</th>\n",
              "      <th>pay_method</th>\n",
              "      <th>month_charge</th>\n",
              "      <th>total_charge</th>\n",
              "      <th>gender</th>\n",
              "      <th>citizen</th>\n",
              "      <th>...</th>\n",
              "      <th>security</th>\n",
              "      <th>backup</th>\n",
              "      <th>protection</th>\n",
              "      <th>tech_support</th>\n",
              "      <th>TV</th>\n",
              "      <th>movies</th>\n",
              "      <th>targ</th>\n",
              "      <th>days</th>\n",
              "      <th>cool</th>\n",
              "      <th>down</th>\n",
              "    </tr>\n",
              "  </thead>\n",
              "  <tbody>\n",
              "    <tr>\n",
              "      <th>7038</th>\n",
              "      <td>6840-RESVB</td>\n",
              "      <td>2018-02-01</td>\n",
              "      <td>2020-02-01</td>\n",
              "      <td>One year</td>\n",
              "      <td>1</td>\n",
              "      <td>Mailed check</td>\n",
              "      <td>84.80</td>\n",
              "      <td>1990.5</td>\n",
              "      <td>Male</td>\n",
              "      <td>0</td>\n",
              "      <td>...</td>\n",
              "      <td>1</td>\n",
              "      <td>No</td>\n",
              "      <td>1</td>\n",
              "      <td>1</td>\n",
              "      <td>1</td>\n",
              "      <td>1</td>\n",
              "      <td>0</td>\n",
              "      <td>730</td>\n",
              "      <td>False</td>\n",
              "      <td>False</td>\n",
              "    </tr>\n",
              "    <tr>\n",
              "      <th>7039</th>\n",
              "      <td>2234-XADUH</td>\n",
              "      <td>2014-02-01</td>\n",
              "      <td>2020-02-01</td>\n",
              "      <td>One year</td>\n",
              "      <td>1</td>\n",
              "      <td>Credit card (automatic)</td>\n",
              "      <td>103.20</td>\n",
              "      <td>7362.9</td>\n",
              "      <td>Female</td>\n",
              "      <td>0</td>\n",
              "      <td>...</td>\n",
              "      <td>No</td>\n",
              "      <td>1</td>\n",
              "      <td>1</td>\n",
              "      <td>No</td>\n",
              "      <td>1</td>\n",
              "      <td>1</td>\n",
              "      <td>0</td>\n",
              "      <td>2191</td>\n",
              "      <td>True</td>\n",
              "      <td>False</td>\n",
              "    </tr>\n",
              "    <tr>\n",
              "      <th>7040</th>\n",
              "      <td>4801-JZAZL</td>\n",
              "      <td>2019-03-01</td>\n",
              "      <td>2020-02-01</td>\n",
              "      <td>Month-to-month</td>\n",
              "      <td>1</td>\n",
              "      <td>Electronic check</td>\n",
              "      <td>29.60</td>\n",
              "      <td>346.45</td>\n",
              "      <td>Female</td>\n",
              "      <td>0</td>\n",
              "      <td>...</td>\n",
              "      <td>1</td>\n",
              "      <td>No</td>\n",
              "      <td>No</td>\n",
              "      <td>No</td>\n",
              "      <td>No</td>\n",
              "      <td>No</td>\n",
              "      <td>0</td>\n",
              "      <td>337</td>\n",
              "      <td>False</td>\n",
              "      <td>False</td>\n",
              "    </tr>\n",
              "    <tr>\n",
              "      <th>7041</th>\n",
              "      <td>8361-LTMKD</td>\n",
              "      <td>2019-07-01</td>\n",
              "      <td>2019-11-01</td>\n",
              "      <td>Month-to-month</td>\n",
              "      <td>1</td>\n",
              "      <td>Mailed check</td>\n",
              "      <td>74.40</td>\n",
              "      <td>306.6</td>\n",
              "      <td>Male</td>\n",
              "      <td>1</td>\n",
              "      <td>...</td>\n",
              "      <td>No</td>\n",
              "      <td>No</td>\n",
              "      <td>No</td>\n",
              "      <td>No</td>\n",
              "      <td>No</td>\n",
              "      <td>No</td>\n",
              "      <td>1</td>\n",
              "      <td>123</td>\n",
              "      <td>False</td>\n",
              "      <td>True</td>\n",
              "    </tr>\n",
              "    <tr>\n",
              "      <th>7042</th>\n",
              "      <td>3186-AJIEK</td>\n",
              "      <td>2014-08-01</td>\n",
              "      <td>2020-02-01</td>\n",
              "      <td>Two year</td>\n",
              "      <td>1</td>\n",
              "      <td>Bank transfer (automatic)</td>\n",
              "      <td>105.65</td>\n",
              "      <td>6844.5</td>\n",
              "      <td>Male</td>\n",
              "      <td>0</td>\n",
              "      <td>...</td>\n",
              "      <td>1</td>\n",
              "      <td>No</td>\n",
              "      <td>1</td>\n",
              "      <td>1</td>\n",
              "      <td>1</td>\n",
              "      <td>1</td>\n",
              "      <td>0</td>\n",
              "      <td>2010</td>\n",
              "      <td>True</td>\n",
              "      <td>False</td>\n",
              "    </tr>\n",
              "  </tbody>\n",
              "</table>\n",
              "<p>5 rows × 24 columns</p>\n",
              "</div>"
            ],
            "text/plain": [
              "     customer_id begin_date   end_date            type paperless  \\\n",
              "7038  6840-RESVB 2018-02-01 2020-02-01        One year         1   \n",
              "7039  2234-XADUH 2014-02-01 2020-02-01        One year         1   \n",
              "7040  4801-JZAZL 2019-03-01 2020-02-01  Month-to-month         1   \n",
              "7041  8361-LTMKD 2019-07-01 2019-11-01  Month-to-month         1   \n",
              "7042  3186-AJIEK 2014-08-01 2020-02-01        Two year         1   \n",
              "\n",
              "                     pay_method  month_charge total_charge  gender  citizen  \\\n",
              "7038               Mailed check         84.80       1990.5    Male        0   \n",
              "7039    Credit card (automatic)        103.20       7362.9  Female        0   \n",
              "7040           Electronic check         29.60       346.45  Female        0   \n",
              "7041               Mailed check         74.40        306.6    Male        1   \n",
              "7042  Bank transfer (automatic)        105.65       6844.5    Male        0   \n",
              "\n",
              "      ... security backup protection tech_support  TV movies targ  days  \\\n",
              "7038  ...        1     No          1            1   1      1    0   730   \n",
              "7039  ...       No      1          1           No   1      1    0  2191   \n",
              "7040  ...        1     No         No           No  No     No    0   337   \n",
              "7041  ...       No     No         No           No  No     No    1   123   \n",
              "7042  ...        1     No          1            1   1      1    0  2010   \n",
              "\n",
              "       cool   down  \n",
              "7038  False  False  \n",
              "7039   True  False  \n",
              "7040  False  False  \n",
              "7041  False   True  \n",
              "7042   True  False  \n",
              "\n",
              "[5 rows x 24 columns]"
            ]
          },
          "execution_count": 72,
          "metadata": {},
          "output_type": "execute_result"
        }
      ],
      "source": [
        "telecom.tail(5)"
      ]
    },
    {
      "cell_type": "code",
      "execution_count": null,
      "metadata": {
        "colab": {
          "base_uri": "https://localhost:8080/"
        },
        "id": "VaZqpG-uXo6Q",
        "outputId": "9177b4fe-f992-4aa1-892b-bd4e7879aeea"
      },
      "outputs": [
        {
          "data": {
            "text/plain": [
              "False    5604\n",
              "True     1439\n",
              "Name: cool, dtype: int64"
            ]
          },
          "execution_count": 73,
          "metadata": {},
          "output_type": "execute_result"
        }
      ],
      "source": [
        "telecom.cool.value_counts()"
      ]
    },
    {
      "cell_type": "code",
      "execution_count": null,
      "metadata": {
        "id": "ehmT-jXIZjem"
      },
      "outputs": [],
      "source": [
        "telecom.cool = telecom.cool.astype(int)"
      ]
    },
    {
      "cell_type": "code",
      "execution_count": null,
      "metadata": {
        "id": "rX3Etxih_Neo"
      },
      "outputs": [],
      "source": [
        "telecom.down = telecom.down.astype(int)"
      ]
    },
    {
      "cell_type": "code",
      "execution_count": null,
      "metadata": {
        "colab": {
          "base_uri": "https://localhost:8080/",
          "height": 416
        },
        "id": "8wCGkQdQGTME",
        "outputId": "75d8b812-3525-4d4c-d54d-4b76e839e501"
      },
      "outputs": [
        {
          "data": {
            "text/html": [
              "<div>\n",
              "<style scoped>\n",
              "    .dataframe tbody tr th:only-of-type {\n",
              "        vertical-align: middle;\n",
              "    }\n",
              "\n",
              "    .dataframe tbody tr th {\n",
              "        vertical-align: top;\n",
              "    }\n",
              "\n",
              "    .dataframe thead th {\n",
              "        text-align: right;\n",
              "    }\n",
              "</style>\n",
              "<table border=\"1\" class=\"dataframe\">\n",
              "  <thead>\n",
              "    <tr style=\"text-align: right;\">\n",
              "      <th></th>\n",
              "      <th>customer_id</th>\n",
              "      <th>begin_date</th>\n",
              "      <th>end_date</th>\n",
              "      <th>type</th>\n",
              "      <th>paperless</th>\n",
              "      <th>pay_method</th>\n",
              "      <th>month_charge</th>\n",
              "      <th>total_charge</th>\n",
              "      <th>gender</th>\n",
              "      <th>citizen</th>\n",
              "      <th>...</th>\n",
              "      <th>security</th>\n",
              "      <th>backup</th>\n",
              "      <th>protection</th>\n",
              "      <th>tech_support</th>\n",
              "      <th>TV</th>\n",
              "      <th>movies</th>\n",
              "      <th>targ</th>\n",
              "      <th>days</th>\n",
              "      <th>cool</th>\n",
              "      <th>down</th>\n",
              "    </tr>\n",
              "  </thead>\n",
              "  <tbody>\n",
              "    <tr>\n",
              "      <th>7038</th>\n",
              "      <td>6840-RESVB</td>\n",
              "      <td>2018-02-01</td>\n",
              "      <td>2020-02-01</td>\n",
              "      <td>One year</td>\n",
              "      <td>1</td>\n",
              "      <td>Mailed check</td>\n",
              "      <td>84.80</td>\n",
              "      <td>1990.5</td>\n",
              "      <td>Male</td>\n",
              "      <td>0</td>\n",
              "      <td>...</td>\n",
              "      <td>1</td>\n",
              "      <td>No</td>\n",
              "      <td>1</td>\n",
              "      <td>1</td>\n",
              "      <td>1</td>\n",
              "      <td>1</td>\n",
              "      <td>0</td>\n",
              "      <td>730</td>\n",
              "      <td>0</td>\n",
              "      <td>0</td>\n",
              "    </tr>\n",
              "    <tr>\n",
              "      <th>7039</th>\n",
              "      <td>2234-XADUH</td>\n",
              "      <td>2014-02-01</td>\n",
              "      <td>2020-02-01</td>\n",
              "      <td>One year</td>\n",
              "      <td>1</td>\n",
              "      <td>Credit card (automatic)</td>\n",
              "      <td>103.20</td>\n",
              "      <td>7362.9</td>\n",
              "      <td>Female</td>\n",
              "      <td>0</td>\n",
              "      <td>...</td>\n",
              "      <td>No</td>\n",
              "      <td>1</td>\n",
              "      <td>1</td>\n",
              "      <td>No</td>\n",
              "      <td>1</td>\n",
              "      <td>1</td>\n",
              "      <td>0</td>\n",
              "      <td>2191</td>\n",
              "      <td>1</td>\n",
              "      <td>0</td>\n",
              "    </tr>\n",
              "    <tr>\n",
              "      <th>7040</th>\n",
              "      <td>4801-JZAZL</td>\n",
              "      <td>2019-03-01</td>\n",
              "      <td>2020-02-01</td>\n",
              "      <td>Month-to-month</td>\n",
              "      <td>1</td>\n",
              "      <td>Electronic check</td>\n",
              "      <td>29.60</td>\n",
              "      <td>346.45</td>\n",
              "      <td>Female</td>\n",
              "      <td>0</td>\n",
              "      <td>...</td>\n",
              "      <td>1</td>\n",
              "      <td>No</td>\n",
              "      <td>No</td>\n",
              "      <td>No</td>\n",
              "      <td>No</td>\n",
              "      <td>No</td>\n",
              "      <td>0</td>\n",
              "      <td>337</td>\n",
              "      <td>0</td>\n",
              "      <td>0</td>\n",
              "    </tr>\n",
              "    <tr>\n",
              "      <th>7041</th>\n",
              "      <td>8361-LTMKD</td>\n",
              "      <td>2019-07-01</td>\n",
              "      <td>2019-11-01</td>\n",
              "      <td>Month-to-month</td>\n",
              "      <td>1</td>\n",
              "      <td>Mailed check</td>\n",
              "      <td>74.40</td>\n",
              "      <td>306.6</td>\n",
              "      <td>Male</td>\n",
              "      <td>1</td>\n",
              "      <td>...</td>\n",
              "      <td>No</td>\n",
              "      <td>No</td>\n",
              "      <td>No</td>\n",
              "      <td>No</td>\n",
              "      <td>No</td>\n",
              "      <td>No</td>\n",
              "      <td>1</td>\n",
              "      <td>123</td>\n",
              "      <td>0</td>\n",
              "      <td>1</td>\n",
              "    </tr>\n",
              "    <tr>\n",
              "      <th>7042</th>\n",
              "      <td>3186-AJIEK</td>\n",
              "      <td>2014-08-01</td>\n",
              "      <td>2020-02-01</td>\n",
              "      <td>Two year</td>\n",
              "      <td>1</td>\n",
              "      <td>Bank transfer (automatic)</td>\n",
              "      <td>105.65</td>\n",
              "      <td>6844.5</td>\n",
              "      <td>Male</td>\n",
              "      <td>0</td>\n",
              "      <td>...</td>\n",
              "      <td>1</td>\n",
              "      <td>No</td>\n",
              "      <td>1</td>\n",
              "      <td>1</td>\n",
              "      <td>1</td>\n",
              "      <td>1</td>\n",
              "      <td>0</td>\n",
              "      <td>2010</td>\n",
              "      <td>1</td>\n",
              "      <td>0</td>\n",
              "    </tr>\n",
              "  </tbody>\n",
              "</table>\n",
              "<p>5 rows × 24 columns</p>\n",
              "</div>"
            ],
            "text/plain": [
              "     customer_id begin_date   end_date            type paperless  \\\n",
              "7038  6840-RESVB 2018-02-01 2020-02-01        One year         1   \n",
              "7039  2234-XADUH 2014-02-01 2020-02-01        One year         1   \n",
              "7040  4801-JZAZL 2019-03-01 2020-02-01  Month-to-month         1   \n",
              "7041  8361-LTMKD 2019-07-01 2019-11-01  Month-to-month         1   \n",
              "7042  3186-AJIEK 2014-08-01 2020-02-01        Two year         1   \n",
              "\n",
              "                     pay_method  month_charge total_charge  gender  citizen  \\\n",
              "7038               Mailed check         84.80       1990.5    Male        0   \n",
              "7039    Credit card (automatic)        103.20       7362.9  Female        0   \n",
              "7040           Electronic check         29.60       346.45  Female        0   \n",
              "7041               Mailed check         74.40        306.6    Male        1   \n",
              "7042  Bank transfer (automatic)        105.65       6844.5    Male        0   \n",
              "\n",
              "      ... security backup protection tech_support  TV movies targ  days cool  \\\n",
              "7038  ...        1     No          1            1   1      1    0   730    0   \n",
              "7039  ...       No      1          1           No   1      1    0  2191    1   \n",
              "7040  ...        1     No         No           No  No     No    0   337    0   \n",
              "7041  ...       No     No         No           No  No     No    1   123    0   \n",
              "7042  ...        1     No          1            1   1      1    0  2010    1   \n",
              "\n",
              "     down  \n",
              "7038    0  \n",
              "7039    0  \n",
              "7040    0  \n",
              "7041    1  \n",
              "7042    0  \n",
              "\n",
              "[5 rows x 24 columns]"
            ]
          },
          "execution_count": 76,
          "metadata": {},
          "output_type": "execute_result"
        }
      ],
      "source": [
        "telecom.tail(5)"
      ]
    },
    {
      "cell_type": "code",
      "execution_count": null,
      "metadata": {
        "colab": {
          "base_uri": "https://localhost:8080/"
        },
        "id": "u-nVxh5lGTGz",
        "outputId": "fa88abac-4773-41d1-9ba1-fa09e38d5105"
      },
      "outputs": [
        {
          "data": {
            "text/plain": [
              "0    5604\n",
              "1    1439\n",
              "Name: cool, dtype: int64"
            ]
          },
          "execution_count": 77,
          "metadata": {},
          "output_type": "execute_result"
        }
      ],
      "source": [
        "telecom.cool.value_counts()"
      ]
    },
    {
      "cell_type": "markdown",
      "metadata": {
        "id": "eBmeP9vf2P4o"
      },
      "source": [
        "Ранее мы заменили все пропуски на No,теперь заменим все значения No на 0"
      ]
    },
    {
      "cell_type": "code",
      "execution_count": null,
      "metadata": {
        "colab": {
          "base_uri": "https://localhost:8080/",
          "height": 433
        },
        "id": "5LeWlgRR36ER",
        "outputId": "bbc3a4e6-e95e-49f5-8beb-ad36a1bd7898"
      },
      "outputs": [
        {
          "data": {
            "text/html": [
              "<div>\n",
              "<style scoped>\n",
              "    .dataframe tbody tr th:only-of-type {\n",
              "        vertical-align: middle;\n",
              "    }\n",
              "\n",
              "    .dataframe tbody tr th {\n",
              "        vertical-align: top;\n",
              "    }\n",
              "\n",
              "    .dataframe thead th {\n",
              "        text-align: right;\n",
              "    }\n",
              "</style>\n",
              "<table border=\"1\" class=\"dataframe\">\n",
              "  <thead>\n",
              "    <tr style=\"text-align: right;\">\n",
              "      <th></th>\n",
              "      <th>customer_id</th>\n",
              "      <th>begin_date</th>\n",
              "      <th>end_date</th>\n",
              "      <th>type</th>\n",
              "      <th>paperless</th>\n",
              "      <th>pay_method</th>\n",
              "      <th>month_charge</th>\n",
              "      <th>total_charge</th>\n",
              "      <th>gender</th>\n",
              "      <th>citizen</th>\n",
              "      <th>...</th>\n",
              "      <th>security</th>\n",
              "      <th>backup</th>\n",
              "      <th>protection</th>\n",
              "      <th>tech_support</th>\n",
              "      <th>TV</th>\n",
              "      <th>movies</th>\n",
              "      <th>targ</th>\n",
              "      <th>days</th>\n",
              "      <th>cool</th>\n",
              "      <th>down</th>\n",
              "    </tr>\n",
              "  </thead>\n",
              "  <tbody>\n",
              "    <tr>\n",
              "      <th>0</th>\n",
              "      <td>7590-VHVEG</td>\n",
              "      <td>2020-01-01</td>\n",
              "      <td>2020-02-01</td>\n",
              "      <td>Month-to-month</td>\n",
              "      <td>1</td>\n",
              "      <td>Electronic check</td>\n",
              "      <td>29.85</td>\n",
              "      <td>29.85</td>\n",
              "      <td>Female</td>\n",
              "      <td>0</td>\n",
              "      <td>...</td>\n",
              "      <td>No</td>\n",
              "      <td>1</td>\n",
              "      <td>No</td>\n",
              "      <td>No</td>\n",
              "      <td>No</td>\n",
              "      <td>No</td>\n",
              "      <td>0</td>\n",
              "      <td>31</td>\n",
              "      <td>0</td>\n",
              "      <td>0</td>\n",
              "    </tr>\n",
              "    <tr>\n",
              "      <th>1</th>\n",
              "      <td>5575-GNVDE</td>\n",
              "      <td>2017-04-01</td>\n",
              "      <td>2020-02-01</td>\n",
              "      <td>One year</td>\n",
              "      <td>No</td>\n",
              "      <td>Mailed check</td>\n",
              "      <td>56.95</td>\n",
              "      <td>1889.5</td>\n",
              "      <td>Male</td>\n",
              "      <td>0</td>\n",
              "      <td>...</td>\n",
              "      <td>1</td>\n",
              "      <td>No</td>\n",
              "      <td>1</td>\n",
              "      <td>No</td>\n",
              "      <td>No</td>\n",
              "      <td>No</td>\n",
              "      <td>0</td>\n",
              "      <td>1036</td>\n",
              "      <td>0</td>\n",
              "      <td>0</td>\n",
              "    </tr>\n",
              "    <tr>\n",
              "      <th>2</th>\n",
              "      <td>3668-QPYBK</td>\n",
              "      <td>2019-10-01</td>\n",
              "      <td>2019-12-01</td>\n",
              "      <td>Month-to-month</td>\n",
              "      <td>1</td>\n",
              "      <td>Mailed check</td>\n",
              "      <td>53.85</td>\n",
              "      <td>108.15</td>\n",
              "      <td>Male</td>\n",
              "      <td>0</td>\n",
              "      <td>...</td>\n",
              "      <td>1</td>\n",
              "      <td>1</td>\n",
              "      <td>No</td>\n",
              "      <td>No</td>\n",
              "      <td>No</td>\n",
              "      <td>No</td>\n",
              "      <td>1</td>\n",
              "      <td>61</td>\n",
              "      <td>0</td>\n",
              "      <td>1</td>\n",
              "    </tr>\n",
              "    <tr>\n",
              "      <th>3</th>\n",
              "      <td>7795-CFOCW</td>\n",
              "      <td>2016-05-01</td>\n",
              "      <td>2020-02-01</td>\n",
              "      <td>One year</td>\n",
              "      <td>No</td>\n",
              "      <td>Bank transfer (automatic)</td>\n",
              "      <td>42.30</td>\n",
              "      <td>1840.75</td>\n",
              "      <td>Male</td>\n",
              "      <td>0</td>\n",
              "      <td>...</td>\n",
              "      <td>1</td>\n",
              "      <td>No</td>\n",
              "      <td>1</td>\n",
              "      <td>1</td>\n",
              "      <td>No</td>\n",
              "      <td>No</td>\n",
              "      <td>0</td>\n",
              "      <td>1371</td>\n",
              "      <td>0</td>\n",
              "      <td>0</td>\n",
              "    </tr>\n",
              "    <tr>\n",
              "      <th>4</th>\n",
              "      <td>9237-HQITU</td>\n",
              "      <td>2019-09-01</td>\n",
              "      <td>2019-11-01</td>\n",
              "      <td>Month-to-month</td>\n",
              "      <td>1</td>\n",
              "      <td>Electronic check</td>\n",
              "      <td>70.70</td>\n",
              "      <td>151.65</td>\n",
              "      <td>Female</td>\n",
              "      <td>0</td>\n",
              "      <td>...</td>\n",
              "      <td>No</td>\n",
              "      <td>No</td>\n",
              "      <td>No</td>\n",
              "      <td>No</td>\n",
              "      <td>No</td>\n",
              "      <td>No</td>\n",
              "      <td>1</td>\n",
              "      <td>61</td>\n",
              "      <td>0</td>\n",
              "      <td>1</td>\n",
              "    </tr>\n",
              "  </tbody>\n",
              "</table>\n",
              "<p>5 rows × 24 columns</p>\n",
              "</div>"
            ],
            "text/plain": [
              "  customer_id begin_date   end_date            type paperless  \\\n",
              "0  7590-VHVEG 2020-01-01 2020-02-01  Month-to-month         1   \n",
              "1  5575-GNVDE 2017-04-01 2020-02-01        One year        No   \n",
              "2  3668-QPYBK 2019-10-01 2019-12-01  Month-to-month         1   \n",
              "3  7795-CFOCW 2016-05-01 2020-02-01        One year        No   \n",
              "4  9237-HQITU 2019-09-01 2019-11-01  Month-to-month         1   \n",
              "\n",
              "                  pay_method  month_charge total_charge  gender  citizen  ...  \\\n",
              "0           Electronic check         29.85        29.85  Female        0  ...   \n",
              "1               Mailed check         56.95       1889.5    Male        0  ...   \n",
              "2               Mailed check         53.85       108.15    Male        0  ...   \n",
              "3  Bank transfer (automatic)         42.30      1840.75    Male        0  ...   \n",
              "4           Electronic check         70.70       151.65  Female        0  ...   \n",
              "\n",
              "  security backup protection tech_support  TV movies targ  days cool down  \n",
              "0       No      1         No           No  No     No    0    31    0    0  \n",
              "1        1     No          1           No  No     No    0  1036    0    0  \n",
              "2        1      1         No           No  No     No    1    61    0    1  \n",
              "3        1     No          1            1  No     No    0  1371    0    0  \n",
              "4       No     No         No           No  No     No    1    61    0    1  \n",
              "\n",
              "[5 rows x 24 columns]"
            ]
          },
          "execution_count": 78,
          "metadata": {},
          "output_type": "execute_result"
        }
      ],
      "source": [
        "telecom.head()"
      ]
    },
    {
      "cell_type": "code",
      "execution_count": null,
      "metadata": {
        "colab": {
          "base_uri": "https://localhost:8080/"
        },
        "id": "EMyXbjNC3g9p",
        "outputId": "759922dd-372b-400f-ac47-30e41f363c23"
      },
      "outputs": [
        {
          "data": {
            "text/plain": [
              "Index(['customer_id', 'begin_date', 'end_date', 'type', 'paperless',\n",
              "       'pay_method', 'month_charge', 'total_charge', 'gender', 'citizen',\n",
              "       'partner', 'dependents', 'multiple', 'internet', 'security', 'backup',\n",
              "       'protection', 'tech_support', 'TV', 'movies', 'targ', 'days', 'cool',\n",
              "       'down'],\n",
              "      dtype='object')"
            ]
          },
          "execution_count": 79,
          "metadata": {},
          "output_type": "execute_result"
        }
      ],
      "source": [
        "telecom.columns"
      ]
    },
    {
      "cell_type": "code",
      "execution_count": null,
      "metadata": {
        "colab": {
          "base_uri": "https://localhost:8080/"
        },
        "id": "3swJZ4j04Emw",
        "outputId": "e07bedd9-6627-45e0-b662-d3229c49cdae"
      },
      "outputs": [
        {
          "name": "stdout",
          "output_type": "stream",
          "text": [
            "<class 'pandas.core.frame.DataFrame'>\n",
            "Int64Index: 7043 entries, 0 to 7042\n",
            "Data columns (total 24 columns):\n",
            " #   Column        Non-Null Count  Dtype         \n",
            "---  ------        --------------  -----         \n",
            " 0   customer_id   7043 non-null   object        \n",
            " 1   begin_date    7043 non-null   datetime64[ns]\n",
            " 2   end_date      7043 non-null   datetime64[ns]\n",
            " 3   type          7043 non-null   object        \n",
            " 4   paperless     7043 non-null   object        \n",
            " 5   pay_method    7043 non-null   object        \n",
            " 6   month_charge  7043 non-null   float64       \n",
            " 7   total_charge  7043 non-null   object        \n",
            " 8   gender        7043 non-null   object        \n",
            " 9   citizen       7043 non-null   int64         \n",
            " 10  partner       7043 non-null   object        \n",
            " 11  dependents    7043 non-null   object        \n",
            " 12  multiple      7043 non-null   object        \n",
            " 13  internet      7043 non-null   object        \n",
            " 14  security      7043 non-null   object        \n",
            " 15  backup        7043 non-null   object        \n",
            " 16  protection    7043 non-null   object        \n",
            " 17  tech_support  7043 non-null   object        \n",
            " 18  TV            7043 non-null   object        \n",
            " 19  movies        7043 non-null   object        \n",
            " 20  targ          7043 non-null   int64         \n",
            " 21  days          7043 non-null   int64         \n",
            " 22  cool          7043 non-null   int64         \n",
            " 23  down          7043 non-null   int64         \n",
            "dtypes: datetime64[ns](2), float64(1), int64(5), object(16)\n",
            "memory usage: 1.3+ MB\n"
          ]
        }
      ],
      "source": [
        "telecom.info()"
      ]
    },
    {
      "cell_type": "code",
      "execution_count": null,
      "metadata": {
        "id": "Mj9L45z44ZAu"
      },
      "outputs": [],
      "source": [
        "telecom = telecom.replace('No', 0)"
      ]
    },
    {
      "cell_type": "code",
      "execution_count": null,
      "metadata": {
        "colab": {
          "base_uri": "https://localhost:8080/"
        },
        "id": "3fVdgo1Bub3b",
        "outputId": "26bc3733-11d5-4ee8-8ff7-7815ac8b6b51"
      },
      "outputs": [
        {
          "data": {
            "text/plain": [
              "0    5174\n",
              "1    1869\n",
              "Name: targ, dtype: int64"
            ]
          },
          "execution_count": 82,
          "metadata": {},
          "output_type": "execute_result"
        }
      ],
      "source": [
        "telecom.targ.value_counts()"
      ]
    },
    {
      "cell_type": "code",
      "execution_count": null,
      "metadata": {
        "id": "uo5uKW1I6geI"
      },
      "outputs": [],
      "source": [
        "#telecom = telecom.join(pd.get_dummies(telecom['gender'], drop_first=True)).drop('gender', axis=1)\n",
        "#telecom.head() "
      ]
    },
    {
      "cell_type": "code",
      "execution_count": null,
      "metadata": {
        "colab": {
          "base_uri": "https://localhost:8080/"
        },
        "id": "EfowQ1lo2Y3n",
        "outputId": "230a2a6f-60ab-41a2-b957-4fe254129315"
      },
      "outputs": [
        {
          "name": "stdout",
          "output_type": "stream",
          "text": [
            "<class 'pandas.core.frame.DataFrame'>\n",
            "Int64Index: 7043 entries, 0 to 7042\n",
            "Data columns (total 24 columns):\n",
            " #   Column        Non-Null Count  Dtype         \n",
            "---  ------        --------------  -----         \n",
            " 0   customer_id   7043 non-null   object        \n",
            " 1   begin_date    7043 non-null   datetime64[ns]\n",
            " 2   end_date      7043 non-null   datetime64[ns]\n",
            " 3   type          7043 non-null   object        \n",
            " 4   paperless     7043 non-null   int64         \n",
            " 5   pay_method    7043 non-null   object        \n",
            " 6   month_charge  7043 non-null   float64       \n",
            " 7   total_charge  7043 non-null   object        \n",
            " 8   gender        7043 non-null   object        \n",
            " 9   citizen       7043 non-null   int64         \n",
            " 10  partner       7043 non-null   int64         \n",
            " 11  dependents    7043 non-null   int64         \n",
            " 12  multiple      7043 non-null   int64         \n",
            " 13  internet      7043 non-null   object        \n",
            " 14  security      7043 non-null   int64         \n",
            " 15  backup        7043 non-null   int64         \n",
            " 16  protection    7043 non-null   int64         \n",
            " 17  tech_support  7043 non-null   int64         \n",
            " 18  TV            7043 non-null   int64         \n",
            " 19  movies        7043 non-null   int64         \n",
            " 20  targ          7043 non-null   int64         \n",
            " 21  days          7043 non-null   int64         \n",
            " 22  cool          7043 non-null   int64         \n",
            " 23  down          7043 non-null   int64         \n",
            "dtypes: datetime64[ns](2), float64(1), int64(15), object(6)\n",
            "memory usage: 1.3+ MB\n"
          ]
        }
      ],
      "source": [
        "telecom.info()"
      ]
    },
    {
      "cell_type": "markdown",
      "metadata": {
        "id": "r2g4bYAF2jBC"
      },
      "source": [
        "Рассмотрим, какие из признаков больше всего коррелируют со столбцами days и targ"
      ]
    },
    {
      "cell_type": "code",
      "execution_count": null,
      "metadata": {
        "colab": {
          "base_uri": "https://localhost:8080/",
          "height": 976
        },
        "id": "_KzSspBCiCWf",
        "outputId": "93cc9536-2031-4b87-8727-350b4db107d5"
      },
      "outputs": [
        {
          "name": "stdout",
          "output_type": "stream",
          "text": [
            "interval columns not set, guessing: ['paperless', 'month_charge', 'citizen', 'partner', 'dependents', 'multiple', 'security', 'backup', 'protection', 'tech_support', 'TV', 'movies', 'targ', 'days', 'cool', 'down']\n"
          ]
        },
        {
          "name": "stderr",
          "output_type": "stream",
          "text": [
            "/opt/conda/lib/python3.9/site-packages/phik/data_quality.py:59: UserWarning: The number of unique values of variable customer_id is large: 7043. Are you sure this is not an interval variable? Analysis for pairs of variables including customer_id can be slow.\n",
            "  warnings.warn(\n",
            "/opt/conda/lib/python3.9/site-packages/phik/data_quality.py:59: UserWarning: The number of unique values of variable total_charge is large: 6531. Are you sure this is not an interval variable? Analysis for pairs of variables including total_charge can be slow.\n",
            "  warnings.warn(\n"
          ]
        }
      ],
      "source": [
        "phik_overview = telecom.phik_matrix()\n",
        "phik_overview.round(2)\n"
      ]
    },
    {
      "cell_type": "code",
      "execution_count": null,
      "metadata": {
        "id": "-EUEmxIZjt9m"
      },
      "outputs": [],
      "source": [
        "plot_correlation_matrix(phik_overview.values, \n",
        "                        x_labels=phik_overview.columns, \n",
        "                        y_labels=phik_overview.index, \n",
        "                        vmin=0, vmax=1, color_map=\"Greens\", \n",
        "                        title=r\"correlation $\\phi_K$\", \n",
        "                        fontsize_factor=1.5, \n",
        "                        figsize=(20, 16))\n",
        "plt.tight_layout()"
      ]
    },
    {
      "cell_type": "markdown",
      "metadata": {
        "id": "IN6c7vwpsUj_"
      },
      "source": [
        "<div class=\"alert alert-info\">удалила обычную корреляцию, сделала корреляцию Фика</div> "
      ]
    },
    {
      "cell_type": "markdown",
      "metadata": {
        "id": "6GcrvCFL23QB"
      },
      "source": [
        "удалим столбцы, которые нам не нужны, даты, индекс и пол (в таблице корреляции выдно, что целевой признак не зависит от пола)"
      ]
    },
    {
      "cell_type": "code",
      "execution_count": null,
      "metadata": {
        "id": "kQuRK_k76geI"
      },
      "outputs": [],
      "source": [
        "telecom = telecom.drop(columns=['customer_id','begin_date','end_date', 'gender'], axis=1)"
      ]
    },
    {
      "cell_type": "markdown",
      "metadata": {
        "id": "akh0tahKtjkU"
      },
      "source": [
        "Поделим значения на признаки и целевые показатели"
      ]
    },
    {
      "cell_type": "code",
      "execution_count": null,
      "metadata": {
        "id": "XHbFATTH6geI"
      },
      "outputs": [],
      "source": [
        "features = telecom.drop(['targ'], axis=1)\n",
        "target = telecom.targ"
      ]
    },
    {
      "cell_type": "code",
      "execution_count": null,
      "metadata": {
        "id": "gjd69xIQ6geI"
      },
      "outputs": [],
      "source": [
        "telecom.head()"
      ]
    },
    {
      "cell_type": "markdown",
      "metadata": {
        "id": "df-oNRjR3QYJ"
      },
      "source": [
        "Переведем категориальные признаки в числовые значения. Будем использовать Ordinal Encoder для моделей на основе деревьев и OneHotEncoding для линейных моделей"
      ]
    },
    {
      "cell_type": "code",
      "execution_count": null,
      "metadata": {
        "id": "0UqhoJ8x6geI"
      },
      "outputs": [],
      "source": [
        "telecom.type.value_counts()"
      ]
    },
    {
      "cell_type": "code",
      "execution_count": null,
      "metadata": {
        "id": "sAPhrdOa6geI"
      },
      "outputs": [],
      "source": [
        "telecom.pay_method.value_counts()"
      ]
    },
    {
      "cell_type": "code",
      "execution_count": null,
      "metadata": {
        "id": "ffx2C_qu6geJ"
      },
      "outputs": [],
      "source": [
        "telecom.internet.value_counts()"
      ]
    },
    {
      "cell_type": "code",
      "execution_count": null,
      "metadata": {
        "id": "9cpZk5EYo_ZF"
      },
      "outputs": [],
      "source": [
        "telecom.internet.value_counts()"
      ]
    },
    {
      "cell_type": "code",
      "execution_count": null,
      "metadata": {
        "id": "mbtEoREq03OF"
      },
      "outputs": [],
      "source": [
        "features[\"total_charge\"] = pd.to_numeric(features.total_charge, errors='coerce')"
      ]
    },
    {
      "cell_type": "code",
      "execution_count": null,
      "metadata": {
        "id": "COWB5fdhG1-r"
      },
      "outputs": [],
      "source": [
        "STATE = 101022"
      ]
    },
    {
      "cell_type": "code",
      "execution_count": null,
      "metadata": {
        "id": "_TNl2vHYuixb"
      },
      "outputs": [],
      "source": [
        "#создадим выборки train и test   \n",
        "features_train, features_test, target_train, target_test = train_test_split(features, target, \n",
        "                                                                            test_size=0.25, \n",
        "                                                                            stratify=target, \n",
        "                                                                            random_state=STATE)"
      ]
    },
    {
      "cell_type": "code",
      "execution_count": null,
      "metadata": {
        "id": "OXZny30ZyO78"
      },
      "outputs": [],
      "source": [
        "features.info()"
      ]
    },
    {
      "cell_type": "code",
      "execution_count": null,
      "metadata": {
        "id": "X6e54juq6geJ"
      },
      "outputs": [],
      "source": [
        "cols = ['type', 'pay_method', 'internet']\n",
        "encoder = OrdinalEncoder()\n",
        "new_features = features_train[cols]\n",
        "new_features = pd.DataFrame(encoder.fit_transform(new_features), \n",
        "                            columns=new_features.columns, \n",
        "                            index=new_features.index)\n",
        "features_ordinal_train = features_train.copy()\n",
        "for i in cols:\n",
        "  features_ordinal_train[i] = new_features[i]\n",
        "features_ordinal_train"
      ]
    },
    {
      "cell_type": "code",
      "execution_count": null,
      "metadata": {
        "id": "ZTSkSvzB0cwg"
      },
      "outputs": [],
      "source": [
        "cols = ['type', 'pay_method', 'internet']\n",
        "encoder = OrdinalEncoder()\n",
        "new_features = features_test[cols]\n",
        "new_features = pd.DataFrame(encoder.fit_transform(new_features), \n",
        "                            columns=new_features.columns, \n",
        "                            index=new_features.index)\n",
        "features_ordinal_test = features_test.copy()\n",
        "for i in cols:\n",
        "  features_ordinal_test[i] = new_features[i]"
      ]
    },
    {
      "cell_type": "code",
      "execution_count": null,
      "metadata": {
        "id": "up8WTlqiWRXo"
      },
      "outputs": [],
      "source": [
        "features_ordinal_test.total_charge = features_ordinal_test.total_charge.fillna(0)"
      ]
    },
    {
      "cell_type": "code",
      "execution_count": null,
      "metadata": {
        "id": "UzFfaVgzuJNp"
      },
      "outputs": [],
      "source": [
        "features_ohe_train = pd.get_dummies(features_train, drop_first=True)\n",
        "features_ohe_train.head()"
      ]
    },
    {
      "cell_type": "code",
      "execution_count": null,
      "metadata": {
        "id": "P3886vqTMZF_"
      },
      "outputs": [],
      "source": [
        "features_ohe_train.isnull().sum()"
      ]
    },
    {
      "cell_type": "code",
      "execution_count": null,
      "metadata": {
        "id": "EixGvl1mSvBF"
      },
      "outputs": [],
      "source": [
        "features_ohe_train.total_charge = features_ohe_train.total_charge.fillna(0)"
      ]
    },
    {
      "cell_type": "code",
      "execution_count": null,
      "metadata": {
        "id": "mN377iK40R_P"
      },
      "outputs": [],
      "source": [
        "features_ohe_test = pd.get_dummies(features_test, drop_first=True)\n"
      ]
    },
    {
      "cell_type": "code",
      "execution_count": null,
      "metadata": {
        "id": "NzL3vBXKuW-F"
      },
      "outputs": [],
      "source": [
        "features_ohe_test.total_charge = features_ohe_test.total_charge.fillna(0)"
      ]
    },
    {
      "cell_type": "markdown",
      "metadata": {
        "id": "_pfr2nyvvZV1"
      },
      "source": [
        "заполним медианным значением пропуски, которые у нас появилилсь в total_charge, после изменения типа данных"
      ]
    },
    {
      "cell_type": "code",
      "execution_count": null,
      "metadata": {
        "id": "MSlNNApx6geK"
      },
      "outputs": [],
      "source": [
        "#features_ordinal.total_charge = features_ordinal.total_charge.fillna(0)"
      ]
    },
    {
      "cell_type": "code",
      "execution_count": null,
      "metadata": {
        "id": "VJ2KWIALvLVC"
      },
      "outputs": [],
      "source": [
        "#obj = obj.columns\n",
        "#bool_columns = ['type', 'pay_method', 'internet']"
      ]
    },
    {
      "cell_type": "code",
      "execution_count": null,
      "metadata": {
        "id": "oCtWrosIvINs"
      },
      "outputs": [],
      "source": [
        "#quant_columns = ['paperless', 'month_charge', 'total_charge', 'citizen', 'partner', 'dependents', 'backup', 'protection',\n",
        "                 'tech_support', 'TV', 'movies', 'days', 'cool', 'down']"
      ]
    },
    {
      "cell_type": "code",
      "execution_count": null,
      "metadata": {
        "id": "olUkzZ-7vDFV"
      },
      "outputs": [],
      "source": [
        "scaler = StandardScaler()\n",
        "#scaler.fit(features_ordinal_train[quant_columns])"
      ]
    },
    {
      "cell_type": "code",
      "execution_count": null,
      "metadata": {
        "id": "l0TOLrlwvAhx"
      },
      "outputs": [],
      "source": [
        "scaler.fit(features_ordinal_train)\n",
        "#features_ordinal_train = scaler.transform(features_ordinal_train)\n",
        "features_ordinal_test = scaler.transform(features_ordinal_test)"
      ]
    },
    {
      "cell_type": "code",
      "execution_count": null,
      "metadata": {
        "id": "xm69DQcO6baA"
      },
      "outputs": [],
      "source": [
        "features_ordinal_train.isnull().sum()"
      ]
    },
    {
      "cell_type": "code",
      "execution_count": null,
      "metadata": {
        "id": "0G-cZItJTDe0"
      },
      "outputs": [],
      "source": [
        "features_ordinal_train.total_charge = features_ordinal_train.total_charge.fillna(0)"
      ]
    },
    {
      "cell_type": "code",
      "execution_count": null,
      "metadata": {
        "id": "46ABltr46KVk"
      },
      "outputs": [],
      "source": [
        "scaler = StandardScaler()\n",
        "scaler.fit(features_ohe_train)"
      ]
    },
    {
      "cell_type": "code",
      "execution_count": null,
      "metadata": {
        "id": "8W9hlK91uY6c"
      },
      "outputs": [],
      "source": [
        "features_ohe_test = scaler.transform(features_ohe_test)"
      ]
    },
    {
      "cell_type": "markdown",
      "metadata": {
        "id": "a9TrOz345MXI"
      },
      "source": [
        "Попробуем подобрать гиперпараметры с помощью GridSearch для трех моделей: Logistic Regression, SGDClassifier, Random Forest Classifier"
      ]
    },
    {
      "cell_type": "markdown",
      "metadata": {
        "id": "SDecZWWyvpgU"
      },
      "source": [
        "## Логистическая регрессия"
      ]
    },
    {
      "cell_type": "code",
      "execution_count": null,
      "metadata": {
        "id": "jSsNLTQX6geL"
      },
      "outputs": [],
      "source": [
        "model_lr =LogisticRegression(random_state=STATE, solver='lbfgs')"
      ]
    },
    {
      "cell_type": "code",
      "execution_count": null,
      "metadata": {
        "id": "ZSWxGUgr6geL"
      },
      "outputs": [],
      "source": [
        "params_lr = {\n",
        "           'class_weight':['balanced'],\n",
        "           'C':[3],\n",
        "           'max_iter':[500]}  "
      ]
    },
    {
      "cell_type": "code",
      "execution_count": null,
      "metadata": {
        "id": "e_p_vulj6geL"
      },
      "outputs": [],
      "source": [
        "grid_lr = GridSearchCV(model_lr, param_grid=params_lr, scoring='roc_auc',verbose=3, cv=5)"
      ]
    },
    {
      "cell_type": "code",
      "execution_count": null,
      "metadata": {
        "id": "mrbtDaZj6geL"
      },
      "outputs": [],
      "source": [
        "grid_lr.fit(features_ohe_train, target_train) "
      ]
    },
    {
      "cell_type": "code",
      "execution_count": null,
      "metadata": {
        "id": "Q3zp9q8F6geL"
      },
      "outputs": [],
      "source": [
        "grid_lr.best_score_"
      ]
    },
    {
      "cell_type": "code",
      "execution_count": null,
      "metadata": {
        "id": "1JRGF5ACLLzb"
      },
      "outputs": [],
      "source": [
        "grid_lr.best_params_"
      ]
    },
    {
      "cell_type": "markdown",
      "metadata": {
        "id": "_VbtMeRMvwMH"
      },
      "source": [
        "## SGDClassifier"
      ]
    },
    {
      "cell_type": "code",
      "execution_count": null,
      "metadata": {
        "id": "510eI1U5Km9e"
      },
      "outputs": [],
      "source": [
        "classifier = SGDClassifier(random_state = STATE, tol=1e-3)"
      ]
    },
    {
      "cell_type": "code",
      "execution_count": null,
      "metadata": {
        "id": "JtMemBpjKm7H"
      },
      "outputs": [],
      "source": [
        "parameters_grid = {\n",
        "       'alpha' : np.linspace(0.00001, 0.00005, 15),\n",
        "       'learning_rate': ['optimal', 'constant', 'invscaling'],\n",
        "       'max_iter' : np.arange(5,8),\n",
        "   }"
      ]
    },
    {
      "cell_type": "code",
      "execution_count": null,
      "metadata": {
        "id": "1p7SMwGrKm44"
      },
      "outputs": [],
      "source": [
        "grid_cv = GridSearchCV(classifier, parameters_grid, scoring = 'roc_auc', cv = 5)\n",
        "grid_cv.fit(features_ordinal_train, target_train)"
      ]
    },
    {
      "cell_type": "code",
      "execution_count": null,
      "metadata": {
        "id": "tDt3D3W5MW2b"
      },
      "outputs": [],
      "source": [
        "grid_cv.best_score_"
      ]
    },
    {
      "cell_type": "code",
      "execution_count": null,
      "metadata": {
        "id": "irobN704Km2c"
      },
      "outputs": [],
      "source": [
        "grid_cv.best_params_"
      ]
    },
    {
      "cell_type": "markdown",
      "metadata": {
        "id": "iG1VNgvbwpd3"
      },
      "source": [
        "## Random Forest Classifier"
      ]
    },
    {
      "cell_type": "code",
      "execution_count": null,
      "metadata": {
        "id": "dg69wczxKmsl"
      },
      "outputs": [],
      "source": [
        "param_grid = {'n_estimators': [300],\n",
        "              'max_depth': [5, 7, 9],\n",
        "              'max_features': [3, 5, 7],\n",
        "              'min_samples_split': [2, 4, 6],\n",
        "              'min_samples_leaf': [2, 4, 6],\n",
        "             }\n",
        "\n",
        "model_rf = RandomForestClassifier(random_state = STATE)\n",
        "grid_cv_rf = GridSearchCV(estimator = model_rf,\n",
        "                           param_grid = param_grid,\n",
        "                           cv = 3,\n",
        "                           n_jobs = -1,\n",
        "                           verbose = 2,\n",
        "                           scoring = 'roc_auc')\n",
        "grid_cv_rf.fit(features_ordinal_train, target_train)"
      ]
    },
    {
      "cell_type": "code",
      "execution_count": null,
      "metadata": {
        "id": "fJsMb-0zxGhJ"
      },
      "outputs": [],
      "source": [
        "grid_cv_rf.best_score_"
      ]
    },
    {
      "cell_type": "code",
      "execution_count": null,
      "metadata": {
        "id": "3EKkISEhzFKP"
      },
      "outputs": [],
      "source": [
        "grid_cv_rf.best_params_"
      ]
    },
    {
      "cell_type": "code",
      "execution_count": null,
      "metadata": {
        "id": "2egJSkHUzREM"
      },
      "outputs": [],
      "source": [
        "RF_best_params = grid_cv_rf.best_params_"
      ]
    },
    {
      "cell_type": "code",
      "execution_count": null,
      "metadata": {
        "id": "zZnS6697zsSx"
      },
      "outputs": [],
      "source": [
        "from sklearn.pipeline import Pipeline\n",
        "from sklearn.model_selection import StratifiedKFold, GridSearchCV, cross_val_score"
      ]
    },
    {
      "cell_type": "code",
      "execution_count": null,
      "metadata": {
        "id": "IiYcb5IYytEH"
      },
      "outputs": [],
      "source": [
        "# Функции, которые в дальнейшем понадобятся\n",
        "def plot_features_scores(model, data, target, column_names, model_type):\n",
        "    '''Функция для визуализации важности признаков'''\n",
        "    \n",
        "    model.fit(features_ordinal_train, target)\n",
        "    \n",
        "    if model_type == 'rf':\n",
        "        (pd.DataFrame(data={'score': model['rf'].feature_importances_}, \n",
        "                      index=column_names).sort_values(by='score')\n",
        "                                         .plot(kind='barh', grid=True,\n",
        "                                               figsize=(6,6), legend=False));\n",
        "    elif model_type == 'lr':\n",
        "        (pd.DataFrame(data={'score': model['lr'].coef_[0]},\n",
        "                      index=column_names).sort_values(by='score')\n",
        "                                         .plot(kind='barh', grid=True,\n",
        "                                               figsize=(6,6), legend=False));\n",
        "        \n",
        "    else:\n",
        "        raise KeyError('Unknown model_type')\n",
        "\n",
        "def grid_search(model, gs_params):\n",
        "    '''Функция для подбора гиперпараметров с помощью перекрёстной проверки'''\n",
        "     \n",
        "    gs = GridSearchCV(estimator=model, param_grid=gs_params, refit=True,\n",
        "                      scoring='roc_auc', n_jobs=-1, cv=skf, verbose=0)\n",
        "    gs.fit(X, y)\n",
        "    scores = [gs.cv_results_[f'split{i}_test_score'][gs.best_index_] for i in range(5)]\n",
        "    print('scores = {}, \\nmean score = {:.5f} +/- {:.5f} \\\n",
        "           \\nbest params = {}'.format(scores,\n",
        "                                      gs.cv_results_['mean_test_score'][gs.best_index_],\n",
        "                                      gs.cv_results_['std_test_score'][gs.best_index_],\n",
        "                                      gs.best_params_))\n",
        "    return gs\n",
        "        \n",
        "\n"
      ]
    },
    {
      "cell_type": "code",
      "execution_count": null,
      "metadata": {
        "id": "DvGa9E7r0qyj"
      },
      "outputs": [],
      "source": [
        "features_ordinal_train.columns"
      ]
    },
    {
      "cell_type": "code",
      "execution_count": null,
      "metadata": {
        "id": "SG7A_zKey2B3"
      },
      "outputs": [],
      "source": [
        "rf = Pipeline([('rf', RandomForestClassifier(n_jobs=-1, \n",
        "                                             class_weight='balanced', \n",
        "                                             random_state=STATE))])\n",
        "\n",
        "# параметры кросс-валидации (стратифицированная 5-фолдовая с перемешиванием) \n",
        "skf = StratifiedKFold(n_splits=5, shuffle=True, random_state=STATE)\n",
        "\n",
        "scores = cross_val_score(estimator=rf, X=features_ordinal_train, y=target_train, \n",
        "                         cv=skf, scoring='roc_auc', n_jobs=-1)\n",
        "print('scores = {} \\nmean score = {:.5f} +/- {:.5f}'.format(scores, scores.mean(), scores.std()))\n",
        "\n",
        "# важность признаков\n",
        "plot_features_scores(model=rf, data=features_ordinal_train, target=target_train, column_names=features_ordinal_train.columns, model_type='rf')"
      ]
    },
    {
      "cell_type": "markdown",
      "metadata": {
        "id": "2aCYiCqo5307"
      },
      "source": [
        "Предварительно, лучшие результаты показала модель Random Forest ее же мы используем, для проверки на тестовой выборке"
      ]
    },
    {
      "cell_type": "markdown",
      "metadata": {
        "id": "0yT_RRvj49aK"
      },
      "source": [
        "## Проверка на тестовой выборке"
      ]
    },
    {
      "cell_type": "code",
      "execution_count": null,
      "metadata": {
        "id": "WVl8ssWTyf9m"
      },
      "outputs": [],
      "source": [
        "model_rf = RandomForestClassifier()\n",
        "model_rf.set_params(**RF_best_params)\n",
        "model_rf.fit(features_ordinal_test, target_test)"
      ]
    },
    {
      "cell_type": "code",
      "execution_count": null,
      "metadata": {
        "id": "iWkne5Je0mR2"
      },
      "outputs": [],
      "source": [
        "probabilities_test = model_rf.predict_proba(features_ordinal_test)\n",
        "probabilities_one_valid = probabilities_test[:, 1]\n",
        "auc_roc = roc_auc_score(target_test, probabilities_one_valid)"
      ]
    },
    {
      "cell_type": "code",
      "execution_count": null,
      "metadata": {
        "id": "hIG5IO1r0znJ"
      },
      "outputs": [],
      "source": [
        "auc_roc"
      ]
    },
    {
      "cell_type": "markdown",
      "metadata": {
        "id": "5alz6OTkBfEN"
      },
      "source": [
        "## Отчет по проделанной работе"
      ]
    },
    {
      "cell_type": "markdown",
      "metadata": {
        "id": "Rmtsi2DMBfEN"
      },
      "source": [
        "Меня зовут Юлия Ларина и это презентация Выпускного проекта \"Телеком\" для финального спринта курса Data Scientist."
      ]
    },
    {
      "cell_type": "markdown",
      "metadata": {
        "id": "iezNOsPiBfEN"
      },
      "source": [
        "### Цель проекта "
      ]
    },
    {
      "cell_type": "markdown",
      "metadata": {
        "id": "fpAMXnY7BfEO"
      },
      "source": [
        "Построить модель классификации для предсказания оттока клиентов для телеком компании. В качестве ключевой метрики использовать Roc-Auc выше 0,85. Данные были выгружены 20 февраля 2020 года"
      ]
    },
    {
      "cell_type": "markdown",
      "metadata": {
        "id": "rX_sIwbzBfEO"
      },
      "source": [
        "### План проекта"
      ]
    },
    {
      "cell_type": "markdown",
      "metadata": {
        "id": "T75GvvkSBfEO"
      },
      "source": [
        "* Предобработка данных - удалить не нужные колонки, заполнить пропуски, провести исследовательский анализ и избавиться от выбросов если есть\n",
        "* Выбрать критерии, которые влияют на то, уйдет клиент или нет. Выделить целевой признак из даты EndDate, отдельным столбцом ушел ли человек или нет 1 или 0. Поделить данные на features и target\n",
        "* Поделить features на обучающую и тестовую выборки в стандартом соотношении 0,75 - 0,25\n",
        "* Произвести кодирование признаков, так как у нас задача классификации, то кодирование будет OHE\n",
        "* Определить гиперпараметры с помощью кроссвалидации или Grid Search\n",
        "* Обучить три модели, рассчитать ROC AUC и Accuracy\n",
        "* Модель, показавшуюю лучшие значения ROC AUC проверить на тестовой выборке\n",
        "* Анализ финальной модели"
      ]
    },
    {
      "cell_type": "markdown",
      "metadata": {
        "id": "IuAfoni3BfEO"
      },
      "source": [
        "### Ход работы"
      ]
    },
    {
      "cell_type": "markdown",
      "metadata": {
        "id": "ZhX24uk3BfEO"
      },
      "source": [
        "1. Во время предобработки данных были удалены ненужные колонки заполнены пропуски а также был проведён исследовательский анализ для того чтобы избавиться от выбросов. Мы обнаружили что пропуски в данных отсутствовали и смогли соединить между собой четыре таблицы с помощью функции merge по столбцу customer_id. После объединения таблицы так как каждая таблица имела различное количество строк, то в итоговой таблицы образовались пропуски, самое большое количество строк было 7043 самое маленькое количество строк было 5517. Было принято решение заполнить пропуски с помощью \"No\""
      ]
    },
    {
      "cell_type": "markdown",
      "metadata": {
        "id": "6EYtDpbzBfEO"
      },
      "source": [
        "2. Следующим шагам необходимо было определить целевые признаки и фичи для формирования целевого признака. целевой признак формировался следующим образом: если дата ухода клиента из Телеком есть, значит он ушел, значит = 1, если даты нет, значит он остался с Телеком это = 0. Так сформировался целевой признак targ"
      ]
    },
    {
      "cell_type": "markdown",
      "metadata": {
        "id": "PiYlGzLSBfEO"
      },
      "source": [
        "Также были сформированы другие признаки. Первый признак это количество дней сколько клиент пользовался услугами компании. Он расчитывался по разнице между датой прихода - begin_date и даты ухода - end_date. Следующий признак касался VIP клиентов, это те люди которым находились в Телекоме больше 1500 дней и месячный платёж их составлял больше 80. Следующий признак это обратный от VIP клиентов, он формировался если человек находился пользовался услугами меньше 200 дней и в ежемесячный платёж составлял меньше 20, то есть не надёжные клиенты."
      ]
    },
    {
      "cell_type": "markdown",
      "metadata": {
        "id": "1eL7RBu0BfEO"
      },
      "source": [
        "На графике мы видим разницу в пользователях которые ушли из компании или остались в ней. На графике отображены временные промежутки когда клиент находился в компании, а также его месячный платёж."
      ]
    },
    {
      "cell_type": "markdown",
      "metadata": {
        "id": "wwcE70u0BfEO"
      },
      "source": [
        "![image.png](attachment:image.png)"
      ]
    },
    {
      "cell_type": "markdown",
      "metadata": {
        "id": "sysvNzlfBfEO"
      },
      "source": [
        "3. Далее, необходимо было понять какие признаки наиболее важны для формирования таргета. У нас пристусвую бинарные категориальные признаки, поэтому мы воспользовались коэфицентом Спирмена и библиотекой Phik. И отобразили результаты на температурный диаграмме. Благодаря выявленный корреляци, мы определили, что признак gender не влияет на целевой признак. Поэтому для итоговых признаков мы удалили целый столбец этого признака. Также были удалены столбце Customer_id, begin_date, и and_date. Далее все признаки были поделены на features и target в качестве таргета мы использовали столбец \"targ\"   "
      ]
    },
    {
      "cell_type": "markdown",
      "metadata": {
        "id": "VCsPdxVeBfEO"
      },
      "source": [
        "![image.png](attachment:image.png)"
      ]
    },
    {
      "cell_type": "markdown",
      "metadata": {
        "id": "JFhzxSy7BfEO"
      },
      "source": [
        "4. После отделения признаков на выборки в соотношений 0,25 к 0,75 мы должны были произвести кодирования признаков. В качестве кодирования признаков мы использовали два метода первый из которых OHE и второй Ordinal Encoding. тип кодирования признаков определялся из выбора моделей для предсказаний. Для линейных моделей лучше использовать OHE. После проведения кодирования признаков мы также произвели масштабирование признаков. Признаках присутствовал небольшой дисбаланс классов поэтому при делении на выборки мы установили параметр stratify=target"
      ]
    },
    {
      "cell_type": "markdown",
      "metadata": {
        "id": "SnsIvbLlBfEO"
      },
      "source": [
        "5. Далее мы определили лучшие гипер параметры для каждой из трёх моделей с помощью Grid Search в качестве модели были использованы такие как Linear Regression, SGDClassifier, и Random Forest Classifier."
      ]
    },
    {
      "cell_type": "markdown",
      "metadata": {
        "id": "6kqnobzkBfEO"
      },
      "source": [
        "6. Мы обучили три разные модели на выборки train которые были предварительно кодированные с помощью разных методик кодировки. По результатам обучения модели, лучшие результаты показала модель Random Forest Classifier. Для тестирования тестовый выборки мы использовали именно эту модель. Мерика качества модели auc-ruc на тестовой выборке показала значение 0,97."
      ]
    },
    {
      "cell_type": "markdown",
      "metadata": {
        "id": "PI1RgGS-BfEP"
      },
      "source": [
        "7. Согласно рекомендации тимлида, мы определили какие все же из показателей повлияли на предсказания модели и расположили их в порядке приорететности"
      ]
    },
    {
      "cell_type": "markdown",
      "metadata": {
        "id": "koIp8wWgBfEP"
      },
      "source": [
        "![image.png](attachment:image.png)"
      ]
    },
    {
      "cell_type": "markdown",
      "metadata": {
        "id": "ZmQN-zKkBfEP"
      },
      "source": [
        "ВЫВОД: модель Random Forest Classifier на тестовой выборке показала невероятно высокие значения метрики roc-auc поэтому лучшим из решением было бы проверить также другие метрике качества такие как матрица ошибок, F1 и accuracy. В целом, можно сделать заключение, что цель проекта достигнута и модель для классификации клиентов по признаку ушел или остался в компании достигнута. Компания сможет предсказывать поведение клиентов, тем самым предлагая им лучшие из условий заранее."
      ]
    }
  ],
  "metadata": {
    "ExecuteTimeLog": [
      {
        "duration": 54,
        "start_time": "2022-10-11T13:49:59.406Z"
      },
      {
        "duration": 218,
        "start_time": "2022-10-11T13:50:01.920Z"
      },
      {
        "duration": 7,
        "start_time": "2022-10-11T13:50:02.414Z"
      },
      {
        "duration": 101,
        "start_time": "2022-10-11T13:50:17.061Z"
      },
      {
        "duration": 0,
        "start_time": "2022-10-11T13:50:17.164Z"
      },
      {
        "duration": 400,
        "start_time": "2022-10-11T13:50:27.541Z"
      },
      {
        "duration": 169,
        "start_time": "2022-10-11T13:50:40.279Z"
      },
      {
        "duration": 16,
        "start_time": "2022-10-11T13:51:08.577Z"
      },
      {
        "duration": 66,
        "start_time": "2022-10-11T13:52:09.739Z"
      },
      {
        "duration": 102,
        "start_time": "2022-10-11T13:52:39.582Z"
      },
      {
        "duration": 54,
        "start_time": "2022-10-11T13:52:54.873Z"
      },
      {
        "duration": 343,
        "start_time": "2022-10-11T13:53:15.278Z"
      },
      {
        "duration": 52,
        "start_time": "2022-10-11T13:53:15.623Z"
      },
      {
        "duration": 69,
        "start_time": "2022-10-11T13:53:15.677Z"
      },
      {
        "duration": 0,
        "start_time": "2022-10-11T13:53:15.747Z"
      },
      {
        "duration": 0,
        "start_time": "2022-10-11T13:53:15.748Z"
      },
      {
        "duration": 31,
        "start_time": "2022-10-11T13:53:25.305Z"
      },
      {
        "duration": 49,
        "start_time": "2022-10-11T13:54:49.403Z"
      },
      {
        "duration": 341,
        "start_time": "2022-10-11T13:58:22.086Z"
      },
      {
        "duration": 48,
        "start_time": "2022-10-11T13:58:22.429Z"
      },
      {
        "duration": 16,
        "start_time": "2022-10-11T13:58:22.479Z"
      },
      {
        "duration": 54,
        "start_time": "2022-10-11T13:58:22.497Z"
      },
      {
        "duration": 119,
        "start_time": "2022-10-11T13:58:22.552Z"
      },
      {
        "duration": 0,
        "start_time": "2022-10-11T13:58:22.672Z"
      },
      {
        "duration": 12,
        "start_time": "2022-10-11T13:59:12.321Z"
      },
      {
        "duration": 7,
        "start_time": "2022-10-11T14:00:12.679Z"
      },
      {
        "duration": 372,
        "start_time": "2022-10-11T14:00:25.051Z"
      },
      {
        "duration": 47,
        "start_time": "2022-10-11T14:00:25.425Z"
      },
      {
        "duration": 17,
        "start_time": "2022-10-11T14:00:25.473Z"
      },
      {
        "duration": 20,
        "start_time": "2022-10-11T14:00:25.492Z"
      },
      {
        "duration": 8,
        "start_time": "2022-10-11T14:00:25.514Z"
      },
      {
        "duration": 322,
        "start_time": "2022-10-11T14:00:25.523Z"
      },
      {
        "duration": 0,
        "start_time": "2022-10-11T14:00:25.847Z"
      },
      {
        "duration": 0,
        "start_time": "2022-10-11T14:00:25.848Z"
      },
      {
        "duration": 9,
        "start_time": "2022-10-11T14:00:41.862Z"
      },
      {
        "duration": 61,
        "start_time": "2022-10-11T14:23:17.996Z"
      },
      {
        "duration": 333,
        "start_time": "2022-10-11T14:23:48.261Z"
      },
      {
        "duration": 48,
        "start_time": "2022-10-11T14:23:48.596Z"
      },
      {
        "duration": 16,
        "start_time": "2022-10-11T14:23:48.645Z"
      },
      {
        "duration": 19,
        "start_time": "2022-10-11T14:23:48.663Z"
      },
      {
        "duration": 9,
        "start_time": "2022-10-11T14:23:48.684Z"
      },
      {
        "duration": 91,
        "start_time": "2022-10-11T14:23:48.694Z"
      },
      {
        "duration": 0,
        "start_time": "2022-10-11T14:23:48.787Z"
      },
      {
        "duration": 0,
        "start_time": "2022-10-11T14:23:48.788Z"
      },
      {
        "duration": 0,
        "start_time": "2022-10-11T14:23:48.788Z"
      },
      {
        "duration": 427,
        "start_time": "2022-10-11T14:24:36.595Z"
      },
      {
        "duration": 48,
        "start_time": "2022-10-11T14:24:37.024Z"
      },
      {
        "duration": 17,
        "start_time": "2022-10-11T14:24:37.074Z"
      },
      {
        "duration": 21,
        "start_time": "2022-10-11T14:24:37.093Z"
      },
      {
        "duration": 8,
        "start_time": "2022-10-11T14:24:37.116Z"
      },
      {
        "duration": 98,
        "start_time": "2022-10-11T14:24:37.125Z"
      },
      {
        "duration": 10,
        "start_time": "2022-10-11T14:24:37.225Z"
      },
      {
        "duration": 42,
        "start_time": "2022-10-11T14:24:37.237Z"
      },
      {
        "duration": 6,
        "start_time": "2022-10-11T14:24:37.281Z"
      },
      {
        "duration": 23,
        "start_time": "2022-10-11T14:26:49.347Z"
      },
      {
        "duration": 355,
        "start_time": "2022-10-11T15:48:23.142Z"
      },
      {
        "duration": 46,
        "start_time": "2022-10-11T15:48:23.499Z"
      },
      {
        "duration": 16,
        "start_time": "2022-10-11T15:48:23.547Z"
      },
      {
        "duration": 10,
        "start_time": "2022-10-11T15:48:23.565Z"
      },
      {
        "duration": 20,
        "start_time": "2022-10-11T15:48:23.576Z"
      },
      {
        "duration": 7,
        "start_time": "2022-10-11T15:48:23.597Z"
      },
      {
        "duration": 25,
        "start_time": "2022-10-11T15:48:23.606Z"
      },
      {
        "duration": 10,
        "start_time": "2022-10-11T15:48:23.632Z"
      },
      {
        "duration": 20,
        "start_time": "2022-10-11T15:48:23.644Z"
      },
      {
        "duration": 6,
        "start_time": "2022-10-11T15:48:23.666Z"
      },
      {
        "duration": 412,
        "start_time": "2022-10-14T14:03:18.814Z"
      },
      {
        "duration": 165,
        "start_time": "2022-10-14T14:03:19.228Z"
      },
      {
        "duration": 20,
        "start_time": "2022-10-14T14:03:19.395Z"
      },
      {
        "duration": 14,
        "start_time": "2022-10-14T14:03:19.417Z"
      },
      {
        "duration": 180,
        "start_time": "2022-10-14T14:03:19.432Z"
      },
      {
        "duration": 11,
        "start_time": "2022-10-14T14:03:19.613Z"
      },
      {
        "duration": 20,
        "start_time": "2022-10-14T14:03:19.625Z"
      },
      {
        "duration": 175,
        "start_time": "2022-10-14T14:03:19.647Z"
      },
      {
        "duration": 13,
        "start_time": "2022-10-14T14:03:19.823Z"
      },
      {
        "duration": 90,
        "start_time": "2022-10-14T14:03:19.838Z"
      },
      {
        "duration": 8,
        "start_time": "2022-10-14T14:03:19.930Z"
      },
      {
        "duration": 433,
        "start_time": "2022-10-14T14:03:49.692Z"
      },
      {
        "duration": 53,
        "start_time": "2022-10-14T14:03:50.127Z"
      },
      {
        "duration": 19,
        "start_time": "2022-10-14T14:03:50.182Z"
      },
      {
        "duration": 25,
        "start_time": "2022-10-14T14:03:50.203Z"
      },
      {
        "duration": 37,
        "start_time": "2022-10-14T14:03:50.230Z"
      },
      {
        "duration": 11,
        "start_time": "2022-10-14T14:03:50.268Z"
      },
      {
        "duration": 29,
        "start_time": "2022-10-14T14:03:50.280Z"
      },
      {
        "duration": 41,
        "start_time": "2022-10-14T14:03:50.310Z"
      },
      {
        "duration": 11,
        "start_time": "2022-10-14T14:03:50.353Z"
      },
      {
        "duration": 23,
        "start_time": "2022-10-14T14:03:50.367Z"
      },
      {
        "duration": 43,
        "start_time": "2022-10-14T14:03:50.392Z"
      },
      {
        "duration": 9,
        "start_time": "2022-10-14T14:03:50.437Z"
      },
      {
        "duration": 43,
        "start_time": "2022-10-14T14:03:50.448Z"
      },
      {
        "duration": 431,
        "start_time": "2022-10-14T14:10:06.889Z"
      },
      {
        "duration": 58,
        "start_time": "2022-10-14T14:10:07.323Z"
      },
      {
        "duration": 26,
        "start_time": "2022-10-14T14:10:07.383Z"
      },
      {
        "duration": 18,
        "start_time": "2022-10-14T14:10:07.411Z"
      },
      {
        "duration": 23,
        "start_time": "2022-10-14T14:10:07.431Z"
      },
      {
        "duration": 9,
        "start_time": "2022-10-14T14:10:07.456Z"
      },
      {
        "duration": 26,
        "start_time": "2022-10-14T14:10:07.467Z"
      },
      {
        "duration": 22,
        "start_time": "2022-10-14T14:10:07.495Z"
      },
      {
        "duration": 11,
        "start_time": "2022-10-14T14:10:07.519Z"
      },
      {
        "duration": 31,
        "start_time": "2022-10-14T14:10:07.531Z"
      },
      {
        "duration": 26,
        "start_time": "2022-10-14T14:10:07.564Z"
      },
      {
        "duration": 20,
        "start_time": "2022-10-14T14:10:07.592Z"
      },
      {
        "duration": 14,
        "start_time": "2022-10-14T14:10:07.614Z"
      },
      {
        "duration": 75,
        "start_time": "2022-10-14T14:10:07.630Z"
      },
      {
        "duration": 408,
        "start_time": "2022-10-14T14:24:01.147Z"
      },
      {
        "duration": 52,
        "start_time": "2022-10-14T14:24:01.558Z"
      },
      {
        "duration": 19,
        "start_time": "2022-10-14T14:24:01.612Z"
      },
      {
        "duration": 19,
        "start_time": "2022-10-14T14:24:01.634Z"
      },
      {
        "duration": 31,
        "start_time": "2022-10-14T14:24:01.657Z"
      },
      {
        "duration": 62,
        "start_time": "2022-10-14T14:24:01.690Z"
      },
      {
        "duration": 10,
        "start_time": "2022-10-14T14:24:01.753Z"
      },
      {
        "duration": 32,
        "start_time": "2022-10-14T14:24:01.765Z"
      },
      {
        "duration": 42,
        "start_time": "2022-10-14T14:24:01.799Z"
      },
      {
        "duration": 16,
        "start_time": "2022-10-14T14:24:01.845Z"
      },
      {
        "duration": 27,
        "start_time": "2022-10-14T14:24:01.863Z"
      },
      {
        "duration": 34,
        "start_time": "2022-10-14T14:24:01.895Z"
      },
      {
        "duration": 22,
        "start_time": "2022-10-14T14:24:01.932Z"
      },
      {
        "duration": 28,
        "start_time": "2022-10-14T14:24:01.958Z"
      },
      {
        "duration": 114,
        "start_time": "2022-10-14T14:24:01.989Z"
      },
      {
        "duration": 443,
        "start_time": "2022-10-14T14:24:53.578Z"
      },
      {
        "duration": 53,
        "start_time": "2022-10-14T14:24:54.023Z"
      },
      {
        "duration": 21,
        "start_time": "2022-10-14T14:24:54.078Z"
      },
      {
        "duration": 50,
        "start_time": "2022-10-14T14:24:54.101Z"
      },
      {
        "duration": 33,
        "start_time": "2022-10-14T14:24:54.153Z"
      },
      {
        "duration": 44,
        "start_time": "2022-10-14T14:24:54.188Z"
      },
      {
        "duration": 10,
        "start_time": "2022-10-14T14:24:54.234Z"
      },
      {
        "duration": 28,
        "start_time": "2022-10-14T14:24:54.245Z"
      },
      {
        "duration": 39,
        "start_time": "2022-10-14T14:24:54.275Z"
      },
      {
        "duration": 20,
        "start_time": "2022-10-14T14:24:54.316Z"
      },
      {
        "duration": 23,
        "start_time": "2022-10-14T14:24:54.340Z"
      },
      {
        "duration": 28,
        "start_time": "2022-10-14T14:24:54.365Z"
      },
      {
        "duration": 11,
        "start_time": "2022-10-14T14:24:54.395Z"
      },
      {
        "duration": 14,
        "start_time": "2022-10-14T14:24:54.409Z"
      },
      {
        "duration": 109,
        "start_time": "2022-10-14T14:24:54.425Z"
      },
      {
        "duration": 24,
        "start_time": "2022-10-14T14:25:37.855Z"
      },
      {
        "duration": 15,
        "start_time": "2022-10-14T14:31:31.821Z"
      },
      {
        "duration": 14,
        "start_time": "2022-10-14T14:31:39.960Z"
      },
      {
        "duration": 18,
        "start_time": "2022-10-14T14:35:36.452Z"
      },
      {
        "duration": 69,
        "start_time": "2022-10-14T14:35:47.133Z"
      },
      {
        "duration": 18,
        "start_time": "2022-10-14T14:35:52.812Z"
      },
      {
        "duration": 7,
        "start_time": "2022-10-14T14:35:53.491Z"
      },
      {
        "duration": 19,
        "start_time": "2022-10-14T14:36:01.981Z"
      },
      {
        "duration": 30,
        "start_time": "2022-10-14T14:36:02.442Z"
      },
      {
        "duration": 401,
        "start_time": "2022-10-15T08:40:36.614Z"
      },
      {
        "duration": 154,
        "start_time": "2022-10-15T08:40:37.103Z"
      },
      {
        "duration": 19,
        "start_time": "2022-10-15T08:40:37.258Z"
      },
      {
        "duration": 15,
        "start_time": "2022-10-15T08:40:37.278Z"
      },
      {
        "duration": 7,
        "start_time": "2022-10-15T08:40:37.295Z"
      },
      {
        "duration": 116,
        "start_time": "2022-10-15T08:40:37.303Z"
      },
      {
        "duration": 9,
        "start_time": "2022-10-15T08:40:37.420Z"
      },
      {
        "duration": 13,
        "start_time": "2022-10-15T08:40:37.431Z"
      },
      {
        "duration": 91,
        "start_time": "2022-10-15T08:40:37.446Z"
      },
      {
        "duration": 11,
        "start_time": "2022-10-15T08:40:37.538Z"
      },
      {
        "duration": 14,
        "start_time": "2022-10-15T08:40:37.550Z"
      },
      {
        "duration": 107,
        "start_time": "2022-10-15T08:40:39.016Z"
      },
      {
        "duration": 7,
        "start_time": "2022-10-15T08:40:39.523Z"
      },
      {
        "duration": 11,
        "start_time": "2022-10-15T08:40:41.181Z"
      },
      {
        "duration": 17,
        "start_time": "2022-10-15T08:40:46.039Z"
      },
      {
        "duration": 14,
        "start_time": "2022-10-15T08:40:53.564Z"
      },
      {
        "duration": 9,
        "start_time": "2022-10-15T08:41:03.146Z"
      },
      {
        "duration": 17,
        "start_time": "2022-10-15T08:41:18.073Z"
      },
      {
        "duration": 63,
        "start_time": "2022-10-15T08:41:52.477Z"
      },
      {
        "duration": 11,
        "start_time": "2022-10-15T08:41:58.565Z"
      },
      {
        "duration": 33,
        "start_time": "2022-10-15T08:42:11.676Z"
      },
      {
        "duration": 25,
        "start_time": "2022-10-15T08:43:00.846Z"
      },
      {
        "duration": 438,
        "start_time": "2022-10-15T09:24:17.667Z"
      },
      {
        "duration": 61,
        "start_time": "2022-10-15T09:24:18.108Z"
      },
      {
        "duration": 31,
        "start_time": "2022-10-15T09:24:18.171Z"
      },
      {
        "duration": 23,
        "start_time": "2022-10-15T09:24:18.206Z"
      },
      {
        "duration": 23,
        "start_time": "2022-10-15T09:24:18.231Z"
      },
      {
        "duration": 32,
        "start_time": "2022-10-15T09:24:18.256Z"
      },
      {
        "duration": 12,
        "start_time": "2022-10-15T09:24:18.290Z"
      },
      {
        "duration": 27,
        "start_time": "2022-10-15T09:24:18.305Z"
      },
      {
        "duration": 53,
        "start_time": "2022-10-15T09:24:18.334Z"
      },
      {
        "duration": 15,
        "start_time": "2022-10-15T09:24:18.390Z"
      },
      {
        "duration": 36,
        "start_time": "2022-10-15T09:24:18.406Z"
      },
      {
        "duration": 24,
        "start_time": "2022-10-15T09:24:18.444Z"
      },
      {
        "duration": 7,
        "start_time": "2022-10-15T09:24:18.471Z"
      },
      {
        "duration": 17,
        "start_time": "2022-10-15T09:24:18.480Z"
      },
      {
        "duration": 6,
        "start_time": "2022-10-15T09:24:18.499Z"
      },
      {
        "duration": 47,
        "start_time": "2022-10-15T09:24:18.506Z"
      },
      {
        "duration": 70,
        "start_time": "2022-10-15T09:24:18.555Z"
      },
      {
        "duration": 10,
        "start_time": "2022-10-15T09:26:24.446Z"
      },
      {
        "duration": 48,
        "start_time": "2022-10-15T09:26:28.226Z"
      },
      {
        "duration": 49,
        "start_time": "2022-10-15T09:26:29.453Z"
      },
      {
        "duration": 51,
        "start_time": "2022-10-15T09:26:46.366Z"
      },
      {
        "duration": 17,
        "start_time": "2022-10-15T09:26:54.700Z"
      },
      {
        "duration": 506,
        "start_time": "2022-10-15T09:27:13.294Z"
      },
      {
        "duration": 52,
        "start_time": "2022-10-15T09:27:13.802Z"
      },
      {
        "duration": 18,
        "start_time": "2022-10-15T09:27:13.856Z"
      },
      {
        "duration": 23,
        "start_time": "2022-10-15T09:27:13.876Z"
      },
      {
        "duration": 30,
        "start_time": "2022-10-15T09:27:13.900Z"
      },
      {
        "duration": 40,
        "start_time": "2022-10-15T09:27:13.932Z"
      },
      {
        "duration": 12,
        "start_time": "2022-10-15T09:27:13.974Z"
      },
      {
        "duration": 33,
        "start_time": "2022-10-15T09:27:13.988Z"
      },
      {
        "duration": 35,
        "start_time": "2022-10-15T09:27:14.023Z"
      },
      {
        "duration": 11,
        "start_time": "2022-10-15T09:27:14.061Z"
      },
      {
        "duration": 25,
        "start_time": "2022-10-15T09:27:14.073Z"
      },
      {
        "duration": 29,
        "start_time": "2022-10-15T09:27:14.100Z"
      },
      {
        "duration": 8,
        "start_time": "2022-10-15T09:27:14.131Z"
      },
      {
        "duration": 18,
        "start_time": "2022-10-15T09:27:14.141Z"
      },
      {
        "duration": 17,
        "start_time": "2022-10-15T09:27:14.161Z"
      },
      {
        "duration": 52,
        "start_time": "2022-10-15T09:27:14.179Z"
      },
      {
        "duration": 33,
        "start_time": "2022-10-15T09:27:14.232Z"
      },
      {
        "duration": 45,
        "start_time": "2022-10-15T09:27:14.267Z"
      },
      {
        "duration": 17,
        "start_time": "2022-10-15T09:27:14.314Z"
      },
      {
        "duration": 406,
        "start_time": "2022-10-15T09:38:52.758Z"
      },
      {
        "duration": 53,
        "start_time": "2022-10-15T09:38:53.166Z"
      },
      {
        "duration": 19,
        "start_time": "2022-10-15T09:38:53.221Z"
      },
      {
        "duration": 31,
        "start_time": "2022-10-15T09:38:53.242Z"
      },
      {
        "duration": 57,
        "start_time": "2022-10-15T09:38:53.274Z"
      },
      {
        "duration": 45,
        "start_time": "2022-10-15T09:38:53.332Z"
      },
      {
        "duration": 21,
        "start_time": "2022-10-15T09:38:53.379Z"
      },
      {
        "duration": 35,
        "start_time": "2022-10-15T09:38:53.402Z"
      },
      {
        "duration": 40,
        "start_time": "2022-10-15T09:38:53.439Z"
      },
      {
        "duration": 12,
        "start_time": "2022-10-15T09:38:53.482Z"
      },
      {
        "duration": 27,
        "start_time": "2022-10-15T09:38:53.497Z"
      },
      {
        "duration": 41,
        "start_time": "2022-10-15T09:38:53.527Z"
      },
      {
        "duration": 10,
        "start_time": "2022-10-15T09:38:53.570Z"
      },
      {
        "duration": 26,
        "start_time": "2022-10-15T09:38:53.582Z"
      },
      {
        "duration": 22,
        "start_time": "2022-10-15T09:38:53.610Z"
      },
      {
        "duration": 48,
        "start_time": "2022-10-15T09:38:53.640Z"
      },
      {
        "duration": 19,
        "start_time": "2022-10-15T09:38:53.690Z"
      },
      {
        "duration": 38,
        "start_time": "2022-10-15T09:38:53.710Z"
      },
      {
        "duration": 15,
        "start_time": "2022-10-15T09:38:53.749Z"
      },
      {
        "duration": 20,
        "start_time": "2022-10-15T09:39:30.689Z"
      },
      {
        "duration": 21,
        "start_time": "2022-10-15T09:39:33.356Z"
      },
      {
        "duration": 26,
        "start_time": "2022-10-15T09:39:34.911Z"
      },
      {
        "duration": 19,
        "start_time": "2022-10-15T09:39:36.876Z"
      },
      {
        "duration": 21,
        "start_time": "2022-10-15T09:46:45.411Z"
      },
      {
        "duration": 441,
        "start_time": "2022-10-15T09:47:11.690Z"
      },
      {
        "duration": 53,
        "start_time": "2022-10-15T09:47:12.133Z"
      },
      {
        "duration": 19,
        "start_time": "2022-10-15T09:47:12.187Z"
      },
      {
        "duration": 12,
        "start_time": "2022-10-15T09:47:12.208Z"
      },
      {
        "duration": 13,
        "start_time": "2022-10-15T09:47:12.222Z"
      },
      {
        "duration": 23,
        "start_time": "2022-10-15T09:47:12.237Z"
      },
      {
        "duration": 18,
        "start_time": "2022-10-15T09:47:12.262Z"
      },
      {
        "duration": 19,
        "start_time": "2022-10-15T09:47:12.281Z"
      },
      {
        "duration": 27,
        "start_time": "2022-10-15T09:47:12.302Z"
      },
      {
        "duration": 10,
        "start_time": "2022-10-15T09:47:12.332Z"
      },
      {
        "duration": 19,
        "start_time": "2022-10-15T09:47:12.344Z"
      },
      {
        "duration": 22,
        "start_time": "2022-10-15T09:47:12.365Z"
      },
      {
        "duration": 14,
        "start_time": "2022-10-15T09:47:12.388Z"
      },
      {
        "duration": 12,
        "start_time": "2022-10-15T09:47:12.403Z"
      },
      {
        "duration": 6,
        "start_time": "2022-10-15T09:47:12.417Z"
      },
      {
        "duration": 22,
        "start_time": "2022-10-15T09:47:12.425Z"
      },
      {
        "duration": 52,
        "start_time": "2022-10-15T09:47:12.449Z"
      },
      {
        "duration": 24,
        "start_time": "2022-10-15T09:47:12.503Z"
      },
      {
        "duration": 16,
        "start_time": "2022-10-15T09:47:12.528Z"
      },
      {
        "duration": 370,
        "start_time": "2022-10-15T18:23:32.278Z"
      },
      {
        "duration": 84,
        "start_time": "2022-10-15T18:23:32.650Z"
      },
      {
        "duration": 19,
        "start_time": "2022-10-15T18:23:32.736Z"
      },
      {
        "duration": 13,
        "start_time": "2022-10-15T18:23:32.757Z"
      },
      {
        "duration": 12,
        "start_time": "2022-10-15T18:23:32.772Z"
      },
      {
        "duration": 42,
        "start_time": "2022-10-15T18:23:32.786Z"
      },
      {
        "duration": 9,
        "start_time": "2022-10-15T18:23:32.830Z"
      },
      {
        "duration": 20,
        "start_time": "2022-10-15T18:23:32.841Z"
      },
      {
        "duration": 34,
        "start_time": "2022-10-15T18:23:32.862Z"
      },
      {
        "duration": 11,
        "start_time": "2022-10-15T18:23:32.899Z"
      },
      {
        "duration": 21,
        "start_time": "2022-10-15T18:23:32.913Z"
      },
      {
        "duration": 36,
        "start_time": "2022-10-15T18:23:32.936Z"
      },
      {
        "duration": 8,
        "start_time": "2022-10-15T18:23:32.976Z"
      },
      {
        "duration": 27,
        "start_time": "2022-10-15T18:23:32.985Z"
      },
      {
        "duration": 6,
        "start_time": "2022-10-15T18:23:33.014Z"
      },
      {
        "duration": 35,
        "start_time": "2022-10-15T18:23:33.022Z"
      },
      {
        "duration": 26,
        "start_time": "2022-10-15T18:23:33.059Z"
      },
      {
        "duration": 26,
        "start_time": "2022-10-15T18:23:33.086Z"
      },
      {
        "duration": 33,
        "start_time": "2022-10-15T18:23:33.114Z"
      },
      {
        "duration": 24,
        "start_time": "2022-10-15T18:24:23.625Z"
      },
      {
        "duration": 81,
        "start_time": "2022-10-15T18:27:36.859Z"
      },
      {
        "duration": 6,
        "start_time": "2022-10-15T18:27:58.476Z"
      },
      {
        "duration": 6,
        "start_time": "2022-10-15T18:28:16.596Z"
      },
      {
        "duration": 679,
        "start_time": "2022-10-15T18:30:13.950Z"
      },
      {
        "duration": 368,
        "start_time": "2022-10-15T18:33:20.680Z"
      },
      {
        "duration": 30,
        "start_time": "2022-10-15T18:33:21.050Z"
      },
      {
        "duration": 17,
        "start_time": "2022-10-15T18:33:21.082Z"
      },
      {
        "duration": 12,
        "start_time": "2022-10-15T18:33:21.101Z"
      },
      {
        "duration": 19,
        "start_time": "2022-10-15T18:33:21.114Z"
      },
      {
        "duration": 21,
        "start_time": "2022-10-15T18:33:21.135Z"
      },
      {
        "duration": 12,
        "start_time": "2022-10-15T18:33:21.157Z"
      },
      {
        "duration": 15,
        "start_time": "2022-10-15T18:33:21.171Z"
      },
      {
        "duration": 19,
        "start_time": "2022-10-15T18:33:21.187Z"
      },
      {
        "duration": 28,
        "start_time": "2022-10-15T18:33:21.210Z"
      },
      {
        "duration": 18,
        "start_time": "2022-10-15T18:33:21.239Z"
      },
      {
        "duration": 13,
        "start_time": "2022-10-15T18:33:21.259Z"
      },
      {
        "duration": 9,
        "start_time": "2022-10-15T18:33:21.273Z"
      },
      {
        "duration": 13,
        "start_time": "2022-10-15T18:33:21.283Z"
      },
      {
        "duration": 5,
        "start_time": "2022-10-15T18:33:21.298Z"
      },
      {
        "duration": 46,
        "start_time": "2022-10-15T18:33:21.304Z"
      },
      {
        "duration": 21,
        "start_time": "2022-10-15T18:33:21.351Z"
      },
      {
        "duration": 26,
        "start_time": "2022-10-15T18:33:21.374Z"
      },
      {
        "duration": 40,
        "start_time": "2022-10-15T18:33:21.402Z"
      },
      {
        "duration": 22,
        "start_time": "2022-10-15T18:33:21.443Z"
      },
      {
        "duration": 4,
        "start_time": "2022-10-15T18:33:21.467Z"
      },
      {
        "duration": 24,
        "start_time": "2022-10-15T18:33:21.472Z"
      },
      {
        "duration": 97,
        "start_time": "2022-10-15T18:34:35.795Z"
      },
      {
        "duration": 371,
        "start_time": "2022-10-15T18:34:44.555Z"
      },
      {
        "duration": 37,
        "start_time": "2022-10-15T18:34:44.933Z"
      },
      {
        "duration": 22,
        "start_time": "2022-10-15T18:34:44.972Z"
      },
      {
        "duration": 13,
        "start_time": "2022-10-15T18:34:44.997Z"
      },
      {
        "duration": 11,
        "start_time": "2022-10-15T18:34:45.011Z"
      },
      {
        "duration": 20,
        "start_time": "2022-10-15T18:34:45.023Z"
      },
      {
        "duration": 9,
        "start_time": "2022-10-15T18:34:45.044Z"
      },
      {
        "duration": 13,
        "start_time": "2022-10-15T18:34:45.055Z"
      },
      {
        "duration": 24,
        "start_time": "2022-10-15T18:34:45.070Z"
      },
      {
        "duration": 16,
        "start_time": "2022-10-15T18:34:45.097Z"
      },
      {
        "duration": 27,
        "start_time": "2022-10-15T18:34:45.114Z"
      },
      {
        "duration": 15,
        "start_time": "2022-10-15T18:34:45.143Z"
      },
      {
        "duration": 7,
        "start_time": "2022-10-15T18:34:45.160Z"
      },
      {
        "duration": 13,
        "start_time": "2022-10-15T18:34:45.168Z"
      },
      {
        "duration": 4,
        "start_time": "2022-10-15T18:34:45.183Z"
      },
      {
        "duration": 49,
        "start_time": "2022-10-15T18:34:45.188Z"
      },
      {
        "duration": 43,
        "start_time": "2022-10-15T18:34:45.239Z"
      },
      {
        "duration": 35,
        "start_time": "2022-10-15T18:34:45.284Z"
      },
      {
        "duration": 27,
        "start_time": "2022-10-15T18:34:45.321Z"
      },
      {
        "duration": 23,
        "start_time": "2022-10-15T18:34:45.350Z"
      },
      {
        "duration": 4,
        "start_time": "2022-10-15T18:34:45.375Z"
      },
      {
        "duration": 108,
        "start_time": "2022-10-15T18:34:45.381Z"
      },
      {
        "duration": 0,
        "start_time": "2022-10-15T18:34:45.491Z"
      },
      {
        "duration": 9,
        "start_time": "2022-10-15T18:34:57.138Z"
      },
      {
        "duration": 5,
        "start_time": "2022-10-15T18:35:09.503Z"
      },
      {
        "duration": 36,
        "start_time": "2022-10-15T18:40:04.817Z"
      },
      {
        "duration": 12,
        "start_time": "2022-10-15T18:42:15.253Z"
      },
      {
        "duration": 535,
        "start_time": "2022-10-15T18:42:31.218Z"
      },
      {
        "duration": 37,
        "start_time": "2022-10-15T18:42:31.756Z"
      },
      {
        "duration": 23,
        "start_time": "2022-10-15T18:42:31.795Z"
      },
      {
        "duration": 26,
        "start_time": "2022-10-15T18:42:31.820Z"
      },
      {
        "duration": 9,
        "start_time": "2022-10-15T18:42:31.849Z"
      },
      {
        "duration": 22,
        "start_time": "2022-10-15T18:42:31.860Z"
      },
      {
        "duration": 14,
        "start_time": "2022-10-15T18:42:31.886Z"
      },
      {
        "duration": 40,
        "start_time": "2022-10-15T18:42:31.902Z"
      },
      {
        "duration": 21,
        "start_time": "2022-10-15T18:42:31.945Z"
      },
      {
        "duration": 17,
        "start_time": "2022-10-15T18:42:31.969Z"
      },
      {
        "duration": 24,
        "start_time": "2022-10-15T18:42:31.989Z"
      },
      {
        "duration": 35,
        "start_time": "2022-10-15T18:42:32.015Z"
      },
      {
        "duration": 10,
        "start_time": "2022-10-15T18:42:32.052Z"
      },
      {
        "duration": 15,
        "start_time": "2022-10-15T18:42:32.065Z"
      },
      {
        "duration": 5,
        "start_time": "2022-10-15T18:42:32.082Z"
      },
      {
        "duration": 49,
        "start_time": "2022-10-15T18:42:32.089Z"
      },
      {
        "duration": 34,
        "start_time": "2022-10-15T18:42:32.141Z"
      },
      {
        "duration": 58,
        "start_time": "2022-10-15T18:42:32.177Z"
      },
      {
        "duration": 25,
        "start_time": "2022-10-15T18:42:32.237Z"
      },
      {
        "duration": 32,
        "start_time": "2022-10-15T18:42:32.264Z"
      },
      {
        "duration": 9,
        "start_time": "2022-10-15T18:42:32.299Z"
      },
      {
        "duration": 8,
        "start_time": "2022-10-15T18:42:32.334Z"
      },
      {
        "duration": 44,
        "start_time": "2022-10-15T18:42:32.344Z"
      },
      {
        "duration": 123,
        "start_time": "2022-10-15T18:42:32.391Z"
      },
      {
        "duration": 18,
        "start_time": "2022-10-15T18:42:52.978Z"
      },
      {
        "duration": 7,
        "start_time": "2022-10-15T18:43:12.386Z"
      },
      {
        "duration": 15,
        "start_time": "2022-10-15T18:43:14.053Z"
      },
      {
        "duration": 12,
        "start_time": "2022-10-15T18:43:15.490Z"
      },
      {
        "duration": 5,
        "start_time": "2022-10-15T18:43:24.237Z"
      },
      {
        "duration": 3,
        "start_time": "2022-10-15T18:45:19.039Z"
      },
      {
        "duration": 12,
        "start_time": "2022-10-15T18:45:42.067Z"
      },
      {
        "duration": 8,
        "start_time": "2022-10-15T18:46:17.337Z"
      },
      {
        "duration": 13,
        "start_time": "2022-10-15T18:47:02.197Z"
      },
      {
        "duration": 388,
        "start_time": "2022-10-15T18:47:28.550Z"
      },
      {
        "duration": 32,
        "start_time": "2022-10-15T18:47:28.940Z"
      },
      {
        "duration": 20,
        "start_time": "2022-10-15T18:47:28.974Z"
      },
      {
        "duration": 13,
        "start_time": "2022-10-15T18:47:28.996Z"
      },
      {
        "duration": 7,
        "start_time": "2022-10-15T18:47:29.011Z"
      },
      {
        "duration": 15,
        "start_time": "2022-10-15T18:47:29.033Z"
      },
      {
        "duration": 10,
        "start_time": "2022-10-15T18:47:29.050Z"
      },
      {
        "duration": 15,
        "start_time": "2022-10-15T18:47:29.061Z"
      },
      {
        "duration": 19,
        "start_time": "2022-10-15T18:47:29.077Z"
      },
      {
        "duration": 11,
        "start_time": "2022-10-15T18:47:29.097Z"
      },
      {
        "duration": 34,
        "start_time": "2022-10-15T18:47:29.109Z"
      },
      {
        "duration": 14,
        "start_time": "2022-10-15T18:47:29.145Z"
      },
      {
        "duration": 7,
        "start_time": "2022-10-15T18:47:29.161Z"
      },
      {
        "duration": 11,
        "start_time": "2022-10-15T18:47:29.170Z"
      },
      {
        "duration": 5,
        "start_time": "2022-10-15T18:47:29.183Z"
      },
      {
        "duration": 24,
        "start_time": "2022-10-15T18:47:29.189Z"
      },
      {
        "duration": 31,
        "start_time": "2022-10-15T18:47:29.215Z"
      },
      {
        "duration": 25,
        "start_time": "2022-10-15T18:47:29.248Z"
      },
      {
        "duration": 15,
        "start_time": "2022-10-15T18:47:29.274Z"
      },
      {
        "duration": 43,
        "start_time": "2022-10-15T18:47:29.291Z"
      },
      {
        "duration": 4,
        "start_time": "2022-10-15T18:47:29.336Z"
      },
      {
        "duration": 7,
        "start_time": "2022-10-15T18:47:29.342Z"
      },
      {
        "duration": 8,
        "start_time": "2022-10-15T18:47:29.351Z"
      },
      {
        "duration": 28,
        "start_time": "2022-10-15T18:47:29.361Z"
      },
      {
        "duration": 11,
        "start_time": "2022-10-15T18:47:29.391Z"
      },
      {
        "duration": 5,
        "start_time": "2022-10-15T18:47:29.403Z"
      },
      {
        "duration": 6,
        "start_time": "2022-10-15T18:47:29.433Z"
      },
      {
        "duration": 4,
        "start_time": "2022-10-15T18:47:29.441Z"
      },
      {
        "duration": 86,
        "start_time": "2022-10-15T18:47:29.447Z"
      },
      {
        "duration": 52,
        "start_time": "2022-10-15T18:51:20.714Z"
      },
      {
        "duration": 46,
        "start_time": "2022-10-15T18:51:32.798Z"
      },
      {
        "duration": 2,
        "start_time": "2022-10-15T18:51:53.387Z"
      },
      {
        "duration": 10,
        "start_time": "2022-10-15T18:51:54.180Z"
      },
      {
        "duration": 6,
        "start_time": "2022-10-15T18:52:37.668Z"
      },
      {
        "duration": 8,
        "start_time": "2022-10-15T18:52:58.225Z"
      },
      {
        "duration": 9,
        "start_time": "2022-10-15T18:53:15.050Z"
      },
      {
        "duration": 9,
        "start_time": "2022-10-15T18:53:26.381Z"
      },
      {
        "duration": 9,
        "start_time": "2022-10-15T18:53:48.564Z"
      },
      {
        "duration": 4,
        "start_time": "2022-10-15T18:59:03.225Z"
      },
      {
        "duration": 2,
        "start_time": "2022-10-15T18:59:16.855Z"
      },
      {
        "duration": 5,
        "start_time": "2022-10-15T18:59:29.603Z"
      },
      {
        "duration": 871,
        "start_time": "2022-10-15T19:00:32.186Z"
      },
      {
        "duration": 310,
        "start_time": "2022-10-15T19:00:45.076Z"
      },
      {
        "duration": 702,
        "start_time": "2022-10-15T19:01:20.402Z"
      },
      {
        "duration": 3,
        "start_time": "2022-10-15T19:01:41.456Z"
      },
      {
        "duration": 45,
        "start_time": "2022-10-15T19:01:42.386Z"
      },
      {
        "duration": 713,
        "start_time": "2022-10-15T19:01:45.826Z"
      },
      {
        "duration": 2,
        "start_time": "2022-10-15T19:02:22.918Z"
      },
      {
        "duration": 4,
        "start_time": "2022-10-15T19:02:37.081Z"
      },
      {
        "duration": 450,
        "start_time": "2022-10-15T19:02:49.953Z"
      },
      {
        "duration": 31,
        "start_time": "2022-10-15T19:02:50.405Z"
      },
      {
        "duration": 17,
        "start_time": "2022-10-15T19:02:50.440Z"
      },
      {
        "duration": 12,
        "start_time": "2022-10-15T19:02:50.459Z"
      },
      {
        "duration": 11,
        "start_time": "2022-10-15T19:02:50.473Z"
      },
      {
        "duration": 19,
        "start_time": "2022-10-15T19:02:50.485Z"
      },
      {
        "duration": 8,
        "start_time": "2022-10-15T19:02:50.505Z"
      },
      {
        "duration": 24,
        "start_time": "2022-10-15T19:02:50.515Z"
      },
      {
        "duration": 16,
        "start_time": "2022-10-15T19:02:50.542Z"
      },
      {
        "duration": 10,
        "start_time": "2022-10-15T19:02:50.559Z"
      },
      {
        "duration": 17,
        "start_time": "2022-10-15T19:02:50.570Z"
      },
      {
        "duration": 18,
        "start_time": "2022-10-15T19:02:50.589Z"
      },
      {
        "duration": 7,
        "start_time": "2022-10-15T19:02:50.609Z"
      },
      {
        "duration": 22,
        "start_time": "2022-10-15T19:02:50.617Z"
      },
      {
        "duration": 2,
        "start_time": "2022-10-15T19:02:50.640Z"
      },
      {
        "duration": 27,
        "start_time": "2022-10-15T19:02:50.644Z"
      },
      {
        "duration": 23,
        "start_time": "2022-10-15T19:02:50.673Z"
      },
      {
        "duration": 36,
        "start_time": "2022-10-15T19:02:50.698Z"
      },
      {
        "duration": 16,
        "start_time": "2022-10-15T19:02:50.736Z"
      },
      {
        "duration": 22,
        "start_time": "2022-10-15T19:02:50.753Z"
      },
      {
        "duration": 5,
        "start_time": "2022-10-15T19:02:50.777Z"
      },
      {
        "duration": 5,
        "start_time": "2022-10-15T19:02:50.784Z"
      },
      {
        "duration": 10,
        "start_time": "2022-10-15T19:02:50.790Z"
      },
      {
        "duration": 44,
        "start_time": "2022-10-15T19:02:50.802Z"
      },
      {
        "duration": 9,
        "start_time": "2022-10-15T19:02:50.848Z"
      },
      {
        "duration": 10,
        "start_time": "2022-10-15T19:02:50.859Z"
      },
      {
        "duration": 8,
        "start_time": "2022-10-15T19:02:50.872Z"
      },
      {
        "duration": 7,
        "start_time": "2022-10-15T19:02:50.882Z"
      },
      {
        "duration": 5,
        "start_time": "2022-10-15T19:02:50.890Z"
      },
      {
        "duration": 6,
        "start_time": "2022-10-15T19:02:50.897Z"
      },
      {
        "duration": 3,
        "start_time": "2022-10-15T19:03:22.930Z"
      },
      {
        "duration": 59,
        "start_time": "2022-10-15T19:03:23.534Z"
      },
      {
        "duration": 4,
        "start_time": "2022-10-15T19:03:36.588Z"
      },
      {
        "duration": 4,
        "start_time": "2022-10-15T19:03:39.649Z"
      },
      {
        "duration": 6,
        "start_time": "2022-10-15T19:03:47.996Z"
      },
      {
        "duration": 390,
        "start_time": "2022-10-15T19:06:05.440Z"
      },
      {
        "duration": 31,
        "start_time": "2022-10-15T19:06:05.832Z"
      },
      {
        "duration": 17,
        "start_time": "2022-10-15T19:06:05.865Z"
      },
      {
        "duration": 13,
        "start_time": "2022-10-15T19:06:05.883Z"
      },
      {
        "duration": 10,
        "start_time": "2022-10-15T19:06:05.898Z"
      },
      {
        "duration": 17,
        "start_time": "2022-10-15T19:06:05.909Z"
      },
      {
        "duration": 10,
        "start_time": "2022-10-15T19:06:05.928Z"
      },
      {
        "duration": 14,
        "start_time": "2022-10-15T19:06:05.940Z"
      },
      {
        "duration": 18,
        "start_time": "2022-10-15T19:06:05.956Z"
      },
      {
        "duration": 11,
        "start_time": "2022-10-15T19:06:05.976Z"
      },
      {
        "duration": 22,
        "start_time": "2022-10-15T19:06:05.989Z"
      },
      {
        "duration": 22,
        "start_time": "2022-10-15T19:06:06.012Z"
      },
      {
        "duration": 7,
        "start_time": "2022-10-15T19:06:06.035Z"
      },
      {
        "duration": 9,
        "start_time": "2022-10-15T19:06:06.045Z"
      },
      {
        "duration": 5,
        "start_time": "2022-10-15T19:06:06.056Z"
      },
      {
        "duration": 27,
        "start_time": "2022-10-15T19:06:06.062Z"
      },
      {
        "duration": 20,
        "start_time": "2022-10-15T19:06:06.091Z"
      },
      {
        "duration": 36,
        "start_time": "2022-10-15T19:06:06.134Z"
      },
      {
        "duration": 20,
        "start_time": "2022-10-15T19:06:06.171Z"
      },
      {
        "duration": 41,
        "start_time": "2022-10-15T19:06:06.193Z"
      },
      {
        "duration": 6,
        "start_time": "2022-10-15T19:06:06.236Z"
      },
      {
        "duration": 10,
        "start_time": "2022-10-15T19:06:06.244Z"
      },
      {
        "duration": 11,
        "start_time": "2022-10-15T19:06:06.256Z"
      },
      {
        "duration": 36,
        "start_time": "2022-10-15T19:06:06.268Z"
      },
      {
        "duration": 13,
        "start_time": "2022-10-15T19:06:06.306Z"
      },
      {
        "duration": 17,
        "start_time": "2022-10-15T19:06:06.321Z"
      },
      {
        "duration": 11,
        "start_time": "2022-10-15T19:06:06.340Z"
      },
      {
        "duration": 19,
        "start_time": "2022-10-15T19:06:06.353Z"
      },
      {
        "duration": 97,
        "start_time": "2022-10-15T19:06:06.374Z"
      },
      {
        "duration": 0,
        "start_time": "2022-10-15T19:06:06.473Z"
      },
      {
        "duration": 11,
        "start_time": "2022-10-15T19:06:30.900Z"
      },
      {
        "duration": 23,
        "start_time": "2022-10-15T19:06:31.508Z"
      },
      {
        "duration": 427,
        "start_time": "2022-10-15T19:08:10.913Z"
      },
      {
        "duration": 34,
        "start_time": "2022-10-15T19:08:11.343Z"
      },
      {
        "duration": 19,
        "start_time": "2022-10-15T19:08:11.378Z"
      },
      {
        "duration": 13,
        "start_time": "2022-10-15T19:08:11.398Z"
      },
      {
        "duration": 19,
        "start_time": "2022-10-15T19:08:11.414Z"
      },
      {
        "duration": 19,
        "start_time": "2022-10-15T19:08:11.435Z"
      },
      {
        "duration": 12,
        "start_time": "2022-10-15T19:08:11.457Z"
      },
      {
        "duration": 12,
        "start_time": "2022-10-15T19:08:11.471Z"
      },
      {
        "duration": 20,
        "start_time": "2022-10-15T19:08:11.484Z"
      },
      {
        "duration": 11,
        "start_time": "2022-10-15T19:08:11.506Z"
      },
      {
        "duration": 12,
        "start_time": "2022-10-15T19:08:11.533Z"
      },
      {
        "duration": 11,
        "start_time": "2022-10-15T19:08:11.547Z"
      },
      {
        "duration": 21,
        "start_time": "2022-10-15T19:08:11.560Z"
      },
      {
        "duration": 13,
        "start_time": "2022-10-15T19:08:11.584Z"
      },
      {
        "duration": 7,
        "start_time": "2022-10-15T19:08:11.599Z"
      },
      {
        "duration": 35,
        "start_time": "2022-10-15T19:08:11.608Z"
      },
      {
        "duration": 25,
        "start_time": "2022-10-15T19:08:11.645Z"
      },
      {
        "duration": 32,
        "start_time": "2022-10-15T19:08:11.673Z"
      },
      {
        "duration": 38,
        "start_time": "2022-10-15T19:08:11.708Z"
      },
      {
        "duration": 26,
        "start_time": "2022-10-15T19:08:11.748Z"
      },
      {
        "duration": 5,
        "start_time": "2022-10-15T19:08:11.776Z"
      },
      {
        "duration": 8,
        "start_time": "2022-10-15T19:08:11.783Z"
      },
      {
        "duration": 13,
        "start_time": "2022-10-15T19:08:11.793Z"
      },
      {
        "duration": 20,
        "start_time": "2022-10-15T19:08:11.832Z"
      },
      {
        "duration": 19,
        "start_time": "2022-10-15T19:08:11.853Z"
      },
      {
        "duration": 8,
        "start_time": "2022-10-15T19:08:11.874Z"
      },
      {
        "duration": 16,
        "start_time": "2022-10-15T19:08:11.884Z"
      },
      {
        "duration": 33,
        "start_time": "2022-10-15T19:08:11.902Z"
      },
      {
        "duration": 24,
        "start_time": "2022-10-15T19:08:11.936Z"
      },
      {
        "duration": 36,
        "start_time": "2022-10-15T19:08:11.962Z"
      },
      {
        "duration": 42,
        "start_time": "2022-10-15T19:08:12.000Z"
      },
      {
        "duration": 432,
        "start_time": "2022-10-15T19:23:58.114Z"
      },
      {
        "duration": 37,
        "start_time": "2022-10-15T19:23:58.555Z"
      },
      {
        "duration": 17,
        "start_time": "2022-10-15T19:23:58.594Z"
      },
      {
        "duration": 13,
        "start_time": "2022-10-15T19:23:58.613Z"
      },
      {
        "duration": 10,
        "start_time": "2022-10-15T19:23:58.627Z"
      },
      {
        "duration": 30,
        "start_time": "2022-10-15T19:23:58.639Z"
      },
      {
        "duration": 9,
        "start_time": "2022-10-15T19:23:58.671Z"
      },
      {
        "duration": 13,
        "start_time": "2022-10-15T19:23:58.681Z"
      },
      {
        "duration": 22,
        "start_time": "2022-10-15T19:23:58.695Z"
      },
      {
        "duration": 22,
        "start_time": "2022-10-15T19:23:58.721Z"
      },
      {
        "duration": 19,
        "start_time": "2022-10-15T19:23:58.752Z"
      },
      {
        "duration": 16,
        "start_time": "2022-10-15T19:23:58.773Z"
      },
      {
        "duration": 8,
        "start_time": "2022-10-15T19:23:58.791Z"
      },
      {
        "duration": 16,
        "start_time": "2022-10-15T19:23:58.801Z"
      },
      {
        "duration": 7,
        "start_time": "2022-10-15T19:23:58.820Z"
      },
      {
        "duration": 39,
        "start_time": "2022-10-15T19:23:58.829Z"
      },
      {
        "duration": 19,
        "start_time": "2022-10-15T19:23:58.870Z"
      },
      {
        "duration": 24,
        "start_time": "2022-10-15T19:23:58.890Z"
      },
      {
        "duration": 33,
        "start_time": "2022-10-15T19:23:58.916Z"
      },
      {
        "duration": 23,
        "start_time": "2022-10-15T19:23:58.951Z"
      },
      {
        "duration": 6,
        "start_time": "2022-10-15T19:23:58.976Z"
      },
      {
        "duration": 5,
        "start_time": "2022-10-15T19:23:58.984Z"
      },
      {
        "duration": 7,
        "start_time": "2022-10-15T19:23:58.991Z"
      },
      {
        "duration": 50,
        "start_time": "2022-10-15T19:23:58.999Z"
      },
      {
        "duration": 10,
        "start_time": "2022-10-15T19:23:59.052Z"
      },
      {
        "duration": 7,
        "start_time": "2022-10-15T19:23:59.065Z"
      },
      {
        "duration": 8,
        "start_time": "2022-10-15T19:23:59.073Z"
      },
      {
        "duration": 12,
        "start_time": "2022-10-15T19:23:59.083Z"
      },
      {
        "duration": 21,
        "start_time": "2022-10-15T19:23:59.096Z"
      },
      {
        "duration": 96,
        "start_time": "2022-10-15T19:23:59.118Z"
      },
      {
        "duration": 0,
        "start_time": "2022-10-15T19:23:59.216Z"
      },
      {
        "duration": 5,
        "start_time": "2022-10-15T19:25:29.950Z"
      },
      {
        "duration": 6,
        "start_time": "2022-10-15T19:26:01.645Z"
      },
      {
        "duration": 5,
        "start_time": "2022-10-15T19:27:46.051Z"
      },
      {
        "duration": 22,
        "start_time": "2022-10-15T19:29:23.119Z"
      },
      {
        "duration": 412,
        "start_time": "2022-10-15T19:34:39.124Z"
      },
      {
        "duration": 30,
        "start_time": "2022-10-15T19:34:39.538Z"
      },
      {
        "duration": 16,
        "start_time": "2022-10-15T19:34:39.569Z"
      },
      {
        "duration": 13,
        "start_time": "2022-10-15T19:34:39.587Z"
      },
      {
        "duration": 11,
        "start_time": "2022-10-15T19:34:39.601Z"
      },
      {
        "duration": 18,
        "start_time": "2022-10-15T19:34:39.613Z"
      },
      {
        "duration": 8,
        "start_time": "2022-10-15T19:34:39.633Z"
      },
      {
        "duration": 13,
        "start_time": "2022-10-15T19:34:39.642Z"
      },
      {
        "duration": 17,
        "start_time": "2022-10-15T19:34:39.656Z"
      },
      {
        "duration": 11,
        "start_time": "2022-10-15T19:34:39.675Z"
      },
      {
        "duration": 17,
        "start_time": "2022-10-15T19:34:39.688Z"
      },
      {
        "duration": 23,
        "start_time": "2022-10-15T19:34:39.707Z"
      },
      {
        "duration": 7,
        "start_time": "2022-10-15T19:34:39.733Z"
      },
      {
        "duration": 26,
        "start_time": "2022-10-15T19:34:39.743Z"
      },
      {
        "duration": 9,
        "start_time": "2022-10-15T19:34:39.770Z"
      },
      {
        "duration": 27,
        "start_time": "2022-10-15T19:34:39.781Z"
      },
      {
        "duration": 19,
        "start_time": "2022-10-15T19:34:39.810Z"
      },
      {
        "duration": 23,
        "start_time": "2022-10-15T19:34:39.833Z"
      },
      {
        "duration": 15,
        "start_time": "2022-10-15T19:34:39.857Z"
      },
      {
        "duration": 22,
        "start_time": "2022-10-15T19:34:39.873Z"
      },
      {
        "duration": 7,
        "start_time": "2022-10-15T19:34:39.896Z"
      },
      {
        "duration": 30,
        "start_time": "2022-10-15T19:34:39.904Z"
      },
      {
        "duration": 5,
        "start_time": "2022-10-15T19:34:39.935Z"
      },
      {
        "duration": 18,
        "start_time": "2022-10-15T19:34:39.941Z"
      },
      {
        "duration": 9,
        "start_time": "2022-10-15T19:34:39.960Z"
      },
      {
        "duration": 16,
        "start_time": "2022-10-15T19:34:39.970Z"
      },
      {
        "duration": 9,
        "start_time": "2022-10-15T19:34:39.988Z"
      },
      {
        "duration": 12,
        "start_time": "2022-10-15T19:34:39.998Z"
      },
      {
        "duration": 38,
        "start_time": "2022-10-15T19:34:40.012Z"
      },
      {
        "duration": 4,
        "start_time": "2022-10-15T19:34:40.052Z"
      },
      {
        "duration": 9,
        "start_time": "2022-10-15T19:34:40.057Z"
      },
      {
        "duration": 6,
        "start_time": "2022-10-15T19:34:40.068Z"
      },
      {
        "duration": 10,
        "start_time": "2022-10-15T19:34:40.075Z"
      },
      {
        "duration": 16,
        "start_time": "2022-10-15T19:34:40.087Z"
      },
      {
        "duration": 4,
        "start_time": "2022-10-15T19:35:10.361Z"
      },
      {
        "duration": 15,
        "start_time": "2022-10-15T19:35:12.057Z"
      },
      {
        "duration": 4,
        "start_time": "2022-10-15T19:35:37.894Z"
      },
      {
        "duration": 5,
        "start_time": "2022-10-15T19:38:41.725Z"
      },
      {
        "duration": 57,
        "start_time": "2022-10-15T19:38:56.349Z"
      },
      {
        "duration": 64,
        "start_time": "2022-10-15T19:40:51.314Z"
      },
      {
        "duration": 9,
        "start_time": "2022-10-15T19:40:58.405Z"
      },
      {
        "duration": 585,
        "start_time": "2022-10-15T19:41:25.878Z"
      },
      {
        "duration": 347,
        "start_time": "2022-10-15T19:41:33.986Z"
      },
      {
        "duration": 30,
        "start_time": "2022-10-15T19:41:34.335Z"
      },
      {
        "duration": 18,
        "start_time": "2022-10-15T19:41:34.367Z"
      },
      {
        "duration": 12,
        "start_time": "2022-10-15T19:41:34.386Z"
      },
      {
        "duration": 10,
        "start_time": "2022-10-15T19:41:34.400Z"
      },
      {
        "duration": 22,
        "start_time": "2022-10-15T19:41:34.411Z"
      },
      {
        "duration": 7,
        "start_time": "2022-10-15T19:41:34.435Z"
      },
      {
        "duration": 14,
        "start_time": "2022-10-15T19:41:34.444Z"
      },
      {
        "duration": 18,
        "start_time": "2022-10-15T19:41:34.460Z"
      },
      {
        "duration": 10,
        "start_time": "2022-10-15T19:41:34.479Z"
      },
      {
        "duration": 19,
        "start_time": "2022-10-15T19:41:34.490Z"
      },
      {
        "duration": 18,
        "start_time": "2022-10-15T19:41:34.510Z"
      },
      {
        "duration": 6,
        "start_time": "2022-10-15T19:41:34.530Z"
      },
      {
        "duration": 17,
        "start_time": "2022-10-15T19:41:34.540Z"
      },
      {
        "duration": 8,
        "start_time": "2022-10-15T19:41:34.558Z"
      },
      {
        "duration": 22,
        "start_time": "2022-10-15T19:41:34.568Z"
      },
      {
        "duration": 19,
        "start_time": "2022-10-15T19:41:34.592Z"
      },
      {
        "duration": 32,
        "start_time": "2022-10-15T19:41:34.612Z"
      },
      {
        "duration": 16,
        "start_time": "2022-10-15T19:41:34.645Z"
      },
      {
        "duration": 22,
        "start_time": "2022-10-15T19:41:34.662Z"
      },
      {
        "duration": 4,
        "start_time": "2022-10-15T19:41:34.685Z"
      },
      {
        "duration": 5,
        "start_time": "2022-10-15T19:41:34.691Z"
      },
      {
        "duration": 7,
        "start_time": "2022-10-15T19:41:34.697Z"
      },
      {
        "duration": 15,
        "start_time": "2022-10-15T19:41:34.733Z"
      },
      {
        "duration": 8,
        "start_time": "2022-10-15T19:41:34.750Z"
      },
      {
        "duration": 5,
        "start_time": "2022-10-15T19:41:34.760Z"
      },
      {
        "duration": 7,
        "start_time": "2022-10-15T19:41:34.766Z"
      },
      {
        "duration": 10,
        "start_time": "2022-10-15T19:41:34.774Z"
      },
      {
        "duration": 19,
        "start_time": "2022-10-15T19:41:34.786Z"
      },
      {
        "duration": 4,
        "start_time": "2022-10-15T19:41:34.834Z"
      },
      {
        "duration": 7,
        "start_time": "2022-10-15T19:41:34.840Z"
      },
      {
        "duration": 6,
        "start_time": "2022-10-15T19:41:34.848Z"
      },
      {
        "duration": 6,
        "start_time": "2022-10-15T19:41:34.855Z"
      },
      {
        "duration": 6,
        "start_time": "2022-10-15T19:41:34.862Z"
      },
      {
        "duration": 7,
        "start_time": "2022-10-15T19:41:34.869Z"
      },
      {
        "duration": 20,
        "start_time": "2022-10-15T19:41:34.877Z"
      },
      {
        "duration": 82,
        "start_time": "2022-10-15T19:41:34.898Z"
      },
      {
        "duration": 0,
        "start_time": "2022-10-15T19:41:34.981Z"
      },
      {
        "duration": 5,
        "start_time": "2022-10-15T19:41:55.051Z"
      },
      {
        "duration": 359,
        "start_time": "2022-10-15T19:41:55.903Z"
      },
      {
        "duration": 5,
        "start_time": "2022-10-15T19:42:13.496Z"
      },
      {
        "duration": 128,
        "start_time": "2022-10-15T19:42:14.145Z"
      },
      {
        "duration": 39,
        "start_time": "2022-10-15T19:43:03.798Z"
      },
      {
        "duration": 5,
        "start_time": "2022-10-15T19:43:26.463Z"
      },
      {
        "duration": 121,
        "start_time": "2022-10-15T19:43:27.030Z"
      },
      {
        "duration": 40,
        "start_time": "2022-10-15T19:43:30.016Z"
      },
      {
        "duration": 18,
        "start_time": "2022-10-15T19:44:46.095Z"
      },
      {
        "duration": 438,
        "start_time": "2022-10-15T19:45:40.209Z"
      },
      {
        "duration": 32,
        "start_time": "2022-10-15T19:45:40.648Z"
      },
      {
        "duration": 16,
        "start_time": "2022-10-15T19:45:40.682Z"
      },
      {
        "duration": 13,
        "start_time": "2022-10-15T19:45:40.699Z"
      },
      {
        "duration": 6,
        "start_time": "2022-10-15T19:45:40.713Z"
      },
      {
        "duration": 18,
        "start_time": "2022-10-15T19:45:40.720Z"
      },
      {
        "duration": 8,
        "start_time": "2022-10-15T19:45:40.740Z"
      },
      {
        "duration": 12,
        "start_time": "2022-10-15T19:45:40.749Z"
      },
      {
        "duration": 15,
        "start_time": "2022-10-15T19:45:40.763Z"
      },
      {
        "duration": 10,
        "start_time": "2022-10-15T19:45:40.781Z"
      },
      {
        "duration": 15,
        "start_time": "2022-10-15T19:45:40.793Z"
      },
      {
        "duration": 27,
        "start_time": "2022-10-15T19:45:40.809Z"
      },
      {
        "duration": 7,
        "start_time": "2022-10-15T19:45:40.837Z"
      },
      {
        "duration": 12,
        "start_time": "2022-10-15T19:45:40.845Z"
      },
      {
        "duration": 5,
        "start_time": "2022-10-15T19:45:40.858Z"
      },
      {
        "duration": 24,
        "start_time": "2022-10-15T19:45:40.865Z"
      },
      {
        "duration": 19,
        "start_time": "2022-10-15T19:45:40.890Z"
      },
      {
        "duration": 24,
        "start_time": "2022-10-15T19:45:40.933Z"
      },
      {
        "duration": 16,
        "start_time": "2022-10-15T19:45:40.958Z"
      },
      {
        "duration": 21,
        "start_time": "2022-10-15T19:45:40.975Z"
      },
      {
        "duration": 4,
        "start_time": "2022-10-15T19:45:40.997Z"
      },
      {
        "duration": 32,
        "start_time": "2022-10-15T19:45:41.002Z"
      },
      {
        "duration": 4,
        "start_time": "2022-10-15T19:45:41.036Z"
      },
      {
        "duration": 18,
        "start_time": "2022-10-15T19:45:41.041Z"
      },
      {
        "duration": 9,
        "start_time": "2022-10-15T19:45:41.060Z"
      },
      {
        "duration": 4,
        "start_time": "2022-10-15T19:45:41.071Z"
      },
      {
        "duration": 6,
        "start_time": "2022-10-15T19:45:41.077Z"
      },
      {
        "duration": 12,
        "start_time": "2022-10-15T19:45:41.086Z"
      },
      {
        "duration": 47,
        "start_time": "2022-10-15T19:45:41.100Z"
      },
      {
        "duration": 5,
        "start_time": "2022-10-15T19:45:41.149Z"
      },
      {
        "duration": 10,
        "start_time": "2022-10-15T19:45:41.156Z"
      },
      {
        "duration": 6,
        "start_time": "2022-10-15T19:45:41.167Z"
      },
      {
        "duration": 6,
        "start_time": "2022-10-15T19:45:41.175Z"
      },
      {
        "duration": 9,
        "start_time": "2022-10-15T19:45:41.183Z"
      },
      {
        "duration": 9,
        "start_time": "2022-10-15T19:45:41.193Z"
      },
      {
        "duration": 31,
        "start_time": "2022-10-15T19:45:41.203Z"
      },
      {
        "duration": 4,
        "start_time": "2022-10-15T19:45:41.235Z"
      },
      {
        "duration": 326,
        "start_time": "2022-10-15T19:45:41.241Z"
      },
      {
        "duration": 70,
        "start_time": "2022-10-15T19:45:41.569Z"
      },
      {
        "duration": 0,
        "start_time": "2022-10-15T19:45:41.640Z"
      },
      {
        "duration": 24,
        "start_time": "2022-10-15T19:46:53.304Z"
      },
      {
        "duration": 22,
        "start_time": "2022-10-15T19:46:57.686Z"
      },
      {
        "duration": 29,
        "start_time": "2022-10-15T19:47:11.723Z"
      },
      {
        "duration": 24,
        "start_time": "2022-10-15T19:47:21.464Z"
      },
      {
        "duration": 12,
        "start_time": "2022-10-15T19:47:34.204Z"
      },
      {
        "duration": 21,
        "start_time": "2022-10-15T19:47:49.628Z"
      },
      {
        "duration": 14,
        "start_time": "2022-10-15T19:49:41.352Z"
      },
      {
        "duration": 12,
        "start_time": "2022-10-15T19:49:53.270Z"
      },
      {
        "duration": 77,
        "start_time": "2022-10-15T19:50:01.509Z"
      },
      {
        "duration": 6,
        "start_time": "2022-10-15T19:50:13.046Z"
      },
      {
        "duration": 29,
        "start_time": "2022-10-15T19:50:24.898Z"
      },
      {
        "duration": 10,
        "start_time": "2022-10-15T19:51:08.447Z"
      },
      {
        "duration": 7,
        "start_time": "2022-10-15T19:51:22.491Z"
      },
      {
        "duration": 11,
        "start_time": "2022-10-15T19:51:31.500Z"
      },
      {
        "duration": 51,
        "start_time": "2022-10-15T19:53:18.661Z"
      },
      {
        "duration": 12,
        "start_time": "2022-10-15T19:53:32.169Z"
      },
      {
        "duration": 381,
        "start_time": "2022-10-15T19:53:44.158Z"
      },
      {
        "duration": 32,
        "start_time": "2022-10-15T19:53:44.541Z"
      },
      {
        "duration": 18,
        "start_time": "2022-10-15T19:53:44.574Z"
      },
      {
        "duration": 13,
        "start_time": "2022-10-15T19:53:44.594Z"
      },
      {
        "duration": 9,
        "start_time": "2022-10-15T19:53:44.609Z"
      },
      {
        "duration": 18,
        "start_time": "2022-10-15T19:53:44.620Z"
      },
      {
        "duration": 8,
        "start_time": "2022-10-15T19:53:44.640Z"
      },
      {
        "duration": 12,
        "start_time": "2022-10-15T19:53:44.649Z"
      },
      {
        "duration": 15,
        "start_time": "2022-10-15T19:53:44.663Z"
      },
      {
        "duration": 11,
        "start_time": "2022-10-15T19:53:44.681Z"
      },
      {
        "duration": 26,
        "start_time": "2022-10-15T19:53:44.694Z"
      },
      {
        "duration": 11,
        "start_time": "2022-10-15T19:53:44.734Z"
      },
      {
        "duration": 11,
        "start_time": "2022-10-15T19:53:44.747Z"
      },
      {
        "duration": 20,
        "start_time": "2022-10-15T19:53:44.760Z"
      },
      {
        "duration": 24,
        "start_time": "2022-10-15T19:53:44.781Z"
      },
      {
        "duration": 36,
        "start_time": "2022-10-15T19:53:44.806Z"
      },
      {
        "duration": 18,
        "start_time": "2022-10-15T19:53:44.844Z"
      },
      {
        "duration": 26,
        "start_time": "2022-10-15T19:53:44.864Z"
      },
      {
        "duration": 16,
        "start_time": "2022-10-15T19:53:44.891Z"
      },
      {
        "duration": 45,
        "start_time": "2022-10-15T19:53:44.909Z"
      },
      {
        "duration": 4,
        "start_time": "2022-10-15T19:53:44.955Z"
      },
      {
        "duration": 7,
        "start_time": "2022-10-15T19:53:44.961Z"
      },
      {
        "duration": 11,
        "start_time": "2022-10-15T19:53:44.970Z"
      },
      {
        "duration": 18,
        "start_time": "2022-10-15T19:53:44.982Z"
      },
      {
        "duration": 32,
        "start_time": "2022-10-15T19:53:45.001Z"
      },
      {
        "duration": 5,
        "start_time": "2022-10-15T19:53:45.035Z"
      },
      {
        "duration": 8,
        "start_time": "2022-10-15T19:53:45.042Z"
      },
      {
        "duration": 11,
        "start_time": "2022-10-15T19:53:45.053Z"
      },
      {
        "duration": 21,
        "start_time": "2022-10-15T19:53:45.065Z"
      },
      {
        "duration": 5,
        "start_time": "2022-10-15T19:53:45.087Z"
      },
      {
        "duration": 8,
        "start_time": "2022-10-15T19:53:45.093Z"
      },
      {
        "duration": 35,
        "start_time": "2022-10-15T19:53:45.102Z"
      },
      {
        "duration": 9,
        "start_time": "2022-10-15T19:53:45.139Z"
      },
      {
        "duration": 6,
        "start_time": "2022-10-15T19:53:45.150Z"
      },
      {
        "duration": 7,
        "start_time": "2022-10-15T19:53:45.158Z"
      },
      {
        "duration": 17,
        "start_time": "2022-10-15T19:53:45.166Z"
      },
      {
        "duration": 4,
        "start_time": "2022-10-15T19:53:45.185Z"
      },
      {
        "duration": 363,
        "start_time": "2022-10-15T19:53:45.191Z"
      },
      {
        "duration": 23,
        "start_time": "2022-10-15T19:53:45.556Z"
      },
      {
        "duration": 5,
        "start_time": "2022-10-15T19:53:45.581Z"
      },
      {
        "duration": 94,
        "start_time": "2022-10-15T19:53:45.587Z"
      },
      {
        "duration": 31,
        "start_time": "2022-10-15T19:54:08.950Z"
      },
      {
        "duration": 17,
        "start_time": "2022-10-15T19:54:29.262Z"
      },
      {
        "duration": 390,
        "start_time": "2022-10-15T19:54:44.258Z"
      },
      {
        "duration": 30,
        "start_time": "2022-10-15T19:54:44.650Z"
      },
      {
        "duration": 17,
        "start_time": "2022-10-15T19:54:44.682Z"
      },
      {
        "duration": 13,
        "start_time": "2022-10-15T19:54:44.700Z"
      },
      {
        "duration": 6,
        "start_time": "2022-10-15T19:54:44.715Z"
      },
      {
        "duration": 24,
        "start_time": "2022-10-15T19:54:44.722Z"
      },
      {
        "duration": 8,
        "start_time": "2022-10-15T19:54:44.747Z"
      },
      {
        "duration": 12,
        "start_time": "2022-10-15T19:54:44.757Z"
      },
      {
        "duration": 15,
        "start_time": "2022-10-15T19:54:44.770Z"
      },
      {
        "duration": 11,
        "start_time": "2022-10-15T19:54:44.787Z"
      },
      {
        "duration": 13,
        "start_time": "2022-10-15T19:54:44.799Z"
      },
      {
        "duration": 30,
        "start_time": "2022-10-15T19:54:44.814Z"
      },
      {
        "duration": 6,
        "start_time": "2022-10-15T19:54:44.845Z"
      },
      {
        "duration": 12,
        "start_time": "2022-10-15T19:54:44.852Z"
      },
      {
        "duration": 12,
        "start_time": "2022-10-15T19:54:44.866Z"
      },
      {
        "duration": 36,
        "start_time": "2022-10-15T19:54:44.880Z"
      },
      {
        "duration": 18,
        "start_time": "2022-10-15T19:54:44.917Z"
      },
      {
        "duration": 23,
        "start_time": "2022-10-15T19:54:44.937Z"
      },
      {
        "duration": 16,
        "start_time": "2022-10-15T19:54:44.961Z"
      },
      {
        "duration": 21,
        "start_time": "2022-10-15T19:54:44.978Z"
      },
      {
        "duration": 5,
        "start_time": "2022-10-15T19:54:45.000Z"
      },
      {
        "duration": 31,
        "start_time": "2022-10-15T19:54:45.006Z"
      },
      {
        "duration": 7,
        "start_time": "2022-10-15T19:54:45.039Z"
      },
      {
        "duration": 16,
        "start_time": "2022-10-15T19:54:45.047Z"
      },
      {
        "duration": 8,
        "start_time": "2022-10-15T19:54:45.065Z"
      },
      {
        "duration": 8,
        "start_time": "2022-10-15T19:54:45.074Z"
      },
      {
        "duration": 8,
        "start_time": "2022-10-15T19:54:45.083Z"
      },
      {
        "duration": 10,
        "start_time": "2022-10-15T19:54:45.093Z"
      },
      {
        "duration": 41,
        "start_time": "2022-10-15T19:54:45.104Z"
      },
      {
        "duration": 4,
        "start_time": "2022-10-15T19:54:45.146Z"
      },
      {
        "duration": 8,
        "start_time": "2022-10-15T19:54:45.152Z"
      },
      {
        "duration": 6,
        "start_time": "2022-10-15T19:54:45.161Z"
      },
      {
        "duration": 6,
        "start_time": "2022-10-15T19:54:45.168Z"
      },
      {
        "duration": 7,
        "start_time": "2022-10-15T19:54:45.176Z"
      },
      {
        "duration": 8,
        "start_time": "2022-10-15T19:54:45.184Z"
      },
      {
        "duration": 24,
        "start_time": "2022-10-15T19:54:45.194Z"
      },
      {
        "duration": 5,
        "start_time": "2022-10-15T19:54:45.233Z"
      },
      {
        "duration": 366,
        "start_time": "2022-10-15T19:54:45.239Z"
      },
      {
        "duration": 34,
        "start_time": "2022-10-15T19:54:45.607Z"
      },
      {
        "duration": 6,
        "start_time": "2022-10-15T19:54:45.643Z"
      },
      {
        "duration": 28,
        "start_time": "2022-10-15T19:54:45.651Z"
      },
      {
        "duration": 77,
        "start_time": "2022-10-15T19:56:36.869Z"
      },
      {
        "duration": 5,
        "start_time": "2022-10-15T19:58:08.146Z"
      },
      {
        "duration": 182,
        "start_time": "2022-10-15T19:58:26.236Z"
      },
      {
        "duration": 465,
        "start_time": "2022-10-17T08:10:32.293Z"
      },
      {
        "duration": 148,
        "start_time": "2022-10-17T08:10:32.760Z"
      },
      {
        "duration": 17,
        "start_time": "2022-10-17T08:10:32.911Z"
      },
      {
        "duration": 15,
        "start_time": "2022-10-17T08:10:32.930Z"
      },
      {
        "duration": 7,
        "start_time": "2022-10-17T08:10:32.946Z"
      },
      {
        "duration": 35,
        "start_time": "2022-10-17T08:10:32.954Z"
      },
      {
        "duration": 8,
        "start_time": "2022-10-17T08:10:32.991Z"
      },
      {
        "duration": 15,
        "start_time": "2022-10-17T08:10:33.001Z"
      },
      {
        "duration": 35,
        "start_time": "2022-10-17T08:10:33.018Z"
      },
      {
        "duration": 10,
        "start_time": "2022-10-17T08:10:33.057Z"
      },
      {
        "duration": 11,
        "start_time": "2022-10-17T08:10:33.069Z"
      },
      {
        "duration": 30,
        "start_time": "2022-10-17T08:10:33.082Z"
      },
      {
        "duration": 7,
        "start_time": "2022-10-17T08:10:33.113Z"
      },
      {
        "duration": 15,
        "start_time": "2022-10-17T08:10:33.121Z"
      },
      {
        "duration": 5,
        "start_time": "2022-10-17T08:10:33.137Z"
      },
      {
        "duration": 29,
        "start_time": "2022-10-17T08:10:33.144Z"
      },
      {
        "duration": 19,
        "start_time": "2022-10-17T08:10:33.174Z"
      },
      {
        "duration": 35,
        "start_time": "2022-10-17T08:10:33.194Z"
      },
      {
        "duration": 14,
        "start_time": "2022-10-17T08:10:33.231Z"
      },
      {
        "duration": 22,
        "start_time": "2022-10-17T08:10:33.246Z"
      },
      {
        "duration": 7,
        "start_time": "2022-10-17T08:10:33.270Z"
      },
      {
        "duration": 33,
        "start_time": "2022-10-17T08:10:33.279Z"
      },
      {
        "duration": 6,
        "start_time": "2022-10-17T08:10:33.314Z"
      },
      {
        "duration": 20,
        "start_time": "2022-10-17T08:10:33.322Z"
      },
      {
        "duration": 9,
        "start_time": "2022-10-17T08:10:33.344Z"
      },
      {
        "duration": 5,
        "start_time": "2022-10-17T08:10:33.354Z"
      },
      {
        "duration": 9,
        "start_time": "2022-10-17T08:10:33.361Z"
      },
      {
        "duration": 36,
        "start_time": "2022-10-17T08:10:33.373Z"
      },
      {
        "duration": 21,
        "start_time": "2022-10-17T08:10:33.410Z"
      },
      {
        "duration": 5,
        "start_time": "2022-10-17T08:10:33.432Z"
      },
      {
        "duration": 8,
        "start_time": "2022-10-17T08:10:33.438Z"
      },
      {
        "duration": 7,
        "start_time": "2022-10-17T08:10:33.447Z"
      },
      {
        "duration": 6,
        "start_time": "2022-10-17T08:10:33.456Z"
      },
      {
        "duration": 7,
        "start_time": "2022-10-17T08:10:33.463Z"
      },
      {
        "duration": 9,
        "start_time": "2022-10-17T08:10:33.471Z"
      },
      {
        "duration": 35,
        "start_time": "2022-10-17T08:10:33.482Z"
      },
      {
        "duration": 4,
        "start_time": "2022-10-17T08:10:33.518Z"
      },
      {
        "duration": 534,
        "start_time": "2022-10-17T08:10:33.524Z"
      },
      {
        "duration": 21,
        "start_time": "2022-10-17T08:10:34.060Z"
      },
      {
        "duration": 7,
        "start_time": "2022-10-17T08:10:34.083Z"
      },
      {
        "duration": 51,
        "start_time": "2022-10-17T08:10:34.091Z"
      },
      {
        "duration": 4,
        "start_time": "2022-10-17T08:10:34.144Z"
      },
      {
        "duration": 147,
        "start_time": "2022-10-17T08:10:34.149Z"
      },
      {
        "duration": 82,
        "start_time": "2022-10-17T08:26:10.633Z"
      },
      {
        "duration": 391,
        "start_time": "2022-10-17T08:26:18.921Z"
      },
      {
        "duration": 31,
        "start_time": "2022-10-17T08:26:19.313Z"
      },
      {
        "duration": 18,
        "start_time": "2022-10-17T08:26:19.345Z"
      },
      {
        "duration": 12,
        "start_time": "2022-10-17T08:26:19.365Z"
      },
      {
        "duration": 7,
        "start_time": "2022-10-17T08:26:19.378Z"
      },
      {
        "duration": 25,
        "start_time": "2022-10-17T08:26:19.387Z"
      },
      {
        "duration": 8,
        "start_time": "2022-10-17T08:26:19.413Z"
      },
      {
        "duration": 18,
        "start_time": "2022-10-17T08:26:19.423Z"
      },
      {
        "duration": 18,
        "start_time": "2022-10-17T08:26:19.443Z"
      },
      {
        "duration": 12,
        "start_time": "2022-10-17T08:26:19.464Z"
      },
      {
        "duration": 32,
        "start_time": "2022-10-17T08:26:19.477Z"
      },
      {
        "duration": 12,
        "start_time": "2022-10-17T08:26:19.511Z"
      },
      {
        "duration": 7,
        "start_time": "2022-10-17T08:26:19.524Z"
      },
      {
        "duration": 13,
        "start_time": "2022-10-17T08:26:19.532Z"
      },
      {
        "duration": 4,
        "start_time": "2022-10-17T08:26:19.547Z"
      },
      {
        "duration": 21,
        "start_time": "2022-10-17T08:26:19.553Z"
      },
      {
        "duration": 44,
        "start_time": "2022-10-17T08:26:19.576Z"
      },
      {
        "duration": 31,
        "start_time": "2022-10-17T08:26:19.622Z"
      },
      {
        "duration": 16,
        "start_time": "2022-10-17T08:26:19.654Z"
      },
      {
        "duration": 48,
        "start_time": "2022-10-17T08:26:19.671Z"
      },
      {
        "duration": 5,
        "start_time": "2022-10-17T08:26:19.720Z"
      },
      {
        "duration": 9,
        "start_time": "2022-10-17T08:26:19.726Z"
      },
      {
        "duration": 5,
        "start_time": "2022-10-17T08:26:19.737Z"
      },
      {
        "duration": 18,
        "start_time": "2022-10-17T08:26:19.744Z"
      },
      {
        "duration": 8,
        "start_time": "2022-10-17T08:26:19.763Z"
      },
      {
        "duration": 37,
        "start_time": "2022-10-17T08:26:19.773Z"
      },
      {
        "duration": 70,
        "start_time": "2022-10-17T08:26:19.812Z"
      },
      {
        "duration": 0,
        "start_time": "2022-10-17T08:26:19.885Z"
      },
      {
        "duration": 0,
        "start_time": "2022-10-17T08:26:19.886Z"
      },
      {
        "duration": 0,
        "start_time": "2022-10-17T08:26:19.886Z"
      },
      {
        "duration": 0,
        "start_time": "2022-10-17T08:26:19.888Z"
      },
      {
        "duration": 0,
        "start_time": "2022-10-17T08:26:19.888Z"
      },
      {
        "duration": 0,
        "start_time": "2022-10-17T08:26:19.909Z"
      },
      {
        "duration": 0,
        "start_time": "2022-10-17T08:26:19.910Z"
      },
      {
        "duration": 0,
        "start_time": "2022-10-17T08:26:19.911Z"
      },
      {
        "duration": 0,
        "start_time": "2022-10-17T08:26:19.912Z"
      },
      {
        "duration": 0,
        "start_time": "2022-10-17T08:26:19.914Z"
      },
      {
        "duration": 0,
        "start_time": "2022-10-17T08:26:19.915Z"
      },
      {
        "duration": 0,
        "start_time": "2022-10-17T08:26:19.916Z"
      },
      {
        "duration": 0,
        "start_time": "2022-10-17T08:26:19.917Z"
      },
      {
        "duration": 0,
        "start_time": "2022-10-17T08:26:19.918Z"
      },
      {
        "duration": 0,
        "start_time": "2022-10-17T08:26:19.919Z"
      },
      {
        "duration": 0,
        "start_time": "2022-10-17T08:26:19.920Z"
      },
      {
        "duration": 0,
        "start_time": "2022-10-17T08:26:19.921Z"
      },
      {
        "duration": 6,
        "start_time": "2022-10-17T08:26:47.724Z"
      },
      {
        "duration": 5,
        "start_time": "2022-10-17T08:27:27.676Z"
      },
      {
        "duration": 6,
        "start_time": "2022-10-17T08:27:37.991Z"
      },
      {
        "duration": 5,
        "start_time": "2022-10-17T08:27:45.653Z"
      },
      {
        "duration": 415,
        "start_time": "2022-10-17T08:28:58.995Z"
      },
      {
        "duration": 31,
        "start_time": "2022-10-17T08:28:59.412Z"
      },
      {
        "duration": 17,
        "start_time": "2022-10-17T08:28:59.445Z"
      },
      {
        "duration": 23,
        "start_time": "2022-10-17T08:28:59.464Z"
      },
      {
        "duration": 17,
        "start_time": "2022-10-17T08:28:59.488Z"
      },
      {
        "duration": 22,
        "start_time": "2022-10-17T08:28:59.507Z"
      },
      {
        "duration": 11,
        "start_time": "2022-10-17T08:28:59.530Z"
      },
      {
        "duration": 20,
        "start_time": "2022-10-17T08:28:59.543Z"
      },
      {
        "duration": 28,
        "start_time": "2022-10-17T08:28:59.565Z"
      },
      {
        "duration": 15,
        "start_time": "2022-10-17T08:28:59.596Z"
      },
      {
        "duration": 25,
        "start_time": "2022-10-17T08:28:59.613Z"
      },
      {
        "duration": 28,
        "start_time": "2022-10-17T08:28:59.640Z"
      },
      {
        "duration": 34,
        "start_time": "2022-10-17T08:28:59.673Z"
      },
      {
        "duration": 29,
        "start_time": "2022-10-17T08:28:59.708Z"
      },
      {
        "duration": 21,
        "start_time": "2022-10-17T08:28:59.739Z"
      },
      {
        "duration": 37,
        "start_time": "2022-10-17T08:28:59.761Z"
      },
      {
        "duration": 20,
        "start_time": "2022-10-17T08:28:59.800Z"
      },
      {
        "duration": 31,
        "start_time": "2022-10-17T08:28:59.821Z"
      },
      {
        "duration": 16,
        "start_time": "2022-10-17T08:28:59.854Z"
      },
      {
        "duration": 39,
        "start_time": "2022-10-17T08:28:59.871Z"
      },
      {
        "duration": 4,
        "start_time": "2022-10-17T08:28:59.912Z"
      },
      {
        "duration": 18,
        "start_time": "2022-10-17T08:28:59.917Z"
      },
      {
        "duration": 9,
        "start_time": "2022-10-17T08:28:59.937Z"
      },
      {
        "duration": 43,
        "start_time": "2022-10-17T08:28:59.948Z"
      },
      {
        "duration": 11,
        "start_time": "2022-10-17T08:28:59.993Z"
      },
      {
        "duration": 38,
        "start_time": "2022-10-17T08:29:00.006Z"
      },
      {
        "duration": 28,
        "start_time": "2022-10-17T08:29:00.046Z"
      },
      {
        "duration": 29,
        "start_time": "2022-10-17T08:29:00.077Z"
      },
      {
        "duration": 36,
        "start_time": "2022-10-17T08:29:00.107Z"
      },
      {
        "duration": 35,
        "start_time": "2022-10-17T08:29:00.145Z"
      },
      {
        "duration": 17,
        "start_time": "2022-10-17T08:29:00.182Z"
      },
      {
        "duration": 40,
        "start_time": "2022-10-17T08:29:00.201Z"
      },
      {
        "duration": 49,
        "start_time": "2022-10-17T08:29:00.242Z"
      },
      {
        "duration": 27,
        "start_time": "2022-10-17T08:29:00.292Z"
      },
      {
        "duration": 42,
        "start_time": "2022-10-17T08:29:00.320Z"
      },
      {
        "duration": 32,
        "start_time": "2022-10-17T08:29:00.364Z"
      },
      {
        "duration": 40,
        "start_time": "2022-10-17T08:29:00.398Z"
      },
      {
        "duration": 24,
        "start_time": "2022-10-17T08:29:00.439Z"
      },
      {
        "duration": 385,
        "start_time": "2022-10-17T08:29:00.465Z"
      },
      {
        "duration": 22,
        "start_time": "2022-10-17T08:29:00.851Z"
      },
      {
        "duration": 25,
        "start_time": "2022-10-17T08:29:00.875Z"
      },
      {
        "duration": 64,
        "start_time": "2022-10-17T08:29:00.902Z"
      },
      {
        "duration": 64,
        "start_time": "2022-10-17T08:29:00.968Z"
      },
      {
        "duration": 214,
        "start_time": "2022-10-17T08:29:01.033Z"
      },
      {
        "duration": 16,
        "start_time": "2022-10-17T08:34:05.289Z"
      },
      {
        "duration": 404,
        "start_time": "2022-10-17T08:34:12.844Z"
      },
      {
        "duration": 31,
        "start_time": "2022-10-17T08:34:13.250Z"
      },
      {
        "duration": 18,
        "start_time": "2022-10-17T08:34:13.283Z"
      },
      {
        "duration": 12,
        "start_time": "2022-10-17T08:34:13.303Z"
      },
      {
        "duration": 30,
        "start_time": "2022-10-17T08:34:13.316Z"
      },
      {
        "duration": 20,
        "start_time": "2022-10-17T08:34:13.347Z"
      },
      {
        "duration": 14,
        "start_time": "2022-10-17T08:34:13.369Z"
      },
      {
        "duration": 43,
        "start_time": "2022-10-17T08:34:13.384Z"
      },
      {
        "duration": 38,
        "start_time": "2022-10-17T08:34:13.429Z"
      },
      {
        "duration": 11,
        "start_time": "2022-10-17T08:34:13.470Z"
      },
      {
        "duration": 27,
        "start_time": "2022-10-17T08:34:13.483Z"
      },
      {
        "duration": 25,
        "start_time": "2022-10-17T08:34:13.511Z"
      },
      {
        "duration": 23,
        "start_time": "2022-10-17T08:34:13.537Z"
      },
      {
        "duration": 20,
        "start_time": "2022-10-17T08:34:13.561Z"
      },
      {
        "duration": 24,
        "start_time": "2022-10-17T08:34:13.582Z"
      },
      {
        "duration": 29,
        "start_time": "2022-10-17T08:34:13.608Z"
      },
      {
        "duration": 28,
        "start_time": "2022-10-17T08:34:13.639Z"
      },
      {
        "duration": 23,
        "start_time": "2022-10-17T08:34:13.669Z"
      },
      {
        "duration": 22,
        "start_time": "2022-10-17T08:34:13.694Z"
      },
      {
        "duration": 22,
        "start_time": "2022-10-17T08:34:13.718Z"
      },
      {
        "duration": 4,
        "start_time": "2022-10-17T08:34:13.742Z"
      },
      {
        "duration": 6,
        "start_time": "2022-10-17T08:34:13.749Z"
      },
      {
        "duration": 10,
        "start_time": "2022-10-17T08:34:13.757Z"
      },
      {
        "duration": 49,
        "start_time": "2022-10-17T08:34:13.769Z"
      },
      {
        "duration": 9,
        "start_time": "2022-10-17T08:34:13.820Z"
      },
      {
        "duration": 13,
        "start_time": "2022-10-17T08:34:13.830Z"
      },
      {
        "duration": 10,
        "start_time": "2022-10-17T08:34:13.845Z"
      },
      {
        "duration": 6,
        "start_time": "2022-10-17T08:34:13.859Z"
      },
      {
        "duration": 15,
        "start_time": "2022-10-17T08:34:13.866Z"
      },
      {
        "duration": 42,
        "start_time": "2022-10-17T08:34:13.883Z"
      },
      {
        "duration": 5,
        "start_time": "2022-10-17T08:34:13.927Z"
      },
      {
        "duration": 8,
        "start_time": "2022-10-17T08:34:13.933Z"
      },
      {
        "duration": 8,
        "start_time": "2022-10-17T08:34:13.942Z"
      },
      {
        "duration": 5,
        "start_time": "2022-10-17T08:34:13.952Z"
      },
      {
        "duration": 10,
        "start_time": "2022-10-17T08:34:13.958Z"
      },
      {
        "duration": 8,
        "start_time": "2022-10-17T08:34:13.969Z"
      },
      {
        "duration": 45,
        "start_time": "2022-10-17T08:34:13.978Z"
      },
      {
        "duration": 5,
        "start_time": "2022-10-17T08:34:14.025Z"
      },
      {
        "duration": 29,
        "start_time": "2022-10-17T08:34:14.031Z"
      },
      {
        "duration": 366,
        "start_time": "2022-10-17T08:34:14.062Z"
      },
      {
        "duration": 21,
        "start_time": "2022-10-17T08:34:14.430Z"
      },
      {
        "duration": 6,
        "start_time": "2022-10-17T08:34:14.453Z"
      },
      {
        "duration": 49,
        "start_time": "2022-10-17T08:34:14.461Z"
      },
      {
        "duration": 5,
        "start_time": "2022-10-17T08:34:14.511Z"
      },
      {
        "duration": 155,
        "start_time": "2022-10-17T08:34:14.517Z"
      },
      {
        "duration": 96,
        "start_time": "2022-10-17T08:34:33.195Z"
      },
      {
        "duration": 748,
        "start_time": "2022-10-17T08:37:17.010Z"
      },
      {
        "duration": 426,
        "start_time": "2022-10-17T08:37:56.128Z"
      },
      {
        "duration": 31,
        "start_time": "2022-10-17T08:37:56.555Z"
      },
      {
        "duration": 18,
        "start_time": "2022-10-17T08:37:56.588Z"
      },
      {
        "duration": 15,
        "start_time": "2022-10-17T08:37:56.608Z"
      },
      {
        "duration": 22,
        "start_time": "2022-10-17T08:37:56.624Z"
      },
      {
        "duration": 46,
        "start_time": "2022-10-17T08:37:56.647Z"
      },
      {
        "duration": 10,
        "start_time": "2022-10-17T08:37:56.694Z"
      },
      {
        "duration": 19,
        "start_time": "2022-10-17T08:37:56.705Z"
      },
      {
        "duration": 29,
        "start_time": "2022-10-17T08:37:56.726Z"
      },
      {
        "duration": 11,
        "start_time": "2022-10-17T08:37:56.757Z"
      },
      {
        "duration": 24,
        "start_time": "2022-10-17T08:37:56.769Z"
      },
      {
        "duration": 34,
        "start_time": "2022-10-17T08:37:56.795Z"
      },
      {
        "duration": 13,
        "start_time": "2022-10-17T08:37:56.831Z"
      },
      {
        "duration": 38,
        "start_time": "2022-10-17T08:37:56.845Z"
      },
      {
        "duration": 14,
        "start_time": "2022-10-17T08:37:56.885Z"
      },
      {
        "duration": 37,
        "start_time": "2022-10-17T08:37:56.900Z"
      },
      {
        "duration": 24,
        "start_time": "2022-10-17T08:37:56.940Z"
      },
      {
        "duration": 26,
        "start_time": "2022-10-17T08:37:56.966Z"
      },
      {
        "duration": 22,
        "start_time": "2022-10-17T08:37:56.994Z"
      },
      {
        "duration": 27,
        "start_time": "2022-10-17T08:37:57.017Z"
      },
      {
        "duration": 13,
        "start_time": "2022-10-17T08:37:57.045Z"
      },
      {
        "duration": 20,
        "start_time": "2022-10-17T08:37:57.059Z"
      },
      {
        "duration": 12,
        "start_time": "2022-10-17T08:37:57.080Z"
      },
      {
        "duration": 35,
        "start_time": "2022-10-17T08:37:57.094Z"
      },
      {
        "duration": 12,
        "start_time": "2022-10-17T08:37:57.131Z"
      },
      {
        "duration": 20,
        "start_time": "2022-10-17T08:37:57.145Z"
      },
      {
        "duration": 32,
        "start_time": "2022-10-17T08:37:57.167Z"
      },
      {
        "duration": 25,
        "start_time": "2022-10-17T08:37:57.204Z"
      },
      {
        "duration": 20,
        "start_time": "2022-10-17T08:37:57.231Z"
      },
      {
        "duration": 5,
        "start_time": "2022-10-17T08:37:57.253Z"
      },
      {
        "duration": 21,
        "start_time": "2022-10-17T08:37:57.259Z"
      },
      {
        "duration": 22,
        "start_time": "2022-10-17T08:37:57.282Z"
      },
      {
        "duration": 6,
        "start_time": "2022-10-17T08:37:57.305Z"
      },
      {
        "duration": 11,
        "start_time": "2022-10-17T08:37:57.312Z"
      },
      {
        "duration": 21,
        "start_time": "2022-10-17T08:37:57.325Z"
      },
      {
        "duration": 27,
        "start_time": "2022-10-17T08:37:57.347Z"
      },
      {
        "duration": 6,
        "start_time": "2022-10-17T08:37:57.376Z"
      },
      {
        "duration": 36,
        "start_time": "2022-10-17T08:37:57.384Z"
      },
      {
        "duration": 80,
        "start_time": "2022-10-17T08:37:57.422Z"
      },
      {
        "duration": 0,
        "start_time": "2022-10-17T08:37:57.504Z"
      },
      {
        "duration": 0,
        "start_time": "2022-10-17T08:37:57.506Z"
      },
      {
        "duration": 0,
        "start_time": "2022-10-17T08:37:57.507Z"
      },
      {
        "duration": 0,
        "start_time": "2022-10-17T08:37:57.508Z"
      },
      {
        "duration": 0,
        "start_time": "2022-10-17T08:37:57.510Z"
      },
      {
        "duration": 6,
        "start_time": "2022-10-17T08:38:09.016Z"
      },
      {
        "duration": 25,
        "start_time": "2022-10-17T08:38:10.022Z"
      },
      {
        "duration": 4,
        "start_time": "2022-10-17T08:38:41.563Z"
      },
      {
        "duration": 25,
        "start_time": "2022-10-17T08:38:42.739Z"
      },
      {
        "duration": 424,
        "start_time": "2022-10-17T08:39:05.792Z"
      },
      {
        "duration": 32,
        "start_time": "2022-10-17T08:39:06.218Z"
      },
      {
        "duration": 18,
        "start_time": "2022-10-17T08:39:06.251Z"
      },
      {
        "duration": 13,
        "start_time": "2022-10-17T08:39:06.271Z"
      },
      {
        "duration": 8,
        "start_time": "2022-10-17T08:39:06.285Z"
      },
      {
        "duration": 19,
        "start_time": "2022-10-17T08:39:06.294Z"
      },
      {
        "duration": 8,
        "start_time": "2022-10-17T08:39:06.315Z"
      },
      {
        "duration": 11,
        "start_time": "2022-10-17T08:39:06.325Z"
      },
      {
        "duration": 16,
        "start_time": "2022-10-17T08:39:06.337Z"
      },
      {
        "duration": 10,
        "start_time": "2022-10-17T08:39:06.356Z"
      },
      {
        "duration": 40,
        "start_time": "2022-10-17T08:39:06.368Z"
      },
      {
        "duration": 24,
        "start_time": "2022-10-17T08:39:06.410Z"
      },
      {
        "duration": 18,
        "start_time": "2022-10-17T08:39:06.436Z"
      },
      {
        "duration": 28,
        "start_time": "2022-10-17T08:39:06.455Z"
      },
      {
        "duration": 18,
        "start_time": "2022-10-17T08:39:06.484Z"
      },
      {
        "duration": 60,
        "start_time": "2022-10-17T08:39:06.503Z"
      },
      {
        "duration": 22,
        "start_time": "2022-10-17T08:39:06.565Z"
      },
      {
        "duration": 35,
        "start_time": "2022-10-17T08:39:06.588Z"
      },
      {
        "duration": 17,
        "start_time": "2022-10-17T08:39:06.625Z"
      },
      {
        "duration": 41,
        "start_time": "2022-10-17T08:39:06.644Z"
      },
      {
        "duration": 4,
        "start_time": "2022-10-17T08:39:06.687Z"
      },
      {
        "duration": 16,
        "start_time": "2022-10-17T08:39:06.693Z"
      },
      {
        "duration": 21,
        "start_time": "2022-10-17T08:39:06.711Z"
      },
      {
        "duration": 24,
        "start_time": "2022-10-17T08:39:06.733Z"
      },
      {
        "duration": 18,
        "start_time": "2022-10-17T08:39:06.759Z"
      },
      {
        "duration": 10,
        "start_time": "2022-10-17T08:39:06.778Z"
      },
      {
        "duration": 36,
        "start_time": "2022-10-17T08:39:06.789Z"
      },
      {
        "duration": 35,
        "start_time": "2022-10-17T08:39:06.828Z"
      },
      {
        "duration": 22,
        "start_time": "2022-10-17T08:39:06.866Z"
      },
      {
        "duration": 5,
        "start_time": "2022-10-17T08:39:06.889Z"
      },
      {
        "duration": 11,
        "start_time": "2022-10-17T08:39:06.896Z"
      },
      {
        "duration": 26,
        "start_time": "2022-10-17T08:39:06.908Z"
      },
      {
        "duration": 38,
        "start_time": "2022-10-17T08:39:06.935Z"
      },
      {
        "duration": 8,
        "start_time": "2022-10-17T08:39:06.974Z"
      },
      {
        "duration": 16,
        "start_time": "2022-10-17T08:39:06.983Z"
      },
      {
        "duration": 37,
        "start_time": "2022-10-17T08:39:07.000Z"
      },
      {
        "duration": 7,
        "start_time": "2022-10-17T08:39:07.039Z"
      },
      {
        "duration": 55,
        "start_time": "2022-10-17T08:39:07.047Z"
      },
      {
        "duration": 72,
        "start_time": "2022-10-17T08:39:07.103Z"
      },
      {
        "duration": 0,
        "start_time": "2022-10-17T08:39:07.176Z"
      },
      {
        "duration": 0,
        "start_time": "2022-10-17T08:39:07.178Z"
      },
      {
        "duration": 0,
        "start_time": "2022-10-17T08:39:07.179Z"
      },
      {
        "duration": 0,
        "start_time": "2022-10-17T08:39:07.180Z"
      },
      {
        "duration": 0,
        "start_time": "2022-10-17T08:39:07.180Z"
      },
      {
        "duration": 37,
        "start_time": "2022-10-17T08:45:42.241Z"
      },
      {
        "duration": 9,
        "start_time": "2022-10-17T08:45:42.828Z"
      },
      {
        "duration": 17,
        "start_time": "2022-10-17T08:45:43.480Z"
      },
      {
        "duration": 4,
        "start_time": "2022-10-17T08:45:45.810Z"
      },
      {
        "duration": 430,
        "start_time": "2022-10-17T08:46:13.491Z"
      },
      {
        "duration": 31,
        "start_time": "2022-10-17T08:46:13.923Z"
      },
      {
        "duration": 16,
        "start_time": "2022-10-17T08:46:13.956Z"
      },
      {
        "duration": 14,
        "start_time": "2022-10-17T08:46:13.974Z"
      },
      {
        "duration": 14,
        "start_time": "2022-10-17T08:46:13.990Z"
      },
      {
        "duration": 40,
        "start_time": "2022-10-17T08:46:14.006Z"
      },
      {
        "duration": 15,
        "start_time": "2022-10-17T08:46:14.048Z"
      },
      {
        "duration": 28,
        "start_time": "2022-10-17T08:46:14.064Z"
      },
      {
        "duration": 50,
        "start_time": "2022-10-17T08:46:14.093Z"
      },
      {
        "duration": 21,
        "start_time": "2022-10-17T08:46:14.147Z"
      },
      {
        "duration": 22,
        "start_time": "2022-10-17T08:46:14.170Z"
      },
      {
        "duration": 41,
        "start_time": "2022-10-17T08:46:14.194Z"
      },
      {
        "duration": 25,
        "start_time": "2022-10-17T08:46:14.237Z"
      },
      {
        "duration": 27,
        "start_time": "2022-10-17T08:46:14.263Z"
      },
      {
        "duration": 9,
        "start_time": "2022-10-17T08:46:14.292Z"
      },
      {
        "duration": 41,
        "start_time": "2022-10-17T08:46:14.303Z"
      },
      {
        "duration": 18,
        "start_time": "2022-10-17T08:46:14.345Z"
      },
      {
        "duration": 28,
        "start_time": "2022-10-17T08:46:14.365Z"
      },
      {
        "duration": 19,
        "start_time": "2022-10-17T08:46:14.394Z"
      },
      {
        "duration": 40,
        "start_time": "2022-10-17T08:46:14.415Z"
      },
      {
        "duration": 5,
        "start_time": "2022-10-17T08:46:14.457Z"
      },
      {
        "duration": 13,
        "start_time": "2022-10-17T08:46:14.463Z"
      },
      {
        "duration": 16,
        "start_time": "2022-10-17T08:46:14.477Z"
      },
      {
        "duration": 42,
        "start_time": "2022-10-17T08:46:14.495Z"
      },
      {
        "duration": 8,
        "start_time": "2022-10-17T08:46:14.539Z"
      },
      {
        "duration": 20,
        "start_time": "2022-10-17T08:46:14.548Z"
      },
      {
        "duration": 31,
        "start_time": "2022-10-17T08:46:14.570Z"
      },
      {
        "duration": 25,
        "start_time": "2022-10-17T08:46:14.605Z"
      },
      {
        "duration": 51,
        "start_time": "2022-10-17T08:46:14.631Z"
      },
      {
        "duration": 6,
        "start_time": "2022-10-17T08:46:14.684Z"
      },
      {
        "duration": 22,
        "start_time": "2022-10-17T08:46:14.692Z"
      },
      {
        "duration": 17,
        "start_time": "2022-10-17T08:46:14.715Z"
      },
      {
        "duration": 19,
        "start_time": "2022-10-17T08:46:14.734Z"
      },
      {
        "duration": 16,
        "start_time": "2022-10-17T08:46:14.755Z"
      },
      {
        "duration": 31,
        "start_time": "2022-10-17T08:46:14.772Z"
      },
      {
        "duration": 29,
        "start_time": "2022-10-17T08:46:14.804Z"
      },
      {
        "duration": 15,
        "start_time": "2022-10-17T08:46:14.835Z"
      },
      {
        "duration": 44,
        "start_time": "2022-10-17T08:46:14.852Z"
      },
      {
        "duration": 332,
        "start_time": "2022-10-17T08:46:14.898Z"
      },
      {
        "duration": 21,
        "start_time": "2022-10-17T08:46:15.232Z"
      },
      {
        "duration": 14,
        "start_time": "2022-10-17T08:46:15.255Z"
      },
      {
        "duration": 39,
        "start_time": "2022-10-17T08:46:15.270Z"
      },
      {
        "duration": 26,
        "start_time": "2022-10-17T08:46:15.312Z"
      },
      {
        "duration": 160,
        "start_time": "2022-10-17T08:46:15.340Z"
      },
      {
        "duration": 421,
        "start_time": "2022-10-17T08:52:49.188Z"
      },
      {
        "duration": 32,
        "start_time": "2022-10-17T08:52:49.611Z"
      },
      {
        "duration": 19,
        "start_time": "2022-10-17T08:52:49.644Z"
      },
      {
        "duration": 23,
        "start_time": "2022-10-17T08:52:49.664Z"
      },
      {
        "duration": 8,
        "start_time": "2022-10-17T08:52:49.690Z"
      },
      {
        "duration": 37,
        "start_time": "2022-10-17T08:52:49.699Z"
      },
      {
        "duration": 11,
        "start_time": "2022-10-17T08:52:49.738Z"
      },
      {
        "duration": 20,
        "start_time": "2022-10-17T08:52:49.750Z"
      },
      {
        "duration": 29,
        "start_time": "2022-10-17T08:52:49.771Z"
      },
      {
        "duration": 11,
        "start_time": "2022-10-17T08:52:49.802Z"
      },
      {
        "duration": 36,
        "start_time": "2022-10-17T08:52:49.814Z"
      },
      {
        "duration": 27,
        "start_time": "2022-10-17T08:52:49.852Z"
      },
      {
        "duration": 14,
        "start_time": "2022-10-17T08:52:49.881Z"
      },
      {
        "duration": 9,
        "start_time": "2022-10-17T08:52:49.898Z"
      },
      {
        "duration": 4,
        "start_time": "2022-10-17T08:52:49.909Z"
      },
      {
        "duration": 24,
        "start_time": "2022-10-17T08:52:49.915Z"
      },
      {
        "duration": 19,
        "start_time": "2022-10-17T08:52:49.941Z"
      },
      {
        "duration": 26,
        "start_time": "2022-10-17T08:52:49.961Z"
      },
      {
        "duration": 32,
        "start_time": "2022-10-17T08:52:49.989Z"
      },
      {
        "duration": 21,
        "start_time": "2022-10-17T08:52:50.023Z"
      },
      {
        "duration": 6,
        "start_time": "2022-10-17T08:52:50.046Z"
      },
      {
        "duration": 9,
        "start_time": "2022-10-17T08:52:50.053Z"
      },
      {
        "duration": 11,
        "start_time": "2022-10-17T08:52:50.063Z"
      },
      {
        "duration": 37,
        "start_time": "2022-10-17T08:52:50.075Z"
      },
      {
        "duration": 11,
        "start_time": "2022-10-17T08:52:50.113Z"
      },
      {
        "duration": 6,
        "start_time": "2022-10-17T08:52:50.125Z"
      },
      {
        "duration": 7,
        "start_time": "2022-10-17T08:52:50.132Z"
      },
      {
        "duration": 14,
        "start_time": "2022-10-17T08:52:50.140Z"
      },
      {
        "duration": 67,
        "start_time": "2022-10-17T08:52:50.155Z"
      },
      {
        "duration": 5,
        "start_time": "2022-10-17T08:52:50.224Z"
      },
      {
        "duration": 10,
        "start_time": "2022-10-17T08:52:50.230Z"
      },
      {
        "duration": 7,
        "start_time": "2022-10-17T08:52:50.242Z"
      },
      {
        "duration": 5,
        "start_time": "2022-10-17T08:52:50.250Z"
      },
      {
        "duration": 6,
        "start_time": "2022-10-17T08:52:50.257Z"
      },
      {
        "duration": 6,
        "start_time": "2022-10-17T08:52:50.264Z"
      },
      {
        "duration": 48,
        "start_time": "2022-10-17T08:52:50.272Z"
      },
      {
        "duration": 5,
        "start_time": "2022-10-17T08:52:50.322Z"
      },
      {
        "duration": 43,
        "start_time": "2022-10-17T08:52:50.328Z"
      },
      {
        "duration": 359,
        "start_time": "2022-10-17T08:52:50.373Z"
      },
      {
        "duration": 22,
        "start_time": "2022-10-17T08:52:50.733Z"
      },
      {
        "duration": 6,
        "start_time": "2022-10-17T08:52:50.759Z"
      },
      {
        "duration": 43,
        "start_time": "2022-10-17T08:52:50.767Z"
      },
      {
        "duration": 18,
        "start_time": "2022-10-17T08:52:50.811Z"
      },
      {
        "duration": 152,
        "start_time": "2022-10-17T08:52:50.831Z"
      },
      {
        "duration": 86,
        "start_time": "2022-10-17T08:55:27.903Z"
      },
      {
        "duration": 420,
        "start_time": "2022-10-17T08:55:44.283Z"
      },
      {
        "duration": 32,
        "start_time": "2022-10-17T08:55:44.705Z"
      },
      {
        "duration": 19,
        "start_time": "2022-10-17T08:55:44.738Z"
      },
      {
        "duration": 16,
        "start_time": "2022-10-17T08:55:44.760Z"
      },
      {
        "duration": 9,
        "start_time": "2022-10-17T08:55:44.778Z"
      },
      {
        "duration": 31,
        "start_time": "2022-10-17T08:55:44.789Z"
      },
      {
        "duration": 11,
        "start_time": "2022-10-17T08:55:44.822Z"
      },
      {
        "duration": 19,
        "start_time": "2022-10-17T08:55:44.834Z"
      },
      {
        "duration": 26,
        "start_time": "2022-10-17T08:55:44.854Z"
      },
      {
        "duration": 12,
        "start_time": "2022-10-17T08:55:44.883Z"
      },
      {
        "duration": 21,
        "start_time": "2022-10-17T08:55:44.896Z"
      },
      {
        "duration": 14,
        "start_time": "2022-10-17T08:55:44.919Z"
      },
      {
        "duration": 7,
        "start_time": "2022-10-17T08:55:44.935Z"
      },
      {
        "duration": 11,
        "start_time": "2022-10-17T08:55:44.943Z"
      },
      {
        "duration": 5,
        "start_time": "2022-10-17T08:55:44.956Z"
      },
      {
        "duration": 24,
        "start_time": "2022-10-17T08:55:44.963Z"
      },
      {
        "duration": 20,
        "start_time": "2022-10-17T08:55:45.009Z"
      },
      {
        "duration": 24,
        "start_time": "2022-10-17T08:55:45.032Z"
      },
      {
        "duration": 15,
        "start_time": "2022-10-17T08:55:45.058Z"
      },
      {
        "duration": 50,
        "start_time": "2022-10-17T08:55:45.074Z"
      },
      {
        "duration": 8,
        "start_time": "2022-10-17T08:55:45.125Z"
      },
      {
        "duration": 8,
        "start_time": "2022-10-17T08:55:45.134Z"
      },
      {
        "duration": 10,
        "start_time": "2022-10-17T08:55:45.144Z"
      },
      {
        "duration": 20,
        "start_time": "2022-10-17T08:55:45.155Z"
      },
      {
        "duration": 9,
        "start_time": "2022-10-17T08:55:45.176Z"
      },
      {
        "duration": 23,
        "start_time": "2022-10-17T08:55:45.187Z"
      },
      {
        "duration": 9,
        "start_time": "2022-10-17T08:55:45.212Z"
      },
      {
        "duration": 11,
        "start_time": "2022-10-17T08:55:45.225Z"
      },
      {
        "duration": 27,
        "start_time": "2022-10-17T08:55:45.238Z"
      },
      {
        "duration": 5,
        "start_time": "2022-10-17T08:55:45.266Z"
      },
      {
        "duration": 13,
        "start_time": "2022-10-17T08:55:45.272Z"
      },
      {
        "duration": 5,
        "start_time": "2022-10-17T08:55:45.287Z"
      },
      {
        "duration": 4,
        "start_time": "2022-10-17T08:55:45.309Z"
      },
      {
        "duration": 7,
        "start_time": "2022-10-17T08:55:45.314Z"
      },
      {
        "duration": 7,
        "start_time": "2022-10-17T08:55:45.322Z"
      },
      {
        "duration": 18,
        "start_time": "2022-10-17T08:55:45.330Z"
      },
      {
        "duration": 4,
        "start_time": "2022-10-17T08:55:45.349Z"
      },
      {
        "duration": 67,
        "start_time": "2022-10-17T08:55:45.354Z"
      },
      {
        "duration": 372,
        "start_time": "2022-10-17T08:55:45.423Z"
      },
      {
        "duration": 104,
        "start_time": "2022-10-17T08:55:45.797Z"
      },
      {
        "duration": 0,
        "start_time": "2022-10-17T08:55:45.903Z"
      },
      {
        "duration": 0,
        "start_time": "2022-10-17T08:55:45.909Z"
      },
      {
        "duration": 0,
        "start_time": "2022-10-17T08:55:45.910Z"
      },
      {
        "duration": 0,
        "start_time": "2022-10-17T08:55:45.910Z"
      },
      {
        "duration": 0,
        "start_time": "2022-10-17T08:55:45.911Z"
      },
      {
        "duration": 10,
        "start_time": "2022-10-17T08:56:21.180Z"
      },
      {
        "duration": 5,
        "start_time": "2022-10-17T08:57:15.130Z"
      },
      {
        "duration": 8,
        "start_time": "2022-10-17T08:58:29.978Z"
      },
      {
        "duration": 1514,
        "start_time": "2022-10-17T08:59:22.589Z"
      },
      {
        "duration": 0,
        "start_time": "2022-10-17T08:59:24.109Z"
      },
      {
        "duration": 0,
        "start_time": "2022-10-17T08:59:24.111Z"
      },
      {
        "duration": 0,
        "start_time": "2022-10-17T08:59:24.112Z"
      },
      {
        "duration": 0,
        "start_time": "2022-10-17T08:59:24.113Z"
      },
      {
        "duration": 0,
        "start_time": "2022-10-17T08:59:24.115Z"
      },
      {
        "duration": 0,
        "start_time": "2022-10-17T08:59:24.116Z"
      },
      {
        "duration": 0,
        "start_time": "2022-10-17T08:59:24.117Z"
      },
      {
        "duration": 0,
        "start_time": "2022-10-17T08:59:24.118Z"
      },
      {
        "duration": 0,
        "start_time": "2022-10-17T08:59:24.120Z"
      },
      {
        "duration": 0,
        "start_time": "2022-10-17T08:59:24.121Z"
      },
      {
        "duration": 0,
        "start_time": "2022-10-17T08:59:24.122Z"
      },
      {
        "duration": 0,
        "start_time": "2022-10-17T08:59:24.124Z"
      },
      {
        "duration": 0,
        "start_time": "2022-10-17T08:59:24.125Z"
      },
      {
        "duration": 0,
        "start_time": "2022-10-17T08:59:24.126Z"
      },
      {
        "duration": 1,
        "start_time": "2022-10-17T08:59:24.127Z"
      },
      {
        "duration": 0,
        "start_time": "2022-10-17T08:59:24.129Z"
      },
      {
        "duration": 0,
        "start_time": "2022-10-17T08:59:24.130Z"
      },
      {
        "duration": 0,
        "start_time": "2022-10-17T08:59:24.131Z"
      },
      {
        "duration": 0,
        "start_time": "2022-10-17T08:59:24.132Z"
      },
      {
        "duration": 0,
        "start_time": "2022-10-17T08:59:24.133Z"
      },
      {
        "duration": 0,
        "start_time": "2022-10-17T08:59:24.135Z"
      },
      {
        "duration": 0,
        "start_time": "2022-10-17T08:59:24.136Z"
      },
      {
        "duration": 0,
        "start_time": "2022-10-17T08:59:24.137Z"
      },
      {
        "duration": 0,
        "start_time": "2022-10-17T08:59:24.138Z"
      },
      {
        "duration": 0,
        "start_time": "2022-10-17T08:59:24.139Z"
      },
      {
        "duration": 0,
        "start_time": "2022-10-17T08:59:24.140Z"
      },
      {
        "duration": 0,
        "start_time": "2022-10-17T08:59:24.141Z"
      },
      {
        "duration": 0,
        "start_time": "2022-10-17T08:59:24.142Z"
      },
      {
        "duration": 0,
        "start_time": "2022-10-17T08:59:24.143Z"
      },
      {
        "duration": 0,
        "start_time": "2022-10-17T08:59:24.145Z"
      },
      {
        "duration": 0,
        "start_time": "2022-10-17T08:59:24.146Z"
      },
      {
        "duration": 0,
        "start_time": "2022-10-17T08:59:24.147Z"
      },
      {
        "duration": 0,
        "start_time": "2022-10-17T08:59:24.149Z"
      },
      {
        "duration": 0,
        "start_time": "2022-10-17T08:59:24.150Z"
      },
      {
        "duration": 0,
        "start_time": "2022-10-17T08:59:24.209Z"
      },
      {
        "duration": 0,
        "start_time": "2022-10-17T08:59:24.210Z"
      },
      {
        "duration": 0,
        "start_time": "2022-10-17T08:59:24.211Z"
      },
      {
        "duration": 0,
        "start_time": "2022-10-17T08:59:24.212Z"
      },
      {
        "duration": 0,
        "start_time": "2022-10-17T08:59:24.213Z"
      },
      {
        "duration": 0,
        "start_time": "2022-10-17T08:59:24.214Z"
      },
      {
        "duration": 0,
        "start_time": "2022-10-17T08:59:24.215Z"
      },
      {
        "duration": 0,
        "start_time": "2022-10-17T08:59:24.216Z"
      },
      {
        "duration": 0,
        "start_time": "2022-10-17T08:59:24.217Z"
      },
      {
        "duration": 0,
        "start_time": "2022-10-17T08:59:24.218Z"
      },
      {
        "duration": 0,
        "start_time": "2022-10-17T08:59:24.219Z"
      },
      {
        "duration": 10,
        "start_time": "2022-10-17T09:00:02.008Z"
      },
      {
        "duration": 1421,
        "start_time": "2022-10-17T09:00:15.434Z"
      },
      {
        "duration": 32,
        "start_time": "2022-10-17T09:00:16.857Z"
      },
      {
        "duration": 39,
        "start_time": "2022-10-17T09:00:16.893Z"
      },
      {
        "duration": 63,
        "start_time": "2022-10-17T09:00:16.933Z"
      },
      {
        "duration": 46,
        "start_time": "2022-10-17T09:00:16.998Z"
      },
      {
        "duration": 41,
        "start_time": "2022-10-17T09:00:17.045Z"
      },
      {
        "duration": 54,
        "start_time": "2022-10-17T09:00:17.088Z"
      },
      {
        "duration": 62,
        "start_time": "2022-10-17T09:00:17.143Z"
      },
      {
        "duration": 56,
        "start_time": "2022-10-17T09:00:17.209Z"
      },
      {
        "duration": 34,
        "start_time": "2022-10-17T09:00:17.266Z"
      },
      {
        "duration": 47,
        "start_time": "2022-10-17T09:00:17.302Z"
      },
      {
        "duration": 39,
        "start_time": "2022-10-17T09:00:17.351Z"
      },
      {
        "duration": 43,
        "start_time": "2022-10-17T09:00:17.392Z"
      },
      {
        "duration": 51,
        "start_time": "2022-10-17T09:00:17.437Z"
      },
      {
        "duration": 36,
        "start_time": "2022-10-17T09:00:17.489Z"
      },
      {
        "duration": 50,
        "start_time": "2022-10-17T09:00:17.526Z"
      },
      {
        "duration": 60,
        "start_time": "2022-10-17T09:00:17.577Z"
      },
      {
        "duration": 40,
        "start_time": "2022-10-17T09:00:17.639Z"
      },
      {
        "duration": 28,
        "start_time": "2022-10-17T09:00:17.681Z"
      },
      {
        "duration": 60,
        "start_time": "2022-10-17T09:00:17.711Z"
      },
      {
        "duration": 15,
        "start_time": "2022-10-17T09:00:17.772Z"
      },
      {
        "duration": 29,
        "start_time": "2022-10-17T09:00:17.788Z"
      },
      {
        "duration": 32,
        "start_time": "2022-10-17T09:00:17.818Z"
      },
      {
        "duration": 27,
        "start_time": "2022-10-17T09:00:17.852Z"
      },
      {
        "duration": 25,
        "start_time": "2022-10-17T09:00:17.881Z"
      },
      {
        "duration": 28,
        "start_time": "2022-10-17T09:00:17.907Z"
      },
      {
        "duration": 36,
        "start_time": "2022-10-17T09:00:17.938Z"
      },
      {
        "duration": 37,
        "start_time": "2022-10-17T09:00:17.975Z"
      },
      {
        "duration": 73,
        "start_time": "2022-10-17T09:00:18.014Z"
      },
      {
        "duration": 19,
        "start_time": "2022-10-17T09:00:18.089Z"
      },
      {
        "duration": 45,
        "start_time": "2022-10-17T09:00:18.110Z"
      },
      {
        "duration": 49,
        "start_time": "2022-10-17T09:00:18.157Z"
      },
      {
        "duration": 75,
        "start_time": "2022-10-17T09:00:18.208Z"
      },
      {
        "duration": 42,
        "start_time": "2022-10-17T09:00:18.284Z"
      },
      {
        "duration": 46,
        "start_time": "2022-10-17T09:00:18.328Z"
      },
      {
        "duration": 60,
        "start_time": "2022-10-17T09:00:18.375Z"
      },
      {
        "duration": 43,
        "start_time": "2022-10-17T09:00:18.437Z"
      },
      {
        "duration": 91,
        "start_time": "2022-10-17T09:00:18.482Z"
      },
      {
        "duration": 143,
        "start_time": "2022-10-17T09:00:18.574Z"
      },
      {
        "duration": 7,
        "start_time": "2022-10-17T09:00:18.719Z"
      },
      {
        "duration": 168,
        "start_time": "2022-10-17T09:00:18.727Z"
      },
      {
        "duration": 0,
        "start_time": "2022-10-17T09:00:18.896Z"
      },
      {
        "duration": 0,
        "start_time": "2022-10-17T09:00:18.897Z"
      },
      {
        "duration": 0,
        "start_time": "2022-10-17T09:00:18.898Z"
      },
      {
        "duration": 0,
        "start_time": "2022-10-17T09:00:18.900Z"
      },
      {
        "duration": 0,
        "start_time": "2022-10-17T09:00:18.900Z"
      },
      {
        "duration": 4,
        "start_time": "2022-10-17T09:00:51.505Z"
      },
      {
        "duration": 4,
        "start_time": "2022-10-17T09:01:01.332Z"
      },
      {
        "duration": 29,
        "start_time": "2022-10-17T09:03:11.000Z"
      },
      {
        "duration": 14,
        "start_time": "2022-10-17T09:05:03.855Z"
      },
      {
        "duration": 7,
        "start_time": "2022-10-17T09:07:56.117Z"
      },
      {
        "duration": 7,
        "start_time": "2022-10-17T09:07:59.272Z"
      },
      {
        "duration": 27,
        "start_time": "2022-10-17T09:08:13.320Z"
      },
      {
        "duration": 4,
        "start_time": "2022-10-17T09:09:00.612Z"
      },
      {
        "duration": 34,
        "start_time": "2022-10-17T09:09:07.987Z"
      },
      {
        "duration": 1488,
        "start_time": "2022-10-17T09:21:44.602Z"
      },
      {
        "duration": 35,
        "start_time": "2022-10-17T09:21:46.092Z"
      },
      {
        "duration": 14,
        "start_time": "2022-10-17T09:21:46.128Z"
      },
      {
        "duration": 12,
        "start_time": "2022-10-17T09:21:46.144Z"
      },
      {
        "duration": 12,
        "start_time": "2022-10-17T09:21:46.158Z"
      },
      {
        "duration": 19,
        "start_time": "2022-10-17T09:21:46.172Z"
      },
      {
        "duration": 16,
        "start_time": "2022-10-17T09:21:46.193Z"
      },
      {
        "duration": 13,
        "start_time": "2022-10-17T09:21:46.211Z"
      },
      {
        "duration": 26,
        "start_time": "2022-10-17T09:21:46.225Z"
      },
      {
        "duration": 10,
        "start_time": "2022-10-17T09:21:46.253Z"
      },
      {
        "duration": 13,
        "start_time": "2022-10-17T09:21:46.265Z"
      },
      {
        "duration": 19,
        "start_time": "2022-10-17T09:21:46.279Z"
      },
      {
        "duration": 11,
        "start_time": "2022-10-17T09:21:46.300Z"
      },
      {
        "duration": 10,
        "start_time": "2022-10-17T09:21:46.314Z"
      },
      {
        "duration": 4,
        "start_time": "2022-10-17T09:21:46.326Z"
      },
      {
        "duration": 22,
        "start_time": "2022-10-17T09:21:46.331Z"
      },
      {
        "duration": 19,
        "start_time": "2022-10-17T09:21:46.355Z"
      },
      {
        "duration": 55,
        "start_time": "2022-10-17T09:21:46.376Z"
      },
      {
        "duration": 16,
        "start_time": "2022-10-17T09:21:46.433Z"
      },
      {
        "duration": 21,
        "start_time": "2022-10-17T09:21:46.451Z"
      },
      {
        "duration": 7,
        "start_time": "2022-10-17T09:21:46.474Z"
      },
      {
        "duration": 28,
        "start_time": "2022-10-17T09:21:46.482Z"
      },
      {
        "duration": 5,
        "start_time": "2022-10-17T09:21:46.511Z"
      },
      {
        "duration": 19,
        "start_time": "2022-10-17T09:21:46.517Z"
      },
      {
        "duration": 11,
        "start_time": "2022-10-17T09:21:46.538Z"
      },
      {
        "duration": 11,
        "start_time": "2022-10-17T09:21:46.551Z"
      },
      {
        "duration": 8,
        "start_time": "2022-10-17T09:21:46.564Z"
      },
      {
        "duration": 45,
        "start_time": "2022-10-17T09:21:46.574Z"
      },
      {
        "duration": 29,
        "start_time": "2022-10-17T09:21:46.621Z"
      },
      {
        "duration": 4,
        "start_time": "2022-10-17T09:21:46.654Z"
      },
      {
        "duration": 8,
        "start_time": "2022-10-17T09:21:46.660Z"
      },
      {
        "duration": 7,
        "start_time": "2022-10-17T09:21:46.669Z"
      },
      {
        "duration": 6,
        "start_time": "2022-10-17T09:21:46.678Z"
      },
      {
        "duration": 26,
        "start_time": "2022-10-17T09:21:46.686Z"
      },
      {
        "duration": 6,
        "start_time": "2022-10-17T09:21:46.713Z"
      },
      {
        "duration": 19,
        "start_time": "2022-10-17T09:21:46.721Z"
      },
      {
        "duration": 4,
        "start_time": "2022-10-17T09:21:46.741Z"
      },
      {
        "duration": 41,
        "start_time": "2022-10-17T09:21:46.746Z"
      },
      {
        "duration": 167,
        "start_time": "2022-10-17T09:21:46.789Z"
      },
      {
        "duration": 6,
        "start_time": "2022-10-17T09:21:46.959Z"
      },
      {
        "duration": 4,
        "start_time": "2022-10-17T09:21:46.969Z"
      },
      {
        "duration": 6,
        "start_time": "2022-10-17T09:21:46.974Z"
      },
      {
        "duration": 52,
        "start_time": "2022-10-17T09:21:46.982Z"
      },
      {
        "duration": 6,
        "start_time": "2022-10-17T09:21:47.035Z"
      },
      {
        "duration": 29,
        "start_time": "2022-10-17T09:21:47.042Z"
      },
      {
        "duration": 4,
        "start_time": "2022-10-17T09:21:47.073Z"
      },
      {
        "duration": 47,
        "start_time": "2022-10-17T09:21:47.079Z"
      },
      {
        "duration": 7,
        "start_time": "2022-10-17T09:21:47.128Z"
      },
      {
        "duration": 139,
        "start_time": "2022-10-17T09:21:47.136Z"
      },
      {
        "duration": 0,
        "start_time": "2022-10-17T09:21:47.276Z"
      },
      {
        "duration": 0,
        "start_time": "2022-10-17T09:21:47.278Z"
      },
      {
        "duration": 9,
        "start_time": "2022-10-17T09:22:13.834Z"
      },
      {
        "duration": 23,
        "start_time": "2022-10-17T09:22:32.652Z"
      },
      {
        "duration": 30,
        "start_time": "2022-10-17T09:23:24.174Z"
      },
      {
        "duration": 14,
        "start_time": "2022-10-17T09:23:43.827Z"
      },
      {
        "duration": 10,
        "start_time": "2022-10-17T09:24:10.503Z"
      },
      {
        "duration": 6,
        "start_time": "2022-10-17T09:24:26.159Z"
      },
      {
        "duration": 67,
        "start_time": "2022-10-17T09:24:53.158Z"
      },
      {
        "duration": 15,
        "start_time": "2022-10-17T09:25:09.107Z"
      },
      {
        "duration": 13,
        "start_time": "2022-10-17T09:25:28.807Z"
      },
      {
        "duration": 7,
        "start_time": "2022-10-17T09:25:51.613Z"
      },
      {
        "duration": 7,
        "start_time": "2022-10-17T09:43:50.904Z"
      },
      {
        "duration": 6,
        "start_time": "2022-10-17T09:43:53.849Z"
      },
      {
        "duration": 1395,
        "start_time": "2022-10-17T10:15:04.282Z"
      },
      {
        "duration": 38,
        "start_time": "2022-10-17T10:15:05.679Z"
      },
      {
        "duration": 16,
        "start_time": "2022-10-17T10:15:05.719Z"
      },
      {
        "duration": 12,
        "start_time": "2022-10-17T10:15:05.737Z"
      },
      {
        "duration": 6,
        "start_time": "2022-10-17T10:15:05.751Z"
      },
      {
        "duration": 17,
        "start_time": "2022-10-17T10:15:05.759Z"
      },
      {
        "duration": 8,
        "start_time": "2022-10-17T10:15:05.778Z"
      },
      {
        "duration": 35,
        "start_time": "2022-10-17T10:15:05.787Z"
      },
      {
        "duration": 17,
        "start_time": "2022-10-17T10:15:05.824Z"
      },
      {
        "duration": 10,
        "start_time": "2022-10-17T10:15:05.843Z"
      },
      {
        "duration": 13,
        "start_time": "2022-10-17T10:15:05.854Z"
      },
      {
        "duration": 15,
        "start_time": "2022-10-17T10:15:05.869Z"
      },
      {
        "duration": 8,
        "start_time": "2022-10-17T10:15:05.885Z"
      },
      {
        "duration": 21,
        "start_time": "2022-10-17T10:15:05.894Z"
      },
      {
        "duration": 3,
        "start_time": "2022-10-17T10:15:05.917Z"
      },
      {
        "duration": 35,
        "start_time": "2022-10-17T10:15:05.921Z"
      },
      {
        "duration": 18,
        "start_time": "2022-10-17T10:15:05.958Z"
      },
      {
        "duration": 45,
        "start_time": "2022-10-17T10:15:05.977Z"
      },
      {
        "duration": 17,
        "start_time": "2022-10-17T10:15:06.024Z"
      },
      {
        "duration": 22,
        "start_time": "2022-10-17T10:15:06.043Z"
      },
      {
        "duration": 20,
        "start_time": "2022-10-17T10:15:06.067Z"
      },
      {
        "duration": 20,
        "start_time": "2022-10-17T10:15:06.089Z"
      },
      {
        "duration": 6,
        "start_time": "2022-10-17T10:15:06.110Z"
      },
      {
        "duration": 28,
        "start_time": "2022-10-17T10:15:06.117Z"
      },
      {
        "duration": 10,
        "start_time": "2022-10-17T10:15:06.147Z"
      },
      {
        "duration": 5,
        "start_time": "2022-10-17T10:15:06.159Z"
      },
      {
        "duration": 6,
        "start_time": "2022-10-17T10:15:06.166Z"
      },
      {
        "duration": 46,
        "start_time": "2022-10-17T10:15:06.176Z"
      },
      {
        "duration": 23,
        "start_time": "2022-10-17T10:15:06.224Z"
      },
      {
        "duration": 4,
        "start_time": "2022-10-17T10:15:06.249Z"
      },
      {
        "duration": 9,
        "start_time": "2022-10-17T10:15:06.255Z"
      },
      {
        "duration": 7,
        "start_time": "2022-10-17T10:15:06.266Z"
      },
      {
        "duration": 10,
        "start_time": "2022-10-17T10:15:06.275Z"
      },
      {
        "duration": 5,
        "start_time": "2022-10-17T10:15:06.287Z"
      },
      {
        "duration": 15,
        "start_time": "2022-10-17T10:15:06.294Z"
      },
      {
        "duration": 31,
        "start_time": "2022-10-17T10:15:06.311Z"
      },
      {
        "duration": 4,
        "start_time": "2022-10-17T10:15:06.343Z"
      },
      {
        "duration": 27,
        "start_time": "2022-10-17T10:15:06.349Z"
      },
      {
        "duration": 146,
        "start_time": "2022-10-17T10:15:06.378Z"
      },
      {
        "duration": 7,
        "start_time": "2022-10-17T10:15:06.526Z"
      },
      {
        "duration": 4,
        "start_time": "2022-10-17T10:15:06.534Z"
      },
      {
        "duration": 6,
        "start_time": "2022-10-17T10:15:06.539Z"
      },
      {
        "duration": 29,
        "start_time": "2022-10-17T10:15:06.547Z"
      },
      {
        "duration": 5,
        "start_time": "2022-10-17T10:15:06.578Z"
      },
      {
        "duration": 50,
        "start_time": "2022-10-17T10:15:06.584Z"
      },
      {
        "duration": 4,
        "start_time": "2022-10-17T10:15:06.636Z"
      },
      {
        "duration": 34,
        "start_time": "2022-10-17T10:15:06.641Z"
      },
      {
        "duration": 4,
        "start_time": "2022-10-17T10:15:06.676Z"
      },
      {
        "duration": 39,
        "start_time": "2022-10-17T10:15:06.681Z"
      },
      {
        "duration": 16,
        "start_time": "2022-10-17T10:15:06.722Z"
      },
      {
        "duration": 6,
        "start_time": "2022-10-17T10:15:06.740Z"
      },
      {
        "duration": 9,
        "start_time": "2022-10-17T10:15:06.747Z"
      },
      {
        "duration": 6,
        "start_time": "2022-10-17T10:15:06.758Z"
      },
      {
        "duration": 169,
        "start_time": "2022-10-17T10:15:06.765Z"
      },
      {
        "duration": 0,
        "start_time": "2022-10-17T10:15:06.936Z"
      },
      {
        "duration": 0,
        "start_time": "2022-10-17T10:15:06.938Z"
      },
      {
        "duration": 7,
        "start_time": "2022-10-17T10:16:05.130Z"
      },
      {
        "duration": 1374,
        "start_time": "2022-10-17T10:17:40.736Z"
      },
      {
        "duration": 38,
        "start_time": "2022-10-17T10:17:42.112Z"
      },
      {
        "duration": 14,
        "start_time": "2022-10-17T10:17:42.152Z"
      },
      {
        "duration": 13,
        "start_time": "2022-10-17T10:17:42.168Z"
      },
      {
        "duration": 9,
        "start_time": "2022-10-17T10:17:42.182Z"
      },
      {
        "duration": 7,
        "start_time": "2022-10-17T10:17:42.193Z"
      },
      {
        "duration": 32,
        "start_time": "2022-10-17T10:17:42.202Z"
      },
      {
        "duration": 9,
        "start_time": "2022-10-17T10:17:42.235Z"
      },
      {
        "duration": 23,
        "start_time": "2022-10-17T10:17:42.246Z"
      },
      {
        "duration": 19,
        "start_time": "2022-10-17T10:17:42.272Z"
      },
      {
        "duration": 10,
        "start_time": "2022-10-17T10:17:42.293Z"
      },
      {
        "duration": 19,
        "start_time": "2022-10-17T10:17:42.304Z"
      },
      {
        "duration": 18,
        "start_time": "2022-10-17T10:17:42.325Z"
      },
      {
        "duration": 7,
        "start_time": "2022-10-17T10:17:42.345Z"
      },
      {
        "duration": 12,
        "start_time": "2022-10-17T10:17:42.354Z"
      },
      {
        "duration": 3,
        "start_time": "2022-10-17T10:17:42.368Z"
      },
      {
        "duration": 26,
        "start_time": "2022-10-17T10:17:42.372Z"
      },
      {
        "duration": 32,
        "start_time": "2022-10-17T10:17:42.400Z"
      },
      {
        "duration": 23,
        "start_time": "2022-10-17T10:17:42.433Z"
      },
      {
        "duration": 17,
        "start_time": "2022-10-17T10:17:42.458Z"
      },
      {
        "duration": 49,
        "start_time": "2022-10-17T10:17:42.477Z"
      },
      {
        "duration": 20,
        "start_time": "2022-10-17T10:17:42.528Z"
      },
      {
        "duration": 15,
        "start_time": "2022-10-17T10:17:42.549Z"
      },
      {
        "duration": 11,
        "start_time": "2022-10-17T10:17:42.566Z"
      },
      {
        "duration": 24,
        "start_time": "2022-10-17T10:17:42.579Z"
      },
      {
        "duration": 37,
        "start_time": "2022-10-17T10:17:42.605Z"
      },
      {
        "duration": 14,
        "start_time": "2022-10-17T10:17:42.644Z"
      },
      {
        "duration": 14,
        "start_time": "2022-10-17T10:17:42.663Z"
      },
      {
        "duration": 18,
        "start_time": "2022-10-17T10:17:42.678Z"
      },
      {
        "duration": 21,
        "start_time": "2022-10-17T10:17:42.699Z"
      },
      {
        "duration": 12,
        "start_time": "2022-10-17T10:17:42.722Z"
      },
      {
        "duration": 14,
        "start_time": "2022-10-17T10:17:42.736Z"
      },
      {
        "duration": 11,
        "start_time": "2022-10-17T10:17:42.752Z"
      },
      {
        "duration": 12,
        "start_time": "2022-10-17T10:17:42.765Z"
      },
      {
        "duration": 1451,
        "start_time": "2022-10-17T10:17:42.778Z"
      },
      {
        "duration": 0,
        "start_time": "2022-10-17T10:17:44.231Z"
      },
      {
        "duration": 0,
        "start_time": "2022-10-17T10:17:44.232Z"
      },
      {
        "duration": 0,
        "start_time": "2022-10-17T10:17:44.233Z"
      },
      {
        "duration": 0,
        "start_time": "2022-10-17T10:17:44.234Z"
      },
      {
        "duration": 0,
        "start_time": "2022-10-17T10:17:44.235Z"
      },
      {
        "duration": 0,
        "start_time": "2022-10-17T10:17:44.236Z"
      },
      {
        "duration": 0,
        "start_time": "2022-10-17T10:17:44.237Z"
      },
      {
        "duration": 0,
        "start_time": "2022-10-17T10:17:44.237Z"
      },
      {
        "duration": 0,
        "start_time": "2022-10-17T10:17:44.238Z"
      },
      {
        "duration": 0,
        "start_time": "2022-10-17T10:17:44.239Z"
      },
      {
        "duration": 0,
        "start_time": "2022-10-17T10:17:44.240Z"
      },
      {
        "duration": 0,
        "start_time": "2022-10-17T10:17:44.241Z"
      },
      {
        "duration": 0,
        "start_time": "2022-10-17T10:17:44.242Z"
      },
      {
        "duration": 0,
        "start_time": "2022-10-17T10:17:44.242Z"
      },
      {
        "duration": 0,
        "start_time": "2022-10-17T10:17:44.243Z"
      },
      {
        "duration": 0,
        "start_time": "2022-10-17T10:17:44.244Z"
      },
      {
        "duration": 0,
        "start_time": "2022-10-17T10:17:44.245Z"
      },
      {
        "duration": 0,
        "start_time": "2022-10-17T10:17:44.245Z"
      },
      {
        "duration": 0,
        "start_time": "2022-10-17T10:17:44.246Z"
      },
      {
        "duration": 0,
        "start_time": "2022-10-17T10:17:44.247Z"
      },
      {
        "duration": 0,
        "start_time": "2022-10-17T10:17:44.248Z"
      },
      {
        "duration": 0,
        "start_time": "2022-10-17T10:17:44.249Z"
      },
      {
        "duration": 1491,
        "start_time": "2022-10-17T10:29:05.199Z"
      },
      {
        "duration": 33,
        "start_time": "2022-10-17T10:29:06.692Z"
      },
      {
        "duration": 15,
        "start_time": "2022-10-17T10:29:06.726Z"
      },
      {
        "duration": 11,
        "start_time": "2022-10-17T10:29:06.743Z"
      },
      {
        "duration": 6,
        "start_time": "2022-10-17T10:29:06.757Z"
      },
      {
        "duration": 6,
        "start_time": "2022-10-17T10:29:06.764Z"
      },
      {
        "duration": 16,
        "start_time": "2022-10-17T10:29:06.772Z"
      },
      {
        "duration": 9,
        "start_time": "2022-10-17T10:29:06.808Z"
      },
      {
        "duration": 12,
        "start_time": "2022-10-17T10:29:06.820Z"
      },
      {
        "duration": 24,
        "start_time": "2022-10-17T10:29:06.834Z"
      },
      {
        "duration": 10,
        "start_time": "2022-10-17T10:29:06.859Z"
      },
      {
        "duration": 15,
        "start_time": "2022-10-17T10:29:06.871Z"
      },
      {
        "duration": 23,
        "start_time": "2022-10-17T10:29:06.887Z"
      },
      {
        "duration": 7,
        "start_time": "2022-10-17T10:29:06.912Z"
      },
      {
        "duration": 10,
        "start_time": "2022-10-17T10:29:06.920Z"
      },
      {
        "duration": 3,
        "start_time": "2022-10-17T10:29:06.932Z"
      },
      {
        "duration": 22,
        "start_time": "2022-10-17T10:29:06.936Z"
      },
      {
        "duration": 18,
        "start_time": "2022-10-17T10:29:06.960Z"
      },
      {
        "duration": 52,
        "start_time": "2022-10-17T10:29:06.979Z"
      },
      {
        "duration": 16,
        "start_time": "2022-10-17T10:29:07.033Z"
      },
      {
        "duration": 21,
        "start_time": "2022-10-17T10:29:07.051Z"
      },
      {
        "duration": 5,
        "start_time": "2022-10-17T10:29:07.075Z"
      },
      {
        "duration": 5,
        "start_time": "2022-10-17T10:29:07.109Z"
      },
      {
        "duration": 7,
        "start_time": "2022-10-17T10:29:07.115Z"
      },
      {
        "duration": 17,
        "start_time": "2022-10-17T10:29:07.124Z"
      },
      {
        "duration": 8,
        "start_time": "2022-10-17T10:29:07.143Z"
      },
      {
        "duration": 5,
        "start_time": "2022-10-17T10:29:07.153Z"
      },
      {
        "duration": 6,
        "start_time": "2022-10-17T10:29:07.160Z"
      },
      {
        "duration": 11,
        "start_time": "2022-10-17T10:29:07.167Z"
      },
      {
        "duration": 34,
        "start_time": "2022-10-17T10:29:07.179Z"
      },
      {
        "duration": 8,
        "start_time": "2022-10-17T10:29:07.214Z"
      },
      {
        "duration": 8,
        "start_time": "2022-10-17T10:29:07.223Z"
      },
      {
        "duration": 8,
        "start_time": "2022-10-17T10:29:07.232Z"
      },
      {
        "duration": 6,
        "start_time": "2022-10-17T10:29:07.241Z"
      },
      {
        "duration": 8,
        "start_time": "2022-10-17T10:29:07.248Z"
      },
      {
        "duration": 1489,
        "start_time": "2022-10-17T10:29:07.257Z"
      },
      {
        "duration": 0,
        "start_time": "2022-10-17T10:29:08.748Z"
      },
      {
        "duration": 0,
        "start_time": "2022-10-17T10:29:08.750Z"
      },
      {
        "duration": 0,
        "start_time": "2022-10-17T10:29:08.751Z"
      },
      {
        "duration": 0,
        "start_time": "2022-10-17T10:29:08.752Z"
      },
      {
        "duration": 0,
        "start_time": "2022-10-17T10:29:08.753Z"
      },
      {
        "duration": 0,
        "start_time": "2022-10-17T10:29:08.754Z"
      },
      {
        "duration": 0,
        "start_time": "2022-10-17T10:29:08.755Z"
      },
      {
        "duration": 0,
        "start_time": "2022-10-17T10:29:08.756Z"
      },
      {
        "duration": 0,
        "start_time": "2022-10-17T10:29:08.757Z"
      },
      {
        "duration": 0,
        "start_time": "2022-10-17T10:29:08.758Z"
      },
      {
        "duration": 0,
        "start_time": "2022-10-17T10:29:08.759Z"
      },
      {
        "duration": 0,
        "start_time": "2022-10-17T10:29:08.760Z"
      },
      {
        "duration": 0,
        "start_time": "2022-10-17T10:29:08.761Z"
      },
      {
        "duration": 0,
        "start_time": "2022-10-17T10:29:08.762Z"
      },
      {
        "duration": 0,
        "start_time": "2022-10-17T10:29:08.762Z"
      },
      {
        "duration": 0,
        "start_time": "2022-10-17T10:29:08.763Z"
      },
      {
        "duration": 0,
        "start_time": "2022-10-17T10:29:08.764Z"
      },
      {
        "duration": 0,
        "start_time": "2022-10-17T10:29:08.765Z"
      },
      {
        "duration": 0,
        "start_time": "2022-10-17T10:29:08.766Z"
      },
      {
        "duration": 0,
        "start_time": "2022-10-17T10:29:08.767Z"
      },
      {
        "duration": 0,
        "start_time": "2022-10-17T10:29:08.768Z"
      },
      {
        "duration": 0,
        "start_time": "2022-10-17T10:29:08.769Z"
      },
      {
        "duration": 34,
        "start_time": "2022-10-17T10:31:52.700Z"
      },
      {
        "duration": 5,
        "start_time": "2022-10-17T10:31:54.850Z"
      },
      {
        "duration": 13,
        "start_time": "2022-10-17T10:31:55.675Z"
      },
      {
        "duration": 5,
        "start_time": "2022-10-17T10:31:56.867Z"
      },
      {
        "duration": 17,
        "start_time": "2022-10-17T10:31:58.297Z"
      },
      {
        "duration": 6,
        "start_time": "2022-10-17T10:31:59.153Z"
      },
      {
        "duration": 21,
        "start_time": "2022-10-17T10:31:59.713Z"
      },
      {
        "duration": 132,
        "start_time": "2022-10-17T10:32:00.448Z"
      },
      {
        "duration": 12,
        "start_time": "2022-10-17T10:32:13.819Z"
      },
      {
        "duration": 7,
        "start_time": "2022-10-17T10:32:15.186Z"
      },
      {
        "duration": 4,
        "start_time": "2022-10-17T10:32:16.049Z"
      },
      {
        "duration": 4,
        "start_time": "2022-10-17T10:32:17.272Z"
      },
      {
        "duration": 28,
        "start_time": "2022-10-17T10:32:18.195Z"
      },
      {
        "duration": 6,
        "start_time": "2022-10-17T10:32:24.210Z"
      },
      {
        "duration": 9,
        "start_time": "2022-10-17T10:32:25.344Z"
      },
      {
        "duration": 4,
        "start_time": "2022-10-17T10:32:43.622Z"
      },
      {
        "duration": 20,
        "start_time": "2022-10-17T10:32:44.700Z"
      },
      {
        "duration": 14,
        "start_time": "2022-10-17T10:34:13.276Z"
      },
      {
        "duration": 1378,
        "start_time": "2022-10-17T10:34:25.195Z"
      },
      {
        "duration": 32,
        "start_time": "2022-10-17T10:34:26.575Z"
      },
      {
        "duration": 15,
        "start_time": "2022-10-17T10:34:26.610Z"
      },
      {
        "duration": 16,
        "start_time": "2022-10-17T10:34:26.626Z"
      },
      {
        "duration": 11,
        "start_time": "2022-10-17T10:34:26.643Z"
      },
      {
        "duration": 7,
        "start_time": "2022-10-17T10:34:26.655Z"
      },
      {
        "duration": 20,
        "start_time": "2022-10-17T10:34:26.664Z"
      },
      {
        "duration": 9,
        "start_time": "2022-10-17T10:34:26.686Z"
      },
      {
        "duration": 10,
        "start_time": "2022-10-17T10:34:26.708Z"
      },
      {
        "duration": 25,
        "start_time": "2022-10-17T10:34:26.720Z"
      },
      {
        "duration": 10,
        "start_time": "2022-10-17T10:34:26.748Z"
      },
      {
        "duration": 24,
        "start_time": "2022-10-17T10:34:26.759Z"
      },
      {
        "duration": 19,
        "start_time": "2022-10-17T10:34:26.784Z"
      },
      {
        "duration": 13,
        "start_time": "2022-10-17T10:34:26.805Z"
      },
      {
        "duration": 17,
        "start_time": "2022-10-17T10:34:26.820Z"
      },
      {
        "duration": 8,
        "start_time": "2022-10-17T10:34:26.839Z"
      },
      {
        "duration": 36,
        "start_time": "2022-10-17T10:34:26.848Z"
      },
      {
        "duration": 19,
        "start_time": "2022-10-17T10:34:26.886Z"
      },
      {
        "duration": 25,
        "start_time": "2022-10-17T10:34:26.907Z"
      },
      {
        "duration": 14,
        "start_time": "2022-10-17T10:34:26.934Z"
      },
      {
        "duration": 22,
        "start_time": "2022-10-17T10:34:26.949Z"
      },
      {
        "duration": 4,
        "start_time": "2022-10-17T10:34:26.972Z"
      },
      {
        "duration": 8,
        "start_time": "2022-10-17T10:34:26.977Z"
      },
      {
        "duration": 24,
        "start_time": "2022-10-17T10:34:26.987Z"
      },
      {
        "duration": 37,
        "start_time": "2022-10-17T10:34:27.012Z"
      },
      {
        "duration": 13,
        "start_time": "2022-10-17T10:34:27.051Z"
      },
      {
        "duration": 9,
        "start_time": "2022-10-17T10:34:27.068Z"
      },
      {
        "duration": 11,
        "start_time": "2022-10-17T10:34:27.079Z"
      },
      {
        "duration": 23,
        "start_time": "2022-10-17T10:34:27.091Z"
      },
      {
        "duration": 5,
        "start_time": "2022-10-17T10:34:27.116Z"
      },
      {
        "duration": 17,
        "start_time": "2022-10-17T10:34:27.122Z"
      },
      {
        "duration": 14,
        "start_time": "2022-10-17T10:34:27.140Z"
      },
      {
        "duration": 10,
        "start_time": "2022-10-17T10:34:27.155Z"
      },
      {
        "duration": 20,
        "start_time": "2022-10-17T10:34:27.167Z"
      },
      {
        "duration": 6,
        "start_time": "2022-10-17T10:34:27.189Z"
      },
      {
        "duration": 16,
        "start_time": "2022-10-17T10:34:27.196Z"
      },
      {
        "duration": 14,
        "start_time": "2022-10-17T10:34:27.214Z"
      },
      {
        "duration": 27,
        "start_time": "2022-10-17T10:34:27.230Z"
      },
      {
        "duration": 5,
        "start_time": "2022-10-17T10:34:27.258Z"
      },
      {
        "duration": 23,
        "start_time": "2022-10-17T10:34:27.264Z"
      },
      {
        "duration": 129,
        "start_time": "2022-10-17T10:34:27.289Z"
      },
      {
        "duration": 12,
        "start_time": "2022-10-17T10:34:27.420Z"
      },
      {
        "duration": 8,
        "start_time": "2022-10-17T10:34:27.433Z"
      },
      {
        "duration": 13,
        "start_time": "2022-10-17T10:34:27.442Z"
      },
      {
        "duration": 10,
        "start_time": "2022-10-17T10:34:27.457Z"
      },
      {
        "duration": 43,
        "start_time": "2022-10-17T10:34:27.469Z"
      },
      {
        "duration": 7,
        "start_time": "2022-10-17T10:34:27.514Z"
      },
      {
        "duration": 20,
        "start_time": "2022-10-17T10:34:27.522Z"
      },
      {
        "duration": 9,
        "start_time": "2022-10-17T10:34:27.544Z"
      },
      {
        "duration": 27,
        "start_time": "2022-10-17T10:34:27.554Z"
      },
      {
        "duration": 6,
        "start_time": "2022-10-17T10:34:27.583Z"
      },
      {
        "duration": 24,
        "start_time": "2022-10-17T10:34:27.590Z"
      },
      {
        "duration": 22,
        "start_time": "2022-10-17T10:34:27.616Z"
      },
      {
        "duration": 6,
        "start_time": "2022-10-17T10:34:27.640Z"
      },
      {
        "duration": 10,
        "start_time": "2022-10-17T10:34:27.648Z"
      },
      {
        "duration": 13,
        "start_time": "2022-10-17T10:34:27.659Z"
      },
      {
        "duration": 137,
        "start_time": "2022-10-17T10:34:27.674Z"
      },
      {
        "duration": 0,
        "start_time": "2022-10-17T10:34:27.813Z"
      },
      {
        "duration": 0,
        "start_time": "2022-10-17T10:34:27.814Z"
      },
      {
        "duration": 11,
        "start_time": "2022-10-17T10:34:58.452Z"
      },
      {
        "duration": 1351,
        "start_time": "2022-10-17T10:35:05.330Z"
      },
      {
        "duration": 31,
        "start_time": "2022-10-17T10:35:06.683Z"
      },
      {
        "duration": 15,
        "start_time": "2022-10-17T10:35:06.716Z"
      },
      {
        "duration": 13,
        "start_time": "2022-10-17T10:35:06.733Z"
      },
      {
        "duration": 11,
        "start_time": "2022-10-17T10:35:06.749Z"
      },
      {
        "duration": 12,
        "start_time": "2022-10-17T10:35:06.761Z"
      },
      {
        "duration": 19,
        "start_time": "2022-10-17T10:35:06.774Z"
      },
      {
        "duration": 15,
        "start_time": "2022-10-17T10:35:06.794Z"
      },
      {
        "duration": 10,
        "start_time": "2022-10-17T10:35:06.811Z"
      },
      {
        "duration": 18,
        "start_time": "2022-10-17T10:35:06.823Z"
      },
      {
        "duration": 10,
        "start_time": "2022-10-17T10:35:06.843Z"
      },
      {
        "duration": 20,
        "start_time": "2022-10-17T10:35:06.855Z"
      },
      {
        "duration": 17,
        "start_time": "2022-10-17T10:35:06.877Z"
      },
      {
        "duration": 16,
        "start_time": "2022-10-17T10:35:06.897Z"
      },
      {
        "duration": 21,
        "start_time": "2022-10-17T10:35:06.914Z"
      },
      {
        "duration": 7,
        "start_time": "2022-10-17T10:35:06.936Z"
      },
      {
        "duration": 35,
        "start_time": "2022-10-17T10:35:06.944Z"
      },
      {
        "duration": 18,
        "start_time": "2022-10-17T10:35:06.980Z"
      },
      {
        "duration": 23,
        "start_time": "2022-10-17T10:35:07.000Z"
      },
      {
        "duration": 15,
        "start_time": "2022-10-17T10:35:07.024Z"
      },
      {
        "duration": 21,
        "start_time": "2022-10-17T10:35:07.041Z"
      },
      {
        "duration": 10,
        "start_time": "2022-10-17T10:35:07.064Z"
      },
      {
        "duration": 9,
        "start_time": "2022-10-17T10:35:07.075Z"
      },
      {
        "duration": 26,
        "start_time": "2022-10-17T10:35:07.085Z"
      },
      {
        "duration": 19,
        "start_time": "2022-10-17T10:35:07.113Z"
      },
      {
        "duration": 10,
        "start_time": "2022-10-17T10:35:07.133Z"
      },
      {
        "duration": 9,
        "start_time": "2022-10-17T10:35:07.144Z"
      },
      {
        "duration": 11,
        "start_time": "2022-10-17T10:35:07.154Z"
      },
      {
        "duration": 12,
        "start_time": "2022-10-17T10:35:07.167Z"
      },
      {
        "duration": 10,
        "start_time": "2022-10-17T10:35:07.181Z"
      },
      {
        "duration": 18,
        "start_time": "2022-10-17T10:35:07.193Z"
      },
      {
        "duration": 6,
        "start_time": "2022-10-17T10:35:07.213Z"
      },
      {
        "duration": 10,
        "start_time": "2022-10-17T10:35:07.220Z"
      },
      {
        "duration": 16,
        "start_time": "2022-10-17T10:35:07.231Z"
      },
      {
        "duration": 5,
        "start_time": "2022-10-17T10:35:07.249Z"
      },
      {
        "duration": 9,
        "start_time": "2022-10-17T10:35:07.256Z"
      },
      {
        "duration": 22,
        "start_time": "2022-10-17T10:35:07.266Z"
      },
      {
        "duration": 23,
        "start_time": "2022-10-17T10:35:07.290Z"
      },
      {
        "duration": 4,
        "start_time": "2022-10-17T10:35:07.315Z"
      },
      {
        "duration": 39,
        "start_time": "2022-10-17T10:35:07.321Z"
      },
      {
        "duration": 130,
        "start_time": "2022-10-17T10:35:07.364Z"
      },
      {
        "duration": 25,
        "start_time": "2022-10-17T10:35:07.496Z"
      },
      {
        "duration": 6,
        "start_time": "2022-10-17T10:35:07.523Z"
      },
      {
        "duration": 10,
        "start_time": "2022-10-17T10:35:07.530Z"
      },
      {
        "duration": 14,
        "start_time": "2022-10-17T10:35:07.542Z"
      },
      {
        "duration": 34,
        "start_time": "2022-10-17T10:35:07.557Z"
      },
      {
        "duration": 17,
        "start_time": "2022-10-17T10:35:07.592Z"
      },
      {
        "duration": 26,
        "start_time": "2022-10-17T10:35:07.610Z"
      },
      {
        "duration": 4,
        "start_time": "2022-10-17T10:35:07.637Z"
      },
      {
        "duration": 26,
        "start_time": "2022-10-17T10:35:07.643Z"
      },
      {
        "duration": 16,
        "start_time": "2022-10-17T10:35:07.671Z"
      },
      {
        "duration": 22,
        "start_time": "2022-10-17T10:35:07.689Z"
      },
      {
        "duration": 23,
        "start_time": "2022-10-17T10:35:07.712Z"
      },
      {
        "duration": 8,
        "start_time": "2022-10-17T10:35:07.737Z"
      },
      {
        "duration": 25,
        "start_time": "2022-10-17T10:35:07.747Z"
      },
      {
        "duration": 10,
        "start_time": "2022-10-17T10:35:07.774Z"
      },
      {
        "duration": 132,
        "start_time": "2022-10-17T10:35:07.785Z"
      },
      {
        "duration": 0,
        "start_time": "2022-10-17T10:35:07.919Z"
      },
      {
        "duration": 0,
        "start_time": "2022-10-17T10:35:07.920Z"
      },
      {
        "duration": 4,
        "start_time": "2022-10-17T10:42:10.937Z"
      },
      {
        "duration": 6,
        "start_time": "2022-10-17T10:42:27.429Z"
      },
      {
        "duration": 1327,
        "start_time": "2022-10-17T10:42:37.469Z"
      },
      {
        "duration": 32,
        "start_time": "2022-10-17T10:42:38.798Z"
      },
      {
        "duration": 16,
        "start_time": "2022-10-17T10:42:38.832Z"
      },
      {
        "duration": 12,
        "start_time": "2022-10-17T10:42:38.850Z"
      },
      {
        "duration": 27,
        "start_time": "2022-10-17T10:42:38.864Z"
      },
      {
        "duration": 7,
        "start_time": "2022-10-17T10:42:38.893Z"
      },
      {
        "duration": 17,
        "start_time": "2022-10-17T10:42:38.901Z"
      },
      {
        "duration": 9,
        "start_time": "2022-10-17T10:42:38.920Z"
      },
      {
        "duration": 14,
        "start_time": "2022-10-17T10:42:38.930Z"
      },
      {
        "duration": 16,
        "start_time": "2022-10-17T10:42:38.947Z"
      },
      {
        "duration": 11,
        "start_time": "2022-10-17T10:42:38.964Z"
      },
      {
        "duration": 12,
        "start_time": "2022-10-17T10:42:38.976Z"
      },
      {
        "duration": 24,
        "start_time": "2022-10-17T10:42:38.990Z"
      },
      {
        "duration": 8,
        "start_time": "2022-10-17T10:42:39.016Z"
      },
      {
        "duration": 11,
        "start_time": "2022-10-17T10:42:39.026Z"
      },
      {
        "duration": 4,
        "start_time": "2022-10-17T10:42:39.038Z"
      },
      {
        "duration": 34,
        "start_time": "2022-10-17T10:42:39.043Z"
      },
      {
        "duration": 32,
        "start_time": "2022-10-17T10:42:39.078Z"
      },
      {
        "duration": 24,
        "start_time": "2022-10-17T10:42:39.112Z"
      },
      {
        "duration": 15,
        "start_time": "2022-10-17T10:42:39.138Z"
      },
      {
        "duration": 20,
        "start_time": "2022-10-17T10:42:39.155Z"
      },
      {
        "duration": 34,
        "start_time": "2022-10-17T10:42:39.177Z"
      },
      {
        "duration": 18,
        "start_time": "2022-10-17T10:42:39.212Z"
      },
      {
        "duration": 6,
        "start_time": "2022-10-17T10:42:39.231Z"
      },
      {
        "duration": 20,
        "start_time": "2022-10-17T10:42:39.238Z"
      },
      {
        "duration": 9,
        "start_time": "2022-10-17T10:42:39.260Z"
      },
      {
        "duration": 6,
        "start_time": "2022-10-17T10:42:39.270Z"
      },
      {
        "duration": 5,
        "start_time": "2022-10-17T10:42:39.280Z"
      },
      {
        "duration": 27,
        "start_time": "2022-10-17T10:42:39.286Z"
      },
      {
        "duration": 4,
        "start_time": "2022-10-17T10:42:39.315Z"
      },
      {
        "duration": 11,
        "start_time": "2022-10-17T10:42:39.320Z"
      },
      {
        "duration": 5,
        "start_time": "2022-10-17T10:42:39.332Z"
      },
      {
        "duration": 7,
        "start_time": "2022-10-17T10:42:39.338Z"
      },
      {
        "duration": 5,
        "start_time": "2022-10-17T10:42:39.346Z"
      },
      {
        "duration": 6,
        "start_time": "2022-10-17T10:42:39.352Z"
      },
      {
        "duration": 6,
        "start_time": "2022-10-17T10:42:39.359Z"
      },
      {
        "duration": 6,
        "start_time": "2022-10-17T10:42:39.366Z"
      },
      {
        "duration": 44,
        "start_time": "2022-10-17T10:42:39.373Z"
      },
      {
        "duration": 4,
        "start_time": "2022-10-17T10:42:39.419Z"
      },
      {
        "duration": 23,
        "start_time": "2022-10-17T10:42:39.425Z"
      },
      {
        "duration": 160,
        "start_time": "2022-10-17T10:42:39.450Z"
      },
      {
        "duration": 21,
        "start_time": "2022-10-17T10:42:39.612Z"
      },
      {
        "duration": 8,
        "start_time": "2022-10-17T10:42:39.634Z"
      },
      {
        "duration": 4,
        "start_time": "2022-10-17T10:42:39.644Z"
      },
      {
        "duration": 7,
        "start_time": "2022-10-17T10:42:39.649Z"
      },
      {
        "duration": 54,
        "start_time": "2022-10-17T10:42:39.658Z"
      },
      {
        "duration": 6,
        "start_time": "2022-10-17T10:42:39.714Z"
      },
      {
        "duration": 26,
        "start_time": "2022-10-17T10:42:39.721Z"
      },
      {
        "duration": 5,
        "start_time": "2022-10-17T10:42:39.749Z"
      },
      {
        "duration": 26,
        "start_time": "2022-10-17T10:42:39.756Z"
      },
      {
        "duration": 3,
        "start_time": "2022-10-17T10:42:39.809Z"
      },
      {
        "duration": 23,
        "start_time": "2022-10-17T10:42:39.814Z"
      },
      {
        "duration": 13,
        "start_time": "2022-10-17T10:42:39.839Z"
      },
      {
        "duration": 6,
        "start_time": "2022-10-17T10:42:39.854Z"
      },
      {
        "duration": 5,
        "start_time": "2022-10-17T10:42:39.861Z"
      },
      {
        "duration": 9,
        "start_time": "2022-10-17T10:42:39.867Z"
      },
      {
        "duration": 32,
        "start_time": "2022-10-17T10:42:39.878Z"
      },
      {
        "duration": 13,
        "start_time": "2022-10-17T10:42:39.912Z"
      },
      {
        "duration": 130,
        "start_time": "2022-10-17T10:42:39.926Z"
      },
      {
        "duration": 0,
        "start_time": "2022-10-17T10:42:40.058Z"
      },
      {
        "duration": 0,
        "start_time": "2022-10-17T10:42:40.059Z"
      },
      {
        "duration": 3,
        "start_time": "2022-10-17T10:43:33.560Z"
      },
      {
        "duration": 4,
        "start_time": "2022-10-17T10:43:34.414Z"
      },
      {
        "duration": 4,
        "start_time": "2022-10-17T10:43:34.953Z"
      },
      {
        "duration": 4,
        "start_time": "2022-10-17T10:43:35.499Z"
      },
      {
        "duration": 922,
        "start_time": "2022-10-17T10:43:36.109Z"
      },
      {
        "duration": 5,
        "start_time": "2022-10-17T10:43:43.634Z"
      },
      {
        "duration": 22,
        "start_time": "2022-10-17T10:43:44.707Z"
      },
      {
        "duration": 15,
        "start_time": "2022-10-17T10:43:45.891Z"
      },
      {
        "duration": 27,
        "start_time": "2022-10-17T10:43:50.697Z"
      },
      {
        "duration": 3,
        "start_time": "2022-10-17T10:43:51.611Z"
      },
      {
        "duration": 16,
        "start_time": "2022-10-17T10:43:52.981Z"
      },
      {
        "duration": 12,
        "start_time": "2022-10-17T10:43:55.396Z"
      },
      {
        "duration": 6,
        "start_time": "2022-10-17T10:43:56.172Z"
      },
      {
        "duration": 3,
        "start_time": "2022-10-17T10:43:57.417Z"
      },
      {
        "duration": 1357,
        "start_time": "2022-10-17T10:44:04.517Z"
      },
      {
        "duration": 32,
        "start_time": "2022-10-17T10:44:05.876Z"
      },
      {
        "duration": 15,
        "start_time": "2022-10-17T10:44:05.910Z"
      },
      {
        "duration": 11,
        "start_time": "2022-10-17T10:44:05.926Z"
      },
      {
        "duration": 7,
        "start_time": "2022-10-17T10:44:05.940Z"
      },
      {
        "duration": 8,
        "start_time": "2022-10-17T10:44:05.949Z"
      },
      {
        "duration": 17,
        "start_time": "2022-10-17T10:44:05.958Z"
      },
      {
        "duration": 8,
        "start_time": "2022-10-17T10:44:05.977Z"
      },
      {
        "duration": 31,
        "start_time": "2022-10-17T10:44:05.986Z"
      },
      {
        "duration": 15,
        "start_time": "2022-10-17T10:44:06.019Z"
      },
      {
        "duration": 11,
        "start_time": "2022-10-17T10:44:06.036Z"
      },
      {
        "duration": 17,
        "start_time": "2022-10-17T10:44:06.048Z"
      },
      {
        "duration": 13,
        "start_time": "2022-10-17T10:44:06.067Z"
      },
      {
        "duration": 8,
        "start_time": "2022-10-17T10:44:06.082Z"
      },
      {
        "duration": 26,
        "start_time": "2022-10-17T10:44:06.091Z"
      },
      {
        "duration": 5,
        "start_time": "2022-10-17T10:44:06.118Z"
      },
      {
        "duration": 22,
        "start_time": "2022-10-17T10:44:06.125Z"
      },
      {
        "duration": 19,
        "start_time": "2022-10-17T10:44:06.149Z"
      },
      {
        "duration": 53,
        "start_time": "2022-10-17T10:44:06.170Z"
      },
      {
        "duration": 15,
        "start_time": "2022-10-17T10:44:06.225Z"
      },
      {
        "duration": 23,
        "start_time": "2022-10-17T10:44:06.241Z"
      },
      {
        "duration": 4,
        "start_time": "2022-10-17T10:44:06.265Z"
      },
      {
        "duration": 6,
        "start_time": "2022-10-17T10:44:06.270Z"
      },
      {
        "duration": 34,
        "start_time": "2022-10-17T10:44:06.277Z"
      },
      {
        "duration": 20,
        "start_time": "2022-10-17T10:44:06.313Z"
      },
      {
        "duration": 9,
        "start_time": "2022-10-17T10:44:06.334Z"
      },
      {
        "duration": 5,
        "start_time": "2022-10-17T10:44:06.345Z"
      },
      {
        "duration": 7,
        "start_time": "2022-10-17T10:44:06.351Z"
      },
      {
        "duration": 11,
        "start_time": "2022-10-17T10:44:06.360Z"
      },
      {
        "duration": 5,
        "start_time": "2022-10-17T10:44:06.372Z"
      },
      {
        "duration": 37,
        "start_time": "2022-10-17T10:44:06.378Z"
      },
      {
        "duration": 5,
        "start_time": "2022-10-17T10:44:06.417Z"
      },
      {
        "duration": 10,
        "start_time": "2022-10-17T10:44:06.424Z"
      },
      {
        "duration": 6,
        "start_time": "2022-10-17T10:44:06.436Z"
      },
      {
        "duration": 5,
        "start_time": "2022-10-17T10:44:06.444Z"
      },
      {
        "duration": 6,
        "start_time": "2022-10-17T10:44:06.451Z"
      },
      {
        "duration": 6,
        "start_time": "2022-10-17T10:44:06.459Z"
      },
      {
        "duration": 16,
        "start_time": "2022-10-17T10:44:06.467Z"
      },
      {
        "duration": 26,
        "start_time": "2022-10-17T10:44:06.485Z"
      },
      {
        "duration": 21,
        "start_time": "2022-10-17T10:44:06.513Z"
      },
      {
        "duration": 144,
        "start_time": "2022-10-17T10:44:06.538Z"
      },
      {
        "duration": 2,
        "start_time": "2022-10-17T10:44:06.683Z"
      },
      {
        "duration": 12,
        "start_time": "2022-10-17T10:44:06.687Z"
      },
      {
        "duration": 4,
        "start_time": "2022-10-17T10:44:06.708Z"
      },
      {
        "duration": 9,
        "start_time": "2022-10-17T10:44:06.713Z"
      },
      {
        "duration": 35,
        "start_time": "2022-10-17T10:44:06.723Z"
      },
      {
        "duration": 6,
        "start_time": "2022-10-17T10:44:06.759Z"
      },
      {
        "duration": 15,
        "start_time": "2022-10-17T10:44:06.766Z"
      },
      {
        "duration": 4,
        "start_time": "2022-10-17T10:44:06.782Z"
      },
      {
        "duration": 42,
        "start_time": "2022-10-17T10:44:06.787Z"
      },
      {
        "duration": 4,
        "start_time": "2022-10-17T10:44:06.832Z"
      },
      {
        "duration": 20,
        "start_time": "2022-10-17T10:44:06.837Z"
      },
      {
        "duration": 15,
        "start_time": "2022-10-17T10:44:06.858Z"
      },
      {
        "duration": 6,
        "start_time": "2022-10-17T10:44:06.874Z"
      },
      {
        "duration": 3,
        "start_time": "2022-10-17T10:44:06.908Z"
      },
      {
        "duration": 7,
        "start_time": "2022-10-17T10:44:06.913Z"
      },
      {
        "duration": 7,
        "start_time": "2022-10-17T10:44:06.921Z"
      },
      {
        "duration": 11,
        "start_time": "2022-10-17T10:44:06.929Z"
      },
      {
        "duration": 146,
        "start_time": "2022-10-17T10:44:06.941Z"
      },
      {
        "duration": 0,
        "start_time": "2022-10-17T10:44:07.088Z"
      },
      {
        "duration": 0,
        "start_time": "2022-10-17T10:44:07.090Z"
      },
      {
        "duration": 1433,
        "start_time": "2022-10-17T10:45:39.798Z"
      },
      {
        "duration": 32,
        "start_time": "2022-10-17T10:45:41.233Z"
      },
      {
        "duration": 15,
        "start_time": "2022-10-17T10:45:41.266Z"
      },
      {
        "duration": 12,
        "start_time": "2022-10-17T10:45:41.282Z"
      },
      {
        "duration": 6,
        "start_time": "2022-10-17T10:45:41.296Z"
      },
      {
        "duration": 5,
        "start_time": "2022-10-17T10:45:41.309Z"
      },
      {
        "duration": 18,
        "start_time": "2022-10-17T10:45:41.316Z"
      },
      {
        "duration": 9,
        "start_time": "2022-10-17T10:45:41.335Z"
      },
      {
        "duration": 12,
        "start_time": "2022-10-17T10:45:41.345Z"
      },
      {
        "duration": 18,
        "start_time": "2022-10-17T10:45:41.358Z"
      },
      {
        "duration": 10,
        "start_time": "2022-10-17T10:45:41.377Z"
      },
      {
        "duration": 10,
        "start_time": "2022-10-17T10:45:41.409Z"
      },
      {
        "duration": 14,
        "start_time": "2022-10-17T10:45:41.421Z"
      },
      {
        "duration": 8,
        "start_time": "2022-10-17T10:45:41.437Z"
      },
      {
        "duration": 10,
        "start_time": "2022-10-17T10:45:41.446Z"
      },
      {
        "duration": 4,
        "start_time": "2022-10-17T10:45:41.458Z"
      },
      {
        "duration": 22,
        "start_time": "2022-10-17T10:45:41.463Z"
      },
      {
        "duration": 40,
        "start_time": "2022-10-17T10:45:41.487Z"
      },
      {
        "duration": 26,
        "start_time": "2022-10-17T10:45:41.529Z"
      },
      {
        "duration": 17,
        "start_time": "2022-10-17T10:45:41.557Z"
      },
      {
        "duration": 48,
        "start_time": "2022-10-17T10:45:41.576Z"
      },
      {
        "duration": 6,
        "start_time": "2022-10-17T10:45:41.626Z"
      },
      {
        "duration": 6,
        "start_time": "2022-10-17T10:45:41.634Z"
      },
      {
        "duration": 8,
        "start_time": "2022-10-17T10:45:41.641Z"
      },
      {
        "duration": 21,
        "start_time": "2022-10-17T10:45:41.651Z"
      },
      {
        "duration": 36,
        "start_time": "2022-10-17T10:45:41.674Z"
      },
      {
        "duration": 8,
        "start_time": "2022-10-17T10:45:41.712Z"
      },
      {
        "duration": 7,
        "start_time": "2022-10-17T10:45:41.721Z"
      },
      {
        "duration": 8,
        "start_time": "2022-10-17T10:45:41.729Z"
      },
      {
        "duration": 11,
        "start_time": "2022-10-17T10:45:41.739Z"
      },
      {
        "duration": 4,
        "start_time": "2022-10-17T10:45:41.751Z"
      },
      {
        "duration": 7,
        "start_time": "2022-10-17T10:45:41.757Z"
      },
      {
        "duration": 5,
        "start_time": "2022-10-17T10:45:41.765Z"
      },
      {
        "duration": 39,
        "start_time": "2022-10-17T10:45:41.771Z"
      },
      {
        "duration": 5,
        "start_time": "2022-10-17T10:45:41.811Z"
      },
      {
        "duration": 8,
        "start_time": "2022-10-17T10:45:41.817Z"
      },
      {
        "duration": 6,
        "start_time": "2022-10-17T10:45:41.827Z"
      },
      {
        "duration": 8,
        "start_time": "2022-10-17T10:45:41.834Z"
      },
      {
        "duration": 17,
        "start_time": "2022-10-17T10:45:41.844Z"
      },
      {
        "duration": 5,
        "start_time": "2022-10-17T10:45:41.862Z"
      },
      {
        "duration": 57,
        "start_time": "2022-10-17T10:45:41.872Z"
      },
      {
        "duration": 139,
        "start_time": "2022-10-17T10:45:41.931Z"
      },
      {
        "duration": 3,
        "start_time": "2022-10-17T10:45:42.072Z"
      },
      {
        "duration": 10,
        "start_time": "2022-10-17T10:45:42.076Z"
      },
      {
        "duration": 3,
        "start_time": "2022-10-17T10:45:42.088Z"
      },
      {
        "duration": 4,
        "start_time": "2022-10-17T10:45:42.109Z"
      },
      {
        "duration": 31,
        "start_time": "2022-10-17T10:45:42.114Z"
      },
      {
        "duration": 5,
        "start_time": "2022-10-17T10:45:42.147Z"
      },
      {
        "duration": 10,
        "start_time": "2022-10-17T10:45:42.154Z"
      },
      {
        "duration": 4,
        "start_time": "2022-10-17T10:45:42.166Z"
      },
      {
        "duration": 54,
        "start_time": "2022-10-17T10:45:42.171Z"
      },
      {
        "duration": 3,
        "start_time": "2022-10-17T10:45:42.226Z"
      },
      {
        "duration": 19,
        "start_time": "2022-10-17T10:45:42.231Z"
      },
      {
        "duration": 16,
        "start_time": "2022-10-17T10:45:42.251Z"
      },
      {
        "duration": 5,
        "start_time": "2022-10-17T10:45:42.268Z"
      },
      {
        "duration": 4,
        "start_time": "2022-10-17T10:45:42.274Z"
      },
      {
        "duration": 29,
        "start_time": "2022-10-17T10:45:42.280Z"
      },
      {
        "duration": 6,
        "start_time": "2022-10-17T10:45:42.310Z"
      },
      {
        "duration": 7,
        "start_time": "2022-10-17T10:45:42.317Z"
      },
      {
        "duration": 139,
        "start_time": "2022-10-17T10:45:42.326Z"
      },
      {
        "duration": 0,
        "start_time": "2022-10-17T10:45:42.467Z"
      },
      {
        "duration": 0,
        "start_time": "2022-10-17T10:45:42.467Z"
      },
      {
        "duration": 1344,
        "start_time": "2022-10-17T10:46:49.221Z"
      },
      {
        "duration": 32,
        "start_time": "2022-10-17T10:46:50.567Z"
      },
      {
        "duration": 15,
        "start_time": "2022-10-17T10:46:50.600Z"
      },
      {
        "duration": 12,
        "start_time": "2022-10-17T10:46:50.616Z"
      },
      {
        "duration": 7,
        "start_time": "2022-10-17T10:46:50.630Z"
      },
      {
        "duration": 7,
        "start_time": "2022-10-17T10:46:50.639Z"
      },
      {
        "duration": 16,
        "start_time": "2022-10-17T10:46:50.648Z"
      },
      {
        "duration": 9,
        "start_time": "2022-10-17T10:46:50.665Z"
      },
      {
        "duration": 15,
        "start_time": "2022-10-17T10:46:50.676Z"
      },
      {
        "duration": 25,
        "start_time": "2022-10-17T10:46:50.692Z"
      },
      {
        "duration": 10,
        "start_time": "2022-10-17T10:46:50.718Z"
      },
      {
        "duration": 11,
        "start_time": "2022-10-17T10:46:50.730Z"
      },
      {
        "duration": 16,
        "start_time": "2022-10-17T10:46:50.743Z"
      },
      {
        "duration": 6,
        "start_time": "2022-10-17T10:46:50.762Z"
      },
      {
        "duration": 10,
        "start_time": "2022-10-17T10:46:50.770Z"
      },
      {
        "duration": 4,
        "start_time": "2022-10-17T10:46:50.781Z"
      },
      {
        "duration": 41,
        "start_time": "2022-10-17T10:46:50.786Z"
      },
      {
        "duration": 20,
        "start_time": "2022-10-17T10:46:50.829Z"
      },
      {
        "duration": 29,
        "start_time": "2022-10-17T10:46:50.850Z"
      },
      {
        "duration": 32,
        "start_time": "2022-10-17T10:46:50.881Z"
      },
      {
        "duration": 22,
        "start_time": "2022-10-17T10:46:50.915Z"
      },
      {
        "duration": 4,
        "start_time": "2022-10-17T10:46:50.938Z"
      },
      {
        "duration": 6,
        "start_time": "2022-10-17T10:46:50.944Z"
      },
      {
        "duration": 6,
        "start_time": "2022-10-17T10:46:50.951Z"
      },
      {
        "duration": 16,
        "start_time": "2022-10-17T10:46:50.958Z"
      },
      {
        "duration": 9,
        "start_time": "2022-10-17T10:46:51.009Z"
      },
      {
        "duration": 7,
        "start_time": "2022-10-17T10:46:51.020Z"
      },
      {
        "duration": 6,
        "start_time": "2022-10-17T10:46:51.029Z"
      },
      {
        "duration": 7,
        "start_time": "2022-10-17T10:46:51.037Z"
      },
      {
        "duration": 12,
        "start_time": "2022-10-17T10:46:51.045Z"
      },
      {
        "duration": 4,
        "start_time": "2022-10-17T10:46:51.059Z"
      },
      {
        "duration": 7,
        "start_time": "2022-10-17T10:46:51.064Z"
      },
      {
        "duration": 39,
        "start_time": "2022-10-17T10:46:51.072Z"
      },
      {
        "duration": 8,
        "start_time": "2022-10-17T10:46:51.113Z"
      },
      {
        "duration": 6,
        "start_time": "2022-10-17T10:46:51.122Z"
      },
      {
        "duration": 5,
        "start_time": "2022-10-17T10:46:51.130Z"
      },
      {
        "duration": 5,
        "start_time": "2022-10-17T10:46:51.137Z"
      },
      {
        "duration": 5,
        "start_time": "2022-10-17T10:46:51.144Z"
      },
      {
        "duration": 18,
        "start_time": "2022-10-17T10:46:51.150Z"
      },
      {
        "duration": 5,
        "start_time": "2022-10-17T10:46:51.170Z"
      },
      {
        "duration": 27,
        "start_time": "2022-10-17T10:46:51.208Z"
      },
      {
        "duration": 146,
        "start_time": "2022-10-17T10:46:51.237Z"
      },
      {
        "duration": 10,
        "start_time": "2022-10-17T10:46:51.385Z"
      },
      {
        "duration": 16,
        "start_time": "2022-10-17T10:46:51.396Z"
      },
      {
        "duration": 11,
        "start_time": "2022-10-17T10:46:51.413Z"
      },
      {
        "duration": 8,
        "start_time": "2022-10-17T10:46:51.426Z"
      },
      {
        "duration": 30,
        "start_time": "2022-10-17T10:46:51.435Z"
      },
      {
        "duration": 6,
        "start_time": "2022-10-17T10:46:51.467Z"
      },
      {
        "duration": 18,
        "start_time": "2022-10-17T10:46:51.475Z"
      },
      {
        "duration": 18,
        "start_time": "2022-10-17T10:46:51.495Z"
      },
      {
        "duration": 22,
        "start_time": "2022-10-17T10:46:51.514Z"
      },
      {
        "duration": 5,
        "start_time": "2022-10-17T10:46:51.538Z"
      },
      {
        "duration": 17,
        "start_time": "2022-10-17T10:46:51.545Z"
      },
      {
        "duration": 17,
        "start_time": "2022-10-17T10:46:51.564Z"
      },
      {
        "duration": 28,
        "start_time": "2022-10-17T10:46:51.583Z"
      },
      {
        "duration": 11,
        "start_time": "2022-10-17T10:46:51.612Z"
      },
      {
        "duration": 7,
        "start_time": "2022-10-17T10:46:51.625Z"
      },
      {
        "duration": 8,
        "start_time": "2022-10-17T10:46:51.634Z"
      },
      {
        "duration": 8,
        "start_time": "2022-10-17T10:46:51.643Z"
      },
      {
        "duration": 159,
        "start_time": "2022-10-17T10:46:51.653Z"
      },
      {
        "duration": 0,
        "start_time": "2022-10-17T10:46:51.814Z"
      },
      {
        "duration": 0,
        "start_time": "2022-10-17T10:46:51.816Z"
      },
      {
        "duration": 1456,
        "start_time": "2022-10-17T10:51:22.137Z"
      },
      {
        "duration": 32,
        "start_time": "2022-10-17T10:51:23.594Z"
      },
      {
        "duration": 14,
        "start_time": "2022-10-17T10:51:23.628Z"
      },
      {
        "duration": 11,
        "start_time": "2022-10-17T10:51:23.644Z"
      },
      {
        "duration": 7,
        "start_time": "2022-10-17T10:51:23.657Z"
      },
      {
        "duration": 13,
        "start_time": "2022-10-17T10:51:23.666Z"
      },
      {
        "duration": 28,
        "start_time": "2022-10-17T10:51:23.681Z"
      },
      {
        "duration": 8,
        "start_time": "2022-10-17T10:51:23.711Z"
      },
      {
        "duration": 14,
        "start_time": "2022-10-17T10:51:23.720Z"
      },
      {
        "duration": 17,
        "start_time": "2022-10-17T10:51:23.735Z"
      },
      {
        "duration": 10,
        "start_time": "2022-10-17T10:51:23.754Z"
      },
      {
        "duration": 11,
        "start_time": "2022-10-17T10:51:23.765Z"
      },
      {
        "duration": 31,
        "start_time": "2022-10-17T10:51:23.778Z"
      },
      {
        "duration": 8,
        "start_time": "2022-10-17T10:51:23.813Z"
      },
      {
        "duration": 10,
        "start_time": "2022-10-17T10:51:23.823Z"
      },
      {
        "duration": 7,
        "start_time": "2022-10-17T10:51:23.835Z"
      },
      {
        "duration": 23,
        "start_time": "2022-10-17T10:51:23.843Z"
      },
      {
        "duration": 47,
        "start_time": "2022-10-17T10:51:23.868Z"
      },
      {
        "duration": 24,
        "start_time": "2022-10-17T10:51:23.916Z"
      },
      {
        "duration": 15,
        "start_time": "2022-10-17T10:51:23.941Z"
      },
      {
        "duration": 23,
        "start_time": "2022-10-17T10:51:23.957Z"
      },
      {
        "duration": 29,
        "start_time": "2022-10-17T10:51:23.981Z"
      },
      {
        "duration": 7,
        "start_time": "2022-10-17T10:51:24.012Z"
      },
      {
        "duration": 5,
        "start_time": "2022-10-17T10:51:24.020Z"
      },
      {
        "duration": 16,
        "start_time": "2022-10-17T10:51:24.027Z"
      },
      {
        "duration": 3,
        "start_time": "2022-10-17T10:51:24.044Z"
      },
      {
        "duration": 9,
        "start_time": "2022-10-17T10:51:24.048Z"
      },
      {
        "duration": 14,
        "start_time": "2022-10-17T10:51:24.058Z"
      },
      {
        "duration": 35,
        "start_time": "2022-10-17T10:51:24.073Z"
      },
      {
        "duration": 6,
        "start_time": "2022-10-17T10:51:24.110Z"
      },
      {
        "duration": 11,
        "start_time": "2022-10-17T10:51:24.118Z"
      },
      {
        "duration": 6,
        "start_time": "2022-10-17T10:51:24.131Z"
      },
      {
        "duration": 7,
        "start_time": "2022-10-17T10:51:24.138Z"
      },
      {
        "duration": 5,
        "start_time": "2022-10-17T10:51:24.147Z"
      },
      {
        "duration": 10,
        "start_time": "2022-10-17T10:51:24.154Z"
      },
      {
        "duration": 50,
        "start_time": "2022-10-17T10:51:24.165Z"
      },
      {
        "duration": 6,
        "start_time": "2022-10-17T10:51:24.217Z"
      },
      {
        "duration": 5,
        "start_time": "2022-10-17T10:51:24.225Z"
      },
      {
        "duration": 7,
        "start_time": "2022-10-17T10:51:24.232Z"
      },
      {
        "duration": 17,
        "start_time": "2022-10-17T10:51:24.240Z"
      },
      {
        "duration": 4,
        "start_time": "2022-10-17T10:51:24.261Z"
      },
      {
        "duration": 42,
        "start_time": "2022-10-17T10:51:24.266Z"
      },
      {
        "duration": 132,
        "start_time": "2022-10-17T10:51:24.310Z"
      },
      {
        "duration": 18,
        "start_time": "2022-10-17T10:51:24.443Z"
      },
      {
        "duration": 7,
        "start_time": "2022-10-17T10:51:24.462Z"
      },
      {
        "duration": 5,
        "start_time": "2022-10-17T10:51:24.470Z"
      },
      {
        "duration": 5,
        "start_time": "2022-10-17T10:51:24.476Z"
      },
      {
        "duration": 26,
        "start_time": "2022-10-17T10:51:24.509Z"
      },
      {
        "duration": 5,
        "start_time": "2022-10-17T10:51:24.537Z"
      },
      {
        "duration": 21,
        "start_time": "2022-10-17T10:51:24.543Z"
      },
      {
        "duration": 4,
        "start_time": "2022-10-17T10:51:24.565Z"
      },
      {
        "duration": 48,
        "start_time": "2022-10-17T10:51:24.570Z"
      },
      {
        "duration": 5,
        "start_time": "2022-10-17T10:51:24.619Z"
      },
      {
        "duration": 14,
        "start_time": "2022-10-17T10:51:24.626Z"
      },
      {
        "duration": 14,
        "start_time": "2022-10-17T10:51:24.641Z"
      },
      {
        "duration": 7,
        "start_time": "2022-10-17T10:51:24.657Z"
      },
      {
        "duration": 6,
        "start_time": "2022-10-17T10:51:24.665Z"
      },
      {
        "duration": 8,
        "start_time": "2022-10-17T10:51:24.672Z"
      },
      {
        "duration": 27,
        "start_time": "2022-10-17T10:51:24.682Z"
      },
      {
        "duration": 5,
        "start_time": "2022-10-17T10:51:24.711Z"
      },
      {
        "duration": 13,
        "start_time": "2022-10-17T10:51:24.717Z"
      },
      {
        "duration": 137,
        "start_time": "2022-10-17T10:51:24.732Z"
      },
      {
        "duration": 0,
        "start_time": "2022-10-17T10:51:24.871Z"
      },
      {
        "duration": 1559,
        "start_time": "2022-10-17T11:05:39.741Z"
      },
      {
        "duration": 32,
        "start_time": "2022-10-17T11:05:41.303Z"
      },
      {
        "duration": 15,
        "start_time": "2022-10-17T11:05:41.337Z"
      },
      {
        "duration": 12,
        "start_time": "2022-10-17T11:05:41.354Z"
      },
      {
        "duration": 9,
        "start_time": "2022-10-17T11:05:41.368Z"
      },
      {
        "duration": 6,
        "start_time": "2022-10-17T11:05:41.378Z"
      },
      {
        "duration": 28,
        "start_time": "2022-10-17T11:05:41.385Z"
      },
      {
        "duration": 8,
        "start_time": "2022-10-17T11:05:41.415Z"
      },
      {
        "duration": 11,
        "start_time": "2022-10-17T11:05:41.425Z"
      },
      {
        "duration": 17,
        "start_time": "2022-10-17T11:05:41.439Z"
      },
      {
        "duration": 9,
        "start_time": "2022-10-17T11:05:41.458Z"
      },
      {
        "duration": 11,
        "start_time": "2022-10-17T11:05:41.469Z"
      },
      {
        "duration": 28,
        "start_time": "2022-10-17T11:05:41.482Z"
      },
      {
        "duration": 9,
        "start_time": "2022-10-17T11:05:41.512Z"
      },
      {
        "duration": 10,
        "start_time": "2022-10-17T11:05:41.522Z"
      },
      {
        "duration": 4,
        "start_time": "2022-10-17T11:05:41.533Z"
      },
      {
        "duration": 25,
        "start_time": "2022-10-17T11:05:41.538Z"
      },
      {
        "duration": 21,
        "start_time": "2022-10-17T11:05:41.565Z"
      },
      {
        "duration": 48,
        "start_time": "2022-10-17T11:05:41.587Z"
      },
      {
        "duration": 16,
        "start_time": "2022-10-17T11:05:41.637Z"
      },
      {
        "duration": 60,
        "start_time": "2022-10-17T11:05:41.654Z"
      },
      {
        "duration": 5,
        "start_time": "2022-10-17T11:05:41.716Z"
      },
      {
        "duration": 6,
        "start_time": "2022-10-17T11:05:41.722Z"
      },
      {
        "duration": 7,
        "start_time": "2022-10-17T11:05:41.730Z"
      },
      {
        "duration": 21,
        "start_time": "2022-10-17T11:05:41.738Z"
      },
      {
        "duration": 3,
        "start_time": "2022-10-17T11:05:41.761Z"
      },
      {
        "duration": 7,
        "start_time": "2022-10-17T11:05:41.766Z"
      },
      {
        "duration": 41,
        "start_time": "2022-10-17T11:05:41.777Z"
      },
      {
        "duration": 5,
        "start_time": "2022-10-17T11:05:41.820Z"
      },
      {
        "duration": 9,
        "start_time": "2022-10-17T11:05:41.826Z"
      },
      {
        "duration": 8,
        "start_time": "2022-10-17T11:05:41.837Z"
      },
      {
        "duration": 4,
        "start_time": "2022-10-17T11:05:41.847Z"
      },
      {
        "duration": 5,
        "start_time": "2022-10-17T11:05:41.852Z"
      },
      {
        "duration": 4,
        "start_time": "2022-10-17T11:05:41.859Z"
      },
      {
        "duration": 7,
        "start_time": "2022-10-17T11:05:41.865Z"
      },
      {
        "duration": 37,
        "start_time": "2022-10-17T11:05:41.873Z"
      },
      {
        "duration": 4,
        "start_time": "2022-10-17T11:05:41.911Z"
      },
      {
        "duration": 6,
        "start_time": "2022-10-17T11:05:41.917Z"
      },
      {
        "duration": 10,
        "start_time": "2022-10-17T11:05:41.924Z"
      },
      {
        "duration": 16,
        "start_time": "2022-10-17T11:05:41.936Z"
      },
      {
        "duration": 4,
        "start_time": "2022-10-17T11:05:41.954Z"
      },
      {
        "duration": 20,
        "start_time": "2022-10-17T11:05:41.960Z"
      },
      {
        "duration": 156,
        "start_time": "2022-10-17T11:05:41.982Z"
      },
      {
        "duration": 17,
        "start_time": "2022-10-17T11:05:42.140Z"
      },
      {
        "duration": 5,
        "start_time": "2022-10-17T11:05:42.158Z"
      },
      {
        "duration": 6,
        "start_time": "2022-10-17T11:05:42.164Z"
      },
      {
        "duration": 4,
        "start_time": "2022-10-17T11:05:42.171Z"
      },
      {
        "duration": 44,
        "start_time": "2022-10-17T11:05:42.177Z"
      },
      {
        "duration": 5,
        "start_time": "2022-10-17T11:05:42.223Z"
      },
      {
        "duration": 23,
        "start_time": "2022-10-17T11:05:42.230Z"
      },
      {
        "duration": 4,
        "start_time": "2022-10-17T11:05:42.255Z"
      },
      {
        "duration": 20,
        "start_time": "2022-10-17T11:05:42.261Z"
      },
      {
        "duration": 3,
        "start_time": "2022-10-17T11:05:42.283Z"
      },
      {
        "duration": 12,
        "start_time": "2022-10-17T11:05:42.309Z"
      },
      {
        "duration": 13,
        "start_time": "2022-10-17T11:05:42.323Z"
      },
      {
        "duration": 7,
        "start_time": "2022-10-17T11:05:42.338Z"
      },
      {
        "duration": 5,
        "start_time": "2022-10-17T11:05:42.346Z"
      },
      {
        "duration": 10,
        "start_time": "2022-10-17T11:05:42.353Z"
      },
      {
        "duration": 7,
        "start_time": "2022-10-17T11:05:42.364Z"
      },
      {
        "duration": 37,
        "start_time": "2022-10-17T11:05:42.373Z"
      },
      {
        "duration": 12,
        "start_time": "2022-10-17T11:05:42.411Z"
      },
      {
        "duration": 4,
        "start_time": "2022-10-17T11:05:42.424Z"
      },
      {
        "duration": 228,
        "start_time": "2022-10-17T11:05:42.429Z"
      },
      {
        "duration": 0,
        "start_time": "2022-10-17T11:05:42.660Z"
      },
      {
        "duration": 37,
        "start_time": "2022-10-17T11:07:26.694Z"
      },
      {
        "duration": 12,
        "start_time": "2022-10-17T11:08:00.934Z"
      },
      {
        "duration": 9,
        "start_time": "2022-10-17T11:08:46.694Z"
      },
      {
        "duration": 11,
        "start_time": "2022-10-17T11:08:48.787Z"
      },
      {
        "duration": 35,
        "start_time": "2022-10-17T11:08:52.380Z"
      },
      {
        "duration": 12,
        "start_time": "2022-10-17T11:09:02.020Z"
      },
      {
        "duration": 11,
        "start_time": "2022-10-17T11:09:23.593Z"
      },
      {
        "duration": 1345,
        "start_time": "2022-10-17T11:09:31.056Z"
      },
      {
        "duration": 32,
        "start_time": "2022-10-17T11:09:32.403Z"
      },
      {
        "duration": 14,
        "start_time": "2022-10-17T11:09:32.437Z"
      },
      {
        "duration": 42,
        "start_time": "2022-10-17T11:09:32.453Z"
      },
      {
        "duration": 48,
        "start_time": "2022-10-17T11:09:32.497Z"
      },
      {
        "duration": 36,
        "start_time": "2022-10-17T11:09:32.547Z"
      },
      {
        "duration": 36,
        "start_time": "2022-10-17T11:09:32.585Z"
      },
      {
        "duration": 33,
        "start_time": "2022-10-17T11:09:32.623Z"
      },
      {
        "duration": 35,
        "start_time": "2022-10-17T11:09:32.660Z"
      },
      {
        "duration": 54,
        "start_time": "2022-10-17T11:09:32.698Z"
      },
      {
        "duration": 16,
        "start_time": "2022-10-17T11:09:32.754Z"
      },
      {
        "duration": 47,
        "start_time": "2022-10-17T11:09:32.772Z"
      },
      {
        "duration": 17,
        "start_time": "2022-10-17T11:09:32.821Z"
      },
      {
        "duration": 7,
        "start_time": "2022-10-17T11:09:32.840Z"
      },
      {
        "duration": 9,
        "start_time": "2022-10-17T11:09:32.849Z"
      },
      {
        "duration": 3,
        "start_time": "2022-10-17T11:09:32.860Z"
      },
      {
        "duration": 22,
        "start_time": "2022-10-17T11:09:32.864Z"
      },
      {
        "duration": 35,
        "start_time": "2022-10-17T11:09:32.887Z"
      },
      {
        "duration": 23,
        "start_time": "2022-10-17T11:09:32.923Z"
      },
      {
        "duration": 16,
        "start_time": "2022-10-17T11:09:32.948Z"
      },
      {
        "duration": 46,
        "start_time": "2022-10-17T11:09:32.966Z"
      },
      {
        "duration": 5,
        "start_time": "2022-10-17T11:09:33.014Z"
      },
      {
        "duration": 5,
        "start_time": "2022-10-17T11:09:33.021Z"
      },
      {
        "duration": 6,
        "start_time": "2022-10-17T11:09:33.027Z"
      },
      {
        "duration": 16,
        "start_time": "2022-10-17T11:09:33.034Z"
      },
      {
        "duration": 2,
        "start_time": "2022-10-17T11:09:33.051Z"
      },
      {
        "duration": 7,
        "start_time": "2022-10-17T11:09:33.055Z"
      },
      {
        "duration": 43,
        "start_time": "2022-10-17T11:09:33.066Z"
      },
      {
        "duration": 5,
        "start_time": "2022-10-17T11:09:33.110Z"
      },
      {
        "duration": 11,
        "start_time": "2022-10-17T11:09:33.117Z"
      },
      {
        "duration": 20,
        "start_time": "2022-10-17T11:09:33.130Z"
      },
      {
        "duration": 21,
        "start_time": "2022-10-17T11:09:33.151Z"
      },
      {
        "duration": 31,
        "start_time": "2022-10-17T11:09:33.174Z"
      },
      {
        "duration": 16,
        "start_time": "2022-10-17T11:09:33.207Z"
      },
      {
        "duration": 38,
        "start_time": "2022-10-17T11:09:33.224Z"
      },
      {
        "duration": 40,
        "start_time": "2022-10-17T11:09:33.264Z"
      },
      {
        "duration": 20,
        "start_time": "2022-10-17T11:09:33.305Z"
      },
      {
        "duration": 28,
        "start_time": "2022-10-17T11:09:33.327Z"
      },
      {
        "duration": 20,
        "start_time": "2022-10-17T11:09:33.357Z"
      },
      {
        "duration": 32,
        "start_time": "2022-10-17T11:09:33.378Z"
      },
      {
        "duration": 27,
        "start_time": "2022-10-17T11:09:33.411Z"
      },
      {
        "duration": 69,
        "start_time": "2022-10-17T11:09:33.439Z"
      },
      {
        "duration": 150,
        "start_time": "2022-10-17T11:09:33.510Z"
      },
      {
        "duration": 16,
        "start_time": "2022-10-17T11:09:33.662Z"
      },
      {
        "duration": 57,
        "start_time": "2022-10-17T11:09:33.680Z"
      },
      {
        "duration": 66,
        "start_time": "2022-10-17T11:09:33.739Z"
      },
      {
        "duration": 34,
        "start_time": "2022-10-17T11:09:33.807Z"
      },
      {
        "duration": 64,
        "start_time": "2022-10-17T11:09:33.843Z"
      },
      {
        "duration": 30,
        "start_time": "2022-10-17T11:09:33.909Z"
      },
      {
        "duration": 67,
        "start_time": "2022-10-17T11:09:33.941Z"
      },
      {
        "duration": 16,
        "start_time": "2022-10-17T11:09:34.010Z"
      },
      {
        "duration": 43,
        "start_time": "2022-10-17T11:09:34.028Z"
      },
      {
        "duration": 26,
        "start_time": "2022-10-17T11:09:34.072Z"
      },
      {
        "duration": 55,
        "start_time": "2022-10-17T11:09:34.100Z"
      },
      {
        "duration": 51,
        "start_time": "2022-10-17T11:09:34.157Z"
      },
      {
        "duration": 38,
        "start_time": "2022-10-17T11:09:34.210Z"
      },
      {
        "duration": 28,
        "start_time": "2022-10-17T11:09:34.250Z"
      },
      {
        "duration": 49,
        "start_time": "2022-10-17T11:09:34.279Z"
      },
      {
        "duration": 30,
        "start_time": "2022-10-17T11:09:34.329Z"
      },
      {
        "duration": 58,
        "start_time": "2022-10-17T11:09:34.361Z"
      },
      {
        "duration": 141,
        "start_time": "2022-10-17T11:09:34.421Z"
      },
      {
        "duration": 1,
        "start_time": "2022-10-17T11:09:34.563Z"
      },
      {
        "duration": 0,
        "start_time": "2022-10-17T11:09:34.565Z"
      },
      {
        "duration": 0,
        "start_time": "2022-10-17T11:09:34.565Z"
      },
      {
        "duration": 10,
        "start_time": "2022-10-17T11:09:54.871Z"
      },
      {
        "duration": 11,
        "start_time": "2022-10-17T11:09:56.456Z"
      },
      {
        "duration": 8,
        "start_time": "2022-10-17T11:10:10.197Z"
      },
      {
        "duration": 13,
        "start_time": "2022-10-17T11:10:11.496Z"
      },
      {
        "duration": 1467,
        "start_time": "2022-10-17T11:42:01.572Z"
      },
      {
        "duration": 33,
        "start_time": "2022-10-17T11:42:03.041Z"
      },
      {
        "duration": 15,
        "start_time": "2022-10-17T11:42:03.076Z"
      },
      {
        "duration": 13,
        "start_time": "2022-10-17T11:42:03.092Z"
      },
      {
        "duration": 6,
        "start_time": "2022-10-17T11:42:03.107Z"
      },
      {
        "duration": 6,
        "start_time": "2022-10-17T11:42:03.114Z"
      },
      {
        "duration": 22,
        "start_time": "2022-10-17T11:42:03.122Z"
      },
      {
        "duration": 9,
        "start_time": "2022-10-17T11:42:03.145Z"
      },
      {
        "duration": 13,
        "start_time": "2022-10-17T11:42:03.155Z"
      },
      {
        "duration": 18,
        "start_time": "2022-10-17T11:42:03.170Z"
      },
      {
        "duration": 23,
        "start_time": "2022-10-17T11:42:03.189Z"
      },
      {
        "duration": 13,
        "start_time": "2022-10-17T11:42:03.213Z"
      },
      {
        "duration": 16,
        "start_time": "2022-10-17T11:42:03.227Z"
      },
      {
        "duration": 7,
        "start_time": "2022-10-17T11:42:03.246Z"
      },
      {
        "duration": 12,
        "start_time": "2022-10-17T11:42:03.254Z"
      },
      {
        "duration": 5,
        "start_time": "2022-10-17T11:42:03.267Z"
      },
      {
        "duration": 37,
        "start_time": "2022-10-17T11:42:03.273Z"
      },
      {
        "duration": 19,
        "start_time": "2022-10-17T11:42:03.312Z"
      },
      {
        "duration": 25,
        "start_time": "2022-10-17T11:42:03.332Z"
      },
      {
        "duration": 16,
        "start_time": "2022-10-17T11:42:03.359Z"
      },
      {
        "duration": 52,
        "start_time": "2022-10-17T11:42:03.377Z"
      },
      {
        "duration": 4,
        "start_time": "2022-10-17T11:42:03.431Z"
      },
      {
        "duration": 16,
        "start_time": "2022-10-17T11:42:03.436Z"
      },
      {
        "duration": 16,
        "start_time": "2022-10-17T11:42:03.453Z"
      },
      {
        "duration": 15,
        "start_time": "2022-10-17T11:42:03.470Z"
      },
      {
        "duration": 2,
        "start_time": "2022-10-17T11:42:03.487Z"
      },
      {
        "duration": 16,
        "start_time": "2022-10-17T11:42:03.491Z"
      },
      {
        "duration": 24,
        "start_time": "2022-10-17T11:42:03.508Z"
      },
      {
        "duration": 8,
        "start_time": "2022-10-17T11:42:03.533Z"
      },
      {
        "duration": 8,
        "start_time": "2022-10-17T11:42:03.543Z"
      },
      {
        "duration": 8,
        "start_time": "2022-10-17T11:42:03.553Z"
      },
      {
        "duration": 7,
        "start_time": "2022-10-17T11:42:03.562Z"
      },
      {
        "duration": 6,
        "start_time": "2022-10-17T11:42:03.570Z"
      },
      {
        "duration": 9,
        "start_time": "2022-10-17T11:42:03.577Z"
      },
      {
        "duration": 9,
        "start_time": "2022-10-17T11:42:03.588Z"
      },
      {
        "duration": 5,
        "start_time": "2022-10-17T11:42:03.609Z"
      },
      {
        "duration": 9,
        "start_time": "2022-10-17T11:42:03.615Z"
      },
      {
        "duration": 15,
        "start_time": "2022-10-17T11:42:03.625Z"
      },
      {
        "duration": 7,
        "start_time": "2022-10-17T11:42:03.642Z"
      },
      {
        "duration": 17,
        "start_time": "2022-10-17T11:42:03.650Z"
      },
      {
        "duration": 4,
        "start_time": "2022-10-17T11:42:03.671Z"
      },
      {
        "duration": 36,
        "start_time": "2022-10-17T11:42:03.676Z"
      },
      {
        "duration": 133,
        "start_time": "2022-10-17T11:42:03.714Z"
      },
      {
        "duration": 17,
        "start_time": "2022-10-17T11:42:03.849Z"
      },
      {
        "duration": 20,
        "start_time": "2022-10-17T11:42:03.867Z"
      },
      {
        "duration": 16,
        "start_time": "2022-10-17T11:42:03.889Z"
      },
      {
        "duration": 45,
        "start_time": "2022-10-17T11:42:03.906Z"
      },
      {
        "duration": 49,
        "start_time": "2022-10-17T11:42:03.953Z"
      },
      {
        "duration": 7,
        "start_time": "2022-10-17T11:42:04.003Z"
      },
      {
        "duration": 55,
        "start_time": "2022-10-17T11:42:04.012Z"
      },
      {
        "duration": 17,
        "start_time": "2022-10-17T11:42:04.069Z"
      },
      {
        "duration": 28,
        "start_time": "2022-10-17T11:42:04.088Z"
      },
      {
        "duration": 32,
        "start_time": "2022-10-17T11:42:04.118Z"
      },
      {
        "duration": 48,
        "start_time": "2022-10-17T11:42:04.152Z"
      },
      {
        "duration": 24,
        "start_time": "2022-10-17T11:42:04.202Z"
      },
      {
        "duration": 28,
        "start_time": "2022-10-17T11:42:04.228Z"
      },
      {
        "duration": 21,
        "start_time": "2022-10-17T11:42:04.257Z"
      },
      {
        "duration": 20,
        "start_time": "2022-10-17T11:42:04.280Z"
      },
      {
        "duration": 53,
        "start_time": "2022-10-17T11:42:04.302Z"
      },
      {
        "duration": 29,
        "start_time": "2022-10-17T11:42:04.357Z"
      },
      {
        "duration": 150,
        "start_time": "2022-10-17T11:42:04.388Z"
      },
      {
        "duration": 0,
        "start_time": "2022-10-17T11:42:04.540Z"
      },
      {
        "duration": 0,
        "start_time": "2022-10-17T11:42:04.541Z"
      },
      {
        "duration": 24,
        "start_time": "2022-10-17T11:44:49.644Z"
      },
      {
        "duration": 22,
        "start_time": "2022-10-17T11:45:03.765Z"
      },
      {
        "duration": 19,
        "start_time": "2022-10-17T11:45:44.063Z"
      },
      {
        "duration": 19,
        "start_time": "2022-10-17T11:45:46.812Z"
      },
      {
        "duration": 37,
        "start_time": "2022-10-17T11:45:47.604Z"
      },
      {
        "duration": 18,
        "start_time": "2022-10-17T11:46:11.088Z"
      },
      {
        "duration": 11,
        "start_time": "2022-10-17T11:46:20.902Z"
      },
      {
        "duration": 1463,
        "start_time": "2022-10-17T12:09:11.494Z"
      },
      {
        "duration": 33,
        "start_time": "2022-10-17T12:09:12.959Z"
      },
      {
        "duration": 15,
        "start_time": "2022-10-17T12:09:12.994Z"
      },
      {
        "duration": 12,
        "start_time": "2022-10-17T12:09:13.010Z"
      },
      {
        "duration": 9,
        "start_time": "2022-10-17T12:09:13.025Z"
      },
      {
        "duration": 7,
        "start_time": "2022-10-17T12:09:13.036Z"
      },
      {
        "duration": 17,
        "start_time": "2022-10-17T12:09:13.044Z"
      },
      {
        "duration": 10,
        "start_time": "2022-10-17T12:09:13.063Z"
      },
      {
        "duration": 38,
        "start_time": "2022-10-17T12:09:13.074Z"
      },
      {
        "duration": 16,
        "start_time": "2022-10-17T12:09:13.114Z"
      },
      {
        "duration": 12,
        "start_time": "2022-10-17T12:09:13.132Z"
      },
      {
        "duration": 14,
        "start_time": "2022-10-17T12:09:13.145Z"
      },
      {
        "duration": 13,
        "start_time": "2022-10-17T12:09:13.161Z"
      },
      {
        "duration": 7,
        "start_time": "2022-10-17T12:09:13.178Z"
      },
      {
        "duration": 35,
        "start_time": "2022-10-17T12:09:13.186Z"
      },
      {
        "duration": 5,
        "start_time": "2022-10-17T12:09:13.222Z"
      },
      {
        "duration": 22,
        "start_time": "2022-10-17T12:09:13.228Z"
      },
      {
        "duration": 18,
        "start_time": "2022-10-17T12:09:13.252Z"
      },
      {
        "duration": 45,
        "start_time": "2022-10-17T12:09:13.271Z"
      },
      {
        "duration": 15,
        "start_time": "2022-10-17T12:09:13.317Z"
      },
      {
        "duration": 21,
        "start_time": "2022-10-17T12:09:13.334Z"
      },
      {
        "duration": 6,
        "start_time": "2022-10-17T12:09:13.356Z"
      },
      {
        "duration": 5,
        "start_time": "2022-10-17T12:09:13.363Z"
      },
      {
        "duration": 5,
        "start_time": "2022-10-17T12:09:13.370Z"
      },
      {
        "duration": 44,
        "start_time": "2022-10-17T12:09:13.376Z"
      },
      {
        "duration": 5,
        "start_time": "2022-10-17T12:09:13.421Z"
      },
      {
        "duration": 14,
        "start_time": "2022-10-17T12:09:13.427Z"
      },
      {
        "duration": 12,
        "start_time": "2022-10-17T12:09:13.443Z"
      },
      {
        "duration": 8,
        "start_time": "2022-10-17T12:09:13.456Z"
      },
      {
        "duration": 6,
        "start_time": "2022-10-17T12:09:13.465Z"
      },
      {
        "duration": 10,
        "start_time": "2022-10-17T12:09:13.473Z"
      },
      {
        "duration": 9,
        "start_time": "2022-10-17T12:09:13.484Z"
      },
      {
        "duration": 19,
        "start_time": "2022-10-17T12:09:13.494Z"
      },
      {
        "duration": 5,
        "start_time": "2022-10-17T12:09:13.514Z"
      },
      {
        "duration": 10,
        "start_time": "2022-10-17T12:09:13.521Z"
      },
      {
        "duration": 6,
        "start_time": "2022-10-17T12:09:13.533Z"
      },
      {
        "duration": 7,
        "start_time": "2022-10-17T12:09:13.541Z"
      },
      {
        "duration": 5,
        "start_time": "2022-10-17T12:09:13.550Z"
      },
      {
        "duration": 6,
        "start_time": "2022-10-17T12:09:13.556Z"
      },
      {
        "duration": 45,
        "start_time": "2022-10-17T12:09:13.563Z"
      },
      {
        "duration": 4,
        "start_time": "2022-10-17T12:09:13.612Z"
      },
      {
        "duration": 24,
        "start_time": "2022-10-17T12:09:13.618Z"
      },
      {
        "duration": 135,
        "start_time": "2022-10-17T12:09:13.643Z"
      },
      {
        "duration": 15,
        "start_time": "2022-10-17T12:09:13.780Z"
      },
      {
        "duration": 15,
        "start_time": "2022-10-17T12:09:13.797Z"
      },
      {
        "duration": 10,
        "start_time": "2022-10-17T12:09:13.813Z"
      },
      {
        "duration": 18,
        "start_time": "2022-10-17T12:09:13.824Z"
      },
      {
        "duration": 31,
        "start_time": "2022-10-17T12:09:13.844Z"
      },
      {
        "duration": 6,
        "start_time": "2022-10-17T12:09:13.877Z"
      },
      {
        "duration": 33,
        "start_time": "2022-10-17T12:09:13.884Z"
      },
      {
        "duration": 4,
        "start_time": "2022-10-17T12:09:13.918Z"
      },
      {
        "duration": 23,
        "start_time": "2022-10-17T12:09:13.923Z"
      },
      {
        "duration": 3,
        "start_time": "2022-10-17T12:09:13.948Z"
      },
      {
        "duration": 13,
        "start_time": "2022-10-17T12:09:13.952Z"
      },
      {
        "duration": 13,
        "start_time": "2022-10-17T12:09:13.967Z"
      },
      {
        "duration": 29,
        "start_time": "2022-10-17T12:09:13.981Z"
      },
      {
        "duration": 5,
        "start_time": "2022-10-17T12:09:14.012Z"
      },
      {
        "duration": 8,
        "start_time": "2022-10-17T12:09:14.018Z"
      },
      {
        "duration": 12,
        "start_time": "2022-10-17T12:09:14.027Z"
      },
      {
        "duration": 7,
        "start_time": "2022-10-17T12:09:14.041Z"
      },
      {
        "duration": 4,
        "start_time": "2022-10-17T12:09:14.049Z"
      },
      {
        "duration": 13,
        "start_time": "2022-10-17T12:09:14.054Z"
      },
      {
        "duration": 183,
        "start_time": "2022-10-17T12:09:14.068Z"
      },
      {
        "duration": 0,
        "start_time": "2022-10-17T12:09:14.252Z"
      },
      {
        "duration": 23,
        "start_time": "2022-10-17T12:09:33.296Z"
      },
      {
        "duration": 13,
        "start_time": "2022-10-17T12:09:54.165Z"
      },
      {
        "duration": 24,
        "start_time": "2022-10-17T12:09:54.918Z"
      },
      {
        "duration": 1389,
        "start_time": "2022-10-17T12:10:26.338Z"
      },
      {
        "duration": 31,
        "start_time": "2022-10-17T12:10:27.729Z"
      },
      {
        "duration": 14,
        "start_time": "2022-10-17T12:10:27.762Z"
      },
      {
        "duration": 12,
        "start_time": "2022-10-17T12:10:27.778Z"
      },
      {
        "duration": 6,
        "start_time": "2022-10-17T12:10:27.792Z"
      },
      {
        "duration": 13,
        "start_time": "2022-10-17T12:10:27.799Z"
      },
      {
        "duration": 17,
        "start_time": "2022-10-17T12:10:27.813Z"
      },
      {
        "duration": 10,
        "start_time": "2022-10-17T12:10:27.831Z"
      },
      {
        "duration": 14,
        "start_time": "2022-10-17T12:10:27.843Z"
      },
      {
        "duration": 16,
        "start_time": "2022-10-17T12:10:27.860Z"
      },
      {
        "duration": 10,
        "start_time": "2022-10-17T12:10:27.878Z"
      },
      {
        "duration": 11,
        "start_time": "2022-10-17T12:10:27.908Z"
      },
      {
        "duration": 13,
        "start_time": "2022-10-17T12:10:27.921Z"
      },
      {
        "duration": 7,
        "start_time": "2022-10-17T12:10:27.936Z"
      },
      {
        "duration": 11,
        "start_time": "2022-10-17T12:10:27.944Z"
      },
      {
        "duration": 3,
        "start_time": "2022-10-17T12:10:27.957Z"
      },
      {
        "duration": 48,
        "start_time": "2022-10-17T12:10:27.961Z"
      },
      {
        "duration": 19,
        "start_time": "2022-10-17T12:10:28.011Z"
      },
      {
        "duration": 24,
        "start_time": "2022-10-17T12:10:28.031Z"
      },
      {
        "duration": 16,
        "start_time": "2022-10-17T12:10:28.056Z"
      },
      {
        "duration": 49,
        "start_time": "2022-10-17T12:10:28.073Z"
      },
      {
        "duration": 6,
        "start_time": "2022-10-17T12:10:28.124Z"
      },
      {
        "duration": 28,
        "start_time": "2022-10-17T12:10:28.132Z"
      },
      {
        "duration": 8,
        "start_time": "2022-10-17T12:10:28.162Z"
      },
      {
        "duration": 25,
        "start_time": "2022-10-17T12:10:28.171Z"
      },
      {
        "duration": 3,
        "start_time": "2022-10-17T12:10:28.198Z"
      },
      {
        "duration": 28,
        "start_time": "2022-10-17T12:10:28.202Z"
      },
      {
        "duration": 11,
        "start_time": "2022-10-17T12:10:28.235Z"
      },
      {
        "duration": 5,
        "start_time": "2022-10-17T12:10:28.248Z"
      },
      {
        "duration": 7,
        "start_time": "2022-10-17T12:10:28.255Z"
      },
      {
        "duration": 14,
        "start_time": "2022-10-17T12:10:28.264Z"
      },
      {
        "duration": 18,
        "start_time": "2022-10-17T12:10:28.280Z"
      },
      {
        "duration": 19,
        "start_time": "2022-10-17T12:10:28.300Z"
      },
      {
        "duration": 8,
        "start_time": "2022-10-17T12:10:28.320Z"
      },
      {
        "duration": 10,
        "start_time": "2022-10-17T12:10:28.330Z"
      },
      {
        "duration": 13,
        "start_time": "2022-10-17T12:10:28.342Z"
      },
      {
        "duration": 8,
        "start_time": "2022-10-17T12:10:28.357Z"
      },
      {
        "duration": 8,
        "start_time": "2022-10-17T12:10:28.366Z"
      },
      {
        "duration": 7,
        "start_time": "2022-10-17T12:10:28.376Z"
      },
      {
        "duration": 18,
        "start_time": "2022-10-17T12:10:28.385Z"
      },
      {
        "duration": 5,
        "start_time": "2022-10-17T12:10:28.409Z"
      },
      {
        "duration": 21,
        "start_time": "2022-10-17T12:10:28.415Z"
      },
      {
        "duration": 166,
        "start_time": "2022-10-17T12:10:28.438Z"
      },
      {
        "duration": 17,
        "start_time": "2022-10-17T12:10:28.608Z"
      },
      {
        "duration": 6,
        "start_time": "2022-10-17T12:10:28.627Z"
      },
      {
        "duration": 4,
        "start_time": "2022-10-17T12:10:28.635Z"
      },
      {
        "duration": 5,
        "start_time": "2022-10-17T12:10:28.640Z"
      },
      {
        "duration": 25,
        "start_time": "2022-10-17T12:10:28.647Z"
      },
      {
        "duration": 39,
        "start_time": "2022-10-17T12:10:28.674Z"
      },
      {
        "duration": 24,
        "start_time": "2022-10-17T12:10:28.715Z"
      },
      {
        "duration": 4,
        "start_time": "2022-10-17T12:10:28.740Z"
      },
      {
        "duration": 18,
        "start_time": "2022-10-17T12:10:28.745Z"
      },
      {
        "duration": 3,
        "start_time": "2022-10-17T12:10:28.764Z"
      },
      {
        "duration": 41,
        "start_time": "2022-10-17T12:10:28.768Z"
      },
      {
        "duration": 11,
        "start_time": "2022-10-17T12:10:28.811Z"
      },
      {
        "duration": 6,
        "start_time": "2022-10-17T12:10:28.823Z"
      },
      {
        "duration": 5,
        "start_time": "2022-10-17T12:10:28.830Z"
      },
      {
        "duration": 7,
        "start_time": "2022-10-17T12:10:28.837Z"
      },
      {
        "duration": 7,
        "start_time": "2022-10-17T12:10:28.846Z"
      },
      {
        "duration": 9,
        "start_time": "2022-10-17T12:10:28.855Z"
      },
      {
        "duration": 6,
        "start_time": "2022-10-17T12:10:28.865Z"
      },
      {
        "duration": 48,
        "start_time": "2022-10-17T12:10:28.872Z"
      },
      {
        "duration": 23,
        "start_time": "2022-10-17T12:10:28.922Z"
      },
      {
        "duration": 163,
        "start_time": "2022-10-17T12:10:28.946Z"
      },
      {
        "duration": 0,
        "start_time": "2022-10-17T12:10:29.110Z"
      },
      {
        "duration": 1403,
        "start_time": "2022-10-17T12:13:44.594Z"
      },
      {
        "duration": 31,
        "start_time": "2022-10-17T12:13:45.999Z"
      },
      {
        "duration": 17,
        "start_time": "2022-10-17T12:13:46.031Z"
      },
      {
        "duration": 18,
        "start_time": "2022-10-17T12:13:46.049Z"
      },
      {
        "duration": 7,
        "start_time": "2022-10-17T12:13:46.070Z"
      },
      {
        "duration": 8,
        "start_time": "2022-10-17T12:13:46.078Z"
      },
      {
        "duration": 28,
        "start_time": "2022-10-17T12:13:46.087Z"
      },
      {
        "duration": 9,
        "start_time": "2022-10-17T12:13:46.117Z"
      },
      {
        "duration": 11,
        "start_time": "2022-10-17T12:13:46.128Z"
      },
      {
        "duration": 17,
        "start_time": "2022-10-17T12:13:46.141Z"
      },
      {
        "duration": 10,
        "start_time": "2022-10-17T12:13:46.159Z"
      },
      {
        "duration": 21,
        "start_time": "2022-10-17T12:13:46.171Z"
      },
      {
        "duration": 16,
        "start_time": "2022-10-17T12:13:46.208Z"
      },
      {
        "duration": 8,
        "start_time": "2022-10-17T12:13:46.227Z"
      },
      {
        "duration": 32,
        "start_time": "2022-10-17T12:13:46.236Z"
      },
      {
        "duration": 13,
        "start_time": "2022-10-17T12:13:46.269Z"
      },
      {
        "duration": 36,
        "start_time": "2022-10-17T12:13:46.284Z"
      },
      {
        "duration": 21,
        "start_time": "2022-10-17T12:13:46.322Z"
      },
      {
        "duration": 22,
        "start_time": "2022-10-17T12:13:46.344Z"
      },
      {
        "duration": 19,
        "start_time": "2022-10-17T12:13:46.367Z"
      },
      {
        "duration": 30,
        "start_time": "2022-10-17T12:13:46.387Z"
      },
      {
        "duration": 4,
        "start_time": "2022-10-17T12:13:46.418Z"
      },
      {
        "duration": 26,
        "start_time": "2022-10-17T12:13:46.423Z"
      },
      {
        "duration": 17,
        "start_time": "2022-10-17T12:13:46.451Z"
      },
      {
        "duration": 35,
        "start_time": "2022-10-17T12:13:46.469Z"
      },
      {
        "duration": 6,
        "start_time": "2022-10-17T12:13:46.505Z"
      },
      {
        "duration": 30,
        "start_time": "2022-10-17T12:13:46.513Z"
      },
      {
        "duration": 28,
        "start_time": "2022-10-17T12:13:46.545Z"
      },
      {
        "duration": 24,
        "start_time": "2022-10-17T12:13:46.574Z"
      },
      {
        "duration": 26,
        "start_time": "2022-10-17T12:13:46.600Z"
      },
      {
        "duration": 8,
        "start_time": "2022-10-17T12:13:46.627Z"
      },
      {
        "duration": 4,
        "start_time": "2022-10-17T12:13:46.636Z"
      },
      {
        "duration": 6,
        "start_time": "2022-10-17T12:13:46.641Z"
      },
      {
        "duration": 6,
        "start_time": "2022-10-17T12:13:46.648Z"
      },
      {
        "duration": 8,
        "start_time": "2022-10-17T12:13:46.655Z"
      },
      {
        "duration": 6,
        "start_time": "2022-10-17T12:13:46.665Z"
      },
      {
        "duration": 7,
        "start_time": "2022-10-17T12:13:46.673Z"
      },
      {
        "duration": 14,
        "start_time": "2022-10-17T12:13:46.681Z"
      },
      {
        "duration": 36,
        "start_time": "2022-10-17T12:13:46.697Z"
      },
      {
        "duration": 53,
        "start_time": "2022-10-17T12:13:46.734Z"
      },
      {
        "duration": 14,
        "start_time": "2022-10-17T12:13:46.791Z"
      },
      {
        "duration": 61,
        "start_time": "2022-10-17T12:13:46.806Z"
      },
      {
        "duration": 119,
        "start_time": "2022-10-17T12:13:46.869Z"
      },
      {
        "duration": 21,
        "start_time": "2022-10-17T12:13:46.990Z"
      },
      {
        "duration": 5,
        "start_time": "2022-10-17T12:13:47.013Z"
      },
      {
        "duration": 4,
        "start_time": "2022-10-17T12:13:47.019Z"
      },
      {
        "duration": 4,
        "start_time": "2022-10-17T12:13:47.025Z"
      },
      {
        "duration": 27,
        "start_time": "2022-10-17T12:13:47.031Z"
      },
      {
        "duration": 19,
        "start_time": "2022-10-17T12:13:47.060Z"
      },
      {
        "duration": 30,
        "start_time": "2022-10-17T12:13:47.080Z"
      },
      {
        "duration": 19,
        "start_time": "2022-10-17T12:13:47.112Z"
      },
      {
        "duration": 5,
        "start_time": "2022-10-17T12:13:47.133Z"
      },
      {
        "duration": 14,
        "start_time": "2022-10-17T12:13:47.140Z"
      },
      {
        "duration": 7,
        "start_time": "2022-10-17T12:13:47.155Z"
      },
      {
        "duration": 4,
        "start_time": "2022-10-17T12:13:47.163Z"
      },
      {
        "duration": 6,
        "start_time": "2022-10-17T12:13:47.169Z"
      },
      {
        "duration": 34,
        "start_time": "2022-10-17T12:13:47.176Z"
      },
      {
        "duration": 5,
        "start_time": "2022-10-17T12:13:47.212Z"
      },
      {
        "duration": 4,
        "start_time": "2022-10-17T12:13:47.218Z"
      },
      {
        "duration": 13,
        "start_time": "2022-10-17T12:13:47.224Z"
      },
      {
        "duration": 24,
        "start_time": "2022-10-17T12:13:47.239Z"
      },
      {
        "duration": 5,
        "start_time": "2022-10-17T12:13:47.265Z"
      },
      {
        "duration": 177,
        "start_time": "2022-10-17T12:13:47.271Z"
      },
      {
        "duration": 0,
        "start_time": "2022-10-17T12:13:47.450Z"
      },
      {
        "duration": 1381,
        "start_time": "2022-10-17T12:15:40.612Z"
      },
      {
        "duration": 32,
        "start_time": "2022-10-17T12:15:41.994Z"
      },
      {
        "duration": 14,
        "start_time": "2022-10-17T12:15:42.027Z"
      },
      {
        "duration": 12,
        "start_time": "2022-10-17T12:15:42.043Z"
      },
      {
        "duration": 8,
        "start_time": "2022-10-17T12:15:42.057Z"
      },
      {
        "duration": 7,
        "start_time": "2022-10-17T12:15:42.066Z"
      },
      {
        "duration": 18,
        "start_time": "2022-10-17T12:15:42.074Z"
      },
      {
        "duration": 21,
        "start_time": "2022-10-17T12:15:42.093Z"
      },
      {
        "duration": 11,
        "start_time": "2022-10-17T12:15:42.116Z"
      },
      {
        "duration": 16,
        "start_time": "2022-10-17T12:15:42.129Z"
      },
      {
        "duration": 10,
        "start_time": "2022-10-17T12:15:42.147Z"
      },
      {
        "duration": 11,
        "start_time": "2022-10-17T12:15:42.158Z"
      },
      {
        "duration": 13,
        "start_time": "2022-10-17T12:15:42.171Z"
      },
      {
        "duration": 23,
        "start_time": "2022-10-17T12:15:42.187Z"
      },
      {
        "duration": 12,
        "start_time": "2022-10-17T12:15:42.212Z"
      },
      {
        "duration": 5,
        "start_time": "2022-10-17T12:15:42.226Z"
      },
      {
        "duration": 25,
        "start_time": "2022-10-17T12:15:42.232Z"
      },
      {
        "duration": 18,
        "start_time": "2022-10-17T12:15:42.259Z"
      },
      {
        "duration": 49,
        "start_time": "2022-10-17T12:15:42.279Z"
      },
      {
        "duration": 15,
        "start_time": "2022-10-17T12:15:42.330Z"
      },
      {
        "duration": 21,
        "start_time": "2022-10-17T12:15:42.346Z"
      },
      {
        "duration": 4,
        "start_time": "2022-10-17T12:15:42.369Z"
      },
      {
        "duration": 12,
        "start_time": "2022-10-17T12:15:42.374Z"
      },
      {
        "duration": 27,
        "start_time": "2022-10-17T12:15:42.387Z"
      },
      {
        "duration": 19,
        "start_time": "2022-10-17T12:15:42.415Z"
      },
      {
        "duration": 2,
        "start_time": "2022-10-17T12:15:42.436Z"
      },
      {
        "duration": 9,
        "start_time": "2022-10-17T12:15:42.440Z"
      },
      {
        "duration": 14,
        "start_time": "2022-10-17T12:15:42.451Z"
      },
      {
        "duration": 6,
        "start_time": "2022-10-17T12:15:42.466Z"
      },
      {
        "duration": 10,
        "start_time": "2022-10-17T12:15:42.473Z"
      },
      {
        "duration": 25,
        "start_time": "2022-10-17T12:15:42.484Z"
      },
      {
        "duration": 4,
        "start_time": "2022-10-17T12:15:42.510Z"
      },
      {
        "duration": 8,
        "start_time": "2022-10-17T12:15:42.515Z"
      },
      {
        "duration": 9,
        "start_time": "2022-10-17T12:15:42.524Z"
      },
      {
        "duration": 8,
        "start_time": "2022-10-17T12:15:42.534Z"
      },
      {
        "duration": 6,
        "start_time": "2022-10-17T12:15:42.543Z"
      },
      {
        "duration": 7,
        "start_time": "2022-10-17T12:15:42.551Z"
      },
      {
        "duration": 6,
        "start_time": "2022-10-17T12:15:42.559Z"
      },
      {
        "duration": 5,
        "start_time": "2022-10-17T12:15:42.567Z"
      },
      {
        "duration": 47,
        "start_time": "2022-10-17T12:15:42.574Z"
      },
      {
        "duration": 4,
        "start_time": "2022-10-17T12:15:42.625Z"
      },
      {
        "duration": 20,
        "start_time": "2022-10-17T12:15:42.631Z"
      },
      {
        "duration": 142,
        "start_time": "2022-10-17T12:15:42.653Z"
      },
      {
        "duration": 21,
        "start_time": "2022-10-17T12:15:42.797Z"
      },
      {
        "duration": 133,
        "start_time": "2022-10-17T12:15:42.819Z"
      },
      {
        "duration": 0,
        "start_time": "2022-10-17T12:15:42.953Z"
      },
      {
        "duration": 0,
        "start_time": "2022-10-17T12:15:42.955Z"
      },
      {
        "duration": 0,
        "start_time": "2022-10-17T12:15:42.956Z"
      },
      {
        "duration": 0,
        "start_time": "2022-10-17T12:15:42.957Z"
      },
      {
        "duration": 0,
        "start_time": "2022-10-17T12:15:42.958Z"
      },
      {
        "duration": 0,
        "start_time": "2022-10-17T12:15:42.959Z"
      },
      {
        "duration": 0,
        "start_time": "2022-10-17T12:15:42.960Z"
      },
      {
        "duration": 0,
        "start_time": "2022-10-17T12:15:42.960Z"
      },
      {
        "duration": 0,
        "start_time": "2022-10-17T12:15:42.961Z"
      },
      {
        "duration": 0,
        "start_time": "2022-10-17T12:15:42.962Z"
      },
      {
        "duration": 0,
        "start_time": "2022-10-17T12:15:42.962Z"
      },
      {
        "duration": 0,
        "start_time": "2022-10-17T12:15:42.963Z"
      },
      {
        "duration": 0,
        "start_time": "2022-10-17T12:15:42.964Z"
      },
      {
        "duration": 0,
        "start_time": "2022-10-17T12:15:42.965Z"
      },
      {
        "duration": 0,
        "start_time": "2022-10-17T12:15:42.966Z"
      },
      {
        "duration": 0,
        "start_time": "2022-10-17T12:15:42.967Z"
      },
      {
        "duration": 0,
        "start_time": "2022-10-17T12:15:42.968Z"
      },
      {
        "duration": 1481,
        "start_time": "2022-10-17T12:55:30.643Z"
      },
      {
        "duration": 40,
        "start_time": "2022-10-17T12:55:32.126Z"
      },
      {
        "duration": 20,
        "start_time": "2022-10-17T12:55:32.167Z"
      },
      {
        "duration": 17,
        "start_time": "2022-10-17T12:55:32.189Z"
      },
      {
        "duration": 6,
        "start_time": "2022-10-17T12:55:32.209Z"
      },
      {
        "duration": 9,
        "start_time": "2022-10-17T12:55:32.217Z"
      },
      {
        "duration": 21,
        "start_time": "2022-10-17T12:55:32.227Z"
      },
      {
        "duration": 11,
        "start_time": "2022-10-17T12:55:32.250Z"
      },
      {
        "duration": 14,
        "start_time": "2022-10-17T12:55:32.263Z"
      },
      {
        "duration": 35,
        "start_time": "2022-10-17T12:55:32.278Z"
      },
      {
        "duration": 14,
        "start_time": "2022-10-17T12:55:32.314Z"
      },
      {
        "duration": 16,
        "start_time": "2022-10-17T12:55:32.329Z"
      },
      {
        "duration": 11,
        "start_time": "2022-10-17T12:55:32.347Z"
      },
      {
        "duration": 7,
        "start_time": "2022-10-17T12:55:32.362Z"
      },
      {
        "duration": 10,
        "start_time": "2022-10-17T12:55:32.371Z"
      },
      {
        "duration": 5,
        "start_time": "2022-10-17T12:55:32.382Z"
      },
      {
        "duration": 21,
        "start_time": "2022-10-17T12:55:32.409Z"
      },
      {
        "duration": 18,
        "start_time": "2022-10-17T12:55:32.431Z"
      },
      {
        "duration": 24,
        "start_time": "2022-10-17T12:55:32.450Z"
      },
      {
        "duration": 42,
        "start_time": "2022-10-17T12:55:32.475Z"
      },
      {
        "duration": 22,
        "start_time": "2022-10-17T12:55:32.519Z"
      },
      {
        "duration": 5,
        "start_time": "2022-10-17T12:55:32.542Z"
      },
      {
        "duration": 7,
        "start_time": "2022-10-17T12:55:32.548Z"
      },
      {
        "duration": 6,
        "start_time": "2022-10-17T12:55:32.556Z"
      },
      {
        "duration": 18,
        "start_time": "2022-10-17T12:55:32.563Z"
      },
      {
        "duration": 2,
        "start_time": "2022-10-17T12:55:32.609Z"
      },
      {
        "duration": 8,
        "start_time": "2022-10-17T12:55:32.613Z"
      },
      {
        "duration": 19,
        "start_time": "2022-10-17T12:55:32.622Z"
      },
      {
        "duration": 5,
        "start_time": "2022-10-17T12:55:32.643Z"
      },
      {
        "duration": 11,
        "start_time": "2022-10-17T12:55:32.650Z"
      },
      {
        "duration": 10,
        "start_time": "2022-10-17T12:55:32.663Z"
      },
      {
        "duration": 6,
        "start_time": "2022-10-17T12:55:32.674Z"
      },
      {
        "duration": 28,
        "start_time": "2022-10-17T12:55:32.681Z"
      },
      {
        "duration": 6,
        "start_time": "2022-10-17T12:55:32.711Z"
      },
      {
        "duration": 8,
        "start_time": "2022-10-17T12:55:32.719Z"
      },
      {
        "duration": 5,
        "start_time": "2022-10-17T12:55:32.729Z"
      },
      {
        "duration": 7,
        "start_time": "2022-10-17T12:55:32.736Z"
      },
      {
        "duration": 6,
        "start_time": "2022-10-17T12:55:32.745Z"
      },
      {
        "duration": 7,
        "start_time": "2022-10-17T12:55:32.753Z"
      },
      {
        "duration": 56,
        "start_time": "2022-10-17T12:55:32.762Z"
      },
      {
        "duration": 5,
        "start_time": "2022-10-17T12:55:32.824Z"
      },
      {
        "duration": 39,
        "start_time": "2022-10-17T12:55:32.830Z"
      },
      {
        "duration": 138,
        "start_time": "2022-10-17T12:55:32.871Z"
      },
      {
        "duration": 17,
        "start_time": "2022-10-17T12:55:33.010Z"
      },
      {
        "duration": 24,
        "start_time": "2022-10-17T12:55:33.029Z"
      },
      {
        "duration": 20,
        "start_time": "2022-10-17T12:55:33.055Z"
      },
      {
        "duration": 3,
        "start_time": "2022-10-17T12:55:33.077Z"
      },
      {
        "duration": 29,
        "start_time": "2022-10-17T12:55:33.082Z"
      },
      {
        "duration": 5,
        "start_time": "2022-10-17T12:55:33.113Z"
      },
      {
        "duration": 17,
        "start_time": "2022-10-17T12:55:33.120Z"
      },
      {
        "duration": 7,
        "start_time": "2022-10-17T12:55:33.139Z"
      },
      {
        "duration": 6,
        "start_time": "2022-10-17T12:55:33.148Z"
      },
      {
        "duration": 9,
        "start_time": "2022-10-17T12:55:33.156Z"
      },
      {
        "duration": 4,
        "start_time": "2022-10-17T12:55:33.166Z"
      },
      {
        "duration": 186,
        "start_time": "2022-10-17T12:55:33.172Z"
      },
      {
        "duration": 0,
        "start_time": "2022-10-17T12:55:33.360Z"
      },
      {
        "duration": 0,
        "start_time": "2022-10-17T12:55:33.361Z"
      },
      {
        "duration": 0,
        "start_time": "2022-10-17T12:55:33.363Z"
      },
      {
        "duration": 0,
        "start_time": "2022-10-17T12:55:33.364Z"
      },
      {
        "duration": 0,
        "start_time": "2022-10-17T12:55:33.366Z"
      },
      {
        "duration": 0,
        "start_time": "2022-10-17T12:55:33.367Z"
      },
      {
        "duration": 0,
        "start_time": "2022-10-17T12:55:33.368Z"
      },
      {
        "duration": 0,
        "start_time": "2022-10-17T12:55:33.370Z"
      },
      {
        "duration": 1636,
        "start_time": "2022-10-17T12:56:04.129Z"
      },
      {
        "duration": 33,
        "start_time": "2022-10-17T12:56:05.767Z"
      },
      {
        "duration": 16,
        "start_time": "2022-10-17T12:56:05.801Z"
      },
      {
        "duration": 13,
        "start_time": "2022-10-17T12:56:05.819Z"
      },
      {
        "duration": 12,
        "start_time": "2022-10-17T12:56:05.833Z"
      },
      {
        "duration": 10,
        "start_time": "2022-10-17T12:56:05.846Z"
      },
      {
        "duration": 17,
        "start_time": "2022-10-17T12:56:05.857Z"
      },
      {
        "duration": 9,
        "start_time": "2022-10-17T12:56:05.875Z"
      },
      {
        "duration": 33,
        "start_time": "2022-10-17T12:56:05.886Z"
      },
      {
        "duration": 20,
        "start_time": "2022-10-17T12:56:05.922Z"
      },
      {
        "duration": 10,
        "start_time": "2022-10-17T12:56:05.944Z"
      },
      {
        "duration": 15,
        "start_time": "2022-10-17T12:56:05.956Z"
      },
      {
        "duration": 14,
        "start_time": "2022-10-17T12:56:05.973Z"
      },
      {
        "duration": 21,
        "start_time": "2022-10-17T12:56:05.989Z"
      },
      {
        "duration": 16,
        "start_time": "2022-10-17T12:56:06.012Z"
      },
      {
        "duration": 6,
        "start_time": "2022-10-17T12:56:06.030Z"
      },
      {
        "duration": 25,
        "start_time": "2022-10-17T12:56:06.037Z"
      },
      {
        "duration": 20,
        "start_time": "2022-10-17T12:56:06.063Z"
      },
      {
        "duration": 56,
        "start_time": "2022-10-17T12:56:06.085Z"
      },
      {
        "duration": 15,
        "start_time": "2022-10-17T12:56:06.143Z"
      },
      {
        "duration": 22,
        "start_time": "2022-10-17T12:56:06.160Z"
      },
      {
        "duration": 27,
        "start_time": "2022-10-17T12:56:06.184Z"
      },
      {
        "duration": 10,
        "start_time": "2022-10-17T12:56:06.213Z"
      },
      {
        "duration": 7,
        "start_time": "2022-10-17T12:56:06.225Z"
      },
      {
        "duration": 18,
        "start_time": "2022-10-17T12:56:06.233Z"
      },
      {
        "duration": 2,
        "start_time": "2022-10-17T12:56:06.253Z"
      },
      {
        "duration": 8,
        "start_time": "2022-10-17T12:56:06.256Z"
      },
      {
        "duration": 11,
        "start_time": "2022-10-17T12:56:06.268Z"
      },
      {
        "duration": 30,
        "start_time": "2022-10-17T12:56:06.281Z"
      },
      {
        "duration": 8,
        "start_time": "2022-10-17T12:56:06.313Z"
      },
      {
        "duration": 10,
        "start_time": "2022-10-17T12:56:06.323Z"
      },
      {
        "duration": 7,
        "start_time": "2022-10-17T12:56:06.334Z"
      },
      {
        "duration": 8,
        "start_time": "2022-10-17T12:56:06.343Z"
      },
      {
        "duration": 5,
        "start_time": "2022-10-17T12:56:06.353Z"
      },
      {
        "duration": 12,
        "start_time": "2022-10-17T12:56:06.359Z"
      },
      {
        "duration": 4,
        "start_time": "2022-10-17T12:56:06.373Z"
      },
      {
        "duration": 37,
        "start_time": "2022-10-17T12:56:06.378Z"
      },
      {
        "duration": 10,
        "start_time": "2022-10-17T12:56:06.417Z"
      },
      {
        "duration": 6,
        "start_time": "2022-10-17T12:56:06.429Z"
      },
      {
        "duration": 18,
        "start_time": "2022-10-17T12:56:06.437Z"
      },
      {
        "duration": 4,
        "start_time": "2022-10-17T12:56:06.457Z"
      },
      {
        "duration": 25,
        "start_time": "2022-10-17T12:56:06.463Z"
      },
      {
        "duration": 139,
        "start_time": "2022-10-17T12:56:06.508Z"
      },
      {
        "duration": 17,
        "start_time": "2022-10-17T12:56:06.649Z"
      },
      {
        "duration": 44,
        "start_time": "2022-10-17T12:56:06.668Z"
      },
      {
        "duration": 22,
        "start_time": "2022-10-17T12:56:06.713Z"
      },
      {
        "duration": 5,
        "start_time": "2022-10-17T12:56:06.737Z"
      },
      {
        "duration": 10,
        "start_time": "2022-10-17T12:56:06.744Z"
      },
      {
        "duration": 4,
        "start_time": "2022-10-17T12:56:06.756Z"
      },
      {
        "duration": 15,
        "start_time": "2022-10-17T12:56:06.761Z"
      },
      {
        "duration": 35,
        "start_time": "2022-10-17T12:56:06.779Z"
      },
      {
        "duration": 9,
        "start_time": "2022-10-17T12:56:06.816Z"
      },
      {
        "duration": 16,
        "start_time": "2022-10-17T12:56:06.826Z"
      },
      {
        "duration": 11,
        "start_time": "2022-10-17T12:56:06.844Z"
      },
      {
        "duration": 15,
        "start_time": "2022-10-17T12:56:06.857Z"
      },
      {
        "duration": 26,
        "start_time": "2022-10-17T12:56:06.874Z"
      },
      {
        "duration": 7,
        "start_time": "2022-10-17T12:56:06.902Z"
      },
      {
        "duration": 140,
        "start_time": "2022-10-17T12:56:06.911Z"
      },
      {
        "duration": 0,
        "start_time": "2022-10-17T12:56:07.052Z"
      },
      {
        "duration": 0,
        "start_time": "2022-10-17T12:56:07.053Z"
      },
      {
        "duration": 0,
        "start_time": "2022-10-17T12:56:07.055Z"
      },
      {
        "duration": 0,
        "start_time": "2022-10-17T12:56:07.056Z"
      },
      {
        "duration": 0,
        "start_time": "2022-10-17T12:56:07.057Z"
      },
      {
        "duration": 1393,
        "start_time": "2022-10-17T12:57:26.228Z"
      },
      {
        "duration": 33,
        "start_time": "2022-10-17T12:57:27.623Z"
      },
      {
        "duration": 13,
        "start_time": "2022-10-17T12:57:27.658Z"
      },
      {
        "duration": 12,
        "start_time": "2022-10-17T12:57:27.673Z"
      },
      {
        "duration": 6,
        "start_time": "2022-10-17T12:57:27.687Z"
      },
      {
        "duration": 17,
        "start_time": "2022-10-17T12:57:27.694Z"
      },
      {
        "duration": 20,
        "start_time": "2022-10-17T12:57:27.713Z"
      },
      {
        "duration": 8,
        "start_time": "2022-10-17T12:57:27.735Z"
      },
      {
        "duration": 13,
        "start_time": "2022-10-17T12:57:27.744Z"
      },
      {
        "duration": 20,
        "start_time": "2022-10-17T12:57:27.758Z"
      },
      {
        "duration": 11,
        "start_time": "2022-10-17T12:57:27.780Z"
      },
      {
        "duration": 30,
        "start_time": "2022-10-17T12:57:27.792Z"
      },
      {
        "duration": 17,
        "start_time": "2022-10-17T12:57:27.824Z"
      },
      {
        "duration": 8,
        "start_time": "2022-10-17T12:57:27.844Z"
      },
      {
        "duration": 10,
        "start_time": "2022-10-17T12:57:27.853Z"
      },
      {
        "duration": 4,
        "start_time": "2022-10-17T12:57:27.865Z"
      },
      {
        "duration": 23,
        "start_time": "2022-10-17T12:57:27.871Z"
      },
      {
        "duration": 31,
        "start_time": "2022-10-17T12:57:27.895Z"
      },
      {
        "duration": 29,
        "start_time": "2022-10-17T12:57:27.928Z"
      },
      {
        "duration": 21,
        "start_time": "2022-10-17T12:57:27.959Z"
      },
      {
        "duration": 43,
        "start_time": "2022-10-17T12:57:27.982Z"
      },
      {
        "duration": 4,
        "start_time": "2022-10-17T12:57:28.027Z"
      },
      {
        "duration": 5,
        "start_time": "2022-10-17T12:57:28.032Z"
      },
      {
        "duration": 6,
        "start_time": "2022-10-17T12:57:28.038Z"
      },
      {
        "duration": 20,
        "start_time": "2022-10-17T12:57:28.045Z"
      },
      {
        "duration": 2,
        "start_time": "2022-10-17T12:57:28.067Z"
      },
      {
        "duration": 10,
        "start_time": "2022-10-17T12:57:28.070Z"
      },
      {
        "duration": 40,
        "start_time": "2022-10-17T12:57:28.081Z"
      },
      {
        "duration": 8,
        "start_time": "2022-10-17T12:57:28.122Z"
      },
      {
        "duration": 6,
        "start_time": "2022-10-17T12:57:28.132Z"
      },
      {
        "duration": 14,
        "start_time": "2022-10-17T12:57:28.140Z"
      },
      {
        "duration": 6,
        "start_time": "2022-10-17T12:57:28.155Z"
      },
      {
        "duration": 5,
        "start_time": "2022-10-17T12:57:28.162Z"
      },
      {
        "duration": 5,
        "start_time": "2022-10-17T12:57:28.169Z"
      },
      {
        "duration": 6,
        "start_time": "2022-10-17T12:57:28.176Z"
      },
      {
        "duration": 44,
        "start_time": "2022-10-17T12:57:28.183Z"
      },
      {
        "duration": 31,
        "start_time": "2022-10-17T12:57:28.229Z"
      },
      {
        "duration": 8,
        "start_time": "2022-10-17T12:57:28.261Z"
      },
      {
        "duration": 10,
        "start_time": "2022-10-17T12:57:28.270Z"
      },
      {
        "duration": 20,
        "start_time": "2022-10-17T12:57:28.281Z"
      },
      {
        "duration": 7,
        "start_time": "2022-10-17T12:57:28.304Z"
      },
      {
        "duration": 25,
        "start_time": "2022-10-17T12:57:28.317Z"
      },
      {
        "duration": 140,
        "start_time": "2022-10-17T12:57:28.344Z"
      },
      {
        "duration": 17,
        "start_time": "2022-10-17T12:57:28.486Z"
      },
      {
        "duration": 2,
        "start_time": "2022-10-17T12:57:28.508Z"
      },
      {
        "duration": 24,
        "start_time": "2022-10-17T12:57:28.511Z"
      },
      {
        "duration": 5,
        "start_time": "2022-10-17T12:57:28.536Z"
      },
      {
        "duration": 20,
        "start_time": "2022-10-17T12:57:28.543Z"
      },
      {
        "duration": 10,
        "start_time": "2022-10-17T12:57:28.564Z"
      },
      {
        "duration": 25,
        "start_time": "2022-10-17T12:57:28.576Z"
      },
      {
        "duration": 22,
        "start_time": "2022-10-17T12:57:28.603Z"
      },
      {
        "duration": 14,
        "start_time": "2022-10-17T12:57:28.626Z"
      },
      {
        "duration": 39,
        "start_time": "2022-10-17T12:57:28.641Z"
      },
      {
        "duration": 44,
        "start_time": "2022-10-17T12:57:28.682Z"
      },
      {
        "duration": 16,
        "start_time": "2022-10-17T12:57:28.728Z"
      },
      {
        "duration": 28,
        "start_time": "2022-10-17T12:57:28.746Z"
      },
      {
        "duration": 29,
        "start_time": "2022-10-17T12:57:28.776Z"
      },
      {
        "duration": 166,
        "start_time": "2022-10-17T12:57:28.806Z"
      },
      {
        "duration": 0,
        "start_time": "2022-10-17T12:57:28.974Z"
      },
      {
        "duration": 1,
        "start_time": "2022-10-17T12:57:28.975Z"
      },
      {
        "duration": 0,
        "start_time": "2022-10-17T12:57:28.977Z"
      },
      {
        "duration": 0,
        "start_time": "2022-10-17T12:57:28.978Z"
      },
      {
        "duration": 0,
        "start_time": "2022-10-17T12:57:28.979Z"
      },
      {
        "duration": 14,
        "start_time": "2022-10-17T12:58:38.362Z"
      },
      {
        "duration": 5,
        "start_time": "2022-10-17T13:00:32.682Z"
      },
      {
        "duration": 9,
        "start_time": "2022-10-17T13:00:44.879Z"
      },
      {
        "duration": 16,
        "start_time": "2022-10-17T13:01:37.190Z"
      },
      {
        "duration": 5,
        "start_time": "2022-10-17T13:02:01.801Z"
      },
      {
        "duration": 6,
        "start_time": "2022-10-17T13:05:42.716Z"
      },
      {
        "duration": 12,
        "start_time": "2022-10-17T13:05:46.139Z"
      },
      {
        "duration": 6,
        "start_time": "2022-10-17T13:05:58.577Z"
      },
      {
        "duration": 11,
        "start_time": "2022-10-17T13:06:04.316Z"
      },
      {
        "duration": 9,
        "start_time": "2022-10-17T13:06:05.222Z"
      },
      {
        "duration": 1492,
        "start_time": "2022-10-17T13:06:55.996Z"
      },
      {
        "duration": 32,
        "start_time": "2022-10-17T13:06:57.489Z"
      },
      {
        "duration": 15,
        "start_time": "2022-10-17T13:06:57.523Z"
      },
      {
        "duration": 13,
        "start_time": "2022-10-17T13:06:57.539Z"
      },
      {
        "duration": 12,
        "start_time": "2022-10-17T13:06:57.554Z"
      },
      {
        "duration": 6,
        "start_time": "2022-10-17T13:06:57.568Z"
      },
      {
        "duration": 20,
        "start_time": "2022-10-17T13:06:57.576Z"
      },
      {
        "duration": 15,
        "start_time": "2022-10-17T13:06:57.598Z"
      },
      {
        "duration": 17,
        "start_time": "2022-10-17T13:06:57.615Z"
      },
      {
        "duration": 16,
        "start_time": "2022-10-17T13:06:57.636Z"
      },
      {
        "duration": 9,
        "start_time": "2022-10-17T13:06:57.653Z"
      },
      {
        "duration": 26,
        "start_time": "2022-10-17T13:06:57.664Z"
      },
      {
        "duration": 17,
        "start_time": "2022-10-17T13:06:57.691Z"
      },
      {
        "duration": 6,
        "start_time": "2022-10-17T13:06:57.710Z"
      },
      {
        "duration": 12,
        "start_time": "2022-10-17T13:06:57.717Z"
      },
      {
        "duration": 6,
        "start_time": "2022-10-17T13:06:57.730Z"
      },
      {
        "duration": 25,
        "start_time": "2022-10-17T13:06:57.737Z"
      },
      {
        "duration": 18,
        "start_time": "2022-10-17T13:06:57.763Z"
      },
      {
        "duration": 44,
        "start_time": "2022-10-17T13:06:57.783Z"
      },
      {
        "duration": 15,
        "start_time": "2022-10-17T13:06:57.828Z"
      },
      {
        "duration": 21,
        "start_time": "2022-10-17T13:06:57.845Z"
      },
      {
        "duration": 6,
        "start_time": "2022-10-17T13:06:57.868Z"
      },
      {
        "duration": 6,
        "start_time": "2022-10-17T13:06:57.875Z"
      },
      {
        "duration": 30,
        "start_time": "2022-10-17T13:06:57.882Z"
      },
      {
        "duration": 15,
        "start_time": "2022-10-17T13:06:57.914Z"
      },
      {
        "duration": 3,
        "start_time": "2022-10-17T13:06:57.930Z"
      },
      {
        "duration": 13,
        "start_time": "2022-10-17T13:06:57.934Z"
      },
      {
        "duration": 10,
        "start_time": "2022-10-17T13:06:57.951Z"
      },
      {
        "duration": 5,
        "start_time": "2022-10-17T13:06:57.962Z"
      },
      {
        "duration": 5,
        "start_time": "2022-10-17T13:06:57.968Z"
      },
      {
        "duration": 35,
        "start_time": "2022-10-17T13:06:57.974Z"
      },
      {
        "duration": 5,
        "start_time": "2022-10-17T13:06:58.010Z"
      },
      {
        "duration": 8,
        "start_time": "2022-10-17T13:06:58.016Z"
      },
      {
        "duration": 5,
        "start_time": "2022-10-17T13:06:58.025Z"
      },
      {
        "duration": 10,
        "start_time": "2022-10-17T13:06:58.031Z"
      },
      {
        "duration": 5,
        "start_time": "2022-10-17T13:06:58.042Z"
      },
      {
        "duration": 6,
        "start_time": "2022-10-17T13:06:58.048Z"
      },
      {
        "duration": 6,
        "start_time": "2022-10-17T13:06:58.055Z"
      },
      {
        "duration": 5,
        "start_time": "2022-10-17T13:06:58.063Z"
      },
      {
        "duration": 45,
        "start_time": "2022-10-17T13:06:58.070Z"
      },
      {
        "duration": 4,
        "start_time": "2022-10-17T13:06:58.117Z"
      },
      {
        "duration": 26,
        "start_time": "2022-10-17T13:06:58.123Z"
      },
      {
        "duration": 134,
        "start_time": "2022-10-17T13:06:58.151Z"
      },
      {
        "duration": 25,
        "start_time": "2022-10-17T13:06:58.287Z"
      },
      {
        "duration": 2,
        "start_time": "2022-10-17T13:06:58.313Z"
      },
      {
        "duration": 23,
        "start_time": "2022-10-17T13:06:58.317Z"
      },
      {
        "duration": 5,
        "start_time": "2022-10-17T13:06:58.341Z"
      },
      {
        "duration": 7,
        "start_time": "2022-10-17T13:06:58.347Z"
      },
      {
        "duration": 6,
        "start_time": "2022-10-17T13:06:58.356Z"
      },
      {
        "duration": 18,
        "start_time": "2022-10-17T13:06:58.364Z"
      },
      {
        "duration": 7,
        "start_time": "2022-10-17T13:06:58.383Z"
      },
      {
        "duration": 20,
        "start_time": "2022-10-17T13:06:58.392Z"
      },
      {
        "duration": 7,
        "start_time": "2022-10-17T13:06:58.413Z"
      },
      {
        "duration": 4,
        "start_time": "2022-10-17T13:06:58.421Z"
      },
      {
        "duration": 14,
        "start_time": "2022-10-17T13:06:58.426Z"
      },
      {
        "duration": 18,
        "start_time": "2022-10-17T13:06:58.441Z"
      },
      {
        "duration": 6,
        "start_time": "2022-10-17T13:06:58.461Z"
      },
      {
        "duration": 5,
        "start_time": "2022-10-17T13:06:58.468Z"
      },
      {
        "duration": 35,
        "start_time": "2022-10-17T13:06:58.475Z"
      },
      {
        "duration": 6,
        "start_time": "2022-10-17T13:06:58.512Z"
      },
      {
        "duration": 17,
        "start_time": "2022-10-17T13:06:58.519Z"
      },
      {
        "duration": 238,
        "start_time": "2022-10-17T13:06:58.537Z"
      },
      {
        "duration": 2,
        "start_time": "2022-10-17T13:06:58.777Z"
      },
      {
        "duration": 4,
        "start_time": "2022-10-17T13:06:58.781Z"
      },
      {
        "duration": 151,
        "start_time": "2022-10-17T13:06:58.787Z"
      },
      {
        "duration": 0,
        "start_time": "2022-10-17T13:06:58.939Z"
      },
      {
        "duration": 0,
        "start_time": "2022-10-17T13:06:58.940Z"
      },
      {
        "duration": 64,
        "start_time": "2022-10-17T13:09:15.157Z"
      },
      {
        "duration": 9,
        "start_time": "2022-10-17T13:09:16.378Z"
      },
      {
        "duration": 9,
        "start_time": "2022-10-17T13:09:17.589Z"
      },
      {
        "duration": 9,
        "start_time": "2022-10-17T13:10:08.398Z"
      },
      {
        "duration": 9,
        "start_time": "2022-10-17T13:10:09.002Z"
      },
      {
        "duration": 11,
        "start_time": "2022-10-17T13:10:09.562Z"
      },
      {
        "duration": 1538,
        "start_time": "2022-10-17T13:11:32.875Z"
      },
      {
        "duration": 32,
        "start_time": "2022-10-17T13:11:34.415Z"
      },
      {
        "duration": 15,
        "start_time": "2022-10-17T13:11:34.449Z"
      },
      {
        "duration": 12,
        "start_time": "2022-10-17T13:11:34.466Z"
      },
      {
        "duration": 6,
        "start_time": "2022-10-17T13:11:34.480Z"
      },
      {
        "duration": 21,
        "start_time": "2022-10-17T13:11:34.488Z"
      },
      {
        "duration": 15,
        "start_time": "2022-10-17T13:11:34.511Z"
      },
      {
        "duration": 9,
        "start_time": "2022-10-17T13:11:34.527Z"
      },
      {
        "duration": 11,
        "start_time": "2022-10-17T13:11:34.538Z"
      },
      {
        "duration": 17,
        "start_time": "2022-10-17T13:11:34.552Z"
      },
      {
        "duration": 10,
        "start_time": "2022-10-17T13:11:34.570Z"
      },
      {
        "duration": 36,
        "start_time": "2022-10-17T13:11:34.582Z"
      },
      {
        "duration": 23,
        "start_time": "2022-10-17T13:11:34.619Z"
      },
      {
        "duration": 9,
        "start_time": "2022-10-17T13:11:34.644Z"
      },
      {
        "duration": 11,
        "start_time": "2022-10-17T13:11:34.655Z"
      },
      {
        "duration": 7,
        "start_time": "2022-10-17T13:11:34.668Z"
      },
      {
        "duration": 22,
        "start_time": "2022-10-17T13:11:34.677Z"
      },
      {
        "duration": 20,
        "start_time": "2022-10-17T13:11:34.709Z"
      },
      {
        "duration": 23,
        "start_time": "2022-10-17T13:11:34.731Z"
      },
      {
        "duration": 16,
        "start_time": "2022-10-17T13:11:34.756Z"
      },
      {
        "duration": 56,
        "start_time": "2022-10-17T13:11:34.774Z"
      },
      {
        "duration": 5,
        "start_time": "2022-10-17T13:11:34.833Z"
      },
      {
        "duration": 12,
        "start_time": "2022-10-17T13:11:34.840Z"
      },
      {
        "duration": 9,
        "start_time": "2022-10-17T13:11:34.854Z"
      },
      {
        "duration": 21,
        "start_time": "2022-10-17T13:11:34.864Z"
      },
      {
        "duration": 2,
        "start_time": "2022-10-17T13:11:34.887Z"
      },
      {
        "duration": 21,
        "start_time": "2022-10-17T13:11:34.891Z"
      },
      {
        "duration": 10,
        "start_time": "2022-10-17T13:11:34.916Z"
      },
      {
        "duration": 7,
        "start_time": "2022-10-17T13:11:34.928Z"
      },
      {
        "duration": 12,
        "start_time": "2022-10-17T13:11:34.937Z"
      },
      {
        "duration": 9,
        "start_time": "2022-10-17T13:11:34.950Z"
      },
      {
        "duration": 4,
        "start_time": "2022-10-17T13:11:34.960Z"
      },
      {
        "duration": 6,
        "start_time": "2022-10-17T13:11:34.966Z"
      },
      {
        "duration": 4,
        "start_time": "2022-10-17T13:11:34.974Z"
      },
      {
        "duration": 33,
        "start_time": "2022-10-17T13:11:34.980Z"
      },
      {
        "duration": 7,
        "start_time": "2022-10-17T13:11:35.015Z"
      },
      {
        "duration": 6,
        "start_time": "2022-10-17T13:11:35.024Z"
      },
      {
        "duration": 8,
        "start_time": "2022-10-17T13:11:35.032Z"
      },
      {
        "duration": 9,
        "start_time": "2022-10-17T13:11:35.041Z"
      },
      {
        "duration": 17,
        "start_time": "2022-10-17T13:11:35.051Z"
      },
      {
        "duration": 7,
        "start_time": "2022-10-17T13:11:35.070Z"
      },
      {
        "duration": 46,
        "start_time": "2022-10-17T13:11:35.078Z"
      },
      {
        "duration": 133,
        "start_time": "2022-10-17T13:11:35.126Z"
      },
      {
        "duration": 17,
        "start_time": "2022-10-17T13:11:35.261Z"
      },
      {
        "duration": 3,
        "start_time": "2022-10-17T13:11:35.280Z"
      },
      {
        "duration": 37,
        "start_time": "2022-10-17T13:11:35.285Z"
      },
      {
        "duration": 6,
        "start_time": "2022-10-17T13:11:35.324Z"
      },
      {
        "duration": 5,
        "start_time": "2022-10-17T13:11:35.331Z"
      },
      {
        "duration": 5,
        "start_time": "2022-10-17T13:11:35.338Z"
      },
      {
        "duration": 14,
        "start_time": "2022-10-17T13:11:35.345Z"
      },
      {
        "duration": 6,
        "start_time": "2022-10-17T13:11:35.361Z"
      },
      {
        "duration": 6,
        "start_time": "2022-10-17T13:11:35.369Z"
      },
      {
        "duration": 6,
        "start_time": "2022-10-17T13:11:35.410Z"
      },
      {
        "duration": 3,
        "start_time": "2022-10-17T13:11:35.418Z"
      },
      {
        "duration": 20,
        "start_time": "2022-10-17T13:11:35.423Z"
      },
      {
        "duration": 20,
        "start_time": "2022-10-17T13:11:35.444Z"
      },
      {
        "duration": 9,
        "start_time": "2022-10-17T13:11:35.466Z"
      },
      {
        "duration": 5,
        "start_time": "2022-10-17T13:11:35.476Z"
      },
      {
        "duration": 34,
        "start_time": "2022-10-17T13:11:35.483Z"
      },
      {
        "duration": 5,
        "start_time": "2022-10-17T13:11:35.518Z"
      },
      {
        "duration": 11,
        "start_time": "2022-10-17T13:11:35.525Z"
      },
      {
        "duration": 233,
        "start_time": "2022-10-17T13:11:35.538Z"
      },
      {
        "duration": 2,
        "start_time": "2022-10-17T13:11:35.773Z"
      },
      {
        "duration": 6,
        "start_time": "2022-10-17T13:11:35.777Z"
      },
      {
        "duration": 201,
        "start_time": "2022-10-17T13:11:35.785Z"
      },
      {
        "duration": 0,
        "start_time": "2022-10-17T13:11:35.988Z"
      },
      {
        "duration": 0,
        "start_time": "2022-10-17T13:11:35.989Z"
      },
      {
        "duration": 0,
        "start_time": "2022-10-17T13:11:35.990Z"
      },
      {
        "duration": 46,
        "start_time": "2022-10-17T13:12:01.907Z"
      },
      {
        "duration": 48,
        "start_time": "2022-10-17T13:12:28.116Z"
      },
      {
        "duration": 4,
        "start_time": "2022-10-17T13:14:25.973Z"
      },
      {
        "duration": 25,
        "start_time": "2022-10-17T13:14:26.943Z"
      },
      {
        "duration": 1363,
        "start_time": "2022-10-17T13:17:11.560Z"
      },
      {
        "duration": 33,
        "start_time": "2022-10-17T13:17:12.925Z"
      },
      {
        "duration": 14,
        "start_time": "2022-10-17T13:17:12.960Z"
      },
      {
        "duration": 12,
        "start_time": "2022-10-17T13:17:12.976Z"
      },
      {
        "duration": 22,
        "start_time": "2022-10-17T13:17:12.989Z"
      },
      {
        "duration": 7,
        "start_time": "2022-10-17T13:17:13.012Z"
      },
      {
        "duration": 28,
        "start_time": "2022-10-17T13:17:13.021Z"
      },
      {
        "duration": 8,
        "start_time": "2022-10-17T13:17:13.051Z"
      },
      {
        "duration": 18,
        "start_time": "2022-10-17T13:17:13.061Z"
      },
      {
        "duration": 26,
        "start_time": "2022-10-17T13:17:13.083Z"
      },
      {
        "duration": 10,
        "start_time": "2022-10-17T13:17:13.111Z"
      },
      {
        "duration": 12,
        "start_time": "2022-10-17T13:17:13.123Z"
      },
      {
        "duration": 15,
        "start_time": "2022-10-17T13:17:13.137Z"
      },
      {
        "duration": 7,
        "start_time": "2022-10-17T13:17:13.154Z"
      },
      {
        "duration": 13,
        "start_time": "2022-10-17T13:17:13.163Z"
      },
      {
        "duration": 6,
        "start_time": "2022-10-17T13:17:13.177Z"
      },
      {
        "duration": 37,
        "start_time": "2022-10-17T13:17:13.185Z"
      },
      {
        "duration": 19,
        "start_time": "2022-10-17T13:17:13.224Z"
      },
      {
        "duration": 23,
        "start_time": "2022-10-17T13:17:13.244Z"
      },
      {
        "duration": 40,
        "start_time": "2022-10-17T13:17:13.269Z"
      },
      {
        "duration": 26,
        "start_time": "2022-10-17T13:17:13.311Z"
      },
      {
        "duration": 5,
        "start_time": "2022-10-17T13:17:13.339Z"
      },
      {
        "duration": 19,
        "start_time": "2022-10-17T13:17:13.346Z"
      },
      {
        "duration": 28,
        "start_time": "2022-10-17T13:17:13.367Z"
      },
      {
        "duration": 54,
        "start_time": "2022-10-17T13:17:13.397Z"
      },
      {
        "duration": 21,
        "start_time": "2022-10-17T13:17:13.454Z"
      },
      {
        "duration": 23,
        "start_time": "2022-10-17T13:17:13.477Z"
      },
      {
        "duration": 45,
        "start_time": "2022-10-17T13:17:13.505Z"
      },
      {
        "duration": 24,
        "start_time": "2022-10-17T13:17:13.552Z"
      },
      {
        "duration": 28,
        "start_time": "2022-10-17T13:17:13.577Z"
      },
      {
        "duration": 36,
        "start_time": "2022-10-17T13:17:13.606Z"
      },
      {
        "duration": 14,
        "start_time": "2022-10-17T13:17:13.643Z"
      },
      {
        "duration": 32,
        "start_time": "2022-10-17T13:17:13.658Z"
      },
      {
        "duration": 25,
        "start_time": "2022-10-17T13:17:13.691Z"
      },
      {
        "duration": 24,
        "start_time": "2022-10-17T13:17:13.718Z"
      },
      {
        "duration": 24,
        "start_time": "2022-10-17T13:17:13.744Z"
      },
      {
        "duration": 19,
        "start_time": "2022-10-17T13:17:13.769Z"
      },
      {
        "duration": 45,
        "start_time": "2022-10-17T13:17:13.790Z"
      },
      {
        "duration": 33,
        "start_time": "2022-10-17T13:17:13.837Z"
      },
      {
        "duration": 36,
        "start_time": "2022-10-17T13:17:13.871Z"
      },
      {
        "duration": 36,
        "start_time": "2022-10-17T13:17:13.909Z"
      },
      {
        "duration": 34,
        "start_time": "2022-10-17T13:17:13.946Z"
      },
      {
        "duration": 132,
        "start_time": "2022-10-17T13:17:13.982Z"
      },
      {
        "duration": 17,
        "start_time": "2022-10-17T13:17:14.116Z"
      },
      {
        "duration": 2,
        "start_time": "2022-10-17T13:17:14.134Z"
      },
      {
        "duration": 24,
        "start_time": "2022-10-17T13:17:14.137Z"
      },
      {
        "duration": 5,
        "start_time": "2022-10-17T13:17:14.163Z"
      },
      {
        "duration": 11,
        "start_time": "2022-10-17T13:17:14.170Z"
      },
      {
        "duration": 28,
        "start_time": "2022-10-17T13:17:14.182Z"
      },
      {
        "duration": 22,
        "start_time": "2022-10-17T13:17:14.212Z"
      },
      {
        "duration": 10,
        "start_time": "2022-10-17T13:17:14.236Z"
      },
      {
        "duration": 10,
        "start_time": "2022-10-17T13:17:14.248Z"
      },
      {
        "duration": 8,
        "start_time": "2022-10-17T13:17:14.260Z"
      },
      {
        "duration": 7,
        "start_time": "2022-10-17T13:17:14.269Z"
      },
      {
        "duration": 33,
        "start_time": "2022-10-17T13:17:14.278Z"
      },
      {
        "duration": 19,
        "start_time": "2022-10-17T13:17:14.313Z"
      },
      {
        "duration": 4,
        "start_time": "2022-10-17T13:17:14.334Z"
      },
      {
        "duration": 24,
        "start_time": "2022-10-17T13:17:14.339Z"
      },
      {
        "duration": 25,
        "start_time": "2022-10-17T13:17:14.364Z"
      },
      {
        "duration": 17,
        "start_time": "2022-10-17T13:17:14.391Z"
      },
      {
        "duration": 32,
        "start_time": "2022-10-17T13:17:14.410Z"
      },
      {
        "duration": 239,
        "start_time": "2022-10-17T13:17:14.444Z"
      },
      {
        "duration": 2,
        "start_time": "2022-10-17T13:17:14.685Z"
      },
      {
        "duration": 11,
        "start_time": "2022-10-17T13:17:14.689Z"
      },
      {
        "duration": 192,
        "start_time": "2022-10-17T13:17:14.702Z"
      },
      {
        "duration": 0,
        "start_time": "2022-10-17T13:17:14.895Z"
      },
      {
        "duration": 0,
        "start_time": "2022-10-17T13:17:14.897Z"
      },
      {
        "duration": 0,
        "start_time": "2022-10-17T13:17:14.898Z"
      },
      {
        "duration": 0,
        "start_time": "2022-10-17T13:17:14.899Z"
      },
      {
        "duration": 0,
        "start_time": "2022-10-17T13:17:14.900Z"
      },
      {
        "duration": 0,
        "start_time": "2022-10-17T13:17:14.901Z"
      },
      {
        "duration": 0,
        "start_time": "2022-10-17T13:17:14.902Z"
      },
      {
        "duration": 0,
        "start_time": "2022-10-17T13:17:14.909Z"
      },
      {
        "duration": 1324,
        "start_time": "2022-10-17T14:15:37.537Z"
      },
      {
        "duration": 32,
        "start_time": "2022-10-17T14:15:38.863Z"
      },
      {
        "duration": 17,
        "start_time": "2022-10-17T14:15:38.899Z"
      },
      {
        "duration": 14,
        "start_time": "2022-10-17T14:15:38.918Z"
      },
      {
        "duration": 8,
        "start_time": "2022-10-17T14:15:38.933Z"
      },
      {
        "duration": 7,
        "start_time": "2022-10-17T14:15:38.943Z"
      },
      {
        "duration": 18,
        "start_time": "2022-10-17T14:15:38.952Z"
      },
      {
        "duration": 9,
        "start_time": "2022-10-17T14:15:38.971Z"
      },
      {
        "duration": 33,
        "start_time": "2022-10-17T14:15:38.982Z"
      },
      {
        "duration": 19,
        "start_time": "2022-10-17T14:15:39.018Z"
      },
      {
        "duration": 10,
        "start_time": "2022-10-17T14:15:39.039Z"
      },
      {
        "duration": 12,
        "start_time": "2022-10-17T14:15:39.051Z"
      },
      {
        "duration": 15,
        "start_time": "2022-10-17T14:15:39.065Z"
      },
      {
        "duration": 7,
        "start_time": "2022-10-17T14:15:39.081Z"
      },
      {
        "duration": 26,
        "start_time": "2022-10-17T14:15:39.090Z"
      },
      {
        "duration": 4,
        "start_time": "2022-10-17T14:15:39.118Z"
      },
      {
        "duration": 24,
        "start_time": "2022-10-17T14:15:39.123Z"
      },
      {
        "duration": 20,
        "start_time": "2022-10-17T14:15:39.149Z"
      },
      {
        "duration": 53,
        "start_time": "2022-10-17T14:15:39.171Z"
      },
      {
        "duration": 16,
        "start_time": "2022-10-17T14:15:39.226Z"
      },
      {
        "duration": 22,
        "start_time": "2022-10-17T14:15:39.244Z"
      },
      {
        "duration": 4,
        "start_time": "2022-10-17T14:15:39.268Z"
      },
      {
        "duration": 37,
        "start_time": "2022-10-17T14:15:39.273Z"
      },
      {
        "duration": 5,
        "start_time": "2022-10-17T14:15:39.311Z"
      },
      {
        "duration": 17,
        "start_time": "2022-10-17T14:15:39.317Z"
      },
      {
        "duration": 2,
        "start_time": "2022-10-17T14:15:39.336Z"
      },
      {
        "duration": 7,
        "start_time": "2022-10-17T14:15:39.339Z"
      },
      {
        "duration": 11,
        "start_time": "2022-10-17T14:15:39.350Z"
      },
      {
        "duration": 50,
        "start_time": "2022-10-17T14:15:39.362Z"
      },
      {
        "duration": 6,
        "start_time": "2022-10-17T14:15:39.414Z"
      },
      {
        "duration": 8,
        "start_time": "2022-10-17T14:15:39.422Z"
      },
      {
        "duration": 6,
        "start_time": "2022-10-17T14:15:39.431Z"
      },
      {
        "duration": 9,
        "start_time": "2022-10-17T14:15:39.438Z"
      },
      {
        "duration": 8,
        "start_time": "2022-10-17T14:15:39.449Z"
      },
      {
        "duration": 7,
        "start_time": "2022-10-17T14:15:39.458Z"
      },
      {
        "duration": 46,
        "start_time": "2022-10-17T14:15:39.466Z"
      },
      {
        "duration": 8,
        "start_time": "2022-10-17T14:15:39.514Z"
      },
      {
        "duration": 6,
        "start_time": "2022-10-17T14:15:39.523Z"
      },
      {
        "duration": 7,
        "start_time": "2022-10-17T14:15:39.530Z"
      },
      {
        "duration": 18,
        "start_time": "2022-10-17T14:15:39.538Z"
      },
      {
        "duration": 5,
        "start_time": "2022-10-17T14:15:39.558Z"
      },
      {
        "duration": 47,
        "start_time": "2022-10-17T14:15:39.564Z"
      },
      {
        "duration": 136,
        "start_time": "2022-10-17T14:15:39.612Z"
      },
      {
        "duration": 18,
        "start_time": "2022-10-17T14:15:39.749Z"
      },
      {
        "duration": 3,
        "start_time": "2022-10-17T14:15:39.769Z"
      },
      {
        "duration": 45,
        "start_time": "2022-10-17T14:15:39.773Z"
      },
      {
        "duration": 5,
        "start_time": "2022-10-17T14:15:39.820Z"
      },
      {
        "duration": 18,
        "start_time": "2022-10-17T14:15:39.827Z"
      },
      {
        "duration": 23,
        "start_time": "2022-10-17T14:15:39.847Z"
      },
      {
        "duration": 35,
        "start_time": "2022-10-17T14:15:39.872Z"
      },
      {
        "duration": 22,
        "start_time": "2022-10-17T14:15:39.908Z"
      },
      {
        "duration": 12,
        "start_time": "2022-10-17T14:15:39.931Z"
      },
      {
        "duration": 13,
        "start_time": "2022-10-17T14:15:39.944Z"
      },
      {
        "duration": 17,
        "start_time": "2022-10-17T14:15:39.958Z"
      },
      {
        "duration": 22,
        "start_time": "2022-10-17T14:15:39.976Z"
      },
      {
        "duration": 43,
        "start_time": "2022-10-17T14:15:40.000Z"
      },
      {
        "duration": 16,
        "start_time": "2022-10-17T14:15:40.044Z"
      },
      {
        "duration": 27,
        "start_time": "2022-10-17T14:15:40.061Z"
      },
      {
        "duration": 22,
        "start_time": "2022-10-17T14:15:40.090Z"
      },
      {
        "duration": 20,
        "start_time": "2022-10-17T14:15:40.114Z"
      },
      {
        "duration": 20,
        "start_time": "2022-10-17T14:15:40.136Z"
      },
      {
        "duration": 233,
        "start_time": "2022-10-17T14:15:40.157Z"
      },
      {
        "duration": 3,
        "start_time": "2022-10-17T14:15:40.392Z"
      },
      {
        "duration": 15,
        "start_time": "2022-10-17T14:15:40.396Z"
      },
      {
        "duration": 180,
        "start_time": "2022-10-17T14:15:40.413Z"
      },
      {
        "duration": 0,
        "start_time": "2022-10-17T14:15:40.594Z"
      },
      {
        "duration": 0,
        "start_time": "2022-10-17T14:15:40.595Z"
      },
      {
        "duration": 0,
        "start_time": "2022-10-17T14:15:40.596Z"
      },
      {
        "duration": 0,
        "start_time": "2022-10-17T14:15:40.597Z"
      },
      {
        "duration": 0,
        "start_time": "2022-10-17T14:15:40.598Z"
      },
      {
        "duration": 0,
        "start_time": "2022-10-17T14:15:40.599Z"
      },
      {
        "duration": 0,
        "start_time": "2022-10-17T14:15:40.610Z"
      },
      {
        "duration": 0,
        "start_time": "2022-10-17T14:15:40.612Z"
      },
      {
        "duration": 3,
        "start_time": "2022-10-17T14:19:05.142Z"
      },
      {
        "duration": 45,
        "start_time": "2022-10-17T14:19:06.020Z"
      },
      {
        "duration": 3,
        "start_time": "2022-10-17T14:33:45.570Z"
      },
      {
        "duration": 49,
        "start_time": "2022-10-17T14:33:47.171Z"
      },
      {
        "duration": 1476,
        "start_time": "2022-10-17T15:43:09.270Z"
      },
      {
        "duration": 32,
        "start_time": "2022-10-17T15:43:10.748Z"
      },
      {
        "duration": 14,
        "start_time": "2022-10-17T15:43:10.782Z"
      },
      {
        "duration": 33,
        "start_time": "2022-10-17T15:43:10.798Z"
      },
      {
        "duration": 14,
        "start_time": "2022-10-17T15:43:10.833Z"
      },
      {
        "duration": 11,
        "start_time": "2022-10-17T15:43:10.849Z"
      },
      {
        "duration": 21,
        "start_time": "2022-10-17T15:43:10.862Z"
      },
      {
        "duration": 12,
        "start_time": "2022-10-17T15:43:10.884Z"
      },
      {
        "duration": 23,
        "start_time": "2022-10-17T15:43:10.898Z"
      },
      {
        "duration": 19,
        "start_time": "2022-10-17T15:43:10.928Z"
      },
      {
        "duration": 10,
        "start_time": "2022-10-17T15:43:10.949Z"
      },
      {
        "duration": 29,
        "start_time": "2022-10-17T15:43:10.961Z"
      },
      {
        "duration": 46,
        "start_time": "2022-10-17T15:43:10.992Z"
      },
      {
        "duration": 24,
        "start_time": "2022-10-17T15:43:11.041Z"
      },
      {
        "duration": 40,
        "start_time": "2022-10-17T15:43:11.066Z"
      },
      {
        "duration": 38,
        "start_time": "2022-10-17T15:43:11.108Z"
      },
      {
        "duration": 37,
        "start_time": "2022-10-17T15:43:11.148Z"
      },
      {
        "duration": 39,
        "start_time": "2022-10-17T15:43:11.187Z"
      },
      {
        "duration": 49,
        "start_time": "2022-10-17T15:43:11.228Z"
      },
      {
        "duration": 49,
        "start_time": "2022-10-17T15:43:11.278Z"
      },
      {
        "duration": 51,
        "start_time": "2022-10-17T15:43:11.330Z"
      },
      {
        "duration": 47,
        "start_time": "2022-10-17T15:43:11.382Z"
      },
      {
        "duration": 29,
        "start_time": "2022-10-17T15:43:11.431Z"
      },
      {
        "duration": 43,
        "start_time": "2022-10-17T15:43:11.461Z"
      },
      {
        "duration": 74,
        "start_time": "2022-10-17T15:43:11.506Z"
      },
      {
        "duration": 61,
        "start_time": "2022-10-17T15:43:11.582Z"
      },
      {
        "duration": 23,
        "start_time": "2022-10-17T15:43:11.645Z"
      },
      {
        "duration": 81,
        "start_time": "2022-10-17T15:43:11.670Z"
      },
      {
        "duration": 6,
        "start_time": "2022-10-17T15:43:11.753Z"
      },
      {
        "duration": 20,
        "start_time": "2022-10-17T15:43:11.761Z"
      },
      {
        "duration": 24,
        "start_time": "2022-10-17T15:43:11.783Z"
      },
      {
        "duration": 26,
        "start_time": "2022-10-17T15:43:11.816Z"
      },
      {
        "duration": 15,
        "start_time": "2022-10-17T15:43:11.844Z"
      },
      {
        "duration": 11,
        "start_time": "2022-10-17T15:43:11.861Z"
      },
      {
        "duration": 22,
        "start_time": "2022-10-17T15:43:11.874Z"
      },
      {
        "duration": 10,
        "start_time": "2022-10-17T15:43:11.897Z"
      },
      {
        "duration": 28,
        "start_time": "2022-10-17T15:43:11.912Z"
      },
      {
        "duration": 11,
        "start_time": "2022-10-17T15:43:11.942Z"
      },
      {
        "duration": 12,
        "start_time": "2022-10-17T15:43:11.954Z"
      },
      {
        "duration": 27,
        "start_time": "2022-10-17T15:43:11.967Z"
      },
      {
        "duration": 5,
        "start_time": "2022-10-17T15:43:11.999Z"
      },
      {
        "duration": 29,
        "start_time": "2022-10-17T15:43:12.006Z"
      },
      {
        "duration": 153,
        "start_time": "2022-10-17T15:43:12.037Z"
      },
      {
        "duration": 16,
        "start_time": "2022-10-17T15:43:12.191Z"
      },
      {
        "duration": 13,
        "start_time": "2022-10-17T15:43:12.215Z"
      },
      {
        "duration": 27,
        "start_time": "2022-10-17T15:43:12.230Z"
      },
      {
        "duration": 5,
        "start_time": "2022-10-17T15:43:12.259Z"
      },
      {
        "duration": 9,
        "start_time": "2022-10-17T15:43:12.265Z"
      },
      {
        "duration": 8,
        "start_time": "2022-10-17T15:43:12.275Z"
      },
      {
        "duration": 20,
        "start_time": "2022-10-17T15:43:12.285Z"
      },
      {
        "duration": 26,
        "start_time": "2022-10-17T15:43:12.307Z"
      },
      {
        "duration": 9,
        "start_time": "2022-10-17T15:43:12.335Z"
      },
      {
        "duration": 9,
        "start_time": "2022-10-17T15:43:12.346Z"
      },
      {
        "duration": 5,
        "start_time": "2022-10-17T15:43:12.357Z"
      },
      {
        "duration": 21,
        "start_time": "2022-10-17T15:43:12.363Z"
      },
      {
        "duration": 30,
        "start_time": "2022-10-17T15:43:12.385Z"
      },
      {
        "duration": 10,
        "start_time": "2022-10-17T15:43:12.417Z"
      },
      {
        "duration": 12,
        "start_time": "2022-10-17T15:43:12.429Z"
      },
      {
        "duration": 21,
        "start_time": "2022-10-17T15:43:12.442Z"
      },
      {
        "duration": 8,
        "start_time": "2022-10-17T15:43:12.465Z"
      },
      {
        "duration": 11,
        "start_time": "2022-10-17T15:43:12.474Z"
      },
      {
        "duration": 273,
        "start_time": "2022-10-17T15:43:12.487Z"
      },
      {
        "duration": 224,
        "start_time": "2022-10-17T15:43:12.762Z"
      },
      {
        "duration": 0,
        "start_time": "2022-10-17T15:43:12.988Z"
      },
      {
        "duration": 0,
        "start_time": "2022-10-17T15:43:12.989Z"
      },
      {
        "duration": 0,
        "start_time": "2022-10-17T15:43:12.991Z"
      },
      {
        "duration": 0,
        "start_time": "2022-10-17T15:43:12.992Z"
      },
      {
        "duration": 0,
        "start_time": "2022-10-17T15:43:12.994Z"
      },
      {
        "duration": 0,
        "start_time": "2022-10-17T15:43:12.996Z"
      },
      {
        "duration": 0,
        "start_time": "2022-10-17T15:43:13.009Z"
      },
      {
        "duration": 0,
        "start_time": "2022-10-17T15:43:13.010Z"
      },
      {
        "duration": 0,
        "start_time": "2022-10-17T15:43:13.010Z"
      },
      {
        "duration": 0,
        "start_time": "2022-10-17T15:43:13.011Z"
      },
      {
        "duration": 0,
        "start_time": "2022-10-17T15:43:13.012Z"
      },
      {
        "duration": 7,
        "start_time": "2022-10-17T15:43:39.608Z"
      },
      {
        "duration": 4,
        "start_time": "2022-10-17T15:43:41.468Z"
      },
      {
        "duration": 3,
        "start_time": "2022-10-17T15:43:42.876Z"
      },
      {
        "duration": 70,
        "start_time": "2022-10-17T15:43:44.373Z"
      },
      {
        "duration": 1585,
        "start_time": "2022-10-17T15:44:52.594Z"
      },
      {
        "duration": 49,
        "start_time": "2022-10-17T15:44:54.184Z"
      },
      {
        "duration": 18,
        "start_time": "2022-10-17T15:44:54.236Z"
      },
      {
        "duration": 18,
        "start_time": "2022-10-17T15:44:54.256Z"
      },
      {
        "duration": 12,
        "start_time": "2022-10-17T15:44:54.277Z"
      },
      {
        "duration": 19,
        "start_time": "2022-10-17T15:44:54.291Z"
      },
      {
        "duration": 41,
        "start_time": "2022-10-17T15:44:54.312Z"
      },
      {
        "duration": 13,
        "start_time": "2022-10-17T15:44:54.354Z"
      },
      {
        "duration": 22,
        "start_time": "2022-10-17T15:44:54.368Z"
      },
      {
        "duration": 37,
        "start_time": "2022-10-17T15:44:54.392Z"
      },
      {
        "duration": 16,
        "start_time": "2022-10-17T15:44:54.431Z"
      },
      {
        "duration": 12,
        "start_time": "2022-10-17T15:44:54.449Z"
      },
      {
        "duration": 12,
        "start_time": "2022-10-17T15:44:54.463Z"
      },
      {
        "duration": 12,
        "start_time": "2022-10-17T15:44:54.479Z"
      },
      {
        "duration": 36,
        "start_time": "2022-10-17T15:44:54.493Z"
      },
      {
        "duration": 5,
        "start_time": "2022-10-17T15:44:54.533Z"
      },
      {
        "duration": 36,
        "start_time": "2022-10-17T15:44:54.540Z"
      },
      {
        "duration": 51,
        "start_time": "2022-10-17T15:44:54.578Z"
      },
      {
        "duration": 25,
        "start_time": "2022-10-17T15:44:54.630Z"
      },
      {
        "duration": 16,
        "start_time": "2022-10-17T15:44:54.657Z"
      },
      {
        "duration": 23,
        "start_time": "2022-10-17T15:44:54.674Z"
      },
      {
        "duration": 29,
        "start_time": "2022-10-17T15:44:54.698Z"
      },
      {
        "duration": 8,
        "start_time": "2022-10-17T15:44:54.729Z"
      },
      {
        "duration": 12,
        "start_time": "2022-10-17T15:44:54.739Z"
      },
      {
        "duration": 18,
        "start_time": "2022-10-17T15:44:54.753Z"
      },
      {
        "duration": 2,
        "start_time": "2022-10-17T15:44:54.773Z"
      },
      {
        "duration": 10,
        "start_time": "2022-10-17T15:44:54.777Z"
      },
      {
        "duration": 12,
        "start_time": "2022-10-17T15:44:54.788Z"
      },
      {
        "duration": 29,
        "start_time": "2022-10-17T15:44:54.801Z"
      },
      {
        "duration": 11,
        "start_time": "2022-10-17T15:44:54.833Z"
      },
      {
        "duration": 17,
        "start_time": "2022-10-17T15:44:54.847Z"
      },
      {
        "duration": 6,
        "start_time": "2022-10-17T15:44:54.866Z"
      },
      {
        "duration": 18,
        "start_time": "2022-10-17T15:44:54.874Z"
      },
      {
        "duration": 9,
        "start_time": "2022-10-17T15:44:54.893Z"
      },
      {
        "duration": 24,
        "start_time": "2022-10-17T15:44:54.903Z"
      },
      {
        "duration": 7,
        "start_time": "2022-10-17T15:44:54.929Z"
      },
      {
        "duration": 7,
        "start_time": "2022-10-17T15:44:54.937Z"
      },
      {
        "duration": 14,
        "start_time": "2022-10-17T15:44:54.945Z"
      },
      {
        "duration": 11,
        "start_time": "2022-10-17T15:44:54.960Z"
      },
      {
        "duration": 26,
        "start_time": "2022-10-17T15:44:54.972Z"
      },
      {
        "duration": 6,
        "start_time": "2022-10-17T15:44:55.003Z"
      },
      {
        "duration": 43,
        "start_time": "2022-10-17T15:44:55.016Z"
      },
      {
        "duration": 130,
        "start_time": "2022-10-17T15:44:55.062Z"
      },
      {
        "duration": 29,
        "start_time": "2022-10-17T15:44:55.194Z"
      },
      {
        "duration": 6,
        "start_time": "2022-10-17T15:44:55.224Z"
      },
      {
        "duration": 21,
        "start_time": "2022-10-17T15:44:55.232Z"
      },
      {
        "duration": 6,
        "start_time": "2022-10-17T15:44:55.254Z"
      },
      {
        "duration": 7,
        "start_time": "2022-10-17T15:44:55.261Z"
      },
      {
        "duration": 5,
        "start_time": "2022-10-17T15:44:55.270Z"
      },
      {
        "duration": 19,
        "start_time": "2022-10-17T15:44:55.277Z"
      },
      {
        "duration": 13,
        "start_time": "2022-10-17T15:44:55.319Z"
      },
      {
        "duration": 7,
        "start_time": "2022-10-17T15:44:55.334Z"
      },
      {
        "duration": 12,
        "start_time": "2022-10-17T15:44:55.342Z"
      },
      {
        "duration": 12,
        "start_time": "2022-10-17T15:44:55.356Z"
      },
      {
        "duration": 26,
        "start_time": "2022-10-17T15:44:55.370Z"
      },
      {
        "duration": 31,
        "start_time": "2022-10-17T15:44:55.398Z"
      },
      {
        "duration": 5,
        "start_time": "2022-10-17T15:44:55.430Z"
      },
      {
        "duration": 8,
        "start_time": "2022-10-17T15:44:55.436Z"
      },
      {
        "duration": 14,
        "start_time": "2022-10-17T15:44:55.446Z"
      },
      {
        "duration": 5,
        "start_time": "2022-10-17T15:44:55.462Z"
      },
      {
        "duration": 12,
        "start_time": "2022-10-17T15:44:55.468Z"
      },
      {
        "duration": 248,
        "start_time": "2022-10-17T15:44:55.482Z"
      },
      {
        "duration": 160,
        "start_time": "2022-10-17T15:44:55.732Z"
      },
      {
        "duration": 0,
        "start_time": "2022-10-17T15:44:55.894Z"
      },
      {
        "duration": 0,
        "start_time": "2022-10-17T15:44:55.896Z"
      },
      {
        "duration": 0,
        "start_time": "2022-10-17T15:44:55.915Z"
      },
      {
        "duration": 0,
        "start_time": "2022-10-17T15:44:55.919Z"
      },
      {
        "duration": 1663,
        "start_time": "2022-10-17T15:45:45.725Z"
      },
      {
        "duration": 39,
        "start_time": "2022-10-17T15:45:47.391Z"
      },
      {
        "duration": 15,
        "start_time": "2022-10-17T15:45:47.432Z"
      },
      {
        "duration": 23,
        "start_time": "2022-10-17T15:45:47.448Z"
      },
      {
        "duration": 19,
        "start_time": "2022-10-17T15:45:47.473Z"
      },
      {
        "duration": 34,
        "start_time": "2022-10-17T15:45:47.494Z"
      },
      {
        "duration": 29,
        "start_time": "2022-10-17T15:45:47.529Z"
      },
      {
        "duration": 9,
        "start_time": "2022-10-17T15:45:47.559Z"
      },
      {
        "duration": 20,
        "start_time": "2022-10-17T15:45:47.570Z"
      },
      {
        "duration": 48,
        "start_time": "2022-10-17T15:45:47.591Z"
      },
      {
        "duration": 21,
        "start_time": "2022-10-17T15:45:47.641Z"
      },
      {
        "duration": 34,
        "start_time": "2022-10-17T15:45:47.663Z"
      },
      {
        "duration": 66,
        "start_time": "2022-10-17T15:45:47.698Z"
      },
      {
        "duration": 31,
        "start_time": "2022-10-17T15:45:47.767Z"
      },
      {
        "duration": 51,
        "start_time": "2022-10-17T15:45:47.799Z"
      },
      {
        "duration": 35,
        "start_time": "2022-10-17T15:45:47.852Z"
      },
      {
        "duration": 67,
        "start_time": "2022-10-17T15:45:47.889Z"
      },
      {
        "duration": 59,
        "start_time": "2022-10-17T15:45:47.960Z"
      },
      {
        "duration": 37,
        "start_time": "2022-10-17T15:45:48.022Z"
      },
      {
        "duration": 31,
        "start_time": "2022-10-17T15:45:48.061Z"
      },
      {
        "duration": 61,
        "start_time": "2022-10-17T15:45:48.094Z"
      },
      {
        "duration": 36,
        "start_time": "2022-10-17T15:45:48.157Z"
      },
      {
        "duration": 40,
        "start_time": "2022-10-17T15:45:48.195Z"
      },
      {
        "duration": 38,
        "start_time": "2022-10-17T15:45:48.237Z"
      },
      {
        "duration": 52,
        "start_time": "2022-10-17T15:45:48.277Z"
      },
      {
        "duration": 47,
        "start_time": "2022-10-17T15:45:48.331Z"
      },
      {
        "duration": 56,
        "start_time": "2022-10-17T15:45:48.379Z"
      },
      {
        "duration": 45,
        "start_time": "2022-10-17T15:45:48.436Z"
      },
      {
        "duration": 29,
        "start_time": "2022-10-17T15:45:48.483Z"
      },
      {
        "duration": 49,
        "start_time": "2022-10-17T15:45:48.513Z"
      },
      {
        "duration": 37,
        "start_time": "2022-10-17T15:45:48.564Z"
      },
      {
        "duration": 40,
        "start_time": "2022-10-17T15:45:48.602Z"
      },
      {
        "duration": 35,
        "start_time": "2022-10-17T15:45:48.644Z"
      },
      {
        "duration": 43,
        "start_time": "2022-10-17T15:45:48.681Z"
      },
      {
        "duration": 30,
        "start_time": "2022-10-17T15:45:48.726Z"
      },
      {
        "duration": 32,
        "start_time": "2022-10-17T15:45:48.758Z"
      },
      {
        "duration": 46,
        "start_time": "2022-10-17T15:45:48.792Z"
      },
      {
        "duration": 34,
        "start_time": "2022-10-17T15:45:48.839Z"
      },
      {
        "duration": 30,
        "start_time": "2022-10-17T15:45:48.874Z"
      },
      {
        "duration": 62,
        "start_time": "2022-10-17T15:45:48.905Z"
      },
      {
        "duration": 37,
        "start_time": "2022-10-17T15:45:48.971Z"
      },
      {
        "duration": 68,
        "start_time": "2022-10-17T15:45:49.010Z"
      },
      {
        "duration": 148,
        "start_time": "2022-10-17T15:45:49.080Z"
      },
      {
        "duration": 16,
        "start_time": "2022-10-17T15:45:49.229Z"
      },
      {
        "duration": 18,
        "start_time": "2022-10-17T15:45:49.247Z"
      },
      {
        "duration": 58,
        "start_time": "2022-10-17T15:45:49.267Z"
      },
      {
        "duration": 11,
        "start_time": "2022-10-17T15:45:49.327Z"
      },
      {
        "duration": 23,
        "start_time": "2022-10-17T15:45:49.340Z"
      },
      {
        "duration": 33,
        "start_time": "2022-10-17T15:45:49.364Z"
      },
      {
        "duration": 47,
        "start_time": "2022-10-17T15:45:49.399Z"
      },
      {
        "duration": 33,
        "start_time": "2022-10-17T15:45:49.447Z"
      },
      {
        "duration": 34,
        "start_time": "2022-10-17T15:45:49.481Z"
      },
      {
        "duration": 34,
        "start_time": "2022-10-17T15:45:49.517Z"
      },
      {
        "duration": 23,
        "start_time": "2022-10-17T15:45:49.553Z"
      },
      {
        "duration": 50,
        "start_time": "2022-10-17T15:45:49.577Z"
      },
      {
        "duration": 42,
        "start_time": "2022-10-17T15:45:49.629Z"
      },
      {
        "duration": 19,
        "start_time": "2022-10-17T15:45:49.673Z"
      },
      {
        "duration": 62,
        "start_time": "2022-10-17T15:45:49.693Z"
      },
      {
        "duration": 50,
        "start_time": "2022-10-17T15:45:49.757Z"
      },
      {
        "duration": 41,
        "start_time": "2022-10-17T15:45:49.809Z"
      },
      {
        "duration": 37,
        "start_time": "2022-10-17T15:45:49.852Z"
      },
      {
        "duration": 275,
        "start_time": "2022-10-17T15:45:49.891Z"
      },
      {
        "duration": 2,
        "start_time": "2022-10-17T15:45:50.167Z"
      },
      {
        "duration": 29,
        "start_time": "2022-10-17T15:45:50.171Z"
      },
      {
        "duration": 43,
        "start_time": "2022-10-17T15:45:50.201Z"
      },
      {
        "duration": 61,
        "start_time": "2022-10-17T15:45:50.245Z"
      },
      {
        "duration": 223,
        "start_time": "2022-10-17T15:45:50.307Z"
      },
      {
        "duration": 0,
        "start_time": "2022-10-17T15:45:50.531Z"
      },
      {
        "duration": 75,
        "start_time": "2022-10-17T15:46:57.286Z"
      },
      {
        "duration": 9,
        "start_time": "2022-10-17T15:47:08.355Z"
      },
      {
        "duration": 7,
        "start_time": "2022-10-17T15:47:20.940Z"
      },
      {
        "duration": 15,
        "start_time": "2022-10-17T15:48:26.207Z"
      },
      {
        "duration": 5,
        "start_time": "2022-10-17T15:49:06.960Z"
      },
      {
        "duration": 12,
        "start_time": "2022-10-17T15:49:07.594Z"
      },
      {
        "duration": 4,
        "start_time": "2022-10-17T15:49:08.273Z"
      },
      {
        "duration": 3,
        "start_time": "2022-10-17T15:49:08.896Z"
      },
      {
        "duration": 3,
        "start_time": "2022-10-17T15:49:09.664Z"
      },
      {
        "duration": 3,
        "start_time": "2022-10-17T15:49:10.196Z"
      },
      {
        "duration": 3,
        "start_time": "2022-10-17T15:49:10.732Z"
      },
      {
        "duration": 31,
        "start_time": "2022-10-17T15:49:12.323Z"
      },
      {
        "duration": 4,
        "start_time": "2022-10-17T15:49:13.829Z"
      },
      {
        "duration": 1421,
        "start_time": "2022-10-17T15:49:29.363Z"
      },
      {
        "duration": 37,
        "start_time": "2022-10-17T15:49:30.787Z"
      },
      {
        "duration": 19,
        "start_time": "2022-10-17T15:49:30.829Z"
      },
      {
        "duration": 12,
        "start_time": "2022-10-17T15:49:30.850Z"
      },
      {
        "duration": 6,
        "start_time": "2022-10-17T15:49:30.864Z"
      },
      {
        "duration": 23,
        "start_time": "2022-10-17T15:49:30.872Z"
      },
      {
        "duration": 39,
        "start_time": "2022-10-17T15:49:30.897Z"
      },
      {
        "duration": 20,
        "start_time": "2022-10-17T15:49:30.938Z"
      },
      {
        "duration": 42,
        "start_time": "2022-10-17T15:49:30.959Z"
      },
      {
        "duration": 74,
        "start_time": "2022-10-17T15:49:31.003Z"
      },
      {
        "duration": 24,
        "start_time": "2022-10-17T15:49:31.078Z"
      },
      {
        "duration": 46,
        "start_time": "2022-10-17T15:49:31.104Z"
      },
      {
        "duration": 28,
        "start_time": "2022-10-17T15:49:31.152Z"
      },
      {
        "duration": 8,
        "start_time": "2022-10-17T15:49:31.183Z"
      },
      {
        "duration": 14,
        "start_time": "2022-10-17T15:49:31.193Z"
      },
      {
        "duration": 32,
        "start_time": "2022-10-17T15:49:31.208Z"
      },
      {
        "duration": 46,
        "start_time": "2022-10-17T15:49:31.242Z"
      },
      {
        "duration": 34,
        "start_time": "2022-10-17T15:49:31.289Z"
      },
      {
        "duration": 45,
        "start_time": "2022-10-17T15:49:31.325Z"
      },
      {
        "duration": 18,
        "start_time": "2022-10-17T15:49:31.372Z"
      },
      {
        "duration": 28,
        "start_time": "2022-10-17T15:49:31.392Z"
      },
      {
        "duration": 21,
        "start_time": "2022-10-17T15:49:31.421Z"
      },
      {
        "duration": 8,
        "start_time": "2022-10-17T15:49:31.444Z"
      },
      {
        "duration": 9,
        "start_time": "2022-10-17T15:49:31.454Z"
      },
      {
        "duration": 21,
        "start_time": "2022-10-17T15:49:31.465Z"
      },
      {
        "duration": 3,
        "start_time": "2022-10-17T15:49:31.488Z"
      },
      {
        "duration": 8,
        "start_time": "2022-10-17T15:49:31.493Z"
      },
      {
        "duration": 23,
        "start_time": "2022-10-17T15:49:31.502Z"
      },
      {
        "duration": 13,
        "start_time": "2022-10-17T15:49:31.526Z"
      },
      {
        "duration": 15,
        "start_time": "2022-10-17T15:49:31.540Z"
      },
      {
        "duration": 14,
        "start_time": "2022-10-17T15:49:31.556Z"
      },
      {
        "duration": 7,
        "start_time": "2022-10-17T15:49:31.571Z"
      },
      {
        "duration": 6,
        "start_time": "2022-10-17T15:49:31.579Z"
      },
      {
        "duration": 7,
        "start_time": "2022-10-17T15:49:31.586Z"
      },
      {
        "duration": 23,
        "start_time": "2022-10-17T15:49:31.595Z"
      },
      {
        "duration": 27,
        "start_time": "2022-10-17T15:49:31.622Z"
      },
      {
        "duration": 18,
        "start_time": "2022-10-17T15:49:31.650Z"
      },
      {
        "duration": 7,
        "start_time": "2022-10-17T15:49:31.669Z"
      },
      {
        "duration": 6,
        "start_time": "2022-10-17T15:49:31.677Z"
      },
      {
        "duration": 17,
        "start_time": "2022-10-17T15:49:31.685Z"
      },
      {
        "duration": 17,
        "start_time": "2022-10-17T15:49:31.706Z"
      },
      {
        "duration": 32,
        "start_time": "2022-10-17T15:49:31.725Z"
      },
      {
        "duration": 128,
        "start_time": "2022-10-17T15:49:31.758Z"
      },
      {
        "duration": 25,
        "start_time": "2022-10-17T15:49:31.888Z"
      },
      {
        "duration": 5,
        "start_time": "2022-10-17T15:49:31.914Z"
      },
      {
        "duration": 30,
        "start_time": "2022-10-17T15:49:31.921Z"
      },
      {
        "duration": 6,
        "start_time": "2022-10-17T15:49:31.953Z"
      },
      {
        "duration": 5,
        "start_time": "2022-10-17T15:49:31.961Z"
      },
      {
        "duration": 7,
        "start_time": "2022-10-17T15:49:31.967Z"
      },
      {
        "duration": 14,
        "start_time": "2022-10-17T15:49:31.976Z"
      },
      {
        "duration": 19,
        "start_time": "2022-10-17T15:49:31.992Z"
      },
      {
        "duration": 6,
        "start_time": "2022-10-17T15:49:32.021Z"
      },
      {
        "duration": 9,
        "start_time": "2022-10-17T15:49:32.029Z"
      },
      {
        "duration": 7,
        "start_time": "2022-10-17T15:49:32.039Z"
      },
      {
        "duration": 14,
        "start_time": "2022-10-17T15:49:32.047Z"
      },
      {
        "duration": 23,
        "start_time": "2022-10-17T15:49:32.063Z"
      },
      {
        "duration": 33,
        "start_time": "2022-10-17T15:49:32.088Z"
      },
      {
        "duration": 11,
        "start_time": "2022-10-17T15:49:32.122Z"
      },
      {
        "duration": 12,
        "start_time": "2022-10-17T15:49:32.135Z"
      },
      {
        "duration": 9,
        "start_time": "2022-10-17T15:49:32.149Z"
      },
      {
        "duration": 6,
        "start_time": "2022-10-17T15:49:32.160Z"
      },
      {
        "duration": 7,
        "start_time": "2022-10-17T15:49:32.167Z"
      },
      {
        "duration": 13,
        "start_time": "2022-10-17T15:49:32.176Z"
      },
      {
        "duration": 238,
        "start_time": "2022-10-17T15:49:32.190Z"
      },
      {
        "duration": 4,
        "start_time": "2022-10-17T15:49:32.430Z"
      },
      {
        "duration": 13,
        "start_time": "2022-10-17T15:49:32.436Z"
      },
      {
        "duration": 9,
        "start_time": "2022-10-17T15:49:32.450Z"
      },
      {
        "duration": 6,
        "start_time": "2022-10-17T15:49:32.460Z"
      },
      {
        "duration": 212,
        "start_time": "2022-10-17T15:49:32.468Z"
      },
      {
        "duration": 0,
        "start_time": "2022-10-17T15:49:32.682Z"
      },
      {
        "duration": 6,
        "start_time": "2022-10-17T15:49:57.132Z"
      },
      {
        "duration": 7,
        "start_time": "2022-10-17T15:50:12.668Z"
      },
      {
        "duration": 7,
        "start_time": "2022-10-17T15:50:13.859Z"
      },
      {
        "duration": 1447,
        "start_time": "2022-10-17T15:50:25.187Z"
      },
      {
        "duration": 31,
        "start_time": "2022-10-17T15:50:26.636Z"
      },
      {
        "duration": 15,
        "start_time": "2022-10-17T15:50:26.669Z"
      },
      {
        "duration": 12,
        "start_time": "2022-10-17T15:50:26.685Z"
      },
      {
        "duration": 23,
        "start_time": "2022-10-17T15:50:26.699Z"
      },
      {
        "duration": 7,
        "start_time": "2022-10-17T15:50:26.724Z"
      },
      {
        "duration": 18,
        "start_time": "2022-10-17T15:50:26.732Z"
      },
      {
        "duration": 8,
        "start_time": "2022-10-17T15:50:26.751Z"
      },
      {
        "duration": 11,
        "start_time": "2022-10-17T15:50:26.761Z"
      },
      {
        "duration": 16,
        "start_time": "2022-10-17T15:50:26.774Z"
      },
      {
        "duration": 10,
        "start_time": "2022-10-17T15:50:26.791Z"
      },
      {
        "duration": 30,
        "start_time": "2022-10-17T15:50:26.802Z"
      },
      {
        "duration": 25,
        "start_time": "2022-10-17T15:50:26.834Z"
      },
      {
        "duration": 10,
        "start_time": "2022-10-17T15:50:26.863Z"
      },
      {
        "duration": 20,
        "start_time": "2022-10-17T15:50:26.875Z"
      },
      {
        "duration": 5,
        "start_time": "2022-10-17T15:50:26.897Z"
      },
      {
        "duration": 28,
        "start_time": "2022-10-17T15:50:26.903Z"
      },
      {
        "duration": 26,
        "start_time": "2022-10-17T15:50:26.932Z"
      },
      {
        "duration": 25,
        "start_time": "2022-10-17T15:50:26.959Z"
      },
      {
        "duration": 39,
        "start_time": "2022-10-17T15:50:26.985Z"
      },
      {
        "duration": 22,
        "start_time": "2022-10-17T15:50:27.026Z"
      },
      {
        "duration": 4,
        "start_time": "2022-10-17T15:50:27.049Z"
      },
      {
        "duration": 7,
        "start_time": "2022-10-17T15:50:27.055Z"
      },
      {
        "duration": 7,
        "start_time": "2022-10-17T15:50:27.064Z"
      },
      {
        "duration": 18,
        "start_time": "2022-10-17T15:50:27.073Z"
      },
      {
        "duration": 26,
        "start_time": "2022-10-17T15:50:27.093Z"
      },
      {
        "duration": 12,
        "start_time": "2022-10-17T15:50:27.120Z"
      },
      {
        "duration": 26,
        "start_time": "2022-10-17T15:50:27.133Z"
      },
      {
        "duration": 6,
        "start_time": "2022-10-17T15:50:27.161Z"
      },
      {
        "duration": 8,
        "start_time": "2022-10-17T15:50:27.169Z"
      },
      {
        "duration": 11,
        "start_time": "2022-10-17T15:50:27.178Z"
      },
      {
        "duration": 8,
        "start_time": "2022-10-17T15:50:27.190Z"
      },
      {
        "duration": 27,
        "start_time": "2022-10-17T15:50:27.200Z"
      },
      {
        "duration": 5,
        "start_time": "2022-10-17T15:50:27.228Z"
      },
      {
        "duration": 10,
        "start_time": "2022-10-17T15:50:27.235Z"
      },
      {
        "duration": 6,
        "start_time": "2022-10-17T15:50:27.246Z"
      },
      {
        "duration": 6,
        "start_time": "2022-10-17T15:50:27.254Z"
      },
      {
        "duration": 7,
        "start_time": "2022-10-17T15:50:27.261Z"
      },
      {
        "duration": 13,
        "start_time": "2022-10-17T15:50:27.269Z"
      },
      {
        "duration": 40,
        "start_time": "2022-10-17T15:50:27.284Z"
      },
      {
        "duration": 4,
        "start_time": "2022-10-17T15:50:27.330Z"
      },
      {
        "duration": 29,
        "start_time": "2022-10-17T15:50:27.336Z"
      },
      {
        "duration": 135,
        "start_time": "2022-10-17T15:50:27.366Z"
      },
      {
        "duration": 24,
        "start_time": "2022-10-17T15:50:27.503Z"
      },
      {
        "duration": 6,
        "start_time": "2022-10-17T15:50:27.529Z"
      },
      {
        "duration": 21,
        "start_time": "2022-10-17T15:50:27.536Z"
      },
      {
        "duration": 5,
        "start_time": "2022-10-17T15:50:27.558Z"
      },
      {
        "duration": 6,
        "start_time": "2022-10-17T15:50:27.565Z"
      },
      {
        "duration": 4,
        "start_time": "2022-10-17T15:50:27.573Z"
      },
      {
        "duration": 43,
        "start_time": "2022-10-17T15:50:27.579Z"
      },
      {
        "duration": 12,
        "start_time": "2022-10-17T15:50:27.625Z"
      },
      {
        "duration": 7,
        "start_time": "2022-10-17T15:50:27.639Z"
      },
      {
        "duration": 9,
        "start_time": "2022-10-17T15:50:27.648Z"
      },
      {
        "duration": 5,
        "start_time": "2022-10-17T15:50:27.658Z"
      },
      {
        "duration": 20,
        "start_time": "2022-10-17T15:50:27.665Z"
      },
      {
        "duration": 44,
        "start_time": "2022-10-17T15:50:27.686Z"
      },
      {
        "duration": 6,
        "start_time": "2022-10-17T15:50:27.731Z"
      },
      {
        "duration": 8,
        "start_time": "2022-10-17T15:50:27.738Z"
      },
      {
        "duration": 13,
        "start_time": "2022-10-17T15:50:27.747Z"
      },
      {
        "duration": 5,
        "start_time": "2022-10-17T15:50:27.762Z"
      },
      {
        "duration": 5,
        "start_time": "2022-10-17T15:50:27.769Z"
      },
      {
        "duration": 43,
        "start_time": "2022-10-17T15:50:27.776Z"
      },
      {
        "duration": 7,
        "start_time": "2022-10-17T15:50:27.821Z"
      },
      {
        "duration": 11,
        "start_time": "2022-10-17T15:50:27.829Z"
      },
      {
        "duration": 243,
        "start_time": "2022-10-17T15:50:27.842Z"
      },
      {
        "duration": 3,
        "start_time": "2022-10-17T15:50:28.087Z"
      },
      {
        "duration": 12,
        "start_time": "2022-10-17T15:50:28.091Z"
      },
      {
        "duration": 28,
        "start_time": "2022-10-17T15:50:28.104Z"
      },
      {
        "duration": 12,
        "start_time": "2022-10-17T15:50:28.134Z"
      },
      {
        "duration": 191,
        "start_time": "2022-10-17T15:50:28.148Z"
      },
      {
        "duration": 0,
        "start_time": "2022-10-17T15:50:28.341Z"
      },
      {
        "duration": 19,
        "start_time": "2022-10-17T15:51:10.806Z"
      },
      {
        "duration": 6,
        "start_time": "2022-10-17T15:51:24.234Z"
      },
      {
        "duration": 1493,
        "start_time": "2022-10-17T15:51:42.883Z"
      },
      {
        "duration": 41,
        "start_time": "2022-10-17T15:51:44.378Z"
      },
      {
        "duration": 15,
        "start_time": "2022-10-17T15:51:44.424Z"
      },
      {
        "duration": 21,
        "start_time": "2022-10-17T15:51:44.442Z"
      },
      {
        "duration": 7,
        "start_time": "2022-10-17T15:51:44.465Z"
      },
      {
        "duration": 8,
        "start_time": "2022-10-17T15:51:44.473Z"
      },
      {
        "duration": 22,
        "start_time": "2022-10-17T15:51:44.482Z"
      },
      {
        "duration": 12,
        "start_time": "2022-10-17T15:51:44.506Z"
      },
      {
        "duration": 28,
        "start_time": "2022-10-17T15:51:44.521Z"
      },
      {
        "duration": 21,
        "start_time": "2022-10-17T15:51:44.552Z"
      },
      {
        "duration": 12,
        "start_time": "2022-10-17T15:51:44.575Z"
      },
      {
        "duration": 29,
        "start_time": "2022-10-17T15:51:44.589Z"
      },
      {
        "duration": 35,
        "start_time": "2022-10-17T15:51:44.620Z"
      },
      {
        "duration": 14,
        "start_time": "2022-10-17T15:51:44.657Z"
      },
      {
        "duration": 13,
        "start_time": "2022-10-17T15:51:44.674Z"
      },
      {
        "duration": 4,
        "start_time": "2022-10-17T15:51:44.689Z"
      },
      {
        "duration": 34,
        "start_time": "2022-10-17T15:51:44.695Z"
      },
      {
        "duration": 26,
        "start_time": "2022-10-17T15:51:44.731Z"
      },
      {
        "duration": 24,
        "start_time": "2022-10-17T15:51:44.758Z"
      },
      {
        "duration": 42,
        "start_time": "2022-10-17T15:51:44.784Z"
      },
      {
        "duration": 30,
        "start_time": "2022-10-17T15:51:44.831Z"
      },
      {
        "duration": 4,
        "start_time": "2022-10-17T15:51:44.863Z"
      },
      {
        "duration": 11,
        "start_time": "2022-10-17T15:51:44.869Z"
      },
      {
        "duration": 7,
        "start_time": "2022-10-17T15:51:44.881Z"
      },
      {
        "duration": 33,
        "start_time": "2022-10-17T15:51:44.890Z"
      },
      {
        "duration": 2,
        "start_time": "2022-10-17T15:51:44.924Z"
      },
      {
        "duration": 10,
        "start_time": "2022-10-17T15:51:44.927Z"
      },
      {
        "duration": 13,
        "start_time": "2022-10-17T15:51:44.941Z"
      },
      {
        "duration": 6,
        "start_time": "2022-10-17T15:51:44.955Z"
      },
      {
        "duration": 8,
        "start_time": "2022-10-17T15:51:44.963Z"
      },
      {
        "duration": 15,
        "start_time": "2022-10-17T15:51:44.973Z"
      },
      {
        "duration": 29,
        "start_time": "2022-10-17T15:51:44.991Z"
      },
      {
        "duration": 25,
        "start_time": "2022-10-17T15:51:45.021Z"
      },
      {
        "duration": 8,
        "start_time": "2022-10-17T15:51:45.048Z"
      },
      {
        "duration": 8,
        "start_time": "2022-10-17T15:51:45.071Z"
      },
      {
        "duration": 30,
        "start_time": "2022-10-17T15:51:45.081Z"
      },
      {
        "duration": 39,
        "start_time": "2022-10-17T15:51:45.113Z"
      },
      {
        "duration": 13,
        "start_time": "2022-10-17T15:51:45.154Z"
      },
      {
        "duration": 13,
        "start_time": "2022-10-17T15:51:45.169Z"
      },
      {
        "duration": 34,
        "start_time": "2022-10-17T15:51:45.184Z"
      },
      {
        "duration": 6,
        "start_time": "2022-10-17T15:51:45.235Z"
      },
      {
        "duration": 28,
        "start_time": "2022-10-17T15:51:45.244Z"
      },
      {
        "duration": 154,
        "start_time": "2022-10-17T15:51:45.274Z"
      },
      {
        "duration": 16,
        "start_time": "2022-10-17T15:51:45.432Z"
      },
      {
        "duration": 2,
        "start_time": "2022-10-17T15:51:45.450Z"
      },
      {
        "duration": 35,
        "start_time": "2022-10-17T15:51:45.454Z"
      },
      {
        "duration": 5,
        "start_time": "2022-10-17T15:51:45.491Z"
      },
      {
        "duration": 6,
        "start_time": "2022-10-17T15:51:45.498Z"
      },
      {
        "duration": 29,
        "start_time": "2022-10-17T15:51:45.505Z"
      },
      {
        "duration": 26,
        "start_time": "2022-10-17T15:51:45.536Z"
      },
      {
        "duration": 13,
        "start_time": "2022-10-17T15:51:45.564Z"
      },
      {
        "duration": 9,
        "start_time": "2022-10-17T15:51:45.579Z"
      },
      {
        "duration": 9,
        "start_time": "2022-10-17T15:51:45.589Z"
      },
      {
        "duration": 5,
        "start_time": "2022-10-17T15:51:45.600Z"
      },
      {
        "duration": 55,
        "start_time": "2022-10-17T15:51:45.607Z"
      },
      {
        "duration": 20,
        "start_time": "2022-10-17T15:51:45.665Z"
      },
      {
        "duration": 7,
        "start_time": "2022-10-17T15:51:45.687Z"
      },
      {
        "duration": 8,
        "start_time": "2022-10-17T15:51:45.696Z"
      },
      {
        "duration": 34,
        "start_time": "2022-10-17T15:51:45.705Z"
      },
      {
        "duration": 6,
        "start_time": "2022-10-17T15:51:45.741Z"
      },
      {
        "duration": 6,
        "start_time": "2022-10-17T15:51:45.749Z"
      },
      {
        "duration": 8,
        "start_time": "2022-10-17T15:51:45.756Z"
      },
      {
        "duration": 8,
        "start_time": "2022-10-17T15:51:45.766Z"
      },
      {
        "duration": 9,
        "start_time": "2022-10-17T15:51:45.776Z"
      },
      {
        "duration": 10,
        "start_time": "2022-10-17T15:51:45.787Z"
      },
      {
        "duration": 14,
        "start_time": "2022-10-17T15:51:45.809Z"
      },
      {
        "duration": 308,
        "start_time": "2022-10-17T15:51:45.825Z"
      },
      {
        "duration": 2,
        "start_time": "2022-10-17T15:51:46.135Z"
      },
      {
        "duration": 22,
        "start_time": "2022-10-17T15:51:46.139Z"
      },
      {
        "duration": 15,
        "start_time": "2022-10-17T15:51:46.163Z"
      },
      {
        "duration": 10,
        "start_time": "2022-10-17T15:51:46.180Z"
      },
      {
        "duration": 188,
        "start_time": "2022-10-17T15:51:46.192Z"
      },
      {
        "duration": 0,
        "start_time": "2022-10-17T15:51:46.381Z"
      },
      {
        "duration": 6,
        "start_time": "2022-10-17T15:52:06.120Z"
      },
      {
        "duration": 8,
        "start_time": "2022-10-17T15:52:22.461Z"
      },
      {
        "duration": 9,
        "start_time": "2022-10-17T15:53:54.322Z"
      },
      {
        "duration": 7,
        "start_time": "2022-10-17T15:54:02.238Z"
      },
      {
        "duration": 5,
        "start_time": "2022-10-17T15:54:14.285Z"
      },
      {
        "duration": 5,
        "start_time": "2022-10-17T15:54:51.546Z"
      },
      {
        "duration": 28,
        "start_time": "2022-10-17T15:55:08.505Z"
      },
      {
        "duration": 11,
        "start_time": "2022-10-17T15:56:02.512Z"
      },
      {
        "duration": 52,
        "start_time": "2022-10-17T15:56:04.041Z"
      },
      {
        "duration": 2,
        "start_time": "2022-10-17T15:56:17.404Z"
      },
      {
        "duration": 6,
        "start_time": "2022-10-17T15:56:18.039Z"
      },
      {
        "duration": 1462,
        "start_time": "2022-10-17T15:56:24.230Z"
      },
      {
        "duration": 48,
        "start_time": "2022-10-17T15:56:25.696Z"
      },
      {
        "duration": 19,
        "start_time": "2022-10-17T15:56:25.746Z"
      },
      {
        "duration": 13,
        "start_time": "2022-10-17T15:56:25.766Z"
      },
      {
        "duration": 9,
        "start_time": "2022-10-17T15:56:25.782Z"
      },
      {
        "duration": 6,
        "start_time": "2022-10-17T15:56:25.793Z"
      },
      {
        "duration": 40,
        "start_time": "2022-10-17T15:56:25.801Z"
      },
      {
        "duration": 12,
        "start_time": "2022-10-17T15:56:25.843Z"
      },
      {
        "duration": 14,
        "start_time": "2022-10-17T15:56:25.857Z"
      },
      {
        "duration": 20,
        "start_time": "2022-10-17T15:56:25.872Z"
      },
      {
        "duration": 11,
        "start_time": "2022-10-17T15:56:25.893Z"
      },
      {
        "duration": 31,
        "start_time": "2022-10-17T15:56:25.906Z"
      },
      {
        "duration": 17,
        "start_time": "2022-10-17T15:56:25.939Z"
      },
      {
        "duration": 7,
        "start_time": "2022-10-17T15:56:25.959Z"
      },
      {
        "duration": 11,
        "start_time": "2022-10-17T15:56:25.967Z"
      },
      {
        "duration": 3,
        "start_time": "2022-10-17T15:56:25.980Z"
      },
      {
        "duration": 39,
        "start_time": "2022-10-17T15:56:25.984Z"
      },
      {
        "duration": 29,
        "start_time": "2022-10-17T15:56:26.024Z"
      },
      {
        "duration": 30,
        "start_time": "2022-10-17T15:56:26.055Z"
      },
      {
        "duration": 31,
        "start_time": "2022-10-17T15:56:26.086Z"
      },
      {
        "duration": 35,
        "start_time": "2022-10-17T15:56:26.119Z"
      },
      {
        "duration": 7,
        "start_time": "2022-10-17T15:56:26.156Z"
      },
      {
        "duration": 5,
        "start_time": "2022-10-17T15:56:26.165Z"
      },
      {
        "duration": 6,
        "start_time": "2022-10-17T15:56:26.171Z"
      },
      {
        "duration": 51,
        "start_time": "2022-10-17T15:56:26.178Z"
      },
      {
        "duration": 4,
        "start_time": "2022-10-17T15:56:26.230Z"
      },
      {
        "duration": 7,
        "start_time": "2022-10-17T15:56:26.235Z"
      },
      {
        "duration": 14,
        "start_time": "2022-10-17T15:56:26.244Z"
      },
      {
        "duration": 5,
        "start_time": "2022-10-17T15:56:26.259Z"
      },
      {
        "duration": 8,
        "start_time": "2022-10-17T15:56:26.265Z"
      },
      {
        "duration": 12,
        "start_time": "2022-10-17T15:56:26.274Z"
      },
      {
        "duration": 30,
        "start_time": "2022-10-17T15:56:26.287Z"
      },
      {
        "duration": 19,
        "start_time": "2022-10-17T15:56:26.318Z"
      },
      {
        "duration": 9,
        "start_time": "2022-10-17T15:56:26.339Z"
      },
      {
        "duration": 8,
        "start_time": "2022-10-17T15:56:26.350Z"
      },
      {
        "duration": 6,
        "start_time": "2022-10-17T15:56:26.360Z"
      },
      {
        "duration": 9,
        "start_time": "2022-10-17T15:56:26.368Z"
      },
      {
        "duration": 6,
        "start_time": "2022-10-17T15:56:26.378Z"
      },
      {
        "duration": 7,
        "start_time": "2022-10-17T15:56:26.386Z"
      },
      {
        "duration": 34,
        "start_time": "2022-10-17T15:56:26.395Z"
      },
      {
        "duration": 5,
        "start_time": "2022-10-17T15:56:26.434Z"
      },
      {
        "duration": 24,
        "start_time": "2022-10-17T15:56:26.440Z"
      },
      {
        "duration": 161,
        "start_time": "2022-10-17T15:56:26.466Z"
      },
      {
        "duration": 17,
        "start_time": "2022-10-17T15:56:26.629Z"
      },
      {
        "duration": 5,
        "start_time": "2022-10-17T15:56:26.647Z"
      },
      {
        "duration": 31,
        "start_time": "2022-10-17T15:56:26.653Z"
      },
      {
        "duration": 5,
        "start_time": "2022-10-17T15:56:26.686Z"
      },
      {
        "duration": 28,
        "start_time": "2022-10-17T15:56:26.693Z"
      },
      {
        "duration": 11,
        "start_time": "2022-10-17T15:56:26.723Z"
      },
      {
        "duration": 15,
        "start_time": "2022-10-17T15:56:26.736Z"
      },
      {
        "duration": 12,
        "start_time": "2022-10-17T15:56:26.753Z"
      },
      {
        "duration": 8,
        "start_time": "2022-10-17T15:56:26.767Z"
      },
      {
        "duration": 8,
        "start_time": "2022-10-17T15:56:26.776Z"
      },
      {
        "duration": 6,
        "start_time": "2022-10-17T15:56:26.786Z"
      },
      {
        "duration": 33,
        "start_time": "2022-10-17T15:56:26.794Z"
      },
      {
        "duration": 21,
        "start_time": "2022-10-17T15:56:26.830Z"
      },
      {
        "duration": 5,
        "start_time": "2022-10-17T15:56:26.853Z"
      },
      {
        "duration": 21,
        "start_time": "2022-10-17T15:56:26.860Z"
      },
      {
        "duration": 14,
        "start_time": "2022-10-17T15:56:26.883Z"
      },
      {
        "duration": 28,
        "start_time": "2022-10-17T15:56:26.898Z"
      },
      {
        "duration": 13,
        "start_time": "2022-10-17T15:56:26.928Z"
      },
      {
        "duration": 7,
        "start_time": "2022-10-17T15:56:26.943Z"
      },
      {
        "duration": 8,
        "start_time": "2022-10-17T15:56:26.952Z"
      },
      {
        "duration": 12,
        "start_time": "2022-10-17T15:56:26.962Z"
      },
      {
        "duration": 14,
        "start_time": "2022-10-17T15:56:26.976Z"
      },
      {
        "duration": 7,
        "start_time": "2022-10-17T15:56:26.992Z"
      },
      {
        "duration": 18,
        "start_time": "2022-10-17T15:56:27.009Z"
      },
      {
        "duration": 307,
        "start_time": "2022-10-17T15:56:27.029Z"
      },
      {
        "duration": 3,
        "start_time": "2022-10-17T15:56:27.337Z"
      },
      {
        "duration": 5,
        "start_time": "2022-10-17T15:56:27.342Z"
      },
      {
        "duration": 6,
        "start_time": "2022-10-17T15:56:27.348Z"
      },
      {
        "duration": 5,
        "start_time": "2022-10-17T15:56:27.356Z"
      },
      {
        "duration": 206,
        "start_time": "2022-10-17T15:56:27.363Z"
      },
      {
        "duration": 0,
        "start_time": "2022-10-17T15:56:27.572Z"
      },
      {
        "duration": 8,
        "start_time": "2022-10-17T15:56:51.307Z"
      },
      {
        "duration": 2,
        "start_time": "2022-10-17T15:56:54.450Z"
      },
      {
        "duration": 7,
        "start_time": "2022-10-17T15:56:55.022Z"
      },
      {
        "duration": 1472,
        "start_time": "2022-10-17T15:57:01.736Z"
      },
      {
        "duration": 43,
        "start_time": "2022-10-17T15:57:03.210Z"
      },
      {
        "duration": 15,
        "start_time": "2022-10-17T15:57:03.255Z"
      },
      {
        "duration": 21,
        "start_time": "2022-10-17T15:57:03.271Z"
      },
      {
        "duration": 36,
        "start_time": "2022-10-17T15:57:03.294Z"
      },
      {
        "duration": 18,
        "start_time": "2022-10-17T15:57:03.332Z"
      },
      {
        "duration": 28,
        "start_time": "2022-10-17T15:57:03.352Z"
      },
      {
        "duration": 22,
        "start_time": "2022-10-17T15:57:03.381Z"
      },
      {
        "duration": 48,
        "start_time": "2022-10-17T15:57:03.405Z"
      },
      {
        "duration": 35,
        "start_time": "2022-10-17T15:57:03.454Z"
      },
      {
        "duration": 10,
        "start_time": "2022-10-17T15:57:03.491Z"
      },
      {
        "duration": 49,
        "start_time": "2022-10-17T15:57:03.503Z"
      },
      {
        "duration": 33,
        "start_time": "2022-10-17T15:57:03.553Z"
      },
      {
        "duration": 8,
        "start_time": "2022-10-17T15:57:03.590Z"
      },
      {
        "duration": 34,
        "start_time": "2022-10-17T15:57:03.600Z"
      },
      {
        "duration": 25,
        "start_time": "2022-10-17T15:57:03.636Z"
      },
      {
        "duration": 40,
        "start_time": "2022-10-17T15:57:03.663Z"
      },
      {
        "duration": 50,
        "start_time": "2022-10-17T15:57:03.704Z"
      },
      {
        "duration": 26,
        "start_time": "2022-10-17T15:57:03.756Z"
      },
      {
        "duration": 29,
        "start_time": "2022-10-17T15:57:03.784Z"
      },
      {
        "duration": 67,
        "start_time": "2022-10-17T15:57:03.815Z"
      },
      {
        "duration": 49,
        "start_time": "2022-10-17T15:57:03.884Z"
      },
      {
        "duration": 21,
        "start_time": "2022-10-17T15:57:03.935Z"
      },
      {
        "duration": 30,
        "start_time": "2022-10-17T15:57:03.958Z"
      },
      {
        "duration": 64,
        "start_time": "2022-10-17T15:57:03.990Z"
      },
      {
        "duration": 6,
        "start_time": "2022-10-17T15:57:04.056Z"
      },
      {
        "duration": 27,
        "start_time": "2022-10-17T15:57:04.064Z"
      },
      {
        "duration": 39,
        "start_time": "2022-10-17T15:57:04.093Z"
      },
      {
        "duration": 20,
        "start_time": "2022-10-17T15:57:04.135Z"
      },
      {
        "duration": 14,
        "start_time": "2022-10-17T15:57:04.158Z"
      },
      {
        "duration": 37,
        "start_time": "2022-10-17T15:57:04.174Z"
      },
      {
        "duration": 38,
        "start_time": "2022-10-17T15:57:04.213Z"
      },
      {
        "duration": 12,
        "start_time": "2022-10-17T15:57:04.253Z"
      },
      {
        "duration": 18,
        "start_time": "2022-10-17T15:57:04.267Z"
      },
      {
        "duration": 43,
        "start_time": "2022-10-17T15:57:04.287Z"
      },
      {
        "duration": 5,
        "start_time": "2022-10-17T15:57:04.332Z"
      },
      {
        "duration": 15,
        "start_time": "2022-10-17T15:57:04.338Z"
      },
      {
        "duration": 25,
        "start_time": "2022-10-17T15:57:04.354Z"
      },
      {
        "duration": 37,
        "start_time": "2022-10-17T15:57:04.381Z"
      },
      {
        "duration": 50,
        "start_time": "2022-10-17T15:57:04.420Z"
      },
      {
        "duration": 16,
        "start_time": "2022-10-17T15:57:04.474Z"
      },
      {
        "duration": 37,
        "start_time": "2022-10-17T15:57:04.492Z"
      },
      {
        "duration": 150,
        "start_time": "2022-10-17T15:57:04.531Z"
      },
      {
        "duration": 18,
        "start_time": "2022-10-17T15:57:04.684Z"
      },
      {
        "duration": 3,
        "start_time": "2022-10-17T15:57:04.704Z"
      },
      {
        "duration": 48,
        "start_time": "2022-10-17T15:57:04.712Z"
      },
      {
        "duration": 6,
        "start_time": "2022-10-17T15:57:04.762Z"
      },
      {
        "duration": 12,
        "start_time": "2022-10-17T15:57:04.769Z"
      },
      {
        "duration": 20,
        "start_time": "2022-10-17T15:57:04.782Z"
      },
      {
        "duration": 35,
        "start_time": "2022-10-17T15:57:04.804Z"
      },
      {
        "duration": 30,
        "start_time": "2022-10-17T15:57:04.841Z"
      },
      {
        "duration": 31,
        "start_time": "2022-10-17T15:57:04.873Z"
      },
      {
        "duration": 38,
        "start_time": "2022-10-17T15:57:04.906Z"
      },
      {
        "duration": 33,
        "start_time": "2022-10-17T15:57:04.946Z"
      },
      {
        "duration": 46,
        "start_time": "2022-10-17T15:57:04.981Z"
      },
      {
        "duration": 34,
        "start_time": "2022-10-17T15:57:05.029Z"
      },
      {
        "duration": 20,
        "start_time": "2022-10-17T15:57:05.065Z"
      },
      {
        "duration": 17,
        "start_time": "2022-10-17T15:57:05.086Z"
      },
      {
        "duration": 36,
        "start_time": "2022-10-17T15:57:05.104Z"
      },
      {
        "duration": 10,
        "start_time": "2022-10-17T15:57:05.142Z"
      },
      {
        "duration": 18,
        "start_time": "2022-10-17T15:57:05.153Z"
      },
      {
        "duration": 25,
        "start_time": "2022-10-17T15:57:05.173Z"
      },
      {
        "duration": 34,
        "start_time": "2022-10-17T15:57:05.200Z"
      },
      {
        "duration": 28,
        "start_time": "2022-10-17T15:57:05.236Z"
      },
      {
        "duration": 50,
        "start_time": "2022-10-17T15:57:05.265Z"
      },
      {
        "duration": 40,
        "start_time": "2022-10-17T15:57:05.317Z"
      },
      {
        "duration": 42,
        "start_time": "2022-10-17T15:57:05.359Z"
      },
      {
        "duration": 263,
        "start_time": "2022-10-17T15:57:05.402Z"
      },
      {
        "duration": 3,
        "start_time": "2022-10-17T15:57:05.667Z"
      },
      {
        "duration": 28,
        "start_time": "2022-10-17T15:57:05.672Z"
      },
      {
        "duration": 35,
        "start_time": "2022-10-17T15:57:05.703Z"
      },
      {
        "duration": 20,
        "start_time": "2022-10-17T15:57:05.740Z"
      },
      {
        "duration": 194,
        "start_time": "2022-10-17T15:57:05.762Z"
      },
      {
        "duration": 0,
        "start_time": "2022-10-17T15:57:05.959Z"
      },
      {
        "duration": 4,
        "start_time": "2022-10-17T15:57:30.763Z"
      },
      {
        "duration": 8,
        "start_time": "2022-10-17T15:57:32.039Z"
      },
      {
        "duration": 7,
        "start_time": "2022-10-17T15:57:34.022Z"
      },
      {
        "duration": 5,
        "start_time": "2022-10-17T15:57:35.993Z"
      },
      {
        "duration": 7,
        "start_time": "2022-10-17T15:57:38.830Z"
      },
      {
        "duration": 1477,
        "start_time": "2022-10-17T15:57:45.542Z"
      },
      {
        "duration": 40,
        "start_time": "2022-10-17T15:57:47.030Z"
      },
      {
        "duration": 21,
        "start_time": "2022-10-17T15:57:47.072Z"
      },
      {
        "duration": 16,
        "start_time": "2022-10-17T15:57:47.095Z"
      },
      {
        "duration": 17,
        "start_time": "2022-10-17T15:57:47.125Z"
      },
      {
        "duration": 11,
        "start_time": "2022-10-17T15:57:47.144Z"
      },
      {
        "duration": 19,
        "start_time": "2022-10-17T15:57:47.156Z"
      },
      {
        "duration": 12,
        "start_time": "2022-10-17T15:57:47.177Z"
      },
      {
        "duration": 16,
        "start_time": "2022-10-17T15:57:47.190Z"
      },
      {
        "duration": 31,
        "start_time": "2022-10-17T15:57:47.207Z"
      },
      {
        "duration": 11,
        "start_time": "2022-10-17T15:57:47.239Z"
      },
      {
        "duration": 19,
        "start_time": "2022-10-17T15:57:47.252Z"
      },
      {
        "duration": 19,
        "start_time": "2022-10-17T15:57:47.272Z"
      },
      {
        "duration": 7,
        "start_time": "2022-10-17T15:57:47.295Z"
      },
      {
        "duration": 52,
        "start_time": "2022-10-17T15:57:47.304Z"
      },
      {
        "duration": 6,
        "start_time": "2022-10-17T15:57:47.360Z"
      },
      {
        "duration": 36,
        "start_time": "2022-10-17T15:57:47.367Z"
      },
      {
        "duration": 37,
        "start_time": "2022-10-17T15:57:47.406Z"
      },
      {
        "duration": 55,
        "start_time": "2022-10-17T15:57:47.444Z"
      },
      {
        "duration": 43,
        "start_time": "2022-10-17T15:57:47.501Z"
      },
      {
        "duration": 40,
        "start_time": "2022-10-17T15:57:47.546Z"
      },
      {
        "duration": 5,
        "start_time": "2022-10-17T15:57:47.588Z"
      },
      {
        "duration": 8,
        "start_time": "2022-10-17T15:57:47.595Z"
      },
      {
        "duration": 13,
        "start_time": "2022-10-17T15:57:47.605Z"
      },
      {
        "duration": 34,
        "start_time": "2022-10-17T15:57:47.619Z"
      },
      {
        "duration": 3,
        "start_time": "2022-10-17T15:57:47.654Z"
      },
      {
        "duration": 9,
        "start_time": "2022-10-17T15:57:47.658Z"
      },
      {
        "duration": 13,
        "start_time": "2022-10-17T15:57:47.668Z"
      },
      {
        "duration": 6,
        "start_time": "2022-10-17T15:57:47.682Z"
      },
      {
        "duration": 9,
        "start_time": "2022-10-17T15:57:47.690Z"
      },
      {
        "duration": 28,
        "start_time": "2022-10-17T15:57:47.700Z"
      },
      {
        "duration": 9,
        "start_time": "2022-10-17T15:57:47.730Z"
      },
      {
        "duration": 12,
        "start_time": "2022-10-17T15:57:47.741Z"
      },
      {
        "duration": 8,
        "start_time": "2022-10-17T15:57:47.754Z"
      },
      {
        "duration": 8,
        "start_time": "2022-10-17T15:57:47.763Z"
      },
      {
        "duration": 12,
        "start_time": "2022-10-17T15:57:47.773Z"
      },
      {
        "duration": 8,
        "start_time": "2022-10-17T15:57:47.787Z"
      },
      {
        "duration": 19,
        "start_time": "2022-10-17T15:57:47.796Z"
      },
      {
        "duration": 16,
        "start_time": "2022-10-17T15:57:47.817Z"
      },
      {
        "duration": 26,
        "start_time": "2022-10-17T15:57:47.835Z"
      },
      {
        "duration": 5,
        "start_time": "2022-10-17T15:57:47.868Z"
      },
      {
        "duration": 36,
        "start_time": "2022-10-17T15:57:47.875Z"
      },
      {
        "duration": 193,
        "start_time": "2022-10-17T15:57:47.913Z"
      },
      {
        "duration": 26,
        "start_time": "2022-10-17T15:57:48.112Z"
      },
      {
        "duration": 3,
        "start_time": "2022-10-17T15:57:48.140Z"
      },
      {
        "duration": 24,
        "start_time": "2022-10-17T15:57:48.145Z"
      },
      {
        "duration": 6,
        "start_time": "2022-10-17T15:57:48.172Z"
      },
      {
        "duration": 8,
        "start_time": "2022-10-17T15:57:48.180Z"
      },
      {
        "duration": 57,
        "start_time": "2022-10-17T15:57:48.190Z"
      },
      {
        "duration": 16,
        "start_time": "2022-10-17T15:57:48.249Z"
      },
      {
        "duration": 9,
        "start_time": "2022-10-17T15:57:48.268Z"
      },
      {
        "duration": 10,
        "start_time": "2022-10-17T15:57:48.279Z"
      },
      {
        "duration": 9,
        "start_time": "2022-10-17T15:57:48.291Z"
      },
      {
        "duration": 4,
        "start_time": "2022-10-17T15:57:48.302Z"
      },
      {
        "duration": 50,
        "start_time": "2022-10-17T15:57:48.307Z"
      },
      {
        "duration": 21,
        "start_time": "2022-10-17T15:57:48.359Z"
      },
      {
        "duration": 5,
        "start_time": "2022-10-17T15:57:48.382Z"
      },
      {
        "duration": 8,
        "start_time": "2022-10-17T15:57:48.389Z"
      },
      {
        "duration": 20,
        "start_time": "2022-10-17T15:57:48.399Z"
      },
      {
        "duration": 19,
        "start_time": "2022-10-17T15:57:48.420Z"
      },
      {
        "duration": 11,
        "start_time": "2022-10-17T15:57:48.440Z"
      },
      {
        "duration": 7,
        "start_time": "2022-10-17T15:57:48.452Z"
      },
      {
        "duration": 4,
        "start_time": "2022-10-17T15:57:48.461Z"
      },
      {
        "duration": 5,
        "start_time": "2022-10-17T15:57:48.467Z"
      },
      {
        "duration": 9,
        "start_time": "2022-10-17T15:57:48.473Z"
      },
      {
        "duration": 7,
        "start_time": "2022-10-17T15:57:48.484Z"
      },
      {
        "duration": 31,
        "start_time": "2022-10-17T15:57:48.493Z"
      },
      {
        "duration": 251,
        "start_time": "2022-10-17T15:57:48.526Z"
      },
      {
        "duration": 3,
        "start_time": "2022-10-17T15:57:48.778Z"
      },
      {
        "duration": 8,
        "start_time": "2022-10-17T15:57:48.783Z"
      },
      {
        "duration": 8,
        "start_time": "2022-10-17T15:57:48.792Z"
      },
      {
        "duration": 39,
        "start_time": "2022-10-17T15:57:48.801Z"
      },
      {
        "duration": 253,
        "start_time": "2022-10-17T15:57:48.842Z"
      },
      {
        "duration": 0,
        "start_time": "2022-10-17T15:57:49.098Z"
      },
      {
        "duration": 1484,
        "start_time": "2022-10-17T15:58:04.955Z"
      },
      {
        "duration": 33,
        "start_time": "2022-10-17T15:58:06.441Z"
      },
      {
        "duration": 16,
        "start_time": "2022-10-17T15:58:06.476Z"
      },
      {
        "duration": 13,
        "start_time": "2022-10-17T15:58:06.494Z"
      },
      {
        "duration": 17,
        "start_time": "2022-10-17T15:58:06.508Z"
      },
      {
        "duration": 15,
        "start_time": "2022-10-17T15:58:06.528Z"
      },
      {
        "duration": 19,
        "start_time": "2022-10-17T15:58:06.544Z"
      },
      {
        "duration": 9,
        "start_time": "2022-10-17T15:58:06.564Z"
      },
      {
        "duration": 16,
        "start_time": "2022-10-17T15:58:06.575Z"
      },
      {
        "duration": 29,
        "start_time": "2022-10-17T15:58:06.594Z"
      },
      {
        "duration": 11,
        "start_time": "2022-10-17T15:58:06.625Z"
      },
      {
        "duration": 14,
        "start_time": "2022-10-17T15:58:06.638Z"
      },
      {
        "duration": 19,
        "start_time": "2022-10-17T15:58:06.654Z"
      },
      {
        "duration": 10,
        "start_time": "2022-10-17T15:58:06.675Z"
      },
      {
        "duration": 17,
        "start_time": "2022-10-17T15:58:06.687Z"
      },
      {
        "duration": 4,
        "start_time": "2022-10-17T15:58:06.721Z"
      },
      {
        "duration": 23,
        "start_time": "2022-10-17T15:58:06.728Z"
      },
      {
        "duration": 19,
        "start_time": "2022-10-17T15:58:06.753Z"
      },
      {
        "duration": 61,
        "start_time": "2022-10-17T15:58:06.774Z"
      },
      {
        "duration": 20,
        "start_time": "2022-10-17T15:58:06.837Z"
      },
      {
        "duration": 31,
        "start_time": "2022-10-17T15:58:06.859Z"
      },
      {
        "duration": 6,
        "start_time": "2022-10-17T15:58:06.891Z"
      },
      {
        "duration": 15,
        "start_time": "2022-10-17T15:58:06.898Z"
      },
      {
        "duration": 24,
        "start_time": "2022-10-17T15:58:06.914Z"
      },
      {
        "duration": 15,
        "start_time": "2022-10-17T15:58:06.940Z"
      },
      {
        "duration": 7,
        "start_time": "2022-10-17T15:58:06.957Z"
      },
      {
        "duration": 8,
        "start_time": "2022-10-17T15:58:06.965Z"
      },
      {
        "duration": 14,
        "start_time": "2022-10-17T15:58:06.977Z"
      },
      {
        "duration": 38,
        "start_time": "2022-10-17T15:58:06.993Z"
      },
      {
        "duration": 26,
        "start_time": "2022-10-17T15:58:07.033Z"
      },
      {
        "duration": 32,
        "start_time": "2022-10-17T15:58:07.060Z"
      },
      {
        "duration": 42,
        "start_time": "2022-10-17T15:58:07.093Z"
      },
      {
        "duration": 18,
        "start_time": "2022-10-17T15:58:07.137Z"
      },
      {
        "duration": 37,
        "start_time": "2022-10-17T15:58:07.157Z"
      },
      {
        "duration": 49,
        "start_time": "2022-10-17T15:58:07.196Z"
      },
      {
        "duration": 16,
        "start_time": "2022-10-17T15:58:07.247Z"
      },
      {
        "duration": 29,
        "start_time": "2022-10-17T15:58:07.265Z"
      },
      {
        "duration": 38,
        "start_time": "2022-10-17T15:58:07.296Z"
      },
      {
        "duration": 33,
        "start_time": "2022-10-17T15:58:07.336Z"
      },
      {
        "duration": 31,
        "start_time": "2022-10-17T15:58:07.371Z"
      },
      {
        "duration": 21,
        "start_time": "2022-10-17T15:58:07.404Z"
      },
      {
        "duration": 54,
        "start_time": "2022-10-17T15:58:07.427Z"
      },
      {
        "duration": 196,
        "start_time": "2022-10-17T15:58:07.483Z"
      },
      {
        "duration": 16,
        "start_time": "2022-10-17T15:58:07.681Z"
      },
      {
        "duration": 35,
        "start_time": "2022-10-17T15:58:07.698Z"
      },
      {
        "duration": 73,
        "start_time": "2022-10-17T15:58:07.735Z"
      },
      {
        "duration": 33,
        "start_time": "2022-10-17T15:58:07.809Z"
      },
      {
        "duration": 26,
        "start_time": "2022-10-17T15:58:07.844Z"
      },
      {
        "duration": 16,
        "start_time": "2022-10-17T15:58:07.871Z"
      },
      {
        "duration": 54,
        "start_time": "2022-10-17T15:58:07.889Z"
      },
      {
        "duration": 10,
        "start_time": "2022-10-17T15:58:07.945Z"
      },
      {
        "duration": 15,
        "start_time": "2022-10-17T15:58:07.956Z"
      },
      {
        "duration": 12,
        "start_time": "2022-10-17T15:58:07.972Z"
      },
      {
        "duration": 16,
        "start_time": "2022-10-17T15:58:07.985Z"
      },
      {
        "duration": 43,
        "start_time": "2022-10-17T15:58:08.003Z"
      },
      {
        "duration": 25,
        "start_time": "2022-10-17T15:58:08.048Z"
      },
      {
        "duration": 4,
        "start_time": "2022-10-17T15:58:08.075Z"
      },
      {
        "duration": 23,
        "start_time": "2022-10-17T15:58:08.080Z"
      },
      {
        "duration": 38,
        "start_time": "2022-10-17T15:58:08.105Z"
      },
      {
        "duration": 12,
        "start_time": "2022-10-17T15:58:08.145Z"
      },
      {
        "duration": 24,
        "start_time": "2022-10-17T15:58:08.159Z"
      },
      {
        "duration": 8,
        "start_time": "2022-10-17T15:58:08.185Z"
      },
      {
        "duration": 36,
        "start_time": "2022-10-17T15:58:08.194Z"
      },
      {
        "duration": 6,
        "start_time": "2022-10-17T15:58:08.232Z"
      },
      {
        "duration": 20,
        "start_time": "2022-10-17T15:58:08.240Z"
      },
      {
        "duration": 21,
        "start_time": "2022-10-17T15:58:08.261Z"
      },
      {
        "duration": 51,
        "start_time": "2022-10-17T15:58:08.284Z"
      },
      {
        "duration": 228,
        "start_time": "2022-10-17T15:58:08.337Z"
      },
      {
        "duration": 3,
        "start_time": "2022-10-17T15:58:08.567Z"
      },
      {
        "duration": 14,
        "start_time": "2022-10-17T15:58:08.572Z"
      },
      {
        "duration": 17,
        "start_time": "2022-10-17T15:58:08.588Z"
      },
      {
        "duration": 37,
        "start_time": "2022-10-17T15:58:08.607Z"
      },
      {
        "duration": 201,
        "start_time": "2022-10-17T15:58:08.646Z"
      },
      {
        "duration": 0,
        "start_time": "2022-10-17T15:58:08.849Z"
      },
      {
        "duration": 27,
        "start_time": "2022-10-17T15:59:35.665Z"
      },
      {
        "duration": 6,
        "start_time": "2022-10-17T15:59:37.542Z"
      },
      {
        "duration": 15,
        "start_time": "2022-10-17T15:59:38.309Z"
      },
      {
        "duration": 4,
        "start_time": "2022-10-17T15:59:38.897Z"
      },
      {
        "duration": 3,
        "start_time": "2022-10-17T15:59:40.267Z"
      },
      {
        "duration": 3,
        "start_time": "2022-10-17T15:59:40.663Z"
      },
      {
        "duration": 3,
        "start_time": "2022-10-17T15:59:41.294Z"
      },
      {
        "duration": 4,
        "start_time": "2022-10-17T15:59:41.948Z"
      },
      {
        "duration": 37,
        "start_time": "2022-10-17T15:59:43.469Z"
      },
      {
        "duration": 3,
        "start_time": "2022-10-17T15:59:44.340Z"
      },
      {
        "duration": 1412,
        "start_time": "2022-10-17T16:00:20.561Z"
      },
      {
        "duration": 32,
        "start_time": "2022-10-17T16:00:21.975Z"
      },
      {
        "duration": 28,
        "start_time": "2022-10-17T16:00:22.008Z"
      },
      {
        "duration": 21,
        "start_time": "2022-10-17T16:00:22.038Z"
      },
      {
        "duration": 17,
        "start_time": "2022-10-17T16:00:22.062Z"
      },
      {
        "duration": 40,
        "start_time": "2022-10-17T16:00:22.081Z"
      },
      {
        "duration": 34,
        "start_time": "2022-10-17T16:00:22.123Z"
      },
      {
        "duration": 16,
        "start_time": "2022-10-17T16:00:22.159Z"
      },
      {
        "duration": 26,
        "start_time": "2022-10-17T16:00:22.177Z"
      },
      {
        "duration": 36,
        "start_time": "2022-10-17T16:00:22.205Z"
      },
      {
        "duration": 9,
        "start_time": "2022-10-17T16:00:22.243Z"
      },
      {
        "duration": 27,
        "start_time": "2022-10-17T16:00:22.253Z"
      },
      {
        "duration": 41,
        "start_time": "2022-10-17T16:00:22.281Z"
      },
      {
        "duration": 11,
        "start_time": "2022-10-17T16:00:22.325Z"
      },
      {
        "duration": 46,
        "start_time": "2022-10-17T16:00:22.338Z"
      },
      {
        "duration": 38,
        "start_time": "2022-10-17T16:00:22.386Z"
      },
      {
        "duration": 39,
        "start_time": "2022-10-17T16:00:22.426Z"
      },
      {
        "duration": 19,
        "start_time": "2022-10-17T16:00:22.466Z"
      },
      {
        "duration": 66,
        "start_time": "2022-10-17T16:00:22.486Z"
      },
      {
        "duration": 37,
        "start_time": "2022-10-17T16:00:22.554Z"
      },
      {
        "duration": 64,
        "start_time": "2022-10-17T16:00:22.593Z"
      },
      {
        "duration": 13,
        "start_time": "2022-10-17T16:00:22.659Z"
      },
      {
        "duration": 56,
        "start_time": "2022-10-17T16:00:22.673Z"
      },
      {
        "duration": 37,
        "start_time": "2022-10-17T16:00:22.732Z"
      },
      {
        "duration": 52,
        "start_time": "2022-10-17T16:00:22.771Z"
      },
      {
        "duration": 21,
        "start_time": "2022-10-17T16:00:22.825Z"
      },
      {
        "duration": 38,
        "start_time": "2022-10-17T16:00:22.849Z"
      },
      {
        "duration": 60,
        "start_time": "2022-10-17T16:00:22.889Z"
      },
      {
        "duration": 33,
        "start_time": "2022-10-17T16:00:22.952Z"
      },
      {
        "duration": 19,
        "start_time": "2022-10-17T16:00:22.986Z"
      },
      {
        "duration": 45,
        "start_time": "2022-10-17T16:00:23.007Z"
      },
      {
        "duration": 16,
        "start_time": "2022-10-17T16:00:23.054Z"
      },
      {
        "duration": 9,
        "start_time": "2022-10-17T16:00:23.072Z"
      },
      {
        "duration": 6,
        "start_time": "2022-10-17T16:00:23.083Z"
      },
      {
        "duration": 11,
        "start_time": "2022-10-17T16:00:23.091Z"
      },
      {
        "duration": 26,
        "start_time": "2022-10-17T16:00:23.104Z"
      },
      {
        "duration": 7,
        "start_time": "2022-10-17T16:00:23.132Z"
      },
      {
        "duration": 9,
        "start_time": "2022-10-17T16:00:23.141Z"
      },
      {
        "duration": 8,
        "start_time": "2022-10-17T16:00:23.152Z"
      },
      {
        "duration": 24,
        "start_time": "2022-10-17T16:00:23.161Z"
      },
      {
        "duration": 5,
        "start_time": "2022-10-17T16:00:23.191Z"
      },
      {
        "duration": 33,
        "start_time": "2022-10-17T16:00:23.198Z"
      },
      {
        "duration": 133,
        "start_time": "2022-10-17T16:00:23.234Z"
      },
      {
        "duration": 16,
        "start_time": "2022-10-17T16:00:23.369Z"
      },
      {
        "duration": 11,
        "start_time": "2022-10-17T16:00:23.387Z"
      },
      {
        "duration": 60,
        "start_time": "2022-10-17T16:00:23.399Z"
      },
      {
        "duration": 4,
        "start_time": "2022-10-17T16:00:23.461Z"
      },
      {
        "duration": 34,
        "start_time": "2022-10-17T16:00:23.467Z"
      },
      {
        "duration": 32,
        "start_time": "2022-10-17T16:00:23.503Z"
      },
      {
        "duration": 20,
        "start_time": "2022-10-17T16:00:23.536Z"
      },
      {
        "duration": 32,
        "start_time": "2022-10-17T16:00:23.557Z"
      },
      {
        "duration": 41,
        "start_time": "2022-10-17T16:00:23.591Z"
      },
      {
        "duration": 24,
        "start_time": "2022-10-17T16:00:23.633Z"
      },
      {
        "duration": 18,
        "start_time": "2022-10-17T16:00:23.658Z"
      },
      {
        "duration": 60,
        "start_time": "2022-10-17T16:00:23.678Z"
      },
      {
        "duration": 31,
        "start_time": "2022-10-17T16:00:23.740Z"
      },
      {
        "duration": 20,
        "start_time": "2022-10-17T16:00:23.773Z"
      },
      {
        "duration": 26,
        "start_time": "2022-10-17T16:00:23.794Z"
      },
      {
        "duration": 51,
        "start_time": "2022-10-17T16:00:23.823Z"
      },
      {
        "duration": 11,
        "start_time": "2022-10-17T16:00:23.876Z"
      },
      {
        "duration": 42,
        "start_time": "2022-10-17T16:00:23.889Z"
      },
      {
        "duration": 39,
        "start_time": "2022-10-17T16:00:23.932Z"
      },
      {
        "duration": 13,
        "start_time": "2022-10-17T16:00:23.973Z"
      },
      {
        "duration": 31,
        "start_time": "2022-10-17T16:00:23.988Z"
      },
      {
        "duration": 29,
        "start_time": "2022-10-17T16:00:24.021Z"
      },
      {
        "duration": 14,
        "start_time": "2022-10-17T16:00:24.052Z"
      },
      {
        "duration": 17,
        "start_time": "2022-10-17T16:00:24.067Z"
      },
      {
        "duration": 56,
        "start_time": "2022-10-17T16:00:24.085Z"
      },
      {
        "duration": 247,
        "start_time": "2022-10-17T16:00:24.143Z"
      },
      {
        "duration": 3,
        "start_time": "2022-10-17T16:00:24.391Z"
      },
      {
        "duration": 28,
        "start_time": "2022-10-17T16:00:24.396Z"
      },
      {
        "duration": 20,
        "start_time": "2022-10-17T16:00:24.426Z"
      },
      {
        "duration": 11,
        "start_time": "2022-10-17T16:00:24.448Z"
      },
      {
        "duration": 185,
        "start_time": "2022-10-17T16:00:24.461Z"
      },
      {
        "duration": 0,
        "start_time": "2022-10-17T16:00:24.648Z"
      },
      {
        "duration": 1396,
        "start_time": "2022-10-17T16:00:49.123Z"
      },
      {
        "duration": 32,
        "start_time": "2022-10-17T16:00:50.523Z"
      },
      {
        "duration": 15,
        "start_time": "2022-10-17T16:00:50.557Z"
      },
      {
        "duration": 13,
        "start_time": "2022-10-17T16:00:50.574Z"
      },
      {
        "duration": 10,
        "start_time": "2022-10-17T16:00:50.589Z"
      },
      {
        "duration": 21,
        "start_time": "2022-10-17T16:00:50.601Z"
      },
      {
        "duration": 23,
        "start_time": "2022-10-17T16:00:50.624Z"
      },
      {
        "duration": 9,
        "start_time": "2022-10-17T16:00:50.648Z"
      },
      {
        "duration": 17,
        "start_time": "2022-10-17T16:00:50.659Z"
      },
      {
        "duration": 21,
        "start_time": "2022-10-17T16:00:50.678Z"
      },
      {
        "duration": 22,
        "start_time": "2022-10-17T16:00:50.701Z"
      },
      {
        "duration": 16,
        "start_time": "2022-10-17T16:00:50.725Z"
      },
      {
        "duration": 12,
        "start_time": "2022-10-17T16:00:50.742Z"
      },
      {
        "duration": 7,
        "start_time": "2022-10-17T16:00:50.756Z"
      },
      {
        "duration": 13,
        "start_time": "2022-10-17T16:00:50.765Z"
      },
      {
        "duration": 5,
        "start_time": "2022-10-17T16:00:50.780Z"
      },
      {
        "duration": 42,
        "start_time": "2022-10-17T16:00:50.786Z"
      },
      {
        "duration": 23,
        "start_time": "2022-10-17T16:00:50.831Z"
      },
      {
        "duration": 29,
        "start_time": "2022-10-17T16:00:50.856Z"
      },
      {
        "duration": 39,
        "start_time": "2022-10-17T16:00:50.886Z"
      },
      {
        "duration": 25,
        "start_time": "2022-10-17T16:00:50.931Z"
      },
      {
        "duration": 5,
        "start_time": "2022-10-17T16:00:50.958Z"
      },
      {
        "duration": 8,
        "start_time": "2022-10-17T16:00:50.964Z"
      },
      {
        "duration": 7,
        "start_time": "2022-10-17T16:00:50.973Z"
      },
      {
        "duration": 18,
        "start_time": "2022-10-17T16:00:50.982Z"
      },
      {
        "duration": 3,
        "start_time": "2022-10-17T16:00:51.016Z"
      },
      {
        "duration": 9,
        "start_time": "2022-10-17T16:00:51.021Z"
      },
      {
        "duration": 12,
        "start_time": "2022-10-17T16:00:51.032Z"
      },
      {
        "duration": 14,
        "start_time": "2022-10-17T16:00:51.046Z"
      },
      {
        "duration": 9,
        "start_time": "2022-10-17T16:00:51.061Z"
      },
      {
        "duration": 12,
        "start_time": "2022-10-17T16:00:51.072Z"
      },
      {
        "duration": 8,
        "start_time": "2022-10-17T16:00:51.085Z"
      },
      {
        "duration": 8,
        "start_time": "2022-10-17T16:00:51.094Z"
      },
      {
        "duration": 20,
        "start_time": "2022-10-17T16:00:51.104Z"
      },
      {
        "duration": 9,
        "start_time": "2022-10-17T16:00:51.126Z"
      },
      {
        "duration": 7,
        "start_time": "2022-10-17T16:00:51.136Z"
      },
      {
        "duration": 5,
        "start_time": "2022-10-17T16:00:51.144Z"
      },
      {
        "duration": 16,
        "start_time": "2022-10-17T16:00:51.151Z"
      },
      {
        "duration": 10,
        "start_time": "2022-10-17T16:00:51.169Z"
      },
      {
        "duration": 16,
        "start_time": "2022-10-17T16:00:51.181Z"
      },
      {
        "duration": 20,
        "start_time": "2022-10-17T16:00:51.201Z"
      },
      {
        "duration": 23,
        "start_time": "2022-10-17T16:00:51.223Z"
      },
      {
        "duration": 124,
        "start_time": "2022-10-17T16:00:51.248Z"
      },
      {
        "duration": 17,
        "start_time": "2022-10-17T16:00:51.373Z"
      },
      {
        "duration": 2,
        "start_time": "2022-10-17T16:00:51.392Z"
      },
      {
        "duration": 34,
        "start_time": "2022-10-17T16:00:51.395Z"
      },
      {
        "duration": 5,
        "start_time": "2022-10-17T16:00:51.430Z"
      },
      {
        "duration": 6,
        "start_time": "2022-10-17T16:00:51.436Z"
      },
      {
        "duration": 5,
        "start_time": "2022-10-17T16:00:51.443Z"
      },
      {
        "duration": 22,
        "start_time": "2022-10-17T16:00:51.450Z"
      },
      {
        "duration": 9,
        "start_time": "2022-10-17T16:00:51.473Z"
      },
      {
        "duration": 29,
        "start_time": "2022-10-17T16:00:51.484Z"
      },
      {
        "duration": 5,
        "start_time": "2022-10-17T16:00:51.515Z"
      },
      {
        "duration": 7,
        "start_time": "2022-10-17T16:00:51.525Z"
      },
      {
        "duration": 17,
        "start_time": "2022-10-17T16:00:51.533Z"
      },
      {
        "duration": 21,
        "start_time": "2022-10-17T16:00:51.551Z"
      },
      {
        "duration": 4,
        "start_time": "2022-10-17T16:00:51.573Z"
      },
      {
        "duration": 8,
        "start_time": "2022-10-17T16:00:51.578Z"
      },
      {
        "duration": 34,
        "start_time": "2022-10-17T16:00:51.587Z"
      },
      {
        "duration": 7,
        "start_time": "2022-10-17T16:00:51.625Z"
      },
      {
        "duration": 7,
        "start_time": "2022-10-17T16:00:51.633Z"
      },
      {
        "duration": 12,
        "start_time": "2022-10-17T16:00:51.641Z"
      },
      {
        "duration": 9,
        "start_time": "2022-10-17T16:00:51.654Z"
      },
      {
        "duration": 6,
        "start_time": "2022-10-17T16:00:51.664Z"
      },
      {
        "duration": 6,
        "start_time": "2022-10-17T16:00:51.671Z"
      },
      {
        "duration": 6,
        "start_time": "2022-10-17T16:00:51.678Z"
      },
      {
        "duration": 12,
        "start_time": "2022-10-17T16:00:51.711Z"
      },
      {
        "duration": 17,
        "start_time": "2022-10-17T16:00:51.726Z"
      },
      {
        "duration": 233,
        "start_time": "2022-10-17T16:00:51.745Z"
      },
      {
        "duration": 2,
        "start_time": "2022-10-17T16:00:51.980Z"
      },
      {
        "duration": 11,
        "start_time": "2022-10-17T16:00:51.984Z"
      },
      {
        "duration": 5,
        "start_time": "2022-10-17T16:00:51.996Z"
      },
      {
        "duration": 4,
        "start_time": "2022-10-17T16:00:52.002Z"
      },
      {
        "duration": 186804,
        "start_time": "2022-10-17T16:00:52.012Z"
      },
      {
        "duration": 5,
        "start_time": "2022-10-17T16:03:58.818Z"
      },
      {
        "duration": 1482,
        "start_time": "2022-10-17T16:15:46.954Z"
      },
      {
        "duration": 32,
        "start_time": "2022-10-17T16:15:48.439Z"
      },
      {
        "duration": 14,
        "start_time": "2022-10-17T16:15:48.473Z"
      },
      {
        "duration": 23,
        "start_time": "2022-10-17T16:15:48.489Z"
      },
      {
        "duration": 9,
        "start_time": "2022-10-17T16:15:48.514Z"
      },
      {
        "duration": 16,
        "start_time": "2022-10-17T16:15:48.524Z"
      },
      {
        "duration": 17,
        "start_time": "2022-10-17T16:15:48.542Z"
      },
      {
        "duration": 9,
        "start_time": "2022-10-17T16:15:48.560Z"
      },
      {
        "duration": 17,
        "start_time": "2022-10-17T16:15:48.571Z"
      },
      {
        "duration": 22,
        "start_time": "2022-10-17T16:15:48.590Z"
      },
      {
        "duration": 20,
        "start_time": "2022-10-17T16:15:48.614Z"
      },
      {
        "duration": 16,
        "start_time": "2022-10-17T16:15:48.636Z"
      },
      {
        "duration": 14,
        "start_time": "2022-10-17T16:15:48.654Z"
      },
      {
        "duration": 8,
        "start_time": "2022-10-17T16:15:48.671Z"
      },
      {
        "duration": 27,
        "start_time": "2022-10-17T16:15:48.681Z"
      },
      {
        "duration": 6,
        "start_time": "2022-10-17T16:15:48.709Z"
      },
      {
        "duration": 24,
        "start_time": "2022-10-17T16:15:48.717Z"
      },
      {
        "duration": 19,
        "start_time": "2022-10-17T16:15:48.743Z"
      },
      {
        "duration": 22,
        "start_time": "2022-10-17T16:15:48.763Z"
      },
      {
        "duration": 46,
        "start_time": "2022-10-17T16:15:48.787Z"
      },
      {
        "duration": 31,
        "start_time": "2022-10-17T16:15:48.835Z"
      },
      {
        "duration": 5,
        "start_time": "2022-10-17T16:15:48.868Z"
      },
      {
        "duration": 8,
        "start_time": "2022-10-17T16:15:48.875Z"
      },
      {
        "duration": 7,
        "start_time": "2022-10-17T16:15:48.885Z"
      },
      {
        "duration": 33,
        "start_time": "2022-10-17T16:15:48.894Z"
      },
      {
        "duration": 2,
        "start_time": "2022-10-17T16:15:48.930Z"
      },
      {
        "duration": 12,
        "start_time": "2022-10-17T16:15:48.933Z"
      },
      {
        "duration": 15,
        "start_time": "2022-10-17T16:15:48.947Z"
      },
      {
        "duration": 5,
        "start_time": "2022-10-17T16:15:48.964Z"
      },
      {
        "duration": 11,
        "start_time": "2022-10-17T16:15:48.971Z"
      },
      {
        "duration": 16,
        "start_time": "2022-10-17T16:15:48.983Z"
      },
      {
        "duration": 8,
        "start_time": "2022-10-17T16:15:49.011Z"
      },
      {
        "duration": 27,
        "start_time": "2022-10-17T16:15:49.021Z"
      },
      {
        "duration": 5,
        "start_time": "2022-10-17T16:15:49.050Z"
      },
      {
        "duration": 7,
        "start_time": "2022-10-17T16:15:49.057Z"
      },
      {
        "duration": 6,
        "start_time": "2022-10-17T16:15:49.066Z"
      },
      {
        "duration": 5,
        "start_time": "2022-10-17T16:15:49.074Z"
      },
      {
        "duration": 7,
        "start_time": "2022-10-17T16:15:49.080Z"
      },
      {
        "duration": 5,
        "start_time": "2022-10-17T16:15:49.089Z"
      },
      {
        "duration": 22,
        "start_time": "2022-10-17T16:15:49.096Z"
      },
      {
        "duration": 14,
        "start_time": "2022-10-17T16:15:49.123Z"
      },
      {
        "duration": 26,
        "start_time": "2022-10-17T16:15:49.139Z"
      },
      {
        "duration": 142,
        "start_time": "2022-10-17T16:15:49.167Z"
      },
      {
        "duration": 20,
        "start_time": "2022-10-17T16:15:49.317Z"
      },
      {
        "duration": 8,
        "start_time": "2022-10-17T16:15:49.339Z"
      },
      {
        "duration": 23,
        "start_time": "2022-10-17T16:15:49.348Z"
      },
      {
        "duration": 6,
        "start_time": "2022-10-17T16:15:49.373Z"
      },
      {
        "duration": 11,
        "start_time": "2022-10-17T16:15:49.381Z"
      },
      {
        "duration": 17,
        "start_time": "2022-10-17T16:15:49.394Z"
      },
      {
        "duration": 15,
        "start_time": "2022-10-17T16:15:49.412Z"
      },
      {
        "duration": 9,
        "start_time": "2022-10-17T16:15:49.430Z"
      },
      {
        "duration": 9,
        "start_time": "2022-10-17T16:15:49.441Z"
      },
      {
        "duration": 9,
        "start_time": "2022-10-17T16:15:49.451Z"
      },
      {
        "duration": 5,
        "start_time": "2022-10-17T16:15:49.461Z"
      },
      {
        "duration": 21,
        "start_time": "2022-10-17T16:15:49.468Z"
      },
      {
        "duration": 38,
        "start_time": "2022-10-17T16:15:49.512Z"
      },
      {
        "duration": 5,
        "start_time": "2022-10-17T16:15:49.551Z"
      },
      {
        "duration": 10,
        "start_time": "2022-10-17T16:15:49.558Z"
      },
      {
        "duration": 16,
        "start_time": "2022-10-17T16:15:49.569Z"
      },
      {
        "duration": 36,
        "start_time": "2022-10-17T16:15:49.586Z"
      },
      {
        "duration": 5,
        "start_time": "2022-10-17T16:15:49.625Z"
      },
      {
        "duration": 10,
        "start_time": "2022-10-17T16:15:49.632Z"
      },
      {
        "duration": 3,
        "start_time": "2022-10-17T16:15:49.644Z"
      },
      {
        "duration": 8,
        "start_time": "2022-10-17T16:15:49.649Z"
      },
      {
        "duration": 17,
        "start_time": "2022-10-17T16:15:49.658Z"
      },
      {
        "duration": 17,
        "start_time": "2022-10-17T16:15:49.677Z"
      },
      {
        "duration": 35,
        "start_time": "2022-10-17T16:15:49.696Z"
      },
      {
        "duration": 17,
        "start_time": "2022-10-17T16:15:49.733Z"
      },
      {
        "duration": 246,
        "start_time": "2022-10-17T16:15:49.752Z"
      },
      {
        "duration": 2,
        "start_time": "2022-10-17T16:15:50.000Z"
      },
      {
        "duration": 27,
        "start_time": "2022-10-17T16:15:50.003Z"
      },
      {
        "duration": 5,
        "start_time": "2022-10-17T16:15:50.032Z"
      },
      {
        "duration": 7,
        "start_time": "2022-10-17T16:15:50.039Z"
      },
      {
        "duration": 186169,
        "start_time": "2022-10-17T16:15:50.047Z"
      },
      {
        "duration": 5,
        "start_time": "2022-10-17T16:18:56.217Z"
      },
      {
        "duration": 624,
        "start_time": "2022-10-17T16:18:56.227Z"
      },
      {
        "duration": 510,
        "start_time": "2022-10-17T16:18:56.853Z"
      },
      {
        "duration": 6,
        "start_time": "2022-10-17T16:18:57.365Z"
      },
      {
        "duration": 47,
        "start_time": "2022-10-20T15:14:50.631Z"
      },
      {
        "duration": 3,
        "start_time": "2022-10-22T08:04:14.612Z"
      },
      {
        "duration": 1436,
        "start_time": "2022-10-22T08:04:14.617Z"
      },
      {
        "duration": 2775,
        "start_time": "2022-10-22T08:04:16.055Z"
      },
      {
        "duration": 26,
        "start_time": "2022-10-22T08:04:18.832Z"
      },
      {
        "duration": 85,
        "start_time": "2022-10-22T08:04:18.860Z"
      },
      {
        "duration": 14,
        "start_time": "2022-10-22T08:04:18.946Z"
      },
      {
        "duration": 12,
        "start_time": "2022-10-22T08:04:18.961Z"
      },
      {
        "duration": 7,
        "start_time": "2022-10-22T08:04:18.975Z"
      },
      {
        "duration": 7,
        "start_time": "2022-10-22T08:04:18.984Z"
      },
      {
        "duration": 40,
        "start_time": "2022-10-22T08:04:18.992Z"
      },
      {
        "duration": 8,
        "start_time": "2022-10-22T08:04:19.033Z"
      },
      {
        "duration": 17,
        "start_time": "2022-10-22T08:04:19.043Z"
      },
      {
        "duration": 32,
        "start_time": "2022-10-22T08:04:19.063Z"
      },
      {
        "duration": 10,
        "start_time": "2022-10-22T08:04:19.096Z"
      },
      {
        "duration": 12,
        "start_time": "2022-10-22T08:04:19.107Z"
      },
      {
        "duration": 29,
        "start_time": "2022-10-22T08:04:19.120Z"
      },
      {
        "duration": 7,
        "start_time": "2022-10-22T08:04:19.150Z"
      },
      {
        "duration": 13,
        "start_time": "2022-10-22T08:04:19.159Z"
      },
      {
        "duration": 34,
        "start_time": "2022-10-22T08:04:19.173Z"
      },
      {
        "duration": 17,
        "start_time": "2022-10-22T08:04:19.209Z"
      },
      {
        "duration": 21,
        "start_time": "2022-10-22T08:04:19.227Z"
      },
      {
        "duration": 14,
        "start_time": "2022-10-22T08:04:19.250Z"
      },
      {
        "duration": 44,
        "start_time": "2022-10-22T08:04:19.266Z"
      },
      {
        "duration": 6,
        "start_time": "2022-10-22T08:04:19.311Z"
      },
      {
        "duration": 5,
        "start_time": "2022-10-22T08:04:19.319Z"
      },
      {
        "duration": 16,
        "start_time": "2022-10-22T08:04:19.326Z"
      },
      {
        "duration": 5,
        "start_time": "2022-10-22T08:04:19.343Z"
      },
      {
        "duration": 4,
        "start_time": "2022-10-22T08:04:19.350Z"
      },
      {
        "duration": 4,
        "start_time": "2022-10-22T08:04:19.355Z"
      },
      {
        "duration": 6,
        "start_time": "2022-10-22T08:04:19.361Z"
      },
      {
        "duration": 33,
        "start_time": "2022-10-22T08:04:19.368Z"
      },
      {
        "duration": 14,
        "start_time": "2022-10-22T08:04:19.403Z"
      },
      {
        "duration": 6,
        "start_time": "2022-10-22T08:04:19.418Z"
      },
      {
        "duration": 9,
        "start_time": "2022-10-22T08:04:19.425Z"
      },
      {
        "duration": 12,
        "start_time": "2022-10-22T08:04:19.436Z"
      },
      {
        "duration": 7,
        "start_time": "2022-10-22T08:04:19.449Z"
      },
      {
        "duration": 4,
        "start_time": "2022-10-22T08:04:19.460Z"
      },
      {
        "duration": 6,
        "start_time": "2022-10-22T08:04:19.465Z"
      },
      {
        "duration": 7,
        "start_time": "2022-10-22T08:04:19.473Z"
      },
      {
        "duration": 21,
        "start_time": "2022-10-22T08:04:19.481Z"
      },
      {
        "duration": 6,
        "start_time": "2022-10-22T08:04:19.503Z"
      },
      {
        "duration": 6,
        "start_time": "2022-10-22T08:04:19.510Z"
      },
      {
        "duration": 5,
        "start_time": "2022-10-22T08:04:19.517Z"
      },
      {
        "duration": 15,
        "start_time": "2022-10-22T08:04:19.524Z"
      },
      {
        "duration": 4,
        "start_time": "2022-10-22T08:04:19.541Z"
      },
      {
        "duration": 12,
        "start_time": "2022-10-22T08:04:19.547Z"
      },
      {
        "duration": 6,
        "start_time": "2022-10-22T08:04:19.560Z"
      },
      {
        "duration": 7,
        "start_time": "2022-10-22T08:04:19.567Z"
      },
      {
        "duration": 24,
        "start_time": "2022-10-22T08:04:19.576Z"
      },
      {
        "duration": 7,
        "start_time": "2022-10-22T08:04:19.602Z"
      },
      {
        "duration": 7,
        "start_time": "2022-10-22T08:04:19.610Z"
      },
      {
        "duration": 10,
        "start_time": "2022-10-22T08:04:19.618Z"
      },
      {
        "duration": 13,
        "start_time": "2022-10-22T08:04:19.629Z"
      },
      {
        "duration": 4,
        "start_time": "2022-10-22T08:04:19.644Z"
      },
      {
        "duration": 12,
        "start_time": "2022-10-22T08:04:19.649Z"
      },
      {
        "duration": 26,
        "start_time": "2022-10-22T08:04:19.662Z"
      },
      {
        "duration": 22,
        "start_time": "2022-10-22T08:04:19.690Z"
      },
      {
        "duration": 10,
        "start_time": "2022-10-22T08:04:19.713Z"
      },
      {
        "duration": 29,
        "start_time": "2022-10-22T08:04:19.725Z"
      },
      {
        "duration": 9,
        "start_time": "2022-10-22T08:04:19.755Z"
      },
      {
        "duration": 25,
        "start_time": "2022-10-22T08:04:19.765Z"
      },
      {
        "duration": 30,
        "start_time": "2022-10-22T08:04:19.791Z"
      },
      {
        "duration": 153,
        "start_time": "2022-10-22T08:04:19.822Z"
      },
      {
        "duration": 141,
        "start_time": "2022-10-22T08:04:19.977Z"
      },
      {
        "duration": 145,
        "start_time": "2022-10-22T08:04:20.120Z"
      },
      {
        "duration": 5,
        "start_time": "2022-10-22T08:04:20.267Z"
      },
      {
        "duration": 28,
        "start_time": "2022-10-22T08:04:20.274Z"
      },
      {
        "duration": 12,
        "start_time": "2022-10-22T08:04:20.304Z"
      },
      {
        "duration": 41,
        "start_time": "2022-10-22T08:04:20.318Z"
      },
      {
        "duration": 43,
        "start_time": "2022-10-22T08:04:20.360Z"
      },
      {
        "duration": 16,
        "start_time": "2022-10-22T08:04:20.405Z"
      },
      {
        "duration": 49,
        "start_time": "2022-10-22T08:04:20.423Z"
      },
      {
        "duration": 24,
        "start_time": "2022-10-22T08:04:20.473Z"
      },
      {
        "duration": 88,
        "start_time": "2022-10-22T08:04:20.499Z"
      },
      {
        "duration": 68,
        "start_time": "2022-10-22T08:04:20.588Z"
      },
      {
        "duration": 23,
        "start_time": "2022-10-22T08:04:20.657Z"
      },
      {
        "duration": 5,
        "start_time": "2022-10-22T08:04:20.682Z"
      },
      {
        "duration": 86,
        "start_time": "2022-10-22T08:04:20.688Z"
      },
      {
        "duration": 4,
        "start_time": "2022-10-22T08:04:20.775Z"
      },
      {
        "duration": 22,
        "start_time": "2022-10-22T08:04:20.781Z"
      },
      {
        "duration": 21,
        "start_time": "2022-10-22T08:04:20.804Z"
      },
      {
        "duration": 6,
        "start_time": "2022-10-22T08:04:20.826Z"
      },
      {
        "duration": 3,
        "start_time": "2022-10-22T08:04:20.833Z"
      },
      {
        "duration": 14,
        "start_time": "2022-10-22T08:04:20.837Z"
      },
      {
        "duration": 3,
        "start_time": "2022-10-22T08:07:12.006Z"
      },
      {
        "duration": 1292,
        "start_time": "2022-10-22T08:07:12.010Z"
      },
      {
        "duration": 1872,
        "start_time": "2022-10-22T08:07:13.304Z"
      },
      {
        "duration": 40,
        "start_time": "2022-10-22T08:07:15.178Z"
      },
      {
        "duration": 81,
        "start_time": "2022-10-22T08:07:15.219Z"
      },
      {
        "duration": 16,
        "start_time": "2022-10-22T08:07:15.302Z"
      },
      {
        "duration": 16,
        "start_time": "2022-10-22T08:07:15.321Z"
      },
      {
        "duration": 8,
        "start_time": "2022-10-22T08:07:15.339Z"
      },
      {
        "duration": 8,
        "start_time": "2022-10-22T08:07:15.348Z"
      },
      {
        "duration": 38,
        "start_time": "2022-10-22T08:07:15.358Z"
      },
      {
        "duration": 7,
        "start_time": "2022-10-22T08:07:15.399Z"
      },
      {
        "duration": 22,
        "start_time": "2022-10-22T08:07:15.407Z"
      },
      {
        "duration": 37,
        "start_time": "2022-10-22T08:07:15.430Z"
      },
      {
        "duration": 10,
        "start_time": "2022-10-22T08:07:15.469Z"
      },
      {
        "duration": 18,
        "start_time": "2022-10-22T08:07:15.480Z"
      },
      {
        "duration": 35,
        "start_time": "2022-10-22T08:07:15.499Z"
      },
      {
        "duration": 6,
        "start_time": "2022-10-22T08:07:15.535Z"
      },
      {
        "duration": 10,
        "start_time": "2022-10-22T08:07:15.543Z"
      },
      {
        "duration": 20,
        "start_time": "2022-10-22T08:07:15.555Z"
      },
      {
        "duration": 16,
        "start_time": "2022-10-22T08:07:15.576Z"
      },
      {
        "duration": 21,
        "start_time": "2022-10-22T08:07:15.594Z"
      },
      {
        "duration": 14,
        "start_time": "2022-10-22T08:07:15.616Z"
      },
      {
        "duration": 20,
        "start_time": "2022-10-22T08:07:15.631Z"
      },
      {
        "duration": 3,
        "start_time": "2022-10-22T08:07:15.653Z"
      },
      {
        "duration": 11,
        "start_time": "2022-10-22T08:07:15.657Z"
      },
      {
        "duration": 34,
        "start_time": "2022-10-22T08:07:15.670Z"
      },
      {
        "duration": 5,
        "start_time": "2022-10-22T08:07:15.705Z"
      },
      {
        "duration": 13,
        "start_time": "2022-10-22T08:07:15.711Z"
      },
      {
        "duration": 3,
        "start_time": "2022-10-22T08:07:15.728Z"
      },
      {
        "duration": 8,
        "start_time": "2022-10-22T08:07:15.732Z"
      },
      {
        "duration": 11,
        "start_time": "2022-10-22T08:07:15.742Z"
      },
      {
        "duration": 11,
        "start_time": "2022-10-22T08:07:15.755Z"
      },
      {
        "duration": 7,
        "start_time": "2022-10-22T08:07:15.767Z"
      },
      {
        "duration": 9,
        "start_time": "2022-10-22T08:07:15.775Z"
      },
      {
        "duration": 13,
        "start_time": "2022-10-22T08:07:15.785Z"
      },
      {
        "duration": 14,
        "start_time": "2022-10-22T08:07:15.799Z"
      },
      {
        "duration": 6,
        "start_time": "2022-10-22T08:07:15.815Z"
      },
      {
        "duration": 5,
        "start_time": "2022-10-22T08:07:15.822Z"
      },
      {
        "duration": 8,
        "start_time": "2022-10-22T08:07:15.828Z"
      },
      {
        "duration": 7,
        "start_time": "2022-10-22T08:07:15.838Z"
      },
      {
        "duration": 8,
        "start_time": "2022-10-22T08:07:15.847Z"
      },
      {
        "duration": 11,
        "start_time": "2022-10-22T08:07:15.856Z"
      },
      {
        "duration": 5,
        "start_time": "2022-10-22T08:07:15.868Z"
      },
      {
        "duration": 16,
        "start_time": "2022-10-22T08:07:15.875Z"
      },
      {
        "duration": 4,
        "start_time": "2022-10-22T08:07:15.893Z"
      },
      {
        "duration": 7,
        "start_time": "2022-10-22T08:07:15.900Z"
      },
      {
        "duration": 6,
        "start_time": "2022-10-22T08:07:15.909Z"
      },
      {
        "duration": 7,
        "start_time": "2022-10-22T08:07:15.916Z"
      },
      {
        "duration": 7,
        "start_time": "2022-10-22T08:07:15.924Z"
      },
      {
        "duration": 6,
        "start_time": "2022-10-22T08:07:15.933Z"
      },
      {
        "duration": 9,
        "start_time": "2022-10-22T08:07:15.940Z"
      },
      {
        "duration": 6,
        "start_time": "2022-10-22T08:07:15.950Z"
      },
      {
        "duration": 6,
        "start_time": "2022-10-22T08:07:15.957Z"
      },
      {
        "duration": 5,
        "start_time": "2022-10-22T08:07:15.964Z"
      },
      {
        "duration": 9,
        "start_time": "2022-10-22T08:07:15.970Z"
      },
      {
        "duration": 21,
        "start_time": "2022-10-22T08:07:15.980Z"
      },
      {
        "duration": 5,
        "start_time": "2022-10-22T08:07:16.002Z"
      },
      {
        "duration": 7,
        "start_time": "2022-10-22T08:07:16.008Z"
      },
      {
        "duration": 16,
        "start_time": "2022-10-22T08:07:16.016Z"
      },
      {
        "duration": 3,
        "start_time": "2022-10-22T08:07:16.034Z"
      },
      {
        "duration": 22,
        "start_time": "2022-10-22T08:07:16.038Z"
      },
      {
        "duration": 13,
        "start_time": "2022-10-22T08:07:16.062Z"
      },
      {
        "duration": 150,
        "start_time": "2022-10-22T08:07:16.100Z"
      },
      {
        "duration": 133,
        "start_time": "2022-10-22T08:07:16.252Z"
      },
      {
        "duration": 130,
        "start_time": "2022-10-22T08:07:16.387Z"
      },
      {
        "duration": 5,
        "start_time": "2022-10-22T08:07:16.518Z"
      },
      {
        "duration": 12,
        "start_time": "2022-10-22T08:07:16.524Z"
      },
      {
        "duration": 6,
        "start_time": "2022-10-22T08:07:16.538Z"
      },
      {
        "duration": 7,
        "start_time": "2022-10-22T08:07:16.546Z"
      },
      {
        "duration": 10,
        "start_time": "2022-10-22T08:07:16.554Z"
      },
      {
        "duration": 8,
        "start_time": "2022-10-22T08:07:16.565Z"
      },
      {
        "duration": 34,
        "start_time": "2022-10-22T08:07:16.574Z"
      },
      {
        "duration": 5,
        "start_time": "2022-10-22T08:07:16.610Z"
      },
      {
        "duration": 6,
        "start_time": "2022-10-22T08:07:16.616Z"
      },
      {
        "duration": 6,
        "start_time": "2022-10-22T08:07:16.623Z"
      },
      {
        "duration": 27,
        "start_time": "2022-10-22T08:07:16.630Z"
      },
      {
        "duration": 4,
        "start_time": "2022-10-22T08:07:16.659Z"
      },
      {
        "duration": 38,
        "start_time": "2022-10-22T08:07:16.664Z"
      },
      {
        "duration": 6,
        "start_time": "2022-10-22T08:07:16.703Z"
      },
      {
        "duration": 19,
        "start_time": "2022-10-22T08:07:16.711Z"
      },
      {
        "duration": 19,
        "start_time": "2022-10-22T08:07:16.732Z"
      },
      {
        "duration": 5,
        "start_time": "2022-10-22T08:07:16.753Z"
      },
      {
        "duration": 4,
        "start_time": "2022-10-22T08:07:16.764Z"
      },
      {
        "duration": 39,
        "start_time": "2022-10-22T08:07:16.769Z"
      },
      {
        "duration": 5,
        "start_time": "2022-10-22T08:55:16.761Z"
      },
      {
        "duration": 1391,
        "start_time": "2022-10-22T08:55:16.769Z"
      },
      {
        "duration": 1859,
        "start_time": "2022-10-22T08:55:18.162Z"
      },
      {
        "duration": 44,
        "start_time": "2022-10-22T08:55:20.023Z"
      },
      {
        "duration": 85,
        "start_time": "2022-10-22T08:55:20.068Z"
      },
      {
        "duration": 16,
        "start_time": "2022-10-22T08:55:20.155Z"
      },
      {
        "duration": 24,
        "start_time": "2022-10-22T08:55:20.172Z"
      },
      {
        "duration": 12,
        "start_time": "2022-10-22T08:55:20.198Z"
      },
      {
        "duration": 25,
        "start_time": "2022-10-22T08:55:20.212Z"
      },
      {
        "duration": 39,
        "start_time": "2022-10-22T08:55:20.239Z"
      },
      {
        "duration": 10,
        "start_time": "2022-10-22T08:55:20.280Z"
      },
      {
        "duration": 25,
        "start_time": "2022-10-22T08:55:20.292Z"
      },
      {
        "duration": 42,
        "start_time": "2022-10-22T08:55:20.319Z"
      },
      {
        "duration": 10,
        "start_time": "2022-10-22T08:55:20.362Z"
      },
      {
        "duration": 12,
        "start_time": "2022-10-22T08:55:20.374Z"
      },
      {
        "duration": 31,
        "start_time": "2022-10-22T08:55:20.387Z"
      },
      {
        "duration": 6,
        "start_time": "2022-10-22T08:55:20.419Z"
      },
      {
        "duration": 14,
        "start_time": "2022-10-22T08:55:20.426Z"
      },
      {
        "duration": 23,
        "start_time": "2022-10-22T08:55:20.441Z"
      },
      {
        "duration": 17,
        "start_time": "2022-10-22T08:55:20.465Z"
      },
      {
        "duration": 34,
        "start_time": "2022-10-22T08:55:20.484Z"
      },
      {
        "duration": 15,
        "start_time": "2022-10-22T08:55:20.519Z"
      },
      {
        "duration": 21,
        "start_time": "2022-10-22T08:55:20.535Z"
      },
      {
        "duration": 6,
        "start_time": "2022-10-22T08:55:20.557Z"
      },
      {
        "duration": 23,
        "start_time": "2022-10-22T08:55:20.564Z"
      },
      {
        "duration": 33,
        "start_time": "2022-10-22T08:55:20.589Z"
      },
      {
        "duration": 10,
        "start_time": "2022-10-22T08:55:20.623Z"
      },
      {
        "duration": 11,
        "start_time": "2022-10-22T08:55:20.636Z"
      },
      {
        "duration": 5,
        "start_time": "2022-10-22T08:55:20.648Z"
      },
      {
        "duration": 11,
        "start_time": "2022-10-22T08:55:20.654Z"
      },
      {
        "duration": 19,
        "start_time": "2022-10-22T08:55:20.666Z"
      },
      {
        "duration": 23,
        "start_time": "2022-10-22T08:55:20.686Z"
      },
      {
        "duration": 7,
        "start_time": "2022-10-22T08:55:20.711Z"
      },
      {
        "duration": 21,
        "start_time": "2022-10-22T08:55:20.719Z"
      },
      {
        "duration": 23,
        "start_time": "2022-10-22T08:55:20.741Z"
      },
      {
        "duration": 8,
        "start_time": "2022-10-22T08:55:20.765Z"
      },
      {
        "duration": 20,
        "start_time": "2022-10-22T08:55:20.774Z"
      },
      {
        "duration": 16,
        "start_time": "2022-10-22T08:55:20.795Z"
      },
      {
        "duration": 9,
        "start_time": "2022-10-22T08:55:20.812Z"
      },
      {
        "duration": 8,
        "start_time": "2022-10-22T08:55:20.822Z"
      },
      {
        "duration": 5,
        "start_time": "2022-10-22T08:55:20.832Z"
      },
      {
        "duration": 7,
        "start_time": "2022-10-22T08:55:20.838Z"
      },
      {
        "duration": 11,
        "start_time": "2022-10-22T08:55:20.846Z"
      },
      {
        "duration": 26,
        "start_time": "2022-10-22T08:55:20.858Z"
      },
      {
        "duration": 17,
        "start_time": "2022-10-22T08:55:20.885Z"
      },
      {
        "duration": 10,
        "start_time": "2022-10-22T08:55:20.903Z"
      },
      {
        "duration": 3,
        "start_time": "2022-10-22T08:55:20.915Z"
      },
      {
        "duration": 7,
        "start_time": "2022-10-22T08:55:20.920Z"
      },
      {
        "duration": 23,
        "start_time": "2022-10-22T08:55:20.928Z"
      },
      {
        "duration": 11,
        "start_time": "2022-10-22T08:55:20.952Z"
      },
      {
        "duration": 12,
        "start_time": "2022-10-22T08:55:20.964Z"
      },
      {
        "duration": 11,
        "start_time": "2022-10-22T08:55:20.977Z"
      },
      {
        "duration": 14,
        "start_time": "2022-10-22T08:55:20.989Z"
      },
      {
        "duration": 13,
        "start_time": "2022-10-22T08:55:21.004Z"
      },
      {
        "duration": 24,
        "start_time": "2022-10-22T08:55:21.018Z"
      },
      {
        "duration": 37,
        "start_time": "2022-10-22T08:55:21.043Z"
      },
      {
        "duration": 104,
        "start_time": "2022-10-22T08:55:21.081Z"
      },
      {
        "duration": 21,
        "start_time": "2022-10-22T08:55:21.187Z"
      },
      {
        "duration": 32,
        "start_time": "2022-10-22T08:55:21.209Z"
      },
      {
        "duration": 19,
        "start_time": "2022-10-22T08:55:21.242Z"
      },
      {
        "duration": 47,
        "start_time": "2022-10-22T08:55:21.262Z"
      },
      {
        "duration": 28,
        "start_time": "2022-10-22T08:55:21.311Z"
      },
      {
        "duration": 178,
        "start_time": "2022-10-22T08:55:21.340Z"
      },
      {
        "duration": 146,
        "start_time": "2022-10-22T08:55:21.519Z"
      },
      {
        "duration": 145,
        "start_time": "2022-10-22T08:55:21.667Z"
      },
      {
        "duration": 5,
        "start_time": "2022-10-22T08:55:21.814Z"
      },
      {
        "duration": 12,
        "start_time": "2022-10-22T08:55:21.821Z"
      },
      {
        "duration": 9,
        "start_time": "2022-10-22T08:55:21.834Z"
      },
      {
        "duration": 12,
        "start_time": "2022-10-22T08:55:21.844Z"
      },
      {
        "duration": 13,
        "start_time": "2022-10-22T08:55:21.857Z"
      },
      {
        "duration": 6,
        "start_time": "2022-10-22T08:55:21.871Z"
      },
      {
        "duration": 23,
        "start_time": "2022-10-22T08:55:21.878Z"
      },
      {
        "duration": 5,
        "start_time": "2022-10-22T08:55:21.903Z"
      },
      {
        "duration": 8,
        "start_time": "2022-10-22T08:55:21.909Z"
      },
      {
        "duration": 7,
        "start_time": "2022-10-22T08:55:21.918Z"
      },
      {
        "duration": 23,
        "start_time": "2022-10-22T08:55:21.926Z"
      },
      {
        "duration": 5,
        "start_time": "2022-10-22T08:55:21.951Z"
      },
      {
        "duration": 21,
        "start_time": "2022-10-22T08:55:21.957Z"
      },
      {
        "duration": 22,
        "start_time": "2022-10-22T08:55:21.979Z"
      },
      {
        "duration": 22,
        "start_time": "2022-10-22T08:55:22.002Z"
      },
      {
        "duration": 19,
        "start_time": "2022-10-22T08:55:22.026Z"
      },
      {
        "duration": 5,
        "start_time": "2022-10-22T08:55:22.050Z"
      },
      {
        "duration": 10,
        "start_time": "2022-10-22T08:55:22.056Z"
      },
      {
        "duration": 18,
        "start_time": "2022-10-22T08:55:22.067Z"
      }
    ],
    "accelerator": "GPU",
    "colab": {
      "collapsed_sections": [],
      "provenance": []
    },
    "kernelspec": {
      "display_name": "Python 3 (ipykernel)",
      "language": "python",
      "name": "python3"
    },
    "language_info": {
      "codemirror_mode": {
        "name": "ipython",
        "version": 3
      },
      "file_extension": ".py",
      "mimetype": "text/x-python",
      "name": "python",
      "nbconvert_exporter": "python",
      "pygments_lexer": "ipython3",
      "version": "3.9.5"
    },
    "toc": {
      "base_numbering": 1,
      "nav_menu": {},
      "number_sections": true,
      "sideBar": true,
      "skip_h1_title": true,
      "title_cell": "Table of Contents",
      "title_sidebar": "Contents",
      "toc_cell": false,
      "toc_position": {},
      "toc_section_display": true,
      "toc_window_display": false
    }
  },
  "nbformat": 4,
  "nbformat_minor": 0
}